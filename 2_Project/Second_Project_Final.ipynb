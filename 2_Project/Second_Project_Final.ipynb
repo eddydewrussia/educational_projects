{
 "cells": [
  {
   "cell_type": "markdown",
   "metadata": {},
   "source": [
    "# Исследование надёжности заёмщиков\n",
    "\n",
    "Заказчик — кредитный отдел банка. Нужно разобраться, влияет ли семейное положение и количество детей клиента на факт погашения кредита в срок. Входные данные от банка — статистика о платёжеспособности клиентов.\n",
    "\n",
    "Результаты исследования будут учтены при построении модели **кредитного скоринга** — специальной системы, которая оценивает способность потенциального заёмщика вернуть кредит банку."
   ]
  },
  {
   "cell_type": "markdown",
   "metadata": {},
   "source": [
    "## Шаг 1. Откроем файл с данными и изучим общую информацию"
   ]
  },
  {
   "cell_type": "code",
   "execution_count": 268,
   "metadata": {},
   "outputs": [],
   "source": [
    "import pandas as pd"
   ]
  },
  {
   "cell_type": "code",
   "execution_count": 269,
   "metadata": {},
   "outputs": [],
   "source": [
    "import warnings\n",
    "warnings.filterwarnings('ignore')"
   ]
  },
  {
   "cell_type": "code",
   "execution_count": 270,
   "metadata": {},
   "outputs": [],
   "source": [
    "try:\n",
    "    data = pd.read_csv('/da..ta.csv') # Yandex path\n",
    "except:\n",
    "    data = pd.read_csv(\"da...r.csv\") # personal path"
   ]
  },
  {
   "cell_type": "code",
   "execution_count": 272,
   "metadata": {},
   "outputs": [
    {
     "name": "stdout",
     "output_type": "stream",
     "text": [
      "<class 'pandas.core.frame.DataFrame'>\n",
      "RangeIndex: 21525 entries, 0 to 21524\n",
      "Data columns (total 12 columns):\n",
      " #   Column            Non-Null Count  Dtype  \n",
      "---  ------            --------------  -----  \n",
      " 0   children          21525 non-null  int64  \n",
      " 1   days_employed     19351 non-null  float64\n",
      " 2   dob_years         21525 non-null  int64  \n",
      " 3   education         21525 non-null  object \n",
      " 4   education_id      21525 non-null  int64  \n",
      " 5   family_status     21525 non-null  object \n",
      " 6   family_status_id  21525 non-null  int64  \n",
      " 7   gender            21525 non-null  object \n",
      " 8   income_type       21525 non-null  object \n",
      " 9   debt              21525 non-null  int64  \n",
      " 10  total_income      19351 non-null  float64\n",
      " 11  purpose           21525 non-null  object \n",
      "dtypes: float64(2), int64(5), object(5)\n",
      "memory usage: 2.0+ MB\n"
     ]
    }
   ],
   "source": [
    "data.info() # информация о данных"
   ]
  },
  {
   "cell_type": "markdown",
   "metadata": {},
   "source": [
    "### 12 колонок, 21525 строк\n",
    "- children - дети. челочисленное. есть данные по всем строкам\n",
    "- days_employed - трудовой стаж в днях. численное значение. есть пропуски данных\n",
    "- dob_years - возраст клиента, целочисленное. есть все строки\n",
    "- education - образование. текст. вроде бы без пропусков. надо посмотреть уники\n",
    "- education_id - целочисленный идентификатор образования. можно сделать словарь\n",
    "- family_status - семейное положение. текст. \n",
    "- family_status_id - целочисленный идентификатор семейного положения. можно сделать словарь\n",
    "- gender - пол клиента. текст. хорошо бы проверить уники\n",
    "- income_type - тип занятости. текст. возможно словарь\n",
    "- debt - имел ли задолженность по возврату. целочисленное. возможно, булевое\n",
    "- total_income - ежемесячный доход - численное. есть пропуски\n",
    "- purpose - цель получения кредита - текстовое. возможен словарь"
   ]
  },
  {
   "cell_type": "markdown",
   "metadata": {},
   "source": [
    "## Проверим пропуски"
   ]
  },
  {
   "cell_type": "code",
   "execution_count": 273,
   "metadata": {},
   "outputs": [
    {
     "data": {
      "text/plain": [
       "children               0\n",
       "days_employed       2174\n",
       "dob_years              0\n",
       "education              0\n",
       "education_id           0\n",
       "family_status          0\n",
       "family_status_id       0\n",
       "gender                 0\n",
       "income_type            0\n",
       "debt                   0\n",
       "total_income        2174\n",
       "purpose                0\n",
       "dtype: int64"
      ]
     },
     "execution_count": 273,
     "metadata": {},
     "output_type": "execute_result"
    }
   ],
   "source": [
    "data.isna().sum()"
   ]
  },
  {
   "cell_type": "markdown",
   "metadata": {},
   "source": [
    "Интересное совпадение - 2174 пропуска в трудовом стаже и в ежемесячном доходе"
   ]
  },
  {
   "cell_type": "markdown",
   "metadata": {},
   "source": [
    "## Посмотрим доли отсутствующих значений "
   ]
  },
  {
   "cell_type": "code",
   "execution_count": 274,
   "metadata": {},
   "outputs": [
    {
     "data": {
      "text/plain": [
       "children            0.00\n",
       "days_employed      10.10\n",
       "dob_years           0.00\n",
       "education           0.00\n",
       "education_id        0.00\n",
       "family_status       0.00\n",
       "family_status_id    0.00\n",
       "gender              0.00\n",
       "income_type         0.00\n",
       "debt                0.00\n",
       "total_income       10.10\n",
       "purpose             0.00\n",
       "dtype: float64"
      ]
     },
     "execution_count": 274,
     "metadata": {},
     "output_type": "execute_result"
    }
   ],
   "source": [
    "round(data.isna().sum() * 100 / len(data), 2)"
   ]
  },
  {
   "cell_type": "markdown",
   "metadata": {},
   "source": [
    "Пропуски данных составляют 10%"
   ]
  },
  {
   "cell_type": "markdown",
   "metadata": {},
   "source": [
    "## Сводная информация по _параметрам_ данных"
   ]
  },
  {
   "cell_type": "code",
   "execution_count": 275,
   "metadata": {},
   "outputs": [
    {
     "data": {
      "text/html": [
       "<div>\n",
       "<style scoped>\n",
       "    .dataframe tbody tr th:only-of-type {\n",
       "        vertical-align: middle;\n",
       "    }\n",
       "\n",
       "    .dataframe tbody tr th {\n",
       "        vertical-align: top;\n",
       "    }\n",
       "\n",
       "    .dataframe thead th {\n",
       "        text-align: right;\n",
       "    }\n",
       "</style>\n",
       "<table border=\"1\" class=\"dataframe\">\n",
       "  <thead>\n",
       "    <tr style=\"text-align: right;\">\n",
       "      <th></th>\n",
       "      <th>children</th>\n",
       "      <th>days_employed</th>\n",
       "      <th>dob_years</th>\n",
       "      <th>education_id</th>\n",
       "      <th>family_status_id</th>\n",
       "      <th>debt</th>\n",
       "      <th>total_income</th>\n",
       "    </tr>\n",
       "  </thead>\n",
       "  <tbody>\n",
       "    <tr>\n",
       "      <th>count</th>\n",
       "      <td>21,525.00</td>\n",
       "      <td>19,351.00</td>\n",
       "      <td>21,525.00</td>\n",
       "      <td>21,525.00</td>\n",
       "      <td>21,525.00</td>\n",
       "      <td>21,525.00</td>\n",
       "      <td>19,351.00</td>\n",
       "    </tr>\n",
       "    <tr>\n",
       "      <th>mean</th>\n",
       "      <td>0.54</td>\n",
       "      <td>63,046.50</td>\n",
       "      <td>43.29</td>\n",
       "      <td>0.82</td>\n",
       "      <td>0.97</td>\n",
       "      <td>0.08</td>\n",
       "      <td>167,422.30</td>\n",
       "    </tr>\n",
       "    <tr>\n",
       "      <th>std</th>\n",
       "      <td>1.38</td>\n",
       "      <td>140,827.31</td>\n",
       "      <td>12.57</td>\n",
       "      <td>0.55</td>\n",
       "      <td>1.42</td>\n",
       "      <td>0.27</td>\n",
       "      <td>102,971.57</td>\n",
       "    </tr>\n",
       "    <tr>\n",
       "      <th>min</th>\n",
       "      <td>-1.00</td>\n",
       "      <td>-18,388.95</td>\n",
       "      <td>0.00</td>\n",
       "      <td>0.00</td>\n",
       "      <td>0.00</td>\n",
       "      <td>0.00</td>\n",
       "      <td>20,667.26</td>\n",
       "    </tr>\n",
       "    <tr>\n",
       "      <th>25%</th>\n",
       "      <td>0.00</td>\n",
       "      <td>-2,747.42</td>\n",
       "      <td>33.00</td>\n",
       "      <td>1.00</td>\n",
       "      <td>0.00</td>\n",
       "      <td>0.00</td>\n",
       "      <td>103,053.15</td>\n",
       "    </tr>\n",
       "    <tr>\n",
       "      <th>50%</th>\n",
       "      <td>0.00</td>\n",
       "      <td>-1,203.37</td>\n",
       "      <td>42.00</td>\n",
       "      <td>1.00</td>\n",
       "      <td>0.00</td>\n",
       "      <td>0.00</td>\n",
       "      <td>145,017.94</td>\n",
       "    </tr>\n",
       "    <tr>\n",
       "      <th>75%</th>\n",
       "      <td>1.00</td>\n",
       "      <td>-291.10</td>\n",
       "      <td>53.00</td>\n",
       "      <td>1.00</td>\n",
       "      <td>1.00</td>\n",
       "      <td>0.00</td>\n",
       "      <td>203,435.07</td>\n",
       "    </tr>\n",
       "    <tr>\n",
       "      <th>max</th>\n",
       "      <td>20.00</td>\n",
       "      <td>401,755.40</td>\n",
       "      <td>75.00</td>\n",
       "      <td>4.00</td>\n",
       "      <td>4.00</td>\n",
       "      <td>1.00</td>\n",
       "      <td>2,265,604.03</td>\n",
       "    </tr>\n",
       "  </tbody>\n",
       "</table>\n",
       "</div>"
      ],
      "text/plain": [
       "       children  days_employed  dob_years  education_id  family_status_id  \\\n",
       "count 21,525.00      19,351.00  21,525.00     21,525.00         21,525.00   \n",
       "mean       0.54      63,046.50      43.29          0.82              0.97   \n",
       "std        1.38     140,827.31      12.57          0.55              1.42   \n",
       "min       -1.00     -18,388.95       0.00          0.00              0.00   \n",
       "25%        0.00      -2,747.42      33.00          1.00              0.00   \n",
       "50%        0.00      -1,203.37      42.00          1.00              0.00   \n",
       "75%        1.00        -291.10      53.00          1.00              1.00   \n",
       "max       20.00     401,755.40      75.00          4.00              4.00   \n",
       "\n",
       "           debt  total_income  \n",
       "count 21,525.00     19,351.00  \n",
       "mean       0.08    167,422.30  \n",
       "std        0.27    102,971.57  \n",
       "min        0.00     20,667.26  \n",
       "25%        0.00    103,053.15  \n",
       "50%        0.00    145,017.94  \n",
       "75%        0.00    203,435.07  \n",
       "max        1.00  2,265,604.03  "
      ]
     },
     "execution_count": 275,
     "metadata": {},
     "output_type": "execute_result"
    }
   ],
   "source": [
    "data.describe()"
   ]
  },
  {
   "cell_type": "markdown",
   "metadata": {},
   "source": [
    "# Далее - прорабатываем данные по колонкам"
   ]
  },
  {
   "cell_type": "markdown",
   "metadata": {},
   "source": [
    "## 1. children - количество детей"
   ]
  },
  {
   "cell_type": "markdown",
   "metadata": {},
   "source": [
    "### проверим на уникальность "
   ]
  },
  {
   "cell_type": "code",
   "execution_count": 276,
   "metadata": {},
   "outputs": [
    {
     "data": {
      "text/plain": [
       "array([ 1,  0,  3,  2, -1,  4, 20,  5])"
      ]
     },
     "execution_count": 276,
     "metadata": {},
     "output_type": "execute_result"
    }
   ],
   "source": [
    "data['children'].unique()"
   ]
  },
  {
   "cell_type": "markdown",
   "metadata": {},
   "source": [
    "#### С количеством детей не всё в порядке.\n",
    "1. Отрицательное значение - это описка. надо внести то же значение, но положительное\n",
    "2. Огромное значение - 20! Тоже описка... Удалить лишний НОЛЬ в записи \n",
    "Делаем:"
   ]
  },
  {
   "cell_type": "code",
   "execution_count": 277,
   "metadata": {},
   "outputs": [
    {
     "data": {
      "text/plain": [
       "array([ 1,  0,  3,  2,  4, 20,  5])"
      ]
     },
     "execution_count": 277,
     "metadata": {},
     "output_type": "execute_result"
    }
   ],
   "source": [
    "# ЗАМЕНА ОТРИЦАТЕЛЬНОГО ЗНАЧЕНИЯ\n",
    "data.loc[data['children'] == -1, 'children'] = 1\n",
    "data['children'].unique()"
   ]
  },
  {
   "cell_type": "markdown",
   "metadata": {},
   "source": [
    "-1 успешно заменил на 1\n",
    "Теперь черёд за 20"
   ]
  },
  {
   "cell_type": "code",
   "execution_count": 278,
   "metadata": {},
   "outputs": [
    {
     "data": {
      "text/plain": [
       "array([1, 0, 3, 2, 4, 5])"
      ]
     },
     "execution_count": 278,
     "metadata": {},
     "output_type": "execute_result"
    }
   ],
   "source": [
    "data.loc[data['children'] == 20, 'children'] = 2\n",
    "data['children'].unique()"
   ]
  },
  {
   "cell_type": "markdown",
   "metadata": {},
   "source": [
    "#### Количество детей - в норме!\n",
    "\n",
    "    Посмотрим распределение количества детей в выборке"
   ]
  },
  {
   "cell_type": "code",
   "execution_count": 279,
   "metadata": {},
   "outputs": [
    {
     "data": {
      "text/plain": [
       "<AxesSubplot:ylabel='Frequency'>"
      ]
     },
     "execution_count": 279,
     "metadata": {},
     "output_type": "execute_result"
    },
    {
     "data": {
      "image/png": "[encoded data removed]",
      "text/plain": [
       "<Figure size 432x288 with 1 Axes>"
      ]
     },
     "metadata": {
      "needs_background": "light"
     },
     "output_type": "display_data"
    }
   ],
   "source": [
    "childrens = data['children']\n",
    "\n",
    "childrens.plot(kind='hist')"
   ]
  },
  {
   "cell_type": "markdown",
   "metadata": {},
   "source": [
    "### 2. days_employed - трудовой стаж.\n"
   ]
  },
  {
   "cell_type": "markdown",
   "metadata": {},
   "source": [
    "из проверки пропуском известно, что данные по трудовому стажу содержат ~10% пропусков"
   ]
  },
  {
   "cell_type": "markdown",
   "metadata": {},
   "source": [
    "### проверим на уникальность "
   ]
  },
  {
   "cell_type": "code",
   "execution_count": null,
   "metadata": {},
   "outputs": [],
   "source": [
    "# посмотрим список снизу\n",
    "sorted(data['days_employed'].unique())"
   ]
  },
  {
   "cell_type": "code",
   "execution_count": null,
   "metadata": {
    "scrolled": true
   },
   "outputs": [],
   "source": [
    "# посмотрим список сверху\n",
    "sorted(data['days_employed'].unique(), reverse=True)"
   ]
  },
  {
   "cell_type": "markdown",
   "metadata": {},
   "source": [
    "#### Выявлено **две** проблемы\n",
    "1. отрицательные значения\n",
    "2. странный формат\n",
    "\n",
    "Сначала приму **гипотезу** о том, что отрицательные значения - это описка при вводе данных.\n",
    "Почему?\n",
    "Отрицательные значения есть и среди пненсионеров, и среди работающих в настоящее время клиентов.\n",
    "Их надо превратить в положительные значения."
   ]
  },
  {
   "cell_type": "code",
   "execution_count": null,
   "metadata": {
    "scrolled": true
   },
   "outputs": [],
   "source": [
    "data.loc[data['days_employed'] < 0, 'days_employed'] = abs(data['days_employed'])\n",
    "# проверка\n",
    "sorted(data['days_employed'].unique())"
   ]
  },
  {
   "cell_type": "markdown",
   "metadata": {},
   "source": [
    "##### Отрицательные значения заменены на положительные.\n"
   ]
  },
  {
   "cell_type": "markdown",
   "metadata": {},
   "source": [
    "#### Следющий шаг - это странный формат численного значения.\n",
    "\n",
    "Минимальное значения в колонке - 24.+\n",
    "Как известно, во временных отрезках, значение 24 - это количество часов в сутках.\n",
    "Значит, представленные численные данные следует разделить на 24, и получиться количество дней общего трудового стажа.\n",
    "\n",
    "Результат сохраняю в той же колонке ."
   ]
  },
  {
   "cell_type": "code",
   "execution_count": null,
   "metadata": {
    "scrolled": true
   },
   "outputs": [],
   "source": [
    "data['days_employed'] = data['days_employed'] / 24\n",
    "# проверка\n",
    "sorted(data['days_employed'].unique())"
   ]
  },
  {
   "cell_type": "code",
   "execution_count": null,
   "metadata": {
    "scrolled": true
   },
   "outputs": [],
   "source": [
    "# проверка сверху\n",
    "sorted(data['days_employed'].unique(), reverse=True)"
   ]
  },
  {
   "cell_type": "markdown",
   "metadata": {},
   "source": [
    "#### Конверсия в дни из часов удалась.\n",
    "Но что такое 16739 дней?"
   ]
  },
  {
   "cell_type": "code",
   "execution_count": 285,
   "metadata": {},
   "outputs": [
    {
     "name": "stdout",
     "output_type": "stream",
     "text": [
      "16739 дней это 46 лет\n"
     ]
    }
   ],
   "source": [
    "print('16739 дней это', round(16739/365), \"лет\" )"
   ]
  },
  {
   "cell_type": "markdown",
   "metadata": {},
   "source": [
    "46 лет трудового стажа - серьёзная цифра.\n",
    "Перед выходом на пенсию, у меня такой будет.\n",
    "Думаю, стоит проверить, нет ли ошибок здесь.\n",
    "\n",
    "Если разница между возрастом и стажем меньше, чем 18 лет, стоит внимательно посмотреть на такие строки.\n",
    "\n",
    "НО перед этим обращаю внимание на то, что в колонке со стажем есть пропуски.\n",
    "Надо с ними поработать и заменить на значение \"0\". Ведь если нет данных по стажу, значит трудового стажа просто нет.\n",
    "Или есть, но он не указан?\n"
   ]
  },
  {
   "cell_type": "markdown",
   "metadata": {},
   "source": [
    "#### Выведу все строки с пропущенным значением стажа."
   ]
  },
  {
   "cell_type": "code",
   "execution_count": 286,
   "metadata": {},
   "outputs": [
    {
     "data": {
      "text/html": [
       "<div>\n",
       "<style scoped>\n",
       "    .dataframe tbody tr th:only-of-type {\n",
       "        vertical-align: middle;\n",
       "    }\n",
       "\n",
       "    .dataframe tbody tr th {\n",
       "        vertical-align: top;\n",
       "    }\n",
       "\n",
       "    .dataframe thead th {\n",
       "        text-align: right;\n",
       "    }\n",
       "</style>\n",
       "<table border=\"1\" class=\"dataframe\">\n",
       "  <thead>\n",
       "    <tr style=\"text-align: right;\">\n",
       "      <th></th>\n",
       "      <th>children</th>\n",
       "      <th>days_employed</th>\n",
       "      <th>dob_years</th>\n",
       "      <th>education</th>\n",
       "      <th>education_id</th>\n",
       "      <th>family_status</th>\n",
       "      <th>family_status_id</th>\n",
       "      <th>gender</th>\n",
       "      <th>income_type</th>\n",
       "      <th>debt</th>\n",
       "      <th>total_income</th>\n",
       "      <th>purpose</th>\n",
       "    </tr>\n",
       "  </thead>\n",
       "  <tbody>\n",
       "    <tr>\n",
       "      <th>17437</th>\n",
       "      <td>1</td>\n",
       "      <td>1.01</td>\n",
       "      <td>31</td>\n",
       "      <td>среднее</td>\n",
       "      <td>1</td>\n",
       "      <td>женат / замужем</td>\n",
       "      <td>0</td>\n",
       "      <td>F</td>\n",
       "      <td>сотрудник</td>\n",
       "      <td>1</td>\n",
       "      <td>166,952.42</td>\n",
       "      <td>высшее образование</td>\n",
       "    </tr>\n",
       "    <tr>\n",
       "      <th>8336</th>\n",
       "      <td>0</td>\n",
       "      <td>1.01</td>\n",
       "      <td>32</td>\n",
       "      <td>высшее</td>\n",
       "      <td>0</td>\n",
       "      <td>Не женат / не замужем</td>\n",
       "      <td>4</td>\n",
       "      <td>M</td>\n",
       "      <td>сотрудник</td>\n",
       "      <td>0</td>\n",
       "      <td>124,115.37</td>\n",
       "      <td>получение дополнительного образования</td>\n",
       "    </tr>\n",
       "    <tr>\n",
       "      <th>6157</th>\n",
       "      <td>2</td>\n",
       "      <td>1.26</td>\n",
       "      <td>47</td>\n",
       "      <td>среднее</td>\n",
       "      <td>1</td>\n",
       "      <td>гражданский брак</td>\n",
       "      <td>1</td>\n",
       "      <td>M</td>\n",
       "      <td>компаньон</td>\n",
       "      <td>0</td>\n",
       "      <td>231,461.19</td>\n",
       "      <td>свадьба</td>\n",
       "    </tr>\n",
       "    <tr>\n",
       "      <th>9683</th>\n",
       "      <td>0</td>\n",
       "      <td>1.40</td>\n",
       "      <td>43</td>\n",
       "      <td>среднее</td>\n",
       "      <td>1</td>\n",
       "      <td>Не женат / не замужем</td>\n",
       "      <td>4</td>\n",
       "      <td>M</td>\n",
       "      <td>сотрудник</td>\n",
       "      <td>1</td>\n",
       "      <td>128,555.90</td>\n",
       "      <td>приобретение автомобиля</td>\n",
       "    </tr>\n",
       "    <tr>\n",
       "      <th>2127</th>\n",
       "      <td>1</td>\n",
       "      <td>1.45</td>\n",
       "      <td>31</td>\n",
       "      <td>высшее</td>\n",
       "      <td>0</td>\n",
       "      <td>женат / замужем</td>\n",
       "      <td>0</td>\n",
       "      <td>F</td>\n",
       "      <td>компаньон</td>\n",
       "      <td>0</td>\n",
       "      <td>90,557.99</td>\n",
       "      <td>получение образования</td>\n",
       "    </tr>\n",
       "    <tr>\n",
       "      <th>...</th>\n",
       "      <td>...</td>\n",
       "      <td>...</td>\n",
       "      <td>...</td>\n",
       "      <td>...</td>\n",
       "      <td>...</td>\n",
       "      <td>...</td>\n",
       "      <td>...</td>\n",
       "      <td>...</td>\n",
       "      <td>...</td>\n",
       "      <td>...</td>\n",
       "      <td>...</td>\n",
       "      <td>...</td>\n",
       "    </tr>\n",
       "    <tr>\n",
       "      <th>21489</th>\n",
       "      <td>2</td>\n",
       "      <td>nan</td>\n",
       "      <td>47</td>\n",
       "      <td>Среднее</td>\n",
       "      <td>1</td>\n",
       "      <td>женат / замужем</td>\n",
       "      <td>0</td>\n",
       "      <td>M</td>\n",
       "      <td>компаньон</td>\n",
       "      <td>0</td>\n",
       "      <td>nan</td>\n",
       "      <td>сделка с автомобилем</td>\n",
       "    </tr>\n",
       "    <tr>\n",
       "      <th>21495</th>\n",
       "      <td>1</td>\n",
       "      <td>nan</td>\n",
       "      <td>50</td>\n",
       "      <td>среднее</td>\n",
       "      <td>1</td>\n",
       "      <td>гражданский брак</td>\n",
       "      <td>1</td>\n",
       "      <td>F</td>\n",
       "      <td>сотрудник</td>\n",
       "      <td>0</td>\n",
       "      <td>nan</td>\n",
       "      <td>свадьба</td>\n",
       "    </tr>\n",
       "    <tr>\n",
       "      <th>21497</th>\n",
       "      <td>0</td>\n",
       "      <td>nan</td>\n",
       "      <td>48</td>\n",
       "      <td>ВЫСШЕЕ</td>\n",
       "      <td>0</td>\n",
       "      <td>женат / замужем</td>\n",
       "      <td>0</td>\n",
       "      <td>F</td>\n",
       "      <td>компаньон</td>\n",
       "      <td>0</td>\n",
       "      <td>nan</td>\n",
       "      <td>строительство недвижимости</td>\n",
       "    </tr>\n",
       "    <tr>\n",
       "      <th>21502</th>\n",
       "      <td>1</td>\n",
       "      <td>nan</td>\n",
       "      <td>42</td>\n",
       "      <td>среднее</td>\n",
       "      <td>1</td>\n",
       "      <td>женат / замужем</td>\n",
       "      <td>0</td>\n",
       "      <td>F</td>\n",
       "      <td>сотрудник</td>\n",
       "      <td>0</td>\n",
       "      <td>nan</td>\n",
       "      <td>строительство жилой недвижимости</td>\n",
       "    </tr>\n",
       "    <tr>\n",
       "      <th>21510</th>\n",
       "      <td>2</td>\n",
       "      <td>nan</td>\n",
       "      <td>28</td>\n",
       "      <td>среднее</td>\n",
       "      <td>1</td>\n",
       "      <td>женат / замужем</td>\n",
       "      <td>0</td>\n",
       "      <td>F</td>\n",
       "      <td>сотрудник</td>\n",
       "      <td>0</td>\n",
       "      <td>nan</td>\n",
       "      <td>приобретение автомобиля</td>\n",
       "    </tr>\n",
       "  </tbody>\n",
       "</table>\n",
       "<p>21525 rows × 12 columns</p>\n",
       "</div>"
      ],
      "text/plain": [
       "       children  days_employed  dob_years education  education_id  \\\n",
       "17437         1           1.01         31   среднее             1   \n",
       "8336          0           1.01         32    высшее             0   \n",
       "6157          2           1.26         47   среднее             1   \n",
       "9683          0           1.40         43   среднее             1   \n",
       "2127          1           1.45         31    высшее             0   \n",
       "...         ...            ...        ...       ...           ...   \n",
       "21489         2            nan         47   Среднее             1   \n",
       "21495         1            nan         50   среднее             1   \n",
       "21497         0            nan         48    ВЫСШЕЕ             0   \n",
       "21502         1            nan         42   среднее             1   \n",
       "21510         2            nan         28   среднее             1   \n",
       "\n",
       "               family_status  family_status_id gender income_type  debt  \\\n",
       "17437        женат / замужем                 0      F   сотрудник     1   \n",
       "8336   Не женат / не замужем                 4      M   сотрудник     0   \n",
       "6157        гражданский брак                 1      M   компаньон     0   \n",
       "9683   Не женат / не замужем                 4      M   сотрудник     1   \n",
       "2127         женат / замужем                 0      F   компаньон     0   \n",
       "...                      ...               ...    ...         ...   ...   \n",
       "21489        женат / замужем                 0      M   компаньон     0   \n",
       "21495       гражданский брак                 1      F   сотрудник     0   \n",
       "21497        женат / замужем                 0      F   компаньон     0   \n",
       "21502        женат / замужем                 0      F   сотрудник     0   \n",
       "21510        женат / замужем                 0      F   сотрудник     0   \n",
       "\n",
       "       total_income                                purpose  \n",
       "17437    166,952.42                     высшее образование  \n",
       "8336     124,115.37  получение дополнительного образования  \n",
       "6157     231,461.19                                свадьба  \n",
       "9683     128,555.90                приобретение автомобиля  \n",
       "2127      90,557.99                  получение образования  \n",
       "...             ...                                    ...  \n",
       "21489           nan                   сделка с автомобилем  \n",
       "21495           nan                                свадьба  \n",
       "21497           nan             строительство недвижимости  \n",
       "21502           nan       строительство жилой недвижимости  \n",
       "21510           nan                приобретение автомобиля  \n",
       "\n",
       "[21525 rows x 12 columns]"
      ]
     },
     "execution_count": 286,
     "metadata": {},
     "output_type": "execute_result"
    }
   ],
   "source": [
    "data.sort_values(by='days_employed')"
   ]
  },
  {
   "cell_type": "markdown",
   "metadata": {},
   "source": [
    "50 лет, среднее образование, женат и **нет стажа?** Не может такого быть.\n",
    "Вывод:\n",
    "данные о стаже в строках со значением Nan говорят о пропусках, а не отстутствии стажа.\n",
    "\n",
    "Сколько таких строк?\n",
    "2174 строки.\n",
    "Это 10% от общего  числа данных.\n",
    "\n",
    "Я пока что не имею опыта в банковской сфере и поэтому спрошу бизнес, заполнить ли эти данные \"0\" или высчитывать медианные значения в корреляции с возрастом (и образованием)."
   ]
  },
  {
   "cell_type": "markdown",
   "metadata": {},
   "source": [
    "#### **посоветовался с бизнесом**\n",
    "решено пропуски данных о стаже работы оставить **\"как есть\"**\n"
   ]
  },
  {
   "cell_type": "markdown",
   "metadata": {},
   "source": [
    "#### Проверка реальности больших сроков трудового стажа.\n",
    "Детство = Возраст - стаж (в годах)"
   ]
  },
  {
   "cell_type": "code",
   "execution_count": 287,
   "metadata": {},
   "outputs": [
    {
     "data": {
      "text/html": [
       "<div>\n",
       "<style scoped>\n",
       "    .dataframe tbody tr th:only-of-type {\n",
       "        vertical-align: middle;\n",
       "    }\n",
       "\n",
       "    .dataframe tbody tr th {\n",
       "        vertical-align: top;\n",
       "    }\n",
       "\n",
       "    .dataframe thead th {\n",
       "        text-align: right;\n",
       "    }\n",
       "</style>\n",
       "<table border=\"1\" class=\"dataframe\">\n",
       "  <thead>\n",
       "    <tr style=\"text-align: right;\">\n",
       "      <th></th>\n",
       "      <th>children</th>\n",
       "      <th>days_employed</th>\n",
       "      <th>dob_years</th>\n",
       "      <th>education</th>\n",
       "      <th>education_id</th>\n",
       "      <th>family_status</th>\n",
       "      <th>family_status_id</th>\n",
       "      <th>gender</th>\n",
       "      <th>income_type</th>\n",
       "      <th>debt</th>\n",
       "      <th>total_income</th>\n",
       "      <th>purpose</th>\n",
       "      <th>childhood</th>\n",
       "    </tr>\n",
       "  </thead>\n",
       "  <tbody>\n",
       "    <tr>\n",
       "      <th>14514</th>\n",
       "      <td>0</td>\n",
       "      <td>16,708.02</td>\n",
       "      <td>0</td>\n",
       "      <td>среднее</td>\n",
       "      <td>1</td>\n",
       "      <td>вдовец / вдова</td>\n",
       "      <td>2</td>\n",
       "      <td>F</td>\n",
       "      <td>пенсионер</td>\n",
       "      <td>0</td>\n",
       "      <td>87,215.41</td>\n",
       "      <td>заняться высшим образованием</td>\n",
       "      <td>-45.78</td>\n",
       "    </tr>\n",
       "    <tr>\n",
       "      <th>578</th>\n",
       "      <td>0</td>\n",
       "      <td>16,577.36</td>\n",
       "      <td>0</td>\n",
       "      <td>среднее</td>\n",
       "      <td>1</td>\n",
       "      <td>женат / замужем</td>\n",
       "      <td>0</td>\n",
       "      <td>F</td>\n",
       "      <td>пенсионер</td>\n",
       "      <td>0</td>\n",
       "      <td>97,620.69</td>\n",
       "      <td>строительство собственной недвижимости</td>\n",
       "      <td>-45.42</td>\n",
       "    </tr>\n",
       "    <tr>\n",
       "      <th>16861</th>\n",
       "      <td>0</td>\n",
       "      <td>16,495.58</td>\n",
       "      <td>0</td>\n",
       "      <td>среднее</td>\n",
       "      <td>1</td>\n",
       "      <td>в разводе</td>\n",
       "      <td>3</td>\n",
       "      <td>F</td>\n",
       "      <td>пенсионер</td>\n",
       "      <td>0</td>\n",
       "      <td>218,284.76</td>\n",
       "      <td>покупка жилья</td>\n",
       "      <td>-45.19</td>\n",
       "    </tr>\n",
       "    <tr>\n",
       "      <th>14659</th>\n",
       "      <td>0</td>\n",
       "      <td>16,456.22</td>\n",
       "      <td>0</td>\n",
       "      <td>среднее</td>\n",
       "      <td>1</td>\n",
       "      <td>Не женат / не замужем</td>\n",
       "      <td>4</td>\n",
       "      <td>F</td>\n",
       "      <td>пенсионер</td>\n",
       "      <td>0</td>\n",
       "      <td>34,974.45</td>\n",
       "      <td>жилье</td>\n",
       "      <td>-45.09</td>\n",
       "    </tr>\n",
       "    <tr>\n",
       "      <th>10188</th>\n",
       "      <td>0</td>\n",
       "      <td>15,486.05</td>\n",
       "      <td>0</td>\n",
       "      <td>среднее</td>\n",
       "      <td>1</td>\n",
       "      <td>женат / замужем</td>\n",
       "      <td>0</td>\n",
       "      <td>M</td>\n",
       "      <td>пенсионер</td>\n",
       "      <td>0</td>\n",
       "      <td>102,621.70</td>\n",
       "      <td>операции с недвижимостью</td>\n",
       "      <td>-42.43</td>\n",
       "    </tr>\n",
       "    <tr>\n",
       "      <th>...</th>\n",
       "      <td>...</td>\n",
       "      <td>...</td>\n",
       "      <td>...</td>\n",
       "      <td>...</td>\n",
       "      <td>...</td>\n",
       "      <td>...</td>\n",
       "      <td>...</td>\n",
       "      <td>...</td>\n",
       "      <td>...</td>\n",
       "      <td>...</td>\n",
       "      <td>...</td>\n",
       "      <td>...</td>\n",
       "      <td>...</td>\n",
       "    </tr>\n",
       "    <tr>\n",
       "      <th>21489</th>\n",
       "      <td>2</td>\n",
       "      <td>nan</td>\n",
       "      <td>47</td>\n",
       "      <td>Среднее</td>\n",
       "      <td>1</td>\n",
       "      <td>женат / замужем</td>\n",
       "      <td>0</td>\n",
       "      <td>M</td>\n",
       "      <td>компаньон</td>\n",
       "      <td>0</td>\n",
       "      <td>nan</td>\n",
       "      <td>сделка с автомобилем</td>\n",
       "      <td>nan</td>\n",
       "    </tr>\n",
       "    <tr>\n",
       "      <th>21495</th>\n",
       "      <td>1</td>\n",
       "      <td>nan</td>\n",
       "      <td>50</td>\n",
       "      <td>среднее</td>\n",
       "      <td>1</td>\n",
       "      <td>гражданский брак</td>\n",
       "      <td>1</td>\n",
       "      <td>F</td>\n",
       "      <td>сотрудник</td>\n",
       "      <td>0</td>\n",
       "      <td>nan</td>\n",
       "      <td>свадьба</td>\n",
       "      <td>nan</td>\n",
       "    </tr>\n",
       "    <tr>\n",
       "      <th>21497</th>\n",
       "      <td>0</td>\n",
       "      <td>nan</td>\n",
       "      <td>48</td>\n",
       "      <td>ВЫСШЕЕ</td>\n",
       "      <td>0</td>\n",
       "      <td>женат / замужем</td>\n",
       "      <td>0</td>\n",
       "      <td>F</td>\n",
       "      <td>компаньон</td>\n",
       "      <td>0</td>\n",
       "      <td>nan</td>\n",
       "      <td>строительство недвижимости</td>\n",
       "      <td>nan</td>\n",
       "    </tr>\n",
       "    <tr>\n",
       "      <th>21502</th>\n",
       "      <td>1</td>\n",
       "      <td>nan</td>\n",
       "      <td>42</td>\n",
       "      <td>среднее</td>\n",
       "      <td>1</td>\n",
       "      <td>женат / замужем</td>\n",
       "      <td>0</td>\n",
       "      <td>F</td>\n",
       "      <td>сотрудник</td>\n",
       "      <td>0</td>\n",
       "      <td>nan</td>\n",
       "      <td>строительство жилой недвижимости</td>\n",
       "      <td>nan</td>\n",
       "    </tr>\n",
       "    <tr>\n",
       "      <th>21510</th>\n",
       "      <td>2</td>\n",
       "      <td>nan</td>\n",
       "      <td>28</td>\n",
       "      <td>среднее</td>\n",
       "      <td>1</td>\n",
       "      <td>женат / замужем</td>\n",
       "      <td>0</td>\n",
       "      <td>F</td>\n",
       "      <td>сотрудник</td>\n",
       "      <td>0</td>\n",
       "      <td>nan</td>\n",
       "      <td>приобретение автомобиля</td>\n",
       "      <td>nan</td>\n",
       "    </tr>\n",
       "  </tbody>\n",
       "</table>\n",
       "<p>21525 rows × 13 columns</p>\n",
       "</div>"
      ],
      "text/plain": [
       "       children  days_employed  dob_years education  education_id  \\\n",
       "14514         0      16,708.02          0   среднее             1   \n",
       "578           0      16,577.36          0   среднее             1   \n",
       "16861         0      16,495.58          0   среднее             1   \n",
       "14659         0      16,456.22          0   среднее             1   \n",
       "10188         0      15,486.05          0   среднее             1   \n",
       "...         ...            ...        ...       ...           ...   \n",
       "21489         2            nan         47   Среднее             1   \n",
       "21495         1            nan         50   среднее             1   \n",
       "21497         0            nan         48    ВЫСШЕЕ             0   \n",
       "21502         1            nan         42   среднее             1   \n",
       "21510         2            nan         28   среднее             1   \n",
       "\n",
       "               family_status  family_status_id gender income_type  debt  \\\n",
       "14514         вдовец / вдова                 2      F   пенсионер     0   \n",
       "578          женат / замужем                 0      F   пенсионер     0   \n",
       "16861              в разводе                 3      F   пенсионер     0   \n",
       "14659  Не женат / не замужем                 4      F   пенсионер     0   \n",
       "10188        женат / замужем                 0      M   пенсионер     0   \n",
       "...                      ...               ...    ...         ...   ...   \n",
       "21489        женат / замужем                 0      M   компаньон     0   \n",
       "21495       гражданский брак                 1      F   сотрудник     0   \n",
       "21497        женат / замужем                 0      F   компаньон     0   \n",
       "21502        женат / замужем                 0      F   сотрудник     0   \n",
       "21510        женат / замужем                 0      F   сотрудник     0   \n",
       "\n",
       "       total_income                                 purpose  childhood  \n",
       "14514     87,215.41            заняться высшим образованием     -45.78  \n",
       "578       97,620.69  строительство собственной недвижимости     -45.42  \n",
       "16861    218,284.76                           покупка жилья     -45.19  \n",
       "14659     34,974.45                                   жилье     -45.09  \n",
       "10188    102,621.70                операции с недвижимостью     -42.43  \n",
       "...             ...                                     ...        ...  \n",
       "21489           nan                    сделка с автомобилем        nan  \n",
       "21495           nan                                 свадьба        nan  \n",
       "21497           nan              строительство недвижимости        nan  \n",
       "21502           nan        строительство жилой недвижимости        nan  \n",
       "21510           nan                 приобретение автомобиля        nan  \n",
       "\n",
       "[21525 rows x 13 columns]"
      ]
     },
     "execution_count": 287,
     "metadata": {},
     "output_type": "execute_result"
    }
   ],
   "source": [
    "data['childhood'] = data['dob_years'] - (data['days_employed'] / 365)\n",
    "data.sort_values(by='childhood')\n"
   ]
  },
  {
   "cell_type": "markdown",
   "metadata": {},
   "source": [
    "Вывод отсортированных по \"Детству\" данных показал, что есть отрицательные значения.\n",
    "Это в тех строках, где не указан возраст.\n",
    "Отберём такие строки в отдельную табличку"
   ]
  },
  {
   "cell_type": "code",
   "execution_count": 288,
   "metadata": {},
   "outputs": [
    {
     "data": {
      "text/html": [
       "<div>\n",
       "<style scoped>\n",
       "    .dataframe tbody tr th:only-of-type {\n",
       "        vertical-align: middle;\n",
       "    }\n",
       "\n",
       "    .dataframe tbody tr th {\n",
       "        vertical-align: top;\n",
       "    }\n",
       "\n",
       "    .dataframe thead th {\n",
       "        text-align: right;\n",
       "    }\n",
       "</style>\n",
       "<table border=\"1\" class=\"dataframe\">\n",
       "  <thead>\n",
       "    <tr style=\"text-align: right;\">\n",
       "      <th></th>\n",
       "      <th>children</th>\n",
       "      <th>days_employed</th>\n",
       "      <th>dob_years</th>\n",
       "      <th>education</th>\n",
       "      <th>education_id</th>\n",
       "      <th>family_status</th>\n",
       "      <th>family_status_id</th>\n",
       "      <th>gender</th>\n",
       "      <th>income_type</th>\n",
       "      <th>debt</th>\n",
       "      <th>total_income</th>\n",
       "      <th>purpose</th>\n",
       "      <th>childhood</th>\n",
       "    </tr>\n",
       "  </thead>\n",
       "  <tbody>\n",
       "    <tr>\n",
       "      <th>14514</th>\n",
       "      <td>0</td>\n",
       "      <td>16,708.02</td>\n",
       "      <td>0</td>\n",
       "      <td>среднее</td>\n",
       "      <td>1</td>\n",
       "      <td>вдовец / вдова</td>\n",
       "      <td>2</td>\n",
       "      <td>F</td>\n",
       "      <td>пенсионер</td>\n",
       "      <td>0</td>\n",
       "      <td>87,215.41</td>\n",
       "      <td>заняться высшим образованием</td>\n",
       "      <td>-45.78</td>\n",
       "    </tr>\n",
       "    <tr>\n",
       "      <th>578</th>\n",
       "      <td>0</td>\n",
       "      <td>16,577.36</td>\n",
       "      <td>0</td>\n",
       "      <td>среднее</td>\n",
       "      <td>1</td>\n",
       "      <td>женат / замужем</td>\n",
       "      <td>0</td>\n",
       "      <td>F</td>\n",
       "      <td>пенсионер</td>\n",
       "      <td>0</td>\n",
       "      <td>97,620.69</td>\n",
       "      <td>строительство собственной недвижимости</td>\n",
       "      <td>-45.42</td>\n",
       "    </tr>\n",
       "    <tr>\n",
       "      <th>16861</th>\n",
       "      <td>0</td>\n",
       "      <td>16,495.58</td>\n",
       "      <td>0</td>\n",
       "      <td>среднее</td>\n",
       "      <td>1</td>\n",
       "      <td>в разводе</td>\n",
       "      <td>3</td>\n",
       "      <td>F</td>\n",
       "      <td>пенсионер</td>\n",
       "      <td>0</td>\n",
       "      <td>218,284.76</td>\n",
       "      <td>покупка жилья</td>\n",
       "      <td>-45.19</td>\n",
       "    </tr>\n",
       "    <tr>\n",
       "      <th>14659</th>\n",
       "      <td>0</td>\n",
       "      <td>16,456.22</td>\n",
       "      <td>0</td>\n",
       "      <td>среднее</td>\n",
       "      <td>1</td>\n",
       "      <td>Не женат / не замужем</td>\n",
       "      <td>4</td>\n",
       "      <td>F</td>\n",
       "      <td>пенсионер</td>\n",
       "      <td>0</td>\n",
       "      <td>34,974.45</td>\n",
       "      <td>жилье</td>\n",
       "      <td>-45.09</td>\n",
       "    </tr>\n",
       "    <tr>\n",
       "      <th>10188</th>\n",
       "      <td>0</td>\n",
       "      <td>15,486.05</td>\n",
       "      <td>0</td>\n",
       "      <td>среднее</td>\n",
       "      <td>1</td>\n",
       "      <td>женат / замужем</td>\n",
       "      <td>0</td>\n",
       "      <td>M</td>\n",
       "      <td>пенсионер</td>\n",
       "      <td>0</td>\n",
       "      <td>102,621.70</td>\n",
       "      <td>операции с недвижимостью</td>\n",
       "      <td>-42.43</td>\n",
       "    </tr>\n",
       "    <tr>\n",
       "      <th>...</th>\n",
       "      <td>...</td>\n",
       "      <td>...</td>\n",
       "      <td>...</td>\n",
       "      <td>...</td>\n",
       "      <td>...</td>\n",
       "      <td>...</td>\n",
       "      <td>...</td>\n",
       "      <td>...</td>\n",
       "      <td>...</td>\n",
       "      <td>...</td>\n",
       "      <td>...</td>\n",
       "      <td>...</td>\n",
       "      <td>...</td>\n",
       "    </tr>\n",
       "    <tr>\n",
       "      <th>6670</th>\n",
       "      <td>0</td>\n",
       "      <td>nan</td>\n",
       "      <td>0</td>\n",
       "      <td>Высшее</td>\n",
       "      <td>0</td>\n",
       "      <td>в разводе</td>\n",
       "      <td>3</td>\n",
       "      <td>F</td>\n",
       "      <td>пенсионер</td>\n",
       "      <td>0</td>\n",
       "      <td>nan</td>\n",
       "      <td>покупка жилой недвижимости</td>\n",
       "      <td>nan</td>\n",
       "    </tr>\n",
       "    <tr>\n",
       "      <th>8574</th>\n",
       "      <td>0</td>\n",
       "      <td>nan</td>\n",
       "      <td>0</td>\n",
       "      <td>среднее</td>\n",
       "      <td>1</td>\n",
       "      <td>женат / замужем</td>\n",
       "      <td>0</td>\n",
       "      <td>F</td>\n",
       "      <td>сотрудник</td>\n",
       "      <td>0</td>\n",
       "      <td>nan</td>\n",
       "      <td>недвижимость</td>\n",
       "      <td>nan</td>\n",
       "    </tr>\n",
       "    <tr>\n",
       "      <th>12403</th>\n",
       "      <td>3</td>\n",
       "      <td>nan</td>\n",
       "      <td>0</td>\n",
       "      <td>среднее</td>\n",
       "      <td>1</td>\n",
       "      <td>женат / замужем</td>\n",
       "      <td>0</td>\n",
       "      <td>M</td>\n",
       "      <td>сотрудник</td>\n",
       "      <td>0</td>\n",
       "      <td>nan</td>\n",
       "      <td>операции с коммерческой недвижимостью</td>\n",
       "      <td>nan</td>\n",
       "    </tr>\n",
       "    <tr>\n",
       "      <th>13741</th>\n",
       "      <td>0</td>\n",
       "      <td>nan</td>\n",
       "      <td>0</td>\n",
       "      <td>среднее</td>\n",
       "      <td>1</td>\n",
       "      <td>гражданский брак</td>\n",
       "      <td>1</td>\n",
       "      <td>F</td>\n",
       "      <td>сотрудник</td>\n",
       "      <td>0</td>\n",
       "      <td>nan</td>\n",
       "      <td>на проведение свадьбы</td>\n",
       "      <td>nan</td>\n",
       "    </tr>\n",
       "    <tr>\n",
       "      <th>19829</th>\n",
       "      <td>0</td>\n",
       "      <td>nan</td>\n",
       "      <td>0</td>\n",
       "      <td>среднее</td>\n",
       "      <td>1</td>\n",
       "      <td>женат / замужем</td>\n",
       "      <td>0</td>\n",
       "      <td>F</td>\n",
       "      <td>сотрудник</td>\n",
       "      <td>0</td>\n",
       "      <td>nan</td>\n",
       "      <td>жилье</td>\n",
       "      <td>nan</td>\n",
       "    </tr>\n",
       "  </tbody>\n",
       "</table>\n",
       "<p>101 rows × 13 columns</p>\n",
       "</div>"
      ],
      "text/plain": [
       "       children  days_employed  dob_years education  education_id  \\\n",
       "14514         0      16,708.02          0   среднее             1   \n",
       "578           0      16,577.36          0   среднее             1   \n",
       "16861         0      16,495.58          0   среднее             1   \n",
       "14659         0      16,456.22          0   среднее             1   \n",
       "10188         0      15,486.05          0   среднее             1   \n",
       "...         ...            ...        ...       ...           ...   \n",
       "6670          0            nan          0    Высшее             0   \n",
       "8574          0            nan          0   среднее             1   \n",
       "12403         3            nan          0   среднее             1   \n",
       "13741         0            nan          0   среднее             1   \n",
       "19829         0            nan          0   среднее             1   \n",
       "\n",
       "               family_status  family_status_id gender income_type  debt  \\\n",
       "14514         вдовец / вдова                 2      F   пенсионер     0   \n",
       "578          женат / замужем                 0      F   пенсионер     0   \n",
       "16861              в разводе                 3      F   пенсионер     0   \n",
       "14659  Не женат / не замужем                 4      F   пенсионер     0   \n",
       "10188        женат / замужем                 0      M   пенсионер     0   \n",
       "...                      ...               ...    ...         ...   ...   \n",
       "6670               в разводе                 3      F   пенсионер     0   \n",
       "8574         женат / замужем                 0      F   сотрудник     0   \n",
       "12403        женат / замужем                 0      M   сотрудник     0   \n",
       "13741       гражданский брак                 1      F   сотрудник     0   \n",
       "19829        женат / замужем                 0      F   сотрудник     0   \n",
       "\n",
       "       total_income                                 purpose  childhood  \n",
       "14514     87,215.41            заняться высшим образованием     -45.78  \n",
       "578       97,620.69  строительство собственной недвижимости     -45.42  \n",
       "16861    218,284.76                           покупка жилья     -45.19  \n",
       "14659     34,974.45                                   жилье     -45.09  \n",
       "10188    102,621.70                операции с недвижимостью     -42.43  \n",
       "...             ...                                     ...        ...  \n",
       "6670            nan              покупка жилой недвижимости        nan  \n",
       "8574            nan                            недвижимость        nan  \n",
       "12403           nan   операции с коммерческой недвижимостью        nan  \n",
       "13741           nan                   на проведение свадьбы        nan  \n",
       "19829           nan                                   жилье        nan  \n",
       "\n",
       "[101 rows x 13 columns]"
      ]
     },
     "execution_count": 288,
     "metadata": {},
     "output_type": "execute_result"
    }
   ],
   "source": [
    "data_zero_dob_years = data.loc[data.loc[:,'dob_years'] == 0]\n",
    "\n",
    "data_zero_dob_years.sort_values('childhood')\n"
   ]
  },
  {
   "cell_type": "markdown",
   "metadata": {},
   "source": [
    "Что здесь получается?\n",
    "Похоже, что в основном это происходит с пенсионерами и тему, у кого нет данных в колонках возвраста и/или стажа\n"
   ]
  },
  {
   "cell_type": "markdown",
   "metadata": {},
   "source": [
    "#### Посмотрим графическое представление по трудовому стажу"
   ]
  },
  {
   "cell_type": "code",
   "execution_count": 289,
   "metadata": {},
   "outputs": [
    {
     "data": {
      "image/png": "[encoded data removed]",
      "text/plain": [
       "<Figure size 432x288 with 1 Axes>"
      ]
     },
     "metadata": {
      "needs_background": "light"
     },
     "output_type": "display_data"
    }
   ],
   "source": [
    "data.plot.scatter(x=['dob_years'], y=['days_employed']);"
   ]
  },
  {
   "cell_type": "markdown",
   "metadata": {},
   "source": [
    "Распределение значений по трудовому стажу от возраста.\n",
    "\n",
    "**гипотеза** строки со значениями days_employed меньше 2500 **удалить**"
   ]
  },
  {
   "cell_type": "markdown",
   "metadata": {},
   "source": [
    "### Несущественно для этого исследования\n",
    "Ходил в курилку, там повстречал заказчиков исследования.\n",
    "Они и говорят:\n",
    " - слушай, бро!\n",
    " чё ты паришься со стажем? у тебя какое задание? стаж в нём имеет место быть?\n",
    " - посмотрел ТЗ\n",
    " \" влияет ли семейное положение и количество детей\"\n",
    " -- блин. так ведь действительно, вроде не существенно.\n",
    " \n",
    " - ладно. в порядок данные привёл, и хорошо. не будут смущать в процессе тзысканий"
   ]
  },
  {
   "cell_type": "markdown",
   "metadata": {},
   "source": [
    "### 3. dob_years - возраст.\n"
   ]
  },
  {
   "cell_type": "code",
   "execution_count": 290,
   "metadata": {},
   "outputs": [
    {
     "data": {
      "text/plain": [
       "count   21,525.00\n",
       "mean        43.29\n",
       "std         12.57\n",
       "min          0.00\n",
       "25%         33.00\n",
       "50%         42.00\n",
       "75%         53.00\n",
       "max         75.00\n",
       "Name: dob_years, dtype: float64"
      ]
     },
     "execution_count": 290,
     "metadata": {},
     "output_type": "execute_result"
    }
   ],
   "source": [
    "data['dob_years'].describe()"
   ]
  },
  {
   "cell_type": "markdown",
   "metadata": {},
   "source": [
    "Из общих данных известно, что:\n",
    "- возвраст указан в годах\n",
    "- это целочисленное значение\n",
    "- среднее 43 года\n",
    "- есть значения \"0\"\n",
    "Значения \"0\" считаем ПРОПУСКОМ данных"
   ]
  },
  {
   "cell_type": "code",
   "execution_count": 291,
   "metadata": {},
   "outputs": [
    {
     "data": {
      "text/plain": [
       "children            101\n",
       "days_employed        91\n",
       "dob_years           101\n",
       "education           101\n",
       "education_id        101\n",
       "family_status       101\n",
       "family_status_id    101\n",
       "gender              101\n",
       "income_type         101\n",
       "debt                101\n",
       "total_income         91\n",
       "purpose             101\n",
       "childhood            91\n",
       "dtype: int64"
      ]
     },
     "execution_count": 291,
     "metadata": {},
     "output_type": "execute_result"
    }
   ],
   "source": [
    "data[data['dob_years'] == 0].count()"
   ]
  },
  {
   "cell_type": "markdown",
   "metadata": {},
   "source": [
    "Таких \"пропусков\" 101 строка, что составляет меньше одного процента от всех данных.\n",
    "\n",
    "**гипотеза** Этими строками можно пренебречь, однако!\n",
    "В ТЗ нет прямой отсылки к возрасту.\n",
    "На этом этапе ничего не делаем."
   ]
  },
  {
   "cell_type": "code",
   "execution_count": 292,
   "metadata": {},
   "outputs": [
    {
     "data": {
      "image/png": "[encoded data removed]",
      "text/plain": [
       "<Figure size 432x288 with 1 Axes>"
      ]
     },
     "metadata": {
      "needs_background": "light"
     },
     "output_type": "display_data"
    }
   ],
   "source": [
    "dob_year = data['dob_years']\n",
    "\n",
    "dob_year.plot(kind='hist');"
   ]
  },
  {
   "cell_type": "markdown",
   "metadata": {},
   "source": [
    "Замечательное распределение данных по возрасту.\n",
    "Смело считаем значения меньше 10 лет - пропусками дангных. Принеобходимости можно заменить на NaN"
   ]
  },
  {
   "cell_type": "markdown",
   "metadata": {},
   "source": [
    "### 4. education - образование.\n"
   ]
  },
  {
   "cell_type": "markdown",
   "metadata": {},
   "source": [
    "Из общих справочных данных, по колонке Образование, следующие сведения:\n",
    "- это строковое значение\n",
    "- нет пропусков строк\n",
    "- вероятно присутствие неявных дубликатов\n",
    "\n",
    "Проверяю неявные дубликаты выводом уникальных значений"
   ]
  },
  {
   "cell_type": "code",
   "execution_count": 293,
   "metadata": {},
   "outputs": [
    {
     "data": {
      "text/plain": [
       "array(['высшее', 'среднее', 'Среднее', 'СРЕДНЕЕ', 'ВЫСШЕЕ',\n",
       "       'неоконченное высшее', 'начальное', 'Высшее',\n",
       "       'НЕОКОНЧЕННОЕ ВЫСШЕЕ', 'Неоконченное высшее', 'НАЧАЛЬНОЕ',\n",
       "       'Начальное', 'Ученая степень', 'УЧЕНАЯ СТЕПЕНЬ', 'ученая степень'],\n",
       "      dtype=object)"
      ]
     },
     "execution_count": 293,
     "metadata": {},
     "output_type": "execute_result"
    }
   ],
   "source": [
    "data['education'].unique()"
   ]
  },
  {
   "cell_type": "markdown",
   "metadata": {},
   "source": [
    "Для удобного восприятия выведу отсортированный список в вертикальном расположении."
   ]
  },
  {
   "cell_type": "code",
   "execution_count": 294,
   "metadata": {},
   "outputs": [
    {
     "data": {
      "text/plain": [
       "['ВЫСШЕЕ',\n",
       " 'Высшее',\n",
       " 'НАЧАЛЬНОЕ',\n",
       " 'НЕОКОНЧЕННОЕ ВЫСШЕЕ',\n",
       " 'Начальное',\n",
       " 'Неоконченное высшее',\n",
       " 'СРЕДНЕЕ',\n",
       " 'Среднее',\n",
       " 'УЧЕНАЯ СТЕПЕНЬ',\n",
       " 'Ученая степень',\n",
       " 'высшее',\n",
       " 'начальное',\n",
       " 'неоконченное высшее',\n",
       " 'среднее',\n",
       " 'ученая степень']"
      ]
     },
     "execution_count": 294,
     "metadata": {},
     "output_type": "execute_result"
    }
   ],
   "source": [
    "sorted(data['education'].unique())"
   ]
  },
  {
   "cell_type": "markdown",
   "metadata": {},
   "source": [
    "Здесь видны неявные дубликаты\n",
    "\n",
    "* высшее - ВЫСШЕЕ, Высшее\n",
    "* начальное - НАЧАЛЬНОЕ, Начальное\n",
    "* неоконченное высшее - НЕОКОНЧЕННОЕ ВЫСШЕЕ, Неоконченное высшее\n",
    "* среднее - СРЕДНЕЕ, Среднее\n",
    "* ученая степень - УЧЕНАЯ СТЕПЕНЬ, Ученая степень\n",
    "\n",
    "Эти дубликаты поменяю на аналоги, написанные в нижнем регистре\n",
    "Попробую применить метод перевода в нижний регистр всех значений"
   ]
  },
  {
   "cell_type": "code",
   "execution_count": 295,
   "metadata": {},
   "outputs": [
    {
     "data": {
      "text/plain": [
       "['высшее', 'начальное', 'неоконченное высшее', 'среднее', 'ученая степень']"
      ]
     },
     "execution_count": 295,
     "metadata": {},
     "output_type": "execute_result"
    }
   ],
   "source": [
    "data['education'] = data['education'].str.lower()\n",
    "sorted(data['education'].unique())"
   ]
  },
  {
   "cell_type": "markdown",
   "metadata": {},
   "source": [
    "#### Успех!\n",
    "Посмотрим распределение уровня образования среди клиентов "
   ]
  },
  {
   "cell_type": "code",
   "execution_count": 296,
   "metadata": {},
   "outputs": [
    {
     "data": {
      "text/plain": [
       "['высшее', 'начальное', 'неоконченное высшее', 'среднее', 'ученая степень']"
      ]
     },
     "execution_count": 296,
     "metadata": {},
     "output_type": "execute_result"
    }
   ],
   "source": [
    "# data.plot(x='education', y='children',  kind='bar')\n",
    "# подсчитываю количество строковых значений\n",
    "unique_edu = sorted(data['education'].unique())\n",
    "unique_edu"
   ]
  },
  {
   "cell_type": "code",
   "execution_count": 297,
   "metadata": {},
   "outputs": [
    {
     "data": {
      "image/png": "[encoded data removed]",
      "text/plain": [
       "<Figure size 432x288 with 1 Axes>"
      ]
     },
     "metadata": {
      "needs_background": "light"
     },
     "output_type": "display_data"
    }
   ],
   "source": [
    "data['education'].value_counts().plot(kind='bar');"
   ]
  },
  {
   "cell_type": "code",
   "execution_count": 298,
   "metadata": {},
   "outputs": [
    {
     "data": {
      "text/plain": [
       "среднее                15233\n",
       "высшее                  5260\n",
       "неоконченное высшее      744\n",
       "начальное                282\n",
       "ученая степень             6\n",
       "Name: education, dtype: int64"
      ]
     },
     "execution_count": 298,
     "metadata": {},
     "output_type": "execute_result"
    }
   ],
   "source": [
    "data['education'].sort_values().value_counts()"
   ]
  },
  {
   "cell_type": "markdown",
   "metadata": {},
   "source": [
    "Эта информация в ТЗ не требуется. Но интересно же!"
   ]
  },
  {
   "cell_type": "markdown",
   "metadata": {},
   "source": [
    "### 5. education_id - идентификатор уровня образования.\n"
   ]
  },
  {
   "cell_type": "markdown",
   "metadata": {},
   "source": [
    "Задачи:\n",
    "Проверить, сколько уникальных значений\n",
    "Как они соотносятся со строковыми значениями уровня образования\n",
    "В случае ошибок - исправить\n"
   ]
  },
  {
   "cell_type": "code",
   "execution_count": 299,
   "metadata": {},
   "outputs": [
    {
     "data": {
      "text/plain": [
       "[0, 1, 2, 3, 4]"
      ]
     },
     "execution_count": 299,
     "metadata": {},
     "output_type": "execute_result"
    }
   ],
   "source": [
    "sorted(data['education_id'].unique())"
   ]
  },
  {
   "cell_type": "markdown",
   "metadata": {},
   "source": [
    "Прекрасно! Количество значений _id совпадает с количеством категорий в строковым формате\n",
    "Теперь хочу проверить соответствие строковых и численных категорий.\n",
    "Нет ли ошибок..."
   ]
  },
  {
   "cell_type": "code",
   "execution_count": 300,
   "metadata": {},
   "outputs": [
    {
     "data": {
      "text/plain": [
       "высшее    5260\n",
       "Name: education, dtype: int64"
      ]
     },
     "execution_count": 300,
     "metadata": {},
     "output_type": "execute_result"
    }
   ],
   "source": [
    "id_0 = data.loc[data.loc[:, 'education_id'] == 0]\n",
    "id_0['education'].sort_values().value_counts()"
   ]
  },
  {
   "cell_type": "code",
   "execution_count": 301,
   "metadata": {},
   "outputs": [
    {
     "data": {
      "text/plain": [
       "среднее    15233\n",
       "Name: education, dtype: int64"
      ]
     },
     "execution_count": 301,
     "metadata": {},
     "output_type": "execute_result"
    }
   ],
   "source": [
    "id_0 = data.loc[data.loc[:, 'education_id'] == 1]\n",
    "id_0['education'].sort_values().value_counts()"
   ]
  },
  {
   "cell_type": "code",
   "execution_count": 302,
   "metadata": {},
   "outputs": [
    {
     "data": {
      "text/plain": [
       "неоконченное высшее    744\n",
       "Name: education, dtype: int64"
      ]
     },
     "execution_count": 302,
     "metadata": {},
     "output_type": "execute_result"
    }
   ],
   "source": [
    "id_0 = data.loc[data.loc[:, 'education_id'] == 2]\n",
    "id_0['education'].sort_values().value_counts()"
   ]
  },
  {
   "cell_type": "code",
   "execution_count": 303,
   "metadata": {},
   "outputs": [
    {
     "data": {
      "text/plain": [
       "начальное    282\n",
       "Name: education, dtype: int64"
      ]
     },
     "execution_count": 303,
     "metadata": {},
     "output_type": "execute_result"
    }
   ],
   "source": [
    "id_0 = data.loc[data.loc[:, 'education_id'] == 3]\n",
    "id_0['education'].sort_values().value_counts()"
   ]
  },
  {
   "cell_type": "markdown",
   "metadata": {},
   "source": [
    "#### Прекрасно!\n",
    "Каждая числовая категория _id соответствует одному значению строковой категории\n"
   ]
  },
  {
   "cell_type": "markdown",
   "metadata": {},
   "source": [
    "### Можно сделать словарь категория уровня образования\n",
    "Из основной таблицы data убираем колонку education\n",
    "И Создаём табличку 'education_dict' с колонками education_id и education"
   ]
  },
  {
   "cell_type": "code",
   "execution_count": 304,
   "metadata": {},
   "outputs": [
    {
     "data": {
      "text/html": [
       "<div>\n",
       "<style scoped>\n",
       "    .dataframe tbody tr th:only-of-type {\n",
       "        vertical-align: middle;\n",
       "    }\n",
       "\n",
       "    .dataframe tbody tr th {\n",
       "        vertical-align: top;\n",
       "    }\n",
       "\n",
       "    .dataframe thead th {\n",
       "        text-align: right;\n",
       "    }\n",
       "</style>\n",
       "<table border=\"1\" class=\"dataframe\">\n",
       "  <thead>\n",
       "    <tr style=\"text-align: right;\">\n",
       "      <th></th>\n",
       "      <th>education_id</th>\n",
       "      <th>education</th>\n",
       "    </tr>\n",
       "  </thead>\n",
       "  <tbody>\n",
       "    <tr>\n",
       "      <th>0</th>\n",
       "      <td>0</td>\n",
       "      <td>высшее</td>\n",
       "    </tr>\n",
       "    <tr>\n",
       "      <th>1</th>\n",
       "      <td>1</td>\n",
       "      <td>среднее</td>\n",
       "    </tr>\n",
       "    <tr>\n",
       "      <th>2</th>\n",
       "      <td>1</td>\n",
       "      <td>среднее</td>\n",
       "    </tr>\n",
       "    <tr>\n",
       "      <th>3</th>\n",
       "      <td>1</td>\n",
       "      <td>среднее</td>\n",
       "    </tr>\n",
       "    <tr>\n",
       "      <th>4</th>\n",
       "      <td>1</td>\n",
       "      <td>среднее</td>\n",
       "    </tr>\n",
       "    <tr>\n",
       "      <th>...</th>\n",
       "      <td>...</td>\n",
       "      <td>...</td>\n",
       "    </tr>\n",
       "    <tr>\n",
       "      <th>21520</th>\n",
       "      <td>1</td>\n",
       "      <td>среднее</td>\n",
       "    </tr>\n",
       "    <tr>\n",
       "      <th>21521</th>\n",
       "      <td>1</td>\n",
       "      <td>среднее</td>\n",
       "    </tr>\n",
       "    <tr>\n",
       "      <th>21522</th>\n",
       "      <td>1</td>\n",
       "      <td>среднее</td>\n",
       "    </tr>\n",
       "    <tr>\n",
       "      <th>21523</th>\n",
       "      <td>1</td>\n",
       "      <td>среднее</td>\n",
       "    </tr>\n",
       "    <tr>\n",
       "      <th>21524</th>\n",
       "      <td>1</td>\n",
       "      <td>среднее</td>\n",
       "    </tr>\n",
       "  </tbody>\n",
       "</table>\n",
       "<p>21525 rows × 2 columns</p>\n",
       "</div>"
      ],
      "text/plain": [
       "       education_id education\n",
       "0                 0    высшее\n",
       "1                 1   среднее\n",
       "2                 1   среднее\n",
       "3                 1   среднее\n",
       "4                 1   среднее\n",
       "...             ...       ...\n",
       "21520             1   среднее\n",
       "21521             1   среднее\n",
       "21522             1   среднее\n",
       "21523             1   среднее\n",
       "21524             1   среднее\n",
       "\n",
       "[21525 rows x 2 columns]"
      ]
     },
     "execution_count": 304,
     "metadata": {},
     "output_type": "execute_result"
    }
   ],
   "source": [
    "# новая табличка\n",
    "education_dict = data[['education_id', 'education']]\n",
    "education_dict"
   ]
  },
  {
   "cell_type": "code",
   "execution_count": 305,
   "metadata": {},
   "outputs": [
    {
     "data": {
      "text/html": [
       "<div>\n",
       "<style scoped>\n",
       "    .dataframe tbody tr th:only-of-type {\n",
       "        vertical-align: middle;\n",
       "    }\n",
       "\n",
       "    .dataframe tbody tr th {\n",
       "        vertical-align: top;\n",
       "    }\n",
       "\n",
       "    .dataframe thead th {\n",
       "        text-align: right;\n",
       "    }\n",
       "</style>\n",
       "<table border=\"1\" class=\"dataframe\">\n",
       "  <thead>\n",
       "    <tr style=\"text-align: right;\">\n",
       "      <th></th>\n",
       "      <th>education_id</th>\n",
       "      <th>education</th>\n",
       "    </tr>\n",
       "  </thead>\n",
       "  <tbody>\n",
       "    <tr>\n",
       "      <th>0</th>\n",
       "      <td>0</td>\n",
       "      <td>высшее</td>\n",
       "    </tr>\n",
       "    <tr>\n",
       "      <th>1</th>\n",
       "      <td>1</td>\n",
       "      <td>среднее</td>\n",
       "    </tr>\n",
       "    <tr>\n",
       "      <th>2</th>\n",
       "      <td>2</td>\n",
       "      <td>неоконченное высшее</td>\n",
       "    </tr>\n",
       "    <tr>\n",
       "      <th>3</th>\n",
       "      <td>3</td>\n",
       "      <td>начальное</td>\n",
       "    </tr>\n",
       "    <tr>\n",
       "      <th>4</th>\n",
       "      <td>4</td>\n",
       "      <td>ученая степень</td>\n",
       "    </tr>\n",
       "  </tbody>\n",
       "</table>\n",
       "</div>"
      ],
      "text/plain": [
       "   education_id            education\n",
       "0             0               высшее\n",
       "1             1              среднее\n",
       "2             2  неоконченное высшее\n",
       "3             3            начальное\n",
       "4             4       ученая степень"
      ]
     },
     "execution_count": 305,
     "metadata": {},
     "output_type": "execute_result"
    }
   ],
   "source": [
    "# убираем дубликаты в словаре\n",
    "education_dict = education_dict.drop_duplicates().reset_index(drop=True)\n",
    "education_dict"
   ]
  },
  {
   "cell_type": "markdown",
   "metadata": {},
   "source": [
    "Словарь education_dict готов!"
   ]
  },
  {
   "cell_type": "markdown",
   "metadata": {},
   "source": [
    "Убираю лишнюю колонку из data"
   ]
  },
  {
   "cell_type": "code",
   "execution_count": 306,
   "metadata": {},
   "outputs": [
    {
     "data": {
      "text/html": [
       "<div>\n",
       "<style scoped>\n",
       "    .dataframe tbody tr th:only-of-type {\n",
       "        vertical-align: middle;\n",
       "    }\n",
       "\n",
       "    .dataframe tbody tr th {\n",
       "        vertical-align: top;\n",
       "    }\n",
       "\n",
       "    .dataframe thead th {\n",
       "        text-align: right;\n",
       "    }\n",
       "</style>\n",
       "<table border=\"1\" class=\"dataframe\">\n",
       "  <thead>\n",
       "    <tr style=\"text-align: right;\">\n",
       "      <th></th>\n",
       "      <th>children</th>\n",
       "      <th>days_employed</th>\n",
       "      <th>dob_years</th>\n",
       "      <th>education_id</th>\n",
       "      <th>family_status</th>\n",
       "      <th>family_status_id</th>\n",
       "      <th>gender</th>\n",
       "      <th>income_type</th>\n",
       "      <th>debt</th>\n",
       "      <th>total_income</th>\n",
       "      <th>purpose</th>\n",
       "      <th>childhood</th>\n",
       "    </tr>\n",
       "  </thead>\n",
       "  <tbody>\n",
       "    <tr>\n",
       "      <th>0</th>\n",
       "      <td>1</td>\n",
       "      <td>351.57</td>\n",
       "      <td>42</td>\n",
       "      <td>0</td>\n",
       "      <td>женат / замужем</td>\n",
       "      <td>0</td>\n",
       "      <td>F</td>\n",
       "      <td>сотрудник</td>\n",
       "      <td>0</td>\n",
       "      <td>253,875.64</td>\n",
       "      <td>покупка жилья</td>\n",
       "      <td>41.04</td>\n",
       "    </tr>\n",
       "    <tr>\n",
       "      <th>1</th>\n",
       "      <td>1</td>\n",
       "      <td>167.70</td>\n",
       "      <td>36</td>\n",
       "      <td>1</td>\n",
       "      <td>женат / замужем</td>\n",
       "      <td>0</td>\n",
       "      <td>F</td>\n",
       "      <td>сотрудник</td>\n",
       "      <td>0</td>\n",
       "      <td>112,080.01</td>\n",
       "      <td>приобретение автомобиля</td>\n",
       "      <td>35.54</td>\n",
       "    </tr>\n",
       "    <tr>\n",
       "      <th>2</th>\n",
       "      <td>0</td>\n",
       "      <td>234.31</td>\n",
       "      <td>33</td>\n",
       "      <td>1</td>\n",
       "      <td>женат / замужем</td>\n",
       "      <td>0</td>\n",
       "      <td>M</td>\n",
       "      <td>сотрудник</td>\n",
       "      <td>0</td>\n",
       "      <td>145,885.95</td>\n",
       "      <td>покупка жилья</td>\n",
       "      <td>32.36</td>\n",
       "    </tr>\n",
       "    <tr>\n",
       "      <th>3</th>\n",
       "      <td>3</td>\n",
       "      <td>171.86</td>\n",
       "      <td>32</td>\n",
       "      <td>1</td>\n",
       "      <td>женат / замужем</td>\n",
       "      <td>0</td>\n",
       "      <td>M</td>\n",
       "      <td>сотрудник</td>\n",
       "      <td>0</td>\n",
       "      <td>267,628.55</td>\n",
       "      <td>дополнительное образование</td>\n",
       "      <td>31.53</td>\n",
       "    </tr>\n",
       "    <tr>\n",
       "      <th>4</th>\n",
       "      <td>0</td>\n",
       "      <td>14,177.75</td>\n",
       "      <td>53</td>\n",
       "      <td>1</td>\n",
       "      <td>гражданский брак</td>\n",
       "      <td>1</td>\n",
       "      <td>F</td>\n",
       "      <td>пенсионер</td>\n",
       "      <td>0</td>\n",
       "      <td>158,616.08</td>\n",
       "      <td>сыграть свадьбу</td>\n",
       "      <td>14.16</td>\n",
       "    </tr>\n",
       "    <tr>\n",
       "      <th>...</th>\n",
       "      <td>...</td>\n",
       "      <td>...</td>\n",
       "      <td>...</td>\n",
       "      <td>...</td>\n",
       "      <td>...</td>\n",
       "      <td>...</td>\n",
       "      <td>...</td>\n",
       "      <td>...</td>\n",
       "      <td>...</td>\n",
       "      <td>...</td>\n",
       "      <td>...</td>\n",
       "      <td>...</td>\n",
       "    </tr>\n",
       "    <tr>\n",
       "      <th>21520</th>\n",
       "      <td>1</td>\n",
       "      <td>188.72</td>\n",
       "      <td>43</td>\n",
       "      <td>1</td>\n",
       "      <td>гражданский брак</td>\n",
       "      <td>1</td>\n",
       "      <td>F</td>\n",
       "      <td>компаньон</td>\n",
       "      <td>0</td>\n",
       "      <td>224,791.86</td>\n",
       "      <td>операции с жильем</td>\n",
       "      <td>42.48</td>\n",
       "    </tr>\n",
       "    <tr>\n",
       "      <th>21521</th>\n",
       "      <td>0</td>\n",
       "      <td>14,330.73</td>\n",
       "      <td>67</td>\n",
       "      <td>1</td>\n",
       "      <td>женат / замужем</td>\n",
       "      <td>0</td>\n",
       "      <td>F</td>\n",
       "      <td>пенсионер</td>\n",
       "      <td>0</td>\n",
       "      <td>155,999.81</td>\n",
       "      <td>сделка с автомобилем</td>\n",
       "      <td>27.74</td>\n",
       "    </tr>\n",
       "    <tr>\n",
       "      <th>21522</th>\n",
       "      <td>1</td>\n",
       "      <td>88.06</td>\n",
       "      <td>38</td>\n",
       "      <td>1</td>\n",
       "      <td>гражданский брак</td>\n",
       "      <td>1</td>\n",
       "      <td>M</td>\n",
       "      <td>сотрудник</td>\n",
       "      <td>1</td>\n",
       "      <td>89,672.56</td>\n",
       "      <td>недвижимость</td>\n",
       "      <td>37.76</td>\n",
       "    </tr>\n",
       "    <tr>\n",
       "      <th>21523</th>\n",
       "      <td>3</td>\n",
       "      <td>129.69</td>\n",
       "      <td>38</td>\n",
       "      <td>1</td>\n",
       "      <td>женат / замужем</td>\n",
       "      <td>0</td>\n",
       "      <td>M</td>\n",
       "      <td>сотрудник</td>\n",
       "      <td>1</td>\n",
       "      <td>244,093.05</td>\n",
       "      <td>на покупку своего автомобиля</td>\n",
       "      <td>37.64</td>\n",
       "    </tr>\n",
       "    <tr>\n",
       "      <th>21524</th>\n",
       "      <td>2</td>\n",
       "      <td>82.69</td>\n",
       "      <td>40</td>\n",
       "      <td>1</td>\n",
       "      <td>женат / замужем</td>\n",
       "      <td>0</td>\n",
       "      <td>F</td>\n",
       "      <td>сотрудник</td>\n",
       "      <td>0</td>\n",
       "      <td>82,047.42</td>\n",
       "      <td>на покупку автомобиля</td>\n",
       "      <td>39.77</td>\n",
       "    </tr>\n",
       "  </tbody>\n",
       "</table>\n",
       "<p>21525 rows × 12 columns</p>\n",
       "</div>"
      ],
      "text/plain": [
       "       children  days_employed  dob_years  education_id     family_status  \\\n",
       "0             1         351.57         42             0   женат / замужем   \n",
       "1             1         167.70         36             1   женат / замужем   \n",
       "2             0         234.31         33             1   женат / замужем   \n",
       "3             3         171.86         32             1   женат / замужем   \n",
       "4             0      14,177.75         53             1  гражданский брак   \n",
       "...         ...            ...        ...           ...               ...   \n",
       "21520         1         188.72         43             1  гражданский брак   \n",
       "21521         0      14,330.73         67             1   женат / замужем   \n",
       "21522         1          88.06         38             1  гражданский брак   \n",
       "21523         3         129.69         38             1   женат / замужем   \n",
       "21524         2          82.69         40             1   женат / замужем   \n",
       "\n",
       "       family_status_id gender income_type  debt  total_income  \\\n",
       "0                     0      F   сотрудник     0    253,875.64   \n",
       "1                     0      F   сотрудник     0    112,080.01   \n",
       "2                     0      M   сотрудник     0    145,885.95   \n",
       "3                     0      M   сотрудник     0    267,628.55   \n",
       "4                     1      F   пенсионер     0    158,616.08   \n",
       "...                 ...    ...         ...   ...           ...   \n",
       "21520                 1      F   компаньон     0    224,791.86   \n",
       "21521                 0      F   пенсионер     0    155,999.81   \n",
       "21522                 1      M   сотрудник     1     89,672.56   \n",
       "21523                 0      M   сотрудник     1    244,093.05   \n",
       "21524                 0      F   сотрудник     0     82,047.42   \n",
       "\n",
       "                            purpose  childhood  \n",
       "0                     покупка жилья      41.04  \n",
       "1           приобретение автомобиля      35.54  \n",
       "2                     покупка жилья      32.36  \n",
       "3        дополнительное образование      31.53  \n",
       "4                   сыграть свадьбу      14.16  \n",
       "...                             ...        ...  \n",
       "21520             операции с жильем      42.48  \n",
       "21521          сделка с автомобилем      27.74  \n",
       "21522                  недвижимость      37.76  \n",
       "21523  на покупку своего автомобиля      37.64  \n",
       "21524         на покупку автомобиля      39.77  \n",
       "\n",
       "[21525 rows x 12 columns]"
      ]
     },
     "execution_count": 306,
     "metadata": {},
     "output_type": "execute_result"
    }
   ],
   "source": [
    "del data['education']\n",
    "data"
   ]
  },
  {
   "cell_type": "markdown",
   "metadata": {},
   "source": [
    "### 6. family_status - семейное положение.\n"
   ]
  },
  {
   "cell_type": "markdown",
   "metadata": {},
   "source": [
    "#### Из общей справки по данным\n",
    "- строковое значение\n",
    "- пропусков нет\n"
   ]
  },
  {
   "cell_type": "markdown",
   "metadata": {},
   "source": [
    "#### Получаю список уникальных значений"
   ]
  },
  {
   "cell_type": "code",
   "execution_count": 307,
   "metadata": {},
   "outputs": [
    {
     "data": {
      "text/plain": [
       "array(['женат / замужем', 'гражданский брак', 'вдовец / вдова',\n",
       "       'в разводе', 'Не женат / не замужем'], dtype=object)"
      ]
     },
     "execution_count": 307,
     "metadata": {},
     "output_type": "execute_result"
    }
   ],
   "source": [
    "data['family_status'].unique()"
   ]
  },
  {
   "cell_type": "markdown",
   "metadata": {},
   "source": [
    "#### Прекрасные новости!\n",
    "Всего встречается 5 значений\n",
    "Неявных дубликатов нет"
   ]
  },
  {
   "cell_type": "code",
   "execution_count": 308,
   "metadata": {},
   "outputs": [
    {
     "data": {
      "image/png": "[encoded data removed]",
      "text/plain": [
       "<Figure size 432x288 with 1 Axes>"
      ]
     },
     "metadata": {
      "needs_background": "light"
     },
     "output_type": "display_data"
    }
   ],
   "source": [
    "data['family_status'].value_counts().plot(kind='bar');"
   ]
  },
  {
   "cell_type": "markdown",
   "metadata": {},
   "source": [
    "#### Можно переходить к следущей колонке"
   ]
  },
  {
   "cell_type": "markdown",
   "metadata": {},
   "source": [
    "### 7. family_status_id - идентификатор семейного положения.\n"
   ]
  },
  {
   "cell_type": "markdown",
   "metadata": {},
   "source": [
    "#### Из общей справки по данным\n",
    "- целочисленный идентификатор семейного положения. можно сделать словарь\n",
    "- пропусков нет\n"
   ]
  },
  {
   "cell_type": "markdown",
   "metadata": {},
   "source": [
    "#### Посмотрим данные в отсортированном виде"
   ]
  },
  {
   "cell_type": "code",
   "execution_count": 309,
   "metadata": {},
   "outputs": [
    {
     "data": {
      "text/plain": [
       "0    12380\n",
       "1     4177\n",
       "4     2813\n",
       "3     1195\n",
       "2      960\n",
       "Name: family_status_id, dtype: int64"
      ]
     },
     "execution_count": 309,
     "metadata": {},
     "output_type": "execute_result"
    }
   ],
   "source": [
    "data['family_status_id'].sort_values().value_counts()"
   ]
  },
  {
   "cell_type": "markdown",
   "metadata": {},
   "source": [
    "#### Распределение значений"
   ]
  },
  {
   "cell_type": "code",
   "execution_count": 310,
   "metadata": {},
   "outputs": [
    {
     "data": {
      "image/png": "[encoded data removed]",
      "text/plain": [
       "<Figure size 432x288 with 1 Axes>"
      ]
     },
     "metadata": {
      "needs_background": "light"
     },
     "output_type": "display_data"
    }
   ],
   "source": [
    "family_status_id = data['family_status_id']\n",
    "family_status_id.plot(kind='hist');"
   ]
  },
  {
   "cell_type": "markdown",
   "metadata": {},
   "source": [
    "### Для удобства оперирования данными, можно вывести колонку family_status в отдельный словарь"
   ]
  },
  {
   "cell_type": "markdown",
   "metadata": {},
   "source": [
    "Из основной таблицы data убираем колонку family_status\n",
    "И Создаём табличку 'family_status_dict' с колонками family_status_id и family_status"
   ]
  },
  {
   "cell_type": "code",
   "execution_count": 311,
   "metadata": {},
   "outputs": [
    {
     "data": {
      "text/html": [
       "<div>\n",
       "<style scoped>\n",
       "    .dataframe tbody tr th:only-of-type {\n",
       "        vertical-align: middle;\n",
       "    }\n",
       "\n",
       "    .dataframe tbody tr th {\n",
       "        vertical-align: top;\n",
       "    }\n",
       "\n",
       "    .dataframe thead th {\n",
       "        text-align: right;\n",
       "    }\n",
       "</style>\n",
       "<table border=\"1\" class=\"dataframe\">\n",
       "  <thead>\n",
       "    <tr style=\"text-align: right;\">\n",
       "      <th></th>\n",
       "      <th>family_status_id</th>\n",
       "      <th>family_status</th>\n",
       "    </tr>\n",
       "  </thead>\n",
       "  <tbody>\n",
       "    <tr>\n",
       "      <th>0</th>\n",
       "      <td>0</td>\n",
       "      <td>женат / замужем</td>\n",
       "    </tr>\n",
       "    <tr>\n",
       "      <th>1</th>\n",
       "      <td>0</td>\n",
       "      <td>женат / замужем</td>\n",
       "    </tr>\n",
       "    <tr>\n",
       "      <th>2</th>\n",
       "      <td>0</td>\n",
       "      <td>женат / замужем</td>\n",
       "    </tr>\n",
       "    <tr>\n",
       "      <th>3</th>\n",
       "      <td>0</td>\n",
       "      <td>женат / замужем</td>\n",
       "    </tr>\n",
       "    <tr>\n",
       "      <th>4</th>\n",
       "      <td>1</td>\n",
       "      <td>гражданский брак</td>\n",
       "    </tr>\n",
       "    <tr>\n",
       "      <th>...</th>\n",
       "      <td>...</td>\n",
       "      <td>...</td>\n",
       "    </tr>\n",
       "    <tr>\n",
       "      <th>21520</th>\n",
       "      <td>1</td>\n",
       "      <td>гражданский брак</td>\n",
       "    </tr>\n",
       "    <tr>\n",
       "      <th>21521</th>\n",
       "      <td>0</td>\n",
       "      <td>женат / замужем</td>\n",
       "    </tr>\n",
       "    <tr>\n",
       "      <th>21522</th>\n",
       "      <td>1</td>\n",
       "      <td>гражданский брак</td>\n",
       "    </tr>\n",
       "    <tr>\n",
       "      <th>21523</th>\n",
       "      <td>0</td>\n",
       "      <td>женат / замужем</td>\n",
       "    </tr>\n",
       "    <tr>\n",
       "      <th>21524</th>\n",
       "      <td>0</td>\n",
       "      <td>женат / замужем</td>\n",
       "    </tr>\n",
       "  </tbody>\n",
       "</table>\n",
       "<p>21525 rows × 2 columns</p>\n",
       "</div>"
      ],
      "text/plain": [
       "       family_status_id     family_status\n",
       "0                     0   женат / замужем\n",
       "1                     0   женат / замужем\n",
       "2                     0   женат / замужем\n",
       "3                     0   женат / замужем\n",
       "4                     1  гражданский брак\n",
       "...                 ...               ...\n",
       "21520                 1  гражданский брак\n",
       "21521                 0   женат / замужем\n",
       "21522                 1  гражданский брак\n",
       "21523                 0   женат / замужем\n",
       "21524                 0   женат / замужем\n",
       "\n",
       "[21525 rows x 2 columns]"
      ]
     },
     "execution_count": 311,
     "metadata": {},
     "output_type": "execute_result"
    }
   ],
   "source": [
    "# новая табличка\n",
    "family_status_dict = data[['family_status_id', 'family_status']]\n",
    "family_status_dict"
   ]
  },
  {
   "cell_type": "code",
   "execution_count": 312,
   "metadata": {},
   "outputs": [
    {
     "data": {
      "text/html": [
       "<div>\n",
       "<style scoped>\n",
       "    .dataframe tbody tr th:only-of-type {\n",
       "        vertical-align: middle;\n",
       "    }\n",
       "\n",
       "    .dataframe tbody tr th {\n",
       "        vertical-align: top;\n",
       "    }\n",
       "\n",
       "    .dataframe thead th {\n",
       "        text-align: right;\n",
       "    }\n",
       "</style>\n",
       "<table border=\"1\" class=\"dataframe\">\n",
       "  <thead>\n",
       "    <tr style=\"text-align: right;\">\n",
       "      <th></th>\n",
       "      <th>family_status_id</th>\n",
       "      <th>family_status</th>\n",
       "    </tr>\n",
       "  </thead>\n",
       "  <tbody>\n",
       "    <tr>\n",
       "      <th>0</th>\n",
       "      <td>0</td>\n",
       "      <td>женат / замужем</td>\n",
       "    </tr>\n",
       "    <tr>\n",
       "      <th>1</th>\n",
       "      <td>1</td>\n",
       "      <td>гражданский брак</td>\n",
       "    </tr>\n",
       "    <tr>\n",
       "      <th>2</th>\n",
       "      <td>2</td>\n",
       "      <td>вдовец / вдова</td>\n",
       "    </tr>\n",
       "    <tr>\n",
       "      <th>3</th>\n",
       "      <td>3</td>\n",
       "      <td>в разводе</td>\n",
       "    </tr>\n",
       "    <tr>\n",
       "      <th>4</th>\n",
       "      <td>4</td>\n",
       "      <td>Не женат / не замужем</td>\n",
       "    </tr>\n",
       "  </tbody>\n",
       "</table>\n",
       "</div>"
      ],
      "text/plain": [
       "   family_status_id          family_status\n",
       "0                 0        женат / замужем\n",
       "1                 1       гражданский брак\n",
       "2                 2         вдовец / вдова\n",
       "3                 3              в разводе\n",
       "4                 4  Не женат / не замужем"
      ]
     },
     "execution_count": 312,
     "metadata": {},
     "output_type": "execute_result"
    }
   ],
   "source": [
    "# убираем дубликаты в словаре\n",
    "family_status_dict = family_status_dict.drop_duplicates().reset_index(drop=True)\n",
    "family_status_dict"
   ]
  },
  {
   "cell_type": "markdown",
   "metadata": {},
   "source": [
    "Словарь family_status_dict готов!"
   ]
  },
  {
   "cell_type": "markdown",
   "metadata": {},
   "source": [
    "Убираю лишнюю колонку из data"
   ]
  },
  {
   "cell_type": "code",
   "execution_count": 313,
   "metadata": {},
   "outputs": [
    {
     "data": {
      "text/html": [
       "<div>\n",
       "<style scoped>\n",
       "    .dataframe tbody tr th:only-of-type {\n",
       "        vertical-align: middle;\n",
       "    }\n",
       "\n",
       "    .dataframe tbody tr th {\n",
       "        vertical-align: top;\n",
       "    }\n",
       "\n",
       "    .dataframe thead th {\n",
       "        text-align: right;\n",
       "    }\n",
       "</style>\n",
       "<table border=\"1\" class=\"dataframe\">\n",
       "  <thead>\n",
       "    <tr style=\"text-align: right;\">\n",
       "      <th></th>\n",
       "      <th>children</th>\n",
       "      <th>days_employed</th>\n",
       "      <th>dob_years</th>\n",
       "      <th>education_id</th>\n",
       "      <th>family_status_id</th>\n",
       "      <th>gender</th>\n",
       "      <th>income_type</th>\n",
       "      <th>debt</th>\n",
       "      <th>total_income</th>\n",
       "      <th>purpose</th>\n",
       "      <th>childhood</th>\n",
       "    </tr>\n",
       "  </thead>\n",
       "  <tbody>\n",
       "    <tr>\n",
       "      <th>0</th>\n",
       "      <td>1</td>\n",
       "      <td>351.57</td>\n",
       "      <td>42</td>\n",
       "      <td>0</td>\n",
       "      <td>0</td>\n",
       "      <td>F</td>\n",
       "      <td>сотрудник</td>\n",
       "      <td>0</td>\n",
       "      <td>253,875.64</td>\n",
       "      <td>покупка жилья</td>\n",
       "      <td>41.04</td>\n",
       "    </tr>\n",
       "    <tr>\n",
       "      <th>1</th>\n",
       "      <td>1</td>\n",
       "      <td>167.70</td>\n",
       "      <td>36</td>\n",
       "      <td>1</td>\n",
       "      <td>0</td>\n",
       "      <td>F</td>\n",
       "      <td>сотрудник</td>\n",
       "      <td>0</td>\n",
       "      <td>112,080.01</td>\n",
       "      <td>приобретение автомобиля</td>\n",
       "      <td>35.54</td>\n",
       "    </tr>\n",
       "    <tr>\n",
       "      <th>2</th>\n",
       "      <td>0</td>\n",
       "      <td>234.31</td>\n",
       "      <td>33</td>\n",
       "      <td>1</td>\n",
       "      <td>0</td>\n",
       "      <td>M</td>\n",
       "      <td>сотрудник</td>\n",
       "      <td>0</td>\n",
       "      <td>145,885.95</td>\n",
       "      <td>покупка жилья</td>\n",
       "      <td>32.36</td>\n",
       "    </tr>\n",
       "    <tr>\n",
       "      <th>3</th>\n",
       "      <td>3</td>\n",
       "      <td>171.86</td>\n",
       "      <td>32</td>\n",
       "      <td>1</td>\n",
       "      <td>0</td>\n",
       "      <td>M</td>\n",
       "      <td>сотрудник</td>\n",
       "      <td>0</td>\n",
       "      <td>267,628.55</td>\n",
       "      <td>дополнительное образование</td>\n",
       "      <td>31.53</td>\n",
       "    </tr>\n",
       "    <tr>\n",
       "      <th>4</th>\n",
       "      <td>0</td>\n",
       "      <td>14,177.75</td>\n",
       "      <td>53</td>\n",
       "      <td>1</td>\n",
       "      <td>1</td>\n",
       "      <td>F</td>\n",
       "      <td>пенсионер</td>\n",
       "      <td>0</td>\n",
       "      <td>158,616.08</td>\n",
       "      <td>сыграть свадьбу</td>\n",
       "      <td>14.16</td>\n",
       "    </tr>\n",
       "    <tr>\n",
       "      <th>...</th>\n",
       "      <td>...</td>\n",
       "      <td>...</td>\n",
       "      <td>...</td>\n",
       "      <td>...</td>\n",
       "      <td>...</td>\n",
       "      <td>...</td>\n",
       "      <td>...</td>\n",
       "      <td>...</td>\n",
       "      <td>...</td>\n",
       "      <td>...</td>\n",
       "      <td>...</td>\n",
       "    </tr>\n",
       "    <tr>\n",
       "      <th>21520</th>\n",
       "      <td>1</td>\n",
       "      <td>188.72</td>\n",
       "      <td>43</td>\n",
       "      <td>1</td>\n",
       "      <td>1</td>\n",
       "      <td>F</td>\n",
       "      <td>компаньон</td>\n",
       "      <td>0</td>\n",
       "      <td>224,791.86</td>\n",
       "      <td>операции с жильем</td>\n",
       "      <td>42.48</td>\n",
       "    </tr>\n",
       "    <tr>\n",
       "      <th>21521</th>\n",
       "      <td>0</td>\n",
       "      <td>14,330.73</td>\n",
       "      <td>67</td>\n",
       "      <td>1</td>\n",
       "      <td>0</td>\n",
       "      <td>F</td>\n",
       "      <td>пенсионер</td>\n",
       "      <td>0</td>\n",
       "      <td>155,999.81</td>\n",
       "      <td>сделка с автомобилем</td>\n",
       "      <td>27.74</td>\n",
       "    </tr>\n",
       "    <tr>\n",
       "      <th>21522</th>\n",
       "      <td>1</td>\n",
       "      <td>88.06</td>\n",
       "      <td>38</td>\n",
       "      <td>1</td>\n",
       "      <td>1</td>\n",
       "      <td>M</td>\n",
       "      <td>сотрудник</td>\n",
       "      <td>1</td>\n",
       "      <td>89,672.56</td>\n",
       "      <td>недвижимость</td>\n",
       "      <td>37.76</td>\n",
       "    </tr>\n",
       "    <tr>\n",
       "      <th>21523</th>\n",
       "      <td>3</td>\n",
       "      <td>129.69</td>\n",
       "      <td>38</td>\n",
       "      <td>1</td>\n",
       "      <td>0</td>\n",
       "      <td>M</td>\n",
       "      <td>сотрудник</td>\n",
       "      <td>1</td>\n",
       "      <td>244,093.05</td>\n",
       "      <td>на покупку своего автомобиля</td>\n",
       "      <td>37.64</td>\n",
       "    </tr>\n",
       "    <tr>\n",
       "      <th>21524</th>\n",
       "      <td>2</td>\n",
       "      <td>82.69</td>\n",
       "      <td>40</td>\n",
       "      <td>1</td>\n",
       "      <td>0</td>\n",
       "      <td>F</td>\n",
       "      <td>сотрудник</td>\n",
       "      <td>0</td>\n",
       "      <td>82,047.42</td>\n",
       "      <td>на покупку автомобиля</td>\n",
       "      <td>39.77</td>\n",
       "    </tr>\n",
       "  </tbody>\n",
       "</table>\n",
       "<p>21525 rows × 11 columns</p>\n",
       "</div>"
      ],
      "text/plain": [
       "       children  days_employed  dob_years  education_id  family_status_id  \\\n",
       "0             1         351.57         42             0                 0   \n",
       "1             1         167.70         36             1                 0   \n",
       "2             0         234.31         33             1                 0   \n",
       "3             3         171.86         32             1                 0   \n",
       "4             0      14,177.75         53             1                 1   \n",
       "...         ...            ...        ...           ...               ...   \n",
       "21520         1         188.72         43             1                 1   \n",
       "21521         0      14,330.73         67             1                 0   \n",
       "21522         1          88.06         38             1                 1   \n",
       "21523         3         129.69         38             1                 0   \n",
       "21524         2          82.69         40             1                 0   \n",
       "\n",
       "      gender income_type  debt  total_income                       purpose  \\\n",
       "0          F   сотрудник     0    253,875.64                 покупка жилья   \n",
       "1          F   сотрудник     0    112,080.01       приобретение автомобиля   \n",
       "2          M   сотрудник     0    145,885.95                 покупка жилья   \n",
       "3          M   сотрудник     0    267,628.55    дополнительное образование   \n",
       "4          F   пенсионер     0    158,616.08               сыграть свадьбу   \n",
       "...      ...         ...   ...           ...                           ...   \n",
       "21520      F   компаньон     0    224,791.86             операции с жильем   \n",
       "21521      F   пенсионер     0    155,999.81          сделка с автомобилем   \n",
       "21522      M   сотрудник     1     89,672.56                  недвижимость   \n",
       "21523      M   сотрудник     1    244,093.05  на покупку своего автомобиля   \n",
       "21524      F   сотрудник     0     82,047.42         на покупку автомобиля   \n",
       "\n",
       "       childhood  \n",
       "0          41.04  \n",
       "1          35.54  \n",
       "2          32.36  \n",
       "3          31.53  \n",
       "4          14.16  \n",
       "...          ...  \n",
       "21520      42.48  \n",
       "21521      27.74  \n",
       "21522      37.76  \n",
       "21523      37.64  \n",
       "21524      39.77  \n",
       "\n",
       "[21525 rows x 11 columns]"
      ]
     },
     "execution_count": 313,
     "metadata": {},
     "output_type": "execute_result"
    }
   ],
   "source": [
    "del data['family_status']\n",
    "data"
   ]
  },
  {
   "cell_type": "markdown",
   "metadata": {},
   "source": [
    "### 8. gender - пол"
   ]
  },
  {
   "cell_type": "markdown",
   "metadata": {},
   "source": [
    "#### Из общей справки по данным\n",
    "- текстовый формат\n",
    "- пропусков нет\n"
   ]
  },
  {
   "cell_type": "markdown",
   "metadata": {},
   "source": [
    "#### Смотрим уникальные значения"
   ]
  },
  {
   "cell_type": "code",
   "execution_count": 314,
   "metadata": {},
   "outputs": [
    {
     "data": {
      "text/plain": [
       "F      14236\n",
       "M       7288\n",
       "XNA        1\n",
       "Name: gender, dtype: int64"
      ]
     },
     "execution_count": 314,
     "metadata": {},
     "output_type": "execute_result"
    }
   ],
   "source": [
    "data['gender'].sort_values().value_counts()"
   ]
  },
  {
   "cell_type": "markdown",
   "metadata": {},
   "source": [
    "Женщины, женщины... Всё то они крутятся, вертятся...\n",
    "И ещё странная ХНА\n",
    "Пойду, проверю ЙЦУКЕН\n",
    "* проверка на ЙЦУКЕН не дала вменяемого результата\n",
    "Посмотрю всю строку с этим значением"
   ]
  },
  {
   "cell_type": "code",
   "execution_count": 315,
   "metadata": {},
   "outputs": [
    {
     "name": "stdout",
     "output_type": "stream",
     "text": [
      "       children  days_employed  dob_years  education_id  family_status_id  \\\n",
      "10701         0          98.28         24             2                 1   \n",
      "\n",
      "      gender income_type  debt  total_income               purpose  childhood  \n",
      "10701    XNA   компаньон     0    203,905.16  покупка недвижимости      23.73  \n"
     ]
    }
   ],
   "source": [
    "print(data.loc[data.loc[:,'gender'] == 'XNA'])  "
   ]
  },
  {
   "cell_type": "markdown",
   "metadata": {},
   "source": [
    "Я предложил заказчику **удалить** эту единственную странную строку.\n",
    "Заказчик согласился."
   ]
  },
  {
   "cell_type": "code",
   "execution_count": 316,
   "metadata": {
    "scrolled": true
   },
   "outputs": [],
   "source": [
    "data = data.loc[data['gender'] != 'XNA']\n",
    "\n",
    "#data.drop(data[data['gender'] == 'XNA'].index, inplace=True)"
   ]
  },
  {
   "cell_type": "code",
   "execution_count": 317,
   "metadata": {},
   "outputs": [
    {
     "data": {
      "text/plain": [
       "F    14236\n",
       "M     7288\n",
       "Name: gender, dtype: int64"
      ]
     },
     "execution_count": 317,
     "metadata": {},
     "output_type": "execute_result"
    }
   ],
   "source": [
    "# контроль\n",
    "data.reset_index(inplace=True)\n",
    "data['gender'].sort_values().value_counts()"
   ]
  },
  {
   "cell_type": "code",
   "execution_count": 318,
   "metadata": {},
   "outputs": [
    {
     "data": {
      "text/html": [
       "<div>\n",
       "<style scoped>\n",
       "    .dataframe tbody tr th:only-of-type {\n",
       "        vertical-align: middle;\n",
       "    }\n",
       "\n",
       "    .dataframe tbody tr th {\n",
       "        vertical-align: top;\n",
       "    }\n",
       "\n",
       "    .dataframe thead th {\n",
       "        text-align: right;\n",
       "    }\n",
       "</style>\n",
       "<table border=\"1\" class=\"dataframe\">\n",
       "  <thead>\n",
       "    <tr style=\"text-align: right;\">\n",
       "      <th></th>\n",
       "      <th>index</th>\n",
       "      <th>children</th>\n",
       "      <th>days_employed</th>\n",
       "      <th>dob_years</th>\n",
       "      <th>education_id</th>\n",
       "      <th>family_status_id</th>\n",
       "      <th>gender</th>\n",
       "      <th>income_type</th>\n",
       "      <th>debt</th>\n",
       "      <th>total_income</th>\n",
       "      <th>purpose</th>\n",
       "      <th>childhood</th>\n",
       "    </tr>\n",
       "  </thead>\n",
       "  <tbody>\n",
       "    <tr>\n",
       "      <th>10700</th>\n",
       "      <td>10700</td>\n",
       "      <td>1</td>\n",
       "      <td>21.37</td>\n",
       "      <td>37</td>\n",
       "      <td>0</td>\n",
       "      <td>0</td>\n",
       "      <td>F</td>\n",
       "      <td>компаньон</td>\n",
       "      <td>0</td>\n",
       "      <td>174,396.82</td>\n",
       "      <td>ремонт жилью</td>\n",
       "      <td>36.94</td>\n",
       "    </tr>\n",
       "    <tr>\n",
       "      <th>10701</th>\n",
       "      <td>10702</td>\n",
       "      <td>0</td>\n",
       "      <td>16,191.93</td>\n",
       "      <td>60</td>\n",
       "      <td>1</td>\n",
       "      <td>1</td>\n",
       "      <td>F</td>\n",
       "      <td>пенсионер</td>\n",
       "      <td>0</td>\n",
       "      <td>108,125.20</td>\n",
       "      <td>свадьба</td>\n",
       "      <td>15.64</td>\n",
       "    </tr>\n",
       "    <tr>\n",
       "      <th>10702</th>\n",
       "      <td>10703</td>\n",
       "      <td>0</td>\n",
       "      <td>150.83</td>\n",
       "      <td>35</td>\n",
       "      <td>1</td>\n",
       "      <td>0</td>\n",
       "      <td>F</td>\n",
       "      <td>сотрудник</td>\n",
       "      <td>0</td>\n",
       "      <td>89,817.94</td>\n",
       "      <td>получение образования</td>\n",
       "      <td>34.59</td>\n",
       "    </tr>\n",
       "  </tbody>\n",
       "</table>\n",
       "</div>"
      ],
      "text/plain": [
       "       index  children  days_employed  dob_years  education_id  \\\n",
       "10700  10700         1          21.37         37             0   \n",
       "10701  10702         0      16,191.93         60             1   \n",
       "10702  10703         0         150.83         35             1   \n",
       "\n",
       "       family_status_id gender income_type  debt  total_income  \\\n",
       "10700                 0      F   компаньон     0    174,396.82   \n",
       "10701                 1      F   пенсионер     0    108,125.20   \n",
       "10702                 0      F   сотрудник     0     89,817.94   \n",
       "\n",
       "                     purpose  childhood  \n",
       "10700           ремонт жилью      36.94  \n",
       "10701                свадьба      15.64  \n",
       "10702  получение образования      34.59  "
      ]
     },
     "execution_count": 318,
     "metadata": {},
     "output_type": "execute_result"
    }
   ],
   "source": [
    "data[10700:10703]"
   ]
  },
  {
   "cell_type": "code",
   "execution_count": null,
   "metadata": {},
   "outputs": [],
   "source": []
  },
  {
   "cell_type": "markdown",
   "metadata": {},
   "source": [
    "### Успешно удалена странная строка из dataframe"
   ]
  },
  {
   "cell_type": "markdown",
   "metadata": {},
   "source": [
    "### 9. income_type - тип занятости"
   ]
  },
  {
   "cell_type": "markdown",
   "metadata": {},
   "source": [
    "#### Из общей справки по данным\n",
    "- текстовый формат\n",
    "- пропусков нет"
   ]
  },
  {
   "cell_type": "markdown",
   "metadata": {},
   "source": [
    "#### Смотрим уникальные значения"
   ]
  },
  {
   "cell_type": "code",
   "execution_count": 319,
   "metadata": {},
   "outputs": [
    {
     "data": {
      "text/plain": [
       "сотрудник          11119\n",
       "компаньон           5084\n",
       "пенсионер           3856\n",
       "госслужащий         1459\n",
       "безработный            2\n",
       "предприниматель        2\n",
       "студент                1\n",
       "в декрете              1\n",
       "Name: income_type, dtype: int64"
      ]
     },
     "execution_count": 319,
     "metadata": {},
     "output_type": "execute_result"
    }
   ],
   "source": [
    "data['income_type'].sort_values().value_counts()"
   ]
  },
  {
   "cell_type": "markdown",
   "metadata": {},
   "source": [
    "##### у нас получается \"карманный банк\" для своих, для сотрудников и компаньонов ?\n",
    "нет. наверно всё-таки здесь ошибка в терминах"
   ]
  },
  {
   "cell_type": "markdown",
   "metadata": {},
   "source": [
    "#### Прекрасная колонка! Ничего не надо делать )))"
   ]
  },
  {
   "cell_type": "markdown",
   "metadata": {},
   "source": [
    "### 10. debt - имел ли задолженность по возврату. "
   ]
  },
  {
   "cell_type": "markdown",
   "metadata": {},
   "source": [
    "#### Из общей справки по данным\n",
    "- текстовое\n",
    "- пропусков нет"
   ]
  },
  {
   "cell_type": "markdown",
   "metadata": {},
   "source": [
    "#### Смотрим уникальные значения"
   ]
  },
  {
   "cell_type": "code",
   "execution_count": 320,
   "metadata": {},
   "outputs": [
    {
     "data": {
      "text/plain": [
       "0    19783\n",
       "1     1741\n",
       "Name: debt, dtype: int64"
      ]
     },
     "execution_count": 320,
     "metadata": {},
     "output_type": "execute_result"
    }
   ],
   "source": [
    "data['debt'].sort_values().value_counts()"
   ]
  },
  {
   "cell_type": "markdown",
   "metadata": {},
   "source": [
    "#### Вот, какие замечательные клиенты у банка!\n",
    "Задолженности имели лишь..."
   ]
  },
  {
   "cell_type": "code",
   "execution_count": 321,
   "metadata": {},
   "outputs": [
    {
     "name": "stdout",
     "output_type": "stream",
     "text": [
      "8.800485265126625 %\n"
     ]
    }
   ],
   "source": [
    "print((1741/19783)*100, '%')"
   ]
  },
  {
   "cell_type": "markdown",
   "metadata": {},
   "source": [
    "Много это или мало? Спрошу у бизнеса..."
   ]
  },
  {
   "cell_type": "markdown",
   "metadata": {},
   "source": [
    "### 11. total_income - ежемесячный доход - численное"
   ]
  },
  {
   "cell_type": "markdown",
   "metadata": {},
   "source": [
    "#### Из общей справки по данным\n",
    "- вещественное\n",
    "- есть пропуски. столько же ,сколько пропуков в колнке со стажем\n",
    "- отрицательные значения отсутствуют"
   ]
  },
  {
   "cell_type": "markdown",
   "metadata": {},
   "source": [
    "#### Смотрим в сортированном виде"
   ]
  },
  {
   "cell_type": "code",
   "execution_count": 322,
   "metadata": {},
   "outputs": [
    {
     "data": {
      "text/plain": [
       "14584   20,667.26\n",
       "13005   21,205.28\n",
       "16173   21,367.65\n",
       "1598    21,695.10\n",
       "14275   21,895.61\n",
       "           ...   \n",
       "21488         nan\n",
       "21494         nan\n",
       "21496         nan\n",
       "21501         nan\n",
       "21509         nan\n",
       "Name: total_income, Length: 21524, dtype: float64"
      ]
     },
     "execution_count": 322,
     "metadata": {},
     "output_type": "execute_result"
    }
   ],
   "source": [
    "data['total_income'].sort_values()"
   ]
  },
  {
   "cell_type": "markdown",
   "metadata": {},
   "source": [
    "#### Распределение возраст/доход"
   ]
  },
  {
   "cell_type": "code",
   "execution_count": 323,
   "metadata": {},
   "outputs": [
    {
     "data": {
      "image/png": "[encoded data removed]",
      "text/plain": [
       "<Figure size 432x288 with 1 Axes>"
      ]
     },
     "metadata": {
      "needs_background": "light"
     },
     "output_type": "display_data"
    }
   ],
   "source": [
    "data.plot.scatter(x=['dob_years'], y=['total_income']);"
   ]
  },
  {
   "cell_type": "markdown",
   "metadata": {},
   "source": [
    "#### Распределение стаж / доход"
   ]
  },
  {
   "cell_type": "code",
   "execution_count": 324,
   "metadata": {},
   "outputs": [
    {
     "data": {
      "image/png": "[encoded data removed]",
      "text/plain": [
       "<Figure size 432x288 with 1 Axes>"
      ]
     },
     "metadata": {
      "needs_background": "light"
     },
     "output_type": "display_data"
    }
   ],
   "source": [
    "data.plot.scatter(x=['days_employed'], y=['total_income']);"
   ]
  },
  {
   "cell_type": "markdown",
   "metadata": {},
   "source": [
    "Есть клиенты без указания стажа с высоким уровнем дохода.\n",
    "Интересно посмотреть их тип занятости..."
   ]
  },
  {
   "cell_type": "markdown",
   "metadata": {},
   "source": [
    "#### Соотношение образования и уровня дохода\n",
    "* высшее\n",
    "* среднее\n",
    "* неоконченное высшее\n",
    "* начальное\n",
    "* ученая степень"
   ]
  },
  {
   "cell_type": "code",
   "execution_count": 325,
   "metadata": {},
   "outputs": [
    {
     "data": {
      "image/png": "[encoded data removed]",
      "text/plain": [
       "<Figure size 432x288 with 1 Axes>"
      ]
     },
     "metadata": {
      "needs_background": "light"
     },
     "output_type": "display_data"
    }
   ],
   "source": [
    "data.plot.scatter(x=['education_id'], y=['total_income']);"
   ]
  },
  {
   "cell_type": "markdown",
   "metadata": {},
   "source": [
    "**Парадокс** - обладатели учёной степени заявляют самый низкий уровень дохода!"
   ]
  },
  {
   "cell_type": "markdown",
   "metadata": {},
   "source": [
    "#### Соотношение семейного статуса и уровня дохода\n",
    "* женат / замужем\n",
    "* гражданский брак\n",
    "* вдовец / вдова\n",
    "* в разводе\n",
    "* Не женат / не замужем"
   ]
  },
  {
   "cell_type": "code",
   "execution_count": 326,
   "metadata": {},
   "outputs": [
    {
     "data": {
      "image/png": "[encoded data removed]",
      "text/plain": [
       "<Figure size 432x288 with 1 Axes>"
      ]
     },
     "metadata": {
      "needs_background": "light"
     },
     "output_type": "display_data"
    }
   ],
   "source": [
    "data.plot.scatter(x=['family_status_id'], y=['total_income']);"
   ]
  },
  {
   "cell_type": "markdown",
   "metadata": {},
   "source": [
    "Интересная и совсем не однозначная картина."
   ]
  },
  {
   "cell_type": "markdown",
   "metadata": {},
   "source": [
    "#### Соотношение наличие задолженности и уровень дохода \n",
    "* нет задолженности\n",
    "* есть задолженность"
   ]
  },
  {
   "cell_type": "code",
   "execution_count": 327,
   "metadata": {},
   "outputs": [
    {
     "data": {
      "image/png": "[encoded data removed]",
      "text/plain": [
       "<Figure size 432x288 with 1 Axes>"
      ]
     },
     "metadata": {
      "needs_background": "light"
     },
     "output_type": "display_data"
    }
   ],
   "source": [
    "data.plot.scatter(x=['debt'], y=['total_income']);"
   ]
  },
  {
   "cell_type": "markdown",
   "metadata": {},
   "source": [
    "С более высоким уровнем дохода - меньше задолженностей."
   ]
  },
  {
   "cell_type": "markdown",
   "metadata": {},
   "source": [
    "### <font color='blue'>Начну восполнять пробелы в данных о доходах</font>"
   ]
  },
  {
   "cell_type": "markdown",
   "metadata": {},
   "source": [
    "На уровень дохода могут влиять\n",
    "    * стаж\n",
    "    * возраст\n",
    "    * образование\n",
    "    * пол\n",
    "    * тип занятости\n",
    "    \n",
    "В данных о стаже у неас пропуски в тех же строках, что и данных о доходе.\n",
    "Так что этот параметр в расчет точно не берём.\n",
    "\n",
    "Пол. Ну... Во-первых, у нас среди клиентов преобладание женщин.\n",
    "Во-вторых, в нашей стране уже значительно снизилась зависисимость заработка от пола \"в среднем по больнице\".\n",
    "Так что этот параметр тоже пока отложим.\n",
    "\n",
    "В сухом остатке\n",
    "    - возраст\n",
    "    - образование\n",
    "    - тип занятости"
   ]
  },
  {
   "cell_type": "markdown",
   "metadata": {},
   "source": [
    "Данные по образованию и типу занятости являются прямыми категориями.\n",
    "Но возраст - это набор цифр.\n",
    "Для анализа медианного значения дохода следует этот показатель свести к категориям.\n",
    "\n",
    "По исследованию данных в первой части работы:\n",
    " * медиана = 43 года\n",
    " * минимум ~ 18 лет\n"
   ]
  },
  {
   "cell_type": "markdown",
   "metadata": {},
   "source": [
    "Исследуем пропуски (згачение \"0\") в возрасте"
   ]
  },
  {
   "cell_type": "code",
   "execution_count": 328,
   "metadata": {},
   "outputs": [
    {
     "name": "stdout",
     "output_type": "stream",
     "text": [
      "<class 'pandas.core.frame.DataFrame'>\n",
      "Int64Index: 101 entries, 99 to 21312\n",
      "Data columns (total 12 columns):\n",
      " #   Column            Non-Null Count  Dtype  \n",
      "---  ------            --------------  -----  \n",
      " 0   index             101 non-null    int64  \n",
      " 1   children          101 non-null    int64  \n",
      " 2   days_employed     91 non-null     float64\n",
      " 3   dob_years         101 non-null    int64  \n",
      " 4   education_id      101 non-null    int64  \n",
      " 5   family_status_id  101 non-null    int64  \n",
      " 6   gender            101 non-null    object \n",
      " 7   income_type       101 non-null    object \n",
      " 8   debt              101 non-null    int64  \n",
      " 9   total_income      91 non-null     float64\n",
      " 10  purpose           101 non-null    object \n",
      " 11  childhood         91 non-null     float64\n",
      "dtypes: float64(3), int64(6), object(3)\n",
      "memory usage: 10.3+ KB\n"
     ]
    }
   ],
   "source": [
    "# табличка с возрастом \"0\"\n",
    "dob_years_0 = data[data['dob_years'] == 0]\n",
    "dob_years_0.info()"
   ]
  },
  {
   "cell_type": "code",
   "execution_count": 329,
   "metadata": {},
   "outputs": [
    {
     "data": {
      "text/html": [
       "<div>\n",
       "<style scoped>\n",
       "    .dataframe tbody tr th:only-of-type {\n",
       "        vertical-align: middle;\n",
       "    }\n",
       "\n",
       "    .dataframe tbody tr th {\n",
       "        vertical-align: top;\n",
       "    }\n",
       "\n",
       "    .dataframe thead th {\n",
       "        text-align: right;\n",
       "    }\n",
       "</style>\n",
       "<table border=\"1\" class=\"dataframe\">\n",
       "  <thead>\n",
       "    <tr style=\"text-align: right;\">\n",
       "      <th></th>\n",
       "      <th>index</th>\n",
       "      <th>children</th>\n",
       "      <th>days_employed</th>\n",
       "      <th>dob_years</th>\n",
       "      <th>education_id</th>\n",
       "      <th>family_status_id</th>\n",
       "      <th>debt</th>\n",
       "      <th>total_income</th>\n",
       "      <th>childhood</th>\n",
       "    </tr>\n",
       "  </thead>\n",
       "  <tbody>\n",
       "    <tr>\n",
       "      <th>count</th>\n",
       "      <td>101.00</td>\n",
       "      <td>101.00</td>\n",
       "      <td>91.00</td>\n",
       "      <td>101.00</td>\n",
       "      <td>101.00</td>\n",
       "      <td>101.00</td>\n",
       "      <td>101.00</td>\n",
       "      <td>91.00</td>\n",
       "      <td>91.00</td>\n",
       "    </tr>\n",
       "    <tr>\n",
       "      <th>mean</th>\n",
       "      <td>10,300.77</td>\n",
       "      <td>0.50</td>\n",
       "      <td>2,896.50</td>\n",
       "      <td>0.00</td>\n",
       "      <td>0.67</td>\n",
       "      <td>1.24</td>\n",
       "      <td>0.08</td>\n",
       "      <td>158,337.96</td>\n",
       "      <td>-7.94</td>\n",
       "    </tr>\n",
       "    <tr>\n",
       "      <th>std</th>\n",
       "      <td>5,826.99</td>\n",
       "      <td>0.81</td>\n",
       "      <td>5,900.53</td>\n",
       "      <td>0.00</td>\n",
       "      <td>0.51</td>\n",
       "      <td>1.52</td>\n",
       "      <td>0.27</td>\n",
       "      <td>74,381.85</td>\n",
       "      <td>16.17</td>\n",
       "    </tr>\n",
       "    <tr>\n",
       "      <th>min</th>\n",
       "      <td>99.00</td>\n",
       "      <td>0.00</td>\n",
       "      <td>4.54</td>\n",
       "      <td>0.00</td>\n",
       "      <td>0.00</td>\n",
       "      <td>0.00</td>\n",
       "      <td>0.00</td>\n",
       "      <td>34,974.45</td>\n",
       "      <td>-45.78</td>\n",
       "    </tr>\n",
       "    <tr>\n",
       "      <th>25%</th>\n",
       "      <td>6,407.00</td>\n",
       "      <td>0.00</td>\n",
       "      <td>40.29</td>\n",
       "      <td>0.00</td>\n",
       "      <td>0.00</td>\n",
       "      <td>0.00</td>\n",
       "      <td>0.00</td>\n",
       "      <td>99,582.87</td>\n",
       "      <td>-0.57</td>\n",
       "    </tr>\n",
       "    <tr>\n",
       "      <th>50%</th>\n",
       "      <td>10,545.00</td>\n",
       "      <td>0.00</td>\n",
       "      <td>73.29</td>\n",
       "      <td>0.00</td>\n",
       "      <td>1.00</td>\n",
       "      <td>1.00</td>\n",
       "      <td>0.00</td>\n",
       "      <td>152,419.18</td>\n",
       "      <td>-0.20</td>\n",
       "    </tr>\n",
       "    <tr>\n",
       "      <th>75%</th>\n",
       "      <td>14,608.00</td>\n",
       "      <td>1.00</td>\n",
       "      <td>209.25</td>\n",
       "      <td>0.00</td>\n",
       "      <td>1.00</td>\n",
       "      <td>3.00</td>\n",
       "      <td>0.00</td>\n",
       "      <td>212,549.42</td>\n",
       "      <td>-0.11</td>\n",
       "    </tr>\n",
       "    <tr>\n",
       "      <th>max</th>\n",
       "      <td>21,313.00</td>\n",
       "      <td>3.00</td>\n",
       "      <td>16,708.02</td>\n",
       "      <td>0.00</td>\n",
       "      <td>2.00</td>\n",
       "      <td>4.00</td>\n",
       "      <td>1.00</td>\n",
       "      <td>386,373.64</td>\n",
       "      <td>-0.01</td>\n",
       "    </tr>\n",
       "  </tbody>\n",
       "</table>\n",
       "</div>"
      ],
      "text/plain": [
       "          index  children  days_employed  dob_years  education_id  \\\n",
       "count    101.00    101.00          91.00     101.00        101.00   \n",
       "mean  10,300.77      0.50       2,896.50       0.00          0.67   \n",
       "std    5,826.99      0.81       5,900.53       0.00          0.51   \n",
       "min       99.00      0.00           4.54       0.00          0.00   \n",
       "25%    6,407.00      0.00          40.29       0.00          0.00   \n",
       "50%   10,545.00      0.00          73.29       0.00          1.00   \n",
       "75%   14,608.00      1.00         209.25       0.00          1.00   \n",
       "max   21,313.00      3.00      16,708.02       0.00          2.00   \n",
       "\n",
       "       family_status_id   debt  total_income  childhood  \n",
       "count            101.00 101.00         91.00      91.00  \n",
       "mean               1.24   0.08    158,337.96      -7.94  \n",
       "std                1.52   0.27     74,381.85      16.17  \n",
       "min                0.00   0.00     34,974.45     -45.78  \n",
       "25%                0.00   0.00     99,582.87      -0.57  \n",
       "50%                1.00   0.00    152,419.18      -0.20  \n",
       "75%                3.00   0.00    212,549.42      -0.11  \n",
       "max                4.00   1.00    386,373.64      -0.01  "
      ]
     },
     "execution_count": 329,
     "metadata": {},
     "output_type": "execute_result"
    }
   ],
   "source": [
    "dob_years_0.describe()"
   ]
  },
  {
   "cell_type": "markdown",
   "metadata": {},
   "source": [
    "Что ж... всё очень похоже на случайное значение \"0\" в данных по возрасту.\n",
    "\n",
    "Заполню медианными значениями по группам"
   ]
  },
  {
   "cell_type": "markdown",
   "metadata": {},
   "source": [
    "Сначала заменю \"0\" на np.NaN"
   ]
  },
  {
   "cell_type": "code",
   "execution_count": 330,
   "metadata": {},
   "outputs": [],
   "source": [
    "import numpy as np\n",
    "data['dob_years'].replace(0, np.NaN, inplace = True)"
   ]
  },
  {
   "cell_type": "code",
   "execution_count": 331,
   "metadata": {
    "scrolled": true
   },
   "outputs": [
    {
     "name": "stdout",
     "output_type": "stream",
     "text": [
      "<class 'pandas.core.frame.DataFrame'>\n",
      "RangeIndex: 21524 entries, 0 to 21523\n",
      "Data columns (total 12 columns):\n",
      " #   Column            Non-Null Count  Dtype  \n",
      "---  ------            --------------  -----  \n",
      " 0   index             21524 non-null  int64  \n",
      " 1   children          21524 non-null  int64  \n",
      " 2   days_employed     19350 non-null  float64\n",
      " 3   dob_years         21423 non-null  float64\n",
      " 4   education_id      21524 non-null  int64  \n",
      " 5   family_status_id  21524 non-null  int64  \n",
      " 6   gender            21524 non-null  object \n",
      " 7   income_type       21524 non-null  object \n",
      " 8   debt              21524 non-null  int64  \n",
      " 9   total_income      19350 non-null  float64\n",
      " 10  purpose           21524 non-null  object \n",
      " 11  childhood         19350 non-null  float64\n",
      "dtypes: float64(4), int64(5), object(3)\n",
      "memory usage: 2.0+ MB\n"
     ]
    }
   ],
   "source": [
    "# проверка\n",
    "data.info()"
   ]
  },
  {
   "cell_type": "code",
   "execution_count": 332,
   "metadata": {},
   "outputs": [
    {
     "data": {
      "text/html": [
       "<div>\n",
       "<style scoped>\n",
       "    .dataframe tbody tr th:only-of-type {\n",
       "        vertical-align: middle;\n",
       "    }\n",
       "\n",
       "    .dataframe tbody tr th {\n",
       "        vertical-align: top;\n",
       "    }\n",
       "\n",
       "    .dataframe thead th {\n",
       "        text-align: right;\n",
       "    }\n",
       "</style>\n",
       "<table border=\"1\" class=\"dataframe\">\n",
       "  <thead>\n",
       "    <tr style=\"text-align: right;\">\n",
       "      <th></th>\n",
       "      <th>index</th>\n",
       "      <th>children</th>\n",
       "      <th>days_employed</th>\n",
       "      <th>dob_years</th>\n",
       "      <th>education_id</th>\n",
       "      <th>family_status_id</th>\n",
       "      <th>gender</th>\n",
       "      <th>income_type</th>\n",
       "      <th>debt</th>\n",
       "      <th>total_income</th>\n",
       "      <th>purpose</th>\n",
       "      <th>childhood</th>\n",
       "    </tr>\n",
       "  </thead>\n",
       "  <tbody>\n",
       "    <tr>\n",
       "      <th>1981</th>\n",
       "      <td>1981</td>\n",
       "      <td>0</td>\n",
       "      <td>30.19</td>\n",
       "      <td>19.00</td>\n",
       "      <td>1</td>\n",
       "      <td>4</td>\n",
       "      <td>F</td>\n",
       "      <td>компаньон</td>\n",
       "      <td>0</td>\n",
       "      <td>59,124.07</td>\n",
       "      <td>свой автомобиль</td>\n",
       "      <td>18.92</td>\n",
       "    </tr>\n",
       "    <tr>\n",
       "      <th>15658</th>\n",
       "      <td>15659</td>\n",
       "      <td>0</td>\n",
       "      <td>39.51</td>\n",
       "      <td>19.00</td>\n",
       "      <td>2</td>\n",
       "      <td>1</td>\n",
       "      <td>F</td>\n",
       "      <td>компаньон</td>\n",
       "      <td>0</td>\n",
       "      <td>167,211.39</td>\n",
       "      <td>на покупку подержанного автомобиля</td>\n",
       "      <td>18.89</td>\n",
       "    </tr>\n",
       "    <tr>\n",
       "      <th>13020</th>\n",
       "      <td>13021</td>\n",
       "      <td>0</td>\n",
       "      <td>29.00</td>\n",
       "      <td>19.00</td>\n",
       "      <td>2</td>\n",
       "      <td>4</td>\n",
       "      <td>F</td>\n",
       "      <td>компаньон</td>\n",
       "      <td>0</td>\n",
       "      <td>165,269.03</td>\n",
       "      <td>автомобили</td>\n",
       "      <td>18.92</td>\n",
       "    </tr>\n",
       "    <tr>\n",
       "      <th>10235</th>\n",
       "      <td>10235</td>\n",
       "      <td>0</td>\n",
       "      <td>33.06</td>\n",
       "      <td>19.00</td>\n",
       "      <td>1</td>\n",
       "      <td>0</td>\n",
       "      <td>F</td>\n",
       "      <td>сотрудник</td>\n",
       "      <td>0</td>\n",
       "      <td>131,308.78</td>\n",
       "      <td>ремонт жилью</td>\n",
       "      <td>18.91</td>\n",
       "    </tr>\n",
       "    <tr>\n",
       "      <th>9218</th>\n",
       "      <td>9218</td>\n",
       "      <td>0</td>\n",
       "      <td>13.42</td>\n",
       "      <td>19.00</td>\n",
       "      <td>1</td>\n",
       "      <td>1</td>\n",
       "      <td>F</td>\n",
       "      <td>компаньон</td>\n",
       "      <td>0</td>\n",
       "      <td>103,676.48</td>\n",
       "      <td>сыграть свадьбу</td>\n",
       "      <td>18.96</td>\n",
       "    </tr>\n",
       "    <tr>\n",
       "      <th>...</th>\n",
       "      <td>...</td>\n",
       "      <td>...</td>\n",
       "      <td>...</td>\n",
       "      <td>...</td>\n",
       "      <td>...</td>\n",
       "      <td>...</td>\n",
       "      <td>...</td>\n",
       "      <td>...</td>\n",
       "      <td>...</td>\n",
       "      <td>...</td>\n",
       "      <td>...</td>\n",
       "      <td>...</td>\n",
       "    </tr>\n",
       "    <tr>\n",
       "      <th>19828</th>\n",
       "      <td>19829</td>\n",
       "      <td>0</td>\n",
       "      <td>nan</td>\n",
       "      <td>nan</td>\n",
       "      <td>1</td>\n",
       "      <td>0</td>\n",
       "      <td>F</td>\n",
       "      <td>сотрудник</td>\n",
       "      <td>0</td>\n",
       "      <td>nan</td>\n",
       "      <td>жилье</td>\n",
       "      <td>nan</td>\n",
       "    </tr>\n",
       "    <tr>\n",
       "      <th>20461</th>\n",
       "      <td>20462</td>\n",
       "      <td>0</td>\n",
       "      <td>14,113.95</td>\n",
       "      <td>nan</td>\n",
       "      <td>1</td>\n",
       "      <td>0</td>\n",
       "      <td>F</td>\n",
       "      <td>пенсионер</td>\n",
       "      <td>0</td>\n",
       "      <td>259,193.92</td>\n",
       "      <td>покупка своего жилья</td>\n",
       "      <td>-38.67</td>\n",
       "    </tr>\n",
       "    <tr>\n",
       "      <th>20576</th>\n",
       "      <td>20577</td>\n",
       "      <td>0</td>\n",
       "      <td>13,822.55</td>\n",
       "      <td>nan</td>\n",
       "      <td>1</td>\n",
       "      <td>4</td>\n",
       "      <td>F</td>\n",
       "      <td>пенсионер</td>\n",
       "      <td>0</td>\n",
       "      <td>129,788.76</td>\n",
       "      <td>недвижимость</td>\n",
       "      <td>-37.87</td>\n",
       "    </tr>\n",
       "    <tr>\n",
       "      <th>21178</th>\n",
       "      <td>21179</td>\n",
       "      <td>2</td>\n",
       "      <td>4.54</td>\n",
       "      <td>nan</td>\n",
       "      <td>0</td>\n",
       "      <td>0</td>\n",
       "      <td>M</td>\n",
       "      <td>компаньон</td>\n",
       "      <td>0</td>\n",
       "      <td>240,702.01</td>\n",
       "      <td>строительство жилой недвижимости</td>\n",
       "      <td>-0.01</td>\n",
       "    </tr>\n",
       "    <tr>\n",
       "      <th>21312</th>\n",
       "      <td>21313</td>\n",
       "      <td>0</td>\n",
       "      <td>52.85</td>\n",
       "      <td>nan</td>\n",
       "      <td>1</td>\n",
       "      <td>4</td>\n",
       "      <td>M</td>\n",
       "      <td>сотрудник</td>\n",
       "      <td>0</td>\n",
       "      <td>152,419.18</td>\n",
       "      <td>операции с жильем</td>\n",
       "      <td>-0.14</td>\n",
       "    </tr>\n",
       "  </tbody>\n",
       "</table>\n",
       "<p>21524 rows × 12 columns</p>\n",
       "</div>"
      ],
      "text/plain": [
       "       index  children  days_employed  dob_years  education_id  \\\n",
       "1981    1981         0          30.19      19.00             1   \n",
       "15658  15659         0          39.51      19.00             2   \n",
       "13020  13021         0          29.00      19.00             2   \n",
       "10235  10235         0          33.06      19.00             1   \n",
       "9218    9218         0          13.42      19.00             1   \n",
       "...      ...       ...            ...        ...           ...   \n",
       "19828  19829         0            nan        nan             1   \n",
       "20461  20462         0      14,113.95        nan             1   \n",
       "20576  20577         0      13,822.55        nan             1   \n",
       "21178  21179         2           4.54        nan             0   \n",
       "21312  21313         0          52.85        nan             1   \n",
       "\n",
       "       family_status_id gender income_type  debt  total_income  \\\n",
       "1981                  4      F   компаньон     0     59,124.07   \n",
       "15658                 1      F   компаньон     0    167,211.39   \n",
       "13020                 4      F   компаньон     0    165,269.03   \n",
       "10235                 0      F   сотрудник     0    131,308.78   \n",
       "9218                  1      F   компаньон     0    103,676.48   \n",
       "...                 ...    ...         ...   ...           ...   \n",
       "19828                 0      F   сотрудник     0           nan   \n",
       "20461                 0      F   пенсионер     0    259,193.92   \n",
       "20576                 4      F   пенсионер     0    129,788.76   \n",
       "21178                 0      M   компаньон     0    240,702.01   \n",
       "21312                 4      M   сотрудник     0    152,419.18   \n",
       "\n",
       "                                  purpose  childhood  \n",
       "1981                      свой автомобиль      18.92  \n",
       "15658  на покупку подержанного автомобиля      18.89  \n",
       "13020                          автомобили      18.92  \n",
       "10235                        ремонт жилью      18.91  \n",
       "9218                      сыграть свадьбу      18.96  \n",
       "...                                   ...        ...  \n",
       "19828                               жилье        nan  \n",
       "20461                покупка своего жилья     -38.67  \n",
       "20576                        недвижимость     -37.87  \n",
       "21178    строительство жилой недвижимости      -0.01  \n",
       "21312                   операции с жильем      -0.14  \n",
       "\n",
       "[21524 rows x 12 columns]"
      ]
     },
     "execution_count": 332,
     "metadata": {},
     "output_type": "execute_result"
    }
   ],
   "source": [
    "data.sort_values(['dob_years'])"
   ]
  },
  {
   "cell_type": "markdown",
   "metadata": {},
   "source": [
    "И меняем NaN на медианные значения по группам"
   ]
  },
  {
   "cell_type": "code",
   "execution_count": 333,
   "metadata": {},
   "outputs": [],
   "source": [
    "data['dob_years'] = data.loc[:, 'dob_years'].fillna(data.groupby('family_status_id')['dob_years'].transform('median'))"
   ]
  },
  {
   "cell_type": "code",
   "execution_count": 334,
   "metadata": {},
   "outputs": [
    {
     "name": "stdout",
     "output_type": "stream",
     "text": [
      "<class 'pandas.core.frame.DataFrame'>\n",
      "RangeIndex: 21524 entries, 0 to 21523\n",
      "Data columns (total 12 columns):\n",
      " #   Column            Non-Null Count  Dtype  \n",
      "---  ------            --------------  -----  \n",
      " 0   index             21524 non-null  int64  \n",
      " 1   children          21524 non-null  int64  \n",
      " 2   days_employed     19350 non-null  float64\n",
      " 3   dob_years         21524 non-null  float64\n",
      " 4   education_id      21524 non-null  int64  \n",
      " 5   family_status_id  21524 non-null  int64  \n",
      " 6   gender            21524 non-null  object \n",
      " 7   income_type       21524 non-null  object \n",
      " 8   debt              21524 non-null  int64  \n",
      " 9   total_income      19350 non-null  float64\n",
      " 10  purpose           21524 non-null  object \n",
      " 11  childhood         19350 non-null  float64\n",
      "dtypes: float64(4), int64(5), object(3)\n",
      "memory usage: 2.0+ MB\n"
     ]
    }
   ],
   "source": [
    "data.info()"
   ]
  },
  {
   "cell_type": "code",
   "execution_count": 335,
   "metadata": {},
   "outputs": [
    {
     "data": {
      "text/html": [
       "<div>\n",
       "<style scoped>\n",
       "    .dataframe tbody tr th:only-of-type {\n",
       "        vertical-align: middle;\n",
       "    }\n",
       "\n",
       "    .dataframe tbody tr th {\n",
       "        vertical-align: top;\n",
       "    }\n",
       "\n",
       "    .dataframe thead th {\n",
       "        text-align: right;\n",
       "    }\n",
       "</style>\n",
       "<table border=\"1\" class=\"dataframe\">\n",
       "  <thead>\n",
       "    <tr style=\"text-align: right;\">\n",
       "      <th></th>\n",
       "      <th>index</th>\n",
       "      <th>children</th>\n",
       "      <th>days_employed</th>\n",
       "      <th>dob_years</th>\n",
       "      <th>education_id</th>\n",
       "      <th>family_status_id</th>\n",
       "      <th>gender</th>\n",
       "      <th>income_type</th>\n",
       "      <th>debt</th>\n",
       "      <th>total_income</th>\n",
       "      <th>purpose</th>\n",
       "      <th>childhood</th>\n",
       "    </tr>\n",
       "  </thead>\n",
       "  <tbody>\n",
       "    <tr>\n",
       "      <th>5563</th>\n",
       "      <td>5563</td>\n",
       "      <td>0</td>\n",
       "      <td>36.89</td>\n",
       "      <td>19.00</td>\n",
       "      <td>2</td>\n",
       "      <td>4</td>\n",
       "      <td>M</td>\n",
       "      <td>сотрудник</td>\n",
       "      <td>0</td>\n",
       "      <td>91,098.23</td>\n",
       "      <td>покупка жилья для сдачи</td>\n",
       "      <td>18.90</td>\n",
       "    </tr>\n",
       "    <tr>\n",
       "      <th>4098</th>\n",
       "      <td>4098</td>\n",
       "      <td>0</td>\n",
       "      <td>4.66</td>\n",
       "      <td>19.00</td>\n",
       "      <td>1</td>\n",
       "      <td>1</td>\n",
       "      <td>M</td>\n",
       "      <td>компаньон</td>\n",
       "      <td>0</td>\n",
       "      <td>91,876.75</td>\n",
       "      <td>на проведение свадьбы</td>\n",
       "      <td>18.99</td>\n",
       "    </tr>\n",
       "    <tr>\n",
       "      <th>12046</th>\n",
       "      <td>12047</td>\n",
       "      <td>0</td>\n",
       "      <td>42.51</td>\n",
       "      <td>19.00</td>\n",
       "      <td>1</td>\n",
       "      <td>4</td>\n",
       "      <td>M</td>\n",
       "      <td>сотрудник</td>\n",
       "      <td>1</td>\n",
       "      <td>93,343.13</td>\n",
       "      <td>операции со своей недвижимостью</td>\n",
       "      <td>18.88</td>\n",
       "    </tr>\n",
       "    <tr>\n",
       "      <th>2725</th>\n",
       "      <td>2725</td>\n",
       "      <td>0</td>\n",
       "      <td>4.83</td>\n",
       "      <td>19.00</td>\n",
       "      <td>1</td>\n",
       "      <td>4</td>\n",
       "      <td>F</td>\n",
       "      <td>компаньон</td>\n",
       "      <td>0</td>\n",
       "      <td>131,967.26</td>\n",
       "      <td>операции с коммерческой недвижимостью</td>\n",
       "      <td>18.99</td>\n",
       "    </tr>\n",
       "    <tr>\n",
       "      <th>10235</th>\n",
       "      <td>10235</td>\n",
       "      <td>0</td>\n",
       "      <td>33.06</td>\n",
       "      <td>19.00</td>\n",
       "      <td>1</td>\n",
       "      <td>0</td>\n",
       "      <td>F</td>\n",
       "      <td>сотрудник</td>\n",
       "      <td>0</td>\n",
       "      <td>131,308.78</td>\n",
       "      <td>ремонт жилью</td>\n",
       "      <td>18.91</td>\n",
       "    </tr>\n",
       "    <tr>\n",
       "      <th>...</th>\n",
       "      <td>...</td>\n",
       "      <td>...</td>\n",
       "      <td>...</td>\n",
       "      <td>...</td>\n",
       "      <td>...</td>\n",
       "      <td>...</td>\n",
       "      <td>...</td>\n",
       "      <td>...</td>\n",
       "      <td>...</td>\n",
       "      <td>...</td>\n",
       "      <td>...</td>\n",
       "      <td>...</td>\n",
       "    </tr>\n",
       "    <tr>\n",
       "      <th>11531</th>\n",
       "      <td>11532</td>\n",
       "      <td>0</td>\n",
       "      <td>278.45</td>\n",
       "      <td>74.00</td>\n",
       "      <td>1</td>\n",
       "      <td>1</td>\n",
       "      <td>F</td>\n",
       "      <td>сотрудник</td>\n",
       "      <td>0</td>\n",
       "      <td>98,945.91</td>\n",
       "      <td>сыграть свадьбу</td>\n",
       "      <td>73.24</td>\n",
       "    </tr>\n",
       "    <tr>\n",
       "      <th>2557</th>\n",
       "      <td>2557</td>\n",
       "      <td>0</td>\n",
       "      <td>15,535.88</td>\n",
       "      <td>74.00</td>\n",
       "      <td>1</td>\n",
       "      <td>0</td>\n",
       "      <td>F</td>\n",
       "      <td>пенсионер</td>\n",
       "      <td>0</td>\n",
       "      <td>42,927.30</td>\n",
       "      <td>автомобили</td>\n",
       "      <td>31.44</td>\n",
       "    </tr>\n",
       "    <tr>\n",
       "      <th>3460</th>\n",
       "      <td>3460</td>\n",
       "      <td>0</td>\n",
       "      <td>14,359.33</td>\n",
       "      <td>74.00</td>\n",
       "      <td>1</td>\n",
       "      <td>0</td>\n",
       "      <td>M</td>\n",
       "      <td>пенсионер</td>\n",
       "      <td>0</td>\n",
       "      <td>54,754.75</td>\n",
       "      <td>операции со своей недвижимостью</td>\n",
       "      <td>34.66</td>\n",
       "    </tr>\n",
       "    <tr>\n",
       "      <th>4895</th>\n",
       "      <td>4895</td>\n",
       "      <td>0</td>\n",
       "      <td>14,230.34</td>\n",
       "      <td>74.00</td>\n",
       "      <td>0</td>\n",
       "      <td>0</td>\n",
       "      <td>F</td>\n",
       "      <td>пенсионер</td>\n",
       "      <td>0</td>\n",
       "      <td>134,935.35</td>\n",
       "      <td>покупка своего жилья</td>\n",
       "      <td>35.01</td>\n",
       "    </tr>\n",
       "    <tr>\n",
       "      <th>8880</th>\n",
       "      <td>8880</td>\n",
       "      <td>0</td>\n",
       "      <td>69.96</td>\n",
       "      <td>75.00</td>\n",
       "      <td>1</td>\n",
       "      <td>2</td>\n",
       "      <td>F</td>\n",
       "      <td>госслужащий</td>\n",
       "      <td>0</td>\n",
       "      <td>153,282.65</td>\n",
       "      <td>заняться образованием</td>\n",
       "      <td>74.81</td>\n",
       "    </tr>\n",
       "  </tbody>\n",
       "</table>\n",
       "<p>21524 rows × 12 columns</p>\n",
       "</div>"
      ],
      "text/plain": [
       "       index  children  days_employed  dob_years  education_id  \\\n",
       "5563    5563         0          36.89      19.00             2   \n",
       "4098    4098         0           4.66      19.00             1   \n",
       "12046  12047         0          42.51      19.00             1   \n",
       "2725    2725         0           4.83      19.00             1   \n",
       "10235  10235         0          33.06      19.00             1   \n",
       "...      ...       ...            ...        ...           ...   \n",
       "11531  11532         0         278.45      74.00             1   \n",
       "2557    2557         0      15,535.88      74.00             1   \n",
       "3460    3460         0      14,359.33      74.00             1   \n",
       "4895    4895         0      14,230.34      74.00             0   \n",
       "8880    8880         0          69.96      75.00             1   \n",
       "\n",
       "       family_status_id gender  income_type  debt  total_income  \\\n",
       "5563                  4      M    сотрудник     0     91,098.23   \n",
       "4098                  1      M    компаньон     0     91,876.75   \n",
       "12046                 4      M    сотрудник     1     93,343.13   \n",
       "2725                  4      F    компаньон     0    131,967.26   \n",
       "10235                 0      F    сотрудник     0    131,308.78   \n",
       "...                 ...    ...          ...   ...           ...   \n",
       "11531                 1      F    сотрудник     0     98,945.91   \n",
       "2557                  0      F    пенсионер     0     42,927.30   \n",
       "3460                  0      M    пенсионер     0     54,754.75   \n",
       "4895                  0      F    пенсионер     0    134,935.35   \n",
       "8880                  2      F  госслужащий     0    153,282.65   \n",
       "\n",
       "                                     purpose  childhood  \n",
       "5563                 покупка жилья для сдачи      18.90  \n",
       "4098                   на проведение свадьбы      18.99  \n",
       "12046        операции со своей недвижимостью      18.88  \n",
       "2725   операции с коммерческой недвижимостью      18.99  \n",
       "10235                           ремонт жилью      18.91  \n",
       "...                                      ...        ...  \n",
       "11531                        сыграть свадьбу      73.24  \n",
       "2557                              автомобили      31.44  \n",
       "3460         операции со своей недвижимостью      34.66  \n",
       "4895                    покупка своего жилья      35.01  \n",
       "8880                   заняться образованием      74.81  \n",
       "\n",
       "[21524 rows x 12 columns]"
      ]
     },
     "execution_count": 335,
     "metadata": {},
     "output_type": "execute_result"
    }
   ],
   "source": [
    "data.sort_values(['dob_years'])"
   ]
  },
  {
   "cell_type": "markdown",
   "metadata": {},
   "source": [
    "### <font color='blue'>Заполняем пропуски дохода</font>"
   ]
  },
  {
   "cell_type": "code",
   "execution_count": 336,
   "metadata": {
    "scrolled": true
   },
   "outputs": [],
   "source": [
    "data['total_income'] = data['total_income'].fillna(data.groupby(['income_type', 'family_status_id', 'education_id'])['total_income'].transform('median'))"
   ]
  },
  {
   "cell_type": "markdown",
   "metadata": {},
   "source": [
    "<font color='blue'>Спасибо. Учту.</font>"
   ]
  },
  {
   "cell_type": "markdown",
   "metadata": {},
   "source": [
    "#### <font color='blue'>Вот что получилось</font>"
   ]
  },
  {
   "cell_type": "markdown",
   "metadata": {},
   "source": [
    "#### Распределение возраст/доход\n"
   ]
  },
  {
   "cell_type": "markdown",
   "metadata": {},
   "source": [
    "Стало"
   ]
  },
  {
   "cell_type": "code",
   "execution_count": 337,
   "metadata": {},
   "outputs": [
    {
     "data": {
      "image/png": "[encoded data removed]",
      "text/plain": [
       "<Figure size 432x288 with 1 Axes>"
      ]
     },
     "metadata": {
      "needs_background": "light"
     },
     "output_type": "display_data"
    }
   ],
   "source": [
    "data.plot.scatter(x=['dob_years'], y=['total_income']);"
   ]
  },
  {
   "cell_type": "markdown",
   "metadata": {},
   "source": [
    "### 12. purpose - цель получения кредита"
   ]
  },
  {
   "cell_type": "markdown",
   "metadata": {},
   "source": [
    "#### Из общей справки по данным\n",
    "- текстовое\n",
    "- пропусков нет"
   ]
  },
  {
   "cell_type": "markdown",
   "metadata": {},
   "source": [
    "#### Смотрим уникальные значения"
   ]
  },
  {
   "cell_type": "code",
   "execution_count": 338,
   "metadata": {},
   "outputs": [
    {
     "data": {
      "text/plain": [
       "свадьба                                   797\n",
       "на проведение свадьбы                     777\n",
       "сыграть свадьбу                           774\n",
       "операции с недвижимостью                  676\n",
       "покупка коммерческой недвижимости         664\n",
       "покупка жилья для сдачи                   653\n",
       "операции с жильем                         653\n",
       "операции с коммерческой недвижимостью     651\n",
       "жилье                                     647\n",
       "покупка жилья                             647\n",
       "покупка жилья для семьи                   641\n",
       "строительство собственной недвижимости    635\n",
       "недвижимость                              634\n",
       "операции со своей недвижимостью           630\n",
       "строительство жилой недвижимости          626\n",
       "покупка недвижимости                      623\n",
       "строительство недвижимости                620\n",
       "покупка своего жилья                      620\n",
       "ремонт жилью                              612\n",
       "покупка жилой недвижимости                607\n",
       "на покупку своего автомобиля              505\n",
       "заняться высшим образованием              496\n",
       "автомобиль                                495\n",
       "сделка с подержанным автомобилем          489\n",
       "свой автомобиль                           480\n",
       "на покупку подержанного автомобиля        479\n",
       "автомобили                                478\n",
       "на покупку автомобиля                     472\n",
       "дополнительное образование                462\n",
       "приобретение автомобиля                   462\n",
       "сделка с автомобилем                      455\n",
       "высшее образование                        453\n",
       "получение дополнительного образования     447\n",
       "образование                               447\n",
       "получение образования                     443\n",
       "профильное образование                    436\n",
       "получение высшего образования             426\n",
       "заняться образованием                     412\n",
       "Name: purpose, dtype: int64"
      ]
     },
     "execution_count": 338,
     "metadata": {},
     "output_type": "execute_result"
    }
   ],
   "source": [
    "data['purpose'].sort_values().value_counts()"
   ]
  },
  {
   "cell_type": "markdown",
   "metadata": {},
   "source": [
    "Видим множество неявных дубликатов"
   ]
  },
  {
   "cell_type": "markdown",
   "metadata": {},
   "source": [
    "#### Создам список уникальных значений"
   ]
  },
  {
   "cell_type": "code",
   "execution_count": 339,
   "metadata": {},
   "outputs": [
    {
     "data": {
      "text/plain": [
       "array(['покупка жилья', 'приобретение автомобиля',\n",
       "       'дополнительное образование', 'сыграть свадьбу',\n",
       "       'операции с жильем', 'образование', 'на проведение свадьбы',\n",
       "       'покупка жилья для семьи', 'покупка недвижимости',\n",
       "       'покупка коммерческой недвижимости', 'покупка жилой недвижимости',\n",
       "       'строительство собственной недвижимости', 'недвижимость',\n",
       "       'строительство недвижимости', 'на покупку подержанного автомобиля',\n",
       "       'на покупку своего автомобиля',\n",
       "       'операции с коммерческой недвижимостью',\n",
       "       'строительство жилой недвижимости', 'жилье',\n",
       "       'операции со своей недвижимостью', 'автомобили',\n",
       "       'заняться образованием', 'сделка с подержанным автомобилем',\n",
       "       'получение образования', 'автомобиль', 'свадьба',\n",
       "       'получение дополнительного образования', 'покупка своего жилья',\n",
       "       'операции с недвижимостью', 'получение высшего образования',\n",
       "       'свой автомобиль', 'сделка с автомобилем',\n",
       "       'профильное образование', 'высшее образование',\n",
       "       'покупка жилья для сдачи', 'на покупку автомобиля', 'ремонт жилью',\n",
       "       'заняться высшим образованием'], dtype=object)"
      ]
     },
     "execution_count": 339,
     "metadata": {},
     "output_type": "execute_result"
    }
   ],
   "source": [
    "purpose_unique = data['purpose'].unique()\n",
    "purpose_unique"
   ]
  },
  {
   "cell_type": "markdown",
   "metadata": {},
   "source": [
    "# Предварительное знакомство с данными показало то, что кое-что в них было не так.\n"
   ]
  },
  {
   "cell_type": "markdown",
   "metadata": {},
   "source": [
    "## children"
   ]
  },
  {
   "cell_type": "markdown",
   "metadata": {},
   "source": [
    "### отрицательные значения\n",
    "исправлено"
   ]
  },
  {
   "cell_type": "markdown",
   "metadata": {},
   "source": [
    "### гигантское количество\n",
    "убран \"0\" в числе"
   ]
  },
  {
   "cell_type": "code",
   "execution_count": 340,
   "metadata": {},
   "outputs": [
    {
     "data": {
      "image/png": "[encoded data removed]",
      "text/plain": [
       "<Figure size 432x288 with 1 Axes>"
      ]
     },
     "metadata": {
      "needs_background": "light"
     },
     "output_type": "display_data"
    }
   ],
   "source": [
    "childrens.plot(kind='hist');"
   ]
  },
  {
   "cell_type": "markdown",
   "metadata": {},
   "source": [
    "Прав Владимр Владимирович. Мало детей у нас..."
   ]
  },
  {
   "cell_type": "markdown",
   "metadata": {},
   "source": [
    "## days_employed"
   ]
  },
  {
   "cell_type": "markdown",
   "metadata": {},
   "source": [
    "### странные числа\n",
    "методом сортировки вывлено минимальное количество, очень похожее на количество часов в сутках\n",
    "значения заменены делением на 24"
   ]
  },
  {
   "cell_type": "markdown",
   "metadata": {},
   "source": [
    "### отрицательные значения\n",
    "отрицательные значения заменены на положительные"
   ]
  },
  {
   "cell_type": "markdown",
   "metadata": {},
   "source": [
    "### пропущенные значения\n",
    "пока оставлено без изменений"
   ]
  },
  {
   "cell_type": "code",
   "execution_count": 341,
   "metadata": {},
   "outputs": [
    {
     "data": {
      "image/png": "[encoded data removed]",
      "text/plain": [
       "<Figure size 432x288 with 1 Axes>"
      ]
     },
     "metadata": {
      "needs_background": "light"
     },
     "output_type": "display_data"
    }
   ],
   "source": [
    "data.plot.scatter(x=['dob_years'], y=['days_employed']);"
   ]
  },
  {
   "cell_type": "markdown",
   "metadata": {},
   "source": [
    "Безвозрастные умудрились наработать трудовой стаж.\n",
    "<font color='blue'>Но мы уже избавились от безвозрастных - наградили их жизнью</font>"
   ]
  },
  {
   "cell_type": "markdown",
   "metadata": {},
   "source": [
    "## dob_years"
   ]
  },
  {
   "cell_type": "markdown",
   "metadata": {},
   "source": [
    "### пропущенные значения\n",
    "пока оставлено без изменений"
   ]
  },
  {
   "cell_type": "code",
   "execution_count": 342,
   "metadata": {},
   "outputs": [
    {
     "data": {
      "image/png": "[encoded data removed]",
      "text/plain": [
       "<Figure size 432x288 with 1 Axes>"
      ]
     },
     "metadata": {
      "needs_background": "light"
     },
     "output_type": "display_data"
    }
   ],
   "source": [
    "dob_year.plot(kind='hist');"
   ]
  },
  {
   "cell_type": "markdown",
   "metadata": {},
   "source": [
    "Безвозрастных мало, а основная возрастная группа - 30 - 50 лет."
   ]
  },
  {
   "cell_type": "markdown",
   "metadata": {},
   "source": [
    "## education\n",
    "только странно, что клиенты с учёной степенью имеют малый доход\n"
   ]
  },
  {
   "cell_type": "markdown",
   "metadata": {},
   "source": [
    "### неявные дубликаты\n",
    "из-за применения разного регистра\n",
    "исправлено"
   ]
  },
  {
   "cell_type": "markdown",
   "metadata": {},
   "source": [
    "### по сути, дублируется колонкой education_id\n",
    "столбец удалён\n",
    "сформирован словарь с education_id"
   ]
  },
  {
   "cell_type": "markdown",
   "metadata": {},
   "source": [
    "## education_id\n",
    "всё хорошо\n",
    "сформирован словарь для education"
   ]
  },
  {
   "cell_type": "markdown",
   "metadata": {},
   "source": [
    "## family_status  и family_status_id\n",
    "сформирован словарь\n",
    "излишний столбец family_status удалён"
   ]
  },
  {
   "cell_type": "markdown",
   "metadata": {},
   "source": [
    "## gender\n",
    "почти всё хорошо"
   ]
  },
  {
   "cell_type": "markdown",
   "metadata": {},
   "source": [
    "### Успешно удалена странная строка из dataframe"
   ]
  },
  {
   "cell_type": "code",
   "execution_count": 343,
   "metadata": {},
   "outputs": [
    {
     "data": {
      "text/plain": [
       "F    14236\n",
       "M     7288\n",
       "Name: gender, dtype: int64"
      ]
     },
     "execution_count": 343,
     "metadata": {},
     "output_type": "execute_result"
    }
   ],
   "source": [
    "data['gender'].sort_values().value_counts()"
   ]
  },
  {
   "cell_type": "markdown",
   "metadata": {},
   "source": [
    "## income_type\n",
    "всё прекрасно"
   ]
  },
  {
   "cell_type": "code",
   "execution_count": 344,
   "metadata": {},
   "outputs": [
    {
     "data": {
      "text/plain": [
       "сотрудник          11119\n",
       "компаньон           5084\n",
       "пенсионер           3856\n",
       "госслужащий         1459\n",
       "безработный            2\n",
       "предприниматель        2\n",
       "студент                1\n",
       "в декрете              1\n",
       "Name: income_type, dtype: int64"
      ]
     },
     "execution_count": 344,
     "metadata": {},
     "output_type": "execute_result"
    }
   ],
   "source": [
    "data['income_type'].sort_values().value_counts()"
   ]
  },
  {
   "cell_type": "markdown",
   "metadata": {},
   "source": [
    "## debt\n",
    "данные в отличном состоянии"
   ]
  },
  {
   "cell_type": "code",
   "execution_count": 345,
   "metadata": {},
   "outputs": [
    {
     "data": {
      "text/plain": [
       "0    19783\n",
       "1     1741\n",
       "Name: debt, dtype: int64"
      ]
     },
     "execution_count": 345,
     "metadata": {},
     "output_type": "execute_result"
    }
   ],
   "source": [
    "data['debt'].sort_values().value_counts()"
   ]
  },
  {
   "cell_type": "markdown",
   "metadata": {},
   "source": [
    "Вот, какие замечательные клиенты у банка!"
   ]
  },
  {
   "cell_type": "markdown",
   "metadata": {},
   "source": [
    "## total_income"
   ]
  },
  {
   "cell_type": "markdown",
   "metadata": {},
   "source": [
    "### есть незначительное (~10%) количество пропусков\n",
    "пока что пропуски оставил как есть"
   ]
  },
  {
   "cell_type": "markdown",
   "metadata": {},
   "source": [
    "Распределение возраст/доход"
   ]
  },
  {
   "cell_type": "code",
   "execution_count": 346,
   "metadata": {},
   "outputs": [
    {
     "data": {
      "image/png": "[encoded data removed]",
      "text/plain": [
       "<Figure size 432x288 with 1 Axes>"
      ]
     },
     "metadata": {
      "needs_background": "light"
     },
     "output_type": "display_data"
    }
   ],
   "source": [
    "data.plot.scatter(x=['dob_years'], y=['total_income']);"
   ]
  },
  {
   "cell_type": "markdown",
   "metadata": {},
   "source": [
    "## purpose\n",
    "нет пропусков\n",
    "есть неявные дубликаты"
   ]
  },
  {
   "cell_type": "markdown",
   "metadata": {},
   "source": [
    "## Шаг 2. Предобработка данных"
   ]
  },
  {
   "cell_type": "markdown",
   "metadata": {},
   "source": [
    "## Обработка пропусков"
   ]
  },
  {
   "cell_type": "markdown",
   "metadata": {},
   "source": [
    "\n",
    "Для обработки пропусков, обратим внимание на вопросы, поставленные в качестве целей исследования.\n",
    "\n",
    "Это\n",
    "- Есть ли зависимость между наличием детей и возвратом кредита в срок?\n",
    "- Есть ли зависимость между семейным положением и возвратом кредита в срок?\n",
    "- Есть ли зависимость между уровнем дохода и возвратом кредита в срок?\n",
    "- Как разные цели кредита влияют на его возврат в срок?\n",
    "\n",
    "Прорабатываем пропуски последовательно."
   ]
  },
  {
   "cell_type": "markdown",
   "metadata": {},
   "source": [
    "### ...детей ..."
   ]
  },
  {
   "cell_type": "markdown",
   "metadata": {},
   "source": [
    "#### есть ли пропуски в детях?\n",
    "из первого раздела известно, что данных о количестве детей, пропусков нет.\n",
    "а со странными значениями уже справились"
   ]
  },
  {
   "cell_type": "code",
   "execution_count": 347,
   "metadata": {},
   "outputs": [
    {
     "data": {
      "text/plain": [
       "0    14148\n",
       "1     4865\n",
       "2     2131\n",
       "3      330\n",
       "4       41\n",
       "5        9\n",
       "Name: children, dtype: int64"
      ]
     },
     "execution_count": 347,
     "metadata": {},
     "output_type": "execute_result"
    }
   ],
   "source": [
    "data['children'].value_counts()"
   ]
  },
  {
   "cell_type": "markdown",
   "metadata": {},
   "source": [
    "### ...семейное положение ..."
   ]
  },
  {
   "cell_type": "markdown",
   "metadata": {},
   "source": [
    "#### есть ли пропуски в данных о семейном положении?\n",
    "из первого раздела известно, что таких пропусков нет.\n",
    "а со странными значениями уже справились"
   ]
  },
  {
   "cell_type": "code",
   "execution_count": 348,
   "metadata": {
    "scrolled": false
   },
   "outputs": [
    {
     "data": {
      "text/plain": [
       "0    12380\n",
       "1     4176\n",
       "4     2813\n",
       "3     1195\n",
       "2      960\n",
       "Name: family_status_id, dtype: int64"
      ]
     },
     "execution_count": 348,
     "metadata": {},
     "output_type": "execute_result"
    }
   ],
   "source": [
    "data['family_status_id'].value_counts()"
   ]
  },
  {
   "cell_type": "markdown",
   "metadata": {},
   "source": [
    "### ...уровень дохода ..."
   ]
  },
  {
   "cell_type": "markdown",
   "metadata": {},
   "source": [
    "#### есть ли пропуски в данных об уровне дохода?\n",
    "из первого раздела известно, что такие пропуски есть.\n",
    "посмотрим на них более пристально"
   ]
  },
  {
   "cell_type": "code",
   "execution_count": 349,
   "metadata": {},
   "outputs": [
    {
     "data": {
      "text/plain": [
       "2"
      ]
     },
     "execution_count": 349,
     "metadata": {},
     "output_type": "execute_result"
    }
   ],
   "source": [
    "data['total_income'].isna().sum()"
   ]
  },
  {
   "cell_type": "markdown",
   "metadata": {},
   "source": [
    "2 строк пропуском значений"
   ]
  },
  {
   "cell_type": "markdown",
   "metadata": {},
   "source": [
    "<font color='blue'>ДВЕ строки можно удалить без последствий для результатов анализа</font>"
   ]
  },
  {
   "cell_type": "code",
   "execution_count": 350,
   "metadata": {
    "scrolled": true
   },
   "outputs": [
    {
     "data": {
      "text/html": [
       "<div>\n",
       "<style scoped>\n",
       "    .dataframe tbody tr th:only-of-type {\n",
       "        vertical-align: middle;\n",
       "    }\n",
       "\n",
       "    .dataframe tbody tr th {\n",
       "        vertical-align: top;\n",
       "    }\n",
       "\n",
       "    .dataframe thead th {\n",
       "        text-align: right;\n",
       "    }\n",
       "</style>\n",
       "<table border=\"1\" class=\"dataframe\">\n",
       "  <thead>\n",
       "    <tr style=\"text-align: right;\">\n",
       "      <th></th>\n",
       "      <th>index</th>\n",
       "      <th>children</th>\n",
       "      <th>days_employed</th>\n",
       "      <th>dob_years</th>\n",
       "      <th>education_id</th>\n",
       "      <th>family_status_id</th>\n",
       "      <th>gender</th>\n",
       "      <th>income_type</th>\n",
       "      <th>debt</th>\n",
       "      <th>total_income</th>\n",
       "      <th>purpose</th>\n",
       "      <th>childhood</th>\n",
       "    </tr>\n",
       "  </thead>\n",
       "  <tbody>\n",
       "    <tr>\n",
       "      <th>5936</th>\n",
       "      <td>5936</td>\n",
       "      <td>0</td>\n",
       "      <td>nan</td>\n",
       "      <td>58.00</td>\n",
       "      <td>0</td>\n",
       "      <td>0</td>\n",
       "      <td>M</td>\n",
       "      <td>предприниматель</td>\n",
       "      <td>0</td>\n",
       "      <td>nan</td>\n",
       "      <td>покупка жилой недвижимости</td>\n",
       "      <td>nan</td>\n",
       "    </tr>\n",
       "    <tr>\n",
       "      <th>12406</th>\n",
       "      <td>12407</td>\n",
       "      <td>0</td>\n",
       "      <td>nan</td>\n",
       "      <td>57.00</td>\n",
       "      <td>2</td>\n",
       "      <td>3</td>\n",
       "      <td>F</td>\n",
       "      <td>пенсионер</td>\n",
       "      <td>0</td>\n",
       "      <td>nan</td>\n",
       "      <td>получение высшего образования</td>\n",
       "      <td>nan</td>\n",
       "    </tr>\n",
       "  </tbody>\n",
       "</table>\n",
       "</div>"
      ],
      "text/plain": [
       "       index  children  days_employed  dob_years  education_id  \\\n",
       "5936    5936         0            nan      58.00             0   \n",
       "12406  12407         0            nan      57.00             2   \n",
       "\n",
       "       family_status_id gender      income_type  debt  total_income  \\\n",
       "5936                  0      M  предприниматель     0           nan   \n",
       "12406                 3      F        пенсионер     0           nan   \n",
       "\n",
       "                             purpose  childhood  \n",
       "5936      покупка жилой недвижимости        nan  \n",
       "12406  получение высшего образования        nan  "
      ]
     },
     "execution_count": 350,
     "metadata": {},
     "output_type": "execute_result"
    }
   ],
   "source": [
    "income_nan = data.loc[data['total_income'].isna()]\n",
    "income_nan"
   ]
  },
  {
   "cell_type": "markdown",
   "metadata": {},
   "source": [
    "Из принта видно, что Nan одновременно встречается в колонках days_employed и total_income (и вычесленном childhood)\n",
    "всего 2 строки\n",
    "\n",
    "<font color='blue'>Для предпринимателя и пенсионера не нашлось похожих )))</font>"
   ]
  },
  {
   "cell_type": "code",
   "execution_count": 351,
   "metadata": {},
   "outputs": [
    {
     "name": "stdout",
     "output_type": "stream",
     "text": [
      "5936     True\n",
      "12406    True\n",
      "Name: days_employed, dtype: bool\n"
     ]
    }
   ],
   "source": [
    "print(income_nan['days_employed'].isna().sort_values())"
   ]
  },
  {
   "cell_type": "markdown",
   "metadata": {},
   "source": [
    "В отсортированном принте отсутсвуют False.\n",
    "Это значит то, что во всех строках NaN для total_income также NaN и в days_employed"
   ]
  },
  {
   "cell_type": "markdown",
   "metadata": {},
   "source": [
    "Посмотрим, как распределяются строки NaN в разрезе других колонок"
   ]
  },
  {
   "cell_type": "code",
   "execution_count": 352,
   "metadata": {},
   "outputs": [
    {
     "data": {
      "text/plain": [
       "0    2\n",
       "Name: children, dtype: int64"
      ]
     },
     "execution_count": 352,
     "metadata": {},
     "output_type": "execute_result"
    }
   ],
   "source": [
    "# количество детей \n",
    "income_nan['children'].value_counts()"
   ]
  },
  {
   "cell_type": "code",
   "execution_count": 353,
   "metadata": {},
   "outputs": [
    {
     "data": {
      "image/png": "[encoded data removed]",
      "text/plain": [
       "<Figure size 432x288 with 1 Axes>"
      ]
     },
     "metadata": {
      "needs_background": "light"
     },
     "output_type": "display_data"
    }
   ],
   "source": [
    "# возраст\n",
    "income_nan['dob_years'].plot(kind='hist');"
   ]
  },
  {
   "cell_type": "code",
   "execution_count": 354,
   "metadata": {},
   "outputs": [
    {
     "data": {
      "text/plain": [
       "пенсионер          1\n",
       "предприниматель    1\n",
       "Name: income_type, dtype: int64"
      ]
     },
     "execution_count": 354,
     "metadata": {},
     "output_type": "execute_result"
    }
   ],
   "source": [
    "# тип занятости\n",
    "\n",
    "income_nan['income_type'].value_counts()"
   ]
  },
  {
   "cell_type": "markdown",
   "metadata": {},
   "source": [
    "Никаких аномалий не выявлено. Распределение примерно похоже на общее распределение данных по остальным показателям среди общей массы."
   ]
  },
  {
   "cell_type": "markdown",
   "metadata": {},
   "source": [
    "Для ответа на поставленный перед исследованием вопрос\n",
    "- Есть ли зависимость между уровнем дохода и возвратом кредита в срок?\n",
    "строки с пропущенными значениями в колонке total_income исключаем из анализа, принимая к сведению несущественное (<font color='blue'>ДВЕ</font>) их количество.\n",
    "Имеем в виду, что одновременно в такой выборке данных также будут отсутвовать пропуски в колонке days_employed\n",
    "\n",
    "(после создания колонки категорий целей кредитования)"
   ]
  },
  {
   "cell_type": "markdown",
   "metadata": {},
   "source": [
    "### ...цель получения кредита ..."
   ]
  },
  {
   "cell_type": "markdown",
   "metadata": {},
   "source": [
    "#### есть ли пропуски в данных о целях получения кредита?\n",
    "из первого раздела известно, что таких пропусков нет.\n",
    "также составлен словарь, в котором выделены категории целей\n"
   ]
  },
  {
   "cell_type": "markdown",
   "metadata": {},
   "source": [
    "**Вывод**"
   ]
  },
  {
   "cell_type": "markdown",
   "metadata": {},
   "source": [
    "Данные подготовлены для работы.\n",
    "\n",
    "Для ответа на вопросы\n",
    "* Есть ли зависимость между наличием детей и возвратом кредита в срок?\n",
    "* Есть ли зависимость между семейным положением и возвратом кредита в срок?\n",
    "* Как разные цели кредита влияют на его возврат в срок?\n",
    "исследуем данные в data\n",
    "\n",
    "Для ответа на вопрос \n",
    "* Есть ли зависимость между уровнем дохода и возвратом кредита в срок?\n",
    "исследуем data_not_na"
   ]
  },
  {
   "cell_type": "markdown",
   "metadata": {},
   "source": [
    "### Замена типа данных"
   ]
  },
  {
   "cell_type": "markdown",
   "metadata": {},
   "source": [
    "**Вывод**"
   ]
  },
  {
   "cell_type": "markdown",
   "metadata": {},
   "source": [
    "для ответа на поставленные вопросы ти пы данных менять не надо.\n",
    "для обработки целей кредитлования воспользуемся лемматизацией ниже"
   ]
  },
  {
   "cell_type": "markdown",
   "metadata": {},
   "source": [
    "### Обработка дубликатов"
   ]
  },
  {
   "cell_type": "markdown",
   "metadata": {},
   "source": [
    "Есть ли явные дубликаты в данных?"
   ]
  },
  {
   "cell_type": "code",
   "execution_count": 355,
   "metadata": {},
   "outputs": [
    {
     "name": "stdout",
     "output_type": "stream",
     "text": [
      "Количество явных дубликатов: 0\n"
     ]
    }
   ],
   "source": [
    "print('Количество явных дубликатов:', data.duplicated().sum())"
   ]
  },
  {
   "cell_type": "markdown",
   "metadata": {},
   "source": [
    "**Вывод**"
   ]
  },
  {
   "cell_type": "markdown",
   "metadata": {},
   "source": [
    "## ! Явных дубликатов нет !\n",
    "Неявные дубликаты обработаны ранее"
   ]
  },
  {
   "cell_type": "markdown",
   "metadata": {},
   "source": [
    "### Лемматизация"
   ]
  },
  {
   "cell_type": "code",
   "execution_count": 356,
   "metadata": {},
   "outputs": [
    {
     "data": {
      "text/plain": [
       "array(['покупка жилья', 'приобретение автомобиля',\n",
       "       'дополнительное образование', 'сыграть свадьбу',\n",
       "       'операции с жильем', 'образование', 'на проведение свадьбы',\n",
       "       'покупка жилья для семьи', 'покупка недвижимости',\n",
       "       'покупка коммерческой недвижимости', 'покупка жилой недвижимости',\n",
       "       'строительство собственной недвижимости', 'недвижимость',\n",
       "       'строительство недвижимости', 'на покупку подержанного автомобиля',\n",
       "       'на покупку своего автомобиля',\n",
       "       'операции с коммерческой недвижимостью',\n",
       "       'строительство жилой недвижимости', 'жилье',\n",
       "       'операции со своей недвижимостью', 'автомобили',\n",
       "       'заняться образованием', 'сделка с подержанным автомобилем',\n",
       "       'получение образования', 'автомобиль', 'свадьба',\n",
       "       'получение дополнительного образования', 'покупка своего жилья',\n",
       "       'операции с недвижимостью', 'получение высшего образования',\n",
       "       'свой автомобиль', 'сделка с автомобилем',\n",
       "       'профильное образование', 'высшее образование',\n",
       "       'покупка жилья для сдачи', 'на покупку автомобиля', 'ремонт жилью',\n",
       "       'заняться высшим образованием'], dtype=object)"
      ]
     },
     "execution_count": 356,
     "metadata": {},
     "output_type": "execute_result"
    }
   ],
   "source": [
    "\n",
    "from pymystem3 import Mystem\n",
    "m = Mystem()\n",
    "\n",
    "# проведём лемматизацию уникальных значений колонки purpose\n",
    "# соберём уникальные значения purpose\n",
    "purpose_unique = data['purpose'].unique()\n",
    "purpose_unique\n"
   ]
  },
  {
   "cell_type": "markdown",
   "metadata": {},
   "source": [
    "38 уникальных значений для лемматизации"
   ]
  },
  {
   "cell_type": "code",
   "execution_count": 357,
   "metadata": {},
   "outputs": [
    {
     "name": "stdout",
     "output_type": "stream",
     "text": [
      "[[['покупка', ' ', 'жилье', '\\n']], [['приобретение', ' ', 'автомобиль', '\\n']], [['дополнительный', ' ', 'образование', '\\n']], [['сыграть', ' ', 'свадьба', '\\n']], [['операция', ' ', 'с', ' ', 'жилье', '\\n']], [['образование', '\\n']], [['на', ' ', 'проведение', ' ', 'свадьба', '\\n']], [['покупка', ' ', 'жилье', ' ', 'для', ' ', 'семья', '\\n']], [['покупка', ' ', 'недвижимость', '\\n']], [['покупка', ' ', 'коммерческий', ' ', 'недвижимость', '\\n']], [['покупка', ' ', 'жилой', ' ', 'недвижимость', '\\n']], [['строительство', ' ', 'собственный', ' ', 'недвижимость', '\\n']], [['недвижимость', '\\n']], [['строительство', ' ', 'недвижимость', '\\n']], [['на', ' ', 'покупка', ' ', 'подержать', ' ', 'автомобиль', '\\n']], [['на', ' ', 'покупка', ' ', 'свой', ' ', 'автомобиль', '\\n']], [['операция', ' ', 'с', ' ', 'коммерческий', ' ', 'недвижимость', '\\n']], [['строительство', ' ', 'жилой', ' ', 'недвижимость', '\\n']], [['жилье', '\\n']], [['операция', ' ', 'со', ' ', 'свой', ' ', 'недвижимость', '\\n']], [['автомобиль', '\\n']], [['заниматься', ' ', 'образование', '\\n']], [['сделка', ' ', 'с', ' ', 'подержанный', ' ', 'автомобиль', '\\n']], [['получение', ' ', 'образование', '\\n']], [['автомобиль', '\\n']], [['свадьба', '\\n']], [['получение', ' ', 'дополнительный', ' ', 'образование', '\\n']], [['покупка', ' ', 'свой', ' ', 'жилье', '\\n']], [['операция', ' ', 'с', ' ', 'недвижимость', '\\n']], [['получение', ' ', 'высокий', ' ', 'образование', '\\n']], [['свой', ' ', 'автомобиль', '\\n']], [['сделка', ' ', 'с', ' ', 'автомобиль', '\\n']], [['профильный', ' ', 'образование', '\\n']], [['высокий', ' ', 'образование', '\\n']], [['покупка', ' ', 'жилье', ' ', 'для', ' ', 'сдача', '\\n']], [['на', ' ', 'покупка', ' ', 'автомобиль', '\\n']], [['ремонт', ' ', 'жилье', '\\n']], [['заниматься', ' ', 'высокий', ' ', 'образование', '\\n']]]\n"
     ]
    }
   ],
   "source": [
    "lemmas_series = []\n",
    "for i in range(len(purpose_unique)):\n",
    "    \n",
    "    lemmas = m.lemmatize(purpose_unique[i])\n",
    "    lemmas_series.append([lemmas])\n",
    "    # print(lemmas)\n",
    "    \n",
    "print(lemmas_series)"
   ]
  },
  {
   "cell_type": "markdown",
   "metadata": {},
   "source": [
    "### Сделаем отбор в отдельные таблицы строк из data, в которых в purpose встречаются ключевые слова"
   ]
  },
  {
   "cell_type": "code",
   "execution_count": 358,
   "metadata": {},
   "outputs": [
    {
     "data": {
      "text/html": [
       "<div>\n",
       "<style scoped>\n",
       "    .dataframe tbody tr th:only-of-type {\n",
       "        vertical-align: middle;\n",
       "    }\n",
       "\n",
       "    .dataframe tbody tr th {\n",
       "        vertical-align: top;\n",
       "    }\n",
       "\n",
       "    .dataframe thead th {\n",
       "        text-align: right;\n",
       "    }\n",
       "</style>\n",
       "<table border=\"1\" class=\"dataframe\">\n",
       "  <thead>\n",
       "    <tr style=\"text-align: right;\">\n",
       "      <th></th>\n",
       "      <th>index</th>\n",
       "      <th>children</th>\n",
       "      <th>days_employed</th>\n",
       "      <th>dob_years</th>\n",
       "      <th>education_id</th>\n",
       "      <th>family_status_id</th>\n",
       "      <th>gender</th>\n",
       "      <th>income_type</th>\n",
       "      <th>debt</th>\n",
       "      <th>total_income</th>\n",
       "      <th>purpose</th>\n",
       "      <th>childhood</th>\n",
       "    </tr>\n",
       "  </thead>\n",
       "  <tbody>\n",
       "  </tbody>\n",
       "</table>\n",
       "</div>"
      ],
      "text/plain": [
       "Empty DataFrame\n",
       "Columns: [index, children, days_employed, dob_years, education_id, family_status_id, gender, income_type, debt, total_income, purpose, childhood]\n",
       "Index: []"
      ]
     },
     "execution_count": 358,
     "metadata": {},
     "output_type": "execute_result"
    }
   ],
   "source": [
    "# готовлю таблички для наполнения данными\n",
    "data_1 = data # скопировал стркутуру и данные\n",
    "# удаляю все строки\n",
    "data_1 = data_1.loc[data_1['children'] < 0] # заведомо значение False\n",
    "data_1"
   ]
  },
  {
   "cell_type": "code",
   "execution_count": 359,
   "metadata": {},
   "outputs": [],
   "source": [
    "# дублирую dataframe без строк в заготовки для группировки по ключевым словам\n",
    "auto = data_1 # автомобиль\n",
    "education = data_1 # образование\n",
    "wedding = data_1 # свадьба\n",
    "commercial_real_estate = data_1 # коммерческая недвижимость\n",
    "real_estate_renovation = data_1 # ремонт жилья\n",
    "real_estate = data_1 # недвижимость (частная)\n",
    "no_label = data_1 # если не будет ключевых влов, включённых в отбор\n"
   ]
  },
  {
   "cell_type": "code",
   "execution_count": 360,
   "metadata": {},
   "outputs": [
    {
     "data": {
      "text/plain": [
       "21524"
      ]
     },
     "execution_count": 360,
     "metadata": {},
     "output_type": "execute_result"
    }
   ],
   "source": [
    "len(data)"
   ]
  },
  {
   "cell_type": "code",
   "execution_count": 361,
   "metadata": {},
   "outputs": [
    {
     "name": "stdout",
     "output_type": "stream",
     "text": [
      "CPU times: user 922 ms, sys: 359 ms, total: 1.28 s\n",
      "Wall time: 2.62 s\n"
     ]
    },
    {
     "data": {
      "text/plain": [
       "недвижимость                 8259\n",
       "автомобиль                   4315\n",
       "образование                  4022\n",
       "свадьба                      2348\n",
       "коммерческая недвижимость    1968\n",
       "ремонт недвижимости           612\n",
       "Name: purpose_category, dtype: int64"
      ]
     },
     "execution_count": 361,
     "metadata": {},
     "output_type": "execute_result"
    }
   ],
   "source": [
    "%%time\n",
    "def create_category_purpose(row):\n",
    "    lem_purpose = m.lemmatize(row['purpose'])\n",
    "    if 'автомобиль' in lem_purpose:\n",
    "        return 'автомобиль'\n",
    "    elif 'образование' in lem_purpose:\n",
    "        return 'образование'\n",
    "    elif 'свадьба'  in lem_purpose:\n",
    "        return 'свадьба' \n",
    "    elif 'сдача'  in lem_purpose and 'жилье'  in lem_purpose:\n",
    "        return 'коммерческая недвижимость'\n",
    "    elif 'коммерческий' in lem_purpose and  'недвижимость'  in lem_purpose:\n",
    "        return 'коммерческая недвижимость'\n",
    "    elif 'ремонт'  in lem_purpose and  'недвижимость'  in lem_purpose:\n",
    "        return 'ремонт недвижимости'\n",
    "    elif 'ремонт'  in lem_purpose and  'жилье'  in lem_purpose:\n",
    "        return 'ремонт недвижимости'\n",
    "    elif 'недвижимость'  in lem_purpose:\n",
    "        return 'недвижимость' \n",
    "    elif 'жилье'  in lem_purpose:\n",
    "        return 'недвижимость' \n",
    "    else:\n",
    "        return 'без группы'\n",
    "    \n",
    "\n",
    "# применяю функцию с созданием столбца purpose_category\n",
    "data['purpose_category'] = data.apply(create_category_purpose, axis=1)\n",
    "data['purpose_category'].sort_values().value_counts()\n"
   ]
  },
  {
   "cell_type": "markdown",
   "metadata": {},
   "source": [
    "## Готовы отдельные срезы данных по целям запроса кредитов."
   ]
  },
  {
   "cell_type": "markdown",
   "metadata": {},
   "source": [
    "### Категоризация данных"
   ]
  },
  {
   "cell_type": "markdown",
   "metadata": {},
   "source": [
    "в общем объёме исходных данных есть возможность выделения категорий в :\n",
    "    -  образование, семейный статус, пол, тип занятости, цель кредитования\n",
    "    \n",
    "    Трансформация текстовых значений этих колонок выгодна для дальнейшей передачи в подразделение машинного обучения.\n",
    "    (кроме цели кредитования)\n",
    "    В текущих задачах мне удобнее работать с текстовыми значениями, в которых неявные дубликаты обработаны.\n",
    "    Цель кредитования тоже удобно рассматривать в текстовом виде. Но сначала её проработал методами лемматизации и категоризации."
   ]
  },
  {
   "cell_type": "markdown",
   "metadata": {},
   "source": [
    "## Шаг 3. Ответьте на вопросы"
   ]
  },
  {
   "cell_type": "markdown",
   "metadata": {},
   "source": [
    "# Уровень дохода.\n",
    "Здесь для анализа влияния этого параметра на возвратность кредита следует выделить интервальные группы.\n",
    "Посмотрим на расперделение по сумме за отсечением строк с отсутствующими данными.\n",
    "это срез данных data_not_na"
   ]
  },
  {
   "cell_type": "markdown",
   "metadata": {},
   "source": [
    "- Есть ли зависимость между уровнем дохода и возвратом кредита в срок?"
   ]
  },
  {
   "cell_type": "code",
   "execution_count": 370,
   "metadata": {},
   "outputs": [],
   "source": [
    "pd.options.display.float_format = '{:,.2f}'.format # установка формата вывода на дисплей численных значений"
   ]
  },
  {
   "cell_type": "code",
   "execution_count": 371,
   "metadata": {},
   "outputs": [],
   "source": [
    "# сделал табличку без NaN в total_income\n",
    "data_not_na = data.dropna(subset=['total_income'])"
   ]
  },
  {
   "cell_type": "code",
   "execution_count": 372,
   "metadata": {},
   "outputs": [
    {
     "data": {
      "text/plain": [
       "count      19,781.00\n",
       "mean      165,762.10\n",
       "std        98,154.69\n",
       "min        21,205.28\n",
       "25%       107,659.93\n",
       "50%       143,855.21\n",
       "75%       197,783.26\n",
       "max     2,265,604.03\n",
       "Name: total_income, dtype: float64"
      ]
     },
     "execution_count": 372,
     "metadata": {},
     "output_type": "execute_result"
    }
   ],
   "source": [
    "dept_0 = data_not_na[data_not_na['debt'] == 0] # отобрал строки с возвратом кредита\n",
    "\n",
    "dept_1 = data_not_na[data_not_na['debt'] == 1] # отобрал строки без возврата кредита\n",
    "\n",
    "dept_0['total_income'].describe()"
   ]
  },
  {
   "cell_type": "code",
   "execution_count": 373,
   "metadata": {},
   "outputs": [
    {
     "data": {
      "image/png": "[encoded data removed]",
      "text/plain": [
       "<Figure size 432x288 with 1 Axes>"
      ]
     },
     "metadata": {
      "needs_background": "light"
     },
     "output_type": "display_data"
    }
   ],
   "source": [
    "dept_0['total_income'].plot(kind = 'hist');"
   ]
  },
  {
   "cell_type": "code",
   "execution_count": 374,
   "metadata": {},
   "outputs": [
    {
     "data": {
      "text/plain": [
       "count       1,741.00\n",
       "mean      161,042.93\n",
       "std        97,817.13\n",
       "min        20,667.26\n",
       "25%       108,252.81\n",
       "50%       140,638.62\n",
       "75%       189,395.52\n",
       "max     2,200,852.21\n",
       "Name: total_income, dtype: float64"
      ]
     },
     "execution_count": 374,
     "metadata": {},
     "output_type": "execute_result"
    }
   ],
   "source": [
    "dept_1['total_income'].describe()"
   ]
  },
  {
   "cell_type": "code",
   "execution_count": 375,
   "metadata": {
    "scrolled": true
   },
   "outputs": [
    {
     "data": {
      "image/png": "[encoded data removed]",
      "text/plain": [
       "<Figure size 432x288 with 1 Axes>"
      ]
     },
     "metadata": {
      "needs_background": "light"
     },
     "output_type": "display_data"
    }
   ],
   "source": [
    "dept_1['total_income'].plot(kind = 'hist');"
   ]
  },
  {
   "cell_type": "markdown",
   "metadata": {},
   "source": [
    "### Федеральная служба государственной статистики разделяет уровень жизни россиян в зависимости от доходов на следующие категории:\n",
    "крайняя нищета (доходы ниже прожиточного минимума — до 7-8 тыс.р.)\n",
    "\n",
    "нищета (доходы от одного до двух прожиточных минимума — от 8 до 12 тыс.р.)\n",
    "\n",
    "бедность (доходы от 12 до 20 тысяч рублей в месяц)\n",
    "\n",
    "выше бедности (доходы от 20 до 30 тысяч рублей в месяц)\n",
    "\n",
    "средний достаток — (доходы от 30 до 60 тысяч рублей в месяц)\n",
    "\n",
    "состоятельные — (доходы от 60 до 90 тысяч рублей в месяц)\n",
    "\n",
    "богатые — (доходы от 90 тысяч рублей в месяц)\n",
    "\n",
    "сверхбогатые — (доходы свыше 150 тысяч рублей в месяц)\n"
   ]
  },
  {
   "cell_type": "markdown",
   "metadata": {},
   "source": [
    "в наших исследуемых данных есть уровни дохода от <font color='red'>\"выше бедности\"</font> до <font color='green'>\"сверхбогатые\"</font>"
   ]
  },
  {
   "cell_type": "code",
   "execution_count": 376,
   "metadata": {},
   "outputs": [
    {
     "name": "stdout",
     "output_type": "stream",
     "text": [
      "В категории выше бедности задолженность у 2 клиентов\n",
      "9.09 % от общего числа клиентов этой категории\n",
      "\n",
      "В категории средний достаток задолженность у 47 клиентов\n",
      "5.99 % от общего числа клиентов этой категории\n",
      "\n",
      "В категории состоятельные задолженность у 213 клиентов\n",
      "8.38 % от общего числа клиентов этой категории\n",
      "\n",
      "В категории богатые задолженность у 707 клиентов\n",
      "8.66 % от общего числа клиентов этой категории\n",
      "\n",
      "В категории сверхбогатые задолженность у 772 клиентов\n",
      "7.71 % от общего числа клиентов этой категории\n"
     ]
    }
   ],
   "source": [
    "# выше бедности\n",
    "total_income_20 = data_not_na[data_not_na['total_income'] > 20000]\n",
    "total_income_20 = total_income_20[total_income_20['total_income'] <= 30000]\n",
    "\n",
    "count = total_income_20['index'][total_income_20['debt'] == 1].count()\n",
    "print('В категории выше бедности задолженность у', count, 'клиентов')\n",
    "print(round((count / total_income_20['index'].count()) * 100, 2), '% от общего числа клиентов этой категории'    )\n",
    "print()\n",
    "\n",
    "#  средний достаток\n",
    "total_income_30 = data_not_na[data_not_na['total_income'] > 30000]\n",
    "total_income_30 = total_income_30[total_income_30['total_income'] <= 60000]\n",
    "\n",
    "count = total_income_30['index'][total_income_30['debt'] == 1].count()\n",
    "print('В категории средний достаток задолженность у', count, 'клиентов')\n",
    "print(round((count / total_income_30['index'].count()) * 100, 2), '% от общего числа клиентов этой категории'    )\n",
    "print()\n",
    "\n",
    "# состоятельные\n",
    "total_income_60 = data_not_na[data_not_na['total_income'] > 60000]\n",
    "total_income_60 = total_income_60[total_income_60['total_income'] <= 90000]\n",
    "\n",
    "count = total_income_60['index'][total_income_60['debt'] == 1].count()\n",
    "print('В категории состоятельные задолженность у', count, 'клиентов')\n",
    "print(round((count / total_income_60['index'].count()) * 100, 2), '% от общего числа клиентов этой категории'    )\n",
    "print()\n",
    "\n",
    "#  богатые\n",
    "total_income_90 = data_not_na[data_not_na['total_income'] > 90000]\n",
    "total_income_90 = total_income_90[total_income_90['total_income'] <= 150000]\n",
    "\n",
    "count = total_income_90['index'][total_income_90['debt'] == 1].count()\n",
    "print('В категории богатые задолженность у', count, 'клиентов')\n",
    "print(round((count / total_income_90['index'].count()) * 100, 2), '% от общего числа клиентов этой категории'    )\n",
    "print()\n",
    "\n",
    "#  сверхбогатые\n",
    "total_income_150 = data_not_na[data_not_na['total_income'] > 150000]\n",
    "\n",
    "count = total_income_150['index'][total_income_150['debt'] == 1].count()\n",
    "print('В категории сверхбогатые задолженность у', count, 'клиентов')\n",
    "print(round((count / total_income_150['index'].count()) * 100, 2), '% от общего числа клиентов этой категории'    )\n"
   ]
  },
  {
   "cell_type": "markdown",
   "metadata": {},
   "source": [
    "### ВЫВОД. Уровень дохода тоже влияет на возвратность кредитов\n",
    "<font color='red'>Самый ненадёжный сегмент - малоимущие (выше бедности)</font>\n",
    "\n",
    "<font color='green'>Надёжный сегмент - средний достаток</font>\n",
    "\n",
    "<font color='blue'>Сверхбюогатые - редкий случай и обнадёживающий</font>"
   ]
  },
  {
   "cell_type": "markdown",
   "metadata": {},
   "source": [
    "# Количество детей\n",
    "Те же выборки:\n",
    "* dept_0\n",
    "* dept_1\n"
   ]
  },
  {
   "cell_type": "markdown",
   "metadata": {},
   "source": [
    "- Есть ли зависимость между наличием детей и возвратом кредита в срок?"
   ]
  },
  {
   "cell_type": "code",
   "execution_count": 377,
   "metadata": {},
   "outputs": [
    {
     "data": {
      "text/plain": [
       "count   19,781.00\n",
       "mean         0.47\n",
       "std          0.75\n",
       "min          0.00\n",
       "25%          0.00\n",
       "50%          0.00\n",
       "75%          1.00\n",
       "max          5.00\n",
       "Name: children, dtype: float64"
      ]
     },
     "execution_count": 377,
     "metadata": {},
     "output_type": "execute_result"
    }
   ],
   "source": [
    "dept_0['children'].describe()"
   ]
  },
  {
   "cell_type": "code",
   "execution_count": 378,
   "metadata": {},
   "outputs": [
    {
     "data": {
      "text/plain": [
       "count   1,741.00\n",
       "mean        0.54\n",
       "std         0.78\n",
       "min         0.00\n",
       "25%         0.00\n",
       "50%         0.00\n",
       "75%         1.00\n",
       "max         4.00\n",
       "Name: children, dtype: float64"
      ]
     },
     "execution_count": 378,
     "metadata": {},
     "output_type": "execute_result"
    }
   ],
   "source": [
    "dept_1['children'].describe()"
   ]
  },
  {
   "cell_type": "code",
   "execution_count": 379,
   "metadata": {},
   "outputs": [
    {
     "data": {
      "text/plain": [
       "0    13083\n",
       "1     4420\n",
       "2     1929\n",
       "3      303\n",
       "4       37\n",
       "5        9\n",
       "Name: children, dtype: int64"
      ]
     },
     "execution_count": 379,
     "metadata": {},
     "output_type": "execute_result"
    }
   ],
   "source": [
    "dept_0['children'].value_counts() # количества категорий"
   ]
  },
  {
   "cell_type": "code",
   "execution_count": 380,
   "metadata": {},
   "outputs": [
    {
     "data": {
      "text/plain": [
       "0    1063\n",
       "1     445\n",
       "2     202\n",
       "3      27\n",
       "4       4\n",
       "Name: children, dtype: int64"
      ]
     },
     "execution_count": 380,
     "metadata": {},
     "output_type": "execute_result"
    }
   ],
   "source": [
    "dept_1['children'].value_counts() # количества категорий"
   ]
  },
  {
   "cell_type": "code",
   "execution_count": 381,
   "metadata": {},
   "outputs": [
    {
     "data": {
      "text/plain": [
       "0    14146\n",
       "1     4865\n",
       "2     2131\n",
       "3      330\n",
       "4       41\n",
       "5        9\n",
       "Name: children, dtype: int64"
      ]
     },
     "execution_count": 381,
     "metadata": {},
     "output_type": "execute_result"
    }
   ],
   "source": [
    "data_not_na['children'].value_counts() # количества категорий всего"
   ]
  },
  {
   "cell_type": "code",
   "execution_count": 383,
   "metadata": {},
   "outputs": [
    {
     "name": "stdout",
     "output_type": "stream",
     "text": [
      "Имеют задолженности по количеству детей\n",
      "7.51 % в семье 0 реб.\n",
      "9.15 % в семье 1 реб.\n",
      "9.48 % в семье 2 реб.\n",
      "8.18 % в семье 3 реб.\n",
      "9.76 % в семье 4 реб.\n",
      "0.0 % в семье 5 реб.\n"
     ]
    }
   ],
   "source": [
    "print('Имеют задолженности по количеству детей')\n",
    "for i in range(len(data['children'].value_counts())):\n",
    "    \n",
    "    print(round(((dept_1['index'][dept_1['children'] == i].count())\n",
    "       / ((dept_0['index'][dept_0['children'] == i].count()) \n",
    "          + (dept_1['index'][dept_1['children'] == i].count()))) \n",
    "       * 100, 2), '% в семье', i, 'реб.')\n"
   ]
  },
  {
   "cell_type": "markdown",
   "metadata": {},
   "source": [
    "### ВЫВОД. Количество детей имеет некоторое влияние на возвратность кредитов\n",
    "<font color='red'>Самый ненадёжный сегмент - два ребенка</font>\n",
    "\n",
    "<font color='green'>Надёжный сегмент - трое детей и бездетные</font>\n",
    "\n",
    "<font color='blue'>Пятеро детей - редкий случай и надёжный</font>\n"
   ]
  },
  {
   "cell_type": "markdown",
   "metadata": {},
   "source": [
    "# Семейное положение\n",
    "Те же выборки:\n",
    "* dept_0\n",
    "* dept_1\n"
   ]
  },
  {
   "cell_type": "markdown",
   "metadata": {},
   "source": [
    "- Есть ли зависимость между семейным положением и возвратом кредита в срок?"
   ]
  },
  {
   "cell_type": "code",
   "execution_count": 384,
   "metadata": {},
   "outputs": [
    {
     "data": {
      "text/plain": [
       "0    11448\n",
       "1     3788\n",
       "4     2539\n",
       "3     1109\n",
       "2      897\n",
       "Name: family_status_id, dtype: int64"
      ]
     },
     "execution_count": 384,
     "metadata": {},
     "output_type": "execute_result"
    }
   ],
   "source": [
    "dept_0['family_status_id'].value_counts() # количества категорий"
   ]
  },
  {
   "cell_type": "code",
   "execution_count": 385,
   "metadata": {},
   "outputs": [
    {
     "data": {
      "text/plain": [
       "0    931\n",
       "1    388\n",
       "4    274\n",
       "3     85\n",
       "2     63\n",
       "Name: family_status_id, dtype: int64"
      ]
     },
     "execution_count": 385,
     "metadata": {},
     "output_type": "execute_result"
    }
   ],
   "source": [
    "dept_1['family_status_id'].value_counts() # количества категорий"
   ]
  },
  {
   "cell_type": "markdown",
   "metadata": {},
   "source": [
    "    А теперь возьму в долях от общего количества по каждой категории"
   ]
  },
  {
   "cell_type": "code",
   "execution_count": 386,
   "metadata": {},
   "outputs": [
    {
     "name": "stdout",
     "output_type": "stream",
     "text": [
      "Общее число клиентов по категориям\n"
     ]
    },
    {
     "data": {
      "text/plain": [
       "0    12379\n",
       "1     4176\n",
       "4     2813\n",
       "3     1194\n",
       "2      960\n",
       "Name: family_status_id, dtype: int64"
      ]
     },
     "execution_count": 386,
     "metadata": {},
     "output_type": "execute_result"
    }
   ],
   "source": [
    "\n",
    "print('Общее число клиентов по категориям')\n",
    "\n",
    "\n",
    "data_not_na['family_status_id'].value_counts()"
   ]
  },
  {
   "cell_type": "code",
   "execution_count": 388,
   "metadata": {},
   "outputs": [
    {
     "name": "stdout",
     "output_type": "stream",
     "text": [
      "Имеют задолженности по категориям\n",
      "клиенты разного семейного статуса:\n",
      "7.52 % женат / замужем\n",
      "9.29 % гражданский брак\n",
      "6.56 % вдовец / вдова\n",
      "7.12 % в разводе\n",
      "9.74 % Не женат / не замужем\n"
     ]
    }
   ],
   "source": [
    "print('Имеют задолженности по категориям')\n",
    "print('клиенты разного семейного статуса:')\n",
    "\n",
    "for i in range(len(family_status_dict)):\n",
    "    print(round(((dept_1['index'][dept_1['family_status_id'] == i].count())\n",
    "       / ((dept_0['index'][dept_0['family_status_id'] == i].count()) \n",
    "          + (dept_1['index'][dept_1['family_status_id'] == i].count()))) \n",
    "       * 100, 2), \"%\", family_status_dict['family_status'][i])"
   ]
  },
  {
   "cell_type": "markdown",
   "metadata": {},
   "source": [
    "**Вывод**"
   ]
  },
  {
   "cell_type": "markdown",
   "metadata": {},
   "source": [
    "Семейное положение имеет значение"
   ]
  },
  {
   "cell_type": "markdown",
   "metadata": {},
   "source": [
    "### ВЫВОД. Семейное положение имеет значение на возвратность кредитов\n",
    "<font color='red'>Самый ненадёжный сегмент - не женат / не замужем</font>\n",
    "\n",
    "<font color='green'>Самый надёжный сегмент - вдовец / вдова</font>\n",
    "\n",
    "<font color='blue'>Разведённые и семейные - примерно рядом</font>\n"
   ]
  },
  {
   "cell_type": "markdown",
   "metadata": {},
   "source": [
    "# Цели кредитования\n",
    "Те же выборки:\n",
    "* dept_0\n",
    "* dept_1\n"
   ]
  },
  {
   "cell_type": "markdown",
   "metadata": {},
   "source": [
    "- Как разные цели кредита влияют на его возврат в срок?"
   ]
  },
  {
   "cell_type": "code",
   "execution_count": 389,
   "metadata": {},
   "outputs": [
    {
     "data": {
      "text/plain": [
       "недвижимость                 7662\n",
       "автомобиль                   3912\n",
       "образование                  3651\n",
       "свадьба                      2162\n",
       "коммерческая недвижимость    1817\n",
       "ремонт недвижимости           577\n",
       "Name: purpose_category, dtype: int64"
      ]
     },
     "execution_count": 389,
     "metadata": {},
     "output_type": "execute_result"
    }
   ],
   "source": [
    "dept_0['purpose_category'].value_counts() # количества категорий"
   ]
  },
  {
   "cell_type": "code",
   "execution_count": 390,
   "metadata": {},
   "outputs": [
    {
     "data": {
      "text/plain": [
       "недвижимость                 596\n",
       "автомобиль                   403\n",
       "образование                  370\n",
       "свадьба                      186\n",
       "коммерческая недвижимость    151\n",
       "ремонт недвижимости           35\n",
       "Name: purpose_category, dtype: int64"
      ]
     },
     "execution_count": 390,
     "metadata": {},
     "output_type": "execute_result"
    }
   ],
   "source": [
    "dept_1['purpose_category'].value_counts() # количества категорий"
   ]
  },
  {
   "cell_type": "code",
   "execution_count": 391,
   "metadata": {},
   "outputs": [
    {
     "name": "stdout",
     "output_type": "stream",
     "text": [
      "Имеют задолженности по категориям\n",
      "7.22 % недвижимость\n",
      "9.34 % автомобиль\n",
      "9.2 % образование\n",
      "7.92 % свадьба\n",
      "7.67 % коммерческая недвижимость\n",
      "5.72 % ремонт недвижимости\n",
      "от общего числа клиентов этой категории\n"
     ]
    }
   ],
   "source": [
    "print('Имеют задолженности по категориям')\n",
    "print(round(((dept_1['index'][dept_1['purpose_category'] == 'недвижимость'].count())/\\\n",
    "    ((dept_0['index'][dept_0['purpose_category'] == 'недвижимость'].count())+\\\n",
    "        (dept_1['index'][dept_1['purpose_category'] == 'недвижимость'].count()))) * 100, 2), '% недвижимость')\n",
    "print(round(((dept_1['index'][dept_1['purpose_category'] == 'автомобиль'].count())/\\\n",
    "    ((dept_0['index'][dept_0['purpose_category'] == 'автомобиль'].count())+\\\n",
    "        (dept_1['index'][dept_1['purpose_category'] == 'автомобиль'].count()))) * 100, 2), '% автомобиль')\n",
    "print(round(((dept_1['index'][dept_1['purpose_category'] == 'образование'].count())/\\\n",
    "    ((dept_0['index'][dept_0['purpose_category'] == 'образование'].count())+\\\n",
    "        (dept_1['index'][dept_1['purpose_category'] == 'образование'].count()))) * 100, 2), '% образование')\n",
    "print(round(((dept_1['index'][dept_1['purpose_category'] == 'свадьба'].count())/\\\n",
    "    ((dept_0['index'][dept_0['purpose_category'] == 'свадьба'].count())+\\\n",
    "        (dept_1['index'][dept_1['purpose_category'] == 'свадьба'].count()))) * 100, 2), '% свадьба')\n",
    "print(round(((dept_1['index'][dept_1['purpose_category'] == 'коммерческая недвижимость'].count())/\\\n",
    "    ((dept_0['index'][dept_0['purpose_category'] == 'коммерческая недвижимость'].count())+\\\n",
    "        (dept_1['index'][dept_1['purpose_category'] == 'коммерческая недвижимость'].count())))\\\n",
    "             * 100, 2), '% коммерческая недвижимость')\n",
    "print(round(((dept_1['index'][dept_1['purpose_category'] == 'ремонт недвижимости'].count())/\\\n",
    "    ((dept_0['index'][dept_0['purpose_category'] == 'ремонт недвижимости'].count())+\\\n",
    "        (dept_1['index'][dept_1['purpose_category'] == 'ремонт недвижимости'].count())))\\\n",
    "             * 100, 2), '% ремонт недвижимости')\n",
    "\n",
    "print('от общего числа клиентов этой категории')\n",
    "\n"
   ]
  },
  {
   "cell_type": "markdown",
   "metadata": {},
   "source": [
    "### ВЫВОД. Цель кредитования имеет значение на возвратность кредитов\n",
    "<font color='red'>Самый ненадёжный сегмент - автомобиль</font>\n",
    "\n",
    "<font color='green'>Самый надёжный сегмент - недвижимость</font>\n",
    "\n",
    "<font color='blue'>Свадьба - тоже хорошая цель по возвратности</font>\n",
    "\n",
    "<font color='red'>А вот образование лишь ненамного надёжнее, чем автомобиль</font>"
   ]
  },
  {
   "cell_type": "markdown",
   "metadata": {},
   "source": [
    "## Шаг 4. Общий вывод"
   ]
  },
  {
   "cell_type": "markdown",
   "metadata": {},
   "source": [
    "По результатам исследования можно отметить влияние на возврастность кредитов всех рассматриваемых факторов"
   ]
  },
  {
   "cell_type": "markdown",
   "metadata": {},
   "source": [
    "## <font color='red'>Самый высокорисковый клиент:</font>\n",
    "С низким доходом, двумя детьми, с целью на автомобиль\n"
   ]
  },
  {
   "cell_type": "code",
   "execution_count": 392,
   "metadata": {},
   "outputs": [
    {
     "name": "stdout",
     "output_type": "stream",
     "text": [
      "Таких клиентов в банке .... 0 !!!\n"
     ]
    }
   ],
   "source": [
    "print('Таких клиентов в банке ....', data['index'][(data['debt'] == 0) &\\\n",
    "     (data['total_income'] <= 30000) & (data['children'] == 2) & \\\n",
    "        (data['purpose_category'] == 'автомобиль')].count(), '!!!')"
   ]
  },
  {
   "cell_type": "markdown",
   "metadata": {},
   "source": [
    "## <font color='blue'>Прекрасная работа отдела продаж!</font>\n",
    "Повысим ставки. Следующая \"вилка\" в доходах: до 60000 р"
   ]
  },
  {
   "cell_type": "code",
   "execution_count": 393,
   "metadata": {},
   "outputs": [
    {
     "name": "stdout",
     "output_type": "stream",
     "text": [
      "В банке 12 таких клиентов, а с проблемой по возврату из них - 4 то есть процент невозврата 33.33 %\n"
     ]
    }
   ],
   "source": [
    "print('В банке', data['index'][(data['total_income'] <= 60000) & (data['children'] == 2)\\\n",
    "     & (data['purpose_category'] == 'автомобиль')].count()\n",
    ", \"таких клиентов, а с проблемой по возврату из них -\", data['index'][(data['debt'] == 1)\\\n",
    "     & (data['total_income'] <= 60000) & (data['children'] == 2) & \\\n",
    "        (data['purpose_category'] == 'автомобиль')].count()\n",
    ", 'то есть процент невозврата', round((data['index'][(data['debt'] == 1) &\\\n",
    "     (data['total_income'] <= 60000) & (data['children'] == 2) &\\\n",
    "         (data['purpose_category'] == 'автомобиль')].count()*100)/data['index'][(data['total_income']\\\n",
    "             <= 60000) & (data['children'] == 2) & (data['purpose_category'] == \\\n",
    "                'автомобиль')].count(), 2), '%')"
   ]
  },
  {
   "cell_type": "markdown",
   "metadata": {},
   "source": [
    "## <font color='blue'>33 % огромная цифра!</font>"
   ]
  },
  {
   "cell_type": "markdown",
   "metadata": {},
   "source": [
    "## <font color='green'>Самый низкокорисковый клиент:</font>\n",
    "С более, чем средним достатком, с тремя детьми, семейные, с целью кредитования на недвижимость "
   ]
  },
  {
   "cell_type": "code",
   "execution_count": 394,
   "metadata": {},
   "outputs": [
    {
     "name": "stdout",
     "output_type": "stream",
     "text": [
      "В банке 123 таких клиентов, а с проблемой по возврату из них - 10 то есть процент невозврата 8.13 %\n"
     ]
    }
   ],
   "source": [
    "print('В банке', data['index'][(data['total_income'] >= 60000) & (data['children'] == 3) & \\\n",
    "    (data['purpose_category'] == 'недвижимость')].count()\n",
    ", \"таких клиентов, а с проблемой по возврату из них -\", data['index'][(data['debt'] == 1) & \\\n",
    "    (data['total_income'] >= 60000) & (data['children'] == 3) & (data['purpose_category'] == 'недвижимость')].count()\n",
    ", 'то есть процент невозврата', round((data['index'][(data['debt'] == 1) & \\\n",
    "    (data['total_income'] >= 60000) & (data['children'] == 3) & \\\n",
    "        (data['purpose_category'] == 'недвижимость')].count()*100)/data['index'][(data['total_income'] >= 60000) &\\\n",
    "             (data['children'] == 3) & (data['purpose_category'] == 'недвижимость')].count(), 2), '%')"
   ]
  }
 ],
 "metadata": {
  "ExecuteTimeLog": [
   {
    "duration": 615,
    "start_time": "2021-12-04T14:15:51.298Z"
   },
   {
    "duration": 10,
    "start_time": "2021-12-04T14:28:27.169Z"
   },
   {
    "duration": 227,
    "start_time": "2021-12-04T14:29:03.853Z"
   },
   {
    "duration": 622,
    "start_time": "2021-12-04T14:29:26.157Z"
   },
   {
    "duration": 174,
    "start_time": "2021-12-04T14:29:54.209Z"
   },
   {
    "duration": 171,
    "start_time": "2021-12-04T14:31:34.237Z"
   },
   {
    "duration": 4,
    "start_time": "2021-12-04T14:31:48.977Z"
   },
   {
    "duration": 58,
    "start_time": "2021-12-04T14:32:01.368Z"
   },
   {
    "duration": 4,
    "start_time": "2021-12-04T14:32:01.427Z"
   },
   {
    "duration": 203,
    "start_time": "2021-12-04T14:32:58.443Z"
   },
   {
    "duration": 5,
    "start_time": "2021-12-04T14:35:20.796Z"
   },
   {
    "duration": 4,
    "start_time": "2021-12-04T14:35:44.868Z"
   },
   {
    "duration": 3,
    "start_time": "2021-12-04T14:35:47.649Z"
   },
   {
    "duration": 4,
    "start_time": "2021-12-04T14:35:49.348Z"
   },
   {
    "duration": 174,
    "start_time": "2021-12-04T14:36:37.985Z"
   },
   {
    "duration": 5,
    "start_time": "2021-12-04T14:37:00.649Z"
   },
   {
    "duration": 16,
    "start_time": "2021-12-04T14:42:50.608Z"
   },
   {
    "duration": 9,
    "start_time": "2021-12-04T14:45:07.900Z"
   },
   {
    "duration": 24,
    "start_time": "2021-12-04T14:45:32.152Z"
   },
   {
    "duration": 60,
    "start_time": "2021-12-04T14:49:58.720Z"
   },
   {
    "duration": 4,
    "start_time": "2021-12-04T14:49:58.781Z"
   },
   {
    "duration": 23,
    "start_time": "2021-12-04T14:49:58.787Z"
   },
   {
    "duration": 56,
    "start_time": "2021-12-04T14:50:31.013Z"
   },
   {
    "duration": 4,
    "start_time": "2021-12-04T14:50:31.070Z"
   },
   {
    "duration": 7,
    "start_time": "2021-12-04T14:50:34.913Z"
   },
   {
    "duration": 8,
    "start_time": "2021-12-04T14:51:34.973Z"
   },
   {
    "duration": 5,
    "start_time": "2021-12-04T14:53:38.034Z"
   },
   {
    "duration": 60,
    "start_time": "2021-12-04T14:54:51.633Z"
   },
   {
    "duration": 4,
    "start_time": "2021-12-04T14:54:51.695Z"
   },
   {
    "duration": 18,
    "start_time": "2021-12-04T14:54:51.701Z"
   },
   {
    "duration": 14,
    "start_time": "2021-12-04T14:54:51.721Z"
   },
   {
    "duration": 6,
    "start_time": "2021-12-04T14:54:53.753Z"
   },
   {
    "duration": 58,
    "start_time": "2021-12-04T14:55:24.011Z"
   },
   {
    "duration": 4,
    "start_time": "2021-12-04T14:55:24.071Z"
   },
   {
    "duration": 7,
    "start_time": "2021-12-04T14:55:24.078Z"
   },
   {
    "duration": 7,
    "start_time": "2021-12-04T14:55:24.087Z"
   },
   {
    "duration": 5,
    "start_time": "2021-12-04T14:55:25.554Z"
   },
   {
    "duration": 5,
    "start_time": "2021-12-04T14:55:28.235Z"
   },
   {
    "duration": 5,
    "start_time": "2021-12-04T14:55:29.413Z"
   },
   {
    "duration": 5,
    "start_time": "2021-12-04T14:55:31.193Z"
   },
   {
    "duration": 57,
    "start_time": "2021-12-04T14:55:52.201Z"
   },
   {
    "duration": 4,
    "start_time": "2021-12-04T14:55:52.260Z"
   },
   {
    "duration": 13,
    "start_time": "2021-12-04T14:55:52.266Z"
   },
   {
    "duration": 7,
    "start_time": "2021-12-04T14:55:52.281Z"
   },
   {
    "duration": 19,
    "start_time": "2021-12-04T14:55:54.496Z"
   },
   {
    "duration": 5,
    "start_time": "2021-12-04T14:57:19.062Z"
   },
   {
    "duration": 183,
    "start_time": "2021-12-04T14:57:29.862Z"
   },
   {
    "duration": 167,
    "start_time": "2021-12-04T14:57:35.214Z"
   },
   {
    "duration": 175,
    "start_time": "2021-12-04T14:57:43.701Z"
   },
   {
    "duration": 6,
    "start_time": "2021-12-04T14:57:52.642Z"
   },
   {
    "duration": 170,
    "start_time": "2021-12-04T14:59:59.122Z"
   },
   {
    "duration": 22,
    "start_time": "2021-12-04T15:01:36.151Z"
   },
   {
    "duration": 195,
    "start_time": "2021-12-04T15:03:24.683Z"
   },
   {
    "duration": 187,
    "start_time": "2021-12-04T15:03:54.993Z"
   },
   {
    "duration": 23,
    "start_time": "2021-12-04T15:05:08.454Z"
   },
   {
    "duration": 23,
    "start_time": "2021-12-04T15:05:56.123Z"
   },
   {
    "duration": 23,
    "start_time": "2021-12-04T15:06:20.535Z"
   },
   {
    "duration": 27,
    "start_time": "2021-12-04T15:12:10.962Z"
   },
   {
    "duration": 58,
    "start_time": "2021-12-04T15:13:26.163Z"
   },
   {
    "duration": 5,
    "start_time": "2021-12-04T15:13:26.224Z"
   },
   {
    "duration": 28,
    "start_time": "2021-12-04T15:13:26.232Z"
   },
   {
    "duration": 30,
    "start_time": "2021-12-04T15:13:26.262Z"
   },
   {
    "duration": 49,
    "start_time": "2021-12-04T15:13:26.294Z"
   },
   {
    "duration": 25,
    "start_time": "2021-12-04T15:13:26.346Z"
   },
   {
    "duration": 27,
    "start_time": "2021-12-04T15:13:30.902Z"
   },
   {
    "duration": 56,
    "start_time": "2021-12-04T15:19:28.615Z"
   },
   {
    "duration": 4,
    "start_time": "2021-12-04T15:19:28.673Z"
   },
   {
    "duration": 9,
    "start_time": "2021-12-04T15:19:28.679Z"
   },
   {
    "duration": 7,
    "start_time": "2021-12-04T15:19:28.690Z"
   },
   {
    "duration": 25,
    "start_time": "2021-12-04T15:19:28.698Z"
   },
   {
    "duration": 23,
    "start_time": "2021-12-04T15:19:28.725Z"
   },
   {
    "duration": 49,
    "start_time": "2021-12-04T15:19:28.749Z"
   },
   {
    "duration": 2056,
    "start_time": "2021-12-04T15:19:31.734Z"
   },
   {
    "duration": 55,
    "start_time": "2021-12-04T15:22:49.844Z"
   },
   {
    "duration": 4,
    "start_time": "2021-12-04T15:22:49.900Z"
   },
   {
    "duration": 15,
    "start_time": "2021-12-04T15:22:49.906Z"
   },
   {
    "duration": 7,
    "start_time": "2021-12-04T15:22:49.923Z"
   },
   {
    "duration": 23,
    "start_time": "2021-12-04T15:22:49.931Z"
   },
   {
    "duration": 43,
    "start_time": "2021-12-04T15:22:49.955Z"
   },
   {
    "duration": 27,
    "start_time": "2021-12-04T15:22:50.000Z"
   },
   {
    "duration": 24,
    "start_time": "2021-12-04T15:22:52.215Z"
   },
   {
    "duration": 26,
    "start_time": "2021-12-04T15:24:22.536Z"
   },
   {
    "duration": 4,
    "start_time": "2021-12-04T15:27:09.883Z"
   },
   {
    "duration": 58,
    "start_time": "2021-12-04T15:36:04.735Z"
   },
   {
    "duration": 310,
    "start_time": "2021-12-04T15:36:15.895Z"
   },
   {
    "duration": 4332,
    "start_time": "2021-12-04T15:36:19.872Z"
   },
   {
    "duration": 4376,
    "start_time": "2021-12-04T15:36:54.824Z"
   },
   {
    "duration": 28,
    "start_time": "2021-12-04T15:42:47.956Z"
   },
   {
    "duration": 343,
    "start_time": "2021-12-05T10:19:11.236Z"
   },
   {
    "duration": 395,
    "start_time": "2021-12-05T10:19:19.203Z"
   },
   {
    "duration": 477,
    "start_time": "2021-12-05T10:20:29.383Z"
   },
   {
    "duration": 987,
    "start_time": "2021-12-05T10:20:46.826Z"
   },
   {
    "duration": 10,
    "start_time": "2021-12-05T10:20:47.815Z"
   },
   {
    "duration": 8,
    "start_time": "2021-12-05T10:20:47.827Z"
   },
   {
    "duration": 9,
    "start_time": "2021-12-05T10:20:47.845Z"
   },
   {
    "duration": 39,
    "start_time": "2021-12-05T10:20:47.856Z"
   },
   {
    "duration": 57,
    "start_time": "2021-12-05T10:20:47.897Z"
   },
   {
    "duration": 26,
    "start_time": "2021-12-05T10:20:47.956Z"
   },
   {
    "duration": 40,
    "start_time": "2021-12-05T10:20:47.984Z"
   },
   {
    "duration": 32,
    "start_time": "2021-12-05T10:20:48.026Z"
   },
   {
    "duration": 4,
    "start_time": "2021-12-05T10:20:48.059Z"
   },
   {
    "duration": 33,
    "start_time": "2021-12-05T10:20:48.065Z"
   },
   {
    "duration": 11216,
    "start_time": "2021-12-05T10:21:00.463Z"
   },
   {
    "duration": 3,
    "start_time": "2021-12-05T10:22:40.283Z"
   },
   {
    "duration": 4,
    "start_time": "2021-12-05T10:23:31.962Z"
   },
   {
    "duration": 3,
    "start_time": "2021-12-05T10:24:02.804Z"
   },
   {
    "duration": 293,
    "start_time": "2021-12-05T10:24:22.191Z"
   },
   {
    "duration": 4,
    "start_time": "2021-12-05T10:24:33.596Z"
   },
   {
    "duration": 4668,
    "start_time": "2021-12-05T10:27:22.531Z"
   },
   {
    "duration": 56,
    "start_time": "2021-12-05T10:28:12.491Z"
   },
   {
    "duration": 6,
    "start_time": "2021-12-05T10:28:12.550Z"
   },
   {
    "duration": 10,
    "start_time": "2021-12-05T10:28:12.558Z"
   },
   {
    "duration": 7,
    "start_time": "2021-12-05T10:28:12.570Z"
   },
   {
    "duration": 23,
    "start_time": "2021-12-05T10:28:12.579Z"
   },
   {
    "duration": 50,
    "start_time": "2021-12-05T10:28:12.604Z"
   },
   {
    "duration": 25,
    "start_time": "2021-12-05T10:28:12.656Z"
   },
   {
    "duration": 23,
    "start_time": "2021-12-05T10:28:12.683Z"
   },
   {
    "duration": 51,
    "start_time": "2021-12-05T10:28:12.707Z"
   },
   {
    "duration": 3,
    "start_time": "2021-12-05T10:28:12.760Z"
   },
   {
    "duration": 26,
    "start_time": "2021-12-05T10:28:12.764Z"
   },
   {
    "duration": 4,
    "start_time": "2021-12-05T10:28:12.791Z"
   },
   {
    "duration": 3393,
    "start_time": "2021-12-05T10:28:20.895Z"
   },
   {
    "duration": 4592,
    "start_time": "2021-12-05T10:29:51.443Z"
   },
   {
    "duration": 7,
    "start_time": "2021-12-05T10:35:54.120Z"
   },
   {
    "duration": 424,
    "start_time": "2021-12-05T10:36:43.526Z"
   },
   {
    "duration": 32,
    "start_time": "2021-12-05T10:37:33.303Z"
   },
   {
    "duration": 3,
    "start_time": "2021-12-05T10:46:12.244Z"
   },
   {
    "duration": 3,
    "start_time": "2021-12-05T10:46:16.744Z"
   },
   {
    "duration": 6,
    "start_time": "2021-12-05T10:46:25.356Z"
   },
   {
    "duration": 30,
    "start_time": "2021-12-05T10:50:13.555Z"
   },
   {
    "duration": 27,
    "start_time": "2021-12-05T10:50:57.555Z"
   },
   {
    "duration": 892,
    "start_time": "2021-12-06T08:05:23.508Z"
   },
   {
    "duration": 18,
    "start_time": "2021-12-06T08:05:24.403Z"
   },
   {
    "duration": 12,
    "start_time": "2021-12-06T08:05:24.425Z"
   },
   {
    "duration": 45,
    "start_time": "2021-12-06T08:05:24.439Z"
   },
   {
    "duration": 7,
    "start_time": "2021-12-06T08:05:28.418Z"
   },
   {
    "duration": 7,
    "start_time": "2021-12-06T08:05:57.999Z"
   },
   {
    "duration": 5,
    "start_time": "2021-12-06T08:06:28.237Z"
   },
   {
    "duration": 786,
    "start_time": "2021-12-06T08:08:02.149Z"
   },
   {
    "duration": 405,
    "start_time": "2021-12-06T08:09:10.809Z"
   },
   {
    "duration": 833,
    "start_time": "2021-12-06T08:09:49.478Z"
   },
   {
    "duration": 892,
    "start_time": "2021-12-11T12:12:03.112Z"
   },
   {
    "duration": 69,
    "start_time": "2021-12-11T12:12:04.007Z"
   },
   {
    "duration": 65,
    "start_time": "2021-12-11T12:12:04.079Z"
   },
   {
    "duration": 15,
    "start_time": "2021-12-11T12:12:04.148Z"
   },
   {
    "duration": 13,
    "start_time": "2021-12-11T12:12:04.166Z"
   },
   {
    "duration": 60,
    "start_time": "2021-12-11T12:12:04.182Z"
   },
   {
    "duration": 48,
    "start_time": "2021-12-11T12:12:04.245Z"
   },
   {
    "duration": 25,
    "start_time": "2021-12-11T12:12:04.298Z"
   },
   {
    "duration": 13,
    "start_time": "2021-12-11T12:12:04.328Z"
   },
   {
    "duration": 20,
    "start_time": "2021-12-11T12:12:04.345Z"
   },
   {
    "duration": 459,
    "start_time": "2021-12-11T12:12:04.368Z"
   },
   {
    "duration": 62,
    "start_time": "2021-12-11T12:12:04.830Z"
   },
   {
    "duration": 77,
    "start_time": "2021-12-11T12:12:04.896Z"
   },
   {
    "duration": 92,
    "start_time": "2021-12-11T12:12:04.976Z"
   },
   {
    "duration": 65,
    "start_time": "2021-12-11T12:12:05.072Z"
   },
   {
    "duration": 41,
    "start_time": "2021-12-11T12:12:05.140Z"
   },
   {
    "duration": 5,
    "start_time": "2021-12-11T12:12:05.184Z"
   },
   {
    "duration": 49,
    "start_time": "2021-12-11T12:12:05.225Z"
   },
   {
    "duration": 76,
    "start_time": "2021-12-11T12:12:05.277Z"
   },
   {
    "duration": 39,
    "start_time": "2021-12-11T12:12:05.355Z"
   },
   {
    "duration": 967,
    "start_time": "2021-12-11T12:12:05.396Z"
   },
   {
    "duration": 12,
    "start_time": "2021-12-11T12:12:06.366Z"
   },
   {
    "duration": 36,
    "start_time": "2021-12-11T12:12:06.386Z"
   },
   {
    "duration": 310,
    "start_time": "2021-12-11T12:12:06.433Z"
   },
   {
    "duration": 6,
    "start_time": "2021-12-11T12:12:06.746Z"
   },
   {
    "duration": 20,
    "start_time": "2021-12-11T12:12:06.755Z"
   },
   {
    "duration": 31,
    "start_time": "2021-12-11T12:12:06.777Z"
   },
   {
    "duration": 29,
    "start_time": "2021-12-11T12:12:06.811Z"
   },
   {
    "duration": 319,
    "start_time": "2021-12-11T12:12:06.843Z"
   },
   {
    "duration": 33,
    "start_time": "2021-12-11T12:12:07.165Z"
   },
   {
    "duration": 26,
    "start_time": "2021-12-11T12:12:07.201Z"
   },
   {
    "duration": 34,
    "start_time": "2021-12-11T12:12:07.229Z"
   },
   {
    "duration": 28,
    "start_time": "2021-12-11T12:12:07.266Z"
   },
   {
    "duration": 33,
    "start_time": "2021-12-11T12:12:07.296Z"
   },
   {
    "duration": 46,
    "start_time": "2021-12-11T12:12:07.331Z"
   },
   {
    "duration": 25,
    "start_time": "2021-12-11T12:12:07.380Z"
   },
   {
    "duration": 47,
    "start_time": "2021-12-11T12:12:07.407Z"
   },
   {
    "duration": 40,
    "start_time": "2021-12-11T12:12:07.456Z"
   },
   {
    "duration": 9,
    "start_time": "2021-12-11T12:12:07.499Z"
   },
   {
    "duration": 268,
    "start_time": "2021-12-11T12:12:07.511Z"
   },
   {
    "duration": 12,
    "start_time": "2021-12-11T12:12:07.782Z"
   },
   {
    "duration": 346,
    "start_time": "2021-12-11T12:12:07.797Z"
   },
   {
    "duration": 16,
    "start_time": "2021-12-11T12:12:08.145Z"
   },
   {
    "duration": 16,
    "start_time": "2021-12-11T12:12:08.164Z"
   },
   {
    "duration": 60,
    "start_time": "2021-12-11T12:12:08.183Z"
   },
   {
    "duration": 23,
    "start_time": "2021-12-11T12:12:08.245Z"
   },
   {
    "duration": 11,
    "start_time": "2021-12-11T12:12:08.270Z"
   },
   {
    "duration": 11,
    "start_time": "2021-12-11T12:12:08.283Z"
   },
   {
    "duration": 54,
    "start_time": "2021-12-11T12:12:08.297Z"
   },
   {
    "duration": 15,
    "start_time": "2021-12-11T12:12:08.354Z"
   },
   {
    "duration": 24,
    "start_time": "2021-12-11T12:12:08.372Z"
   },
   {
    "duration": 10,
    "start_time": "2021-12-11T12:12:08.432Z"
   },
   {
    "duration": 4,
    "start_time": "2021-12-11T12:12:08.445Z"
   },
   {
    "duration": 13,
    "start_time": "2021-12-11T12:12:08.451Z"
   },
   {
    "duration": 714,
    "start_time": "2021-12-11T12:12:08.467Z"
   },
   {
    "duration": 675,
    "start_time": "2021-12-11T12:12:09.183Z"
   },
   {
    "duration": 694,
    "start_time": "2021-12-11T12:12:09.861Z"
   },
   {
    "duration": 701,
    "start_time": "2021-12-11T12:12:10.558Z"
   },
   {
    "duration": 746,
    "start_time": "2021-12-11T12:12:11.261Z"
   },
   {
    "duration": 43,
    "start_time": "2021-12-11T12:12:12.010Z"
   },
   {
    "duration": 28,
    "start_time": "2021-12-11T12:12:12.056Z"
   },
   {
    "duration": 5432,
    "start_time": "2021-12-11T12:12:12.087Z"
   },
   {
    "duration": -1260,
    "start_time": "2021-12-11T12:12:18.786Z"
   },
   {
    "duration": -1260,
    "start_time": "2021-12-11T12:12:18.789Z"
   },
   {
    "duration": -1262,
    "start_time": "2021-12-11T12:12:18.792Z"
   },
   {
    "duration": -1263,
    "start_time": "2021-12-11T12:12:18.795Z"
   },
   {
    "duration": -1264,
    "start_time": "2021-12-11T12:12:18.798Z"
   },
   {
    "duration": -1265,
    "start_time": "2021-12-11T12:12:18.801Z"
   },
   {
    "duration": -1265,
    "start_time": "2021-12-11T12:12:18.803Z"
   },
   {
    "duration": -1267,
    "start_time": "2021-12-11T12:12:18.806Z"
   },
   {
    "duration": -1268,
    "start_time": "2021-12-11T12:12:18.809Z"
   },
   {
    "duration": -1270,
    "start_time": "2021-12-11T12:12:18.812Z"
   },
   {
    "duration": -1270,
    "start_time": "2021-12-11T12:12:18.814Z"
   },
   {
    "duration": -1272,
    "start_time": "2021-12-11T12:12:18.817Z"
   },
   {
    "duration": -1273,
    "start_time": "2021-12-11T12:12:18.820Z"
   },
   {
    "duration": -1275,
    "start_time": "2021-12-11T12:12:18.823Z"
   },
   {
    "duration": -1276,
    "start_time": "2021-12-11T12:12:18.825Z"
   },
   {
    "duration": -1277,
    "start_time": "2021-12-11T12:12:18.828Z"
   },
   {
    "duration": -1319,
    "start_time": "2021-12-11T12:12:18.871Z"
   },
   {
    "duration": -1321,
    "start_time": "2021-12-11T12:12:18.875Z"
   },
   {
    "duration": -1323,
    "start_time": "2021-12-11T12:12:18.878Z"
   },
   {
    "duration": -1326,
    "start_time": "2021-12-11T12:12:18.883Z"
   },
   {
    "duration": -1329,
    "start_time": "2021-12-11T12:12:18.887Z"
   },
   {
    "duration": -1330,
    "start_time": "2021-12-11T12:12:18.890Z"
   },
   {
    "duration": -1332,
    "start_time": "2021-12-11T12:12:18.893Z"
   },
   {
    "duration": -1336,
    "start_time": "2021-12-11T12:12:18.898Z"
   },
   {
    "duration": -1338,
    "start_time": "2021-12-11T12:12:18.902Z"
   },
   {
    "duration": -1341,
    "start_time": "2021-12-11T12:12:18.906Z"
   },
   {
    "duration": -1281,
    "start_time": "2021-12-11T12:12:18.909Z"
   },
   {
    "duration": -1282,
    "start_time": "2021-12-11T12:12:18.912Z"
   },
   {
    "duration": -1284,
    "start_time": "2021-12-11T12:12:18.916Z"
   },
   {
    "duration": -1331,
    "start_time": "2021-12-11T12:12:18.966Z"
   },
   {
    "duration": -1332,
    "start_time": "2021-12-11T12:12:18.970Z"
   },
   {
    "duration": -1338,
    "start_time": "2021-12-11T12:12:18.977Z"
   },
   {
    "duration": -1346,
    "start_time": "2021-12-11T12:12:18.987Z"
   },
   {
    "duration": -1348,
    "start_time": "2021-12-11T12:12:18.991Z"
   },
   {
    "duration": -1349,
    "start_time": "2021-12-11T12:12:18.994Z"
   },
   {
    "duration": -1351,
    "start_time": "2021-12-11T12:12:18.999Z"
   },
   {
    "duration": -1354,
    "start_time": "2021-12-11T12:12:19.004Z"
   },
   {
    "duration": -1356,
    "start_time": "2021-12-11T12:12:19.008Z"
   },
   {
    "duration": -1357,
    "start_time": "2021-12-11T12:12:19.011Z"
   },
   {
    "duration": -1360,
    "start_time": "2021-12-11T12:12:19.016Z"
   },
   {
    "duration": -1362,
    "start_time": "2021-12-11T12:12:19.020Z"
   },
   {
    "duration": -1363,
    "start_time": "2021-12-11T12:12:19.023Z"
   },
   {
    "duration": -1363,
    "start_time": "2021-12-11T12:12:19.026Z"
   },
   {
    "duration": -1307,
    "start_time": "2021-12-11T12:12:19.031Z"
   },
   {
    "duration": -1309,
    "start_time": "2021-12-11T12:12:19.035Z"
   },
   {
    "duration": -1310,
    "start_time": "2021-12-11T12:12:19.039Z"
   },
   {
    "duration": -1311,
    "start_time": "2021-12-11T12:12:19.042Z"
   },
   {
    "duration": -1312,
    "start_time": "2021-12-11T12:12:19.045Z"
   },
   {
    "duration": -1316,
    "start_time": "2021-12-11T12:12:19.050Z"
   },
   {
    "duration": -1330,
    "start_time": "2021-12-11T12:12:19.066Z"
   },
   {
    "duration": -1334,
    "start_time": "2021-12-11T12:12:19.072Z"
   },
   {
    "duration": -1335,
    "start_time": "2021-12-11T12:12:19.075Z"
   },
   {
    "duration": -1336,
    "start_time": "2021-12-11T12:12:19.077Z"
   },
   {
    "duration": -1338,
    "start_time": "2021-12-11T12:12:19.082Z"
   },
   {
    "duration": -1340,
    "start_time": "2021-12-11T12:12:19.086Z"
   },
   {
    "duration": -1342,
    "start_time": "2021-12-11T12:12:19.089Z"
   },
   {
    "duration": -1343,
    "start_time": "2021-12-11T12:12:19.092Z"
   },
   {
    "duration": -1345,
    "start_time": "2021-12-11T12:12:19.095Z"
   },
   {
    "duration": 25,
    "start_time": "2021-12-11T12:18:52.295Z"
   },
   {
    "duration": 121,
    "start_time": "2021-12-11T12:18:56.504Z"
   },
   {
    "duration": 11,
    "start_time": "2021-12-11T12:19:02.134Z"
   },
   {
    "duration": 412,
    "start_time": "2021-12-11T12:21:33.336Z"
   },
   {
    "duration": -1351,
    "start_time": "2021-12-11T12:21:35.105Z"
   },
   {
    "duration": -1356,
    "start_time": "2021-12-11T12:21:35.112Z"
   },
   {
    "duration": -1360,
    "start_time": "2021-12-11T12:21:35.118Z"
   },
   {
    "duration": -1363,
    "start_time": "2021-12-11T12:21:35.123Z"
   },
   {
    "duration": -1365,
    "start_time": "2021-12-11T12:21:35.127Z"
   },
   {
    "duration": -1366,
    "start_time": "2021-12-11T12:21:35.131Z"
   },
   {
    "duration": -1367,
    "start_time": "2021-12-11T12:21:35.134Z"
   },
   {
    "duration": -1369,
    "start_time": "2021-12-11T12:21:35.138Z"
   },
   {
    "duration": -1371,
    "start_time": "2021-12-11T12:21:35.142Z"
   },
   {
    "duration": -1373,
    "start_time": "2021-12-11T12:21:35.146Z"
   },
   {
    "duration": -1374,
    "start_time": "2021-12-11T12:21:35.149Z"
   },
   {
    "duration": -1376,
    "start_time": "2021-12-11T12:21:35.153Z"
   },
   {
    "duration": -1378,
    "start_time": "2021-12-11T12:21:35.157Z"
   },
   {
    "duration": -1384,
    "start_time": "2021-12-11T12:21:35.165Z"
   },
   {
    "duration": -1424,
    "start_time": "2021-12-11T12:21:35.207Z"
   },
   {
    "duration": -1429,
    "start_time": "2021-12-11T12:21:35.214Z"
   },
   {
    "duration": -1437,
    "start_time": "2021-12-11T12:21:35.224Z"
   },
   {
    "duration": -1439,
    "start_time": "2021-12-11T12:21:35.228Z"
   },
   {
    "duration": -1441,
    "start_time": "2021-12-11T12:21:35.232Z"
   },
   {
    "duration": -1444,
    "start_time": "2021-12-11T12:21:35.236Z"
   },
   {
    "duration": -1446,
    "start_time": "2021-12-11T12:21:35.239Z"
   },
   {
    "duration": -1448,
    "start_time": "2021-12-11T12:21:35.242Z"
   },
   {
    "duration": -1422,
    "start_time": "2021-12-11T12:21:35.246Z"
   },
   {
    "duration": -1423,
    "start_time": "2021-12-11T12:21:35.249Z"
   },
   {
    "duration": -1474,
    "start_time": "2021-12-11T12:21:35.302Z"
   },
   {
    "duration": -1489,
    "start_time": "2021-12-11T12:21:35.319Z"
   },
   {
    "duration": -1492,
    "start_time": "2021-12-11T12:21:35.324Z"
   },
   {
    "duration": -1496,
    "start_time": "2021-12-11T12:21:35.330Z"
   },
   {
    "duration": -1498,
    "start_time": "2021-12-11T12:21:35.334Z"
   },
   {
    "duration": -1500,
    "start_time": "2021-12-11T12:21:35.338Z"
   },
   {
    "duration": -1501,
    "start_time": "2021-12-11T12:21:35.341Z"
   },
   {
    "duration": -1503,
    "start_time": "2021-12-11T12:21:35.345Z"
   },
   {
    "duration": -1504,
    "start_time": "2021-12-11T12:21:35.348Z"
   },
   {
    "duration": -1506,
    "start_time": "2021-12-11T12:21:35.352Z"
   },
   {
    "duration": -1524,
    "start_time": "2021-12-11T12:21:35.373Z"
   },
   {
    "duration": -1526,
    "start_time": "2021-12-11T12:21:35.377Z"
   },
   {
    "duration": -1544,
    "start_time": "2021-12-11T12:21:35.397Z"
   },
   {
    "duration": -1545,
    "start_time": "2021-12-11T12:21:35.400Z"
   },
   {
    "duration": -1643,
    "start_time": "2021-12-11T12:21:35.500Z"
   },
   {
    "duration": -1721,
    "start_time": "2021-12-11T12:21:35.580Z"
   },
   {
    "duration": -1722,
    "start_time": "2021-12-11T12:21:35.583Z"
   },
   {
    "duration": -1664,
    "start_time": "2021-12-11T12:21:35.587Z"
   },
   {
    "duration": -1664,
    "start_time": "2021-12-11T12:21:35.590Z"
   },
   {
    "duration": -1666,
    "start_time": "2021-12-11T12:21:35.594Z"
   },
   {
    "duration": -1667,
    "start_time": "2021-12-11T12:21:35.597Z"
   },
   {
    "duration": -1667,
    "start_time": "2021-12-11T12:21:35.600Z"
   },
   {
    "duration": -1669,
    "start_time": "2021-12-11T12:21:35.603Z"
   },
   {
    "duration": -1671,
    "start_time": "2021-12-11T12:21:35.607Z"
   },
   {
    "duration": -1671,
    "start_time": "2021-12-11T12:21:35.610Z"
   },
   {
    "duration": -1672,
    "start_time": "2021-12-11T12:21:35.613Z"
   },
   {
    "duration": -1684,
    "start_time": "2021-12-11T12:21:35.628Z"
   },
   {
    "duration": -1686,
    "start_time": "2021-12-11T12:21:35.632Z"
   },
   {
    "duration": -1686,
    "start_time": "2021-12-11T12:21:35.635Z"
   },
   {
    "duration": -1694,
    "start_time": "2021-12-11T12:21:35.645Z"
   },
   {
    "duration": -1697,
    "start_time": "2021-12-11T12:21:35.649Z"
   },
   {
    "duration": -1698,
    "start_time": "2021-12-11T12:21:35.653Z"
   },
   {
    "duration": -1699,
    "start_time": "2021-12-11T12:21:35.657Z"
   },
   {
    "duration": 418,
    "start_time": "2021-12-11T12:21:48.170Z"
   },
   {
    "duration": -1303,
    "start_time": "2021-12-11T12:21:49.895Z"
   },
   {
    "duration": 9098,
    "start_time": "2021-12-11T12:21:49.263Z"
   },
   {
    "duration": 752,
    "start_time": "2021-12-11T12:22:34.994Z"
   },
   {
    "duration": 296,
    "start_time": "2021-12-11T12:22:35.748Z"
   },
   {
    "duration": 20,
    "start_time": "2021-12-11T12:22:36.047Z"
   },
   {
    "duration": 23,
    "start_time": "2021-12-11T12:22:36.070Z"
   },
   {
    "duration": 34,
    "start_time": "2021-12-11T12:22:36.096Z"
   },
   {
    "duration": 1097,
    "start_time": "2021-12-11T12:22:36.133Z"
   },
   {
    "duration": 10511,
    "start_time": "2021-12-11T12:22:37.233Z"
   },
   {
    "duration": -1314,
    "start_time": "2021-12-11T12:22:49.064Z"
   },
   {
    "duration": -1317,
    "start_time": "2021-12-11T12:22:49.069Z"
   },
   {
    "duration": -1319,
    "start_time": "2021-12-11T12:22:49.073Z"
   },
   {
    "duration": -1320,
    "start_time": "2021-12-11T12:22:49.076Z"
   },
   {
    "duration": -1322,
    "start_time": "2021-12-11T12:22:49.080Z"
   },
   {
    "duration": -1323,
    "start_time": "2021-12-11T12:22:49.083Z"
   },
   {
    "duration": -1324,
    "start_time": "2021-12-11T12:22:49.086Z"
   },
   {
    "duration": -1326,
    "start_time": "2021-12-11T12:22:49.090Z"
   },
   {
    "duration": -1327,
    "start_time": "2021-12-11T12:22:49.093Z"
   },
   {
    "duration": -1357,
    "start_time": "2021-12-11T12:22:49.125Z"
   },
   {
    "duration": -1264,
    "start_time": "2021-12-11T12:22:49.130Z"
   },
   {
    "duration": -1272,
    "start_time": "2021-12-11T12:22:49.140Z"
   },
   {
    "duration": -1486,
    "start_time": "2021-12-11T12:22:49.356Z"
   },
   {
    "duration": -1491,
    "start_time": "2021-12-11T12:22:49.363Z"
   },
   {
    "duration": -1760,
    "start_time": "2021-12-11T12:22:49.634Z"
   },
   {
    "duration": -1857,
    "start_time": "2021-12-11T12:22:49.734Z"
   },
   {
    "duration": -1880,
    "start_time": "2021-12-11T12:22:49.759Z"
   },
   {
    "duration": -1899,
    "start_time": "2021-12-11T12:22:49.780Z"
   },
   {
    "duration": -1922,
    "start_time": "2021-12-11T12:22:49.805Z"
   },
   {
    "duration": -1940,
    "start_time": "2021-12-11T12:22:49.825Z"
   },
   {
    "duration": -1958,
    "start_time": "2021-12-11T12:22:49.845Z"
   },
   {
    "duration": -1964,
    "start_time": "2021-12-11T12:22:49.852Z"
   },
   {
    "duration": -1967,
    "start_time": "2021-12-11T12:22:49.857Z"
   },
   {
    "duration": -1936,
    "start_time": "2021-12-11T12:22:49.860Z"
   },
   {
    "duration": -1939,
    "start_time": "2021-12-11T12:22:49.865Z"
   },
   {
    "duration": -1942,
    "start_time": "2021-12-11T12:22:49.871Z"
   },
   {
    "duration": -1944,
    "start_time": "2021-12-11T12:22:49.875Z"
   },
   {
    "duration": -1945,
    "start_time": "2021-12-11T12:22:49.878Z"
   },
   {
    "duration": -1949,
    "start_time": "2021-12-11T12:22:49.884Z"
   },
   {
    "duration": -1952,
    "start_time": "2021-12-11T12:22:49.889Z"
   },
   {
    "duration": -1954,
    "start_time": "2021-12-11T12:22:49.893Z"
   },
   {
    "duration": -1955,
    "start_time": "2021-12-11T12:22:49.896Z"
   },
   {
    "duration": -1959,
    "start_time": "2021-12-11T12:22:49.902Z"
   },
   {
    "duration": -1961,
    "start_time": "2021-12-11T12:22:49.906Z"
   },
   {
    "duration": -1963,
    "start_time": "2021-12-11T12:22:49.910Z"
   },
   {
    "duration": -1964,
    "start_time": "2021-12-11T12:22:49.913Z"
   },
   {
    "duration": -1970,
    "start_time": "2021-12-11T12:22:49.920Z"
   },
   {
    "duration": -1973,
    "start_time": "2021-12-11T12:22:49.924Z"
   },
   {
    "duration": -1975,
    "start_time": "2021-12-11T12:22:49.927Z"
   },
   {
    "duration": -1977,
    "start_time": "2021-12-11T12:22:49.931Z"
   },
   {
    "duration": -1981,
    "start_time": "2021-12-11T12:22:49.936Z"
   },
   {
    "duration": -1984,
    "start_time": "2021-12-11T12:22:49.940Z"
   },
   {
    "duration": -2003,
    "start_time": "2021-12-11T12:22:49.961Z"
   },
   {
    "duration": -1943,
    "start_time": "2021-12-11T12:22:49.966Z"
   },
   {
    "duration": -1947,
    "start_time": "2021-12-11T12:22:49.971Z"
   },
   {
    "duration": -1949,
    "start_time": "2021-12-11T12:22:49.975Z"
   },
   {
    "duration": -1951,
    "start_time": "2021-12-11T12:22:49.978Z"
   },
   {
    "duration": 8,
    "start_time": "2021-12-11T12:23:12.917Z"
   },
   {
    "duration": 10,
    "start_time": "2021-12-11T12:23:12.928Z"
   },
   {
    "duration": 9,
    "start_time": "2021-12-11T12:23:12.941Z"
   },
   {
    "duration": 73,
    "start_time": "2021-12-11T12:23:12.952Z"
   },
   {
    "duration": 7,
    "start_time": "2021-12-11T12:23:13.027Z"
   },
   {
    "duration": 11,
    "start_time": "2021-12-11T12:23:13.036Z"
   },
   {
    "duration": 338,
    "start_time": "2021-12-11T12:23:13.049Z"
   },
   {
    "duration": 8,
    "start_time": "2021-12-11T12:23:13.391Z"
   },
   {
    "duration": 36,
    "start_time": "2021-12-11T12:23:13.402Z"
   },
   {
    "duration": 28,
    "start_time": "2021-12-11T12:23:13.440Z"
   },
   {
    "duration": 22,
    "start_time": "2021-12-11T12:23:13.470Z"
   },
   {
    "duration": 9021,
    "start_time": "2021-12-11T12:23:13.495Z"
   },
   {
    "duration": -1293,
    "start_time": "2021-12-11T12:23:23.813Z"
   },
   {
    "duration": -1297,
    "start_time": "2021-12-11T12:23:23.819Z"
   },
   {
    "duration": -1301,
    "start_time": "2021-12-11T12:23:23.825Z"
   },
   {
    "duration": -1305,
    "start_time": "2021-12-11T12:23:23.830Z"
   },
   {
    "duration": -1308,
    "start_time": "2021-12-11T12:23:23.834Z"
   },
   {
    "duration": -1309,
    "start_time": "2021-12-11T12:23:23.837Z"
   },
   {
    "duration": -1312,
    "start_time": "2021-12-11T12:23:23.841Z"
   },
   {
    "duration": -1313,
    "start_time": "2021-12-11T12:23:23.844Z"
   },
   {
    "duration": -1315,
    "start_time": "2021-12-11T12:23:23.847Z"
   },
   {
    "duration": -1317,
    "start_time": "2021-12-11T12:23:23.850Z"
   },
   {
    "duration": -1319,
    "start_time": "2021-12-11T12:23:23.854Z"
   },
   {
    "duration": -1321,
    "start_time": "2021-12-11T12:23:23.857Z"
   },
   {
    "duration": -1323,
    "start_time": "2021-12-11T12:23:23.860Z"
   },
   {
    "duration": -1331,
    "start_time": "2021-12-11T12:23:23.870Z"
   },
   {
    "duration": -1336,
    "start_time": "2021-12-11T12:23:23.876Z"
   },
   {
    "duration": -1340,
    "start_time": "2021-12-11T12:23:23.882Z"
   },
   {
    "duration": -1343,
    "start_time": "2021-12-11T12:23:23.886Z"
   },
   {
    "duration": -1345,
    "start_time": "2021-12-11T12:23:23.889Z"
   },
   {
    "duration": -1348,
    "start_time": "2021-12-11T12:23:23.893Z"
   },
   {
    "duration": -1361,
    "start_time": "2021-12-11T12:23:23.908Z"
   },
   {
    "duration": -1368,
    "start_time": "2021-12-11T12:23:23.916Z"
   },
   {
    "duration": -1372,
    "start_time": "2021-12-11T12:23:23.922Z"
   },
   {
    "duration": -1376,
    "start_time": "2021-12-11T12:23:23.927Z"
   },
   {
    "duration": -1380,
    "start_time": "2021-12-11T12:23:23.932Z"
   },
   {
    "duration": -1383,
    "start_time": "2021-12-11T12:23:23.936Z"
   },
   {
    "duration": -1386,
    "start_time": "2021-12-11T12:23:23.941Z"
   },
   {
    "duration": -1390,
    "start_time": "2021-12-11T12:23:23.946Z"
   },
   {
    "duration": -1393,
    "start_time": "2021-12-11T12:23:23.950Z"
   },
   {
    "duration": -1396,
    "start_time": "2021-12-11T12:23:23.955Z"
   },
   {
    "duration": -1399,
    "start_time": "2021-12-11T12:23:23.959Z"
   },
   {
    "duration": -1401,
    "start_time": "2021-12-11T12:23:23.963Z"
   },
   {
    "duration": -1344,
    "start_time": "2021-12-11T12:23:23.967Z"
   },
   {
    "duration": -1345,
    "start_time": "2021-12-11T12:23:23.970Z"
   },
   {
    "duration": -1348,
    "start_time": "2021-12-11T12:23:23.974Z"
   },
   {
    "duration": -1366,
    "start_time": "2021-12-11T12:23:23.994Z"
   },
   {
    "duration": 25,
    "start_time": "2021-12-11T12:23:36.481Z"
   },
   {
    "duration": 15,
    "start_time": "2021-12-11T12:23:39.692Z"
   },
   {
    "duration": 889,
    "start_time": "2021-12-11T12:23:40.802Z"
   },
   {
    "duration": 17,
    "start_time": "2021-12-11T12:24:16.774Z"
   },
   {
    "duration": 7,
    "start_time": "2021-12-11T12:24:16.794Z"
   },
   {
    "duration": 207001,
    "start_time": "2021-12-11T12:24:16.804Z"
   },
   {
    "duration": 3826,
    "start_time": "2021-12-11T12:27:43.807Z"
   },
   {
    "duration": -1961,
    "start_time": "2021-12-11T12:27:49.600Z"
   },
   {
    "duration": -1973,
    "start_time": "2021-12-11T12:27:49.614Z"
   },
   {
    "duration": -1983,
    "start_time": "2021-12-11T12:27:49.627Z"
   },
   {
    "duration": -1995,
    "start_time": "2021-12-11T12:27:49.641Z"
   },
   {
    "duration": -2005,
    "start_time": "2021-12-11T12:27:49.653Z"
   },
   {
    "duration": -2014,
    "start_time": "2021-12-11T12:27:49.665Z"
   },
   {
    "duration": -3944,
    "start_time": "2021-12-11T12:27:51.597Z"
   },
   {
    "duration": -3947,
    "start_time": "2021-12-11T12:27:51.602Z"
   },
   {
    "duration": -3948,
    "start_time": "2021-12-11T12:27:51.606Z"
   },
   {
    "duration": -3950,
    "start_time": "2021-12-11T12:27:51.610Z"
   },
   {
    "duration": -3951,
    "start_time": "2021-12-11T12:27:51.613Z"
   },
   {
    "duration": -3962,
    "start_time": "2021-12-11T12:27:51.626Z"
   },
   {
    "duration": -3965,
    "start_time": "2021-12-11T12:27:51.632Z"
   },
   {
    "duration": -3968,
    "start_time": "2021-12-11T12:27:51.637Z"
   },
   {
    "duration": -3969,
    "start_time": "2021-12-11T12:27:51.641Z"
   },
   {
    "duration": -3970,
    "start_time": "2021-12-11T12:27:51.644Z"
   },
   {
    "duration": -3972,
    "start_time": "2021-12-11T12:27:51.648Z"
   },
   {
    "duration": -3973,
    "start_time": "2021-12-11T12:27:51.652Z"
   },
   {
    "duration": -3995,
    "start_time": "2021-12-11T12:27:51.676Z"
   },
   {
    "duration": -4012,
    "start_time": "2021-12-11T12:27:51.695Z"
   },
   {
    "duration": -4027,
    "start_time": "2021-12-11T12:27:51.712Z"
   },
   {
    "duration": -4040,
    "start_time": "2021-12-11T12:27:51.728Z"
   },
   {
    "duration": -4121,
    "start_time": "2021-12-11T12:27:51.811Z"
   },
   {
    "duration": -4122,
    "start_time": "2021-12-11T12:27:51.815Z"
   },
   {
    "duration": -4126,
    "start_time": "2021-12-11T12:27:51.821Z"
   },
   {
    "duration": -4128,
    "start_time": "2021-12-11T12:27:51.825Z"
   },
   {
    "duration": -4130,
    "start_time": "2021-12-11T12:27:51.829Z"
   },
   {
    "duration": -4131,
    "start_time": "2021-12-11T12:27:51.833Z"
   },
   {
    "duration": 102,
    "start_time": "2021-12-11T12:55:23.887Z"
   },
   {
    "duration": 470,
    "start_time": "2021-12-11T13:06:20.652Z"
   },
   {
    "duration": 837,
    "start_time": "2021-12-11T13:06:49.974Z"
   },
   {
    "duration": 67,
    "start_time": "2021-12-11T13:06:52.412Z"
   },
   {
    "duration": 20,
    "start_time": "2021-12-11T13:07:25.236Z"
   },
   {
    "duration": 11,
    "start_time": "2021-12-11T13:07:30.396Z"
   },
   {
    "duration": 40,
    "start_time": "2021-12-11T13:07:56.466Z"
   },
   {
    "duration": 43,
    "start_time": "2021-12-11T13:08:02.798Z"
   },
   {
    "duration": 22,
    "start_time": "2021-12-11T13:10:55.646Z"
   },
   {
    "duration": 10,
    "start_time": "2021-12-11T13:13:09.285Z"
   },
   {
    "duration": 27,
    "start_time": "2021-12-11T13:13:12.633Z"
   },
   {
    "duration": 22,
    "start_time": "2021-12-11T13:13:16.297Z"
   },
   {
    "duration": 339,
    "start_time": "2021-12-11T13:14:29.091Z"
   },
   {
    "duration": 418,
    "start_time": "2021-12-11T13:14:52.670Z"
   },
   {
    "duration": 18,
    "start_time": "2021-12-11T13:16:47.619Z"
   },
   {
    "duration": 376,
    "start_time": "2021-12-11T13:20:52.482Z"
   },
   {
    "duration": 13,
    "start_time": "2021-12-11T13:21:22.397Z"
   },
   {
    "duration": 643,
    "start_time": "2021-12-11T13:42:29.483Z"
   },
   {
    "duration": 7,
    "start_time": "2021-12-11T14:19:55.627Z"
   },
   {
    "duration": 293,
    "start_time": "2021-12-11T15:15:20.607Z"
   },
   {
    "duration": 631,
    "start_time": "2021-12-11T15:16:02.551Z"
   },
   {
    "duration": 21,
    "start_time": "2021-12-11T15:18:17.881Z"
   },
   {
    "duration": 22,
    "start_time": "2021-12-11T15:23:56.519Z"
   },
   {
    "duration": 128,
    "start_time": "2021-12-11T15:38:01.471Z"
   },
   {
    "duration": 12,
    "start_time": "2021-12-11T15:38:08.631Z"
   },
   {
    "duration": 34,
    "start_time": "2021-12-11T15:39:09.331Z"
   },
   {
    "duration": 57,
    "start_time": "2021-12-11T15:46:16.138Z"
   },
   {
    "duration": 97,
    "start_time": "2021-12-11T16:09:27.206Z"
   },
   {
    "duration": 101,
    "start_time": "2021-12-11T16:09:56.638Z"
   },
   {
    "duration": 100,
    "start_time": "2021-12-11T16:10:25.696Z"
   },
   {
    "duration": 99,
    "start_time": "2021-12-11T16:10:40.956Z"
   },
   {
    "duration": 296,
    "start_time": "2021-12-11T16:20:58.706Z"
   },
   {
    "duration": 550,
    "start_time": "2021-12-11T16:22:48.110Z"
   },
   {
    "duration": 10,
    "start_time": "2021-12-11T16:22:59.033Z"
   },
   {
    "duration": 315,
    "start_time": "2021-12-11T16:24:01.116Z"
   },
   {
    "duration": 24,
    "start_time": "2021-12-11T16:25:11.342Z"
   },
   {
    "duration": 46,
    "start_time": "2021-12-11T16:25:35.864Z"
   },
   {
    "duration": 67,
    "start_time": "2021-12-11T16:27:04.155Z"
   },
   {
    "duration": 38,
    "start_time": "2021-12-11T16:27:09.045Z"
   },
   {
    "duration": 15,
    "start_time": "2021-12-11T16:27:14.227Z"
   },
   {
    "duration": 12,
    "start_time": "2021-12-11T16:27:20.935Z"
   },
   {
    "duration": 47,
    "start_time": "2021-12-11T16:27:30.474Z"
   },
   {
    "duration": 12,
    "start_time": "2021-12-11T16:27:43.271Z"
   },
   {
    "duration": 15,
    "start_time": "2021-12-11T16:27:45.116Z"
   },
   {
    "duration": 11,
    "start_time": "2021-12-11T16:28:20.265Z"
   },
   {
    "duration": 3,
    "start_time": "2021-12-11T16:29:02.693Z"
   },
   {
    "duration": 68,
    "start_time": "2021-12-11T16:29:02.703Z"
   },
   {
    "duration": 35,
    "start_time": "2021-12-11T16:29:02.773Z"
   },
   {
    "duration": 15,
    "start_time": "2021-12-11T16:29:02.817Z"
   },
   {
    "duration": 12,
    "start_time": "2021-12-11T16:29:02.835Z"
   },
   {
    "duration": 16,
    "start_time": "2021-12-11T16:29:02.850Z"
   },
   {
    "duration": 45,
    "start_time": "2021-12-11T16:29:02.917Z"
   },
   {
    "duration": 5,
    "start_time": "2021-12-11T16:29:02.965Z"
   },
   {
    "duration": 48,
    "start_time": "2021-12-11T16:29:02.973Z"
   },
   {
    "duration": 16,
    "start_time": "2021-12-11T16:29:03.024Z"
   },
   {
    "duration": 323,
    "start_time": "2021-12-11T16:29:03.043Z"
   },
   {
    "duration": 75,
    "start_time": "2021-12-11T16:29:03.369Z"
   },
   {
    "duration": 71,
    "start_time": "2021-12-11T16:29:03.448Z"
   },
   {
    "duration": 69,
    "start_time": "2021-12-11T16:29:03.522Z"
   },
   {
    "duration": 60,
    "start_time": "2021-12-11T16:29:03.594Z"
   },
   {
    "duration": 63,
    "start_time": "2021-12-11T16:29:03.656Z"
   },
   {
    "duration": 5,
    "start_time": "2021-12-11T16:29:03.721Z"
   },
   {
    "duration": 115,
    "start_time": "2021-12-11T16:29:03.729Z"
   },
   {
    "duration": 44,
    "start_time": "2021-12-11T16:29:03.846Z"
   },
   {
    "duration": 60,
    "start_time": "2021-12-11T16:29:03.892Z"
   },
   {
    "duration": 697,
    "start_time": "2021-12-11T16:29:03.954Z"
   },
   {
    "duration": 11,
    "start_time": "2021-12-11T16:29:04.654Z"
   },
   {
    "duration": 38,
    "start_time": "2021-12-11T16:29:04.667Z"
   },
   {
    "duration": 320,
    "start_time": "2021-12-11T16:29:04.711Z"
   },
   {
    "duration": 10,
    "start_time": "2021-12-11T16:29:05.035Z"
   },
   {
    "duration": 17,
    "start_time": "2021-12-11T16:29:05.048Z"
   },
   {
    "duration": 60,
    "start_time": "2021-12-11T16:29:05.068Z"
   },
   {
    "duration": 10,
    "start_time": "2021-12-11T16:29:05.131Z"
   },
   {
    "duration": 281,
    "start_time": "2021-12-11T16:29:05.144Z"
   },
   {
    "duration": 33,
    "start_time": "2021-12-11T16:29:05.428Z"
   },
   {
    "duration": 14,
    "start_time": "2021-12-11T16:29:05.464Z"
   },
   {
    "duration": 42,
    "start_time": "2021-12-11T16:29:05.481Z"
   },
   {
    "duration": 39,
    "start_time": "2021-12-11T16:29:05.526Z"
   },
   {
    "duration": 16,
    "start_time": "2021-12-11T16:29:05.567Z"
   },
   {
    "duration": 43,
    "start_time": "2021-12-11T16:29:05.586Z"
   },
   {
    "duration": 20,
    "start_time": "2021-12-11T16:29:05.631Z"
   },
   {
    "duration": 37,
    "start_time": "2021-12-11T16:29:05.654Z"
   },
   {
    "duration": 61,
    "start_time": "2021-12-11T16:29:05.694Z"
   },
   {
    "duration": 10,
    "start_time": "2021-12-11T16:29:05.758Z"
   },
   {
    "duration": 430,
    "start_time": "2021-12-11T16:29:05.771Z"
   },
   {
    "duration": 23,
    "start_time": "2021-12-11T16:29:06.205Z"
   },
   {
    "duration": 525,
    "start_time": "2021-12-11T16:29:06.231Z"
   },
   {
    "duration": 22,
    "start_time": "2021-12-11T16:29:06.759Z"
   },
   {
    "duration": 41,
    "start_time": "2021-12-11T16:29:06.784Z"
   },
   {
    "duration": 48,
    "start_time": "2021-12-11T16:29:06.828Z"
   },
   {
    "duration": 54,
    "start_time": "2021-12-11T16:29:06.879Z"
   },
   {
    "duration": 12,
    "start_time": "2021-12-11T16:29:06.935Z"
   },
   {
    "duration": 10,
    "start_time": "2021-12-11T16:29:06.950Z"
   },
   {
    "duration": 55,
    "start_time": "2021-12-11T16:29:06.962Z"
   },
   {
    "duration": 18,
    "start_time": "2021-12-11T16:29:07.019Z"
   },
   {
    "duration": 29,
    "start_time": "2021-12-11T16:29:07.039Z"
   },
   {
    "duration": 10,
    "start_time": "2021-12-11T16:29:07.070Z"
   },
   {
    "duration": 5,
    "start_time": "2021-12-11T16:29:07.116Z"
   },
   {
    "duration": 15,
    "start_time": "2021-12-11T16:29:07.124Z"
   },
   {
    "duration": 685,
    "start_time": "2021-12-11T16:29:07.141Z"
   },
   {
    "duration": 673,
    "start_time": "2021-12-11T16:29:07.831Z"
   },
   {
    "duration": 790,
    "start_time": "2021-12-11T16:29:08.506Z"
   },
   {
    "duration": 655,
    "start_time": "2021-12-11T16:29:09.299Z"
   },
   {
    "duration": 644,
    "start_time": "2021-12-11T16:29:09.956Z"
   },
   {
    "duration": 8,
    "start_time": "2021-12-11T16:29:52.872Z"
   },
   {
    "duration": 47,
    "start_time": "2021-12-11T16:30:02.385Z"
   },
   {
    "duration": 11,
    "start_time": "2021-12-11T16:30:06.944Z"
   },
   {
    "duration": 6,
    "start_time": "2021-12-11T16:30:16.704Z"
   },
   {
    "duration": 73,
    "start_time": "2021-12-11T16:30:38.345Z"
   },
   {
    "duration": 11,
    "start_time": "2021-12-11T16:30:53.725Z"
   },
   {
    "duration": 54,
    "start_time": "2021-12-11T16:31:29.365Z"
   },
   {
    "duration": 55,
    "start_time": "2021-12-11T16:32:13.352Z"
   },
   {
    "duration": 11,
    "start_time": "2021-12-11T16:32:18.826Z"
   },
   {
    "duration": 51,
    "start_time": "2021-12-11T16:32:25.025Z"
   },
   {
    "duration": 46,
    "start_time": "2021-12-11T16:32:50.793Z"
   },
   {
    "duration": 26,
    "start_time": "2021-12-11T16:33:08.485Z"
   },
   {
    "duration": 10,
    "start_time": "2021-12-11T16:33:20.584Z"
   },
   {
    "duration": 12,
    "start_time": "2021-12-11T16:34:01.529Z"
   },
   {
    "duration": 50,
    "start_time": "2021-12-11T16:34:06.452Z"
   },
   {
    "duration": 299,
    "start_time": "2021-12-11T16:34:10.522Z"
   },
   {
    "duration": 12,
    "start_time": "2021-12-11T16:35:34.086Z"
   },
   {
    "duration": 52,
    "start_time": "2021-12-11T16:35:38.926Z"
   },
   {
    "duration": 428,
    "start_time": "2021-12-11T16:35:59.015Z"
   },
   {
    "duration": 404,
    "start_time": "2021-12-11T16:36:10.923Z"
   },
   {
    "duration": 460,
    "start_time": "2021-12-11T16:36:39.302Z"
   },
   {
    "duration": 8,
    "start_time": "2021-12-11T16:36:50.803Z"
   },
   {
    "duration": 8,
    "start_time": "2021-12-11T16:36:59.243Z"
   },
   {
    "duration": 29,
    "start_time": "2021-12-11T16:37:24.395Z"
   },
   {
    "duration": 301,
    "start_time": "2021-12-11T16:37:53.543Z"
   },
   {
    "duration": 5,
    "start_time": "2021-12-11T16:38:03.675Z"
   },
   {
    "duration": 9,
    "start_time": "2021-12-11T16:38:16.444Z"
   },
   {
    "duration": 30,
    "start_time": "2021-12-11T16:38:24.774Z"
   },
   {
    "duration": 11,
    "start_time": "2021-12-11T16:38:33.711Z"
   },
   {
    "duration": 6,
    "start_time": "2021-12-11T16:38:58.854Z"
   },
   {
    "duration": 11,
    "start_time": "2021-12-11T16:39:33.235Z"
   },
   {
    "duration": 8,
    "start_time": "2021-12-11T16:39:38.075Z"
   },
   {
    "duration": 5,
    "start_time": "2021-12-11T16:40:00.875Z"
   },
   {
    "duration": 10,
    "start_time": "2021-12-11T16:40:12.855Z"
   },
   {
    "duration": 31,
    "start_time": "2021-12-11T16:40:16.355Z"
   },
   {
    "duration": 6,
    "start_time": "2021-12-11T16:42:54.659Z"
   },
   {
    "duration": 14,
    "start_time": "2021-12-11T16:42:57.027Z"
   },
   {
    "duration": 31,
    "start_time": "2021-12-11T16:43:09.518Z"
   },
   {
    "duration": 5,
    "start_time": "2021-12-11T16:43:32.799Z"
   },
   {
    "duration": 3,
    "start_time": "2021-12-11T16:43:46.828Z"
   },
   {
    "duration": 59,
    "start_time": "2021-12-11T16:43:46.844Z"
   },
   {
    "duration": 33,
    "start_time": "2021-12-11T16:43:46.906Z"
   },
   {
    "duration": 14,
    "start_time": "2021-12-11T16:43:46.942Z"
   },
   {
    "duration": 12,
    "start_time": "2021-12-11T16:43:46.958Z"
   },
   {
    "duration": 51,
    "start_time": "2021-12-11T16:43:46.973Z"
   },
   {
    "duration": 46,
    "start_time": "2021-12-11T16:43:47.026Z"
   },
   {
    "duration": 5,
    "start_time": "2021-12-11T16:43:47.074Z"
   },
   {
    "duration": 45,
    "start_time": "2021-12-11T16:43:47.081Z"
   },
   {
    "duration": 10,
    "start_time": "2021-12-11T16:43:47.130Z"
   },
   {
    "duration": 354,
    "start_time": "2021-12-11T16:43:47.143Z"
   },
   {
    "duration": 47,
    "start_time": "2021-12-11T16:43:47.500Z"
   },
   {
    "duration": 36,
    "start_time": "2021-12-11T16:43:47.550Z"
   },
   {
    "duration": 63,
    "start_time": "2021-12-11T16:43:47.589Z"
   },
   {
    "duration": 36,
    "start_time": "2021-12-11T16:43:47.655Z"
   },
   {
    "duration": 35,
    "start_time": "2021-12-11T16:43:47.718Z"
   },
   {
    "duration": 5,
    "start_time": "2021-12-11T16:43:47.755Z"
   },
   {
    "duration": 63,
    "start_time": "2021-12-11T16:43:47.763Z"
   },
   {
    "duration": 126,
    "start_time": "2021-12-11T16:43:47.828Z"
   },
   {
    "duration": 36,
    "start_time": "2021-12-11T16:43:47.956Z"
   },
   {
    "duration": 689,
    "start_time": "2021-12-11T16:43:47.994Z"
   },
   {
    "duration": 30,
    "start_time": "2021-12-11T16:43:48.686Z"
   },
   {
    "duration": 12,
    "start_time": "2021-12-11T16:43:48.718Z"
   },
   {
    "duration": 300,
    "start_time": "2021-12-11T16:43:48.733Z"
   },
   {
    "duration": 8,
    "start_time": "2021-12-11T16:43:49.036Z"
   },
   {
    "duration": 7,
    "start_time": "2021-12-11T16:43:49.048Z"
   },
   {
    "duration": 64,
    "start_time": "2021-12-11T16:43:49.058Z"
   },
   {
    "duration": 7,
    "start_time": "2021-12-11T16:43:49.129Z"
   },
   {
    "duration": 275,
    "start_time": "2021-12-11T16:43:49.142Z"
   },
   {
    "duration": 33,
    "start_time": "2021-12-11T16:43:49.419Z"
   },
   {
    "duration": 6,
    "start_time": "2021-12-11T16:43:49.454Z"
   },
   {
    "duration": 16,
    "start_time": "2021-12-11T16:43:49.462Z"
   },
   {
    "duration": 63,
    "start_time": "2021-12-11T16:43:49.480Z"
   },
   {
    "duration": 12,
    "start_time": "2021-12-11T16:43:49.545Z"
   },
   {
    "duration": 10,
    "start_time": "2021-12-11T16:43:49.559Z"
   },
   {
    "duration": 47,
    "start_time": "2021-12-11T16:43:49.571Z"
   },
   {
    "duration": 15,
    "start_time": "2021-12-11T16:43:49.622Z"
   },
   {
    "duration": 33,
    "start_time": "2021-12-11T16:43:49.640Z"
   },
   {
    "duration": 43,
    "start_time": "2021-12-11T16:43:49.676Z"
   },
   {
    "duration": 269,
    "start_time": "2021-12-11T16:43:49.721Z"
   },
   {
    "duration": 25,
    "start_time": "2021-12-11T16:43:49.992Z"
   },
   {
    "duration": 310,
    "start_time": "2021-12-11T16:43:50.019Z"
   },
   {
    "duration": 14,
    "start_time": "2021-12-11T16:43:50.331Z"
   },
   {
    "duration": 17,
    "start_time": "2021-12-11T16:43:50.347Z"
   },
   {
    "duration": 58,
    "start_time": "2021-12-11T16:43:50.367Z"
   },
   {
    "duration": 24,
    "start_time": "2021-12-11T16:43:50.428Z"
   },
   {
    "duration": 12,
    "start_time": "2021-12-11T16:43:50.454Z"
   },
   {
    "duration": 12,
    "start_time": "2021-12-11T16:43:50.469Z"
   },
   {
    "duration": 27,
    "start_time": "2021-12-11T16:43:50.518Z"
   },
   {
    "duration": 18,
    "start_time": "2021-12-11T16:43:50.548Z"
   },
   {
    "duration": 60,
    "start_time": "2021-12-11T16:43:50.569Z"
   },
   {
    "duration": 12,
    "start_time": "2021-12-11T16:43:50.631Z"
   },
   {
    "duration": 5,
    "start_time": "2021-12-11T16:43:50.646Z"
   },
   {
    "duration": 13,
    "start_time": "2021-12-11T16:43:50.654Z"
   },
   {
    "duration": 733,
    "start_time": "2021-12-11T16:43:50.670Z"
   },
   {
    "duration": 661,
    "start_time": "2021-12-11T16:43:51.406Z"
   },
   {
    "duration": 660,
    "start_time": "2021-12-11T16:43:52.070Z"
   },
   {
    "duration": 686,
    "start_time": "2021-12-11T16:43:52.733Z"
   },
   {
    "duration": 710,
    "start_time": "2021-12-11T16:43:53.422Z"
   },
   {
    "duration": 11,
    "start_time": "2021-12-11T16:43:56.567Z"
   },
   {
    "duration": 50,
    "start_time": "2021-12-11T16:44:02.806Z"
   },
   {
    "duration": 6,
    "start_time": "2021-12-11T16:44:09.418Z"
   },
   {
    "duration": 15,
    "start_time": "2021-12-11T16:44:14.158Z"
   },
   {
    "duration": 32,
    "start_time": "2021-12-11T16:44:34.358Z"
   },
   {
    "duration": 396,
    "start_time": "2021-12-11T16:45:02.079Z"
   },
   {
    "duration": 311,
    "start_time": "2021-12-11T16:45:14.526Z"
   },
   {
    "duration": 35,
    "start_time": "2021-12-11T16:45:42.678Z"
   },
   {
    "duration": 303,
    "start_time": "2021-12-11T16:47:00.439Z"
   },
   {
    "duration": 15,
    "start_time": "2021-12-11T16:47:20.627Z"
   },
   {
    "duration": 4,
    "start_time": "2021-12-11T16:47:56.806Z"
   },
   {
    "duration": 61,
    "start_time": "2021-12-11T16:47:56.823Z"
   },
   {
    "duration": 44,
    "start_time": "2021-12-11T16:47:56.887Z"
   },
   {
    "duration": 22,
    "start_time": "2021-12-11T16:47:56.935Z"
   },
   {
    "duration": 12,
    "start_time": "2021-12-11T16:47:56.960Z"
   },
   {
    "duration": 48,
    "start_time": "2021-12-11T16:47:56.974Z"
   },
   {
    "duration": 47,
    "start_time": "2021-12-11T16:47:57.024Z"
   },
   {
    "duration": 6,
    "start_time": "2021-12-11T16:47:57.073Z"
   },
   {
    "duration": 44,
    "start_time": "2021-12-11T16:47:57.081Z"
   },
   {
    "duration": 13,
    "start_time": "2021-12-11T16:47:57.129Z"
   },
   {
    "duration": 339,
    "start_time": "2021-12-11T16:47:57.145Z"
   },
   {
    "duration": 48,
    "start_time": "2021-12-11T16:47:57.487Z"
   },
   {
    "duration": 37,
    "start_time": "2021-12-11T16:47:57.538Z"
   },
   {
    "duration": 69,
    "start_time": "2021-12-11T16:47:57.577Z"
   },
   {
    "duration": 38,
    "start_time": "2021-12-11T16:47:57.648Z"
   },
   {
    "duration": 56,
    "start_time": "2021-12-11T16:47:57.689Z"
   },
   {
    "duration": 4,
    "start_time": "2021-12-11T16:47:57.748Z"
   },
   {
    "duration": 63,
    "start_time": "2021-12-11T16:47:57.755Z"
   },
   {
    "duration": 152,
    "start_time": "2021-12-11T16:47:57.821Z"
   },
   {
    "duration": 55,
    "start_time": "2021-12-11T16:47:57.975Z"
   },
   {
    "duration": 716,
    "start_time": "2021-12-11T16:47:58.032Z"
   },
   {
    "duration": 11,
    "start_time": "2021-12-11T16:47:58.750Z"
   },
   {
    "duration": 10,
    "start_time": "2021-12-11T16:47:58.763Z"
   },
   {
    "duration": 314,
    "start_time": "2021-12-11T16:47:58.775Z"
   },
   {
    "duration": 8,
    "start_time": "2021-12-11T16:47:59.091Z"
   },
   {
    "duration": 22,
    "start_time": "2021-12-11T16:47:59.101Z"
   },
   {
    "duration": 25,
    "start_time": "2021-12-11T16:47:59.126Z"
   },
   {
    "duration": 7,
    "start_time": "2021-12-11T16:47:59.159Z"
   },
   {
    "duration": 322,
    "start_time": "2021-12-11T16:47:59.170Z"
   },
   {
    "duration": 45,
    "start_time": "2021-12-11T16:47:59.495Z"
   },
   {
    "duration": 6,
    "start_time": "2021-12-11T16:47:59.543Z"
   },
   {
    "duration": 20,
    "start_time": "2021-12-11T16:47:59.551Z"
   },
   {
    "duration": 65,
    "start_time": "2021-12-11T16:47:59.574Z"
   },
   {
    "duration": 14,
    "start_time": "2021-12-11T16:47:59.642Z"
   },
   {
    "duration": 13,
    "start_time": "2021-12-11T16:47:59.658Z"
   },
   {
    "duration": 53,
    "start_time": "2021-12-11T16:47:59.674Z"
   },
   {
    "duration": 13,
    "start_time": "2021-12-11T16:47:59.730Z"
   },
   {
    "duration": 33,
    "start_time": "2021-12-11T16:47:59.746Z"
   },
   {
    "duration": 38,
    "start_time": "2021-12-11T16:47:59.781Z"
   },
   {
    "duration": 291,
    "start_time": "2021-12-11T16:47:59.822Z"
   },
   {
    "duration": 13,
    "start_time": "2021-12-11T16:48:00.115Z"
   },
   {
    "duration": 331,
    "start_time": "2021-12-11T16:48:00.131Z"
   },
   {
    "duration": 14,
    "start_time": "2021-12-11T16:48:00.465Z"
   },
   {
    "duration": 34,
    "start_time": "2021-12-11T16:48:00.482Z"
   },
   {
    "duration": 29,
    "start_time": "2021-12-11T16:48:00.519Z"
   },
   {
    "duration": 31,
    "start_time": "2021-12-11T16:48:00.550Z"
   },
   {
    "duration": 38,
    "start_time": "2021-12-11T16:48:00.583Z"
   },
   {
    "duration": 15,
    "start_time": "2021-12-11T16:48:00.624Z"
   },
   {
    "duration": 35,
    "start_time": "2021-12-11T16:48:00.642Z"
   },
   {
    "duration": 39,
    "start_time": "2021-12-11T16:48:00.680Z"
   },
   {
    "duration": 27,
    "start_time": "2021-12-11T16:48:00.722Z"
   },
   {
    "duration": 11,
    "start_time": "2021-12-11T16:48:00.752Z"
   },
   {
    "duration": 15,
    "start_time": "2021-12-11T16:48:00.765Z"
   },
   {
    "duration": 43,
    "start_time": "2021-12-11T16:48:00.783Z"
   },
   {
    "duration": 687,
    "start_time": "2021-12-11T16:48:00.829Z"
   },
   {
    "duration": 798,
    "start_time": "2021-12-11T16:48:01.519Z"
   },
   {
    "duration": 685,
    "start_time": "2021-12-11T16:48:02.319Z"
   },
   {
    "duration": 698,
    "start_time": "2021-12-11T16:48:03.006Z"
   },
   {
    "duration": 666,
    "start_time": "2021-12-11T16:48:03.706Z"
   },
   {
    "duration": 12,
    "start_time": "2021-12-11T16:48:04.375Z"
   },
   {
    "duration": 71,
    "start_time": "2021-12-11T16:48:04.389Z"
   },
   {
    "duration": 6,
    "start_time": "2021-12-11T16:48:04.462Z"
   },
   {
    "duration": 13,
    "start_time": "2021-12-11T16:48:04.470Z"
   },
   {
    "duration": 63,
    "start_time": "2021-12-11T16:48:04.486Z"
   },
   {
    "duration": 37,
    "start_time": "2021-12-11T16:49:27.354Z"
   },
   {
    "duration": 13,
    "start_time": "2021-12-11T16:50:29.394Z"
   },
   {
    "duration": 3,
    "start_time": "2021-12-11T16:51:03.760Z"
   },
   {
    "duration": 66,
    "start_time": "2021-12-11T16:51:03.766Z"
   },
   {
    "duration": 33,
    "start_time": "2021-12-11T16:51:03.834Z"
   },
   {
    "duration": 16,
    "start_time": "2021-12-11T16:51:03.869Z"
   },
   {
    "duration": 38,
    "start_time": "2021-12-11T16:51:03.887Z"
   },
   {
    "duration": 13,
    "start_time": "2021-12-11T16:51:03.928Z"
   },
   {
    "duration": 73,
    "start_time": "2021-12-11T16:51:03.945Z"
   },
   {
    "duration": 7,
    "start_time": "2021-12-11T16:51:04.021Z"
   },
   {
    "duration": 12,
    "start_time": "2021-12-11T16:51:04.030Z"
   },
   {
    "duration": 10,
    "start_time": "2021-12-11T16:51:04.045Z"
   },
   {
    "duration": 374,
    "start_time": "2021-12-11T16:51:04.058Z"
   },
   {
    "duration": 35,
    "start_time": "2021-12-11T16:51:04.434Z"
   },
   {
    "duration": 57,
    "start_time": "2021-12-11T16:51:04.473Z"
   },
   {
    "duration": 40,
    "start_time": "2021-12-11T16:51:04.532Z"
   },
   {
    "duration": 61,
    "start_time": "2021-12-11T16:51:04.574Z"
   },
   {
    "duration": 37,
    "start_time": "2021-12-11T16:51:04.638Z"
   },
   {
    "duration": 6,
    "start_time": "2021-12-11T16:51:04.678Z"
   },
   {
    "duration": 40,
    "start_time": "2021-12-11T16:51:04.718Z"
   },
   {
    "duration": 75,
    "start_time": "2021-12-11T16:51:04.761Z"
   },
   {
    "duration": 39,
    "start_time": "2021-12-11T16:51:04.839Z"
   },
   {
    "duration": 744,
    "start_time": "2021-12-11T16:51:04.880Z"
   },
   {
    "duration": 11,
    "start_time": "2021-12-11T16:51:05.627Z"
   },
   {
    "duration": 9,
    "start_time": "2021-12-11T16:51:05.640Z"
   },
   {
    "duration": 316,
    "start_time": "2021-12-11T16:51:05.652Z"
   },
   {
    "duration": 6,
    "start_time": "2021-12-11T16:51:05.971Z"
   },
   {
    "duration": 9,
    "start_time": "2021-12-11T16:51:05.979Z"
   },
   {
    "duration": 42,
    "start_time": "2021-12-11T16:51:05.991Z"
   },
   {
    "duration": 8,
    "start_time": "2021-12-11T16:51:06.037Z"
   },
   {
    "duration": 290,
    "start_time": "2021-12-11T16:51:06.048Z"
   },
   {
    "duration": 35,
    "start_time": "2021-12-11T16:51:06.346Z"
   },
   {
    "duration": 7,
    "start_time": "2021-12-11T16:51:06.385Z"
   },
   {
    "duration": 21,
    "start_time": "2021-12-11T16:51:06.417Z"
   },
   {
    "duration": 31,
    "start_time": "2021-12-11T16:51:06.441Z"
   },
   {
    "duration": 50,
    "start_time": "2021-12-11T16:51:06.475Z"
   },
   {
    "duration": 12,
    "start_time": "2021-12-11T16:51:06.527Z"
   },
   {
    "duration": 17,
    "start_time": "2021-12-11T16:51:06.541Z"
   },
   {
    "duration": 16,
    "start_time": "2021-12-11T16:51:06.560Z"
   },
   {
    "duration": 184,
    "start_time": "2021-12-11T16:51:06.579Z"
   },
   {
    "duration": 7,
    "start_time": "2021-12-11T16:51:06.765Z"
   },
   {
    "duration": 283,
    "start_time": "2021-12-11T16:51:06.774Z"
   },
   {
    "duration": 10,
    "start_time": "2021-12-11T16:51:07.059Z"
   },
   {
    "duration": 322,
    "start_time": "2021-12-11T16:51:07.071Z"
   },
   {
    "duration": 22,
    "start_time": "2021-12-11T16:51:07.395Z"
   },
   {
    "duration": 13,
    "start_time": "2021-12-11T16:51:07.419Z"
   },
   {
    "duration": 29,
    "start_time": "2021-12-11T16:51:07.434Z"
   },
   {
    "duration": 56,
    "start_time": "2021-12-11T16:51:07.465Z"
   },
   {
    "duration": 12,
    "start_time": "2021-12-11T16:51:07.523Z"
   },
   {
    "duration": 10,
    "start_time": "2021-12-11T16:51:07.537Z"
   },
   {
    "duration": 27,
    "start_time": "2021-12-11T16:51:07.549Z"
   },
   {
    "duration": 48,
    "start_time": "2021-12-11T16:51:07.578Z"
   },
   {
    "duration": 24,
    "start_time": "2021-12-11T16:51:07.629Z"
   },
   {
    "duration": 10,
    "start_time": "2021-12-11T16:51:07.655Z"
   },
   {
    "duration": 5,
    "start_time": "2021-12-11T16:51:07.667Z"
   },
   {
    "duration": 50,
    "start_time": "2021-12-11T16:51:07.674Z"
   },
   {
    "duration": 692,
    "start_time": "2021-12-11T16:51:07.726Z"
   },
   {
    "duration": 689,
    "start_time": "2021-12-11T16:51:08.421Z"
   },
   {
    "duration": 716,
    "start_time": "2021-12-11T16:51:09.113Z"
   },
   {
    "duration": 700,
    "start_time": "2021-12-11T16:51:09.831Z"
   },
   {
    "duration": 659,
    "start_time": "2021-12-11T16:51:10.533Z"
   },
   {
    "duration": 11,
    "start_time": "2021-12-11T16:51:11.194Z"
   },
   {
    "duration": 50,
    "start_time": "2021-12-11T16:51:11.218Z"
   },
   {
    "duration": 5,
    "start_time": "2021-12-11T16:51:11.270Z"
   },
   {
    "duration": 47,
    "start_time": "2021-12-11T16:51:11.277Z"
   },
   {
    "duration": 35,
    "start_time": "2021-12-11T16:51:11.326Z"
   },
   {
    "duration": 3,
    "start_time": "2021-12-11T16:51:32.210Z"
   },
   {
    "duration": 68,
    "start_time": "2021-12-11T16:51:32.237Z"
   },
   {
    "duration": 37,
    "start_time": "2021-12-11T16:51:32.308Z"
   },
   {
    "duration": 16,
    "start_time": "2021-12-11T16:51:32.349Z"
   },
   {
    "duration": 12,
    "start_time": "2021-12-11T16:51:32.367Z"
   },
   {
    "duration": 43,
    "start_time": "2021-12-11T16:51:32.381Z"
   },
   {
    "duration": 47,
    "start_time": "2021-12-11T16:51:32.426Z"
   },
   {
    "duration": 41,
    "start_time": "2021-12-11T16:51:32.476Z"
   },
   {
    "duration": 10,
    "start_time": "2021-12-11T16:51:32.520Z"
   },
   {
    "duration": 10,
    "start_time": "2021-12-11T16:51:32.532Z"
   },
   {
    "duration": 321,
    "start_time": "2021-12-11T16:51:32.544Z"
   },
   {
    "duration": 49,
    "start_time": "2021-12-11T16:51:32.868Z"
   },
   {
    "duration": 36,
    "start_time": "2021-12-11T16:51:32.919Z"
   },
   {
    "duration": 66,
    "start_time": "2021-12-11T16:51:32.958Z"
   },
   {
    "duration": 36,
    "start_time": "2021-12-11T16:51:33.027Z"
   },
   {
    "duration": 56,
    "start_time": "2021-12-11T16:51:33.066Z"
   },
   {
    "duration": 5,
    "start_time": "2021-12-11T16:51:34.437Z"
   },
   {
    "duration": 38,
    "start_time": "2021-12-11T16:51:34.444Z"
   },
   {
    "duration": 47,
    "start_time": "2021-12-11T16:51:34.485Z"
   },
   {
    "duration": 37,
    "start_time": "2021-12-11T16:51:34.863Z"
   },
   {
    "duration": 683,
    "start_time": "2021-12-11T16:51:34.904Z"
   },
   {
    "duration": 11,
    "start_time": "2021-12-11T16:51:35.590Z"
   },
   {
    "duration": 11,
    "start_time": "2021-12-11T16:51:35.617Z"
   },
   {
    "duration": 311,
    "start_time": "2021-12-11T16:51:35.630Z"
   },
   {
    "duration": 7,
    "start_time": "2021-12-11T16:51:35.943Z"
   },
   {
    "duration": 7,
    "start_time": "2021-12-11T16:51:35.952Z"
   },
   {
    "duration": 56,
    "start_time": "2021-12-11T16:51:35.961Z"
   },
   {
    "duration": 7,
    "start_time": "2021-12-11T16:51:36.021Z"
   },
   {
    "duration": 304,
    "start_time": "2021-12-11T16:51:36.031Z"
   },
   {
    "duration": 40,
    "start_time": "2021-12-11T16:51:36.339Z"
   },
   {
    "duration": 35,
    "start_time": "2021-12-11T16:51:36.382Z"
   },
   {
    "duration": 20,
    "start_time": "2021-12-11T16:51:36.420Z"
   },
   {
    "duration": 30,
    "start_time": "2021-12-11T16:51:36.443Z"
   },
   {
    "duration": 49,
    "start_time": "2021-12-11T16:51:36.476Z"
   },
   {
    "duration": 11,
    "start_time": "2021-12-11T16:51:36.527Z"
   },
   {
    "duration": 20,
    "start_time": "2021-12-11T16:51:36.540Z"
   },
   {
    "duration": 14,
    "start_time": "2021-12-11T16:51:36.563Z"
   },
   {
    "duration": 73,
    "start_time": "2021-12-11T16:51:36.579Z"
   },
   {
    "duration": 10,
    "start_time": "2021-12-11T16:51:36.655Z"
   },
   {
    "duration": 289,
    "start_time": "2021-12-11T16:51:36.668Z"
   },
   {
    "duration": 9,
    "start_time": "2021-12-11T16:51:36.960Z"
   },
   {
    "duration": 329,
    "start_time": "2021-12-11T16:51:36.972Z"
   },
   {
    "duration": 23,
    "start_time": "2021-12-11T16:51:37.304Z"
   },
   {
    "duration": 16,
    "start_time": "2021-12-11T16:51:37.329Z"
   },
   {
    "duration": 30,
    "start_time": "2021-12-11T16:51:37.347Z"
   },
   {
    "duration": 51,
    "start_time": "2021-12-11T16:51:37.382Z"
   },
   {
    "duration": 12,
    "start_time": "2021-12-11T16:51:37.436Z"
   },
   {
    "duration": 10,
    "start_time": "2021-12-11T16:51:37.450Z"
   },
   {
    "duration": 56,
    "start_time": "2021-12-11T16:51:37.463Z"
   },
   {
    "duration": 16,
    "start_time": "2021-12-11T16:51:37.522Z"
   },
   {
    "duration": 31,
    "start_time": "2021-12-11T16:51:37.541Z"
   },
   {
    "duration": 8,
    "start_time": "2021-12-11T16:51:37.574Z"
   },
   {
    "duration": 32,
    "start_time": "2021-12-11T16:51:37.585Z"
   },
   {
    "duration": 11,
    "start_time": "2021-12-11T16:51:37.620Z"
   },
   {
    "duration": 686,
    "start_time": "2021-12-11T16:51:37.633Z"
   },
   {
    "duration": 674,
    "start_time": "2021-12-11T16:51:38.321Z"
   },
   {
    "duration": 703,
    "start_time": "2021-12-11T16:51:38.997Z"
   },
   {
    "duration": 677,
    "start_time": "2021-12-11T16:51:39.703Z"
   },
   {
    "duration": 810,
    "start_time": "2021-12-11T16:51:40.383Z"
   },
   {
    "duration": 12,
    "start_time": "2021-12-11T16:51:41.196Z"
   },
   {
    "duration": 49,
    "start_time": "2021-12-11T16:51:41.218Z"
   },
   {
    "duration": 5,
    "start_time": "2021-12-11T16:51:41.270Z"
   },
   {
    "duration": 47,
    "start_time": "2021-12-11T16:51:41.277Z"
   },
   {
    "duration": 35,
    "start_time": "2021-12-11T16:51:41.327Z"
   },
   {
    "duration": 3,
    "start_time": "2021-12-11T16:54:55.211Z"
   },
   {
    "duration": 61,
    "start_time": "2021-12-11T16:54:55.220Z"
   },
   {
    "duration": 46,
    "start_time": "2021-12-11T16:54:55.283Z"
   },
   {
    "duration": 14,
    "start_time": "2021-12-11T16:54:55.332Z"
   },
   {
    "duration": 13,
    "start_time": "2021-12-11T16:54:55.348Z"
   },
   {
    "duration": 55,
    "start_time": "2021-12-11T16:54:55.363Z"
   },
   {
    "duration": 46,
    "start_time": "2021-12-11T16:54:55.421Z"
   },
   {
    "duration": 5,
    "start_time": "2021-12-11T16:54:55.470Z"
   },
   {
    "duration": 47,
    "start_time": "2021-12-11T16:54:55.479Z"
   },
   {
    "duration": 10,
    "start_time": "2021-12-11T16:54:55.529Z"
   },
   {
    "duration": 322,
    "start_time": "2021-12-11T16:54:55.542Z"
   },
   {
    "duration": 35,
    "start_time": "2021-12-11T16:54:55.866Z"
   },
   {
    "duration": 36,
    "start_time": "2021-12-11T16:54:55.918Z"
   },
   {
    "duration": 62,
    "start_time": "2021-12-11T16:54:55.957Z"
   },
   {
    "duration": 51,
    "start_time": "2021-12-11T16:54:56.022Z"
   },
   {
    "duration": 60,
    "start_time": "2021-12-11T16:54:56.075Z"
   },
   {
    "duration": 6,
    "start_time": "2021-12-11T16:54:56.138Z"
   },
   {
    "duration": 40,
    "start_time": "2021-12-11T16:54:56.146Z"
   },
   {
    "duration": 74,
    "start_time": "2021-12-11T16:54:56.188Z"
   },
   {
    "duration": 59,
    "start_time": "2021-12-11T16:54:56.265Z"
   },
   {
    "duration": 703,
    "start_time": "2021-12-11T16:54:56.326Z"
   },
   {
    "duration": 12,
    "start_time": "2021-12-11T16:54:57.031Z"
   },
   {
    "duration": 10,
    "start_time": "2021-12-11T16:54:57.045Z"
   },
   {
    "duration": 312,
    "start_time": "2021-12-11T16:54:57.061Z"
   },
   {
    "duration": 7,
    "start_time": "2021-12-11T16:54:57.378Z"
   },
   {
    "duration": 33,
    "start_time": "2021-12-11T16:54:57.387Z"
   },
   {
    "duration": 20,
    "start_time": "2021-12-11T16:54:57.422Z"
   },
   {
    "duration": 7,
    "start_time": "2021-12-11T16:54:57.444Z"
   },
   {
    "duration": 271,
    "start_time": "2021-12-11T16:54:57.453Z"
   },
   {
    "duration": 33,
    "start_time": "2021-12-11T16:54:57.727Z"
   },
   {
    "duration": 6,
    "start_time": "2021-12-11T16:54:57.762Z"
   },
   {
    "duration": 48,
    "start_time": "2021-12-11T16:54:57.770Z"
   },
   {
    "duration": 31,
    "start_time": "2021-12-11T16:54:57.821Z"
   },
   {
    "duration": 12,
    "start_time": "2021-12-11T16:54:57.855Z"
   },
   {
    "duration": 12,
    "start_time": "2021-12-11T16:54:57.869Z"
   },
   {
    "duration": 48,
    "start_time": "2021-12-11T16:54:57.883Z"
   },
   {
    "duration": 17,
    "start_time": "2021-12-11T16:54:57.933Z"
   },
   {
    "duration": 70,
    "start_time": "2021-12-11T16:54:57.953Z"
   },
   {
    "duration": 7,
    "start_time": "2021-12-11T16:54:58.025Z"
   },
   {
    "duration": 272,
    "start_time": "2021-12-11T16:54:58.034Z"
   },
   {
    "duration": 10,
    "start_time": "2021-12-11T16:54:58.308Z"
   },
   {
    "duration": 321,
    "start_time": "2021-12-11T16:54:58.320Z"
   },
   {
    "duration": 14,
    "start_time": "2021-12-11T16:54:58.643Z"
   },
   {
    "duration": 14,
    "start_time": "2021-12-11T16:54:58.659Z"
   },
   {
    "duration": 63,
    "start_time": "2021-12-11T16:54:58.676Z"
   },
   {
    "duration": 25,
    "start_time": "2021-12-11T16:54:58.741Z"
   },
   {
    "duration": 12,
    "start_time": "2021-12-11T16:54:58.768Z"
   },
   {
    "duration": 38,
    "start_time": "2021-12-11T16:54:58.782Z"
   },
   {
    "duration": 24,
    "start_time": "2021-12-11T16:54:58.822Z"
   },
   {
    "duration": 17,
    "start_time": "2021-12-11T16:54:58.848Z"
   },
   {
    "duration": 52,
    "start_time": "2021-12-11T16:54:58.867Z"
   },
   {
    "duration": 9,
    "start_time": "2021-12-11T16:54:58.921Z"
   },
   {
    "duration": 6,
    "start_time": "2021-12-11T16:54:58.932Z"
   },
   {
    "duration": 11,
    "start_time": "2021-12-11T16:54:58.940Z"
   },
   {
    "duration": 677,
    "start_time": "2021-12-11T16:54:58.953Z"
   },
   {
    "duration": 685,
    "start_time": "2021-12-11T16:54:59.632Z"
   },
   {
    "duration": 690,
    "start_time": "2021-12-11T16:55:00.320Z"
   },
   {
    "duration": 704,
    "start_time": "2021-12-11T16:55:01.013Z"
   },
   {
    "duration": 678,
    "start_time": "2021-12-11T16:55:01.719Z"
   },
   {
    "duration": 19,
    "start_time": "2021-12-11T16:55:02.400Z"
   },
   {
    "duration": 54,
    "start_time": "2021-12-11T16:55:02.422Z"
   },
   {
    "duration": 5,
    "start_time": "2021-12-11T16:55:02.478Z"
   },
   {
    "duration": 40,
    "start_time": "2021-12-11T16:55:02.486Z"
   },
   {
    "duration": 41,
    "start_time": "2021-12-11T16:55:02.529Z"
   },
   {
    "duration": 9,
    "start_time": "2021-12-11T16:55:17.260Z"
   },
   {
    "duration": 13,
    "start_time": "2021-12-11T16:56:09.612Z"
   },
   {
    "duration": 35,
    "start_time": "2021-12-11T16:56:19.691Z"
   },
   {
    "duration": 303,
    "start_time": "2021-12-11T17:00:40.279Z"
   },
   {
    "duration": 15,
    "start_time": "2021-12-11T17:00:54.231Z"
   },
   {
    "duration": 648,
    "start_time": "2021-12-11T17:05:47.372Z"
   },
   {
    "duration": 11,
    "start_time": "2021-12-11T17:12:45.135Z"
   },
   {
    "duration": 13,
    "start_time": "2021-12-11T17:12:48.367Z"
   },
   {
    "duration": 12,
    "start_time": "2021-12-11T17:12:53.645Z"
   },
   {
    "duration": 149,
    "start_time": "2021-12-11T17:13:33.198Z"
   },
   {
    "duration": 12,
    "start_time": "2021-12-11T17:14:33.664Z"
   },
   {
    "duration": 270,
    "start_time": "2021-12-11T17:17:19.815Z"
   },
   {
    "duration": 4,
    "start_time": "2021-12-11T17:17:47.496Z"
   },
   {
    "duration": 63,
    "start_time": "2021-12-11T17:17:47.506Z"
   },
   {
    "duration": 50,
    "start_time": "2021-12-11T17:17:47.571Z"
   },
   {
    "duration": 14,
    "start_time": "2021-12-11T17:17:47.624Z"
   },
   {
    "duration": 12,
    "start_time": "2021-12-11T17:17:47.641Z"
   },
   {
    "duration": 14,
    "start_time": "2021-12-11T17:17:47.655Z"
   },
   {
    "duration": 95,
    "start_time": "2021-12-11T17:17:47.671Z"
   },
   {
    "duration": 6,
    "start_time": "2021-12-11T17:17:47.768Z"
   },
   {
    "duration": 49,
    "start_time": "2021-12-11T17:17:47.776Z"
   },
   {
    "duration": 10,
    "start_time": "2021-12-11T17:17:47.829Z"
   },
   {
    "duration": 353,
    "start_time": "2021-12-11T17:17:47.842Z"
   },
   {
    "duration": 47,
    "start_time": "2021-12-11T17:17:48.198Z"
   },
   {
    "duration": 1286,
    "start_time": "2021-12-11T17:17:48.247Z"
   },
   {
    "duration": 41,
    "start_time": "2021-12-11T17:17:49.535Z"
   },
   {
    "duration": 63,
    "start_time": "2021-12-11T17:17:49.578Z"
   },
   {
    "duration": 37,
    "start_time": "2021-12-11T17:17:49.644Z"
   },
   {
    "duration": 4,
    "start_time": "2021-12-11T17:17:49.684Z"
   },
   {
    "duration": 75,
    "start_time": "2021-12-11T17:17:49.691Z"
   },
   {
    "duration": 77,
    "start_time": "2021-12-11T17:17:49.769Z"
   },
   {
    "duration": 38,
    "start_time": "2021-12-11T17:17:49.848Z"
   },
   {
    "duration": 761,
    "start_time": "2021-12-11T17:17:49.889Z"
   },
   {
    "duration": 10,
    "start_time": "2021-12-11T17:17:50.652Z"
   },
   {
    "duration": 12,
    "start_time": "2021-12-11T17:17:50.665Z"
   },
   {
    "duration": 323,
    "start_time": "2021-12-11T17:17:50.680Z"
   },
   {
    "duration": 12,
    "start_time": "2021-12-11T17:17:51.006Z"
   },
   {
    "duration": 6,
    "start_time": "2021-12-11T17:17:51.022Z"
   },
   {
    "duration": 23,
    "start_time": "2021-12-11T17:17:51.030Z"
   },
   {
    "duration": 7,
    "start_time": "2021-12-11T17:17:51.060Z"
   },
   {
    "duration": 264,
    "start_time": "2021-12-11T17:17:51.122Z"
   },
   {
    "duration": 70,
    "start_time": "2021-12-11T17:17:51.389Z"
   },
   {
    "duration": 7,
    "start_time": "2021-12-11T17:17:51.462Z"
   },
   {
    "duration": 17,
    "start_time": "2021-12-11T17:17:51.471Z"
   },
   {
    "duration": 53,
    "start_time": "2021-12-11T17:17:51.491Z"
   },
   {
    "duration": 12,
    "start_time": "2021-12-11T17:17:51.546Z"
   },
   {
    "duration": 12,
    "start_time": "2021-12-11T17:17:51.561Z"
   },
   {
    "duration": 46,
    "start_time": "2021-12-11T17:17:51.576Z"
   },
   {
    "duration": 13,
    "start_time": "2021-12-11T17:17:51.624Z"
   },
   {
    "duration": 32,
    "start_time": "2021-12-11T17:17:51.639Z"
   },
   {
    "duration": 47,
    "start_time": "2021-12-11T17:17:51.673Z"
   },
   {
    "duration": 267,
    "start_time": "2021-12-11T17:17:51.723Z"
   },
   {
    "duration": 25,
    "start_time": "2021-12-11T17:17:51.992Z"
   },
   {
    "duration": 306,
    "start_time": "2021-12-11T17:17:52.019Z"
   },
   {
    "duration": 15,
    "start_time": "2021-12-11T17:17:52.328Z"
   },
   {
    "duration": 14,
    "start_time": "2021-12-11T17:17:52.345Z"
   },
   {
    "duration": 67,
    "start_time": "2021-12-11T17:17:52.361Z"
   },
   {
    "duration": 24,
    "start_time": "2021-12-11T17:17:52.430Z"
   },
   {
    "duration": 11,
    "start_time": "2021-12-11T17:17:52.456Z"
   },
   {
    "duration": 15,
    "start_time": "2021-12-11T17:17:52.470Z"
   },
   {
    "duration": 52,
    "start_time": "2021-12-11T17:17:52.487Z"
   },
   {
    "duration": 193,
    "start_time": "2021-12-11T17:17:52.541Z"
   },
   {
    "duration": 30,
    "start_time": "2021-12-11T17:17:52.737Z"
   },
   {
    "duration": 13,
    "start_time": "2021-12-11T17:17:52.769Z"
   },
   {
    "duration": 32,
    "start_time": "2021-12-11T17:17:52.785Z"
   },
   {
    "duration": 11,
    "start_time": "2021-12-11T17:17:52.820Z"
   },
   {
    "duration": 677,
    "start_time": "2021-12-11T17:17:52.833Z"
   },
   {
    "duration": 710,
    "start_time": "2021-12-11T17:17:53.513Z"
   },
   {
    "duration": 681,
    "start_time": "2021-12-11T17:17:54.226Z"
   },
   {
    "duration": 1003,
    "start_time": "2021-12-11T17:17:54.910Z"
   },
   {
    "duration": 964,
    "start_time": "2021-12-11T17:17:55.918Z"
   },
   {
    "duration": 12,
    "start_time": "2021-12-11T17:17:56.884Z"
   },
   {
    "duration": 65,
    "start_time": "2021-12-11T17:17:56.898Z"
   },
   {
    "duration": 5,
    "start_time": "2021-12-11T17:17:56.966Z"
   },
   {
    "duration": 46,
    "start_time": "2021-12-11T17:17:56.973Z"
   },
   {
    "duration": 34,
    "start_time": "2021-12-11T17:17:57.022Z"
   },
   {
    "duration": 9,
    "start_time": "2021-12-11T17:17:57.059Z"
   },
   {
    "duration": 49,
    "start_time": "2021-12-11T17:17:57.070Z"
   },
   {
    "duration": 36,
    "start_time": "2021-12-11T17:17:57.122Z"
   },
   {
    "duration": 13,
    "start_time": "2021-12-11T17:17:57.160Z"
   },
   {
    "duration": 701,
    "start_time": "2021-12-11T17:17:57.175Z"
   },
   {
    "duration": 40,
    "start_time": "2021-12-11T17:17:57.878Z"
   },
   {
    "duration": 9,
    "start_time": "2021-12-11T17:17:57.921Z"
   },
   {
    "duration": 2395,
    "start_time": "2021-12-11T17:17:57.933Z"
   },
   {
    "duration": 539,
    "start_time": "2021-12-11T17:17:59.793Z"
   },
   {
    "duration": 530,
    "start_time": "2021-12-11T17:17:59.803Z"
   },
   {
    "duration": 525,
    "start_time": "2021-12-11T17:17:59.810Z"
   },
   {
    "duration": 516,
    "start_time": "2021-12-11T17:17:59.820Z"
   },
   {
    "duration": 495,
    "start_time": "2021-12-11T17:17:59.842Z"
   },
   {
    "duration": 488,
    "start_time": "2021-12-11T17:17:59.851Z"
   },
   {
    "duration": 482,
    "start_time": "2021-12-11T17:17:59.859Z"
   },
   {
    "duration": 473,
    "start_time": "2021-12-11T17:17:59.869Z"
   },
   {
    "duration": 467,
    "start_time": "2021-12-11T17:17:59.876Z"
   },
   {
    "duration": 459,
    "start_time": "2021-12-11T17:17:59.886Z"
   },
   {
    "duration": 452,
    "start_time": "2021-12-11T17:17:59.894Z"
   },
   {
    "duration": 444,
    "start_time": "2021-12-11T17:17:59.903Z"
   },
   {
    "duration": 427,
    "start_time": "2021-12-11T17:17:59.922Z"
   },
   {
    "duration": 419,
    "start_time": "2021-12-11T17:17:59.931Z"
   },
   {
    "duration": 412,
    "start_time": "2021-12-11T17:17:59.940Z"
   },
   {
    "duration": 403,
    "start_time": "2021-12-11T17:17:59.950Z"
   },
   {
    "duration": 397,
    "start_time": "2021-12-11T17:17:59.958Z"
   },
   {
    "duration": 388,
    "start_time": "2021-12-11T17:17:59.968Z"
   },
   {
    "duration": 382,
    "start_time": "2021-12-11T17:17:59.975Z"
   },
   {
    "duration": 374,
    "start_time": "2021-12-11T17:17:59.985Z"
   },
   {
    "duration": 346,
    "start_time": "2021-12-11T17:18:00.014Z"
   },
   {
    "duration": 322,
    "start_time": "2021-12-11T17:18:00.040Z"
   },
   {
    "duration": 316,
    "start_time": "2021-12-11T17:18:00.047Z"
   },
   {
    "duration": 258,
    "start_time": "2021-12-11T17:18:00.109Z"
   },
   {
    "duration": 252,
    "start_time": "2021-12-11T17:18:00.117Z"
   },
   {
    "duration": 245,
    "start_time": "2021-12-11T17:18:00.125Z"
   },
   {
    "duration": 238,
    "start_time": "2021-12-11T17:18:00.133Z"
   },
   {
    "duration": 258,
    "start_time": "2021-12-11T17:18:00.159Z"
   },
   {
    "duration": 194,
    "start_time": "2021-12-11T17:18:06.434Z"
   },
   {
    "duration": 2529,
    "start_time": "2021-12-11T17:19:06.164Z"
   },
   {
    "duration": 4,
    "start_time": "2021-12-11T17:20:24.624Z"
   },
   {
    "duration": 65,
    "start_time": "2021-12-11T17:20:24.631Z"
   },
   {
    "duration": 48,
    "start_time": "2021-12-11T17:20:24.699Z"
   },
   {
    "duration": 14,
    "start_time": "2021-12-11T17:20:24.751Z"
   },
   {
    "duration": 51,
    "start_time": "2021-12-11T17:20:24.768Z"
   },
   {
    "duration": 14,
    "start_time": "2021-12-11T17:20:24.821Z"
   },
   {
    "duration": 79,
    "start_time": "2021-12-11T17:20:24.838Z"
   },
   {
    "duration": 7,
    "start_time": "2021-12-11T17:20:24.921Z"
   },
   {
    "duration": 10,
    "start_time": "2021-12-11T17:20:24.931Z"
   },
   {
    "duration": 10,
    "start_time": "2021-12-11T17:20:24.943Z"
   },
   {
    "duration": 347,
    "start_time": "2021-12-11T17:20:24.955Z"
   },
   {
    "duration": 40,
    "start_time": "2021-12-11T17:20:25.304Z"
   },
   {
    "duration": 35,
    "start_time": "2021-12-11T17:20:25.346Z"
   },
   {
    "duration": 66,
    "start_time": "2021-12-11T17:20:25.383Z"
   },
   {
    "duration": 36,
    "start_time": "2021-12-11T17:20:25.452Z"
   },
   {
    "duration": 52,
    "start_time": "2021-12-11T17:20:25.490Z"
   },
   {
    "duration": 5,
    "start_time": "2021-12-11T17:20:25.544Z"
   },
   {
    "duration": 72,
    "start_time": "2021-12-11T17:20:25.551Z"
   },
   {
    "duration": 47,
    "start_time": "2021-12-11T17:20:25.626Z"
   },
   {
    "duration": 60,
    "start_time": "2021-12-11T17:20:25.676Z"
   },
   {
    "duration": 691,
    "start_time": "2021-12-11T17:20:25.740Z"
   },
   {
    "duration": 10,
    "start_time": "2021-12-11T17:20:26.434Z"
   },
   {
    "duration": 9,
    "start_time": "2021-12-11T17:20:26.450Z"
   },
   {
    "duration": 313,
    "start_time": "2021-12-11T17:20:26.463Z"
   },
   {
    "duration": 7,
    "start_time": "2021-12-11T17:20:26.778Z"
   },
   {
    "duration": 31,
    "start_time": "2021-12-11T17:20:26.788Z"
   },
   {
    "duration": 22,
    "start_time": "2021-12-11T17:20:26.821Z"
   },
   {
    "duration": 7,
    "start_time": "2021-12-11T17:20:26.845Z"
   },
   {
    "duration": 284,
    "start_time": "2021-12-11T17:20:26.854Z"
   },
   {
    "duration": 34,
    "start_time": "2021-12-11T17:20:27.140Z"
   },
   {
    "duration": 6,
    "start_time": "2021-12-11T17:20:27.176Z"
   },
   {
    "duration": 46,
    "start_time": "2021-12-11T17:20:27.184Z"
   },
   {
    "duration": 30,
    "start_time": "2021-12-11T17:20:27.232Z"
   },
   {
    "duration": 13,
    "start_time": "2021-12-11T17:20:27.265Z"
   },
   {
    "duration": 45,
    "start_time": "2021-12-11T17:20:27.281Z"
   },
   {
    "duration": 15,
    "start_time": "2021-12-11T17:20:27.329Z"
   },
   {
    "duration": 15,
    "start_time": "2021-12-11T17:20:27.347Z"
   },
   {
    "duration": 77,
    "start_time": "2021-12-11T17:20:27.365Z"
   },
   {
    "duration": 9,
    "start_time": "2021-12-11T17:20:27.445Z"
   },
   {
    "duration": 287,
    "start_time": "2021-12-11T17:20:27.456Z"
   },
   {
    "duration": 10,
    "start_time": "2021-12-11T17:20:27.746Z"
   },
   {
    "duration": 315,
    "start_time": "2021-12-11T17:20:27.758Z"
   },
   {
    "duration": 17,
    "start_time": "2021-12-11T17:20:28.075Z"
   },
   {
    "duration": 31,
    "start_time": "2021-12-11T17:20:28.094Z"
   },
   {
    "duration": 29,
    "start_time": "2021-12-11T17:20:28.127Z"
   },
   {
    "duration": 22,
    "start_time": "2021-12-11T17:20:28.159Z"
   },
   {
    "duration": 45,
    "start_time": "2021-12-11T17:20:28.183Z"
   },
   {
    "duration": 10,
    "start_time": "2021-12-11T17:20:28.230Z"
   },
   {
    "duration": 25,
    "start_time": "2021-12-11T17:20:28.242Z"
   },
   {
    "duration": 50,
    "start_time": "2021-12-11T17:20:28.269Z"
   },
   {
    "duration": 25,
    "start_time": "2021-12-11T17:20:28.321Z"
   },
   {
    "duration": 10,
    "start_time": "2021-12-11T17:20:28.348Z"
   },
   {
    "duration": 46,
    "start_time": "2021-12-11T17:20:28.361Z"
   },
   {
    "duration": 20,
    "start_time": "2021-12-11T17:20:28.409Z"
   },
   {
    "duration": 675,
    "start_time": "2021-12-11T17:20:28.431Z"
   },
   {
    "duration": 666,
    "start_time": "2021-12-11T17:20:29.108Z"
   },
   {
    "duration": 650,
    "start_time": "2021-12-11T17:20:29.776Z"
   },
   {
    "duration": 698,
    "start_time": "2021-12-11T17:20:30.429Z"
   },
   {
    "duration": 679,
    "start_time": "2021-12-11T17:20:31.129Z"
   },
   {
    "duration": 17,
    "start_time": "2021-12-11T17:20:31.811Z"
   },
   {
    "duration": 50,
    "start_time": "2021-12-11T17:20:31.830Z"
   },
   {
    "duration": 35,
    "start_time": "2021-12-11T17:20:31.883Z"
   },
   {
    "duration": 14,
    "start_time": "2021-12-11T17:20:31.920Z"
   },
   {
    "duration": 35,
    "start_time": "2021-12-11T17:20:31.936Z"
   },
   {
    "duration": 10,
    "start_time": "2021-12-11T17:20:31.973Z"
   },
   {
    "duration": 13,
    "start_time": "2021-12-11T17:20:32.018Z"
   },
   {
    "duration": 36,
    "start_time": "2021-12-11T17:20:32.033Z"
   },
   {
    "duration": 42,
    "start_time": "2021-12-11T17:20:32.076Z"
   },
   {
    "duration": 697,
    "start_time": "2021-12-11T17:20:32.121Z"
   },
   {
    "duration": 30,
    "start_time": "2021-12-11T17:20:32.821Z"
   },
   {
    "duration": 7,
    "start_time": "2021-12-11T17:20:32.853Z"
   },
   {
    "duration": 306,
    "start_time": "2021-12-11T17:20:40.364Z"
   },
   {
    "duration": 312,
    "start_time": "2021-12-11T17:21:22.543Z"
   },
   {
    "duration": 695,
    "start_time": "2021-12-11T17:21:37.543Z"
   },
   {
    "duration": 275,
    "start_time": "2021-12-11T17:22:51.555Z"
   },
   {
    "duration": 23,
    "start_time": "2021-12-11T17:23:21.364Z"
   },
   {
    "duration": 24,
    "start_time": "2021-12-11T17:23:23.515Z"
   },
   {
    "duration": 12,
    "start_time": "2021-12-11T17:23:31.315Z"
   },
   {
    "duration": 659,
    "start_time": "2021-12-11T17:23:38.375Z"
   },
   {
    "duration": 8,
    "start_time": "2021-12-11T17:24:08.242Z"
   },
   {
    "duration": 8,
    "start_time": "2021-12-11T17:24:20.328Z"
   },
   {
    "duration": 6,
    "start_time": "2021-12-11T17:24:28.427Z"
   },
   {
    "duration": 22,
    "start_time": "2021-12-11T17:24:48.508Z"
   },
   {
    "duration": 7,
    "start_time": "2021-12-11T17:26:06.740Z"
   },
   {
    "duration": 7,
    "start_time": "2021-12-11T17:26:17.587Z"
   },
   {
    "duration": 337,
    "start_time": "2021-12-11T17:26:24.104Z"
   },
   {
    "duration": 8,
    "start_time": "2021-12-11T17:26:32.708Z"
   },
   {
    "duration": 97,
    "start_time": "2021-12-11T17:29:03.781Z"
   },
   {
    "duration": 24,
    "start_time": "2021-12-11T17:29:14.660Z"
   },
   {
    "duration": 7,
    "start_time": "2021-12-11T17:29:28.479Z"
   },
   {
    "duration": 13,
    "start_time": "2021-12-11T17:30:10.959Z"
   },
   {
    "duration": 15,
    "start_time": "2021-12-11T17:30:12.408Z"
   },
   {
    "duration": 15,
    "start_time": "2021-12-11T17:30:20.748Z"
   },
   {
    "duration": 8200,
    "start_time": "2021-12-11T17:30:37.368Z"
   },
   {
    "duration": 25,
    "start_time": "2021-12-11T17:31:00.280Z"
   },
   {
    "duration": 16,
    "start_time": "2021-12-11T17:31:13.507Z"
   },
   {
    "duration": 920,
    "start_time": "2021-12-11T17:31:25.559Z"
   },
   {
    "duration": 22,
    "start_time": "2021-12-11T17:31:35.080Z"
   },
   {
    "duration": 5,
    "start_time": "2021-12-11T17:31:38.529Z"
   },
   {
    "duration": 31,
    "start_time": "2021-12-11T17:33:00.500Z"
   },
   {
    "duration": 174153,
    "start_time": "2021-12-11T17:33:21.227Z"
   },
   {
    "duration": 16,
    "start_time": "2021-12-11T17:38:52.192Z"
   },
   {
    "duration": 12,
    "start_time": "2021-12-11T17:38:54.086Z"
   },
   {
    "duration": 10,
    "start_time": "2021-12-11T17:38:55.232Z"
   },
   {
    "duration": 310,
    "start_time": "2021-12-11T17:38:55.707Z"
   },
   {
    "duration": 10,
    "start_time": "2021-12-11T17:39:09.557Z"
   },
   {
    "duration": 10,
    "start_time": "2021-12-11T17:39:11.027Z"
   },
   {
    "duration": 12,
    "start_time": "2021-12-11T17:39:12.990Z"
   },
   {
    "duration": 18,
    "start_time": "2021-12-11T17:39:21.338Z"
   },
   {
    "duration": 6,
    "start_time": "2021-12-11T17:40:34.881Z"
   },
   {
    "duration": 14015,
    "start_time": "2021-12-11T17:41:10.042Z"
   },
   {
    "duration": 198,
    "start_time": "2021-12-11T17:42:12.148Z"
   },
   {
    "duration": 591,
    "start_time": "2021-12-11T17:42:13.902Z"
   },
   {
    "duration": 14,
    "start_time": "2021-12-11T17:42:24.446Z"
   },
   {
    "duration": 4,
    "start_time": "2021-12-11T17:42:26.859Z"
   },
   {
    "duration": 5,
    "start_time": "2021-12-11T17:42:28.696Z"
   },
   {
    "duration": 248,
    "start_time": "2021-12-11T17:42:30.841Z"
   },
   {
    "duration": 3,
    "start_time": "2021-12-11T17:43:19.265Z"
   },
   {
    "duration": 91,
    "start_time": "2021-12-11T17:43:19.277Z"
   },
   {
    "duration": 63,
    "start_time": "2021-12-11T17:43:19.372Z"
   },
   {
    "duration": 15,
    "start_time": "2021-12-11T17:43:19.438Z"
   },
   {
    "duration": 15,
    "start_time": "2021-12-11T17:43:19.457Z"
   },
   {
    "duration": 55,
    "start_time": "2021-12-11T17:43:19.475Z"
   },
   {
    "duration": 47,
    "start_time": "2021-12-11T17:43:19.533Z"
   },
   {
    "duration": 6,
    "start_time": "2021-12-11T17:43:19.618Z"
   },
   {
    "duration": 11,
    "start_time": "2021-12-11T17:43:19.627Z"
   },
   {
    "duration": 10,
    "start_time": "2021-12-11T17:43:19.642Z"
   },
   {
    "duration": 396,
    "start_time": "2021-12-11T17:43:19.655Z"
   },
   {
    "duration": 44,
    "start_time": "2021-12-11T17:43:20.054Z"
   },
   {
    "duration": 63,
    "start_time": "2021-12-11T17:43:20.118Z"
   },
   {
    "duration": 99,
    "start_time": "2021-12-11T17:43:20.185Z"
   },
   {
    "duration": 50,
    "start_time": "2021-12-11T17:43:20.286Z"
   },
   {
    "duration": 37,
    "start_time": "2021-12-11T17:43:20.340Z"
   },
   {
    "duration": 6,
    "start_time": "2021-12-11T17:43:20.381Z"
   },
   {
    "duration": 66,
    "start_time": "2021-12-11T17:43:20.390Z"
   },
   {
    "duration": 77,
    "start_time": "2021-12-11T17:43:20.459Z"
   },
   {
    "duration": 37,
    "start_time": "2021-12-11T17:43:20.540Z"
   },
   {
    "duration": 799,
    "start_time": "2021-12-11T17:43:20.580Z"
   },
   {
    "duration": 11,
    "start_time": "2021-12-11T17:43:21.381Z"
   },
   {
    "duration": 28,
    "start_time": "2021-12-11T17:43:21.394Z"
   },
   {
    "duration": 512,
    "start_time": "2021-12-11T17:43:21.424Z"
   },
   {
    "duration": 7,
    "start_time": "2021-12-11T17:43:21.938Z"
   },
   {
    "duration": 8,
    "start_time": "2021-12-11T17:43:21.947Z"
   },
   {
    "duration": 61,
    "start_time": "2021-12-11T17:43:21.957Z"
   },
   {
    "duration": 7,
    "start_time": "2021-12-11T17:43:22.025Z"
   },
   {
    "duration": 270,
    "start_time": "2021-12-11T17:43:22.036Z"
   },
   {
    "duration": 39,
    "start_time": "2021-12-11T17:43:22.308Z"
   },
   {
    "duration": 6,
    "start_time": "2021-12-11T17:43:22.349Z"
   },
   {
    "duration": 22,
    "start_time": "2021-12-11T17:43:22.357Z"
   },
   {
    "duration": 57,
    "start_time": "2021-12-11T17:43:22.381Z"
   },
   {
    "duration": 14,
    "start_time": "2021-12-11T17:43:22.440Z"
   },
   {
    "duration": 15,
    "start_time": "2021-12-11T17:43:22.457Z"
   },
   {
    "duration": 55,
    "start_time": "2021-12-11T17:43:22.475Z"
   },
   {
    "duration": 19,
    "start_time": "2021-12-11T17:43:22.533Z"
   },
   {
    "duration": 33,
    "start_time": "2021-12-11T17:43:22.555Z"
   },
   {
    "duration": 7,
    "start_time": "2021-12-11T17:43:22.618Z"
   },
   {
    "duration": 281,
    "start_time": "2021-12-11T17:43:22.628Z"
   },
   {
    "duration": 12,
    "start_time": "2021-12-11T17:43:22.916Z"
   },
   {
    "duration": 339,
    "start_time": "2021-12-11T17:43:22.931Z"
   },
   {
    "duration": 15,
    "start_time": "2021-12-11T17:43:23.273Z"
   },
   {
    "duration": 36,
    "start_time": "2021-12-11T17:43:23.291Z"
   },
   {
    "duration": 29,
    "start_time": "2021-12-11T17:43:23.331Z"
   },
   {
    "duration": 60,
    "start_time": "2021-12-11T17:43:23.362Z"
   },
   {
    "duration": 13,
    "start_time": "2021-12-11T17:43:23.424Z"
   },
   {
    "duration": 10,
    "start_time": "2021-12-11T17:43:23.440Z"
   },
   {
    "duration": 30,
    "start_time": "2021-12-11T17:43:23.452Z"
   },
   {
    "duration": 42,
    "start_time": "2021-12-11T17:43:23.484Z"
   },
   {
    "duration": 24,
    "start_time": "2021-12-11T17:43:23.529Z"
   },
   {
    "duration": 9,
    "start_time": "2021-12-11T17:43:23.555Z"
   },
   {
    "duration": 5,
    "start_time": "2021-12-11T17:43:23.567Z"
   },
   {
    "duration": 48,
    "start_time": "2021-12-11T17:43:23.574Z"
   },
   {
    "duration": 727,
    "start_time": "2021-12-11T17:43:23.624Z"
   },
   {
    "duration": 680,
    "start_time": "2021-12-11T17:43:24.354Z"
   },
   {
    "duration": 683,
    "start_time": "2021-12-11T17:43:25.037Z"
   },
   {
    "duration": 688,
    "start_time": "2021-12-11T17:43:25.723Z"
   },
   {
    "duration": 684,
    "start_time": "2021-12-11T17:43:26.417Z"
   },
   {
    "duration": 16,
    "start_time": "2021-12-11T17:43:27.104Z"
   },
   {
    "duration": 51,
    "start_time": "2021-12-11T17:43:27.122Z"
   },
   {
    "duration": 5,
    "start_time": "2021-12-11T17:43:27.175Z"
   },
   {
    "duration": 45,
    "start_time": "2021-12-11T17:43:27.184Z"
   },
   {
    "duration": 36,
    "start_time": "2021-12-11T17:43:27.232Z"
   },
   {
    "duration": 46,
    "start_time": "2021-12-11T17:43:27.271Z"
   },
   {
    "duration": 14,
    "start_time": "2021-12-11T17:43:27.320Z"
   },
   {
    "duration": 37,
    "start_time": "2021-12-11T17:43:27.336Z"
   },
   {
    "duration": 42,
    "start_time": "2021-12-11T17:43:27.376Z"
   },
   {
    "duration": 683,
    "start_time": "2021-12-11T17:43:27.420Z"
   },
   {
    "duration": 36,
    "start_time": "2021-12-11T17:43:28.105Z"
   },
   {
    "duration": 10,
    "start_time": "2021-12-11T17:43:28.144Z"
   },
   {
    "duration": 484,
    "start_time": "2021-12-11T17:43:28.157Z"
   },
   {
    "duration": 1001,
    "start_time": "2021-12-11T17:43:28.644Z"
   },
   {
    "duration": 295,
    "start_time": "2021-12-11T17:43:29.648Z"
   },
   {
    "duration": 27,
    "start_time": "2021-12-11T17:43:29.946Z"
   },
   {
    "duration": 47,
    "start_time": "2021-12-11T17:43:29.975Z"
   },
   {
    "duration": 10,
    "start_time": "2021-12-11T17:43:30.025Z"
   },
   {
    "duration": 1064,
    "start_time": "2021-12-11T17:43:30.037Z"
   },
   {
    "duration": 19,
    "start_time": "2021-12-11T17:43:31.105Z"
   },
   {
    "duration": 9,
    "start_time": "2021-12-11T17:43:31.127Z"
   },
   {
    "duration": 7,
    "start_time": "2021-12-11T17:43:31.138Z"
   },
   {
    "duration": 19,
    "start_time": "2021-12-11T17:43:31.154Z"
   },
   {
    "duration": 9,
    "start_time": "2021-12-11T17:43:31.218Z"
   },
   {
    "duration": 12,
    "start_time": "2021-12-11T17:43:31.229Z"
   },
   {
    "duration": 467,
    "start_time": "2021-12-11T17:43:31.244Z"
   },
   {
    "duration": 14,
    "start_time": "2021-12-11T17:43:31.714Z"
   },
   {
    "duration": 15,
    "start_time": "2021-12-11T17:43:31.731Z"
   },
   {
    "duration": 15,
    "start_time": "2021-12-11T17:43:31.749Z"
   },
   {
    "duration": 13,
    "start_time": "2021-12-11T17:43:31.766Z"
   },
   {
    "duration": 25,
    "start_time": "2021-12-11T17:43:31.817Z"
   },
   {
    "duration": 8,
    "start_time": "2021-12-11T17:43:31.844Z"
   },
   {
    "duration": 975,
    "start_time": "2021-12-11T17:43:31.854Z"
   },
   {
    "duration": 15,
    "start_time": "2021-12-11T17:43:32.832Z"
   },
   {
    "duration": 4,
    "start_time": "2021-12-11T17:43:32.850Z"
   },
   {
    "duration": 4,
    "start_time": "2021-12-11T17:43:38.241Z"
   },
   {
    "duration": 6,
    "start_time": "2021-12-11T17:43:39.532Z"
   },
   {
    "duration": 217580,
    "start_time": "2021-12-11T17:43:41.320Z"
   },
   {
    "duration": 13,
    "start_time": "2021-12-11T17:47:42.436Z"
   },
   {
    "duration": 12,
    "start_time": "2021-12-11T17:47:44.123Z"
   },
   {
    "duration": 12,
    "start_time": "2021-12-11T17:47:45.978Z"
   },
   {
    "duration": 13,
    "start_time": "2021-12-11T17:47:47.829Z"
   },
   {
    "duration": 12,
    "start_time": "2021-12-11T17:47:49.423Z"
   },
   {
    "duration": 12,
    "start_time": "2021-12-11T17:47:51.113Z"
   },
   {
    "duration": 6,
    "start_time": "2021-12-11T17:47:56.416Z"
   },
   {
    "duration": 5,
    "start_time": "2021-12-11T17:48:24.542Z"
   },
   {
    "duration": 1058,
    "start_time": "2021-12-12T13:00:29.942Z"
   },
   {
    "duration": 66,
    "start_time": "2021-12-12T13:00:31.003Z"
   },
   {
    "duration": 46,
    "start_time": "2021-12-12T13:00:31.072Z"
   },
   {
    "duration": 15,
    "start_time": "2021-12-12T13:00:31.121Z"
   },
   {
    "duration": 31,
    "start_time": "2021-12-12T13:00:31.139Z"
   },
   {
    "duration": 23,
    "start_time": "2021-12-12T13:00:31.173Z"
   },
   {
    "duration": 65,
    "start_time": "2021-12-12T13:00:31.199Z"
   },
   {
    "duration": 7,
    "start_time": "2021-12-12T13:00:31.266Z"
   },
   {
    "duration": 48,
    "start_time": "2021-12-12T13:00:31.279Z"
   },
   {
    "duration": 17,
    "start_time": "2021-12-12T13:00:31.331Z"
   },
   {
    "duration": 417,
    "start_time": "2021-12-12T13:00:31.351Z"
   },
   {
    "duration": 75,
    "start_time": "2021-12-12T13:00:31.771Z"
   },
   {
    "duration": 40,
    "start_time": "2021-12-12T13:00:31.849Z"
   },
   {
    "duration": 63,
    "start_time": "2021-12-12T13:00:31.891Z"
   },
   {
    "duration": 77,
    "start_time": "2021-12-12T13:00:31.957Z"
   },
   {
    "duration": 38,
    "start_time": "2021-12-12T13:00:32.037Z"
   },
   {
    "duration": 5,
    "start_time": "2021-12-12T13:00:32.078Z"
   },
   {
    "duration": 71,
    "start_time": "2021-12-12T13:00:32.085Z"
   },
   {
    "duration": 73,
    "start_time": "2021-12-12T13:00:32.158Z"
   },
   {
    "duration": 54,
    "start_time": "2021-12-12T13:00:32.233Z"
   },
   {
    "duration": 764,
    "start_time": "2021-12-12T13:00:32.290Z"
   },
   {
    "duration": 12,
    "start_time": "2021-12-12T13:00:33.056Z"
   },
   {
    "duration": 10,
    "start_time": "2021-12-12T13:00:33.070Z"
   },
   {
    "duration": 325,
    "start_time": "2021-12-12T13:00:33.083Z"
   },
   {
    "duration": 9,
    "start_time": "2021-12-12T13:00:33.418Z"
   },
   {
    "duration": 10,
    "start_time": "2021-12-12T13:00:33.431Z"
   },
   {
    "duration": 64,
    "start_time": "2021-12-12T13:00:33.453Z"
   },
   {
    "duration": 9,
    "start_time": "2021-12-12T13:00:33.522Z"
   },
   {
    "duration": 334,
    "start_time": "2021-12-12T13:00:33.533Z"
   },
   {
    "duration": 51,
    "start_time": "2021-12-12T13:00:33.870Z"
   },
   {
    "duration": 8,
    "start_time": "2021-12-12T13:00:33.924Z"
   },
   {
    "duration": 23,
    "start_time": "2021-12-12T13:00:33.935Z"
   },
   {
    "duration": 70,
    "start_time": "2021-12-12T13:00:33.961Z"
   },
   {
    "duration": 14,
    "start_time": "2021-12-12T13:00:34.034Z"
   },
   {
    "duration": 20,
    "start_time": "2021-12-12T13:00:34.051Z"
   },
   {
    "duration": 48,
    "start_time": "2021-12-12T13:00:34.074Z"
   },
   {
    "duration": 16,
    "start_time": "2021-12-12T13:00:34.125Z"
   },
   {
    "duration": 32,
    "start_time": "2021-12-12T13:00:34.143Z"
   },
   {
    "duration": 41,
    "start_time": "2021-12-12T13:00:34.178Z"
   },
   {
    "duration": 286,
    "start_time": "2021-12-12T13:00:34.222Z"
   },
   {
    "duration": 14,
    "start_time": "2021-12-12T13:00:34.511Z"
   },
   {
    "duration": 319,
    "start_time": "2021-12-12T13:00:34.528Z"
   },
   {
    "duration": 15,
    "start_time": "2021-12-12T13:00:34.850Z"
   },
   {
    "duration": 51,
    "start_time": "2021-12-12T13:00:34.868Z"
   },
   {
    "duration": 29,
    "start_time": "2021-12-12T13:00:34.921Z"
   },
   {
    "duration": 24,
    "start_time": "2021-12-12T13:00:34.952Z"
   },
   {
    "duration": 41,
    "start_time": "2021-12-12T13:00:34.978Z"
   },
   {
    "duration": 11,
    "start_time": "2021-12-12T13:00:35.022Z"
   },
   {
    "duration": 29,
    "start_time": "2021-12-12T13:00:35.036Z"
   },
   {
    "duration": 61,
    "start_time": "2021-12-12T13:00:35.068Z"
   },
   {
    "duration": 32,
    "start_time": "2021-12-12T13:00:35.132Z"
   },
   {
    "duration": 13,
    "start_time": "2021-12-12T13:00:35.166Z"
   },
   {
    "duration": 4,
    "start_time": "2021-12-12T13:00:35.182Z"
   },
   {
    "duration": 40,
    "start_time": "2021-12-12T13:00:35.188Z"
   },
   {
    "duration": 702,
    "start_time": "2021-12-12T13:00:35.230Z"
   },
   {
    "duration": 702,
    "start_time": "2021-12-12T13:00:35.935Z"
   },
   {
    "duration": 966,
    "start_time": "2021-12-12T13:00:36.640Z"
   },
   {
    "duration": 728,
    "start_time": "2021-12-12T13:00:37.608Z"
   },
   {
    "duration": 771,
    "start_time": "2021-12-12T13:00:38.339Z"
   },
   {
    "duration": 26,
    "start_time": "2021-12-12T13:00:39.113Z"
   },
   {
    "duration": 89,
    "start_time": "2021-12-12T13:00:39.143Z"
   },
   {
    "duration": 11,
    "start_time": "2021-12-12T13:00:39.236Z"
   },
   {
    "duration": 20,
    "start_time": "2021-12-12T13:00:39.251Z"
   },
   {
    "duration": 88,
    "start_time": "2021-12-12T13:00:39.275Z"
   },
   {
    "duration": 13,
    "start_time": "2021-12-12T13:00:39.366Z"
   },
   {
    "duration": 41,
    "start_time": "2021-12-12T13:00:39.382Z"
   },
   {
    "duration": 36,
    "start_time": "2021-12-12T13:00:39.426Z"
   },
   {
    "duration": 14,
    "start_time": "2021-12-12T13:00:39.465Z"
   },
   {
    "duration": 713,
    "start_time": "2021-12-12T13:00:39.518Z"
   },
   {
    "duration": 28,
    "start_time": "2021-12-12T13:00:40.233Z"
   },
   {
    "duration": 8,
    "start_time": "2021-12-12T13:00:40.263Z"
   },
   {
    "duration": 334,
    "start_time": "2021-12-12T13:00:40.274Z"
   },
   {
    "duration": 707,
    "start_time": "2021-12-12T13:00:40.611Z"
   },
   {
    "duration": 398,
    "start_time": "2021-12-12T13:00:41.321Z"
   },
   {
    "duration": 26,
    "start_time": "2021-12-12T13:00:41.721Z"
   },
   {
    "duration": 37,
    "start_time": "2021-12-12T13:00:41.750Z"
   },
   {
    "duration": 12,
    "start_time": "2021-12-12T13:00:41.818Z"
   },
   {
    "duration": 986,
    "start_time": "2021-12-12T13:00:41.833Z"
   },
   {
    "duration": 10,
    "start_time": "2021-12-12T13:00:42.822Z"
   },
   {
    "duration": 9,
    "start_time": "2021-12-12T13:00:42.834Z"
   },
   {
    "duration": 7,
    "start_time": "2021-12-12T13:00:42.853Z"
   },
   {
    "duration": 54,
    "start_time": "2021-12-12T13:00:42.865Z"
   },
   {
    "duration": 8,
    "start_time": "2021-12-12T13:00:42.923Z"
   },
   {
    "duration": 9,
    "start_time": "2021-12-12T13:00:42.934Z"
   },
   {
    "duration": 342,
    "start_time": "2021-12-12T13:00:42.946Z"
   },
   {
    "duration": 10,
    "start_time": "2021-12-12T13:00:43.291Z"
   },
   {
    "duration": 14,
    "start_time": "2021-12-12T13:00:43.317Z"
   },
   {
    "duration": 13,
    "start_time": "2021-12-12T13:00:43.333Z"
   },
   {
    "duration": 13,
    "start_time": "2021-12-12T13:00:43.348Z"
   },
   {
    "duration": 67,
    "start_time": "2021-12-12T13:00:43.363Z"
   },
   {
    "duration": 41,
    "start_time": "2021-12-12T13:00:43.432Z"
   },
   {
    "duration": 948,
    "start_time": "2021-12-12T13:00:43.476Z"
   },
   {
    "duration": 21,
    "start_time": "2021-12-12T13:00:44.427Z"
   },
   {
    "duration": 6,
    "start_time": "2021-12-12T13:00:44.451Z"
   },
   {
    "duration": 9,
    "start_time": "2021-12-12T13:00:44.460Z"
   },
   {
    "duration": 464,
    "start_time": "2021-12-12T13:00:44.472Z"
   },
   {
    "duration": 1062,
    "start_time": "2021-12-12T13:00:44.939Z"
   },
   {
    "duration": -541,
    "start_time": "2021-12-12T13:00:46.545Z"
   },
   {
    "duration": -542,
    "start_time": "2021-12-12T13:00:46.548Z"
   },
   {
    "duration": -571,
    "start_time": "2021-12-12T13:00:46.579Z"
   },
   {
    "duration": -575,
    "start_time": "2021-12-12T13:00:46.585Z"
   },
   {
    "duration": -579,
    "start_time": "2021-12-12T13:00:46.590Z"
   },
   {
    "duration": -580,
    "start_time": "2021-12-12T13:00:46.594Z"
   },
   {
    "duration": -584,
    "start_time": "2021-12-12T13:00:46.599Z"
   },
   {
    "duration": -585,
    "start_time": "2021-12-12T13:00:46.602Z"
   },
   {
    "duration": -587,
    "start_time": "2021-12-12T13:00:46.606Z"
   },
   {
    "duration": -588,
    "start_time": "2021-12-12T13:00:46.609Z"
   },
   {
    "duration": -589,
    "start_time": "2021-12-12T13:00:46.612Z"
   },
   {
    "duration": -590,
    "start_time": "2021-12-12T13:00:46.615Z"
   },
   {
    "duration": -592,
    "start_time": "2021-12-12T13:00:46.619Z"
   },
   {
    "duration": -593,
    "start_time": "2021-12-12T13:00:46.622Z"
   },
   {
    "duration": -594,
    "start_time": "2021-12-12T13:00:46.625Z"
   },
   {
    "duration": -596,
    "start_time": "2021-12-12T13:00:46.628Z"
   },
   {
    "duration": -596,
    "start_time": "2021-12-12T13:00:46.632Z"
   },
   {
    "duration": -597,
    "start_time": "2021-12-12T13:00:46.635Z"
   },
   {
    "duration": -599,
    "start_time": "2021-12-12T13:00:46.638Z"
   },
   {
    "duration": -600,
    "start_time": "2021-12-12T13:00:46.641Z"
   },
   {
    "duration": -603,
    "start_time": "2021-12-12T13:00:46.645Z"
   },
   {
    "duration": -605,
    "start_time": "2021-12-12T13:00:46.649Z"
   },
   {
    "duration": -606,
    "start_time": "2021-12-12T13:00:46.652Z"
   },
   {
    "duration": -608,
    "start_time": "2021-12-12T13:00:46.655Z"
   },
   {
    "duration": -634,
    "start_time": "2021-12-12T13:00:46.683Z"
   },
   {
    "duration": -636,
    "start_time": "2021-12-12T13:00:46.686Z"
   },
   {
    "duration": 409,
    "start_time": "2021-12-12T13:05:28.892Z"
   },
   {
    "duration": -593,
    "start_time": "2021-12-12T13:05:29.899Z"
   },
   {
    "duration": -597,
    "start_time": "2021-12-12T13:05:29.906Z"
   },
   {
    "duration": -599,
    "start_time": "2021-12-12T13:05:29.910Z"
   },
   {
    "duration": -600,
    "start_time": "2021-12-12T13:05:29.913Z"
   },
   {
    "duration": -602,
    "start_time": "2021-12-12T13:05:29.917Z"
   },
   {
    "duration": -602,
    "start_time": "2021-12-12T13:05:29.920Z"
   },
   {
    "duration": -604,
    "start_time": "2021-12-12T13:05:29.924Z"
   },
   {
    "duration": -605,
    "start_time": "2021-12-12T13:05:29.927Z"
   },
   {
    "duration": -611,
    "start_time": "2021-12-12T13:05:29.936Z"
   },
   {
    "duration": -614,
    "start_time": "2021-12-12T13:05:29.941Z"
   },
   {
    "duration": -616,
    "start_time": "2021-12-12T13:05:29.945Z"
   },
   {
    "duration": -617,
    "start_time": "2021-12-12T13:05:29.948Z"
   },
   {
    "duration": -619,
    "start_time": "2021-12-12T13:05:29.952Z"
   },
   {
    "duration": -619,
    "start_time": "2021-12-12T13:05:29.955Z"
   },
   {
    "duration": -621,
    "start_time": "2021-12-12T13:05:29.959Z"
   },
   {
    "duration": -630,
    "start_time": "2021-12-12T13:05:29.970Z"
   },
   {
    "duration": -635,
    "start_time": "2021-12-12T13:05:29.977Z"
   },
   {
    "duration": -637,
    "start_time": "2021-12-12T13:05:29.981Z"
   },
   {
    "duration": -639,
    "start_time": "2021-12-12T13:05:29.985Z"
   },
   {
    "duration": -641,
    "start_time": "2021-12-12T13:05:29.989Z"
   },
   {
    "duration": -642,
    "start_time": "2021-12-12T13:05:29.992Z"
   },
   {
    "duration": -643,
    "start_time": "2021-12-12T13:05:29.996Z"
   },
   {
    "duration": -650,
    "start_time": "2021-12-12T13:05:30.005Z"
   },
   {
    "duration": -652,
    "start_time": "2021-12-12T13:05:30.009Z"
   },
   {
    "duration": -654,
    "start_time": "2021-12-12T13:05:30.013Z"
   },
   {
    "duration": -655,
    "start_time": "2021-12-12T13:05:30.016Z"
   },
   {
    "duration": 412,
    "start_time": "2021-12-12T13:05:39.221Z"
   },
   {
    "duration": 382,
    "start_time": "2021-12-12T13:05:40.185Z"
   },
   {
    "duration": -549,
    "start_time": "2021-12-12T13:05:41.119Z"
   },
   {
    "duration": -551,
    "start_time": "2021-12-12T13:05:41.122Z"
   },
   {
    "duration": 395,
    "start_time": "2021-12-12T13:05:40.647Z"
   },
   {
    "duration": -586,
    "start_time": "2021-12-12T13:05:41.630Z"
   },
   {
    "duration": 454,
    "start_time": "2021-12-12T13:05:44.868Z"
   },
   {
    "duration": 91,
    "start_time": "2021-12-12T14:02:46.162Z"
   },
   {
    "duration": 562,
    "start_time": "2021-12-12T14:05:56.510Z"
   },
   {
    "duration": 53,
    "start_time": "2021-12-12T14:05:57.074Z"
   },
   {
    "duration": 24,
    "start_time": "2021-12-12T14:05:57.129Z"
   },
   {
    "duration": 20,
    "start_time": "2021-12-12T14:05:57.154Z"
   },
   {
    "duration": 19,
    "start_time": "2021-12-12T14:05:57.175Z"
   },
   {
    "duration": 24,
    "start_time": "2021-12-12T14:05:57.195Z"
   },
   {
    "duration": 34,
    "start_time": "2021-12-12T14:05:57.221Z"
   },
   {
    "duration": 6,
    "start_time": "2021-12-12T14:05:57.258Z"
   },
   {
    "duration": 22,
    "start_time": "2021-12-12T14:05:57.266Z"
   },
   {
    "duration": 8,
    "start_time": "2021-12-12T14:05:57.290Z"
   },
   {
    "duration": 254,
    "start_time": "2021-12-12T14:05:57.300Z"
   },
   {
    "duration": 29,
    "start_time": "2021-12-12T14:05:57.555Z"
   },
   {
    "duration": 22,
    "start_time": "2021-12-12T14:05:57.586Z"
   },
   {
    "duration": 27,
    "start_time": "2021-12-12T14:05:57.610Z"
   },
   {
    "duration": 48,
    "start_time": "2021-12-12T14:05:57.639Z"
   },
   {
    "duration": 23,
    "start_time": "2021-12-12T14:05:57.688Z"
   },
   {
    "duration": 4,
    "start_time": "2021-12-12T14:05:57.713Z"
   },
   {
    "duration": 51,
    "start_time": "2021-12-12T14:05:57.719Z"
   },
   {
    "duration": 29,
    "start_time": "2021-12-12T14:05:57.772Z"
   },
   {
    "duration": 22,
    "start_time": "2021-12-12T14:05:57.803Z"
   },
   {
    "duration": 480,
    "start_time": "2021-12-12T14:05:57.826Z"
   },
   {
    "duration": 7,
    "start_time": "2021-12-12T14:05:58.308Z"
   },
   {
    "duration": 7,
    "start_time": "2021-12-12T14:05:58.319Z"
   },
   {
    "duration": 187,
    "start_time": "2021-12-12T14:05:58.328Z"
   },
   {
    "duration": 5,
    "start_time": "2021-12-12T14:05:58.517Z"
   },
   {
    "duration": 6,
    "start_time": "2021-12-12T14:05:58.524Z"
   },
   {
    "duration": 32,
    "start_time": "2021-12-12T14:05:58.532Z"
   },
   {
    "duration": 5,
    "start_time": "2021-12-12T14:05:58.566Z"
   },
   {
    "duration": 219,
    "start_time": "2021-12-12T14:05:58.572Z"
   },
   {
    "duration": 25,
    "start_time": "2021-12-12T14:05:58.793Z"
   },
   {
    "duration": 4,
    "start_time": "2021-12-12T14:05:58.820Z"
   },
   {
    "duration": 15,
    "start_time": "2021-12-12T14:05:58.825Z"
   },
   {
    "duration": 44,
    "start_time": "2021-12-12T14:05:58.841Z"
   },
   {
    "duration": 9,
    "start_time": "2021-12-12T14:05:58.887Z"
   },
   {
    "duration": 9,
    "start_time": "2021-12-12T14:05:58.898Z"
   },
   {
    "duration": 11,
    "start_time": "2021-12-12T14:05:58.908Z"
   },
   {
    "duration": 12,
    "start_time": "2021-12-12T14:05:58.921Z"
   },
   {
    "duration": 46,
    "start_time": "2021-12-12T14:05:58.935Z"
   },
   {
    "duration": 7,
    "start_time": "2021-12-12T14:05:58.982Z"
   },
   {
    "duration": 167,
    "start_time": "2021-12-12T14:05:58.990Z"
   },
   {
    "duration": 7,
    "start_time": "2021-12-12T14:05:59.158Z"
   },
   {
    "duration": 205,
    "start_time": "2021-12-12T14:05:59.167Z"
   },
   {
    "duration": 10,
    "start_time": "2021-12-12T14:05:59.374Z"
   },
   {
    "duration": 11,
    "start_time": "2021-12-12T14:05:59.386Z"
   },
   {
    "duration": 17,
    "start_time": "2021-12-12T14:05:59.399Z"
   },
   {
    "duration": 46,
    "start_time": "2021-12-12T14:05:59.418Z"
   },
   {
    "duration": 9,
    "start_time": "2021-12-12T14:05:59.466Z"
   },
   {
    "duration": 8,
    "start_time": "2021-12-12T14:05:59.477Z"
   },
   {
    "duration": 17,
    "start_time": "2021-12-12T14:05:59.487Z"
   },
   {
    "duration": 10,
    "start_time": "2021-12-12T14:05:59.506Z"
   },
   {
    "duration": 18,
    "start_time": "2021-12-12T14:05:59.517Z"
   },
   {
    "duration": 7,
    "start_time": "2021-12-12T14:05:59.564Z"
   },
   {
    "duration": 4,
    "start_time": "2021-12-12T14:05:59.572Z"
   },
   {
    "duration": 12,
    "start_time": "2021-12-12T14:05:59.577Z"
   },
   {
    "duration": 497,
    "start_time": "2021-12-12T14:05:59.590Z"
   },
   {
    "duration": 475,
    "start_time": "2021-12-12T14:06:00.089Z"
   },
   {
    "duration": 436,
    "start_time": "2021-12-12T14:06:00.566Z"
   },
   {
    "duration": 484,
    "start_time": "2021-12-12T14:06:01.004Z"
   },
   {
    "duration": 454,
    "start_time": "2021-12-12T14:06:01.490Z"
   },
   {
    "duration": 17,
    "start_time": "2021-12-12T14:06:01.946Z"
   },
   {
    "duration": 32,
    "start_time": "2021-12-12T14:06:01.965Z"
   },
   {
    "duration": 6,
    "start_time": "2021-12-12T14:06:01.998Z"
   },
   {
    "duration": 18,
    "start_time": "2021-12-12T14:06:02.006Z"
   },
   {
    "duration": 47,
    "start_time": "2021-12-12T14:06:02.026Z"
   },
   {
    "duration": 7,
    "start_time": "2021-12-12T14:06:02.075Z"
   },
   {
    "duration": 18,
    "start_time": "2021-12-12T14:06:02.084Z"
   },
   {
    "duration": 23,
    "start_time": "2021-12-12T14:06:02.104Z"
   },
   {
    "duration": 30,
    "start_time": "2021-12-12T14:06:02.134Z"
   },
   {
    "duration": 449,
    "start_time": "2021-12-12T14:06:02.166Z"
   },
   {
    "duration": 21,
    "start_time": "2021-12-12T14:06:02.617Z"
   },
   {
    "duration": 5,
    "start_time": "2021-12-12T14:06:02.640Z"
   },
   {
    "duration": 180,
    "start_time": "2021-12-12T14:06:02.663Z"
   },
   {
    "duration": 454,
    "start_time": "2021-12-12T14:06:02.844Z"
   },
   {
    "duration": 255,
    "start_time": "2021-12-12T14:06:03.300Z"
   },
   {
    "duration": 21,
    "start_time": "2021-12-12T14:06:03.556Z"
   },
   {
    "duration": 17,
    "start_time": "2021-12-12T14:06:03.579Z"
   },
   {
    "duration": 6,
    "start_time": "2021-12-12T14:06:03.597Z"
   },
   {
    "duration": 502,
    "start_time": "2021-12-12T14:06:03.605Z"
   },
   {
    "duration": 6,
    "start_time": "2021-12-12T14:06:04.108Z"
   },
   {
    "duration": 17,
    "start_time": "2021-12-12T14:06:04.116Z"
   },
   {
    "duration": 28,
    "start_time": "2021-12-12T14:06:04.135Z"
   },
   {
    "duration": 16,
    "start_time": "2021-12-12T14:06:04.164Z"
   },
   {
    "duration": 25,
    "start_time": "2021-12-12T14:06:04.181Z"
   },
   {
    "duration": 31,
    "start_time": "2021-12-12T14:06:04.208Z"
   },
   {
    "duration": 185,
    "start_time": "2021-12-12T14:06:04.240Z"
   },
   {
    "duration": 5,
    "start_time": "2021-12-12T14:06:04.427Z"
   },
   {
    "duration": 28,
    "start_time": "2021-12-12T14:06:04.434Z"
   },
   {
    "duration": 21,
    "start_time": "2021-12-12T14:06:04.464Z"
   },
   {
    "duration": 30,
    "start_time": "2021-12-12T14:06:04.487Z"
   },
   {
    "duration": 45,
    "start_time": "2021-12-12T14:06:04.519Z"
   },
   {
    "duration": 17,
    "start_time": "2021-12-12T14:06:04.565Z"
   },
   {
    "duration": 690,
    "start_time": "2021-12-12T14:06:04.583Z"
   },
   {
    "duration": 10,
    "start_time": "2021-12-12T14:06:05.275Z"
   },
   {
    "duration": 9,
    "start_time": "2021-12-12T14:06:10.812Z"
   },
   {
    "duration": 4,
    "start_time": "2021-12-12T14:06:15.522Z"
   },
   {
    "duration": 4,
    "start_time": "2021-12-12T14:06:16.691Z"
   },
   {
    "duration": 120010,
    "start_time": "2021-12-12T14:06:21.704Z"
   },
   {
    "duration": 308,
    "start_time": "2021-12-12T14:27:36.734Z"
   },
   {
    "duration": 256,
    "start_time": "2021-12-12T14:27:51.762Z"
   },
   {
    "duration": 237,
    "start_time": "2021-12-12T14:27:58.963Z"
   },
   {
    "duration": 241,
    "start_time": "2021-12-12T14:28:14.074Z"
   },
   {
    "duration": 8,
    "start_time": "2021-12-12T14:29:46.575Z"
   },
   {
    "duration": 18,
    "start_time": "2021-12-12T14:30:09.587Z"
   },
   {
    "duration": 3395,
    "start_time": "2021-12-12T14:34:26.176Z"
   },
   {
    "duration": 8,
    "start_time": "2021-12-12T14:37:39.955Z"
   },
   {
    "duration": 8,
    "start_time": "2021-12-12T14:37:41.356Z"
   },
   {
    "duration": 8,
    "start_time": "2021-12-12T14:37:42.564Z"
   },
   {
    "duration": 9,
    "start_time": "2021-12-12T14:37:46.474Z"
   },
   {
    "duration": 8,
    "start_time": "2021-12-12T14:37:47.763Z"
   },
   {
    "duration": 7,
    "start_time": "2021-12-12T14:37:48.855Z"
   },
   {
    "duration": 5,
    "start_time": "2021-12-12T14:37:52.907Z"
   },
   {
    "duration": 3,
    "start_time": "2021-12-12T14:38:26.620Z"
   },
   {
    "duration": 19,
    "start_time": "2021-12-12T14:38:27.782Z"
   },
   {
    "duration": 13,
    "start_time": "2021-12-12T14:38:29.090Z"
   },
   {
    "duration": 179,
    "start_time": "2021-12-12T14:38:30.234Z"
   },
   {
    "duration": 8,
    "start_time": "2021-12-12T14:38:31.162Z"
   },
   {
    "duration": 164,
    "start_time": "2021-12-12T14:38:32.077Z"
   },
   {
    "duration": 31,
    "start_time": "2021-12-12T14:38:34.525Z"
   },
   {
    "duration": 8,
    "start_time": "2021-12-12T14:38:37.683Z"
   },
   {
    "duration": 8,
    "start_time": "2021-12-12T14:38:38.435Z"
   },
   {
    "duration": 6,
    "start_time": "2021-12-12T14:38:39.212Z"
   },
   {
    "duration": 6,
    "start_time": "2021-12-12T14:38:39.887Z"
   },
   {
    "duration": 6,
    "start_time": "2021-12-12T14:38:40.635Z"
   },
   {
    "duration": 6,
    "start_time": "2021-12-12T14:38:41.435Z"
   },
   {
    "duration": 6,
    "start_time": "2021-12-12T14:38:44.575Z"
   },
   {
    "duration": 6,
    "start_time": "2021-12-12T14:38:45.347Z"
   },
   {
    "duration": 6,
    "start_time": "2021-12-12T14:38:46.983Z"
   },
   {
    "duration": 6,
    "start_time": "2021-12-12T14:38:47.944Z"
   },
   {
    "duration": 8593,
    "start_time": "2021-12-12T14:38:54.802Z"
   },
   {
    "duration": -402,
    "start_time": "2021-12-12T14:39:03.799Z"
   },
   {
    "duration": -416,
    "start_time": "2021-12-12T14:39:03.814Z"
   },
   {
    "duration": 6,
    "start_time": "2021-12-12T14:39:17.384Z"
   },
   {
    "duration": 2,
    "start_time": "2021-12-12T14:41:46.563Z"
   },
   {
    "duration": 54,
    "start_time": "2021-12-12T14:41:46.567Z"
   },
   {
    "duration": 18,
    "start_time": "2021-12-12T14:41:46.623Z"
   },
   {
    "duration": 25,
    "start_time": "2021-12-12T14:41:46.642Z"
   },
   {
    "duration": 10,
    "start_time": "2021-12-12T14:41:46.669Z"
   },
   {
    "duration": 10,
    "start_time": "2021-12-12T14:41:46.680Z"
   },
   {
    "duration": 30,
    "start_time": "2021-12-12T14:41:46.692Z"
   },
   {
    "duration": 5,
    "start_time": "2021-12-12T14:41:46.724Z"
   },
   {
    "duration": 8,
    "start_time": "2021-12-12T14:41:46.763Z"
   },
   {
    "duration": 7,
    "start_time": "2021-12-12T14:41:46.773Z"
   },
   {
    "duration": 215,
    "start_time": "2021-12-12T14:41:46.782Z"
   },
   {
    "duration": 22,
    "start_time": "2021-12-12T14:41:46.999Z"
   },
   {
    "duration": 42,
    "start_time": "2021-12-12T14:41:47.023Z"
   },
   {
    "duration": 27,
    "start_time": "2021-12-12T14:41:47.067Z"
   },
   {
    "duration": 25,
    "start_time": "2021-12-12T14:41:47.096Z"
   },
   {
    "duration": 53,
    "start_time": "2021-12-12T14:41:47.123Z"
   },
   {
    "duration": 4,
    "start_time": "2021-12-12T14:41:47.178Z"
   },
   {
    "duration": 26,
    "start_time": "2021-12-12T14:41:47.183Z"
   },
   {
    "duration": 52,
    "start_time": "2021-12-12T14:41:47.212Z"
   },
   {
    "duration": 22,
    "start_time": "2021-12-12T14:41:47.267Z"
   },
   {
    "duration": 546,
    "start_time": "2021-12-12T14:41:47.291Z"
   },
   {
    "duration": 7,
    "start_time": "2021-12-12T14:41:47.839Z"
   },
   {
    "duration": 6,
    "start_time": "2021-12-12T14:41:47.847Z"
   },
   {
    "duration": 172,
    "start_time": "2021-12-12T14:41:47.863Z"
   },
   {
    "duration": 5,
    "start_time": "2021-12-12T14:41:48.037Z"
   },
   {
    "duration": 23,
    "start_time": "2021-12-12T14:41:48.043Z"
   },
   {
    "duration": 16,
    "start_time": "2021-12-12T14:41:48.068Z"
   },
   {
    "duration": 4,
    "start_time": "2021-12-12T14:41:48.086Z"
   },
   {
    "duration": 173,
    "start_time": "2021-12-12T14:41:48.092Z"
   },
   {
    "duration": 25,
    "start_time": "2021-12-12T14:41:48.266Z"
   },
   {
    "duration": 4,
    "start_time": "2021-12-12T14:41:48.293Z"
   },
   {
    "duration": 15,
    "start_time": "2021-12-12T14:41:48.298Z"
   },
   {
    "duration": 48,
    "start_time": "2021-12-12T14:41:48.315Z"
   },
   {
    "duration": 9,
    "start_time": "2021-12-12T14:41:48.365Z"
   },
   {
    "duration": 7,
    "start_time": "2021-12-12T14:41:48.376Z"
   },
   {
    "duration": 10,
    "start_time": "2021-12-12T14:41:48.385Z"
   },
   {
    "duration": 12,
    "start_time": "2021-12-12T14:41:48.397Z"
   },
   {
    "duration": 54,
    "start_time": "2021-12-12T14:41:48.411Z"
   },
   {
    "duration": 5,
    "start_time": "2021-12-12T14:41:48.467Z"
   },
   {
    "duration": 167,
    "start_time": "2021-12-12T14:41:48.474Z"
   },
   {
    "duration": 7,
    "start_time": "2021-12-12T14:41:48.642Z"
   },
   {
    "duration": 282,
    "start_time": "2021-12-12T14:41:48.650Z"
   },
   {
    "duration": 10,
    "start_time": "2021-12-12T14:41:48.934Z"
   },
   {
    "duration": 24,
    "start_time": "2021-12-12T14:41:48.945Z"
   },
   {
    "duration": 16,
    "start_time": "2021-12-12T14:41:48.971Z"
   },
   {
    "duration": 17,
    "start_time": "2021-12-12T14:41:48.988Z"
   },
   {
    "duration": 9,
    "start_time": "2021-12-12T14:41:49.006Z"
   },
   {
    "duration": 8,
    "start_time": "2021-12-12T14:41:49.017Z"
   },
   {
    "duration": 50,
    "start_time": "2021-12-12T14:41:49.027Z"
   },
   {
    "duration": 10,
    "start_time": "2021-12-12T14:41:49.079Z"
   },
   {
    "duration": 17,
    "start_time": "2021-12-12T14:41:49.091Z"
   },
   {
    "duration": 7,
    "start_time": "2021-12-12T14:41:49.109Z"
   },
   {
    "duration": 4,
    "start_time": "2021-12-12T14:41:49.118Z"
   },
   {
    "duration": 43,
    "start_time": "2021-12-12T14:41:49.123Z"
   },
   {
    "duration": 450,
    "start_time": "2021-12-12T14:41:49.171Z"
   },
   {
    "duration": 483,
    "start_time": "2021-12-12T14:41:49.623Z"
   },
   {
    "duration": 492,
    "start_time": "2021-12-12T14:41:50.108Z"
   },
   {
    "duration": 497,
    "start_time": "2021-12-12T14:41:50.601Z"
   },
   {
    "duration": 490,
    "start_time": "2021-12-12T14:41:51.100Z"
   },
   {
    "duration": 7,
    "start_time": "2021-12-12T14:41:51.592Z"
   },
   {
    "duration": 29,
    "start_time": "2021-12-12T14:41:51.601Z"
   },
   {
    "duration": 4,
    "start_time": "2021-12-12T14:41:51.631Z"
   },
   {
    "duration": 28,
    "start_time": "2021-12-12T14:41:51.636Z"
   },
   {
    "duration": 23,
    "start_time": "2021-12-12T14:41:51.666Z"
   },
   {
    "duration": 7,
    "start_time": "2021-12-12T14:41:51.690Z"
   },
   {
    "duration": 8,
    "start_time": "2021-12-12T14:41:51.699Z"
   },
   {
    "duration": 20,
    "start_time": "2021-12-12T14:41:51.709Z"
   },
   {
    "duration": 40,
    "start_time": "2021-12-12T14:41:51.731Z"
   },
   {
    "duration": 439,
    "start_time": "2021-12-12T14:41:51.773Z"
   },
   {
    "duration": 20,
    "start_time": "2021-12-12T14:41:52.213Z"
   },
   {
    "duration": 17,
    "start_time": "2021-12-12T14:41:52.234Z"
   },
   {
    "duration": 173,
    "start_time": "2021-12-12T14:41:52.252Z"
   },
   {
    "duration": 479,
    "start_time": "2021-12-12T14:41:52.428Z"
   },
   {
    "duration": 166,
    "start_time": "2021-12-12T14:41:52.908Z"
   },
   {
    "duration": 19,
    "start_time": "2021-12-12T14:41:53.075Z"
   },
   {
    "duration": 25,
    "start_time": "2021-12-12T14:41:53.095Z"
   },
   {
    "duration": 7,
    "start_time": "2021-12-12T14:41:53.121Z"
   },
   {
    "duration": 471,
    "start_time": "2021-12-12T14:41:53.129Z"
   },
   {
    "duration": 6,
    "start_time": "2021-12-12T14:41:53.601Z"
   },
   {
    "duration": 10,
    "start_time": "2021-12-12T14:41:53.609Z"
   },
   {
    "duration": 5,
    "start_time": "2021-12-12T14:41:53.620Z"
   },
   {
    "duration": 12,
    "start_time": "2021-12-12T14:41:53.626Z"
   },
   {
    "duration": 28,
    "start_time": "2021-12-12T14:41:53.639Z"
   },
   {
    "duration": 7,
    "start_time": "2021-12-12T14:41:53.669Z"
   },
   {
    "duration": 188,
    "start_time": "2021-12-12T14:41:53.677Z"
   },
   {
    "duration": 5,
    "start_time": "2021-12-12T14:41:53.866Z"
   },
   {
    "duration": 11,
    "start_time": "2021-12-12T14:41:53.873Z"
   },
   {
    "duration": 8,
    "start_time": "2021-12-12T14:41:53.885Z"
   },
   {
    "duration": 8,
    "start_time": "2021-12-12T14:41:53.895Z"
   },
   {
    "duration": 15,
    "start_time": "2021-12-12T14:41:53.904Z"
   },
   {
    "duration": 65,
    "start_time": "2021-12-12T14:41:53.920Z"
   },
   {
    "duration": 663,
    "start_time": "2021-12-12T14:41:53.987Z"
   },
   {
    "duration": 16,
    "start_time": "2021-12-12T14:41:54.652Z"
   },
   {
    "duration": 8,
    "start_time": "2021-12-12T14:41:54.670Z"
   },
   {
    "duration": 6,
    "start_time": "2021-12-12T14:41:54.679Z"
   },
   {
    "duration": 3573,
    "start_time": "2021-12-12T14:43:54.449Z"
   },
   {
    "duration": 3,
    "start_time": "2021-12-12T14:49:19.163Z"
   },
   {
    "duration": 53,
    "start_time": "2021-12-12T14:49:19.168Z"
   },
   {
    "duration": 21,
    "start_time": "2021-12-12T14:49:19.224Z"
   },
   {
    "duration": 25,
    "start_time": "2021-12-12T14:49:19.247Z"
   },
   {
    "duration": 8,
    "start_time": "2021-12-12T14:49:19.274Z"
   },
   {
    "duration": 11,
    "start_time": "2021-12-12T14:49:19.284Z"
   },
   {
    "duration": 31,
    "start_time": "2021-12-12T14:49:19.296Z"
   },
   {
    "duration": 37,
    "start_time": "2021-12-12T14:49:19.330Z"
   },
   {
    "duration": 9,
    "start_time": "2021-12-12T14:49:19.370Z"
   },
   {
    "duration": 9,
    "start_time": "2021-12-12T14:49:19.381Z"
   },
   {
    "duration": 231,
    "start_time": "2021-12-12T14:49:19.392Z"
   },
   {
    "duration": 23,
    "start_time": "2021-12-12T14:49:19.625Z"
   },
   {
    "duration": 32,
    "start_time": "2021-12-12T14:49:19.649Z"
   },
   {
    "duration": 28,
    "start_time": "2021-12-12T14:49:19.683Z"
   },
   {
    "duration": 57,
    "start_time": "2021-12-12T14:49:19.712Z"
   },
   {
    "duration": 23,
    "start_time": "2021-12-12T14:49:19.771Z"
   },
   {
    "duration": 4,
    "start_time": "2021-12-12T14:49:19.795Z"
   },
   {
    "duration": 29,
    "start_time": "2021-12-12T14:49:19.801Z"
   },
   {
    "duration": 60,
    "start_time": "2021-12-12T14:49:19.832Z"
   },
   {
    "duration": 22,
    "start_time": "2021-12-12T14:49:19.894Z"
   },
   {
    "duration": 626,
    "start_time": "2021-12-12T14:49:19.917Z"
   },
   {
    "duration": 8,
    "start_time": "2021-12-12T14:49:20.545Z"
   },
   {
    "duration": 8,
    "start_time": "2021-12-12T14:49:20.566Z"
   },
   {
    "duration": 311,
    "start_time": "2021-12-12T14:49:20.577Z"
   },
   {
    "duration": 5,
    "start_time": "2021-12-12T14:49:20.890Z"
   },
   {
    "duration": 8,
    "start_time": "2021-12-12T14:49:20.896Z"
   },
   {
    "duration": 19,
    "start_time": "2021-12-12T14:49:20.906Z"
   },
   {
    "duration": 35,
    "start_time": "2021-12-12T14:49:20.928Z"
   },
   {
    "duration": 169,
    "start_time": "2021-12-12T14:49:20.966Z"
   },
   {
    "duration": 37,
    "start_time": "2021-12-12T14:49:21.137Z"
   },
   {
    "duration": 4,
    "start_time": "2021-12-12T14:49:21.175Z"
   },
   {
    "duration": 16,
    "start_time": "2021-12-12T14:49:21.181Z"
   },
   {
    "duration": 23,
    "start_time": "2021-12-12T14:49:21.198Z"
   },
   {
    "duration": 9,
    "start_time": "2021-12-12T14:49:21.222Z"
   },
   {
    "duration": 10,
    "start_time": "2021-12-12T14:49:21.263Z"
   },
   {
    "duration": 15,
    "start_time": "2021-12-12T14:49:21.275Z"
   },
   {
    "duration": 11,
    "start_time": "2021-12-12T14:49:21.291Z"
   },
   {
    "duration": 20,
    "start_time": "2021-12-12T14:49:21.303Z"
   },
   {
    "duration": 5,
    "start_time": "2021-12-12T14:49:21.324Z"
   },
   {
    "duration": 185,
    "start_time": "2021-12-12T14:49:21.331Z"
   },
   {
    "duration": 8,
    "start_time": "2021-12-12T14:49:21.517Z"
   },
   {
    "duration": 197,
    "start_time": "2021-12-12T14:49:21.527Z"
   },
   {
    "duration": 12,
    "start_time": "2021-12-12T14:49:21.726Z"
   },
   {
    "duration": 24,
    "start_time": "2021-12-12T14:49:21.740Z"
   },
   {
    "duration": 22,
    "start_time": "2021-12-12T14:49:21.767Z"
   },
   {
    "duration": 19,
    "start_time": "2021-12-12T14:49:21.791Z"
   },
   {
    "duration": 9,
    "start_time": "2021-12-12T14:49:21.811Z"
   },
   {
    "duration": 42,
    "start_time": "2021-12-12T14:49:21.821Z"
   },
   {
    "duration": 19,
    "start_time": "2021-12-12T14:49:21.865Z"
   },
   {
    "duration": 10,
    "start_time": "2021-12-12T14:49:21.886Z"
   },
   {
    "duration": 19,
    "start_time": "2021-12-12T14:49:21.897Z"
   },
   {
    "duration": 11,
    "start_time": "2021-12-12T14:49:21.918Z"
   },
   {
    "duration": 34,
    "start_time": "2021-12-12T14:49:21.930Z"
   },
   {
    "duration": 7,
    "start_time": "2021-12-12T14:49:21.966Z"
   },
   {
    "duration": 472,
    "start_time": "2021-12-12T14:49:21.975Z"
   },
   {
    "duration": 446,
    "start_time": "2021-12-12T14:49:22.449Z"
   },
   {
    "duration": 468,
    "start_time": "2021-12-12T14:49:22.897Z"
   },
   {
    "duration": 446,
    "start_time": "2021-12-12T14:49:23.366Z"
   },
   {
    "duration": 458,
    "start_time": "2021-12-12T14:49:23.814Z"
   },
   {
    "duration": 8,
    "start_time": "2021-12-12T14:49:24.274Z"
   },
   {
    "duration": 29,
    "start_time": "2021-12-12T14:49:24.283Z"
   },
   {
    "duration": 6,
    "start_time": "2021-12-12T14:49:24.314Z"
   },
   {
    "duration": 11,
    "start_time": "2021-12-12T14:49:24.321Z"
   },
   {
    "duration": 22,
    "start_time": "2021-12-12T14:49:24.363Z"
   },
   {
    "duration": 8,
    "start_time": "2021-12-12T14:49:24.387Z"
   },
   {
    "duration": 9,
    "start_time": "2021-12-12T14:49:24.396Z"
   },
   {
    "duration": 21,
    "start_time": "2021-12-12T14:49:24.407Z"
   },
   {
    "duration": 12,
    "start_time": "2021-12-12T14:49:24.463Z"
   },
   {
    "duration": 448,
    "start_time": "2021-12-12T14:49:24.477Z"
   },
   {
    "duration": 20,
    "start_time": "2021-12-12T14:49:24.927Z"
   },
   {
    "duration": 18,
    "start_time": "2021-12-12T14:49:24.948Z"
   },
   {
    "duration": 185,
    "start_time": "2021-12-12T14:49:24.968Z"
   },
   {
    "duration": 444,
    "start_time": "2021-12-12T14:49:25.155Z"
   },
   {
    "duration": 185,
    "start_time": "2021-12-12T14:49:25.601Z"
   },
   {
    "duration": 16,
    "start_time": "2021-12-12T14:49:25.788Z"
   },
   {
    "duration": 18,
    "start_time": "2021-12-12T14:49:25.805Z"
   },
   {
    "duration": 8,
    "start_time": "2021-12-12T14:49:25.825Z"
   },
   {
    "duration": 474,
    "start_time": "2021-12-12T14:49:25.835Z"
   },
   {
    "duration": 6,
    "start_time": "2021-12-12T14:49:26.311Z"
   },
   {
    "duration": 8,
    "start_time": "2021-12-12T14:49:26.318Z"
   },
   {
    "duration": 8,
    "start_time": "2021-12-12T14:49:26.327Z"
   },
   {
    "duration": 31,
    "start_time": "2021-12-12T14:49:26.337Z"
   },
   {
    "duration": 6,
    "start_time": "2021-12-12T14:49:26.370Z"
   },
   {
    "duration": 8,
    "start_time": "2021-12-12T14:49:26.378Z"
   },
   {
    "duration": 282,
    "start_time": "2021-12-12T14:49:26.387Z"
   },
   {
    "duration": 6,
    "start_time": "2021-12-12T14:49:26.671Z"
   },
   {
    "duration": 12,
    "start_time": "2021-12-12T14:49:26.678Z"
   },
   {
    "duration": 9,
    "start_time": "2021-12-12T14:49:26.691Z"
   },
   {
    "duration": 8,
    "start_time": "2021-12-12T14:49:26.701Z"
   },
   {
    "duration": 15,
    "start_time": "2021-12-12T14:49:26.711Z"
   },
   {
    "duration": 59,
    "start_time": "2021-12-12T14:49:26.728Z"
   },
   {
    "duration": 702,
    "start_time": "2021-12-12T14:49:26.789Z"
   },
   {
    "duration": 10,
    "start_time": "2021-12-12T14:49:27.493Z"
   },
   {
    "duration": 12,
    "start_time": "2021-12-12T14:49:27.504Z"
   },
   {
    "duration": 6,
    "start_time": "2021-12-12T14:49:27.517Z"
   },
   {
    "duration": 121131,
    "start_time": "2021-12-12T14:49:27.525Z"
   },
   {
    "duration": 3509,
    "start_time": "2021-12-12T14:51:28.658Z"
   },
   {
    "duration": 8,
    "start_time": "2021-12-12T14:51:32.169Z"
   },
   {
    "duration": 8,
    "start_time": "2021-12-12T14:51:32.178Z"
   },
   {
    "duration": 8,
    "start_time": "2021-12-12T14:51:32.187Z"
   },
   {
    "duration": 8,
    "start_time": "2021-12-12T14:51:32.196Z"
   },
   {
    "duration": 7,
    "start_time": "2021-12-12T14:51:32.206Z"
   },
   {
    "duration": 7,
    "start_time": "2021-12-12T14:51:32.214Z"
   },
   {
    "duration": 44,
    "start_time": "2021-12-12T14:51:32.222Z"
   },
   {
    "duration": 7,
    "start_time": "2021-12-12T14:51:32.268Z"
   },
   {
    "duration": 24,
    "start_time": "2021-12-12T14:51:32.276Z"
   },
   {
    "duration": 16,
    "start_time": "2021-12-12T14:51:32.302Z"
   },
   {
    "duration": 201,
    "start_time": "2021-12-12T14:51:32.320Z"
   },
   {
    "duration": 8,
    "start_time": "2021-12-12T14:51:32.522Z"
   },
   {
    "duration": 325,
    "start_time": "2021-12-12T14:51:32.531Z"
   },
   {
    "duration": 31,
    "start_time": "2021-12-12T14:51:32.858Z"
   },
   {
    "duration": 7,
    "start_time": "2021-12-12T14:51:32.891Z"
   },
   {
    "duration": 20,
    "start_time": "2021-12-12T14:51:32.899Z"
   },
   {
    "duration": 17,
    "start_time": "2021-12-12T14:51:32.921Z"
   },
   {
    "duration": 15,
    "start_time": "2021-12-12T14:51:32.939Z"
   },
   {
    "duration": 13,
    "start_time": "2021-12-12T14:51:32.955Z"
   },
   {
    "duration": 23,
    "start_time": "2021-12-12T14:51:32.970Z"
   },
   {
    "duration": 19,
    "start_time": "2021-12-12T14:51:32.995Z"
   },
   {
    "duration": 12,
    "start_time": "2021-12-12T14:51:33.015Z"
   },
   {
    "duration": 19,
    "start_time": "2021-12-12T14:51:33.029Z"
   },
   {
    "duration": 9,
    "start_time": "2021-12-12T14:51:33.050Z"
   },
   {
    "duration": 5847,
    "start_time": "2021-12-12T14:51:33.061Z"
   },
   {
    "duration": -387,
    "start_time": "2021-12-12T14:51:39.296Z"
   },
   {
    "duration": -395,
    "start_time": "2021-12-12T14:51:39.305Z"
   },
   {
    "duration": 19,
    "start_time": "2021-12-12T14:54:46.722Z"
   },
   {
    "duration": 18,
    "start_time": "2021-12-12T14:54:50.030Z"
   },
   {
    "duration": 3,
    "start_time": "2021-12-12T14:55:03.339Z"
   },
   {
    "duration": 19,
    "start_time": "2021-12-12T14:55:05.308Z"
   },
   {
    "duration": 12,
    "start_time": "2021-12-12T14:57:31.568Z"
   },
   {
    "duration": 8,
    "start_time": "2021-12-12T14:58:14.031Z"
   },
   {
    "duration": 11,
    "start_time": "2021-12-12T14:58:16.108Z"
   },
   {
    "duration": 9,
    "start_time": "2021-12-12T14:59:19.680Z"
   },
   {
    "duration": 10,
    "start_time": "2021-12-12T14:59:21.204Z"
   },
   {
    "duration": 12,
    "start_time": "2021-12-12T14:59:24.448Z"
   },
   {
    "duration": 18,
    "start_time": "2021-12-12T14:59:35.123Z"
   },
   {
    "duration": 32,
    "start_time": "2021-12-12T14:59:47.547Z"
   },
   {
    "duration": 666,
    "start_time": "2021-12-12T14:59:51.200Z"
   },
   {
    "duration": 24,
    "start_time": "2021-12-12T15:02:33.361Z"
   },
   {
    "duration": 15,
    "start_time": "2021-12-12T15:02:46.488Z"
   },
   {
    "duration": 187,
    "start_time": "2021-12-12T15:02:55.020Z"
   },
   {
    "duration": 9,
    "start_time": "2021-12-12T15:04:02.435Z"
   },
   {
    "duration": 6,
    "start_time": "2021-12-12T15:04:09.868Z"
   },
   {
    "duration": 79,
    "start_time": "2021-12-12T15:08:27.927Z"
   },
   {
    "duration": 237,
    "start_time": "2021-12-12T15:09:31.428Z"
   },
   {
    "duration": 7,
    "start_time": "2021-12-12T15:09:40.767Z"
   },
   {
    "duration": 7,
    "start_time": "2021-12-12T15:09:46.955Z"
   },
   {
    "duration": 275,
    "start_time": "2021-12-12T15:10:27.165Z"
   },
   {
    "duration": 248,
    "start_time": "2021-12-12T15:11:14.267Z"
   },
   {
    "duration": 343,
    "start_time": "2021-12-12T15:11:41.155Z"
   },
   {
    "duration": 235,
    "start_time": "2021-12-12T15:11:54.482Z"
   },
   {
    "duration": 12,
    "start_time": "2021-12-12T15:12:53.919Z"
   },
   {
    "duration": 6,
    "start_time": "2021-12-12T15:13:29.392Z"
   },
   {
    "duration": 9,
    "start_time": "2021-12-12T15:15:38.919Z"
   },
   {
    "duration": 9,
    "start_time": "2021-12-12T15:15:55.649Z"
   },
   {
    "duration": 9,
    "start_time": "2021-12-12T15:16:48.562Z"
   },
   {
    "duration": 7,
    "start_time": "2021-12-12T15:16:51.841Z"
   },
   {
    "duration": 29,
    "start_time": "2021-12-12T15:21:03.622Z"
   },
   {
    "duration": 107,
    "start_time": "2021-12-12T15:31:38.179Z"
   },
   {
    "duration": 3,
    "start_time": "2021-12-12T15:32:42.227Z"
   },
   {
    "duration": 64,
    "start_time": "2021-12-12T15:32:42.232Z"
   },
   {
    "duration": 20,
    "start_time": "2021-12-12T15:32:42.298Z"
   },
   {
    "duration": 19,
    "start_time": "2021-12-12T15:32:42.319Z"
   },
   {
    "duration": 27,
    "start_time": "2021-12-12T15:32:42.340Z"
   },
   {
    "duration": 10,
    "start_time": "2021-12-12T15:32:42.369Z"
   },
   {
    "duration": 28,
    "start_time": "2021-12-12T15:32:42.382Z"
   },
   {
    "duration": 6,
    "start_time": "2021-12-12T15:32:42.413Z"
   },
   {
    "duration": 9,
    "start_time": "2021-12-12T15:32:42.420Z"
   },
   {
    "duration": 40,
    "start_time": "2021-12-12T15:32:42.430Z"
   },
   {
    "duration": 218,
    "start_time": "2021-12-12T15:32:42.472Z"
   },
   {
    "duration": 25,
    "start_time": "2021-12-12T15:32:42.692Z"
   },
   {
    "duration": 23,
    "start_time": "2021-12-12T15:32:42.718Z"
   },
   {
    "duration": 29,
    "start_time": "2021-12-12T15:32:42.764Z"
   },
   {
    "duration": 24,
    "start_time": "2021-12-12T15:32:42.795Z"
   },
   {
    "duration": 58,
    "start_time": "2021-12-12T15:32:42.821Z"
   },
   {
    "duration": 3,
    "start_time": "2021-12-12T15:32:42.881Z"
   },
   {
    "duration": 30,
    "start_time": "2021-12-12T15:32:42.886Z"
   },
   {
    "duration": 61,
    "start_time": "2021-12-12T15:32:42.919Z"
   },
   {
    "duration": 22,
    "start_time": "2021-12-12T15:32:42.983Z"
   },
   {
    "duration": 657,
    "start_time": "2021-12-12T15:32:43.007Z"
   },
   {
    "duration": 8,
    "start_time": "2021-12-12T15:32:43.666Z"
   },
   {
    "duration": 7,
    "start_time": "2021-12-12T15:32:43.676Z"
   },
   {
    "duration": 196,
    "start_time": "2021-12-12T15:32:43.685Z"
   },
   {
    "duration": 5,
    "start_time": "2021-12-12T15:32:43.882Z"
   },
   {
    "duration": 6,
    "start_time": "2021-12-12T15:32:43.889Z"
   },
   {
    "duration": 20,
    "start_time": "2021-12-12T15:32:43.897Z"
   },
   {
    "duration": 6,
    "start_time": "2021-12-12T15:32:43.918Z"
   },
   {
    "duration": 175,
    "start_time": "2021-12-12T15:32:43.926Z"
   },
   {
    "duration": 25,
    "start_time": "2021-12-12T15:32:44.103Z"
   },
   {
    "duration": 4,
    "start_time": "2021-12-12T15:32:44.130Z"
   },
   {
    "duration": 37,
    "start_time": "2021-12-12T15:32:44.135Z"
   },
   {
    "duration": 25,
    "start_time": "2021-12-12T15:32:44.174Z"
   },
   {
    "duration": 10,
    "start_time": "2021-12-12T15:32:44.201Z"
   },
   {
    "duration": 8,
    "start_time": "2021-12-12T15:32:44.213Z"
   },
   {
    "duration": 43,
    "start_time": "2021-12-12T15:32:44.222Z"
   },
   {
    "duration": 16,
    "start_time": "2021-12-12T15:32:44.267Z"
   },
   {
    "duration": 31,
    "start_time": "2021-12-12T15:32:44.285Z"
   },
   {
    "duration": 6,
    "start_time": "2021-12-12T15:32:44.319Z"
   },
   {
    "duration": 219,
    "start_time": "2021-12-12T15:32:44.327Z"
   },
   {
    "duration": 16,
    "start_time": "2021-12-12T15:32:44.548Z"
   },
   {
    "duration": 194,
    "start_time": "2021-12-12T15:32:44.566Z"
   },
   {
    "duration": 10,
    "start_time": "2021-12-12T15:32:44.763Z"
   },
   {
    "duration": 13,
    "start_time": "2021-12-12T15:32:44.774Z"
   },
   {
    "duration": 17,
    "start_time": "2021-12-12T15:32:44.788Z"
   },
   {
    "duration": 19,
    "start_time": "2021-12-12T15:32:44.807Z"
   },
   {
    "duration": 7,
    "start_time": "2021-12-12T15:32:44.827Z"
   },
   {
    "duration": 32,
    "start_time": "2021-12-12T15:32:44.836Z"
   },
   {
    "duration": 21,
    "start_time": "2021-12-12T15:32:44.869Z"
   },
   {
    "duration": 10,
    "start_time": "2021-12-12T15:32:44.891Z"
   },
   {
    "duration": 18,
    "start_time": "2021-12-12T15:32:44.902Z"
   },
   {
    "duration": 6,
    "start_time": "2021-12-12T15:32:44.922Z"
   },
   {
    "duration": 3,
    "start_time": "2021-12-12T15:32:44.930Z"
   },
   {
    "duration": 8,
    "start_time": "2021-12-12T15:32:44.964Z"
   },
   {
    "duration": 458,
    "start_time": "2021-12-12T15:32:44.978Z"
   },
   {
    "duration": 470,
    "start_time": "2021-12-12T15:32:45.439Z"
   },
   {
    "duration": 493,
    "start_time": "2021-12-12T15:32:45.911Z"
   },
   {
    "duration": 499,
    "start_time": "2021-12-12T15:32:46.406Z"
   },
   {
    "duration": 478,
    "start_time": "2021-12-12T15:32:46.907Z"
   },
   {
    "duration": 8,
    "start_time": "2021-12-12T15:32:47.387Z"
   },
   {
    "duration": 27,
    "start_time": "2021-12-12T15:32:47.397Z"
   },
   {
    "duration": 4,
    "start_time": "2021-12-12T15:32:47.426Z"
   },
   {
    "duration": 36,
    "start_time": "2021-12-12T15:32:47.431Z"
   },
   {
    "duration": 22,
    "start_time": "2021-12-12T15:32:47.469Z"
   },
   {
    "duration": 7,
    "start_time": "2021-12-12T15:32:47.493Z"
   },
   {
    "duration": 9,
    "start_time": "2021-12-12T15:32:47.502Z"
   },
   {
    "duration": 21,
    "start_time": "2021-12-12T15:32:47.513Z"
   },
   {
    "duration": 10,
    "start_time": "2021-12-12T15:32:47.564Z"
   },
   {
    "duration": 440,
    "start_time": "2021-12-12T15:32:47.576Z"
   },
   {
    "duration": 19,
    "start_time": "2021-12-12T15:32:48.017Z"
   },
   {
    "duration": 5,
    "start_time": "2021-12-12T15:32:48.038Z"
   },
   {
    "duration": 188,
    "start_time": "2021-12-12T15:32:48.044Z"
   },
   {
    "duration": 460,
    "start_time": "2021-12-12T15:32:48.233Z"
   },
   {
    "duration": 179,
    "start_time": "2021-12-12T15:32:48.695Z"
   },
   {
    "duration": 17,
    "start_time": "2021-12-12T15:32:48.877Z"
   },
   {
    "duration": 19,
    "start_time": "2021-12-12T15:32:48.896Z"
   },
   {
    "duration": 7,
    "start_time": "2021-12-12T15:32:48.917Z"
   },
   {
    "duration": 465,
    "start_time": "2021-12-12T15:32:48.926Z"
   },
   {
    "duration": 6,
    "start_time": "2021-12-12T15:32:49.392Z"
   },
   {
    "duration": 8,
    "start_time": "2021-12-12T15:32:49.399Z"
   },
   {
    "duration": 6,
    "start_time": "2021-12-12T15:32:49.408Z"
   },
   {
    "duration": 12,
    "start_time": "2021-12-12T15:32:49.415Z"
   },
   {
    "duration": 35,
    "start_time": "2021-12-12T15:32:49.429Z"
   },
   {
    "duration": 13,
    "start_time": "2021-12-12T15:32:49.466Z"
   },
   {
    "duration": 175,
    "start_time": "2021-12-12T15:32:49.481Z"
   },
   {
    "duration": 7,
    "start_time": "2021-12-12T15:32:49.658Z"
   },
   {
    "duration": 10,
    "start_time": "2021-12-12T15:32:49.667Z"
   },
   {
    "duration": 7,
    "start_time": "2021-12-12T15:32:49.679Z"
   },
   {
    "duration": 9,
    "start_time": "2021-12-12T15:32:49.687Z"
   },
   {
    "duration": 8,
    "start_time": "2021-12-12T15:32:49.698Z"
   },
   {
    "duration": 15,
    "start_time": "2021-12-12T15:32:49.708Z"
   },
   {
    "duration": 65,
    "start_time": "2021-12-12T15:32:49.725Z"
   },
   {
    "duration": 687,
    "start_time": "2021-12-12T15:32:49.792Z"
   },
   {
    "duration": 11,
    "start_time": "2021-12-12T15:32:50.482Z"
   },
   {
    "duration": 5,
    "start_time": "2021-12-12T15:32:50.495Z"
   },
   {
    "duration": 5,
    "start_time": "2021-12-12T15:32:50.502Z"
   },
   {
    "duration": 121321,
    "start_time": "2021-12-12T15:32:50.509Z"
   },
   {
    "duration": 3588,
    "start_time": "2021-12-12T15:34:51.832Z"
   },
   {
    "duration": 8,
    "start_time": "2021-12-12T15:34:55.422Z"
   },
   {
    "duration": 6,
    "start_time": "2021-12-12T15:34:55.432Z"
   },
   {
    "duration": 28,
    "start_time": "2021-12-12T15:34:55.440Z"
   },
   {
    "duration": 8,
    "start_time": "2021-12-12T15:34:55.470Z"
   },
   {
    "duration": 7,
    "start_time": "2021-12-12T15:34:55.480Z"
   },
   {
    "duration": 6,
    "start_time": "2021-12-12T15:34:55.488Z"
   },
   {
    "duration": 4,
    "start_time": "2021-12-12T15:34:55.496Z"
   },
   {
    "duration": 17,
    "start_time": "2021-12-12T15:34:55.502Z"
   },
   {
    "duration": 2,
    "start_time": "2021-12-12T15:34:55.521Z"
   },
   {
    "duration": 51,
    "start_time": "2021-12-12T15:34:55.524Z"
   },
   {
    "duration": 12,
    "start_time": "2021-12-12T15:34:55.577Z"
   },
   {
    "duration": 366,
    "start_time": "2021-12-12T15:34:55.591Z"
   },
   {
    "duration": 8,
    "start_time": "2021-12-12T15:34:55.963Z"
   },
   {
    "duration": 178,
    "start_time": "2021-12-12T15:34:55.972Z"
   },
   {
    "duration": 39,
    "start_time": "2021-12-12T15:34:56.152Z"
   },
   {
    "duration": 7,
    "start_time": "2021-12-12T15:34:56.193Z"
   },
   {
    "duration": 7,
    "start_time": "2021-12-12T15:34:56.201Z"
   },
   {
    "duration": 6,
    "start_time": "2021-12-12T15:34:56.210Z"
   },
   {
    "duration": 6,
    "start_time": "2021-12-12T15:34:56.217Z"
   },
   {
    "duration": 5,
    "start_time": "2021-12-12T15:34:56.225Z"
   },
   {
    "duration": 37,
    "start_time": "2021-12-12T15:34:56.232Z"
   },
   {
    "duration": 5,
    "start_time": "2021-12-12T15:34:56.271Z"
   },
   {
    "duration": 6,
    "start_time": "2021-12-12T15:34:56.277Z"
   },
   {
    "duration": 10,
    "start_time": "2021-12-12T15:34:56.284Z"
   },
   {
    "duration": 7,
    "start_time": "2021-12-12T15:34:56.295Z"
   },
   {
    "duration": 5904,
    "start_time": "2021-12-12T15:34:56.303Z"
   },
   {
    "duration": -425,
    "start_time": "2021-12-12T15:35:02.634Z"
   },
   {
    "duration": -432,
    "start_time": "2021-12-12T15:35:02.642Z"
   },
   {
    "duration": 8,
    "start_time": "2021-12-12T15:42:02.540Z"
   },
   {
    "duration": 13,
    "start_time": "2021-12-12T15:42:05.575Z"
   },
   {
    "duration": 2,
    "start_time": "2021-12-12T15:44:39.595Z"
   },
   {
    "duration": 70,
    "start_time": "2021-12-12T15:44:39.600Z"
   },
   {
    "duration": 33,
    "start_time": "2021-12-12T15:44:39.673Z"
   },
   {
    "duration": 16,
    "start_time": "2021-12-12T15:44:39.709Z"
   },
   {
    "duration": 13,
    "start_time": "2021-12-12T15:44:39.727Z"
   },
   {
    "duration": 16,
    "start_time": "2021-12-12T15:44:39.764Z"
   },
   {
    "duration": 46,
    "start_time": "2021-12-12T15:44:39.782Z"
   },
   {
    "duration": 32,
    "start_time": "2021-12-12T15:44:39.832Z"
   },
   {
    "duration": 11,
    "start_time": "2021-12-12T15:44:39.867Z"
   },
   {
    "duration": 10,
    "start_time": "2021-12-12T15:44:39.880Z"
   },
   {
    "duration": 333,
    "start_time": "2021-12-12T15:44:39.892Z"
   },
   {
    "duration": 44,
    "start_time": "2021-12-12T15:44:40.228Z"
   },
   {
    "duration": 38,
    "start_time": "2021-12-12T15:44:40.274Z"
   },
   {
    "duration": 59,
    "start_time": "2021-12-12T15:44:40.314Z"
   },
   {
    "duration": 37,
    "start_time": "2021-12-12T15:44:40.375Z"
   },
   {
    "duration": 57,
    "start_time": "2021-12-12T15:44:40.414Z"
   },
   {
    "duration": 4,
    "start_time": "2021-12-12T15:44:40.474Z"
   },
   {
    "duration": 46,
    "start_time": "2021-12-12T15:44:40.480Z"
   },
   {
    "duration": 67,
    "start_time": "2021-12-12T15:44:40.528Z"
   },
   {
    "duration": 35,
    "start_time": "2021-12-12T15:44:40.598Z"
   },
   {
    "duration": 792,
    "start_time": "2021-12-12T15:44:40.635Z"
   },
   {
    "duration": 9,
    "start_time": "2021-12-12T15:44:41.429Z"
   },
   {
    "duration": 21,
    "start_time": "2021-12-12T15:44:41.443Z"
   },
   {
    "duration": 284,
    "start_time": "2021-12-12T15:44:41.468Z"
   },
   {
    "duration": 10,
    "start_time": "2021-12-12T15:44:41.754Z"
   },
   {
    "duration": 5,
    "start_time": "2021-12-12T15:44:41.766Z"
   },
   {
    "duration": 15,
    "start_time": "2021-12-12T15:44:41.772Z"
   },
   {
    "duration": 6,
    "start_time": "2021-12-12T15:44:41.788Z"
   },
   {
    "duration": 182,
    "start_time": "2021-12-12T15:44:41.795Z"
   },
   {
    "duration": 25,
    "start_time": "2021-12-12T15:44:41.979Z"
   },
   {
    "duration": 4,
    "start_time": "2021-12-12T15:44:42.005Z"
   },
   {
    "duration": 13,
    "start_time": "2021-12-12T15:44:42.011Z"
   },
   {
    "duration": 55,
    "start_time": "2021-12-12T15:44:42.025Z"
   },
   {
    "duration": 9,
    "start_time": "2021-12-12T15:44:42.081Z"
   },
   {
    "duration": 8,
    "start_time": "2021-12-12T15:44:42.092Z"
   },
   {
    "duration": 11,
    "start_time": "2021-12-12T15:44:42.102Z"
   },
   {
    "duration": 10,
    "start_time": "2021-12-12T15:44:42.115Z"
   },
   {
    "duration": 48,
    "start_time": "2021-12-12T15:44:42.127Z"
   },
   {
    "duration": 7,
    "start_time": "2021-12-12T15:44:42.178Z"
   },
   {
    "duration": 171,
    "start_time": "2021-12-12T15:44:42.187Z"
   },
   {
    "duration": 8,
    "start_time": "2021-12-12T15:44:42.360Z"
   },
   {
    "duration": 199,
    "start_time": "2021-12-12T15:44:42.370Z"
   },
   {
    "duration": 11,
    "start_time": "2021-12-12T15:44:42.571Z"
   },
   {
    "duration": 14,
    "start_time": "2021-12-12T15:44:42.584Z"
   },
   {
    "duration": 18,
    "start_time": "2021-12-12T15:44:42.599Z"
   },
   {
    "duration": 16,
    "start_time": "2021-12-12T15:44:42.619Z"
   },
   {
    "duration": 33,
    "start_time": "2021-12-12T15:44:42.636Z"
   },
   {
    "duration": 6,
    "start_time": "2021-12-12T15:44:42.671Z"
   },
   {
    "duration": 19,
    "start_time": "2021-12-12T15:44:42.679Z"
   },
   {
    "duration": 12,
    "start_time": "2021-12-12T15:44:42.700Z"
   },
   {
    "duration": 50,
    "start_time": "2021-12-12T15:44:42.714Z"
   },
   {
    "duration": 6,
    "start_time": "2021-12-12T15:44:42.766Z"
   },
   {
    "duration": 4,
    "start_time": "2021-12-12T15:44:42.774Z"
   },
   {
    "duration": 9,
    "start_time": "2021-12-12T15:44:42.779Z"
   },
   {
    "duration": 523,
    "start_time": "2021-12-12T15:44:42.790Z"
   },
   {
    "duration": 502,
    "start_time": "2021-12-12T15:44:43.315Z"
   },
   {
    "duration": 500,
    "start_time": "2021-12-12T15:44:43.818Z"
   },
   {
    "duration": 469,
    "start_time": "2021-12-12T15:44:44.320Z"
   },
   {
    "duration": 436,
    "start_time": "2021-12-12T15:44:44.791Z"
   },
   {
    "duration": 10,
    "start_time": "2021-12-12T15:44:45.229Z"
   },
   {
    "duration": 42,
    "start_time": "2021-12-12T15:44:45.241Z"
   },
   {
    "duration": 6,
    "start_time": "2021-12-12T15:44:45.285Z"
   },
   {
    "duration": 11,
    "start_time": "2021-12-12T15:44:45.293Z"
   },
   {
    "duration": 22,
    "start_time": "2021-12-12T15:44:45.306Z"
   },
   {
    "duration": 37,
    "start_time": "2021-12-12T15:44:45.331Z"
   },
   {
    "duration": 9,
    "start_time": "2021-12-12T15:44:45.370Z"
   },
   {
    "duration": 24,
    "start_time": "2021-12-12T15:44:45.381Z"
   },
   {
    "duration": 10,
    "start_time": "2021-12-12T15:44:45.410Z"
   },
   {
    "duration": 466,
    "start_time": "2021-12-12T15:44:45.423Z"
   },
   {
    "duration": 23,
    "start_time": "2021-12-12T15:44:45.891Z"
   },
   {
    "duration": 5,
    "start_time": "2021-12-12T15:44:45.916Z"
   },
   {
    "duration": 192,
    "start_time": "2021-12-12T15:44:45.923Z"
   },
   {
    "duration": 491,
    "start_time": "2021-12-12T15:44:46.116Z"
   },
   {
    "duration": 179,
    "start_time": "2021-12-12T15:44:46.609Z"
   },
   {
    "duration": 17,
    "start_time": "2021-12-12T15:44:46.789Z"
   },
   {
    "duration": 16,
    "start_time": "2021-12-12T15:44:46.807Z"
   },
   {
    "duration": 6,
    "start_time": "2021-12-12T15:44:46.824Z"
   },
   {
    "duration": 484,
    "start_time": "2021-12-12T15:44:46.832Z"
   },
   {
    "duration": 6,
    "start_time": "2021-12-12T15:44:47.318Z"
   },
   {
    "duration": 8,
    "start_time": "2021-12-12T15:44:47.326Z"
   },
   {
    "duration": 7,
    "start_time": "2021-12-12T15:44:47.336Z"
   },
   {
    "duration": 11,
    "start_time": "2021-12-12T15:44:47.363Z"
   },
   {
    "duration": 8,
    "start_time": "2021-12-12T15:44:47.376Z"
   },
   {
    "duration": 8,
    "start_time": "2021-12-12T15:44:47.386Z"
   },
   {
    "duration": 178,
    "start_time": "2021-12-12T15:44:47.395Z"
   },
   {
    "duration": 6,
    "start_time": "2021-12-12T15:44:47.575Z"
   },
   {
    "duration": 18,
    "start_time": "2021-12-12T15:44:47.583Z"
   },
   {
    "duration": 31,
    "start_time": "2021-12-12T15:44:47.603Z"
   },
   {
    "duration": 706,
    "start_time": "2021-12-12T15:44:47.636Z"
   },
   {
    "duration": 11,
    "start_time": "2021-12-12T15:44:48.344Z"
   },
   {
    "duration": 4,
    "start_time": "2021-12-12T15:44:48.363Z"
   },
   {
    "duration": 8,
    "start_time": "2021-12-12T15:44:48.369Z"
   },
   {
    "duration": 124072,
    "start_time": "2021-12-12T15:44:48.379Z"
   },
   {
    "duration": 3590,
    "start_time": "2021-12-12T15:46:52.452Z"
   },
   {
    "duration": 22,
    "start_time": "2021-12-12T15:46:56.043Z"
   },
   {
    "duration": 8,
    "start_time": "2021-12-12T15:46:56.067Z"
   },
   {
    "duration": 17,
    "start_time": "2021-12-12T15:46:56.077Z"
   },
   {
    "duration": 27,
    "start_time": "2021-12-12T15:46:56.095Z"
   },
   {
    "duration": 13,
    "start_time": "2021-12-12T15:46:56.124Z"
   },
   {
    "duration": 33,
    "start_time": "2021-12-12T15:46:56.139Z"
   },
   {
    "duration": 16,
    "start_time": "2021-12-12T15:46:56.174Z"
   },
   {
    "duration": 49,
    "start_time": "2021-12-12T15:46:56.192Z"
   },
   {
    "duration": 6,
    "start_time": "2021-12-12T15:46:56.243Z"
   },
   {
    "duration": 41,
    "start_time": "2021-12-12T15:46:56.251Z"
   },
   {
    "duration": 33,
    "start_time": "2021-12-12T15:46:56.294Z"
   },
   {
    "duration": 38,
    "start_time": "2021-12-12T15:46:56.329Z"
   },
   {
    "duration": 195,
    "start_time": "2021-12-12T15:46:56.368Z"
   },
   {
    "duration": 8,
    "start_time": "2021-12-12T15:46:56.565Z"
   },
   {
    "duration": 191,
    "start_time": "2021-12-12T15:46:56.574Z"
   },
   {
    "duration": 35,
    "start_time": "2021-12-12T15:46:56.766Z"
   },
   {
    "duration": 8,
    "start_time": "2021-12-12T15:46:56.802Z"
   },
   {
    "duration": 10,
    "start_time": "2021-12-12T15:46:56.811Z"
   },
   {
    "duration": 24,
    "start_time": "2021-12-12T15:46:56.823Z"
   },
   {
    "duration": 16,
    "start_time": "2021-12-12T15:46:56.849Z"
   },
   {
    "duration": 31,
    "start_time": "2021-12-12T15:46:56.867Z"
   },
   {
    "duration": 22,
    "start_time": "2021-12-12T15:46:56.900Z"
   },
   {
    "duration": 21,
    "start_time": "2021-12-12T15:46:56.924Z"
   },
   {
    "duration": 34,
    "start_time": "2021-12-12T15:46:56.946Z"
   },
   {
    "duration": 19,
    "start_time": "2021-12-12T15:46:56.982Z"
   },
   {
    "duration": 33,
    "start_time": "2021-12-12T15:46:57.003Z"
   },
   {
    "duration": 31,
    "start_time": "2021-12-12T15:46:57.038Z"
   },
   {
    "duration": 21,
    "start_time": "2021-12-12T15:46:57.071Z"
   },
   {
    "duration": 59,
    "start_time": "2021-12-12T15:46:57.094Z"
   },
   {
    "duration": 797,
    "start_time": "2021-12-13T07:31:58.447Z"
   },
   {
    "duration": 67,
    "start_time": "2021-12-13T07:31:59.781Z"
   },
   {
    "duration": 21,
    "start_time": "2021-12-13T07:32:25.508Z"
   },
   {
    "duration": 11,
    "start_time": "2021-12-13T07:39:07.431Z"
   },
   {
    "duration": 18,
    "start_time": "2021-12-13T07:39:09.241Z"
   },
   {
    "duration": 18,
    "start_time": "2021-12-13T07:39:29.129Z"
   },
   {
    "duration": 448,
    "start_time": "2021-12-13T07:39:39.091Z"
   },
   {
    "duration": 12,
    "start_time": "2021-12-13T07:39:44.348Z"
   },
   {
    "duration": 582,
    "start_time": "2021-12-13T10:13:16.583Z"
   },
   {
    "duration": 52,
    "start_time": "2021-12-13T10:13:17.167Z"
   },
   {
    "duration": 28,
    "start_time": "2021-12-13T10:13:17.222Z"
   },
   {
    "duration": 11,
    "start_time": "2021-12-13T10:13:17.252Z"
   },
   {
    "duration": 34,
    "start_time": "2021-12-13T10:13:17.264Z"
   },
   {
    "duration": 11,
    "start_time": "2021-12-13T10:13:17.300Z"
   },
   {
    "duration": 32,
    "start_time": "2021-12-13T10:13:17.312Z"
   },
   {
    "duration": 3,
    "start_time": "2021-12-13T10:13:17.347Z"
   },
   {
    "duration": 40,
    "start_time": "2021-12-13T10:13:17.352Z"
   },
   {
    "duration": 7,
    "start_time": "2021-12-13T10:13:17.394Z"
   },
   {
    "duration": 279,
    "start_time": "2021-12-13T10:13:17.403Z"
   },
   {
    "duration": 29,
    "start_time": "2021-12-13T10:13:17.683Z"
   },
   {
    "duration": 22,
    "start_time": "2021-12-13T10:13:17.714Z"
   },
   {
    "duration": 26,
    "start_time": "2021-12-13T10:13:17.737Z"
   },
   {
    "duration": 23,
    "start_time": "2021-12-13T10:13:17.792Z"
   },
   {
    "duration": 23,
    "start_time": "2021-12-13T10:13:17.816Z"
   },
   {
    "duration": 4,
    "start_time": "2021-12-13T10:13:17.840Z"
   },
   {
    "duration": 55,
    "start_time": "2021-12-13T10:13:17.845Z"
   },
   {
    "duration": 28,
    "start_time": "2021-12-13T10:13:17.902Z"
   },
   {
    "duration": 32,
    "start_time": "2021-12-13T10:13:17.931Z"
   },
   {
    "duration": 519,
    "start_time": "2021-12-13T10:13:17.965Z"
   },
   {
    "duration": 10,
    "start_time": "2021-12-13T10:13:18.490Z"
   },
   {
    "duration": 20,
    "start_time": "2021-12-13T10:13:18.504Z"
   },
   {
    "duration": 199,
    "start_time": "2021-12-13T10:13:18.528Z"
   },
   {
    "duration": 6,
    "start_time": "2021-12-13T10:13:18.729Z"
   },
   {
    "duration": 28,
    "start_time": "2021-12-13T10:13:18.737Z"
   },
   {
    "duration": 19,
    "start_time": "2021-12-13T10:13:18.767Z"
   },
   {
    "duration": 5,
    "start_time": "2021-12-13T10:13:18.788Z"
   },
   {
    "duration": 224,
    "start_time": "2021-12-13T10:13:18.794Z"
   },
   {
    "duration": 25,
    "start_time": "2021-12-13T10:13:19.020Z"
   },
   {
    "duration": 3,
    "start_time": "2021-12-13T10:13:19.047Z"
   },
   {
    "duration": 14,
    "start_time": "2021-12-13T10:13:19.052Z"
   },
   {
    "duration": 43,
    "start_time": "2021-12-13T10:13:19.068Z"
   },
   {
    "duration": 8,
    "start_time": "2021-12-13T10:13:19.113Z"
   },
   {
    "duration": 8,
    "start_time": "2021-12-13T10:13:19.122Z"
   },
   {
    "duration": 13,
    "start_time": "2021-12-13T10:13:19.131Z"
   },
   {
    "duration": 11,
    "start_time": "2021-12-13T10:13:19.146Z"
   },
   {
    "duration": 51,
    "start_time": "2021-12-13T10:13:19.159Z"
   },
   {
    "duration": 5,
    "start_time": "2021-12-13T10:13:19.212Z"
   },
   {
    "duration": 200,
    "start_time": "2021-12-13T10:13:19.219Z"
   },
   {
    "duration": 7,
    "start_time": "2021-12-13T10:13:19.421Z"
   },
   {
    "duration": 225,
    "start_time": "2021-12-13T10:13:19.430Z"
   },
   {
    "duration": 11,
    "start_time": "2021-12-13T10:13:19.657Z"
   },
   {
    "duration": 22,
    "start_time": "2021-12-13T10:13:19.670Z"
   },
   {
    "duration": 18,
    "start_time": "2021-12-13T10:13:19.694Z"
   },
   {
    "duration": 17,
    "start_time": "2021-12-13T10:13:19.714Z"
   },
   {
    "duration": 8,
    "start_time": "2021-12-13T10:13:19.732Z"
   },
   {
    "duration": 8,
    "start_time": "2021-12-13T10:13:19.742Z"
   },
   {
    "duration": 49,
    "start_time": "2021-12-13T10:13:19.752Z"
   },
   {
    "duration": 11,
    "start_time": "2021-12-13T10:13:19.803Z"
   },
   {
    "duration": 33,
    "start_time": "2021-12-13T10:13:19.816Z"
   },
   {
    "duration": 6,
    "start_time": "2021-12-13T10:13:19.851Z"
   },
   {
    "duration": 3,
    "start_time": "2021-12-13T10:13:19.858Z"
   },
   {
    "duration": 34,
    "start_time": "2021-12-13T10:13:19.863Z"
   },
   {
    "duration": 482,
    "start_time": "2021-12-13T10:13:19.898Z"
   },
   {
    "duration": 481,
    "start_time": "2021-12-13T10:13:20.381Z"
   },
   {
    "duration": 488,
    "start_time": "2021-12-13T10:13:20.864Z"
   },
   {
    "duration": 509,
    "start_time": "2021-12-13T10:13:21.354Z"
   },
   {
    "duration": 468,
    "start_time": "2021-12-13T10:13:21.865Z"
   },
   {
    "duration": 7,
    "start_time": "2021-12-13T10:13:22.335Z"
   },
   {
    "duration": 53,
    "start_time": "2021-12-13T10:13:22.344Z"
   },
   {
    "duration": 6,
    "start_time": "2021-12-13T10:13:22.399Z"
   },
   {
    "duration": 10,
    "start_time": "2021-12-13T10:13:22.407Z"
   },
   {
    "duration": 23,
    "start_time": "2021-12-13T10:13:22.418Z"
   },
   {
    "duration": 7,
    "start_time": "2021-12-13T10:13:22.442Z"
   },
   {
    "duration": 41,
    "start_time": "2021-12-13T10:13:22.451Z"
   },
   {
    "duration": 25,
    "start_time": "2021-12-13T10:13:22.494Z"
   },
   {
    "duration": 14,
    "start_time": "2021-12-13T10:13:22.528Z"
   },
   {
    "duration": 511,
    "start_time": "2021-12-13T10:13:22.545Z"
   },
   {
    "duration": 21,
    "start_time": "2021-12-13T10:13:23.058Z"
   },
   {
    "duration": 15,
    "start_time": "2021-12-13T10:13:23.081Z"
   },
   {
    "duration": 200,
    "start_time": "2021-12-13T10:13:23.097Z"
   },
   {
    "duration": 458,
    "start_time": "2021-12-13T10:13:23.299Z"
   },
   {
    "duration": 257,
    "start_time": "2021-12-13T10:13:23.759Z"
   },
   {
    "duration": 18,
    "start_time": "2021-12-13T10:13:24.017Z"
   },
   {
    "duration": 19,
    "start_time": "2021-12-13T10:13:24.037Z"
   },
   {
    "duration": 33,
    "start_time": "2021-12-13T10:13:24.058Z"
   },
   {
    "duration": 465,
    "start_time": "2021-12-13T10:13:24.093Z"
   },
   {
    "duration": 6,
    "start_time": "2021-12-13T10:13:24.561Z"
   },
   {
    "duration": 7,
    "start_time": "2021-12-13T10:13:24.568Z"
   },
   {
    "duration": 5,
    "start_time": "2021-12-13T10:13:24.591Z"
   },
   {
    "duration": 12,
    "start_time": "2021-12-13T10:13:24.598Z"
   },
   {
    "duration": 5,
    "start_time": "2021-12-13T10:13:24.613Z"
   },
   {
    "duration": 6,
    "start_time": "2021-12-13T10:13:24.620Z"
   },
   {
    "duration": 225,
    "start_time": "2021-12-13T10:13:24.628Z"
   },
   {
    "duration": 6,
    "start_time": "2021-12-13T10:13:24.855Z"
   },
   {
    "duration": 41,
    "start_time": "2021-12-13T10:13:24.863Z"
   },
   {
    "duration": 8,
    "start_time": "2021-12-13T10:13:24.907Z"
   },
   {
    "duration": 682,
    "start_time": "2021-12-13T10:13:24.918Z"
   },
   {
    "duration": 11,
    "start_time": "2021-12-13T10:13:25.601Z"
   },
   {
    "duration": 6,
    "start_time": "2021-12-13T10:13:25.614Z"
   },
   {
    "duration": 6,
    "start_time": "2021-12-13T10:13:25.622Z"
   },
   {
    "duration": 121681,
    "start_time": "2021-12-13T10:13:25.629Z"
   },
   {
    "duration": 4248,
    "start_time": "2021-12-13T10:15:27.312Z"
   },
   {
    "duration": 7,
    "start_time": "2021-12-13T10:15:31.562Z"
   },
   {
    "duration": 24,
    "start_time": "2021-12-13T10:15:31.571Z"
   },
   {
    "duration": 10,
    "start_time": "2021-12-13T10:15:31.597Z"
   },
   {
    "duration": 24,
    "start_time": "2021-12-13T10:15:31.609Z"
   },
   {
    "duration": 7,
    "start_time": "2021-12-13T10:15:31.635Z"
   },
   {
    "duration": 18,
    "start_time": "2021-12-13T10:15:31.644Z"
   },
   {
    "duration": 8,
    "start_time": "2021-12-13T10:15:31.664Z"
   },
   {
    "duration": 28,
    "start_time": "2021-12-13T10:15:31.674Z"
   },
   {
    "duration": 5,
    "start_time": "2021-12-13T10:15:31.704Z"
   },
   {
    "duration": 279,
    "start_time": "2021-12-13T10:15:31.711Z"
   },
   {
    "duration": -2957,
    "start_time": "2021-12-13T10:15:34.948Z"
   },
   {
    "duration": -2976,
    "start_time": "2021-12-13T10:15:34.968Z"
   },
   {
    "duration": -2993,
    "start_time": "2021-12-13T10:15:34.986Z"
   },
   {
    "duration": -3011,
    "start_time": "2021-12-13T10:15:35.005Z"
   },
   {
    "duration": -3115,
    "start_time": "2021-12-13T10:15:35.110Z"
   },
   {
    "duration": -3134,
    "start_time": "2021-12-13T10:15:35.130Z"
   },
   {
    "duration": -3150,
    "start_time": "2021-12-13T10:15:35.147Z"
   },
   {
    "duration": -3171,
    "start_time": "2021-12-13T10:15:35.169Z"
   },
   {
    "duration": -3189,
    "start_time": "2021-12-13T10:15:35.188Z"
   },
   {
    "duration": -3207,
    "start_time": "2021-12-13T10:15:35.208Z"
   },
   {
    "duration": -3247,
    "start_time": "2021-12-13T10:15:35.249Z"
   },
   {
    "duration": -3267,
    "start_time": "2021-12-13T10:15:35.269Z"
   },
   {
    "duration": -3282,
    "start_time": "2021-12-13T10:15:35.286Z"
   },
   {
    "duration": -3300,
    "start_time": "2021-12-13T10:15:35.305Z"
   },
   {
    "duration": -3315,
    "start_time": "2021-12-13T10:15:35.321Z"
   },
   {
    "duration": -3332,
    "start_time": "2021-12-13T10:15:35.339Z"
   },
   {
    "duration": -3369,
    "start_time": "2021-12-13T10:15:35.376Z"
   },
   {
    "duration": -3390,
    "start_time": "2021-12-13T10:15:35.398Z"
   },
   {
    "duration": -3405,
    "start_time": "2021-12-13T10:15:35.414Z"
   },
   {
    "duration": 3,
    "start_time": "2021-12-13T10:20:50.492Z"
   },
   {
    "duration": 17,
    "start_time": "2021-12-13T10:20:50.497Z"
   },
   {
    "duration": 13,
    "start_time": "2021-12-13T10:20:50.516Z"
   },
   {
    "duration": 219,
    "start_time": "2021-12-13T10:20:50.530Z"
   },
   {
    "duration": 7,
    "start_time": "2021-12-13T10:20:50.751Z"
   },
   {
    "duration": 208,
    "start_time": "2021-12-13T10:20:50.760Z"
   },
   {
    "duration": 40,
    "start_time": "2021-12-13T10:20:50.971Z"
   },
   {
    "duration": 7,
    "start_time": "2021-12-13T10:20:51.013Z"
   },
   {
    "duration": 7,
    "start_time": "2021-12-13T10:20:51.022Z"
   },
   {
    "duration": 9,
    "start_time": "2021-12-13T10:20:51.030Z"
   },
   {
    "duration": 8,
    "start_time": "2021-12-13T10:20:51.041Z"
   },
   {
    "duration": 7,
    "start_time": "2021-12-13T10:20:51.051Z"
   },
   {
    "duration": 33,
    "start_time": "2021-12-13T10:20:51.061Z"
   },
   {
    "duration": 8,
    "start_time": "2021-12-13T10:20:51.096Z"
   },
   {
    "duration": 7,
    "start_time": "2021-12-13T10:20:51.106Z"
   },
   {
    "duration": 7,
    "start_time": "2021-12-13T10:20:51.114Z"
   },
   {
    "duration": 7,
    "start_time": "2021-12-13T10:20:51.123Z"
   },
   {
    "duration": 7,
    "start_time": "2021-12-13T10:20:51.132Z"
   },
   {
    "duration": 7,
    "start_time": "2021-12-13T10:20:51.141Z"
   },
   {
    "duration": 65,
    "start_time": "2021-12-13T10:20:51.149Z"
   },
   {
    "duration": 60,
    "start_time": "2021-12-13T10:24:38.217Z"
   },
   {
    "duration": 59,
    "start_time": "2021-12-13T10:26:24.361Z"
   },
   {
    "duration": 9,
    "start_time": "2021-12-13T11:13:11.763Z"
   },
   {
    "duration": 27,
    "start_time": "2021-12-13T11:19:00.732Z"
   },
   {
    "duration": 23,
    "start_time": "2021-12-13T11:19:09.171Z"
   },
   {
    "duration": 8,
    "start_time": "2021-12-13T11:20:51.043Z"
   },
   {
    "duration": 4,
    "start_time": "2021-12-13T11:27:21.875Z"
   },
   {
    "duration": 195,
    "start_time": "2021-12-13T11:27:38.476Z"
   },
   {
    "duration": 212,
    "start_time": "2021-12-13T11:27:53.355Z"
   },
   {
    "duration": 4924,
    "start_time": "2021-12-13T11:28:17.391Z"
   },
   {
    "duration": 4637,
    "start_time": "2021-12-13T11:30:02.955Z"
   },
   {
    "duration": 284,
    "start_time": "2021-12-13T11:30:32.682Z"
   },
   {
    "duration": 5667,
    "start_time": "2021-12-13T11:32:31.803Z"
   },
   {
    "duration": 6395,
    "start_time": "2021-12-13T11:33:44.116Z"
   },
   {
    "duration": 3,
    "start_time": "2021-12-13T11:34:22.297Z"
   },
   {
    "duration": 22698,
    "start_time": "2021-12-13T11:35:00.828Z"
   },
   {
    "duration": 7,
    "start_time": "2021-12-13T11:35:45.249Z"
   },
   {
    "duration": 7,
    "start_time": "2021-12-13T11:37:11.328Z"
   },
   {
    "duration": 900,
    "start_time": "2021-12-13T11:38:01.444Z"
   },
   {
    "duration": 16,
    "start_time": "2021-12-13T11:38:27.889Z"
   },
   {
    "duration": 18,
    "start_time": "2021-12-13T11:40:30.828Z"
   },
   {
    "duration": 6,
    "start_time": "2021-12-13T11:45:36.508Z"
   },
   {
    "duration": 216,
    "start_time": "2021-12-13T11:45:48.863Z"
   },
   {
    "duration": 7,
    "start_time": "2021-12-13T11:45:57.087Z"
   },
   {
    "duration": 6,
    "start_time": "2021-12-13T11:46:25.687Z"
   },
   {
    "duration": 6,
    "start_time": "2021-12-13T11:47:03.108Z"
   },
   {
    "duration": 60,
    "start_time": "2021-12-13T11:48:36.849Z"
   },
   {
    "duration": 19,
    "start_time": "2021-12-13T11:48:47.768Z"
   },
   {
    "duration": 25,
    "start_time": "2021-12-13T11:49:23.108Z"
   },
   {
    "duration": 23,
    "start_time": "2021-12-13T11:50:49.308Z"
   },
   {
    "duration": 81,
    "start_time": "2021-12-13T12:02:50.252Z"
   },
   {
    "duration": 73,
    "start_time": "2021-12-13T12:04:07.919Z"
   },
   {
    "duration": 70,
    "start_time": "2021-12-13T12:05:38.291Z"
   },
   {
    "duration": 66,
    "start_time": "2021-12-13T12:14:16.399Z"
   },
   {
    "duration": 66,
    "start_time": "2021-12-13T12:15:06.250Z"
   },
   {
    "duration": 62,
    "start_time": "2021-12-13T12:15:57.591Z"
   },
   {
    "duration": 61,
    "start_time": "2021-12-13T12:17:42.251Z"
   },
   {
    "duration": 337,
    "start_time": "2021-12-13T12:25:15.027Z"
   },
   {
    "duration": 224,
    "start_time": "2021-12-13T12:25:45.601Z"
   },
   {
    "duration": 188,
    "start_time": "2021-12-13T12:25:57.771Z"
   },
   {
    "duration": 191,
    "start_time": "2021-12-13T12:26:30.388Z"
   },
   {
    "duration": 6,
    "start_time": "2021-12-13T12:27:03.132Z"
   },
   {
    "duration": 9,
    "start_time": "2021-12-13T12:27:12.921Z"
   },
   {
    "duration": 7,
    "start_time": "2021-12-13T12:27:29.206Z"
   },
   {
    "duration": 7,
    "start_time": "2021-12-13T12:28:29.828Z"
   },
   {
    "duration": 7,
    "start_time": "2021-12-13T12:29:13.645Z"
   },
   {
    "duration": 185,
    "start_time": "2021-12-13T12:30:55.510Z"
   },
   {
    "duration": 180,
    "start_time": "2021-12-13T12:31:12.023Z"
   },
   {
    "duration": 8,
    "start_time": "2021-12-13T12:32:05.422Z"
   },
   {
    "duration": 10,
    "start_time": "2021-12-13T12:32:18.920Z"
   },
   {
    "duration": 9,
    "start_time": "2021-12-13T12:33:13.038Z"
   },
   {
    "duration": 9,
    "start_time": "2021-12-13T12:33:31.502Z"
   },
   {
    "duration": 9,
    "start_time": "2021-12-13T12:35:55.443Z"
   },
   {
    "duration": 11,
    "start_time": "2021-12-13T12:36:21.230Z"
   },
   {
    "duration": 9,
    "start_time": "2021-12-13T12:40:21.901Z"
   },
   {
    "duration": 8,
    "start_time": "2021-12-13T12:40:30.813Z"
   },
   {
    "duration": 177,
    "start_time": "2021-12-13T12:42:04.150Z"
   },
   {
    "duration": 11,
    "start_time": "2021-12-13T12:42:17.270Z"
   },
   {
    "duration": 61,
    "start_time": "2021-12-13T12:45:03.300Z"
   },
   {
    "duration": 93,
    "start_time": "2021-12-13T12:45:30.062Z"
   },
   {
    "duration": 66,
    "start_time": "2021-12-13T12:46:19.829Z"
   },
   {
    "duration": 67,
    "start_time": "2021-12-13T12:46:43.670Z"
   },
   {
    "duration": 67,
    "start_time": "2021-12-13T12:48:52.117Z"
   },
   {
    "duration": 23,
    "start_time": "2021-12-13T12:53:27.626Z"
   },
   {
    "duration": 386,
    "start_time": "2021-12-13T12:55:40.069Z"
   },
   {
    "duration": 24,
    "start_time": "2021-12-13T12:57:14.266Z"
   },
   {
    "duration": 61,
    "start_time": "2021-12-13T13:00:11.875Z"
   },
   {
    "duration": 64,
    "start_time": "2021-12-13T13:00:35.481Z"
   },
   {
    "duration": 18,
    "start_time": "2021-12-13T13:00:52.715Z"
   },
   {
    "duration": 19,
    "start_time": "2021-12-13T13:04:41.823Z"
   },
   {
    "duration": 2,
    "start_time": "2021-12-13T13:05:47.553Z"
   },
   {
    "duration": 55,
    "start_time": "2021-12-13T13:05:47.560Z"
   },
   {
    "duration": 19,
    "start_time": "2021-12-13T13:05:47.617Z"
   },
   {
    "duration": 9,
    "start_time": "2021-12-13T13:05:47.639Z"
   },
   {
    "duration": 11,
    "start_time": "2021-12-13T13:05:47.650Z"
   },
   {
    "duration": 35,
    "start_time": "2021-12-13T13:05:47.663Z"
   },
   {
    "duration": 30,
    "start_time": "2021-12-13T13:05:47.701Z"
   },
   {
    "duration": 4,
    "start_time": "2021-12-13T13:05:47.733Z"
   },
   {
    "duration": 7,
    "start_time": "2021-12-13T13:05:47.741Z"
   },
   {
    "duration": 8,
    "start_time": "2021-12-13T13:05:47.752Z"
   },
   {
    "duration": 247,
    "start_time": "2021-12-13T13:05:47.762Z"
   },
   {
    "duration": 23,
    "start_time": "2021-12-13T13:05:48.012Z"
   },
   {
    "duration": 22,
    "start_time": "2021-12-13T13:05:48.037Z"
   },
   {
    "duration": 52,
    "start_time": "2021-12-13T13:05:48.061Z"
   },
   {
    "duration": 26,
    "start_time": "2021-12-13T13:05:48.114Z"
   },
   {
    "duration": 51,
    "start_time": "2021-12-13T13:05:48.142Z"
   },
   {
    "duration": 3,
    "start_time": "2021-12-13T13:05:48.195Z"
   },
   {
    "duration": 33,
    "start_time": "2021-12-13T13:05:48.201Z"
   },
   {
    "duration": 57,
    "start_time": "2021-12-13T13:05:48.236Z"
   },
   {
    "duration": 24,
    "start_time": "2021-12-13T13:05:48.295Z"
   },
   {
    "duration": 594,
    "start_time": "2021-12-13T13:05:48.321Z"
   },
   {
    "duration": 9,
    "start_time": "2021-12-13T13:05:48.917Z"
   },
   {
    "duration": 24,
    "start_time": "2021-12-13T13:05:48.928Z"
   },
   {
    "duration": 209,
    "start_time": "2021-12-13T13:05:48.954Z"
   },
   {
    "duration": 6,
    "start_time": "2021-12-13T13:05:49.165Z"
   },
   {
    "duration": 5,
    "start_time": "2021-12-13T13:05:49.192Z"
   },
   {
    "duration": 15,
    "start_time": "2021-12-13T13:05:49.199Z"
   },
   {
    "duration": 8,
    "start_time": "2021-12-13T13:05:49.216Z"
   },
   {
    "duration": 206,
    "start_time": "2021-12-13T13:05:49.225Z"
   },
   {
    "duration": 26,
    "start_time": "2021-12-13T13:05:49.432Z"
   },
   {
    "duration": 5,
    "start_time": "2021-12-13T13:05:49.459Z"
   },
   {
    "duration": 34,
    "start_time": "2021-12-13T13:05:49.465Z"
   },
   {
    "duration": 23,
    "start_time": "2021-12-13T13:05:49.501Z"
   },
   {
    "duration": 10,
    "start_time": "2021-12-13T13:05:49.526Z"
   },
   {
    "duration": 8,
    "start_time": "2021-12-13T13:05:49.538Z"
   },
   {
    "duration": 48,
    "start_time": "2021-12-13T13:05:49.550Z"
   },
   {
    "duration": 10,
    "start_time": "2021-12-13T13:05:49.601Z"
   },
   {
    "duration": 19,
    "start_time": "2021-12-13T13:05:49.613Z"
   },
   {
    "duration": 5,
    "start_time": "2021-12-13T13:05:49.634Z"
   },
   {
    "duration": 205,
    "start_time": "2021-12-13T13:05:49.641Z"
   },
   {
    "duration": 7,
    "start_time": "2021-12-13T13:05:49.848Z"
   },
   {
    "duration": 305,
    "start_time": "2021-12-13T13:05:49.857Z"
   },
   {
    "duration": 9,
    "start_time": "2021-12-13T13:05:50.164Z"
   },
   {
    "duration": 26,
    "start_time": "2021-12-13T13:05:50.175Z"
   },
   {
    "duration": 17,
    "start_time": "2021-12-13T13:05:50.203Z"
   },
   {
    "duration": 16,
    "start_time": "2021-12-13T13:05:50.222Z"
   },
   {
    "duration": 7,
    "start_time": "2021-12-13T13:05:50.240Z"
   },
   {
    "duration": 45,
    "start_time": "2021-12-13T13:05:50.249Z"
   },
   {
    "duration": 17,
    "start_time": "2021-12-13T13:05:50.296Z"
   },
   {
    "duration": 10,
    "start_time": "2021-12-13T13:05:50.315Z"
   },
   {
    "duration": 16,
    "start_time": "2021-12-13T13:05:50.327Z"
   },
   {
    "duration": 5,
    "start_time": "2021-12-13T13:05:50.345Z"
   },
   {
    "duration": 3,
    "start_time": "2021-12-13T13:05:50.392Z"
   },
   {
    "duration": 10,
    "start_time": "2021-12-13T13:05:50.397Z"
   },
   {
    "duration": 453,
    "start_time": "2021-12-13T13:05:50.408Z"
   },
   {
    "duration": 497,
    "start_time": "2021-12-13T13:05:50.863Z"
   },
   {
    "duration": 496,
    "start_time": "2021-12-13T13:05:51.362Z"
   },
   {
    "duration": 479,
    "start_time": "2021-12-13T13:05:51.860Z"
   },
   {
    "duration": 482,
    "start_time": "2021-12-13T13:05:52.341Z"
   },
   {
    "duration": 8,
    "start_time": "2021-12-13T13:05:52.825Z"
   },
   {
    "duration": 32,
    "start_time": "2021-12-13T13:05:52.835Z"
   },
   {
    "duration": 4,
    "start_time": "2021-12-13T13:05:52.868Z"
   },
   {
    "duration": 26,
    "start_time": "2021-12-13T13:05:52.873Z"
   },
   {
    "duration": 19,
    "start_time": "2021-12-13T13:05:52.900Z"
   },
   {
    "duration": 6,
    "start_time": "2021-12-13T13:05:52.921Z"
   },
   {
    "duration": 10,
    "start_time": "2021-12-13T13:05:52.928Z"
   },
   {
    "duration": 53,
    "start_time": "2021-12-13T13:05:52.940Z"
   },
   {
    "duration": 9,
    "start_time": "2021-12-13T13:05:52.994Z"
   },
   {
    "duration": 478,
    "start_time": "2021-12-13T13:05:53.005Z"
   },
   {
    "duration": 19,
    "start_time": "2021-12-13T13:05:53.485Z"
   },
   {
    "duration": 9,
    "start_time": "2021-12-13T13:05:53.505Z"
   },
   {
    "duration": 201,
    "start_time": "2021-12-13T13:05:53.516Z"
   },
   {
    "duration": 519,
    "start_time": "2021-12-13T13:05:53.719Z"
   },
   {
    "duration": 184,
    "start_time": "2021-12-13T13:05:54.240Z"
   },
   {
    "duration": 18,
    "start_time": "2021-12-13T13:05:54.426Z"
   },
   {
    "duration": 16,
    "start_time": "2021-12-13T13:05:54.445Z"
   },
   {
    "duration": 6,
    "start_time": "2021-12-13T13:05:54.463Z"
   },
   {
    "duration": 443,
    "start_time": "2021-12-13T13:05:54.492Z"
   },
   {
    "duration": 6,
    "start_time": "2021-12-13T13:05:54.936Z"
   },
   {
    "duration": 9,
    "start_time": "2021-12-13T13:05:54.943Z"
   },
   {
    "duration": 4,
    "start_time": "2021-12-13T13:05:54.954Z"
   },
   {
    "duration": 33,
    "start_time": "2021-12-13T13:05:54.959Z"
   },
   {
    "duration": 4,
    "start_time": "2021-12-13T13:05:54.994Z"
   },
   {
    "duration": 6,
    "start_time": "2021-12-13T13:05:55.000Z"
   },
   {
    "duration": 211,
    "start_time": "2021-12-13T13:05:55.008Z"
   },
   {
    "duration": 6,
    "start_time": "2021-12-13T13:05:55.220Z"
   },
   {
    "duration": 28,
    "start_time": "2021-12-13T13:05:55.228Z"
   },
   {
    "duration": 24,
    "start_time": "2021-12-13T13:05:55.258Z"
   },
   {
    "duration": 646,
    "start_time": "2021-12-13T13:05:55.291Z"
   },
   {
    "duration": 10,
    "start_time": "2021-12-13T13:05:55.945Z"
   },
   {
    "duration": 14,
    "start_time": "2021-12-13T13:05:55.957Z"
   },
   {
    "duration": 19,
    "start_time": "2021-12-13T13:05:55.973Z"
   },
   {
    "duration": 119954,
    "start_time": "2021-12-13T13:05:55.993Z"
   },
   {
    "duration": 3854,
    "start_time": "2021-12-13T13:07:55.948Z"
   },
   {
    "duration": 10,
    "start_time": "2021-12-13T13:07:59.804Z"
   },
   {
    "duration": 9,
    "start_time": "2021-12-13T13:07:59.817Z"
   },
   {
    "duration": 8,
    "start_time": "2021-12-13T13:07:59.828Z"
   },
   {
    "duration": 8,
    "start_time": "2021-12-13T13:07:59.838Z"
   },
   {
    "duration": 45,
    "start_time": "2021-12-13T13:07:59.848Z"
   },
   {
    "duration": 9,
    "start_time": "2021-12-13T13:07:59.895Z"
   },
   {
    "duration": 4,
    "start_time": "2021-12-13T13:07:59.906Z"
   },
   {
    "duration": 20,
    "start_time": "2021-12-13T13:07:59.912Z"
   },
   {
    "duration": 2,
    "start_time": "2021-12-13T13:07:59.934Z"
   },
   {
    "duration": 19,
    "start_time": "2021-12-13T13:07:59.938Z"
   },
   {
    "duration": 22,
    "start_time": "2021-12-13T13:07:59.996Z"
   },
   {
    "duration": 227,
    "start_time": "2021-12-13T13:08:00.020Z"
   },
   {
    "duration": 8,
    "start_time": "2021-12-13T13:08:00.249Z"
   },
   {
    "duration": 212,
    "start_time": "2021-12-13T13:08:00.259Z"
   },
   {
    "duration": 43,
    "start_time": "2021-12-13T13:08:00.473Z"
   },
   {
    "duration": 8,
    "start_time": "2021-12-13T13:08:00.518Z"
   },
   {
    "duration": 21,
    "start_time": "2021-12-13T13:08:00.528Z"
   },
   {
    "duration": 20,
    "start_time": "2021-12-13T13:08:00.551Z"
   },
   {
    "duration": 19,
    "start_time": "2021-12-13T13:08:00.572Z"
   },
   {
    "duration": 12,
    "start_time": "2021-12-13T13:08:00.593Z"
   },
   {
    "duration": 10,
    "start_time": "2021-12-13T13:08:00.606Z"
   },
   {
    "duration": 28,
    "start_time": "2021-12-13T13:08:00.617Z"
   },
   {
    "duration": 7,
    "start_time": "2021-12-13T13:08:00.647Z"
   },
   {
    "duration": 28,
    "start_time": "2021-12-13T13:08:00.656Z"
   },
   {
    "duration": 30,
    "start_time": "2021-12-13T13:08:00.685Z"
   },
   {
    "duration": 114,
    "start_time": "2021-12-13T13:08:00.717Z"
   },
   {
    "duration": 32,
    "start_time": "2021-12-13T13:08:00.833Z"
   },
   {
    "duration": 14,
    "start_time": "2021-12-13T13:08:00.867Z"
   },
   {
    "duration": 27,
    "start_time": "2021-12-13T13:08:00.883Z"
   },
   {
    "duration": 39,
    "start_time": "2021-12-13T13:08:00.912Z"
   },
   {
    "duration": 28,
    "start_time": "2021-12-13T13:08:00.953Z"
   },
   {
    "duration": 27,
    "start_time": "2021-12-13T13:08:00.983Z"
   },
   {
    "duration": 21,
    "start_time": "2021-12-13T13:08:01.012Z"
   },
   {
    "duration": 790,
    "start_time": "2021-12-13T19:19:32.274Z"
   },
   {
    "duration": 64,
    "start_time": "2021-12-13T19:19:33.067Z"
   },
   {
    "duration": 11,
    "start_time": "2021-12-13T19:19:43.592Z"
   },
   {
    "duration": 26,
    "start_time": "2021-12-13T19:19:44.158Z"
   }
  ],
  "interpreter": {
   "hash": "a5ba9345dd27b28e49e620d75e4116b30c665aafb8243164622e55e3710e405d"
  },
  "kernelspec": {
   "display_name": "Python 3",
   "language": "python",
   "name": "python3"
  },
  "language_info": {
   "codemirror_mode": {
    "name": "ipython",
    "version": 3
   },
   "file_extension": ".py",
   "mimetype": "text/x-python",
   "name": "python",
   "nbconvert_exporter": "python",
   "pygments_lexer": "ipython3",
   "version": "3.6.9"
  },
  "toc": {
   "base_numbering": 1,
   "nav_menu": {},
   "number_sections": true,
   "sideBar": true,
   "skip_h1_title": true,
   "title_cell": "Table of Contents",
   "title_sidebar": "Contents",
   "toc_cell": false,
   "toc_position": {
    "height": "calc(100% - 180px)",
    "left": "10px",
    "top": "150px",
    "width": "351px"
   },
   "toc_section_display": true,
   "toc_window_display": false
  }
 },
 "nbformat": 4,
 "nbformat_minor": 2
}

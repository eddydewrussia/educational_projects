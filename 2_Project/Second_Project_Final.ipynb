{
 "cells": [
  {
   "cell_type": "markdown",
   "metadata": {},
   "source": [
    "# Исследование надёжности заёмщиков\n",
    "\n",
    "Заказчик — кредитный отдел банка. Нужно разобраться, влияет ли семейное положение и количество детей клиента на факт погашения кредита в срок. Входные данные от банка — статистика о платёжеспособности клиентов.\n",
    "\n",
    "Результаты исследования будут учтены при построении модели **кредитного скоринга** — специальной системы, которая оценивает способность потенциального заёмщика вернуть кредит банку."
   ]
  },
  {
   "cell_type": "markdown",
   "metadata": {},
   "source": [
    "## Шаг 1. Откроем файл с данными и изучим общую информацию"
   ]
  },
  {
   "cell_type": "code",
   "execution_count": 268,
   "metadata": {},
   "outputs": [],
   "source": [
    "import pandas as pd"
   ]
  },
  {
   "cell_type": "code",
   "execution_count": 269,
   "metadata": {},
   "outputs": [],
   "source": [
    "import warnings\n",
    "warnings.filterwarnings('ignore')"
   ]
  },
  {
   "cell_type": "code",
   "execution_count": 270,
   "metadata": {},
   "outputs": [],
   "source": [
    "try:\n",
    "    data = pd.read_csv('/da..ta.csv') # Yandex path\n",
    "except:\n",
    "    data = pd.read_csv(\"da...r.csv\") # personal path"
   ]
  },
  {
   "cell_type": "code",
   "execution_count": 272,
   "metadata": {},
   "outputs": [
    {
     "name": "stdout",
     "output_type": "stream",
     "text": [
      "<class 'pandas.core.frame.DataFrame'>\n",
      "RangeIndex: 21525 entries, 0 to 21524\n",
      "Data columns (total 12 columns):\n",
      " #   Column            Non-Null Count  Dtype  \n",
      "---  ------            --------------  -----  \n",
      " 0   children          21525 non-null  int64  \n",
      " 1   days_employed     19351 non-null  float64\n",
      " 2   dob_years         21525 non-null  int64  \n",
      " 3   education         21525 non-null  object \n",
      " 4   education_id      21525 non-null  int64  \n",
      " 5   family_status     21525 non-null  object \n",
      " 6   family_status_id  21525 non-null  int64  \n",
      " 7   gender            21525 non-null  object \n",
      " 8   income_type       21525 non-null  object \n",
      " 9   debt              21525 non-null  int64  \n",
      " 10  total_income      19351 non-null  float64\n",
      " 11  purpose           21525 non-null  object \n",
      "dtypes: float64(2), int64(5), object(5)\n",
      "memory usage: 2.0+ MB\n"
     ]
    }
   ],
   "source": [
    "data.info() # информация о данных"
   ]
  },
  {
   "cell_type": "markdown",
   "metadata": {},
   "source": [
    "### 12 колонок, 21525 строк\n",
    "- children - дети. челочисленное. есть данные по всем строкам\n",
    "- days_employed - трудовой стаж в днях. численное значение. есть пропуски данных\n",
    "- dob_years - возраст клиента, целочисленное. есть все строки\n",
    "- education - образование. текст. вроде бы без пропусков. надо посмотреть уники\n",
    "- education_id - целочисленный идентификатор образования. можно сделать словарь\n",
    "- family_status - семейное положение. текст. \n",
    "- family_status_id - целочисленный идентификатор семейного положения. можно сделать словарь\n",
    "- gender - пол клиента. текст. хорошо бы проверить уники\n",
    "- income_type - тип занятости. текст. возможно словарь\n",
    "- debt - имел ли задолженность по возврату. целочисленное. возможно, булевое\n",
    "- total_income - ежемесячный доход - численное. есть пропуски\n",
    "- purpose - цель получения кредита - текстовое. возможен словарь"
   ]
  },
  {
   "cell_type": "markdown",
   "metadata": {},
   "source": [
    "## Проверим пропуски"
   ]
  },
  {
   "cell_type": "code",
   "execution_count": 273,
   "metadata": {},
   "outputs": [
    {
     "data": {
      "text/plain": [
       "children               0\n",
       "days_employed       2174\n",
       "dob_years              0\n",
       "education              0\n",
       "education_id           0\n",
       "family_status          0\n",
       "family_status_id       0\n",
       "gender                 0\n",
       "income_type            0\n",
       "debt                   0\n",
       "total_income        2174\n",
       "purpose                0\n",
       "dtype: int64"
      ]
     },
     "execution_count": 273,
     "metadata": {},
     "output_type": "execute_result"
    }
   ],
   "source": [
    "data.isna().sum()"
   ]
  },
  {
   "cell_type": "markdown",
   "metadata": {},
   "source": [
    "Интересное совпадение - 2174 пропуска в трудовом стаже и в ежемесячном доходе"
   ]
  },
  {
   "cell_type": "markdown",
   "metadata": {},
   "source": [
    "## Посмотрим доли отсутствующих значений "
   ]
  },
  {
   "cell_type": "code",
   "execution_count": 274,
   "metadata": {},
   "outputs": [
    {
     "data": {
      "text/plain": [
       "children            0.00\n",
       "days_employed      10.10\n",
       "dob_years           0.00\n",
       "education           0.00\n",
       "education_id        0.00\n",
       "family_status       0.00\n",
       "family_status_id    0.00\n",
       "gender              0.00\n",
       "income_type         0.00\n",
       "debt                0.00\n",
       "total_income       10.10\n",
       "purpose             0.00\n",
       "dtype: float64"
      ]
     },
     "execution_count": 274,
     "metadata": {},
     "output_type": "execute_result"
    }
   ],
   "source": [
    "round(data.isna().sum() * 100 / len(data), 2)"
   ]
  },
  {
   "cell_type": "markdown",
   "metadata": {},
   "source": [
    "Пропуски данных составляют 10%"
   ]
  },
  {
   "cell_type": "markdown",
   "metadata": {},
   "source": [
    "## Сводная информация по _параметрам_ данных"
   ]
  },
  {
   "cell_type": "code",
   "execution_count": 275,
   "metadata": {},
   "outputs": [
    {
     "data": {
      "text/html": [
       "<div>\n",
       "<style scoped>\n",
       "    .dataframe tbody tr th:only-of-type {\n",
       "        vertical-align: middle;\n",
       "    }\n",
       "\n",
       "    .dataframe tbody tr th {\n",
       "        vertical-align: top;\n",
       "    }\n",
       "\n",
       "    .dataframe thead th {\n",
       "        text-align: right;\n",
       "    }\n",
       "</style>\n",
       "<table border=\"1\" class=\"dataframe\">\n",
       "  <thead>\n",
       "    <tr style=\"text-align: right;\">\n",
       "      <th></th>\n",
       "      <th>children</th>\n",
       "      <th>days_employed</th>\n",
       "      <th>dob_years</th>\n",
       "      <th>education_id</th>\n",
       "      <th>family_status_id</th>\n",
       "      <th>debt</th>\n",
       "      <th>total_income</th>\n",
       "    </tr>\n",
       "  </thead>\n",
       "  <tbody>\n",
       "    <tr>\n",
       "      <th>count</th>\n",
       "      <td>21,525.00</td>\n",
       "      <td>19,351.00</td>\n",
       "      <td>21,525.00</td>\n",
       "      <td>21,525.00</td>\n",
       "      <td>21,525.00</td>\n",
       "      <td>21,525.00</td>\n",
       "      <td>19,351.00</td>\n",
       "    </tr>\n",
       "    <tr>\n",
       "      <th>mean</th>\n",
       "      <td>0.54</td>\n",
       "      <td>63,046.50</td>\n",
       "      <td>43.29</td>\n",
       "      <td>0.82</td>\n",
       "      <td>0.97</td>\n",
       "      <td>0.08</td>\n",
       "      <td>167,422.30</td>\n",
       "    </tr>\n",
       "    <tr>\n",
       "      <th>std</th>\n",
       "      <td>1.38</td>\n",
       "      <td>140,827.31</td>\n",
       "      <td>12.57</td>\n",
       "      <td>0.55</td>\n",
       "      <td>1.42</td>\n",
       "      <td>0.27</td>\n",
       "      <td>102,971.57</td>\n",
       "    </tr>\n",
       "    <tr>\n",
       "      <th>min</th>\n",
       "      <td>-1.00</td>\n",
       "      <td>-18,388.95</td>\n",
       "      <td>0.00</td>\n",
       "      <td>0.00</td>\n",
       "      <td>0.00</td>\n",
       "      <td>0.00</td>\n",
       "      <td>20,667.26</td>\n",
       "    </tr>\n",
       "    <tr>\n",
       "      <th>25%</th>\n",
       "      <td>0.00</td>\n",
       "      <td>-2,747.42</td>\n",
       "      <td>33.00</td>\n",
       "      <td>1.00</td>\n",
       "      <td>0.00</td>\n",
       "      <td>0.00</td>\n",
       "      <td>103,053.15</td>\n",
       "    </tr>\n",
       "    <tr>\n",
       "      <th>50%</th>\n",
       "      <td>0.00</td>\n",
       "      <td>-1,203.37</td>\n",
       "      <td>42.00</td>\n",
       "      <td>1.00</td>\n",
       "      <td>0.00</td>\n",
       "      <td>0.00</td>\n",
       "      <td>145,017.94</td>\n",
       "    </tr>\n",
       "    <tr>\n",
       "      <th>75%</th>\n",
       "      <td>1.00</td>\n",
       "      <td>-291.10</td>\n",
       "      <td>53.00</td>\n",
       "      <td>1.00</td>\n",
       "      <td>1.00</td>\n",
       "      <td>0.00</td>\n",
       "      <td>203,435.07</td>\n",
       "    </tr>\n",
       "    <tr>\n",
       "      <th>max</th>\n",
       "      <td>20.00</td>\n",
       "      <td>401,755.40</td>\n",
       "      <td>75.00</td>\n",
       "      <td>4.00</td>\n",
       "      <td>4.00</td>\n",
       "      <td>1.00</td>\n",
       "      <td>2,265,604.03</td>\n",
       "    </tr>\n",
       "  </tbody>\n",
       "</table>\n",
       "</div>"
      ],
      "text/plain": [
       "       children  days_employed  dob_years  education_id  family_status_id  \\\n",
       "count 21,525.00      19,351.00  21,525.00     21,525.00         21,525.00   \n",
       "mean       0.54      63,046.50      43.29          0.82              0.97   \n",
       "std        1.38     140,827.31      12.57          0.55              1.42   \n",
       "min       -1.00     -18,388.95       0.00          0.00              0.00   \n",
       "25%        0.00      -2,747.42      33.00          1.00              0.00   \n",
       "50%        0.00      -1,203.37      42.00          1.00              0.00   \n",
       "75%        1.00        -291.10      53.00          1.00              1.00   \n",
       "max       20.00     401,755.40      75.00          4.00              4.00   \n",
       "\n",
       "           debt  total_income  \n",
       "count 21,525.00     19,351.00  \n",
       "mean       0.08    167,422.30  \n",
       "std        0.27    102,971.57  \n",
       "min        0.00     20,667.26  \n",
       "25%        0.00    103,053.15  \n",
       "50%        0.00    145,017.94  \n",
       "75%        0.00    203,435.07  \n",
       "max        1.00  2,265,604.03  "
      ]
     },
     "execution_count": 275,
     "metadata": {},
     "output_type": "execute_result"
    }
   ],
   "source": [
    "data.describe()"
   ]
  },
  {
   "cell_type": "markdown",
   "metadata": {},
   "source": [
    "# Далее - прорабатываем данные по колонкам"
   ]
  },
  {
   "cell_type": "markdown",
   "metadata": {},
   "source": [
    "## 1. children - количество детей"
   ]
  },
  {
   "cell_type": "markdown",
   "metadata": {},
   "source": [
    "### проверим на уникальность "
   ]
  },
  {
   "cell_type": "code",
   "execution_count": 276,
   "metadata": {},
   "outputs": [
    {
     "data": {
      "text/plain": [
       "array([ 1,  0,  3,  2, -1,  4, 20,  5])"
      ]
     },
     "execution_count": 276,
     "metadata": {},
     "output_type": "execute_result"
    }
   ],
   "source": [
    "data['children'].unique()"
   ]
  },
  {
   "cell_type": "markdown",
   "metadata": {},
   "source": [
    "#### С количеством детей не всё в порядке.\n",
    "1. Отрицательное значение - это описка. надо внести то же значение, но положительное\n",
    "2. Огромное значение - 20! Тоже описка... Удалить лишний НОЛЬ в записи \n",
    "Делаем:"
   ]
  },
  {
   "cell_type": "code",
   "execution_count": 277,
   "metadata": {},
   "outputs": [
    {
     "data": {
      "text/plain": [
       "array([ 1,  0,  3,  2,  4, 20,  5])"
      ]
     },
     "execution_count": 277,
     "metadata": {},
     "output_type": "execute_result"
    }
   ],
   "source": [
    "# ЗАМЕНА ОТРИЦАТЕЛЬНОГО ЗНАЧЕНИЯ\n",
    "data.loc[data['children'] == -1, 'children'] = 1\n",
    "data['children'].unique()"
   ]
  },
  {
   "cell_type": "markdown",
   "metadata": {},
   "source": [
    "-1 успешно заменил на 1\n",
    "Теперь черёд за 20"
   ]
  },
  {
   "cell_type": "code",
   "execution_count": 278,
   "metadata": {},
   "outputs": [
    {
     "data": {
      "text/plain": [
       "array([1, 0, 3, 2, 4, 5])"
      ]
     },
     "execution_count": 278,
     "metadata": {},
     "output_type": "execute_result"
    }
   ],
   "source": [
    "data.loc[data['children'] == 20, 'children'] = 2\n",
    "data['children'].unique()"
   ]
  },
  {
   "cell_type": "markdown",
   "metadata": {},
   "source": [
    "#### Количество детей - в норме!\n",
    "\n",
    "    Посмотрим распределение количества детей в выборке"
   ]
  },
  {
   "cell_type": "code",
   "execution_count": 279,
   "metadata": {},
   "outputs": [
    {
     "data": {
      "text/plain": [
       "<AxesSubplot:ylabel='Frequency'>"
      ]
     },
     "execution_count": 279,
     "metadata": {},
     "output_type": "execute_result"
    },
    {
     "data": {
      "image/png": "[encoded data removed]",
      "text/plain": [
       "<Figure size 432x288 with 1 Axes>"
      ]
     },
     "metadata": {
      "needs_background": "light"
     },
     "output_type": "display_data"
    }
   ],
   "source": [
    "childrens = data['children']\n",
    "\n",
    "childrens.plot(kind='hist')"
   ]
  },
  {
   "cell_type": "markdown",
   "metadata": {},
   "source": [
    "### 2. days_employed - трудовой стаж.\n"
   ]
  },
  {
   "cell_type": "markdown",
   "metadata": {},
   "source": [
    "из проверки пропуском известно, что данные по трудовому стажу содержат ~10% пропусков"
   ]
  },
  {
   "cell_type": "markdown",
   "metadata": {},
   "source": [
    "### проверим на уникальность "
   ]
  },
  {
   "cell_type": "code",
   "execution_count": 280,
   "metadata": {},
   "outputs": [
    {
     "data": {
      "text/plain": [
       "[-18388.949900568383,\n",
       " -17615.563265627912,\n",
       " -16593.472817263817,\n",
       " -15835.725774811905,\n",
       " -15785.678893355005,\n",
       " -15773.0613349239,\n",
       " -14051.20262056069,\n",
       " -13894.357289777596,\n",
       " -13025.425448134729,\n",
       " -12930.541677797675,\n",
       " -12785.542677341233,\n",
       " -12587.262898873396,\n",
       " -12401.233338542044,\n",
       " -12392.30937376918,\n",
       " -12136.131380846335,\n",
       " -12118.379735167442,\n",
       " -12111.680980751775,\n",
       " -11991.292307711721,\n",
       " -11986.106782911937,\n",
       " -11812.14035982973,\n",
       " -11618.566681617605,\n",
       " -11535.793753711898,\n",
       " -11483.095999199346,\n",
       " -11285.562241160947,\n",
       " -11281.47323346874,\n",
       " -11278.180447381976,\n",
       " -11160.551333435369,\n",
       " -11109.782505618114,\n",
       " -11001.589092067063,\n",
       " -10836.555588720423,\n",
       " -10585.567475865855,\n",
       " -10467.60071133001,\n",
       " -10433.32086747994,\n",
       " -10186.771682419445,\n",
       " -10080.60539363857,\n",
       " -10061.740619415676,\n",
       " -10038.818548915877,\n",
       " -10029.280777701162,\n",
       " -9973.979750576918,\n",
       " -9959.399532274549,\n",
       " -9923.896675736321,\n",
       " -9854.773564031651,\n",
       " -9776.519787488136,\n",
       " -9746.37271428679,\n",
       " -9725.456696975145,\n",
       " -9686.561022482496,\n",
       " -9659.002666289716,\n",
       " -9646.854265458189,\n",
       " -9615.751650712547,\n",
       " -9602.461603776348,\n",
       " -9571.514121508528,\n",
       " -9568.557153500707,\n",
       " -9566.241471478188,\n",
       " -9488.078233698932,\n",
       " -9330.10599999968,\n",
       " -9275.380235814286,\n",
       " -9157.132220508944,\n",
       " -9135.09430890925,\n",
       " -9099.945304784307,\n",
       " -9095.69447890868,\n",
       " -8976.892504383453,\n",
       " -8932.350480716399,\n",
       " -8899.603028838692,\n",
       " -8887.616288433555,\n",
       " -8829.378781167456,\n",
       " -8824.364708617695,\n",
       " -8782.934245458386,\n",
       " -8746.765778711992,\n",
       " -8719.808250852559,\n",
       " -8631.590122353682,\n",
       " -8615.745089274904,\n",
       " -8609.220392972165,\n",
       " -8602.090178040791,\n",
       " -8592.882394014614,\n",
       " -8584.580934350999,\n",
       " -8480.644012254124,\n",
       " -8446.582814442747,\n",
       " -8437.673027760233,\n",
       " -8212.476715396959,\n",
       " -8190.644408530114,\n",
       " -8172.40688208096,\n",
       " -8164.333209415941,\n",
       " -8154.195288752625,\n",
       " -8130.877037664818,\n",
       " -8123.205745904102,\n",
       " -8109.4133534055945,\n",
       " -8089.308003023009,\n",
       " -8088.399951779013,\n",
       " -8079.468003133976,\n",
       " -8044.1079010936965,\n",
       " -8035.487285283257,\n",
       " -8035.234914535695,\n",
       " -7994.155484859207,\n",
       " -7992.968248525256,\n",
       " -7927.550380113262,\n",
       " -7904.896521255446,\n",
       " -7845.6492334208915,\n",
       " -7834.785789556054,\n",
       " -7816.755458583217,\n",
       " -7814.429301095566,\n",
       " -7813.942226451337,\n",
       " -7809.310100573252,\n",
       " -7789.878700774075,\n",
       " -7728.151150683214,\n",
       " -7708.2456258779785,\n",
       " -7694.8498315674515,\n",
       " -7685.7350045572375,\n",
       " -7653.142780889087,\n",
       " -7635.257678940279,\n",
       " -7630.315266996992,\n",
       " -7616.1582887648765,\n",
       " -7524.297243137453,\n",
       " -7504.600406270273,\n",
       " -7503.990313775303,\n",
       " -7491.6542261640125,\n",
       " -7473.902957321618,\n",
       " -7412.795384013416,\n",
       " -7408.575026749378,\n",
       " -7381.422128841863,\n",
       " -7330.243016328375,\n",
       " -7297.699004679404,\n",
       " -7288.363624401337,\n",
       " -7277.381294703891,\n",
       " -7241.662618223981,\n",
       " -7225.183330256846,\n",
       " -7221.841923226623,\n",
       " -7219.276087439847,\n",
       " -7196.688476570135,\n",
       " -7188.476595844089,\n",
       " -7188.409440335381,\n",
       " -7169.050925516276,\n",
       " -7138.4211350817,\n",
       " -7135.98554719351,\n",
       " -7130.49030105461,\n",
       " -7125.21502761462,\n",
       " -7120.517563545316,\n",
       " -7117.338200079958,\n",
       " -7107.810594650496,\n",
       " -7065.519910559171,\n",
       " -7059.100219613969,\n",
       " -7046.959946035344,\n",
       " -7040.241657612402,\n",
       " -7011.101568093588,\n",
       " -6975.473073012452,\n",
       " -6964.551047116738,\n",
       " -6953.631654563154,\n",
       " -6941.101777638035,\n",
       " -6929.865298973741,\n",
       " -6924.71047572085,\n",
       " -6908.351437265729,\n",
       " -6882.90924034635,\n",
       " -6848.15824567975,\n",
       " -6776.222574597668,\n",
       " -6744.591837900232,\n",
       " -6700.691726467584,\n",
       " -6687.663734566525,\n",
       " -6667.385825639845,\n",
       " -6609.531991028282,\n",
       " -6542.460790155981,\n",
       " -6540.615433291707,\n",
       " -6538.852756147725,\n",
       " -6521.03231937172,\n",
       " -6520.0807450899365,\n",
       " -6513.070546208326,\n",
       " -6482.4167230667335,\n",
       " -6448.810859676204,\n",
       " -6448.334981961401,\n",
       " -6416.550839382566,\n",
       " -6373.865375741792,\n",
       " -6319.0645728147765,\n",
       " -6310.825121188888,\n",
       " -6299.339295949524,\n",
       " -6260.556431285355,\n",
       " -6233.818080997358,\n",
       " -6199.85305544553,\n",
       " -6161.438146762656,\n",
       " -6138.955641033004,\n",
       " -6099.540437841569,\n",
       " -6093.350756463071,\n",
       " -6091.244443552354,\n",
       " -6083.9947296293385,\n",
       " -6080.771157006658,\n",
       " -6079.7530068724645,\n",
       " -6051.139188648625,\n",
       " -6040.029063948672,\n",
       " -6031.522891176548,\n",
       " -6018.146376100188,\n",
       " -5925.187716862056,\n",
       " -5915.786998106957,\n",
       " -5908.020695714904,\n",
       " -5901.6535766172265,\n",
       " -5865.31500734791,\n",
       " -5863.259029756954,\n",
       " -5828.824124086714,\n",
       " -5815.405650233454,\n",
       " -5801.257921720884,\n",
       " -5793.741211736386,\n",
       " -5772.479895574409,\n",
       " -5764.138309352122,\n",
       " -5754.168215309279,\n",
       " -5730.775717381802,\n",
       " -5730.569282658415,\n",
       " -5718.70890108714,\n",
       " -5714.2324744381685,\n",
       " -5704.67745788715,\n",
       " -5686.275084184841,\n",
       " -5673.867213704458,\n",
       " -5669.306292900135,\n",
       " -5635.610130734084,\n",
       " -5627.808754023097,\n",
       " -5623.422610230956,\n",
       " -5559.722771169424,\n",
       " -5550.338736252325,\n",
       " -5538.96373102039,\n",
       " -5534.29617595525,\n",
       " -5532.372185033889,\n",
       " -5522.55639869334,\n",
       " -5516.074792921193,\n",
       " -5505.1524468394055,\n",
       " -5500.600810429325,\n",
       " -5484.416234752971,\n",
       " -5474.136157118186,\n",
       " -5469.437894004046,\n",
       " -5464.9292688139785,\n",
       " -5459.47610006056,\n",
       " -5447.55323502803,\n",
       " -5441.0214192433,\n",
       " -5434.5981100640065,\n",
       " -5425.2019196052415,\n",
       " -5418.586982197971,\n",
       " -5416.578954034652,\n",
       " -5399.597660143182,\n",
       " -5369.839985007672,\n",
       " -5366.819177465132,\n",
       " -5320.815417821529,\n",
       " -5319.465236699566,\n",
       " -5308.084863703741,\n",
       " -5305.820500517959,\n",
       " -5303.876173159524,\n",
       " -5302.852697984219,\n",
       " -5300.968778845779,\n",
       " -5299.550420994502,\n",
       " -5298.67252570115,\n",
       " -5284.268866649021,\n",
       " -5279.541342628562,\n",
       " -5268.728166187976,\n",
       " -5267.841785143054,\n",
       " -5262.274168791312,\n",
       " -5259.603064904618,\n",
       " -5229.55206892918,\n",
       " -5226.850868760399,\n",
       " -5210.537204086915,\n",
       " -5209.2456907782625,\n",
       " -5208.815040597434,\n",
       " -5202.530538606559,\n",
       " -5191.238083975074,\n",
       " -5169.6953497435325,\n",
       " -5160.4715936649545,\n",
       " -5147.883547864875,\n",
       " -5147.039344065301,\n",
       " -5138.302522405341,\n",
       " -5135.9525467045705,\n",
       " -5127.814386271914,\n",
       " -5110.54370925475,\n",
       " -5088.640440288957,\n",
       " -5068.131076092304,\n",
       " -5064.05077187056,\n",
       " -5060.801294925056,\n",
       " -5050.292839852283,\n",
       " -5046.868143864158,\n",
       " -5039.197545942018,\n",
       " -5038.013976654158,\n",
       " -5026.2294602728525,\n",
       " -5015.397215893316,\n",
       " -5011.390018829166,\n",
       " -5010.9974361252725,\n",
       " -5000.071635438266,\n",
       " -4989.068201929922,\n",
       " -4986.928852828071,\n",
       " -4980.034172016182,\n",
       " -4973.6414847747665,\n",
       " -4969.759252564497,\n",
       " -4951.136006177764,\n",
       " -4946.678725510179,\n",
       " -4934.464144068521,\n",
       " -4915.4884664020565,\n",
       " -4910.470508836467,\n",
       " -4908.553230778513,\n",
       " -4907.239011557033,\n",
       " -4891.151643349373,\n",
       " -4879.008184516583,\n",
       " -4878.0819636948745,\n",
       " -4861.967528805665,\n",
       " -4857.999828508716,\n",
       " -4857.434669348369,\n",
       " -4855.666724799114,\n",
       " -4840.14079223087,\n",
       " -4828.875921696379,\n",
       " -4803.192024090922,\n",
       " -4801.988343356423,\n",
       " -4794.907581677028,\n",
       " -4785.597982460923,\n",
       " -4781.798666594883,\n",
       " -4769.746242346186,\n",
       " -4760.5870750364,\n",
       " -4741.616334759724,\n",
       " -4719.667259111404,\n",
       " -4716.815777959321,\n",
       " -4711.267331570009,\n",
       " -4668.064158424724,\n",
       " -4666.336876446457,\n",
       " -4652.167869366604,\n",
       " -4651.225837078215,\n",
       " -4649.910831728614,\n",
       " -4643.860127829179,\n",
       " -4641.848836352375,\n",
       " -4637.503073333261,\n",
       " -4632.055833772836,\n",
       " -4600.120481298623,\n",
       " -4598.8921936195175,\n",
       " -4593.285880715305,\n",
       " -4577.7536299691055,\n",
       " -4576.985825049242,\n",
       " -4572.6101138803115,\n",
       " -4559.499142485821,\n",
       " -4549.42990794157,\n",
       " -4518.8763566831985,\n",
       " -4515.641117974326,\n",
       " -4490.448028329596,\n",
       " -4488.592303807987,\n",
       " -4488.067031277062,\n",
       " -4487.420433202849,\n",
       " -4472.64760525862,\n",
       " -4462.2513422632455,\n",
       " -4459.86702910143,\n",
       " -4457.790073429538,\n",
       " -4457.496575426593,\n",
       " -4450.961868593519,\n",
       " -4450.927075784145,\n",
       " -4448.17519277584,\n",
       " -4448.055791161623,\n",
       " -4437.888648487182,\n",
       " -4433.969620723834,\n",
       " -4417.703587995504,\n",
       " -4416.841953048756,\n",
       " -4392.472252638785,\n",
       " -4386.038610365559,\n",
       " -4375.681384360526,\n",
       " -4371.921724404406,\n",
       " -4359.979165003184,\n",
       " -4354.0379104268495,\n",
       " -4351.073663144774,\n",
       " -4345.493682586098,\n",
       " -4342.202160355454,\n",
       " -4341.7867754100425,\n",
       " -4336.114295109743,\n",
       " -4317.042154092324,\n",
       " -4288.714409674496,\n",
       " -4287.7358128107135,\n",
       " -4286.797126838585,\n",
       " -4282.541728612978,\n",
       " -4271.528215497427,\n",
       " -4249.475970794927,\n",
       " -4247.476347119155,\n",
       " -4243.048740779163,\n",
       " -4238.065046639645,\n",
       " -4226.0296024679965,\n",
       " -4222.607191239774,\n",
       " -4219.88338560805,\n",
       " -4216.472967351125,\n",
       " -4213.971538657686,\n",
       " -4213.6447198452115,\n",
       " -4212.763441563971,\n",
       " -4195.615024911685,\n",
       " -4193.7184645103225,\n",
       " -4182.5625914647335,\n",
       " -4182.389828924884,\n",
       " -4177.551654601078,\n",
       " -4175.515408578603,\n",
       " -4172.794306225857,\n",
       " -4171.830862310273,\n",
       " -4171.483646903305,\n",
       " -4171.107677064886,\n",
       " -4164.518916451052,\n",
       " -4157.4184479199985,\n",
       " -4141.231544722359,\n",
       " -4136.15749820561,\n",
       " -4133.696737035403,\n",
       " -4124.747206540018,\n",
       " -4092.078715824274,\n",
       " -4084.941774570823,\n",
       " -4077.133943401135,\n",
       " -4071.902645344589,\n",
       " -4068.8758414358895,\n",
       " -4062.261213537107,\n",
       " -4025.889116498281,\n",
       " -4024.803753850451,\n",
       " -4022.062040383069,\n",
       " -4020.334267887682,\n",
       " -4016.445178900168,\n",
       " -4004.174511334397,\n",
       " -4003.5095915688985,\n",
       " -3999.737904246077,\n",
       " -3995.4283359563788,\n",
       " -3993.7926037420552,\n",
       " -3981.8681175634833,\n",
       " -3975.301497782472,\n",
       " -3960.547824690069,\n",
       " -3959.665869897827,\n",
       " -3949.3881885066553,\n",
       " -3948.224795314823,\n",
       " -3939.086047163836,\n",
       " -3934.7702131426868,\n",
       " -3930.902795725896,\n",
       " -3929.5192897857,\n",
       " -3917.549147117461,\n",
       " -3915.595114082557,\n",
       " -3914.7140493823076,\n",
       " -3891.402929438224,\n",
       " -3890.0367791335298,\n",
       " -3877.757713076882,\n",
       " -3876.154494936793,\n",
       " -3864.985069789292,\n",
       " -3862.196922061204,\n",
       " -3844.8453971363897,\n",
       " -3842.179239376005,\n",
       " -3828.0347743747707,\n",
       " -3817.113294534001,\n",
       " -3813.902832111676,\n",
       " -3809.8460007985095,\n",
       " -3809.266091167581,\n",
       " -3809.150162492887,\n",
       " -3803.807419355826,\n",
       " -3792.447240982605,\n",
       " -3792.3488777055736,\n",
       " -3755.843042173655,\n",
       " -3743.958245005381,\n",
       " -3741.713915976965,\n",
       " -3726.8719186953967,\n",
       " -3716.716393334109,\n",
       " -3711.696342813176,\n",
       " -3709.8389414606468,\n",
       " -3708.049474337087,\n",
       " -3707.5575428351476,\n",
       " -3702.968458418515,\n",
       " -3699.107610810641,\n",
       " -3675.617929176691,\n",
       " -3675.3212007734937,\n",
       " -3669.802463192445,\n",
       " -3660.205511391955,\n",
       " -3647.0247562002883,\n",
       " -3644.761003910719,\n",
       " -3643.650329950464,\n",
       " -3642.738846938599,\n",
       " -3639.146925864037,\n",
       " -3635.3943532657568,\n",
       " -3634.362143722157,\n",
       " -3634.225659551333,\n",
       " -3619.062925749579,\n",
       " -3612.129528558646,\n",
       " -3611.670311085897,\n",
       " -3606.521499073329,\n",
       " -3604.6454749485742,\n",
       " -3599.3293917694427,\n",
       " -3597.776387865821,\n",
       " -3594.9401108474635,\n",
       " -3593.016337277802,\n",
       " -3582.1060208543395,\n",
       " -3579.9920807279327,\n",
       " -3575.332126328978,\n",
       " -3572.9330368622527,\n",
       " -3562.332225949645,\n",
       " -3560.676029384287,\n",
       " -3557.5955777059808,\n",
       " -3557.495072910118,\n",
       " -3554.6715257531628,\n",
       " -3551.609375326472,\n",
       " -3549.1173327955407,\n",
       " -3539.678658063227,\n",
       " -3531.690994381657,\n",
       " -3530.4405947396863,\n",
       " -3527.1623754761195,\n",
       " -3524.8635431963194,\n",
       " -3509.460553675715,\n",
       " -3484.9454505933973,\n",
       " -3480.072792773725,\n",
       " -3474.0251596470525,\n",
       " -3465.921547699074,\n",
       " -3461.2172649472277,\n",
       " -3456.2066609550893,\n",
       " -3446.7868230539534,\n",
       " -3431.5180831926064,\n",
       " -3424.468481627795,\n",
       " -3423.142863891251,\n",
       " -3421.2206585036824,\n",
       " -3413.500494713437,\n",
       " -3404.092425717543,\n",
       " -3401.7508170926008,\n",
       " -3400.888533172933,\n",
       " -3397.208031978019,\n",
       " -3396.1680854528527,\n",
       " -3386.5239837866748,\n",
       " -3382.078853135778,\n",
       " -3376.2010912834007,\n",
       " -3371.190015375976,\n",
       " -3369.41931220035,\n",
       " -3358.169911615244,\n",
       " -3345.0737279666228,\n",
       " -3344.527696765014,\n",
       " -3341.859989544421,\n",
       " -3341.0678863600633,\n",
       " -3338.8677462507726,\n",
       " -3331.044111519474,\n",
       " -3330.9892178791065,\n",
       " -3329.8214973928857,\n",
       " -3329.0772212319457,\n",
       " -3317.762070541382,\n",
       " -3317.168729070116,\n",
       " -3316.2479504795037,\n",
       " -3301.1521514637952,\n",
       " -3291.692696727779,\n",
       " -3291.006922759942,\n",
       " -3285.7268733995948,\n",
       " -3278.296751179717,\n",
       " -3271.6598172718573,\n",
       " -3271.0578951386306,\n",
       " -3259.2028192727885,\n",
       " -3257.8761886138263,\n",
       " -3250.5679817931787,\n",
       " -3249.4931203231513,\n",
       " -3248.8398373973273,\n",
       " -3240.5997265163733,\n",
       " -3237.4101058713877,\n",
       " -3236.795575343229,\n",
       " -3233.427850451357,\n",
       " -3231.940869720412,\n",
       " -3229.9869172201043,\n",
       " -3223.681004608413,\n",
       " -3223.219672698033,\n",
       " -3222.480371841416,\n",
       " -3219.7848785665783,\n",
       " -3216.3819721159593,\n",
       " -3214.138897463785,\n",
       " -3212.209969636765,\n",
       " -3207.4747696666686,\n",
       " -3204.219522736323,\n",
       " -3197.3783452206194,\n",
       " -3196.834648873169,\n",
       " -3192.829889303177,\n",
       " -3190.008382748056,\n",
       " -3188.7157184742364,\n",
       " -3170.888204009769,\n",
       " -3161.5391941151233,\n",
       " -3161.323792451334,\n",
       " -3161.0180821630047,\n",
       " -3143.965479158149,\n",
       " -3139.758507369601,\n",
       " -3138.344887084405,\n",
       " -3133.246082407673,\n",
       " -3132.180734195495,\n",
       " -3131.102765779381,\n",
       " -3130.163667921265,\n",
       " -3123.3956903193816,\n",
       " -3122.199019276733,\n",
       " -3122.0346257936176,\n",
       " -3115.8088724363206,\n",
       " -3108.8344425355353,\n",
       " -3104.6146443798034,\n",
       " -3088.2624034052974,\n",
       " -3076.974561668217,\n",
       " -3076.9313344557313,\n",
       " -3073.4657553778584,\n",
       " -3073.392977883561,\n",
       " -3067.097357678106,\n",
       " -3063.204024344747,\n",
       " -3051.887002048248,\n",
       " -3049.1890537114477,\n",
       " -3048.9890852682897,\n",
       " -3045.290443209916,\n",
       " -3033.3034329118627,\n",
       " -3031.550767536256,\n",
       " -3026.706578200927,\n",
       " -3019.6184516935523,\n",
       " -3017.782065456124,\n",
       " -3015.920700462774,\n",
       " -3010.6064683320647,\n",
       " -3010.454664967421,\n",
       " -3000.1202200989464,\n",
       " -2995.508682969653,\n",
       " -2991.121480575113,\n",
       " -2986.20212028634,\n",
       " -2982.6398980422227,\n",
       " -2981.530724852829,\n",
       " -2978.954843677934,\n",
       " -2974.5314123817025,\n",
       " -2968.8382405422913,\n",
       " -2968.324197662141,\n",
       " -2967.395051052129,\n",
       " -2967.2924487139085,\n",
       " -2961.549737645941,\n",
       " -2953.7500652225604,\n",
       " -2953.151947577933,\n",
       " -2953.054815377364,\n",
       " -2949.2779182644435,\n",
       " -2948.695603947209,\n",
       " -2947.4054191701057,\n",
       " -2945.409586481739,\n",
       " -2944.903972464101,\n",
       " -2941.1765892544245,\n",
       " -2940.06141418675,\n",
       " -2929.224040903323,\n",
       " -2924.715489842657,\n",
       " -2924.5983864777645,\n",
       " -2923.3900717774322,\n",
       " -2922.866017195539,\n",
       " -2918.295327495785,\n",
       " -2915.524925130429,\n",
       " -2912.02491949,\n",
       " -2911.9136696932287,\n",
       " -2907.910615964881,\n",
       " -2904.7304659214183,\n",
       " -2904.387707544877,\n",
       " -2896.1961896364787,\n",
       " -2892.015606880572,\n",
       " -2888.5517238004663,\n",
       " -2885.1421882674586,\n",
       " -2879.202052139952,\n",
       " -2875.499547903885,\n",
       " -2874.6410819209477,\n",
       " -2870.58170753472,\n",
       " -2869.381395529153,\n",
       " -2869.107542956739,\n",
       " -2868.567705027148,\n",
       " -2863.976018572737,\n",
       " -2853.949410583572,\n",
       " -2852.607074914625,\n",
       " -2850.0608594640503,\n",
       " -2847.503084796925,\n",
       " -2845.3523882349004,\n",
       " -2844.4217589635637,\n",
       " -2843.6244611558045,\n",
       " -2842.354000796625,\n",
       " -2838.488194419897,\n",
       " -2837.979933705902,\n",
       " -2829.665755236844,\n",
       " -2828.701927984344,\n",
       " -2826.683242799563,\n",
       " -2826.176623851899,\n",
       " -2819.272210238339,\n",
       " -2819.1356357512236,\n",
       " -2806.692830826669,\n",
       " -2805.4858963127544,\n",
       " -2802.2266713967297,\n",
       " -2799.2537366378365,\n",
       " -2797.507333365747,\n",
       " -2797.183296159896,\n",
       " -2796.0960297667875,\n",
       " -2776.2676478925514,\n",
       " -2774.655137092032,\n",
       " -2766.243884238525,\n",
       " -2761.77853720514,\n",
       " -2749.983621584219,\n",
       " -2739.029146801227,\n",
       " -2732.158391066357,\n",
       " -2730.773824253628,\n",
       " -2727.1881656706078,\n",
       " -2725.9705734796325,\n",
       " -2724.889726035953,\n",
       " -2722.8507708057045,\n",
       " -2721.18255952057,\n",
       " -2716.17757843869,\n",
       " -2713.540713517953,\n",
       " -2712.267589092641,\n",
       " -2710.8314197325767,\n",
       " -2709.4313583545104,\n",
       " -2709.3687361875877,\n",
       " -2709.0690390782934,\n",
       " -2706.157795285248,\n",
       " -2705.6554035216377,\n",
       " -2697.9169728132692,\n",
       " -2689.8627792050456,\n",
       " -2689.431546974069,\n",
       " -2689.1372742032745,\n",
       " -2682.1292070282484,\n",
       " -2679.266911199166,\n",
       " -2677.2981080362665,\n",
       " -2676.977538664547,\n",
       " -2673.642235451851,\n",
       " -2664.273168317157,\n",
       " -2663.734038999717,\n",
       " -2658.4860825068777,\n",
       " -2650.1590792866627,\n",
       " -2646.1900185370223,\n",
       " -2626.220292852292,\n",
       " -2622.7998990230635,\n",
       " -2621.989667042312,\n",
       " -2619.03863961576,\n",
       " -2618.6712370983028,\n",
       " -2616.0646727211647,\n",
       " -2613.3418798030825,\n",
       " -2605.748170763408,\n",
       " -2603.5853263616486,\n",
       " -2602.0857644325,\n",
       " -2595.2252398912883,\n",
       " -2591.5801485165352,\n",
       " -2585.402858170127,\n",
       " -2583.991628262609,\n",
       " -2574.886736441323,\n",
       " -2573.1367803783523,\n",
       " -2572.053172717263,\n",
       " -2572.0415508134547,\n",
       " -2571.62906712357,\n",
       " -2571.577634955785,\n",
       " -2571.56927205381,\n",
       " -2570.0647509688933,\n",
       " -2568.192779556794,\n",
       " -2565.976861094471,\n",
       " -2560.879963699005,\n",
       " -2559.9358575242763,\n",
       " -2553.632052317817,\n",
       " -2544.6516619013664,\n",
       " -2540.7213747007268,\n",
       " -2539.534295095165,\n",
       " -2538.0453262964943,\n",
       " -2536.2882113926944,\n",
       " -2534.462390327333,\n",
       " -2531.6011904356965,\n",
       " -2524.3021055903064,\n",
       " -2523.847898226973,\n",
       " -2521.934228530773,\n",
       " -2518.7415620689067,\n",
       " -2514.5453591125925,\n",
       " -2514.3219208648857,\n",
       " -2502.8917978265904,\n",
       " -2494.132881877913,\n",
       " -2489.817634178185,\n",
       " -2487.484455449772,\n",
       " -2483.3275455755866,\n",
       " -2477.235805594523,\n",
       " -2471.5485518184228,\n",
       " -2469.699251827948,\n",
       " -2468.784738414269,\n",
       " -2463.092356713483,\n",
       " -2462.945962603394,\n",
       " -2462.0492716988865,\n",
       " -2460.5681365251244,\n",
       " -2460.0554207874675,\n",
       " -2452.8301370141958,\n",
       " -2438.311066045649,\n",
       " -2437.4670503565867,\n",
       " -2437.3501889502395,\n",
       " -2436.8021028772173,\n",
       " -2435.253928230252,\n",
       " -2432.309724244473,\n",
       " -2430.1667018015187,\n",
       " -2428.965465844038,\n",
       " -2424.809748937992,\n",
       " -2419.128599041311,\n",
       " -2418.488859868085,\n",
       " -2418.1582610460155,\n",
       " -2417.0796352137822,\n",
       " -2415.350949504732,\n",
       " -2413.583486183108,\n",
       " -2412.015123346899,\n",
       " -2411.1797505945237,\n",
       " -2406.7150904285545,\n",
       " -2392.94167777023,\n",
       " -2392.4838937212576,\n",
       " -2390.9274149486882,\n",
       " -2389.281012551515,\n",
       " -2387.578816404587,\n",
       " -2383.935932438916,\n",
       " -2381.218151658187,\n",
       " -2376.7593564803915,\n",
       " -2371.6201167135323,\n",
       " -2369.999720209008,\n",
       " -2367.6397615128312,\n",
       " -2362.5642745377327,\n",
       " -2361.331552760433,\n",
       " -2357.523213608679,\n",
       " -2357.4598724654393,\n",
       " -2352.744808831802,\n",
       " -2337.131804294191,\n",
       " -2335.147943151906,\n",
       " -2331.3344843602567,\n",
       " -2330.4476560629682,\n",
       " -2319.817258826756,\n",
       " -2313.3375198128533,\n",
       " -2307.778405804266,\n",
       " -2306.171209474201,\n",
       " -2304.25005415897,\n",
       " -2293.5375962103612,\n",
       " -2292.550500042557,\n",
       " -2291.3903952202936,\n",
       " -2290.8139941916097,\n",
       " -2290.335113907868,\n",
       " -2285.0305756933403,\n",
       " -2283.671065878953,\n",
       " -2282.952834606781,\n",
       " -2282.855206874441,\n",
       " -2277.897532336699,\n",
       " -2271.378913069691,\n",
       " -2270.412491065429,\n",
       " -2266.876930716002,\n",
       " -2265.9622080693725,\n",
       " -2264.1252986358013,\n",
       " -2263.846550966581,\n",
       " -2262.712303593806,\n",
       " -2259.530440481879,\n",
       " -2257.799963371084,\n",
       " -2254.4311298432763,\n",
       " -2252.1927219941026,\n",
       " -2248.330509460373,\n",
       " -2244.046541150376,\n",
       " -2240.666842791865,\n",
       " -2239.5574582515374,\n",
       " -2234.091595385516,\n",
       " -2225.8152133163835,\n",
       " -2225.4460626425107,\n",
       " -2222.382681698248,\n",
       " -2220.384764836021,\n",
       " -2219.7284001747967,\n",
       " -2216.863793456685,\n",
       " -2214.0895559954515,\n",
       " -2211.1746334711133,\n",
       " -2209.2526165559616,\n",
       " -2208.8951604507442,\n",
       " -2205.1859065653307,\n",
       " -2204.7503102720307,\n",
       " -2204.0557317141224,\n",
       " -2198.0594541807714,\n",
       " -2197.760065681492,\n",
       " -2194.470501228366,\n",
       " -2194.2072712708277,\n",
       " -2191.261971300473,\n",
       " -2188.846984754641,\n",
       " -2188.7564450779378,\n",
       " -2183.473091107773,\n",
       " -2175.0829532587163,\n",
       " -2171.415133041578,\n",
       " -2169.32001012008,\n",
       " -2161.5915186437733,\n",
       " -2159.29799182208,\n",
       " -2157.7790650734746,\n",
       " -2155.4617815226075,\n",
       " -2152.475526346754,\n",
       " -2152.409036014111,\n",
       " -2147.472607702785,\n",
       " -2147.0943313632943,\n",
       " -2146.8840401885363,\n",
       " -2146.7199539565604,\n",
       " -2144.8789501003816,\n",
       " -2140.1999543306197,\n",
       " -2135.656247711006,\n",
       " -2134.389248040505,\n",
       " -2132.7922014551386,\n",
       " -2131.448927769831,\n",
       " -2125.9140496351415,\n",
       " -2125.8238552925463,\n",
       " -2124.3362224361067,\n",
       " -2113.730190830085,\n",
       " -2112.694563350404,\n",
       " -2111.4786021378977,\n",
       " -2109.314690632105,\n",
       " -2108.359826962866,\n",
       " -2108.157941044932,\n",
       " -2107.6347175778164,\n",
       " -2105.382664335544,\n",
       " -2098.6262962257147,\n",
       " -2096.530359794336,\n",
       " -2091.350341997185,\n",
       " -2089.1137157512426,\n",
       " -2088.9511486363754,\n",
       " -2088.926242756568,\n",
       " -2087.2379030237275,\n",
       " -2083.882773599108,\n",
       " -2080.740408224058,\n",
       " -2078.9164322606835,\n",
       " -2076.680503268908,\n",
       " -2068.5332525034164,\n",
       " -2067.5526849219314,\n",
       " -2066.908426077889,\n",
       " -2066.396562744798,\n",
       " -2063.2234729922893,\n",
       " -2060.358687167507,\n",
       " -2055.945345433258,\n",
       " -2050.159363197502,\n",
       " -2049.211575996865,\n",
       " -2047.754732982809,\n",
       " -2046.5139138236007,\n",
       " -2042.2869963197384,\n",
       " -2041.2172499608664,\n",
       " -2039.5623751355536,\n",
       " -2033.5777598788416,\n",
       " -2030.055277168471,\n",
       " -2029.6724132504874,\n",
       " -2027.6302309683472,\n",
       " -2026.8357917940314,\n",
       " -2026.6851525818438,\n",
       " -2022.3406771139053,\n",
       " -2021.691681643049,\n",
       " -2021.621929301389,\n",
       " -2015.0094650666672,\n",
       " -2004.4049996514425,\n",
       " -1999.2914877530936,\n",
       " -1996.7328554379267,\n",
       " -1988.2287439114307,\n",
       " -1988.1276239514887,\n",
       " -1984.423096036232,\n",
       " -1982.3095651221515,\n",
       " -1981.24199084888,\n",
       " -1977.993064481771,\n",
       " -1977.445599880811,\n",
       " -1977.2646389282893,\n",
       " -1977.030804050617,\n",
       " -1974.4134586668704,\n",
       " -1970.3566228391144,\n",
       " -1970.311944098818,\n",
       " -1965.1416011718047,\n",
       " -1963.897150617444,\n",
       " -1962.6217704973599,\n",
       " -1958.6474765260352,\n",
       " -1955.8282750869016,\n",
       " -1951.996973710401,\n",
       " -1950.7047838200888,\n",
       " -1945.3766760759027,\n",
       " -1945.1326738942428,\n",
       " -1941.4689143683468,\n",
       " -1940.1658534172104,\n",
       " -1933.31899355189,\n",
       " -1931.8838800690328,\n",
       " -1924.04290405812,\n",
       " -1919.435673200373,\n",
       " -1918.3597568074008,\n",
       " -1912.6526781783866,\n",
       " -1910.0375923185568,\n",
       " -1904.1544524590536,\n",
       " -1903.7891041953744,\n",
       " -1903.6755347605008,\n",
       " -1901.691144965597,\n",
       " -1899.800109448906,\n",
       " -1893.2998286398856,\n",
       " -1890.981126001715,\n",
       " -1889.2004905591,\n",
       " -1887.4691751191456,\n",
       " -1884.1109023944625,\n",
       " -1884.1012119495315,\n",
       " -1882.1769844225491,\n",
       " -1878.158947875552,\n",
       " -1877.9580448089887,\n",
       " -1875.9720125305307,\n",
       " -1874.643832749109,\n",
       " -1873.4098846973093,\n",
       " -1872.663186426345,\n",
       " -1870.9715118103525,\n",
       " -1870.8499253202265,\n",
       " -1867.7429285331687,\n",
       " -1867.3596206514144,\n",
       " -1865.6070498875165,\n",
       " -1863.4011030225727,\n",
       " -1862.917253993262,\n",
       " -1858.299278274381,\n",
       " -1855.8340659242056,\n",
       " -1855.2118308964734,\n",
       " -1851.6801275556709,\n",
       " -1850.5429228995754,\n",
       " -1846.6419410560736,\n",
       " -1845.8732916015922,\n",
       " -1844.9561821875545,\n",
       " -1842.4060491146881,\n",
       " -1841.3580944791947,\n",
       " -1838.5037871181705,\n",
       " -1837.7970562427365,\n",
       " -1827.9875247981008,\n",
       " -1827.4161968138405,\n",
       " -1823.9162970426867,\n",
       " -1820.37123703974,\n",
       " -1818.6893859063928,\n",
       " -1818.660700192093,\n",
       " -1811.8997562080267,\n",
       " -1811.4810454032388,\n",
       " -1804.2702042085714,\n",
       " -1804.0832946532366,\n",
       " -1803.9306052678608,\n",
       " -1799.4557752499393,\n",
       " -1795.2522641257615,\n",
       " -1790.3531193427334,\n",
       " -1790.1852146032465,\n",
       " -1788.1646787622437,\n",
       " -1783.0243357218094,\n",
       " -1781.2122190341452,\n",
       " -1775.22171768061,\n",
       " -1773.236413005683,\n",
       " -1771.9367827324127,\n",
       " -1767.113958621328,\n",
       " -1766.6441376815046,\n",
       " -1765.5573866944574,\n",
       " -1765.393296887101,\n",
       " -1764.0431782323362,\n",
       " -1763.9307556354972,\n",
       " ...]"
      ]
     },
     "execution_count": 280,
     "metadata": {},
     "output_type": "execute_result"
    }
   ],
   "source": [
    "# посмотрим список снизу\n",
    "sorted(data['days_employed'].unique())"
   ]
  },
  {
   "cell_type": "code",
   "execution_count": 281,
   "metadata": {
    "scrolled": true
   },
   "outputs": [
    {
     "data": {
      "text/plain": [
       "[401755.40047533,\n",
       " 401715.8117488882,\n",
       " 401675.093433862,\n",
       " 401674.4666333656,\n",
       " 401663.8500458008,\n",
       " 401635.0326971183,\n",
       " 401619.6332980906,\n",
       " 401614.47562223615,\n",
       " 401591.8284573659,\n",
       " 401590.452230711,\n",
       " 401575.19672763156,\n",
       " 401573.9052883258,\n",
       " 401556.7535504825,\n",
       " 401524.25915292674,\n",
       " 401517.2763879868,\n",
       " 401486.70674559905,\n",
       " 401458.8777808532,\n",
       " 401446.44671989843,\n",
       " 401440.83433553757,\n",
       " 401381.7361559379,\n",
       " 401378.57076131686,\n",
       " 401371.3597884085,\n",
       " 401369.48360249796,\n",
       " 401364.8528819214,\n",
       " 401345.92671873467,\n",
       " 401331.66894736607,\n",
       " 401321.96460187936,\n",
       " 401291.52973885625,\n",
       " 401271.3638159447,\n",
       " 401256.7450895178,\n",
       " 401226.8005445055,\n",
       " 401223.83866732224,\n",
       " 401215.4597847833,\n",
       " 401188.91738477116,\n",
       " 401161.15825071634,\n",
       " 401123.55420327577,\n",
       " 401113.11910363147,\n",
       " 401090.0582086254,\n",
       " 401063.80451215,\n",
       " 401035.29281468474,\n",
       " 401021.5008821889,\n",
       " 401020.6425721485,\n",
       " 400997.27089830406,\n",
       " 400992.43657013256,\n",
       " 400992.3757037226,\n",
       " 400977.33453790797,\n",
       " 400961.9093641943,\n",
       " 400954.24784490647,\n",
       " 400892.4311387271,\n",
       " 400834.1331982341,\n",
       " 400820.11155372026,\n",
       " 400756.8201390229,\n",
       " 400691.39968374226,\n",
       " 400655.63966127107,\n",
       " 400581.3113934165,\n",
       " 400556.21838856646,\n",
       " 400553.7984359304,\n",
       " 400541.4087152062,\n",
       " 400534.63151608297,\n",
       " 400513.59731324756,\n",
       " 400512.7325745214,\n",
       " 400508.874182473,\n",
       " 400460.4684024609,\n",
       " 400427.2343860835,\n",
       " 400410.2036934645,\n",
       " 400376.1006401991,\n",
       " 400267.8420216164,\n",
       " 400224.52988209116,\n",
       " 400185.8808061889,\n",
       " 400165.3407182535,\n",
       " 400149.50972617615,\n",
       " 400147.9473109316,\n",
       " 400127.6172491229,\n",
       " 400124.13943170017,\n",
       " 400120.9667452166,\n",
       " 400109.87570614,\n",
       " 400056.8101599357,\n",
       " 400051.9716644644,\n",
       " 400050.01478716155,\n",
       " 400032.0582146421,\n",
       " 400008.5532248253,\n",
       " 400000.7324662252,\n",
       " 399950.2565491157,\n",
       " 399926.1711116827,\n",
       " 399894.6986624818,\n",
       " 399889.0600810908,\n",
       " 399855.8526238703,\n",
       " 399820.8898116207,\n",
       " 399736.06018477393,\n",
       " 399732.682929142,\n",
       " 399728.8665674789,\n",
       " 399693.4856893632,\n",
       " 399682.2846822073,\n",
       " 399658.6299397256,\n",
       " 399622.4437503436,\n",
       " 399617.1406695482,\n",
       " 399581.88237617287,\n",
       " 399563.8826295628,\n",
       " 399560.1233422703,\n",
       " 399524.5738244524,\n",
       " 399495.5096599696,\n",
       " 399448.87797372695,\n",
       " 399436.0998398833,\n",
       " 399413.1117667508,\n",
       " 399406.2691356916,\n",
       " 399398.38870673854,\n",
       " 399382.5039650786,\n",
       " 399375.6522927992,\n",
       " 399350.1188888853,\n",
       " 399346.6991313356,\n",
       " 399306.96483742056,\n",
       " 399260.4485155553,\n",
       " 399248.8867235077,\n",
       " 399244.8556411115,\n",
       " 399211.4532545268,\n",
       " 399201.5994537378,\n",
       " 399170.81933135155,\n",
       " 399155.68482068414,\n",
       " 399152.78942854353,\n",
       " 399150.2592510871,\n",
       " 399049.2778639722,\n",
       " 398910.8419682014,\n",
       " 398885.1862434892,\n",
       " 398876.3014860504,\n",
       " 398834.9301414443,\n",
       " 398822.3602132424,\n",
       " 398800.8965063803,\n",
       " 398779.2133942599,\n",
       " 398750.37129245646,\n",
       " 398749.82778609724,\n",
       " 398746.6733044913,\n",
       " 398736.72327261505,\n",
       " 398735.31611946673,\n",
       " 398715.8194756003,\n",
       " 398704.7897792815,\n",
       " 398662.21961493045,\n",
       " 398660.5630098707,\n",
       " 398654.1675192543,\n",
       " 398650.134574364,\n",
       " 398646.41158846545,\n",
       " 398600.0690177453,\n",
       " 398599.1424724869,\n",
       " 398484.86481900286,\n",
       " 398469.8144771949,\n",
       " 398431.9177800558,\n",
       " 398431.149721992,\n",
       " 398430.88340232044,\n",
       " 398425.61028850544,\n",
       " 398408.1830524196,\n",
       " 398390.7753949195,\n",
       " 398380.2540207468,\n",
       " 398354.5916265421,\n",
       " 398300.3624571615,\n",
       " 398288.8572338993,\n",
       " 398282.5388156411,\n",
       " 398278.8719082092,\n",
       " 398277.4158377235,\n",
       " 398272.2641389665,\n",
       " 398247.86036940326,\n",
       " 398206.63196772774,\n",
       " 398151.5340124893,\n",
       " 398149.1797921711,\n",
       " 398127.5687889961,\n",
       " 398099.3924325704,\n",
       " 398092.2951618283,\n",
       " 398078.5315634746,\n",
       " 398073.94758440217,\n",
       " 398039.48753897037,\n",
       " 398001.3028875425,\n",
       " 397961.7769379203,\n",
       " 397914.4816440885,\n",
       " 397905.00319993024,\n",
       " 397903.36416615156,\n",
       " 397867.70192510396,\n",
       " 397856.56501257187,\n",
       " 397844.8485736729,\n",
       " 397819.04474527814,\n",
       " 397812.1631269885,\n",
       " 397811.3777729872,\n",
       " 397779.4358178036,\n",
       " 397768.8802445651,\n",
       " 397743.1330456297,\n",
       " 397731.6530867117,\n",
       " 397704.8704438828,\n",
       " 397703.6975805254,\n",
       " 397680.94855920796,\n",
       " 397680.06524971104,\n",
       " 397671.50490179576,\n",
       " 397644.26726191095,\n",
       " 397606.72217414045,\n",
       " 397600.731411461,\n",
       " 397599.88619726384,\n",
       " 397598.8132347722,\n",
       " 397579.1732366004,\n",
       " 397548.7672443319,\n",
       " 397521.34364697133,\n",
       " 397507.7167278028,\n",
       " 397504.3802341239,\n",
       " 397442.5423033826,\n",
       " 397430.033306676,\n",
       " 397417.83526489115,\n",
       " 397408.46607208025,\n",
       " 397391.03748001024,\n",
       " 397368.7371442071,\n",
       " 397336.0814555146,\n",
       " 397328.73726458533,\n",
       " 397282.24743224186,\n",
       " 397237.7807149525,\n",
       " 397188.823163828,\n",
       " 397158.28664321336,\n",
       " 397156.50897206255,\n",
       " 397144.13129632006,\n",
       " 397134.3575480329,\n",
       " 397113.1231131953,\n",
       " 397062.699968135,\n",
       " 397042.71232332697,\n",
       " 397023.2691612104,\n",
       " 397005.47522008227,\n",
       " 396998.8242563836,\n",
       " 396979.32170180976,\n",
       " 396973.85014910577,\n",
       " 396960.26317959203,\n",
       " 396954.68793121015,\n",
       " 396949.8893968759,\n",
       " 396946.6747931846,\n",
       " 396925.5142556507,\n",
       " 396917.2773774677,\n",
       " 396909.0804505446,\n",
       " 396900.63361500937,\n",
       " 396881.25707974896,\n",
       " 396840.1001262311,\n",
       " 396814.1840801792,\n",
       " 396783.8837048239,\n",
       " 396759.0903098157,\n",
       " 396723.8328251525,\n",
       " 396703.5283695523,\n",
       " 396697.1385750904,\n",
       " 396689.04102102097,\n",
       " 396646.97898304695,\n",
       " 396641.81089315173,\n",
       " 396628.3675095777,\n",
       " 396597.1516975969,\n",
       " 396575.7303026654,\n",
       " 396568.887158519,\n",
       " 396541.4139882752,\n",
       " 396540.045010701,\n",
       " 396488.18800415343,\n",
       " 396436.30863325647,\n",
       " 396422.41446499905,\n",
       " 396416.8377176422,\n",
       " 396412.052305346,\n",
       " 396389.605378489,\n",
       " 396357.2728718806,\n",
       " 396340.0007851469,\n",
       " 396283.21924023685,\n",
       " 396193.5165391517,\n",
       " 396189.26912372775,\n",
       " 396125.80589405296,\n",
       " 396121.2034376458,\n",
       " 396106.1703408562,\n",
       " 396093.21881825133,\n",
       " 396083.69161696726,\n",
       " 396078.5420641729,\n",
       " 396070.4272383274,\n",
       " 396057.5351195665,\n",
       " 396046.5022366885,\n",
       " 396031.3684273309,\n",
       " 396027.42796917015,\n",
       " 396020.93338465935,\n",
       " 395979.28924841416,\n",
       " 395972.0931677292,\n",
       " 395971.6465482185,\n",
       " 395952.90404548787,\n",
       " 395933.7429363009,\n",
       " 395916.3852314078,\n",
       " 395909.526571126,\n",
       " 395903.9246213017,\n",
       " 395899.3519995793,\n",
       " 395893.8133666436,\n",
       " 395858.2629012196,\n",
       " 395835.89480896265,\n",
       " 395832.1052065796,\n",
       " 395826.68129474117,\n",
       " 395825.13252984686,\n",
       " 395814.8660365871,\n",
       " 395805.5396496386,\n",
       " 395796.7494281163,\n",
       " 395759.3530493151,\n",
       " 395750.5971120408,\n",
       " 395728.36139811255,\n",
       " 395710.5277164256,\n",
       " 395694.97908366047,\n",
       " 395675.4811138453,\n",
       " 395662.0904857356,\n",
       " 395651.5087522039,\n",
       " 395651.3704047506,\n",
       " 395646.1601846912,\n",
       " 395599.3793670752,\n",
       " 395578.78457806155,\n",
       " 395548.8251595375,\n",
       " 395540.9452174032,\n",
       " 395524.38223135576,\n",
       " 395508.4345074437,\n",
       " 395491.3537443136,\n",
       " 395484.0270759217,\n",
       " 395480.00944814883,\n",
       " 395470.9608540128,\n",
       " 395425.93273534795,\n",
       " 395420.48566307337,\n",
       " 395403.71946657,\n",
       " 395317.1459516085,\n",
       " 395302.838653562,\n",
       " 395294.57184861077,\n",
       " 395253.78992511454,\n",
       " 395243.7066576743,\n",
       " 395224.09806453896,\n",
       " 395223.84923094435,\n",
       " 395204.74907261325,\n",
       " 395199.4569994374,\n",
       " 395196.98448241904,\n",
       " 395165.2194637025,\n",
       " 395151.3570882657,\n",
       " 395146.9917072188,\n",
       " 395146.253734348,\n",
       " 395141.1002099875,\n",
       " 395127.6859066337,\n",
       " 395106.8838141915,\n",
       " 395079.75786780776,\n",
       " 395074.101985116,\n",
       " 395051.7576422965,\n",
       " 395002.7541214685,\n",
       " 394994.4766430102,\n",
       " 394992.2899763371,\n",
       " 394990.7678709237,\n",
       " 394949.3448514896,\n",
       " 394949.2786641791,\n",
       " 394938.2367124753,\n",
       " 394927.5358153048,\n",
       " 394926.8333551188,\n",
       " 394923.4808203587,\n",
       " 394881.73276422056,\n",
       " 394848.7808174195,\n",
       " 394844.48659696674,\n",
       " 394800.9015806528,\n",
       " 394796.5930007743,\n",
       " 394755.9782205064,\n",
       " 394727.35807500576,\n",
       " 394682.33218509203,\n",
       " 394657.227959007,\n",
       " 394599.9315186019,\n",
       " 394579.2994571693,\n",
       " 394574.82349061844,\n",
       " 394565.20746289287,\n",
       " 394549.9012312236,\n",
       " 394476.5532601321,\n",
       " 394453.590482719,\n",
       " 394440.0377418709,\n",
       " 394406.6419138953,\n",
       " 394383.9159991581,\n",
       " 394382.6436189128,\n",
       " 394381.3427019314,\n",
       " 394372.118413896,\n",
       " 394363.26486908796,\n",
       " 394328.1305363574,\n",
       " 394262.6444357469,\n",
       " 394233.12708487397,\n",
       " 394228.664310404,\n",
       " 394223.1250513767,\n",
       " 394214.527043999,\n",
       " 394194.17071063217,\n",
       " 394178.8214537727,\n",
       " 394164.91666805005,\n",
       " 394164.4065831844,\n",
       " 394146.0585567975,\n",
       " 394108.4008604747,\n",
       " 394101.3440405803,\n",
       " 394085.91109522025,\n",
       " 394054.6211364949,\n",
       " 394016.0300338185,\n",
       " 393990.55333276594,\n",
       " 393964.8409971221,\n",
       " 393921.4581466925,\n",
       " 393880.24176715186,\n",
       " 393859.1924682685,\n",
       " 393852.60337370477,\n",
       " 393831.9264719042,\n",
       " 393828.1688682389,\n",
       " 393825.2914776166,\n",
       " 393823.69583021046,\n",
       " 393799.97259229,\n",
       " 393769.9343824062,\n",
       " 393747.30750915024,\n",
       " 393725.4267949609,\n",
       " 393711.51992267795,\n",
       " 393693.1682437829,\n",
       " 393651.23696145095,\n",
       " 393649.35558122507,\n",
       " 393646.3766012972,\n",
       " 393631.7154380664,\n",
       " 393619.9576595304,\n",
       " 393547.941173224,\n",
       " 393506.26685091725,\n",
       " 393452.1445002313,\n",
       " 393429.5161267279,\n",
       " 393404.0845203994,\n",
       " 393389.76466012077,\n",
       " 393380.7656047209,\n",
       " 393370.2008331024,\n",
       " 393337.57776490937,\n",
       " 393331.5005366179,\n",
       " 393298.380985794,\n",
       " 393280.682279755,\n",
       " 393246.7210757576,\n",
       " 393188.96798212937,\n",
       " 393159.5162405303,\n",
       " 393158.62252457795,\n",
       " 393154.69259188295,\n",
       " 393065.4506978645,\n",
       " 393062.70099900267,\n",
       " 393036.8812959083,\n",
       " 393036.4851380385,\n",
       " 393015.68366518756,\n",
       " 392962.8395401218,\n",
       " 392935.9852169176,\n",
       " 392901.2407120397,\n",
       " 392879.35507999477,\n",
       " 392862.91872529866,\n",
       " 392849.36737578135,\n",
       " 392833.5188505872,\n",
       " 392775.1999542681,\n",
       " 392761.78818840656,\n",
       " 392754.14113585104,\n",
       " 392744.35530575045,\n",
       " 392698.32644462795,\n",
       " 392681.0557814205,\n",
       " 392648.98919914325,\n",
       " 392637.8131295289,\n",
       " 392631.61213063146,\n",
       " 392584.7756097212,\n",
       " 392548.78962294,\n",
       " 392510.7183494693,\n",
       " 392483.36391346756,\n",
       " 392441.76436489815,\n",
       " 392413.34318610345,\n",
       " 392388.182360493,\n",
       " 392386.8155637693,\n",
       " 392383.50071487116,\n",
       " 392327.7284041557,\n",
       " 392320.69350572396,\n",
       " 392308.163862615,\n",
       " 392286.2449642416,\n",
       " 392277.58512751095,\n",
       " 392265.2119388623,\n",
       " 392263.00696817634,\n",
       " 392239.8402558753,\n",
       " 392236.4041647114,\n",
       " 392217.3833052706,\n",
       " 392190.55816835904,\n",
       " 392171.1468590161,\n",
       " 392170.5236043767,\n",
       " 392152.0127466768,\n",
       " 392107.6835999616,\n",
       " 392060.24953806173,\n",
       " 392030.0126827833,\n",
       " 392011.7098275871,\n",
       " 391969.4066037713,\n",
       " 391962.2326954322,\n",
       " 391961.27401725383,\n",
       " 391948.33538361493,\n",
       " 391940.96219569055,\n",
       " 391928.7506069565,\n",
       " 391925.4201649085,\n",
       " 391841.2085893741,\n",
       " 391811.44592866494,\n",
       " 391794.29720900353,\n",
       " 391756.5866071457,\n",
       " 391732.1924708092,\n",
       " 391665.97956296045,\n",
       " 391653.7311784458,\n",
       " 391615.4005942649,\n",
       " 391609.43871608726,\n",
       " 391581.7584457429,\n",
       " 391558.9618490568,\n",
       " 391485.43594069843,\n",
       " 391456.8831793014,\n",
       " 391408.5390639085,\n",
       " 391397.39234677225,\n",
       " 391394.85563598014,\n",
       " 391382.16778296273,\n",
       " 391379.0707265461,\n",
       " 391367.844262276,\n",
       " 391338.6131271668,\n",
       " 391308.271264947,\n",
       " 391277.27014631376,\n",
       " 391277.04073451075,\n",
       " 391218.8318979049,\n",
       " 391215.692938405,\n",
       " 391202.5139783563,\n",
       " 391182.99453051493,\n",
       " 391162.0904106137,\n",
       " 391149.3690464613,\n",
       " 391127.3375698778,\n",
       " 391116.81832251634,\n",
       " 391109.2307307601,\n",
       " 391094.0874000937,\n",
       " 391055.88694721897,\n",
       " 391054.52709761827,\n",
       " 391043.4652258515,\n",
       " 391040.2519317743,\n",
       " 391013.0252801721,\n",
       " 391012.4110139498,\n",
       " 391010.2432857769,\n",
       " 391000.3076995257,\n",
       " 390957.97336064564,\n",
       " 390946.5577704896,\n",
       " 390936.8225656653,\n",
       " 390921.6740117832,\n",
       " 390905.63096528227,\n",
       " 390878.8516730853,\n",
       " 390846.8538258114,\n",
       " 390842.2702300489,\n",
       " 390785.850271609,\n",
       " 390775.12991822493,\n",
       " 390769.0690309053,\n",
       " 390755.4640543004,\n",
       " 390745.4990023497,\n",
       " 390739.9039718471,\n",
       " 390732.05674513173,\n",
       " 390727.52812313655,\n",
       " 390623.2220436269,\n",
       " 390574.98552357015,\n",
       " 390556.67900728533,\n",
       " 390537.8443825394,\n",
       " 390536.73682894313,\n",
       " 390521.5343491985,\n",
       " 390497.5510763903,\n",
       " 390483.9915578967,\n",
       " 390444.7773458725,\n",
       " 390411.67491667694,\n",
       " 390408.7231170295,\n",
       " 390403.0488034544,\n",
       " 390398.28010721545,\n",
       " 390395.10583544796,\n",
       " 390285.4359445093,\n",
       " 390283.8947228135,\n",
       " 390248.1302481152,\n",
       " 390243.20553568396,\n",
       " 390239.0128736185,\n",
       " 390226.7765641952,\n",
       " 390215.8455233863,\n",
       " 390170.0086263818,\n",
       " 390160.5933919507,\n",
       " 390154.5998523776,\n",
       " 390124.765305634,\n",
       " 390097.1728270946,\n",
       " 390080.4341416439,\n",
       " 390059.9156865325,\n",
       " 390059.7360145353,\n",
       " 390042.352475406,\n",
       " 390029.2663618878,\n",
       " 390028.4763982416,\n",
       " 389979.039431757,\n",
       " 389963.1968073366,\n",
       " 389951.6678590394,\n",
       " 389916.11286691204,\n",
       " 389884.6534920946,\n",
       " 389781.6966885229,\n",
       " 389734.6736553543,\n",
       " 389734.1530662632,\n",
       " 389733.5855065807,\n",
       " 389727.8081207112,\n",
       " 389658.2450596509,\n",
       " 389656.2567008376,\n",
       " 389597.2220314916,\n",
       " 389595.29555720295,\n",
       " 389587.04224912036,\n",
       " 389582.08922095405,\n",
       " 389575.0608137136,\n",
       " 389557.34009320976,\n",
       " 389553.17524470657,\n",
       " 389550.7958590536,\n",
       " 389536.1006745597,\n",
       " 389531.9495199419,\n",
       " 389460.89725913905,\n",
       " 389446.93905077735,\n",
       " 389437.8821849786,\n",
       " 389410.11496408546,\n",
       " 389397.1675770475,\n",
       " 389359.46003773843,\n",
       " 389358.4088143822,\n",
       " 389336.7061855686,\n",
       " 389332.8062056912,\n",
       " 389328.60013045435,\n",
       " 389318.6961278621,\n",
       " 389316.8041816387,\n",
       " 389307.06899881776,\n",
       " 389305.56375525147,\n",
       " 389258.37042910117,\n",
       " 389210.52431705344,\n",
       " 389166.7249200784,\n",
       " 389157.02643454383,\n",
       " 389140.4376263266,\n",
       " 389110.6542883284,\n",
       " 389107.9909298472,\n",
       " 389061.79558388726,\n",
       " 389061.6937581413,\n",
       " 389051.3461445336,\n",
       " 389031.74844814296,\n",
       " 389011.9777736398,\n",
       " 388984.8897116549,\n",
       " 388944.3911557943,\n",
       " 388943.3539276417,\n",
       " 388924.8957764618,\n",
       " 388911.7206365192,\n",
       " 388865.219999162,\n",
       " 388845.38998786884,\n",
       " 388783.8540426147,\n",
       " 388781.5162365153,\n",
       " 388734.6342358788,\n",
       " 388716.1980345492,\n",
       " 388685.57111145294,\n",
       " 388660.8095218553,\n",
       " 388606.3100337965,\n",
       " 388538.93113707437,\n",
       " 388484.7876564409,\n",
       " 388462.67848692375,\n",
       " 388441.2752466894,\n",
       " 388424.0760933455,\n",
       " 388408.97516125813,\n",
       " 388407.46141292906,\n",
       " 388393.14828547643,\n",
       " 388367.36745628587,\n",
       " 388259.84963024734,\n",
       " 388227.93705245905,\n",
       " 388224.5107727089,\n",
       " 388218.6714984386,\n",
       " 388210.3963033703,\n",
       " 388203.7704651765,\n",
       " 388195.4190347496,\n",
       " 388190.955092596,\n",
       " 388145.8210487107,\n",
       " 388108.9157115154,\n",
       " 388042.3380888857,\n",
       " 388019.22303508327,\n",
       " 387977.05602465366,\n",
       " 387972.147920425,\n",
       " 387968.1449255757,\n",
       " 387961.4345460364,\n",
       " 387941.3417648188,\n",
       " 387903.77900898224,\n",
       " 387849.2425629541,\n",
       " 387842.3434293528,\n",
       " 387838.1134845913,\n",
       " 387826.1851974963,\n",
       " 387786.82450901007,\n",
       " 387729.9989322758,\n",
       " 387719.6528904311,\n",
       " 387718.76022279664,\n",
       " 387682.2549490553,\n",
       " 387666.7733237196,\n",
       " 387651.0214789411,\n",
       " 387644.61745517,\n",
       " 387616.92681209056,\n",
       " 387584.8636382793,\n",
       " 387537.3967361323,\n",
       " 387532.1656620758,\n",
       " 387524.9853922717,\n",
       " 387503.44450095185,\n",
       " 387477.9252373854,\n",
       " 387420.1351900176,\n",
       " 387409.62852441357,\n",
       " 387409.4382109857,\n",
       " 387408.25760928716,\n",
       " 387353.83968312666,\n",
       " 387348.5273154453,\n",
       " 387294.8044928047,\n",
       " 387254.8088639727,\n",
       " 387249.8033980015,\n",
       " 387246.736286689,\n",
       " 387232.8843121372,\n",
       " 387213.5266382015,\n",
       " 387173.11041006795,\n",
       " 387109.6302839579,\n",
       " 387077.4961035179,\n",
       " 387067.49222286337,\n",
       " 387060.8641539647,\n",
       " 387041.37313334265,\n",
       " 386993.2979577899,\n",
       " 386916.85151540843,\n",
       " 386893.60871520365,\n",
       " 386860.9001112897,\n",
       " 386850.21043686353,\n",
       " 386825.4939828686,\n",
       " 386791.71630499593,\n",
       " 386778.3314921229,\n",
       " 386758.9191840872,\n",
       " 386727.7720214849,\n",
       " 386722.5872705145,\n",
       " 386719.5715507641,\n",
       " 386715.92725456203,\n",
       " 386653.67190812906,\n",
       " 386636.0438746874,\n",
       " 386587.8008535328,\n",
       " 386562.3653522933,\n",
       " 386557.60688288976,\n",
       " 386506.159007916,\n",
       " 386497.71407782286,\n",
       " 386413.3221716656,\n",
       " 386405.7645745464,\n",
       " 386391.8173969436,\n",
       " 386389.66481666337,\n",
       " 386389.4974074132,\n",
       " 386387.08557031257,\n",
       " 386384.2822334714,\n",
       " 386358.78376420354,\n",
       " 386330.8511360464,\n",
       " 386318.9747889359,\n",
       " 386314.69243919424,\n",
       " 386311.1412867204,\n",
       " 386310.8952933539,\n",
       " 386266.87859132414,\n",
       " 386259.6751091767,\n",
       " 386254.70452802884,\n",
       " 386217.4382610278,\n",
       " 386184.0973684568,\n",
       " 386183.74005511927,\n",
       " 386164.42184233404,\n",
       " 386155.40432012157,\n",
       " 386141.16865989397,\n",
       " 386119.63461149094,\n",
       " 386100.880239715,\n",
       " 386092.79711949115,\n",
       " 385995.11347776325,\n",
       " 385984.6572194239,\n",
       " 385959.1907166875,\n",
       " 385914.810483946,\n",
       " 385905.9209209653,\n",
       " 385902.3586043098,\n",
       " 385853.5873605096,\n",
       " 385849.5160300681,\n",
       " 385769.85251372366,\n",
       " 385751.50267720467,\n",
       " 385741.3513169868,\n",
       " 385687.1650310321,\n",
       " 385664.0248350753,\n",
       " 385644.24046063016,\n",
       " 385603.0411203265,\n",
       " 385580.53404775687,\n",
       " 385552.40408470994,\n",
       " 385542.21528790006,\n",
       " 385480.2905144483,\n",
       " 385456.7195195517,\n",
       " 385428.057029377,\n",
       " 385376.592840084,\n",
       " 385366.92690748244,\n",
       " 385336.4691069686,\n",
       " 385325.0954989653,\n",
       " 385318.4063121244,\n",
       " 385305.3097473068,\n",
       " 385304.64155098016,\n",
       " 385267.2636757046,\n",
       " 385238.8889547383,\n",
       " 385234.5839289683,\n",
       " 385205.3932290374,\n",
       " 385193.1420834879,\n",
       " 385148.3023128019,\n",
       " 385134.1453708009,\n",
       " 385114.3154376547,\n",
       " 385080.4683503959,\n",
       " 385069.292307169,\n",
       " 385069.011023676,\n",
       " 385046.094568968,\n",
       " 385031.24560347095,\n",
       " 384997.6395778881,\n",
       " 384995.50122901966,\n",
       " 384991.4291870171,\n",
       " 384970.6020222012,\n",
       " 384941.6717021693,\n",
       " 384936.4103575567,\n",
       " 384857.128807608,\n",
       " 384848.1481992965,\n",
       " 384834.83467682794,\n",
       " 384813.1755593268,\n",
       " 384760.8529603622,\n",
       " 384753.7978563014,\n",
       " 384734.2296561332,\n",
       " 384733.81603224203,\n",
       " 384733.2461918426,\n",
       " 384730.52065351664,\n",
       " 384710.28497716726,\n",
       " 384621.386618961,\n",
       " 384596.41007038334,\n",
       " 384594.1328750165,\n",
       " 384582.8954662428,\n",
       " 384569.9216399707,\n",
       " 384568.54592037975,\n",
       " 384565.84223378455,\n",
       " 384532.8740665945,\n",
       " 384525.32512530225,\n",
       " 384524.1530536093,\n",
       " 384520.843944353,\n",
       " 384512.57463889907,\n",
       " 384483.743139385,\n",
       " 384474.0886498862,\n",
       " 384426.08200846025,\n",
       " 384415.9865330777,\n",
       " 384408.93773446156,\n",
       " 384363.0886946269,\n",
       " 384341.81556523335,\n",
       " 384332.4703325036,\n",
       " 384283.6644921581,\n",
       " 384274.56405055814,\n",
       " 384228.8235453162,\n",
       " 384224.16244215076,\n",
       " 384203.6167654757,\n",
       " 384199.64916063065,\n",
       " 384140.17529712454,\n",
       " 384115.82002302096,\n",
       " 384096.5478457958,\n",
       " 384052.4405370929,\n",
       " 384047.8944448979,\n",
       " 384011.90861261357,\n",
       " 383974.4568990396,\n",
       " 383968.2938773361,\n",
       " 383933.5496643384,\n",
       " 383930.0888976313,\n",
       " 383924.5021747488,\n",
       " 383923.90412858076,\n",
       " 383857.9856405736,\n",
       " 383852.6071447085,\n",
       " 383832.2443239848,\n",
       " 383813.86881247343,\n",
       " 383774.6910864645,\n",
       " 383772.1713231299,\n",
       " 383761.13940525975,\n",
       " 383706.4181125648,\n",
       " 383664.7812096172,\n",
       " 383656.5306002875,\n",
       " 383646.35190088506,\n",
       " 383596.8688603117,\n",
       " 383553.75745672313,\n",
       " 383551.71179822343,\n",
       " 383542.5054720903,\n",
       " 383541.1321325624,\n",
       " 383534.18507715967,\n",
       " 383504.7952882985,\n",
       " 383496.5617126402,\n",
       " 383488.99550426437,\n",
       " 383487.9743366881,\n",
       " 383470.00752908154,\n",
       " 383454.38455226633,\n",
       " 383446.6034620757,\n",
       " 383382.19520008407,\n",
       " 383365.1540349222,\n",
       " 383346.7249798733,\n",
       " 383342.65280243295,\n",
       " 383302.0124910655,\n",
       " 383300.0625763162,\n",
       " 383285.519623396,\n",
       " 383246.44421940076,\n",
       " 383216.3495219859,\n",
       " 383204.8704113353,\n",
       " 383159.0045303234,\n",
       " 383120.96755322133,\n",
       " 383106.5059466706,\n",
       " 383083.8710979321,\n",
       " 383079.55172525306,\n",
       " 383045.11019078025,\n",
       " 382980.6844062685,\n",
       " 382975.7562894353,\n",
       " 382970.19993576716,\n",
       " 382967.9318541479,\n",
       " 382853.8732670514,\n",
       " 382840.08896137757,\n",
       " 382828.37889963936,\n",
       " 382826.0367579311,\n",
       " 382791.5063021077,\n",
       " 382768.61554469255,\n",
       " 382766.80471667094,\n",
       " 382730.85906498,\n",
       " 382723.4474723613,\n",
       " 382690.76306649455,\n",
       " 382683.4442123217,\n",
       " 382562.67612016265,\n",
       " 382551.8601026947,\n",
       " 382517.3210251765,\n",
       " 382423.3507516482,\n",
       " 382422.0070892707,\n",
       " 382405.3661144743,\n",
       " 382393.4192721989,\n",
       " 382390.68388476357,\n",
       " 382369.1175815874,\n",
       " 382368.92163926346,\n",
       " 382367.5961708453,\n",
       " 382339.2225082472,\n",
       " 382326.1799336037,\n",
       " 382288.7592426793,\n",
       " 382273.0542338435,\n",
       " 382203.5623779098,\n",
       " 382189.12905557256,\n",
       " 382146.8874912843,\n",
       " 382096.1353224553,\n",
       " 382095.7179521609,\n",
       " 382081.78452589264,\n",
       " 382046.1085876157,\n",
       " 382030.4664853468,\n",
       " 381959.4878511647,\n",
       " 381902.4183975215,\n",
       " 381894.15442480776,\n",
       " 381857.20985522034,\n",
       " 381800.1354396787,\n",
       " 381791.79796281975,\n",
       " 381770.67497384944,\n",
       " 381739.14116215357,\n",
       " 381699.6877500792,\n",
       " 381692.1048060455,\n",
       " 381671.42599423055,\n",
       " 381647.55430939357,\n",
       " 381636.25633939187,\n",
       " 381618.52165118564,\n",
       " 381610.07576096774,\n",
       " 381602.1132180757,\n",
       " 381598.4696534567,\n",
       " 381595.3792299508,\n",
       " 381593.8289611955,\n",
       " 381583.1233427606,\n",
       " 381510.090974479,\n",
       " 381465.3147567393,\n",
       " 381450.88840035076,\n",
       " 381449.9064268985,\n",
       " 381430.4276163017,\n",
       " 381390.3834056608,\n",
       " 381367.67909818375,\n",
       " 381366.01206809893,\n",
       " 381357.4446595921,\n",
       " 381328.9541935933,\n",
       " 381306.45825960784,\n",
       " 381266.91784082726,\n",
       " 381265.78057508037,\n",
       " 381206.54419304006,\n",
       " 381198.91868590476,\n",
       " 381115.1060637693,\n",
       " 381091.12001949217,\n",
       " 381057.3893113106,\n",
       " 381029.1735779459,\n",
       " 381009.79450185376,\n",
       " 380963.6016025585,\n",
       " 380945.8513258331,\n",
       " 380929.6101263585,\n",
       " 380922.305354295,\n",
       " 380917.19529669953,\n",
       " 380908.8597165417,\n",
       " 380902.89160279755,\n",
       " 380899.30488277983,\n",
       " 380893.81358797435,\n",
       " 380870.1728135536,\n",
       " 380864.3568717609,\n",
       " 380862.84625818365,\n",
       " 380848.7908830546,\n",
       " 380835.58377716655,\n",
       " 380823.13601175323,\n",
       " 380797.59317517286,\n",
       " 380764.08021900256,\n",
       " 380747.04144753853,\n",
       " 380731.7859589909,\n",
       " 380729.6850732045,\n",
       " 380708.3135357157,\n",
       " 380698.5337876564,\n",
       " 380693.2285306102,\n",
       " 380690.82389558695,\n",
       " 380672.1043443671,\n",
       " 380628.3793297923,\n",
       " 380611.7882516802,\n",
       " 380602.9525481209,\n",
       " 380601.8884841648,\n",
       " 380597.0372517921,\n",
       " 380585.5976944189,\n",
       " 380555.6498751638,\n",
       " 380545.2001450149,\n",
       " 380539.9595332713,\n",
       " 380532.5421865063,\n",
       " 380505.8536135263,\n",
       " 380504.33238739904,\n",
       " 380473.10679380666,\n",
       " 380438.1515625912,\n",
       " 380420.8368630382,\n",
       " 380407.72376464435,\n",
       " 380397.92138613685,\n",
       " 380281.4982126788,\n",
       " 380240.533812516,\n",
       " 380232.17751178093,\n",
       " 380230.120921181,\n",
       " 380194.07984099037,\n",
       " 380183.32078588655,\n",
       " 380150.38704616256,\n",
       " 379985.9255685121,\n",
       " 379977.2496961663,\n",
       " 379966.09373028507,\n",
       " 379958.8600050981,\n",
       " 379942.51203383243,\n",
       " ...]"
      ]
     },
     "execution_count": 281,
     "metadata": {},
     "output_type": "execute_result"
    }
   ],
   "source": [
    "# посмотрим список сверху\n",
    "sorted(data['days_employed'].unique(), reverse=True)"
   ]
  },
  {
   "cell_type": "markdown",
   "metadata": {},
   "source": [
    "#### Выявлено **две** проблемы\n",
    "1. отрицательные значения\n",
    "2. странный формат\n",
    "\n",
    "Сначала приму **гипотезу** о том, что отрицательные значения - это описка при вводе данных.\n",
    "Почему?\n",
    "Отрицательные значения есть и среди пненсионеров, и среди работающих в настоящее время клиентов.\n",
    "Их надо превратить в положительные значения."
   ]
  },
  {
   "cell_type": "code",
   "execution_count": 282,
   "metadata": {
    "scrolled": true
   },
   "outputs": [
    {
     "data": {
      "text/plain": [
       "[24.14163324048118,\n",
       " 24.240694791435672,\n",
       " 37.72660206855514,\n",
       " 50.12829786804968,\n",
       " 55.838005521394265,\n",
       " 60.6373275553343,\n",
       " 61.5184565937786,\n",
       " 61.596442746578425,\n",
       " 72.62578520446468,\n",
       " 74.99524988670981,\n",
       " 75.98143820404016,\n",
       " 79.88034967664467,\n",
       " 87.9759189019844,\n",
       " 88.43392772242983,\n",
       " 94.01204313423708,\n",
       " 94.10233686775595,\n",
       " 94.75711243199892,\n",
       " 95.97095690477032,\n",
       " 96.65759932125448,\n",
       " 97.0866947549881,\n",
       " 97.64343059641344,\n",
       " 98.31216168444011,\n",
       " 99.19594695041458,\n",
       " 100.11597850058102,\n",
       " 100.85461250547348,\n",
       " 103.37407360748949,\n",
       " 103.47653329174305,\n",
       " 103.93747942802663,\n",
       " 106.15525153334788,\n",
       " 106.45061388478292,\n",
       " 107.0604341725812,\n",
       " 107.15589229306477,\n",
       " 107.43472707786623,\n",
       " 107.8279049670264,\n",
       " 107.95764348159656,\n",
       " 108.2772362611788,\n",
       " 111.135431428046,\n",
       " 111.60253833875193,\n",
       " 111.76279048679709,\n",
       " 112.20502316313,\n",
       " 113.37040659650458,\n",
       " 114.2547984026767,\n",
       " 114.61631093671663,\n",
       " 115.37047871289137,\n",
       " 115.87603563546685,\n",
       " 116.42845887230406,\n",
       " 117.0346167164464,\n",
       " 117.12788647939188,\n",
       " 117.17675028970957,\n",
       " 117.34220569399952,\n",
       " 117.35982909417852,\n",
       " 117.66598539536905,\n",
       " 118.27127047827813,\n",
       " 118.89141142450093,\n",
       " 119.26473777735971,\n",
       " 120.3528823152097,\n",
       " 120.39525704526982,\n",
       " 120.54940978615005,\n",
       " 126.59691592509951,\n",
       " 127.33494240597255,\n",
       " 128.14202642285682,\n",
       " 128.93401083995855,\n",
       " 130.49436227007658,\n",
       " 131.55001454689744,\n",
       " 131.87656496462944,\n",
       " 132.0291776329612,\n",
       " 132.70362046108718,\n",
       " 132.74853603066168,\n",
       " 133.68993626234064,\n",
       " 133.87672147845421,\n",
       " 135.18443350537487,\n",
       " 137.6346797125776,\n",
       " 139.66465302727653,\n",
       " 140.19932868420346,\n",
       " 142.2762166594403,\n",
       " 142.4426185116373,\n",
       " 142.6363254404057,\n",
       " 144.18585382423603,\n",
       " 144.28285293977348,\n",
       " 144.40710282433054,\n",
       " 145.541617523979,\n",
       " 146.00066306283634,\n",
       " 146.77868634948476,\n",
       " 149.10420265849277,\n",
       " 150.5965248411724,\n",
       " 151.96629117689653,\n",
       " 152.7795691752705,\n",
       " 153.0263905983143,\n",
       " 154.30226912424118,\n",
       " 155.8190503596844,\n",
       " 155.99006004737709,\n",
       " 156.1843379996764,\n",
       " 156.20943563510372,\n",
       " 157.1752138342437,\n",
       " 157.33662730266443,\n",
       " 157.98168408028934,\n",
       " 159.83782896333798,\n",
       " 159.98177415934316,\n",
       " 161.14884537634555,\n",
       " 161.74548893351138,\n",
       " 162.6671976209183,\n",
       " 163.39920221852492,\n",
       " 165.48286665802328,\n",
       " 165.66746673304007,\n",
       " 165.71119249055891,\n",
       " 165.84406033363396,\n",
       " 166.0532125743263,\n",
       " 166.26503703628762,\n",
       " 167.69226481933805,\n",
       " 167.88681470584626,\n",
       " 167.9440236230754,\n",
       " 170.20158384847954,\n",
       " 170.44046416880786,\n",
       " 170.85049222971796,\n",
       " 171.1624207214407,\n",
       " 171.37301786433642,\n",
       " 171.4239255664311,\n",
       " 171.73664030773074,\n",
       " 172.25825339691949,\n",
       " 173.58018035484486,\n",
       " 174.10017588211238,\n",
       " 174.54676695395213,\n",
       " 175.03767752376967,\n",
       " 175.3581046770491,\n",
       " 176.21668833712155,\n",
       " 176.5575965506392,\n",
       " 176.94985157181858,\n",
       " 178.09172938316402,\n",
       " 178.29088257961723,\n",
       " 179.2690514815909,\n",
       " 180.58270379154823,\n",
       " 180.8753653388158,\n",
       " 181.44243791957715,\n",
       " 182.2267232528777,\n",
       " 184.59838880619841,\n",
       " 187.37429869078,\n",
       " 188.3028018912724,\n",
       " 188.34824771331432,\n",
       " 188.58524038792086,\n",
       " 188.60920328199242,\n",
       " 189.44030374399026,\n",
       " 190.1657864982557,\n",
       " 190.96038555190609,\n",
       " 191.1467457844417,\n",
       " 191.16775996821264,\n",
       " 191.68837311051485,\n",
       " 192.54532409983608,\n",
       " 193.8946427881874,\n",
       " 194.36336917728718,\n",
       " 194.90842365687752,\n",
       " 195.8718226785417,\n",
       " 196.25386667930562,\n",
       " 196.63898884776162,\n",
       " 197.12579914941708,\n",
       " 197.13714608906483,\n",
       " 199.4046053637164,\n",
       " 199.73177147736146,\n",
       " 200.18567879241752,\n",
       " 200.8065142451488,\n",
       " 201.40011320873376,\n",
       " 201.5374223763152,\n",
       " 201.69292955539848,\n",
       " 202.14311439519463,\n",
       " 203.8250660372681,\n",
       " 204.22425301084152,\n",
       " 204.67316553165557,\n",
       " 204.74569102449212,\n",
       " 205.24771295722599,\n",
       " 205.8781470160859,\n",
       " 206.44912003368648,\n",
       " 206.46422447676392,\n",
       " 207.98479160411273,\n",
       " 208.94500433340332,\n",
       " 209.31022487990785,\n",
       " 210.3893524589323,\n",
       " 210.97983484574883,\n",
       " 211.3321064357295,\n",
       " 212.8556108487998,\n",
       " 213.20815029106518,\n",
       " 213.80230412949712,\n",
       " 214.86849292739063,\n",
       " 215.2452684043549,\n",
       " 215.64200825211952,\n",
       " 216.38742198332957,\n",
       " 218.20252364324608,\n",
       " 218.2149019250151,\n",
       " 219.5542476377806,\n",
       " 219.6435091128504,\n",
       " 219.973855571324,\n",
       " 220.0392519907678,\n",
       " 220.2634371735384,\n",
       " 221.79996278582996,\n",
       " 222.2813085847704,\n",
       " 222.67845660791284,\n",
       " 223.3644276045744,\n",
       " 223.41895901820587,\n",
       " 223.5470176888244,\n",
       " 223.6397146432669,\n",
       " 224.54480527642158,\n",
       " 224.62304913092743,\n",
       " 224.96884312287705,\n",
       " 225.1236894800484,\n",
       " 227.41458702885933,\n",
       " 227.79096514701985,\n",
       " 229.35865155305817,\n",
       " 231.3877450689711,\n",
       " 231.7834754351977,\n",
       " 231.78555719710727,\n",
       " 232.630155810304,\n",
       " 232.91669399889716,\n",
       " 233.55962911975968,\n",
       " 233.80500635316517,\n",
       " 235.31902275031243,\n",
       " 235.57162274113983,\n",
       " 236.70607775511712,\n",
       " 237.4696630554639,\n",
       " 238.21352013902214,\n",
       " 239.13285731023709,\n",
       " 239.66070270383912,\n",
       " 240.19364698903743,\n",
       " 241.90092889567262,\n",
       " 242.51186097165126,\n",
       " 243.69149898284283,\n",
       " 244.42104110689166,\n",
       " 244.9574757018621,\n",
       " 247.0107479435112,\n",
       " 247.78398647886425,\n",
       " 248.54731583866692,\n",
       " 248.57412256831586,\n",
       " 250.9699867316777,\n",
       " 251.723293801439,\n",
       " 252.090945437796,\n",
       " 252.51815488853092,\n",
       " 252.76562832617046,\n",
       " 253.64194588171762,\n",
       " 253.68516578402497,\n",
       " 253.80635463648645,\n",
       " 254.7524389421121,\n",
       " 255.9095862373725,\n",
       " 255.94274469620385,\n",
       " 255.95075573791343,\n",
       " 258.512983350301,\n",
       " 258.55202475753447,\n",
       " 259.1672505283023,\n",
       " 259.62233308366706,\n",
       " 259.73715538018814,\n",
       " 260.6387438112848,\n",
       " 262.6203229097305,\n",
       " 264.28462872113505,\n",
       " 264.5135394388884,\n",
       " 265.1039713956581,\n",
       " 265.6480257814427,\n",
       " 267.9891636299734,\n",
       " 271.32322815256833,\n",
       " 271.5705315052388,\n",
       " 272.98138503340437,\n",
       " 275.2221642626212,\n",
       " 275.63658952893667,\n",
       " 275.99384748839213,\n",
       " 276.3864875899071,\n",
       " 276.99308570749423,\n",
       " 277.0622041878125,\n",
       " 277.35084116337663,\n",
       " 277.95753107446944,\n",
       " 278.88290215482533,\n",
       " 280.55269687097507,\n",
       " 281.3826223487629,\n",
       " 281.65581435921865,\n",
       " 281.84335406919087,\n",
       " 281.9852925499592,\n",
       " 283.0246469025763,\n",
       " 283.8272154100048,\n",
       " 285.1750348601372,\n",
       " 285.2498406827778,\n",
       " 286.3778232952805,\n",
       " 287.48954579785266,\n",
       " 289.47159368109754,\n",
       " 290.2377523430928,\n",
       " 290.9375675667264,\n",
       " 291.45755399722907,\n",
       " 294.3086573572168,\n",
       " 296.1477626264545,\n",
       " 296.6658187913285,\n",
       " 299.848523896885,\n",
       " 300.1590263223493,\n",
       " 300.64259328925505,\n",
       " 300.9894160438648,\n",
       " 301.30000458435984,\n",
       " 302.12313923783563,\n",
       " 302.49114005149835,\n",
       " 305.6687157722792,\n",
       " 306.64661613514164,\n",
       " 307.8677448020779,\n",
       " 308.5038642749541,\n",
       " 308.8743249255615,\n",
       " 310.1048098121994,\n",
       " 312.209668135152,\n",
       " 317.41188555925,\n",
       " 317.80259338617816,\n",
       " 318.5598943362647,\n",
       " 319.48027074015323,\n",
       " 319.79769366111645,\n",
       " 323.44176440931096,\n",
       " 324.03944129589365,\n",
       " 325.69929499850565,\n",
       " 327.01494400400213,\n",
       " 327.02712298518827,\n",
       " 327.56510692759616,\n",
       " 327.6259155140149,\n",
       " 327.81540088522263,\n",
       " 327.9449369968205,\n",
       " 328.4316544438288,\n",
       " 329.67272587726575,\n",
       " 332.01944799159384,\n",
       " 332.9367166550879,\n",
       " 333.27653306141644,\n",
       " 335.31863038428764,\n",
       " 335.5229563354112,\n",
       " 336.738027536057,\n",
       " 337.1109852758019,\n",
       " 338.3974625686715,\n",
       " 339.7244991635261,\n",
       " 341.49909553960015,\n",
       " 342.2498820950371,\n",
       " 342.5914333330957,\n",
       " 342.96559255887973,\n",
       " 343.77248824065765,\n",
       " 343.9298067056119,\n",
       " 345.66264889833565,\n",
       " 347.67718566422263,\n",
       " 347.8427520024788,\n",
       " 347.8429646622518,\n",
       " 351.1140698370496,\n",
       " 351.1346118334118,\n",
       " 351.6338642849568,\n",
       " 351.68526318501466,\n",
       " 351.9929214805298,\n",
       " 352.00850378082083,\n",
       " 353.83771427858017,\n",
       " 355.82566620611755,\n",
       " 356.13119436148077,\n",
       " 357.20705832068774,\n",
       " 359.1268853066897,\n",
       " 359.1939748533992,\n",
       " 360.96468434323685,\n",
       " 361.2953457947725,\n",
       " 364.24089929603736,\n",
       " 366.00110795226476,\n",
       " 366.5945495318837,\n",
       " 367.12898054626834,\n",
       " 368.01322338649663,\n",
       " 369.07054466409903,\n",
       " 370.27081030421766,\n",
       " 370.3664023814114,\n",
       " 370.599363688192,\n",
       " 371.22924842697006,\n",
       " 373.3654181058994,\n",
       " 375.22170507765884,\n",
       " 377.0596524195704,\n",
       " 377.0925934255864,\n",
       " 377.22658299020577,\n",
       " 380.8744182430497,\n",
       " 380.8758165579412,\n",
       " 381.89908351715513,\n",
       " 382.3678243981717,\n",
       " 382.8752536387233,\n",
       " 382.9405840980738,\n",
       " 383.0754938723677,\n",
       " 384.0317521980397,\n",
       " 385.4151378999176,\n",
       " 385.66653057635597,\n",
       " 385.898794681995,\n",
       " 386.19338097571335,\n",
       " 386.88685985592423,\n",
       " 388.8098996712533,\n",
       " 392.35912873532624,\n",
       " 393.1093789527411,\n",
       " 393.4838125263858,\n",
       " 394.3404701908931,\n",
       " 395.2561684365226,\n",
       " 396.0611343294148,\n",
       " 396.1120183439849,\n",
       " 396.48837021072944,\n",
       " 397.3508150538506,\n",
       " 397.40064696384894,\n",
       " 398.3021596244738,\n",
       " 398.76420417634836,\n",
       " 398.8259478569328,\n",
       " 399.11354564703925,\n",
       " 400.05039951248426,\n",
       " 400.76341109203935,\n",
       " 401.3674015239119,\n",
       " 402.90236334217997,\n",
       " 403.6930272049128,\n",
       " 404.81111487701963,\n",
       " 406.6847398187818,\n",
       " 409.20014865769514,\n",
       " 409.43500907275575,\n",
       " 411.0235962333316,\n",
       " 411.0459813174887,\n",
       " 411.89733949127884,\n",
       " 412.4905559443667,\n",
       " 413.0931257122167,\n",
       " 413.73814398692116,\n",
       " 413.9826020927449,\n",
       " 415.13276772333205,\n",
       " 415.4432976795922,\n",
       " 416.21304227743684,\n",
       " 416.71227179237457,\n",
       " 417.6961148788066,\n",
       " 419.57864615626676,\n",
       " 421.64444554400717,\n",
       " 423.9380405926243,\n",
       " 424.09778621396174,\n",
       " 424.9596180327826,\n",
       " 426.15248417669835,\n",
       " 429.29057844606115,\n",
       " 429.8256944129645,\n",
       " 430.55064265218283,\n",
       " 430.96138346849136,\n",
       " 432.1244051418991,\n",
       " 432.70016564469086,\n",
       " 432.9431035999615,\n",
       " 434.9313375154888,\n",
       " 435.18412425707396,\n",
       " 435.313194451057,\n",
       " 435.8026113856322,\n",
       " 435.99604451948255,\n",
       " 436.31303464437485,\n",
       " 437.4488572229364,\n",
       " 438.76002618655593,\n",
       " 438.82814308291535,\n",
       " 441.13353582742997,\n",
       " 441.71927278087,\n",
       " 443.8103567417637,\n",
       " 445.49050570425004,\n",
       " 445.78043889249733,\n",
       " 446.5875403984872,\n",
       " 446.90027119319166,\n",
       " 447.1851981425858,\n",
       " 449.93216333784795,\n",
       " 450.0613423824006,\n",
       " 451.15238690987593,\n",
       " 451.2024402342234,\n",
       " 454.72800462109177,\n",
       " 455.2406431105671,\n",
       " 455.43563639164313,\n",
       " 455.6602391427302,\n",
       " 458.53989786965485,\n",
       " 461.0561498615378,\n",
       " 463.584600391157,\n",
       " 463.9904797630004,\n",
       " 464.6341336266803,\n",
       " 466.0749649742618,\n",
       " 467.8450738493449,\n",
       " 470.46580943367593,\n",
       " 471.30412798825137,\n",
       " 471.7627961551879,\n",
       " 472.5458210359707,\n",
       " 472.64012770922415,\n",
       " 474.0780466659228,\n",
       " 476.2457340734774,\n",
       " 476.3108902228244,\n",
       " 476.9334720708874,\n",
       " 477.3008001218871,\n",
       " 477.72426032746523,\n",
       " 478.0916995449188,\n",
       " 479.05370693281,\n",
       " 479.62005579727685,\n",
       " 480.2753524339418,\n",
       " 480.71838756046026,\n",
       " 480.78969282198136,\n",
       " 482.3287070373009,\n",
       " 486.14138264988856,\n",
       " 486.1998543820492,\n",
       " 486.7192228755854,\n",
       " 488.13139960478486,\n",
       " 488.3789927057149,\n",
       " 488.9366579252708,\n",
       " 489.4849448342045,\n",
       " 491.15917879265544,\n",
       " 491.579723802165,\n",
       " 492.6131972738883,\n",
       " 496.61646211017717,\n",
       " 499.71729610971283,\n",
       " 501.07844318056857,\n",
       " 502.2315919803144,\n",
       " 502.3813660023465,\n",
       " 504.6508064677024,\n",
       " 506.5359325649582,\n",
       " 508.31371560714064,\n",
       " 509.0332544221429,\n",
       " 510.0221330622396,\n",
       " 512.1617570964504,\n",
       " 512.8161109278547,\n",
       " 513.7184431483118,\n",
       " 513.9485663881388,\n",
       " 514.3190300843155,\n",
       " 516.661406679852,\n",
       " 516.7907538671154,\n",
       " 518.1188707051928,\n",
       " 519.3467721350727,\n",
       " 519.8361042174812,\n",
       " 526.4115820841157,\n",
       " 526.9747420085612,\n",
       " 528.3949517486701,\n",
       " 529.1916346594236,\n",
       " 530.0416000617518,\n",
       " 530.9345172657938,\n",
       " 531.857283433217,\n",
       " 532.1865230613454,\n",
       " 534.7976795336407,\n",
       " 536.2112581616481,\n",
       " 538.0047369863315,\n",
       " 538.5319034285704,\n",
       " 539.1147351683323,\n",
       " 539.9543787903781,\n",
       " 540.0384252136863,\n",
       " 541.4496600669886,\n",
       " 541.8322411633181,\n",
       " 542.3213557838611,\n",
       " 543.6756880501782,\n",
       " 546.4464505108577,\n",
       " 546.742173773047,\n",
       " 547.7500645221223,\n",
       " 547.8897705871535,\n",
       " 549.0433535135306,\n",
       " 549.2556068494576,\n",
       " 550.306661340741,\n",
       " 551.6463275116929,\n",
       " 553.7038466261113,\n",
       " 553.7348129020858,\n",
       " 554.1792662636844,\n",
       " 554.9948299066504,\n",
       " 555.5059548114991,\n",
       " 555.5614175691746,\n",
       " 555.6121196318692,\n",
       " 556.1998126958889,\n",
       " 557.344509615609,\n",
       " 558.2627988592653,\n",
       " 558.6148492513341,\n",
       " 558.8555529092619,\n",
       " 563.9370284307207,\n",
       " 565.146688183647,\n",
       " 566.2793653775966,\n",
       " 569.3916778985423,\n",
       " 573.1581540711437,\n",
       " 573.2611312140249,\n",
       " 573.6324650525218,\n",
       " 574.9959234695825,\n",
       " 576.1255527199285,\n",
       " 576.5070601613265,\n",
       " 577.2734342991156,\n",
       " 577.5319050813204,\n",
       " 581.2458950545381,\n",
       " 582.5173426678673,\n",
       " 583.3804752540346,\n",
       " 583.4639397405504,\n",
       " 583.4827583985601,\n",
       " 583.6069745237011,\n",
       " 584.0845029795751,\n",
       " 585.5549657852058,\n",
       " 587.1258136420141,\n",
       " 587.2522897598362,\n",
       " 589.4210584752312,\n",
       " 590.3886894575883,\n",
       " 590.5410491608966,\n",
       " 590.5527685695971,\n",
       " 591.7957781933585,\n",
       " 592.0681590240259,\n",
       " 592.5164132907006,\n",
       " 592.581252453885,\n",
       " 593.7703219716535,\n",
       " 596.6167244890032,\n",
       " 597.2734021772915,\n",
       " 597.8818273051091,\n",
       " 598.5150546422927,\n",
       " 598.7496484841596,\n",
       " 600.3742012912494,\n",
       " 600.8561059848978,\n",
       " 605.0264409707586,\n",
       " 608.8011435272298,\n",
       " 608.8967826867838,\n",
       " 609.5587127566222,\n",
       " 617.2400437463076,\n",
       " 618.5514794137875,\n",
       " 619.8421865980328,\n",
       " 620.7880265012685,\n",
       " 620.7999472539966,\n",
       " 622.000317473515,\n",
       " 622.7981600019422,\n",
       " 623.6179247237885,\n",
       " 624.5731262033149,\n",
       " 625.0183312575075,\n",
       " 626.5560555274502,\n",
       " 626.8158534967321,\n",
       " 627.1857698567652,\n",
       " 627.9621187171059,\n",
       " 628.0347855847092,\n",
       " 628.6726202459295,\n",
       " 632.7256621840236,\n",
       " 633.4060860863351,\n",
       " 634.0899388454703,\n",
       " 634.5191354861038,\n",
       " 634.6318001449089,\n",
       " 637.2100428359438,\n",
       " 639.1216937030478,\n",
       " 639.3339362809987,\n",
       " 639.4899692524782,\n",
       " 639.5647075616622,\n",
       " 640.4494588422098,\n",
       " 640.6555446092564,\n",
       " 643.8193480984278,\n",
       " 644.2688443743233,\n",
       " 644.2820358426629,\n",
       " 646.5166084629698,\n",
       " 646.5450471546129,\n",
       " 647.6784461315312,\n",
       " 648.8234967348955,\n",
       " 648.937313287202,\n",
       " 649.1240006041409,\n",
       " 650.5877964026586,\n",
       " 651.5344376008419,\n",
       " 651.6910397849903,\n",
       " 653.1895974615087,\n",
       " 653.389817754689,\n",
       " 654.3704215822167,\n",
       " 655.5652447491121,\n",
       " 656.6204156894272,\n",
       " 657.4167309469195,\n",
       " 659.7022899427086,\n",
       " 661.4749610365748,\n",
       " 663.7752011844162,\n",
       " 663.8847700994702,\n",
       " 663.9000996174027,\n",
       " 664.3305600777333,\n",
       " 664.4941123599732,\n",
       " 666.1338846857273,\n",
       " 669.0331417910379,\n",
       " 669.0530823899172,\n",
       " 669.3964471694437,\n",
       " 672.5249303437316,\n",
       " 672.7917694809772,\n",
       " 672.8323360104406,\n",
       " 674.0655942585863,\n",
       " 674.5456997615337,\n",
       " 675.1298969866484,\n",
       " 675.8249196776868,\n",
       " 676.1623000480132,\n",
       " 677.0077221692435,\n",
       " 677.605977287625,\n",
       " 679.0516470245481,\n",
       " 679.1360798456212,\n",
       " 680.1674558505629,\n",
       " 680.4742882161103,\n",
       " 681.3431421120886,\n",
       " 681.7898028849668,\n",
       " 683.2745023565002,\n",
       " 683.5545620403726,\n",
       " 684.1488534879504,\n",
       " 684.886282211998,\n",
       " 686.5086372674804,\n",
       " 689.3165756907329,\n",
       " 692.4302563572875,\n",
       " 695.8394157134435,\n",
       " 697.3450365304643,\n",
       " 699.7964679215518,\n",
       " 700.3144988906765,\n",
       " 701.7046841315292,\n",
       " 702.0437116352672,\n",
       " 703.2435102199611,\n",
       " 703.731584398808,\n",
       " 704.8754434822213,\n",
       " 705.1835296090994,\n",
       " 707.5589419998323,\n",
       " 708.0735831904608,\n",
       " 708.9929017290865,\n",
       " 710.680916165844,\n",
       " 711.0790940026352,\n",
       " 711.4053028231207,\n",
       " 711.7950837085516,\n",
       " 711.8133299477612,\n",
       " 714.8791668192868,\n",
       " 717.2743239418727,\n",
       " 717.5687462277905,\n",
       " 717.7747740010858,\n",
       " 717.9642344951352,\n",
       " 719.8284737731861,\n",
       " 721.2746019574886,\n",
       " 721.4235410610944,\n",
       " 724.494559872493,\n",
       " 725.5957433999214,\n",
       " 726.3897428893622,\n",
       " 726.9437706256638,\n",
       " 727.2024485873619,\n",
       " 728.1004884734406,\n",
       " 728.531456107638,\n",
       " 728.7653797404947,\n",
       " 730.8011834547618,\n",
       " 730.8744256829096,\n",
       " 731.089543248323,\n",
       " 733.3408160785417,\n",
       " 733.7482318132307,\n",
       " 734.7746798848336,\n",
       " 735.4068507263385,\n",
       " 736.4593037874188,\n",
       " 737.3875299166859,\n",
       " 738.1269482238482,\n",
       " 738.8948790536374,\n",
       " 739.2188795723679,\n",
       " 740.2531441565387,\n",
       " 740.7219313585773,\n",
       " 741.1272798825229,\n",
       " 741.6417130193863,\n",
       " 743.6435478105118,\n",
       " 743.8304774376699,\n",
       " 744.0162668813696,\n",
       " 747.5495337116026,\n",
       " 749.1756772991432,\n",
       " 749.3918796936822,\n",
       " 750.6871899281138,\n",
       " 753.4670420858772,\n",
       " 754.2946041995523,\n",
       " 754.7320958331245,\n",
       " 754.8324563135808,\n",
       " 758.0991124971845,\n",
       " 758.3728858446689,\n",
       " 758.6512460973378,\n",
       " 759.7840145399775,\n",
       " 761.5542851405393,\n",
       " 761.7636058724347,\n",
       " 764.6357856933994,\n",
       " 767.3949135779126,\n",
       " 768.2379218004163,\n",
       " 769.2035496567038,\n",
       " 772.3108449062859,\n",
       " 773.2124686788777,\n",
       " 775.0879772346518,\n",
       " 776.6322516055693,\n",
       " 776.6643842174852,\n",
       " 777.0498609649644,\n",
       " 777.3455099898166,\n",
       " 779.0097449404218,\n",
       " 779.0551293280507,\n",
       " 779.2284491479346,\n",
       " 783.2696936351923,\n",
       " 783.3341558596153,\n",
       " 785.0737708068643,\n",
       " 785.191617436709,\n",
       " 788.0998264009547,\n",
       " 788.2720162886061,\n",
       " 788.3670663396956,\n",
       " 790.9119405219461,\n",
       " 792.7018870609315,\n",
       " 796.5866632098558,\n",
       " 796.9836359385132,\n",
       " 797.7347159983825,\n",
       " 798.1002689908915,\n",
       " 800.4246719576582,\n",
       " 801.2990208964118,\n",
       " 801.5095055216783,\n",
       " 801.8933868961856,\n",
       " 802.842531083656,\n",
       " 803.8064987248036,\n",
       " 804.8695857997296,\n",
       " 805.0444379213608,\n",
       " 805.2394160191933,\n",
       " 807.5542095508638,\n",
       " 808.5849313373401,\n",
       " 809.6878437101286,\n",
       " 810.6111938018761,\n",
       " 811.2511179867276,\n",
       " 814.9993881209523,\n",
       " 815.0543425773477,\n",
       " 816.3559350138811,\n",
       " 817.4130371679632,\n",
       " 818.4677498102917,\n",
       " 819.2123808980684,\n",
       " 819.6272191630513,\n",
       " 821.3604969831334,\n",
       " 824.0449478718085,\n",
       " 824.5123889910221,\n",
       " 824.6987906342794,\n",
       " 825.6238995227193,\n",
       " 826.8403732170059,\n",
       " 827.6801345497095,\n",
       " 828.3927909276063,\n",
       " 829.6256816097881,\n",
       " 832.6534472181315,\n",
       " 834.0222609394377,\n",
       " 834.1545977675792,\n",
       " 835.716378183696,\n",
       " 837.6106694337192,\n",
       " 837.636187548669,\n",
       " 840.0574070211819,\n",
       " 840.5561486016047,\n",
       " 841.8138257523991,\n",
       " 842.0774287563536,\n",
       " 842.6821192197934,\n",
       " 843.1822218333389,\n",
       " 847.0438235027875,\n",
       " 847.3429922863228,\n",
       " 848.5856662408221,\n",
       " 849.1812489337327,\n",
       " 849.2534810309235,\n",
       " 849.9901076638478,\n",
       " 851.2417027122798,\n",
       " 851.3299226449312,\n",
       " 851.9854639995323,\n",
       " 853.3530766272113,\n",
       " 853.5026887065919,\n",
       " 853.7293072177252,\n",
       " 855.5955117365156,\n",
       " 857.4372908447195,\n",
       " 858.9329304259572,\n",
       " 859.7430116380307,\n",
       " 860.1763676597028,\n",
       " 860.2116887122435,\n",
       " 860.3951787098068,\n",
       " 863.1436230756059,\n",
       " 863.3303899437072,\n",
       " 863.9845043639324,\n",
       " 864.9831943096839,\n",
       " 865.0029683180505,\n",
       " 865.031900277358,\n",
       " 865.777821826768,\n",
       " 865.8658634381624,\n",
       " 866.4108944973046,\n",
       " 868.2655626680223,\n",
       " 868.5322011922583,\n",
       " 869.0574449215221,\n",
       " 873.4680353024614,\n",
       " 874.8390537217351,\n",
       " 874.8530628222733,\n",
       " 876.8431101663022,\n",
       " 877.6474187514337,\n",
       " 877.9069609549484,\n",
       " 878.2176931983113,\n",
       " 878.9324715677255,\n",
       " 879.1750154088429,\n",
       " 879.5873497728171,\n",
       " 880.2211129921285,\n",
       " 880.6933264019733,\n",
       " 882.7903306043979,\n",
       " 883.4050733439944,\n",
       " 883.7834692065311,\n",
       " 884.5458974260507,\n",
       " 886.0573512646666,\n",
       " 887.0787332521405,\n",
       " 888.2833470851367,\n",
       " 888.3718254375467,\n",
       " 888.7761242836102,\n",
       " 889.4035400924263,\n",
       " 890.6693713213284,\n",
       " 891.4961197157191,\n",
       " 893.6308696616221,\n",
       " 894.6269901730889,\n",
       " 895.075156681433,\n",
       " 895.2596235602106,\n",
       " 896.462371368615,\n",
       " 896.7834001997434,\n",
       " 897.2188751240622,\n",
       " 897.3228055367267,\n",
       " 897.5819352194331,\n",
       " 899.2929046968097,\n",
       " 899.7468321056523,\n",
       " 900.0445140352945,\n",
       " 900.0630448062918,\n",
       " 901.1017378608626,\n",
       " 902.08452802898,\n",
       " 902.3032485188036,\n",
       " 905.0580923538868,\n",
       " 906.5194461676692,\n",
       " 910.3948898331456,\n",
       " 910.6929944014232,\n",
       " 911.4733799748436,\n",
       " 911.7415405986508,\n",
       " 912.4779948742198,\n",
       " 913.1481176528607,\n",
       " 913.1615032326421,\n",
       " 914.167360009776,\n",
       " 914.7712503938434,\n",
       " 915.0761814205084,\n",
       " 915.7431350696088,\n",
       " 916.3237369758148,\n",
       " 916.4288292557608,\n",
       " 918.4577035188928,\n",
       " 918.9881465243548,\n",
       " 919.6618238981528,\n",
       " 920.12467106239,\n",
       " 922.24259150011,\n",
       " 924.8324188546048,\n",
       " 926.1858308789183,\n",
       " 926.3949951032677,\n",
       " 926.479339240938,\n",
       " 926.879044339708,\n",
       " 927.3738410128874,\n",
       " 927.4821009993096,\n",
       " 927.9546186933277,\n",
       " 928.192314475157,\n",
       " 928.6338938713884,\n",
       " 928.6700493162103,\n",
       " 930.0835695908777,\n",
       " 932.3800856015213,\n",
       " 933.6337768292174,\n",
       " 933.9288895605432,\n",
       " 934.6548535237537,\n",
       " 935.4773600355652,\n",
       " 936.7230149396346,\n",
       " 937.9525062543468,\n",
       " 939.1589103904332,\n",
       " 940.6004540822237,\n",
       " 941.8800421584116,\n",
       " 942.605011919308,\n",
       " 943.0162527313153,\n",
       " 945.3735905112179,\n",
       " 945.8847140983584,\n",
       " 946.1982603886098,\n",
       " 947.610137140194,\n",
       " 948.3621322619223,\n",
       " 950.406983327253,\n",
       " 951.8684667634648,\n",
       " 956.103058,\n",
       " 956.2922837361913,\n",
       " 956.5366009135923,\n",
       " 956.5896344194341,\n",
       " 958.0906407463118,\n",
       " 961.0983212609044,\n",
       " 963.6879277223227,\n",
       " 964.211294297094,\n",
       " 966.4874352875438,\n",
       " 969.4132576121899,\n",
       " 972.3644189900732,\n",
       " 974.845641566755,\n",
       " 976.0671849350572,\n",
       " 979.1529300073108,\n",
       " 981.3787690373794,\n",
       " 982.2414508947818,\n",
       " 982.3196126787993,\n",
       " 986.2948340803804,\n",
       " 986.5226032665562,\n",
       " 988.551645782498,\n",
       " 989.2713038479128,\n",
       " 990.3872938774499,\n",
       " 990.5289720745096,\n",
       " 991.8395076837872,\n",
       " 995.5496521801937,\n",
       " 996.7615438477428,\n",
       " 997.7051152841228,\n",
       " 997.9034783593656,\n",
       " 998.0450613015244,\n",
       " 998.9769171962273,\n",
       " 1001.334687044404,\n",
       " 1005.4653429509289,\n",
       " 1006.2400540838852,\n",
       " 1007.3688195871576,\n",
       " 1007.3815482163667,\n",
       " 1008.8094507490648,\n",
       " 1008.929957109258,\n",
       " 1009.0145779656284,\n",
       " 1009.596508695772,\n",
       " 1011.2215071855098,\n",
       " 1011.2677036404506,\n",
       " 1011.3935817607304,\n",
       " 1012.3032357451046,\n",
       " 1013.4394627973836,\n",
       " 1013.7290800490767,\n",
       " 1013.9200846062724,\n",
       " 1014.4648526307376,\n",
       " 1015.0610308695892,\n",
       " 1015.6285020670582,\n",
       " 1017.1789354666403,\n",
       " 1017.2938784122126,\n",
       " 1017.6355061778977,\n",
       " 1017.8053197852417,\n",
       " 1018.2378191259606,\n",
       " 1018.41693403216,\n",
       " 1018.9063682456932,\n",
       " 1020.512525516756,\n",
       " 1024.9491604702278,\n",
       " 1025.4079997269373,\n",
       " 1027.2206775885652,\n",
       " 1030.2196484001704,\n",
       " 1030.3626056014652,\n",
       " 1030.661767767101,\n",
       " 1031.142547930139,\n",
       " 1031.7824643776717,\n",
       " 1031.9076040874072,\n",
       " 1033.217192881699,\n",
       " 1035.3788641494755,\n",
       " 1035.637985492774,\n",
       " 1039.0956078748748,\n",
       " 1039.4517405766287,\n",
       " 1040.0929547481644,\n",
       " 1040.6549337692495,\n",
       " 1040.8943502171453,\n",
       " 1041.0456776201759,\n",
       " 1041.91880233017,\n",
       " 1042.1563287168854,\n",
       " 1047.2048091004017,\n",
       " ...]"
      ]
     },
     "execution_count": 282,
     "metadata": {},
     "output_type": "execute_result"
    }
   ],
   "source": [
    "data.loc[data['days_employed'] < 0, 'days_employed'] = abs(data['days_employed'])\n",
    "# проверка\n",
    "sorted(data['days_employed'].unique())"
   ]
  },
  {
   "cell_type": "markdown",
   "metadata": {},
   "source": [
    "##### Отрицательные значения заменены на положительные.\n"
   ]
  },
  {
   "cell_type": "markdown",
   "metadata": {},
   "source": [
    "#### Следющий шаг - это странный формат численного значения.\n",
    "\n",
    "Минимальное значения в колонке - 24.+\n",
    "Как известно, во временных отрезках, значение 24 - это количество часов в сутках.\n",
    "Значит, представленные численные данные следует разделить на 24, и получиться количество дней общего трудового стажа.\n",
    "\n",
    "Результат сохраняю в той же колонке ."
   ]
  },
  {
   "cell_type": "code",
   "execution_count": 283,
   "metadata": {
    "scrolled": true
   },
   "outputs": [
    {
     "data": {
      "text/plain": [
       "[1.005901385020049,\n",
       " 1.010028949643153,\n",
       " 1.571941752856464,\n",
       " 2.0886790778354034,\n",
       " 2.3265835633914276,\n",
       " 2.526555314805596,\n",
       " 2.5632690247407752,\n",
       " 2.566518447774101,\n",
       " 3.0260743835193615,\n",
       " 3.124802078612909,\n",
       " 3.1658932585016735,\n",
       " 3.328347903193528,\n",
       " 3.6656632875826833,\n",
       " 3.684746988434576,\n",
       " 3.917168463926545,\n",
       " 3.920930702823165,\n",
       " 3.948213017999955,\n",
       " 3.9987898710320966,\n",
       " 4.027399971718936,\n",
       " 4.045278948124504,\n",
       " 4.06847627485056,\n",
       " 4.096340070185005,\n",
       " 4.1331644562672745,\n",
       " 4.171499104190876,\n",
       " 4.202275521061395,\n",
       " 4.307253066978729,\n",
       " 4.311522220489294,\n",
       " 4.33072830950111,\n",
       " 4.423135480556161,\n",
       " 4.4354422451992885,\n",
       " 4.46085142385755,\n",
       " 4.464828845544365,\n",
       " 4.47644696157776,\n",
       " 4.4928293736261,\n",
       " 4.498235145066523,\n",
       " 4.51155151088245,\n",
       " 4.630642976168583,\n",
       " 4.650105764114664,\n",
       " 4.656782936949878,\n",
       " 4.675209298463749,\n",
       " 4.723766941521024,\n",
       " 4.760616600111529,\n",
       " 4.775679622363193,\n",
       " 4.807103279703807,\n",
       " 4.828168151477786,\n",
       " 4.851185786346003,\n",
       " 4.876442363185267,\n",
       " 4.880328603307995,\n",
       " 4.882364595404566,\n",
       " 4.889258570583313,\n",
       " 4.889992878924105,\n",
       " 4.90274939147371,\n",
       " 4.927969603261588,\n",
       " 4.953808809354205,\n",
       " 4.969364074056655,\n",
       " 5.014703429800404,\n",
       " 5.016469043552909,\n",
       " 5.022892074422919,\n",
       " 5.274871496879146,\n",
       " 5.3056226002488565,\n",
       " 5.339251100952367,\n",
       " 5.372250451664939,\n",
       " 5.437265094586524,\n",
       " 5.481250606120727,\n",
       " 5.494856873526227,\n",
       " 5.501215734706716,\n",
       " 5.529317519211966,\n",
       " 5.53118900127757,\n",
       " 5.57041401093086,\n",
       " 5.578196728268925,\n",
       " 5.632684729390619,\n",
       " 5.7347783213574,\n",
       " 5.819360542803189,\n",
       " 5.841638695175145,\n",
       " 5.928175694143346,\n",
       " 5.935109104651555,\n",
       " 5.9431802266835705,\n",
       " 6.007743909343168,\n",
       " 6.011785539157228,\n",
       " 6.016962617680439,\n",
       " 6.064234063499125,\n",
       " 6.083360960951514,\n",
       " 6.115778597895198,\n",
       " 6.212675110770532,\n",
       " 6.274855201715517,\n",
       " 6.331928799037356,\n",
       " 6.365815382302937,\n",
       " 6.376099608263096,\n",
       " 6.429261213510049,\n",
       " 6.492460431653517,\n",
       " 6.4995858353073785,\n",
       " 6.507680749986516,\n",
       " 6.5087264847959885,\n",
       " 6.548967243093487,\n",
       " 6.555692804277684,\n",
       " 6.582570170012056,\n",
       " 6.659909540139083,\n",
       " 6.665907256639298,\n",
       " 6.714535224014398,\n",
       " 6.739395372229641,\n",
       " 6.777799900871596,\n",
       " 6.808300092438539,\n",
       " 6.895119444084304,\n",
       " 6.90281111387667,\n",
       " 6.904633020439955,\n",
       " 6.910169180568082,\n",
       " 6.918883857263595,\n",
       " 6.927709876511984,\n",
       " 6.987177700805752,\n",
       " 6.995283946076928,\n",
       " 6.997667650961475,\n",
       " 7.091732660353315,\n",
       " 7.101686007033661,\n",
       " 7.118770509571582,\n",
       " 7.131767530060029,\n",
       " 7.140542411014017,\n",
       " 7.142663565267963,\n",
       " 7.155693346155448,\n",
       " 7.1774272248716455,\n",
       " 7.232507514785202,\n",
       " 7.254173995088016,\n",
       " 7.272781956414672,\n",
       " 7.293236563490403,\n",
       " 7.306587694877046,\n",
       " 7.342362014046731,\n",
       " 7.3565665229433,\n",
       " 7.372910482159107,\n",
       " 7.420488724298501,\n",
       " 7.428786774150718,\n",
       " 7.4695438117329545,\n",
       " 7.524279324647843,\n",
       " 7.536473555783992,\n",
       " 7.560101579982381,\n",
       " 7.592780135536571,\n",
       " 7.6915995335916,\n",
       " 7.807262445449166,\n",
       " 7.845950078803017,\n",
       " 7.84784365472143,\n",
       " 7.857718349496703,\n",
       " 7.858716803416351,\n",
       " 7.893345989332928,\n",
       " 7.9235744374273205,\n",
       " 7.95668273132942,\n",
       " 7.964447741018404,\n",
       " 7.96532333200886,\n",
       " 7.987015546271452,\n",
       " 8.02272183749317,\n",
       " 8.07894344950781,\n",
       " 8.0984737157203,\n",
       " 8.121184319036564,\n",
       " 8.161325944939238,\n",
       " 8.177244444971068,\n",
       " 8.193291201990068,\n",
       " 8.213574964559045,\n",
       " 8.214047753711034,\n",
       " 8.308525223488184,\n",
       " 8.322157144890062,\n",
       " 8.341069949684064,\n",
       " 8.366938093547867,\n",
       " 8.39167138369724,\n",
       " 8.397392599013132,\n",
       " 8.40387206480827,\n",
       " 8.422629766466443,\n",
       " 8.49271108488617,\n",
       " 8.50934387545173,\n",
       " 8.528048563818983,\n",
       " 8.531070459353838,\n",
       " 8.551988039884415,\n",
       " 8.578256125670245,\n",
       " 8.60204666807027,\n",
       " 8.602676019865163,\n",
       " 8.666032983504698,\n",
       " 8.706041847225139,\n",
       " 8.72125936999616,\n",
       " 8.76622301912218,\n",
       " 8.7908264519062,\n",
       " 8.805504434822062,\n",
       " 8.868983785366659,\n",
       " 8.883672928794383,\n",
       " 8.908429338729047,\n",
       " 8.95285387197461,\n",
       " 8.968552850181455,\n",
       " 8.985083677171646,\n",
       " 9.016142582638732,\n",
       " 9.091771818468587,\n",
       " 9.092287580208962,\n",
       " 9.148093651574191,\n",
       " 9.151812879702101,\n",
       " 9.165577315471834,\n",
       " 9.168302166281991,\n",
       " 9.1776432155641,\n",
       " 9.241665116076248,\n",
       " 9.2617211910321,\n",
       " 9.2782690253297,\n",
       " 9.3068511501906,\n",
       " 9.309123292425245,\n",
       " 9.314459070367684,\n",
       " 9.318321443469454,\n",
       " 9.356033553184233,\n",
       " 9.359293713788643,\n",
       " 9.373701796786543,\n",
       " 9.38015372833535,\n",
       " 9.47560779286914,\n",
       " 9.49129021445916,\n",
       " 9.556610481377424,\n",
       " 9.641156044540462,\n",
       " 9.657644809799903,\n",
       " 9.65773154987947,\n",
       " 9.692923158762666,\n",
       " 9.704862249954049,\n",
       " 9.73165121332332,\n",
       " 9.741875264715215,\n",
       " 9.804959281263018,\n",
       " 9.815484280880826,\n",
       " 9.862753239796547,\n",
       " 9.894569293977662,\n",
       " 9.925563339125922,\n",
       " 9.963869054593212,\n",
       " 9.985862612659963,\n",
       " 10.008068624543226,\n",
       " 10.079205370653026,\n",
       " 10.104660873818803,\n",
       " 10.153812457618452,\n",
       " 10.184210046120485,\n",
       " 10.206561487577588,\n",
       " 10.2921144976463,\n",
       " 10.324332769952678,\n",
       " 10.356138159944456,\n",
       " 10.357255107013161,\n",
       " 10.457082780486571,\n",
       " 10.488470575059958,\n",
       " 10.5037893932415,\n",
       " 10.52158978702212,\n",
       " 10.531901180257103,\n",
       " 10.568414411738233,\n",
       " 10.57021524100104,\n",
       " 10.57526477652027,\n",
       " 10.614684955921337,\n",
       " 10.662899426557187,\n",
       " 10.664281029008494,\n",
       " 10.664614822413059,\n",
       " 10.771374306262542,\n",
       " 10.773001031563936,\n",
       " 10.798635438679263,\n",
       " 10.81759721181946,\n",
       " 10.822381474174506,\n",
       " 10.859947658803534,\n",
       " 10.942513454572103,\n",
       " 11.011859530047294,\n",
       " 11.02139747662035,\n",
       " 11.04599880815242,\n",
       " 11.068667740893446,\n",
       " 11.166215151248892,\n",
       " 11.305134506357014,\n",
       " 11.315438812718284,\n",
       " 11.37422437639185,\n",
       " 11.467590177609218,\n",
       " 11.484857897039028,\n",
       " 11.499743645349673,\n",
       " 11.516103649579463,\n",
       " 11.541378571145593,\n",
       " 11.54425850782552,\n",
       " 11.556285048474026,\n",
       " 11.58156379476956,\n",
       " 11.620120923117723,\n",
       " 11.689695702957295,\n",
       " 11.724275931198454,\n",
       " 11.735658931634111,\n",
       " 11.743473086216285,\n",
       " 11.749387189581633,\n",
       " 11.79269362094068,\n",
       " 11.826133975416866,\n",
       " 11.882293119172383,\n",
       " 11.885410028449074,\n",
       " 11.93240930397002,\n",
       " 11.978731074910527,\n",
       " 12.061316403379065,\n",
       " 12.0932396809622,\n",
       " 12.122398648613599,\n",
       " 12.144064749884544,\n",
       " 12.262860723217367,\n",
       " 12.339490109435603,\n",
       " 12.361075782972021,\n",
       " 12.493688495703543,\n",
       " 12.506626096764554,\n",
       " 12.526774720385626,\n",
       " 12.541225668494368,\n",
       " 12.55416685768166,\n",
       " 12.588464134909819,\n",
       " 12.603797502145765,\n",
       " 12.736196490511633,\n",
       " 12.776942338964234,\n",
       " 12.827822700086578,\n",
       " 12.854327678123086,\n",
       " 12.869763538565062,\n",
       " 12.921033742174975,\n",
       " 13.008736172298,\n",
       " 13.225495231635415,\n",
       " 13.24177472442409,\n",
       " 13.273328930677694,\n",
       " 13.311677947506384,\n",
       " 13.324903902546518,\n",
       " 13.47674018372129,\n",
       " 13.501643387328903,\n",
       " 13.57080395827107,\n",
       " 13.625622666833422,\n",
       " 13.626130124382845,\n",
       " 13.648546121983173,\n",
       " 13.651079813083953,\n",
       " 13.658975036884277,\n",
       " 13.66437237486752,\n",
       " 13.684652268492867,\n",
       " 13.736363578219406,\n",
       " 13.83414366631641,\n",
       " 13.872363193961995,\n",
       " 13.886522210892352,\n",
       " 13.971609599345319,\n",
       " 13.980123180642133,\n",
       " 14.030751147335708,\n",
       " 14.046291053158413,\n",
       " 14.099894273694645,\n",
       " 14.155187465146922,\n",
       " 14.229128980816673,\n",
       " 14.260411753959879,\n",
       " 14.274643055545654,\n",
       " 14.290233023286655,\n",
       " 14.32385367669407,\n",
       " 14.330408612733828,\n",
       " 14.402610370763986,\n",
       " 14.486549402675942,\n",
       " 14.493448000103283,\n",
       " 14.493456860927159,\n",
       " 14.629752909877068,\n",
       " 14.630608826392157,\n",
       " 14.6514110118732,\n",
       " 14.653552632708944,\n",
       " 14.666371728355408,\n",
       " 14.667020990867535,\n",
       " 14.74323809494084,\n",
       " 14.826069425254898,\n",
       " 14.8387997650617,\n",
       " 14.883627430028655,\n",
       " 14.963620221112071,\n",
       " 14.966415618891633,\n",
       " 15.040195180968203,\n",
       " 15.053972741448854,\n",
       " 15.17670413733489,\n",
       " 15.250046164677698,\n",
       " 15.274772897161819,\n",
       " 15.297040856094513,\n",
       " 15.333884307770694,\n",
       " 15.377939361004126,\n",
       " 15.427950429342403,\n",
       " 15.431933432558807,\n",
       " 15.441640153674667,\n",
       " 15.467885351123753,\n",
       " 15.55689242107914,\n",
       " 15.634237711569119,\n",
       " 15.710818850815434,\n",
       " 15.712191392732768,\n",
       " 15.717774291258573,\n",
       " 15.869767426793738,\n",
       " 15.869825689914217,\n",
       " 15.912461813214797,\n",
       " 15.931992683257155,\n",
       " 15.953135568280137,\n",
       " 15.955857670753076,\n",
       " 15.961478911348655,\n",
       " 16.001323008251656,\n",
       " 16.058964079163236,\n",
       " 16.06943877401483,\n",
       " 16.079116445083127,\n",
       " 16.091390873988058,\n",
       " 16.120285827330175,\n",
       " 16.20041248630222,\n",
       " 16.348297030638594,\n",
       " 16.379557456364214,\n",
       " 16.395158855266075,\n",
       " 16.430852924620545,\n",
       " 16.469007018188442,\n",
       " 16.502547263725617,\n",
       " 16.504667430999373,\n",
       " 16.520348758780393,\n",
       " 16.556283960577108,\n",
       " 16.558360290160373,\n",
       " 16.59592331768641,\n",
       " 16.615175174014514,\n",
       " 16.617747827372202,\n",
       " 16.629731068626636,\n",
       " 16.66876664635351,\n",
       " 16.698475462168307,\n",
       " 16.723641730162996,\n",
       " 16.787598472590833,\n",
       " 16.820542800204702,\n",
       " 16.867129786542485,\n",
       " 16.945197492449243,\n",
       " 17.05000619407063,\n",
       " 17.059792044698156,\n",
       " 17.125983176388818,\n",
       " 17.126915888228698,\n",
       " 17.16238914546995,\n",
       " 17.187106497681945,\n",
       " 17.212213571342364,\n",
       " 17.23908933278838,\n",
       " 17.249275087197706,\n",
       " 17.297198655138835,\n",
       " 17.310137403316343,\n",
       " 17.3422100948932,\n",
       " 17.363011324682272,\n",
       " 17.40400478661694,\n",
       " 17.482443589844447,\n",
       " 17.568518564333633,\n",
       " 17.664085024692678,\n",
       " 17.670741092248406,\n",
       " 17.70665075136594,\n",
       " 17.75635350736243,\n",
       " 17.88710743525255,\n",
       " 17.90940393387352,\n",
       " 17.93961011050762,\n",
       " 17.95672431118714,\n",
       " 18.00518354757913,\n",
       " 18.029173568528787,\n",
       " 18.03929598333173,\n",
       " 18.122139063145365,\n",
       " 18.132671844044747,\n",
       " 18.13804976879404,\n",
       " 18.158442141068008,\n",
       " 18.16650185497844,\n",
       " 18.179709776848952,\n",
       " 18.22703571762235,\n",
       " 18.281667757773164,\n",
       " 18.28450596178814,\n",
       " 18.38056399280958,\n",
       " 18.40496969920292,\n",
       " 18.492098197573487,\n",
       " 18.562104404343753,\n",
       " 18.574184953854054,\n",
       " 18.6078141832703,\n",
       " 18.620844633049654,\n",
       " 18.63271658927441,\n",
       " 18.74717347241033,\n",
       " 18.752555932600025,\n",
       " 18.79801612124483,\n",
       " 18.800101676425975,\n",
       " 18.94700019254549,\n",
       " 18.96836012960696,\n",
       " 18.976484849651797,\n",
       " 18.98584329761376,\n",
       " 19.105829077902285,\n",
       " 19.210672910897408,\n",
       " 19.31602501629821,\n",
       " 19.332936656791684,\n",
       " 19.359755567778347,\n",
       " 19.419790207260906,\n",
       " 19.493544743722705,\n",
       " 19.602742059736496,\n",
       " 19.637671999510474,\n",
       " 19.65678317313283,\n",
       " 19.68940920983211,\n",
       " 19.693338654551006,\n",
       " 19.75325194441345,\n",
       " 19.84357225306156,\n",
       " 19.846287092617683,\n",
       " 19.87222800295364,\n",
       " 19.887533338411963,\n",
       " 19.905177513644386,\n",
       " 19.920487481038283,\n",
       " 19.960571122200417,\n",
       " 19.9841689915532,\n",
       " 20.01147301808091,\n",
       " 20.029932815019176,\n",
       " 20.032903867582558,\n",
       " 20.097029459887537,\n",
       " 20.255890943745356,\n",
       " 20.258327265918716,\n",
       " 20.27996761981606,\n",
       " 20.338808316866036,\n",
       " 20.349124696071453,\n",
       " 20.372360746886283,\n",
       " 20.39520603475852,\n",
       " 20.46496578302731,\n",
       " 20.482488491756875,\n",
       " 20.525549886412012,\n",
       " 20.69235258792405,\n",
       " 20.821554004571368,\n",
       " 20.878268465857023,\n",
       " 20.9263163325131,\n",
       " 20.932556916764437,\n",
       " 21.02711693615427,\n",
       " 21.10566385687326,\n",
       " 21.179738150297528,\n",
       " 21.209718934255953,\n",
       " 21.25092221092665,\n",
       " 21.3400732123521,\n",
       " 21.367337955327276,\n",
       " 21.40493513117966,\n",
       " 21.414523599505785,\n",
       " 21.42995958684648,\n",
       " 21.5275586116605,\n",
       " 21.532948077796476,\n",
       " 21.58828627938303,\n",
       " 21.63944883896136,\n",
       " 21.659837675728383,\n",
       " 21.933815920171487,\n",
       " 21.957280917023382,\n",
       " 22.016456322861256,\n",
       " 22.04965144414265,\n",
       " 22.085066669239655,\n",
       " 22.12227155274141,\n",
       " 22.16072014305071,\n",
       " 22.17443846088939,\n",
       " 22.28323664723503,\n",
       " 22.342135756735335,\n",
       " 22.416864041097146,\n",
       " 22.43882930952377,\n",
       " 22.46311396534718,\n",
       " 22.498099116265752,\n",
       " 22.50160105057026,\n",
       " 22.56040250279119,\n",
       " 22.57634338180492,\n",
       " 22.59672315766088,\n",
       " 22.653153668757426,\n",
       " 22.768602104619074,\n",
       " 22.780923907210294,\n",
       " 22.82291935508843,\n",
       " 22.828740441131398,\n",
       " 22.87680639639711,\n",
       " 22.885650285394068,\n",
       " 22.929444222530876,\n",
       " 22.985263646320536,\n",
       " 23.070993609421304,\n",
       " 23.07228387092024,\n",
       " 23.09080276098685,\n",
       " 23.124784579443766,\n",
       " 23.14608145047913,\n",
       " 23.14839239871561,\n",
       " 23.150504984661215,\n",
       " 23.17499219566204,\n",
       " 23.222687900650374,\n",
       " 23.26094995246939,\n",
       " 23.27561871880559,\n",
       " 23.28564803788591,\n",
       " 23.497376184613362,\n",
       " 23.547778674318625,\n",
       " 23.594973557399857,\n",
       " 23.724653245772597,\n",
       " 23.88158975296432,\n",
       " 23.885880467251038,\n",
       " 23.90135271052174,\n",
       " 23.958163477899273,\n",
       " 24.005231363330353,\n",
       " 24.02112750672194,\n",
       " 24.05305976246315,\n",
       " 24.06382937838835,\n",
       " 24.218578960605754,\n",
       " 24.27155594449447,\n",
       " 24.307519802251445,\n",
       " 24.3109974891896,\n",
       " 24.311781599940005,\n",
       " 24.31695727182088,\n",
       " 24.336854290815626,\n",
       " 24.398123574383575,\n",
       " 24.463575568417255,\n",
       " 24.46884540665984,\n",
       " 24.5592107698013,\n",
       " 24.599528727399512,\n",
       " 24.60587704837069,\n",
       " 24.606365357066547,\n",
       " 24.65815742472327,\n",
       " 24.66950662600108,\n",
       " 24.688183887112526,\n",
       " 24.690885518911873,\n",
       " 24.74043008215223,\n",
       " 24.8590301870418,\n",
       " 24.886391757387145,\n",
       " 24.911742804379546,\n",
       " 24.9381272767622,\n",
       " 24.947902020173316,\n",
       " 25.015591720468723,\n",
       " 25.035671082704074,\n",
       " 25.209435040448273,\n",
       " 25.366714313634574,\n",
       " 25.37069927861599,\n",
       " 25.398279698192592,\n",
       " 25.71833515609615,\n",
       " 25.772978308907813,\n",
       " 25.826757774918033,\n",
       " 25.86616777088619,\n",
       " 25.866664468916525,\n",
       " 25.916679894729793,\n",
       " 25.949923333414258,\n",
       " 25.98408019682452,\n",
       " 26.023880258471454,\n",
       " 26.04243046906281,\n",
       " 26.10650231364376,\n",
       " 26.117327229030504,\n",
       " 26.13274041069855,\n",
       " 26.165088279879413,\n",
       " 26.16811606602955,\n",
       " 26.194692510247062,\n",
       " 26.36356925766765,\n",
       " 26.391920253597295,\n",
       " 26.420414118561265,\n",
       " 26.43829731192099,\n",
       " 26.442991672704537,\n",
       " 26.55041845149766,\n",
       " 26.630070570960324,\n",
       " 26.63891401170828,\n",
       " 26.645415385519925,\n",
       " 26.648529481735924,\n",
       " 26.685394118425407,\n",
       " 26.693981025385682,\n",
       " 26.825806170767823,\n",
       " 26.84453518226347,\n",
       " 26.845084826777622,\n",
       " 26.93819201929041,\n",
       " 26.939376964775537,\n",
       " 26.986601922147134,\n",
       " 27.034312363953976,\n",
       " 27.039054720300083,\n",
       " 27.046833358505868,\n",
       " 27.107824850110774,\n",
       " 27.14726823336841,\n",
       " 27.153793324374593,\n",
       " 27.216233227562864,\n",
       " 27.22457573977871,\n",
       " 27.265434232592366,\n",
       " 27.315218531213006,\n",
       " 27.359183987059467,\n",
       " 27.39236378945498,\n",
       " 27.487595414279525,\n",
       " 27.561456709857282,\n",
       " 27.657300049350678,\n",
       " 27.661865420811257,\n",
       " 27.662504150725113,\n",
       " 27.680440003238886,\n",
       " 27.68725468166555,\n",
       " 27.75557852857197,\n",
       " 27.876380907959913,\n",
       " 27.87721176624655,\n",
       " 27.891518632060155,\n",
       " 28.021872097655486,\n",
       " 28.032990395040716,\n",
       " 28.034680667101693,\n",
       " 28.086066427441096,\n",
       " 28.106070823397236,\n",
       " 28.130412374443683,\n",
       " 28.15937165323695,\n",
       " 28.173429168667216,\n",
       " 28.208655090385147,\n",
       " 28.233582386984377,\n",
       " 28.293818626022837,\n",
       " 28.29733666023422,\n",
       " 28.34031066044012,\n",
       " 28.353095342337927,\n",
       " 28.38929758800369,\n",
       " 28.407908453540283,\n",
       " 28.46977093152084,\n",
       " 28.481440085015524,\n",
       " 28.506202228664602,\n",
       " 28.53692842549992,\n",
       " 28.60452655281168,\n",
       " 28.72152398711387,\n",
       " 28.851260681553644,\n",
       " 28.993308988060146,\n",
       " 29.056043188769348,\n",
       " 29.15818616339799,\n",
       " 29.179770787111522,\n",
       " 29.237695172147053,\n",
       " 29.251821318136134,\n",
       " 29.30181292583171,\n",
       " 29.322149349950333,\n",
       " 29.369810145092554,\n",
       " 29.38264706704581,\n",
       " 29.481622583326345,\n",
       " 29.5030659662692,\n",
       " 29.541370905378603,\n",
       " 29.6117048402435,\n",
       " 29.628295583443133,\n",
       " 29.64188761763003,\n",
       " 29.658128487856317,\n",
       " 29.658888747823383,\n",
       " 29.786631950803613,\n",
       " 29.886430164244697,\n",
       " 29.89869775949127,\n",
       " 29.90728225004524,\n",
       " 29.9151764372973,\n",
       " 29.992853073882756,\n",
       " 30.05310841489536,\n",
       " 30.059314210878934,\n",
       " 30.18727332802054,\n",
       " 30.233155974996723,\n",
       " 30.26623928705676,\n",
       " 30.289323776069324,\n",
       " 30.300102024473414,\n",
       " 30.337520353060025,\n",
       " 30.355477337818247,\n",
       " 30.365224155853948,\n",
       " 30.450049310615075,\n",
       " 30.453101070121235,\n",
       " 30.46206430201346,\n",
       " 30.555867336605903,\n",
       " 30.572842992217947,\n",
       " 30.61561166186807,\n",
       " 30.641952113597437,\n",
       " 30.685804324475782,\n",
       " 30.72448041319525,\n",
       " 30.75528950932701,\n",
       " 30.78728662723489,\n",
       " 30.80078664884866,\n",
       " 30.843881006522448,\n",
       " 30.863413806607387,\n",
       " 30.880303328438455,\n",
       " 30.90173804247443,\n",
       " 30.98514782543799,\n",
       " 30.992936559902912,\n",
       " 31.00067778672373,\n",
       " 31.147897237983443,\n",
       " 31.215653220797634,\n",
       " 31.224661653903425,\n",
       " 31.278632913671405,\n",
       " 31.39446008691155,\n",
       " 31.42894184164801,\n",
       " 31.44717065971352,\n",
       " 31.4513523463992,\n",
       " 31.58746302071602,\n",
       " 31.59887024352787,\n",
       " 31.610468587389075,\n",
       " 31.657667272499065,\n",
       " 31.73142854752247,\n",
       " 31.74015024468478,\n",
       " 31.85982440389164,\n",
       " 31.974788065746356,\n",
       " 32.00991340835068,\n",
       " 32.05014790236266,\n",
       " 32.17961853776191,\n",
       " 32.217186194953236,\n",
       " 32.29533238477716,\n",
       " 32.35967715023205,\n",
       " 32.361016009061885,\n",
       " 32.37707754020685,\n",
       " 32.38939624957569,\n",
       " 32.45873937251758,\n",
       " 32.46063038866878,\n",
       " 32.46785204783061,\n",
       " 32.63623723479968,\n",
       " 32.638923160817306,\n",
       " 32.71140711695268,\n",
       " 32.716317393196206,\n",
       " 32.83749276670645,\n",
       " 32.84466734535859,\n",
       " 32.84862776415398,\n",
       " 32.95466418841442,\n",
       " 33.02924529420548,\n",
       " 33.19111096707733,\n",
       " 33.20765149743805,\n",
       " 33.2389464999326,\n",
       " 33.25417787462048,\n",
       " 33.35102799823576,\n",
       " 33.387459204017155,\n",
       " 33.396229396736594,\n",
       " 33.412224454007735,\n",
       " 33.451772128485665,\n",
       " 33.49193744686682,\n",
       " 33.536232741655404,\n",
       " 33.543518246723366,\n",
       " 33.55164233413306,\n",
       " 33.64809206461933,\n",
       " 33.691038805722506,\n",
       " 33.73699348792203,\n",
       " 33.7754664084115,\n",
       " 33.80212991611365,\n",
       " 33.95830783837301,\n",
       " 33.96059760738949,\n",
       " 34.01483062557838,\n",
       " 34.05887654866513,\n",
       " 34.10282290876216,\n",
       " 34.13384920408618,\n",
       " 34.1511341317938,\n",
       " 34.22335404096389,\n",
       " 34.33520616132535,\n",
       " 34.35468287462592,\n",
       " 34.36244960976164,\n",
       " 34.400995813446634,\n",
       " 34.45168221737524,\n",
       " 34.48667227290456,\n",
       " 34.51636628865026,\n",
       " 34.56773673374117,\n",
       " 34.693893634088816,\n",
       " 34.75092753914324,\n",
       " 34.756441573649134,\n",
       " 34.821515757654,\n",
       " 34.9004445597383,\n",
       " 34.901507814527875,\n",
       " 35.00239195921591,\n",
       " 35.023172858400194,\n",
       " 35.07557607301663,\n",
       " 35.08655953151473,\n",
       " 35.11175496749139,\n",
       " 35.13259257638912,\n",
       " 35.29349264594948,\n",
       " 35.305958011930116,\n",
       " 35.357736093367585,\n",
       " 35.38255203890553,\n",
       " 35.38556170962181,\n",
       " 35.416254485993655,\n",
       " 35.468404279678325,\n",
       " 35.47208011020547,\n",
       " 35.499394333313845,\n",
       " 35.55637819280047,\n",
       " 35.56261202944133,\n",
       " 35.572054467405216,\n",
       " 35.649812989021484,\n",
       " 35.72655378519665,\n",
       " 35.78887210108155,\n",
       " 35.82262548491794,\n",
       " 35.84068198582095,\n",
       " 35.84215369634348,\n",
       " 35.84979911290862,\n",
       " 35.96431762815025,\n",
       " 35.9720995809878,\n",
       " 35.999354348497185,\n",
       " 36.04096642957016,\n",
       " 36.04179034658544,\n",
       " 36.042995844889916,\n",
       " 36.074075909448666,\n",
       " 36.07774430992343,\n",
       " 36.10045393738769,\n",
       " 36.17773177783426,\n",
       " 36.18884171634409,\n",
       " 36.21072687173009,\n",
       " 36.39450147093589,\n",
       " 36.45162723840563,\n",
       " 36.452210950928055,\n",
       " 36.53512959026259,\n",
       " 36.56864244797641,\n",
       " 36.579456706456185,\n",
       " 36.59240388326297,\n",
       " 36.6221863153219,\n",
       " 36.632292308701786,\n",
       " 36.64947290720071,\n",
       " 36.675879708005354,\n",
       " 36.69555526674889,\n",
       " 36.78293044184991,\n",
       " 36.80854472266643,\n",
       " 36.824311216938796,\n",
       " 36.85607905941878,\n",
       " 36.91905630269444,\n",
       " 36.961613885505855,\n",
       " 37.01180612854736,\n",
       " 37.015492726564446,\n",
       " 37.032338511817095,\n",
       " 37.058480837184426,\n",
       " 37.11122380505535,\n",
       " 37.14567165482163,\n",
       " 37.234619569234255,\n",
       " 37.27612459054537,\n",
       " 37.294798195059705,\n",
       " 37.302484315008776,\n",
       " 37.35259880702562,\n",
       " 37.36597500832264,\n",
       " 37.384119796835925,\n",
       " 37.38845023069695,\n",
       " 37.39924730080971,\n",
       " 37.47053769570041,\n",
       " 37.48945133773551,\n",
       " 37.5018547514706,\n",
       " 37.50262686692883,\n",
       " 37.54590574420261,\n",
       " 37.586855334540836,\n",
       " 37.595968688283484,\n",
       " 37.71075384807862,\n",
       " 37.77164359031955,\n",
       " 37.9331204097144,\n",
       " 37.945541433392634,\n",
       " 37.97805749895182,\n",
       " 37.98923085827712,\n",
       " 38.01991645309249,\n",
       " 38.04783823553586,\n",
       " 38.04839596802675,\n",
       " 38.090306667073996,\n",
       " 38.11546876641014,\n",
       " 38.128174225854515,\n",
       " 38.1559639612337,\n",
       " 38.18015570732562,\n",
       " 38.18453455232336,\n",
       " 38.26907097995387,\n",
       " 38.29117277184812,\n",
       " 38.31924266242303,\n",
       " 38.338527960932915,\n",
       " 38.42677464583792,\n",
       " 38.53468411894187,\n",
       " 38.59107628662159,\n",
       " 38.599791462636155,\n",
       " 38.60330580170575,\n",
       " 38.61996018082117,\n",
       " 38.640576708870306,\n",
       " 38.6450875416379,\n",
       " 38.664775778888654,\n",
       " 38.67467976979821,\n",
       " 38.69307891130785,\n",
       " 38.69458538817543,\n",
       " 38.75348206628657,\n",
       " 38.84917023339672,\n",
       " 38.901407367884055,\n",
       " 38.9137037316893,\n",
       " 38.943952230156405,\n",
       " 38.97822333481522,\n",
       " 39.030125622484775,\n",
       " 39.08135442726445,\n",
       " 39.13162126626805,\n",
       " 39.19168558675932,\n",
       " 39.24500175660048,\n",
       " 39.27520882997117,\n",
       " 39.2923438638048,\n",
       " 39.39056627130075,\n",
       " 39.4118630874316,\n",
       " 39.42492751619208,\n",
       " 39.48375571417475,\n",
       " 39.51508884424676,\n",
       " 39.600290971968874,\n",
       " 39.66118611514437,\n",
       " 39.83762741666667,\n",
       " 39.8455118223413,\n",
       " 39.85569170473301,\n",
       " 39.85790143414309,\n",
       " 39.92044336442966,\n",
       " 40.04576338587102,\n",
       " 40.15366365509678,\n",
       " 40.17547059571225,\n",
       " 40.270309803647656,\n",
       " 40.39221906717458,\n",
       " 40.51518412458638,\n",
       " 40.61856839861479,\n",
       " 40.669466038960714,\n",
       " 40.79803875030462,\n",
       " 40.89078204322414,\n",
       " 40.92672712061591,\n",
       " 40.92998386161664,\n",
       " 41.095618086682514,\n",
       " 41.10510846943984,\n",
       " 41.18965190760408,\n",
       " 41.2196376603297,\n",
       " 41.26613724489375,\n",
       " 41.27204050310457,\n",
       " 41.32664615349113,\n",
       " 41.48123550750807,\n",
       " 41.53173099365595,\n",
       " 41.57104647017179,\n",
       " 41.5793115983069,\n",
       " 41.58521088756351,\n",
       " 41.62403821650947,\n",
       " 41.72227862685016,\n",
       " 41.89438928962203,\n",
       " 41.92666892016188,\n",
       " 41.97370081613157,\n",
       " 41.97423117568194,\n",
       " 42.03372711454437,\n",
       " 42.03874821288575,\n",
       " 42.04227408190118,\n",
       " 42.06652119565717,\n",
       " 42.13422946606291,\n",
       " 42.136154318352105,\n",
       " 42.14139924003043,\n",
       " 42.17930148937936,\n",
       " 42.22664428322432,\n",
       " 42.23871166871153,\n",
       " 42.24667019192802,\n",
       " 42.26936885961407,\n",
       " 42.29420961956622,\n",
       " 42.31785425279409,\n",
       " 42.38245564444335,\n",
       " 42.38724493384219,\n",
       " 42.40147942407907,\n",
       " 42.40855499105174,\n",
       " 42.426575796915024,\n",
       " 42.43403891800667,\n",
       " 42.45443201023722,\n",
       " 42.52135522986483,\n",
       " 42.706215019592825,\n",
       " 42.72533332195572,\n",
       " 42.800861566190214,\n",
       " 42.92581868334043,\n",
       " 42.93177523339438,\n",
       " 42.94424032362921,\n",
       " 42.96427283042246,\n",
       " 42.99093601573632,\n",
       " 42.99615017030863,\n",
       " 43.050716370070795,\n",
       " 43.14078600622815,\n",
       " 43.151582728865584,\n",
       " 43.295650328119784,\n",
       " 43.31048919069286,\n",
       " 43.33720644784018,\n",
       " 43.360622240385396,\n",
       " 43.370597925714385,\n",
       " 43.376903234173994,\n",
       " 43.413283430423746,\n",
       " 43.42318036320356,\n",
       " 43.63353371251674,\n",
       " ...]"
      ]
     },
     "execution_count": 283,
     "metadata": {},
     "output_type": "execute_result"
    }
   ],
   "source": [
    "data['days_employed'] = data['days_employed'] / 24\n",
    "# проверка\n",
    "sorted(data['days_employed'].unique())"
   ]
  },
  {
   "cell_type": "code",
   "execution_count": 284,
   "metadata": {
    "scrolled": true
   },
   "outputs": [
    {
     "data": {
      "text/plain": [
       "[16739.80835313875,\n",
       " 16738.158822870344,\n",
       " 16736.462226410917,\n",
       " 16736.436109723567,\n",
       " 16735.993751908365,\n",
       " 16734.793029046596,\n",
       " 16734.151387420443,\n",
       " 16733.93648425984,\n",
       " 16732.992852390245,\n",
       " 16732.93550961296,\n",
       " 16732.299863651315,\n",
       " 16732.246053680243,\n",
       " 16731.53139793677,\n",
       " 16730.17746470528,\n",
       " 16729.886516166116,\n",
       " 16728.612781066626,\n",
       " 16727.453240868883,\n",
       " 16726.935279995767,\n",
       " 16726.701430647398,\n",
       " 16724.239006497413,\n",
       " 16724.10711505487,\n",
       " 16723.806657850353,\n",
       " 16723.728483437415,\n",
       " 16723.535536746724,\n",
       " 16722.746946613945,\n",
       " 16722.15287280692,\n",
       " 16721.748525078307,\n",
       " 16720.480405785678,\n",
       " 16719.640158997696,\n",
       " 16719.031045396576,\n",
       " 16717.78335602106,\n",
       " 16717.65994447176,\n",
       " 16717.31082436597,\n",
       " 16716.204891032132,\n",
       " 16715.048260446514,\n",
       " 16713.48142513649,\n",
       " 16713.046629317978,\n",
       " 16712.085758692727,\n",
       " 16710.991854672917,\n",
       " 16709.80386727853,\n",
       " 16709.229203424537,\n",
       " 16709.193440506187,\n",
       " 16708.21962076267,\n",
       " 16708.01819042219,\n",
       " 16708.015654321774,\n",
       " 16707.388939079498,\n",
       " 16706.746223508097,\n",
       " 16706.42699353777,\n",
       " 16703.851297446963,\n",
       " 16701.422216593088,\n",
       " 16700.83798140501,\n",
       " 16698.200839125955,\n",
       " 16695.474986822595,\n",
       " 16693.984985886294,\n",
       " 16690.887974725687,\n",
       " 16689.842432856934,\n",
       " 16689.7416014971,\n",
       " 16689.22536313359,\n",
       " 16688.94297983679,\n",
       " 16688.066554718647,\n",
       " 16688.030523938392,\n",
       " 16687.869757603043,\n",
       " 16685.85285010254,\n",
       " 16684.468099420144,\n",
       " 16683.75848722769,\n",
       " 16682.33752667496,\n",
       " 16677.826750900684,\n",
       " 16676.022078420465,\n",
       " 16674.41170025787,\n",
       " 16673.555863260564,\n",
       " 16672.896238590674,\n",
       " 16672.831137955483,\n",
       " 16671.984052046788,\n",
       " 16671.83914298751,\n",
       " 16671.706947717357,\n",
       " 16671.244821089167,\n",
       " 16669.033756663986,\n",
       " 16668.832152686016,\n",
       " 16668.750616131732,\n",
       " 16668.002425610088,\n",
       " 16667.023051034386,\n",
       " 16666.69718609272,\n",
       " 16664.59402287982,\n",
       " 16663.59046298678,\n",
       " 16662.279110936743,\n",
       " 16662.04417004545,\n",
       " 16660.660525994597,\n",
       " 16659.20374215086,\n",
       " 16655.66917436558,\n",
       " 16655.528455380918,\n",
       " 16655.36944031162,\n",
       " 16653.8952370568,\n",
       " 16653.428528425302,\n",
       " 16652.442914155235,\n",
       " 16650.935156264317,\n",
       " 16650.71419456451,\n",
       " 16649.245099007203,\n",
       " 16648.495109565116,\n",
       " 16648.338472594598,\n",
       " 16646.857242685517,\n",
       " 16645.646235832068,\n",
       " 16643.70324890529,\n",
       " 16643.170826661804,\n",
       " 16642.212990281285,\n",
       " 16641.927880653817,\n",
       " 16641.599529447438,\n",
       " 16640.937665211608,\n",
       " 16640.652178866632,\n",
       " 16639.588287036888,\n",
       " 16639.445797138982,\n",
       " 16637.79020155919,\n",
       " 16635.85202148147,\n",
       " 16635.370280146155,\n",
       " 16635.202318379645,\n",
       " 16633.81055227195,\n",
       " 16633.399977239074,\n",
       " 16632.11747213965,\n",
       " 16631.486867528507,\n",
       " 16631.366226189315,\n",
       " 16631.26080212863,\n",
       " 16627.053244332175,\n",
       " 16621.28508200839,\n",
       " 16620.216093478717,\n",
       " 16619.8458952521,\n",
       " 16618.122089226847,\n",
       " 16617.598342218433,\n",
       " 16616.70402109918,\n",
       " 16615.800558094164,\n",
       " 16614.598803852354,\n",
       " 16614.57615775405,\n",
       " 16614.44472102047,\n",
       " 16614.03013635896,\n",
       " 16613.97150497778,\n",
       " 16613.15914481668,\n",
       " 16612.69957413673,\n",
       " 16610.925817288768,\n",
       " 16610.856792077946,\n",
       " 16610.590313302262,\n",
       " 16610.422273931832,\n",
       " 16610.267149519394,\n",
       " 16608.33620907272,\n",
       " 16608.297603020288,\n",
       " 16603.536034125118,\n",
       " 16602.90893654979,\n",
       " 16601.329907502324,\n",
       " 16601.297905083,\n",
       " 16601.286808430017,\n",
       " 16601.067095354392,\n",
       " 16600.340960517486,\n",
       " 16599.61564145498,\n",
       " 16599.17725086445,\n",
       " 16598.107984439255,\n",
       " 16595.848435715063,\n",
       " 16595.369051412472,\n",
       " 16595.105783985044,\n",
       " 16594.952996175383,\n",
       " 16594.892326571815,\n",
       " 16594.67767245694,\n",
       " 16593.660848725136,\n",
       " 16591.942998655322,\n",
       " 16589.64725052039,\n",
       " 16589.54915800713,\n",
       " 16588.648699541503,\n",
       " 16587.474684690435,\n",
       " 16587.17896507618,\n",
       " 16586.605481811443,\n",
       " 16586.414482683424,\n",
       " 16584.978647457097,\n",
       " 16583.38762031427,\n",
       " 16581.74070574668,\n",
       " 16579.770068503687,\n",
       " 16579.375133330428,\n",
       " 16579.306840256315,\n",
       " 16577.820913546,\n",
       " 16577.356875523827,\n",
       " 16576.868690569703,\n",
       " 16575.793531053256,\n",
       " 16575.506796957856,\n",
       " 16575.474073874466,\n",
       " 16574.14315907515,\n",
       " 16573.703343523546,\n",
       " 16572.630543567906,\n",
       " 16572.152211946322,\n",
       " 16571.036268495118,\n",
       " 16570.987399188558,\n",
       " 16570.039523300333,\n",
       " 16570.00271873796,\n",
       " 16569.646037574825,\n",
       " 16568.511135912955,\n",
       " 16566.946757255853,\n",
       " 16566.69714214421,\n",
       " 16566.661924885993,\n",
       " 16566.61721811551,\n",
       " 16565.79888485835,\n",
       " 16564.531968513827,\n",
       " 16563.389318623806,\n",
       " 16562.821530325116,\n",
       " 16562.682509755163,\n",
       " 16560.105929307607,\n",
       " 16559.5847211115,\n",
       " 16559.076469370466,\n",
       " 16558.68608633668,\n",
       " 16557.959895000426,\n",
       " 16557.030714341963,\n",
       " 16555.67006064644,\n",
       " 16555.364052691057,\n",
       " 16553.42697634341,\n",
       " 16551.574196456353,\n",
       " 16549.534298492832,\n",
       " 16548.261943467223,\n",
       " 16548.18787383594,\n",
       " 16547.672137346668,\n",
       " 16547.264897834702,\n",
       " 16546.380129716472,\n",
       " 16544.279165338958,\n",
       " 16543.44634680529,\n",
       " 16542.636215050432,\n",
       " 16541.894800836762,\n",
       " 16541.617677349317,\n",
       " 16540.80507090874,\n",
       " 16540.577089546074,\n",
       " 16540.010965816335,\n",
       " 16539.77866380042,\n",
       " 16539.57872486983,\n",
       " 16539.44478304936,\n",
       " 16538.563093985445,\n",
       " 16538.21989072782,\n",
       " 16537.878352106025,\n",
       " 16537.52640062539,\n",
       " 16536.71904498954,\n",
       " 16535.004171926295,\n",
       " 16533.924336674132,\n",
       " 16532.66182103433,\n",
       " 16531.62876290899,\n",
       " 16530.15970104802,\n",
       " 16529.31368206468,\n",
       " 16529.047440628765,\n",
       " 16528.71004254254,\n",
       " 16526.957457626955,\n",
       " 16526.742120547988,\n",
       " 16526.18197956574,\n",
       " 16524.881320733202,\n",
       " 16523.988762611058,\n",
       " 16523.70363160496,\n",
       " 16522.558916178135,\n",
       " 16522.501875445876,\n",
       " 16520.341166839728,\n",
       " 16518.179526385687,\n",
       " 16517.600602708295,\n",
       " 16517.368238235093,\n",
       " 16517.168846056084,\n",
       " 16516.23355743704,\n",
       " 16514.886369661694,\n",
       " 16514.16669938112,\n",
       " 16511.800801676534,\n",
       " 16508.06318913132,\n",
       " 16507.886213488655,\n",
       " 16505.241912252208,\n",
       " 16505.050143235243,\n",
       " 16504.42376420234,\n",
       " 16503.88411742714,\n",
       " 16503.48715070697,\n",
       " 16503.272586007206,\n",
       " 16502.93446826364,\n",
       " 16502.397296648604,\n",
       " 16501.937593195355,\n",
       " 16501.307017805455,\n",
       " 16501.142832048758,\n",
       " 16500.872224360806,\n",
       " 16499.137052017257,\n",
       " 16498.83721532205,\n",
       " 16498.81860617577,\n",
       " 16498.037668561996,\n",
       " 16497.239289012537,\n",
       " 16496.51605130866,\n",
       " 16496.23027379692,\n",
       " 16495.996859220904,\n",
       " 16495.806333315802,\n",
       " 16495.575556943484,\n",
       " 16494.094287550815,\n",
       " 16493.162283706777,\n",
       " 16493.004383607484,\n",
       " 16492.778387280883,\n",
       " 16492.713855410286,\n",
       " 16492.286084857795,\n",
       " 16491.89748540161,\n",
       " 16491.53122617151,\n",
       " 16489.973043721464,\n",
       " 16489.6082130017,\n",
       " 16488.681724921356,\n",
       " 16487.938654851067,\n",
       " 16487.29079515252,\n",
       " 16486.478379743556,\n",
       " 16485.92043690565,\n",
       " 16485.47953134183,\n",
       " 16485.47376686461,\n",
       " 16485.256674362132,\n",
       " 16483.307473628134,\n",
       " 16482.44935741923,\n",
       " 16481.201048314062,\n",
       " 16480.872717391798,\n",
       " 16480.182592973157,\n",
       " 16479.51810447682,\n",
       " 16478.806406013067,\n",
       " 16478.501128163403,\n",
       " 16478.3337270062,\n",
       " 16477.956702250533,\n",
       " 16476.080530639498,\n",
       " 16475.853569294723,\n",
       " 16475.15497777375,\n",
       " 16471.547747983688,\n",
       " 16470.951610565084,\n",
       " 16470.60716035878,\n",
       " 16468.907913546438,\n",
       " 16468.487777403094,\n",
       " 16467.670752689122,\n",
       " 16467.660384622683,\n",
       " 16466.86454469222,\n",
       " 16466.644041643227,\n",
       " 16466.541020100794,\n",
       " 16465.21747765427,\n",
       " 16464.63987867774,\n",
       " 16464.457987800783,\n",
       " 16464.427238931166,\n",
       " 16464.21250874948,\n",
       " 16463.65357944307,\n",
       " 16462.786825591313,\n",
       " 16461.656577825324,\n",
       " 16461.4209160465,\n",
       " 16460.489901762354,\n",
       " 16458.44808839452,\n",
       " 16458.10319345876,\n",
       " 16458.01208234738,\n",
       " 16457.948661288487,\n",
       " 16456.2227021454,\n",
       " 16456.219944340795,\n",
       " 16455.759863019804,\n",
       " 16455.313992304367,\n",
       " 16455.28472312995,\n",
       " 16455.145034181613,\n",
       " 16453.405531842523,\n",
       " 16452.032534059148,\n",
       " 16451.853608206948,\n",
       " 16450.037565860534,\n",
       " 16449.858041698928,\n",
       " 16448.165759187767,\n",
       " 16446.97325312524,\n",
       " 16445.097174378836,\n",
       " 16444.051164958626,\n",
       " 16441.663813275078,\n",
       " 16440.80414404872,\n",
       " 16440.617645442435,\n",
       " 16440.216977620537,\n",
       " 16439.57921796765,\n",
       " 16436.523052505505,\n",
       " 16435.566270113293,\n",
       " 16435.001572577956,\n",
       " 16433.61007974564,\n",
       " 16432.663166631588,\n",
       " 16432.610150788034,\n",
       " 16432.55594591381,\n",
       " 16432.171600579,\n",
       " 16431.802702878664,\n",
       " 16430.338772348226,\n",
       " 16427.610184822788,\n",
       " 16426.380295203082,\n",
       " 16426.19434626683,\n",
       " 16425.963543807364,\n",
       " 16425.605293499957,\n",
       " 16424.757112943007,\n",
       " 16424.117560573864,\n",
       " 16423.538194502085,\n",
       " 16423.516940966016,\n",
       " 16422.752439866563,\n",
       " 16421.183369186445,\n",
       " 16420.88933502418,\n",
       " 16420.246295634177,\n",
       " 16418.942547353956,\n",
       " 16417.33458474244,\n",
       " 16416.273055531914,\n",
       " 16415.201708213423,\n",
       " 16413.39408944552,\n",
       " 16411.676740297993,\n",
       " 16410.799686177856,\n",
       " 16410.525140571033,\n",
       " 16409.66360299601,\n",
       " 16409.507036176623,\n",
       " 16409.38714490069,\n",
       " 16409.320659592104,\n",
       " 16408.332191345417,\n",
       " 16407.080599266923,\n",
       " 16406.13781288126,\n",
       " 16405.226116456706,\n",
       " 16404.646663444913,\n",
       " 16403.88201015762,\n",
       " 16402.13487339379,\n",
       " 16402.056482551045,\n",
       " 16401.93235838738,\n",
       " 16401.3214765861,\n",
       " 16400.8315691471,\n",
       " 16397.830882217666,\n",
       " 16396.094452121553,\n",
       " 16393.839354176303,\n",
       " 16392.89650528033,\n",
       " 16391.83685501664,\n",
       " 16391.2401941717,\n",
       " 16390.86523353004,\n",
       " 16390.4250347126,\n",
       " 16389.065740204558,\n",
       " 16388.81252235908,\n",
       " 16387.43254107475,\n",
       " 16386.69509498979,\n",
       " 16385.280044823234,\n",
       " 16382.873665922058,\n",
       " 16381.646510022096,\n",
       " 16381.609271857415,\n",
       " 16381.445524661789,\n",
       " 16377.727112411021,\n",
       " 16377.61254162511,\n",
       " 16376.536720662845,\n",
       " 16376.520214084938,\n",
       " 16375.653486049481,\n",
       " 16373.451647505075,\n",
       " 16372.332717371566,\n",
       " 16370.885029668321,\n",
       " 16369.973128333115,\n",
       " 16369.288280220777,\n",
       " 16368.723640657556,\n",
       " 16368.063285441132,\n",
       " 16365.633331427838,\n",
       " 16365.074507850273,\n",
       " 16364.75588066046,\n",
       " 16364.348137739602,\n",
       " 16362.430268526165,\n",
       " 16361.710657559188,\n",
       " 16360.374549964303,\n",
       " 16359.908880397037,\n",
       " 16359.650505442978,\n",
       " 16357.698983738383,\n",
       " 16356.1995676225,\n",
       " 16354.613264561222,\n",
       " 16353.473496394481,\n",
       " 16351.740181870757,\n",
       " 16350.555966087644,\n",
       " 16349.507598353875,\n",
       " 16349.450648490389,\n",
       " 16349.312529786299,\n",
       " 16346.988683506488,\n",
       " 16346.695562738498,\n",
       " 16346.173494275625,\n",
       " 16345.260206843399,\n",
       " 16344.899380312956,\n",
       " 16344.383830785928,\n",
       " 16344.291957007348,\n",
       " 16343.326677328138,\n",
       " 16343.183506862975,\n",
       " 16342.39097105294,\n",
       " 16341.27325701496,\n",
       " 16340.464452459004,\n",
       " 16340.438483515696,\n",
       " 16339.6671977782,\n",
       " 16337.820149998399,\n",
       " 16335.843730752573,\n",
       " 16334.583861782638,\n",
       " 16333.82124281613,\n",
       " 16332.058608490472,\n",
       " 16331.759695643008,\n",
       " 16331.71975071891,\n",
       " 16331.180640983956,\n",
       " 16330.87342482044,\n",
       " 16330.364608623187,\n",
       " 16330.22584020452,\n",
       " 16326.717024557254,\n",
       " 16325.476913694372,\n",
       " 16324.762383708481,\n",
       " 16323.191108631072,\n",
       " 16322.174686283717,\n",
       " 16319.415815123351,\n",
       " 16318.905465768576,\n",
       " 16317.308358094371,\n",
       " 16317.059946503636,\n",
       " 16315.906601905954,\n",
       " 16314.956743710702,\n",
       " 16311.893164195768,\n",
       " 16310.703465804225,\n",
       " 16308.689127662854,\n",
       " 16308.224681115511,\n",
       " 16308.118984832507,\n",
       " 16307.590324290113,\n",
       " 16307.461280272755,\n",
       " 16306.993510928167,\n",
       " 16305.775546965284,\n",
       " 16304.511302706125,\n",
       " 16303.21958942974,\n",
       " 16303.210030604614,\n",
       " 16300.784662412705,\n",
       " 16300.65387243354,\n",
       " 16300.10474909818,\n",
       " 16299.291438771455,\n",
       " 16298.420433775571,\n",
       " 16297.890376935888,\n",
       " 16296.972398744909,\n",
       " 16296.534096771515,\n",
       " 16296.217947115003,\n",
       " 16295.586975003904,\n",
       " 16293.995289467457,\n",
       " 16293.938629067428,\n",
       " 16293.477717743814,\n",
       " 16293.343830490596,\n",
       " 16292.209386673838,\n",
       " 16292.183792247908,\n",
       " 16292.093470240703,\n",
       " 16291.679487480238,\n",
       " 16289.915556693568,\n",
       " 16289.439907103733,\n",
       " 16289.034273569387,\n",
       " 16288.4030838243,\n",
       " 16287.734623553428,\n",
       " 16286.618819711888,\n",
       " 16285.285576075476,\n",
       " 16285.094592918706,\n",
       " 16282.74376131704,\n",
       " 16282.297079926038,\n",
       " 16282.044542954389,\n",
       " 16281.477668929183,\n",
       " 16281.062458431237,\n",
       " 16280.829332160296,\n",
       " 16280.502364380489,\n",
       " 16280.313671797356,\n",
       " 16275.96758515112,\n",
       " 16273.957730148757,\n",
       " 16273.194958636888,\n",
       " 16272.410182605809,\n",
       " 16272.364034539298,\n",
       " 16271.730597883272,\n",
       " 16270.731294849596,\n",
       " 16270.166314912363,\n",
       " 16268.532389411354,\n",
       " 16267.153121528207,\n",
       " 16267.03012987623,\n",
       " 16266.793700143933,\n",
       " 16266.59500446731,\n",
       " 16266.462743143666,\n",
       " 16261.893164354553,\n",
       " 16261.828946783897,\n",
       " 16260.338760338134,\n",
       " 16260.133563986832,\n",
       " 16259.958869734104,\n",
       " 16259.449023508134,\n",
       " 16258.99356347443,\n",
       " 16257.08369276591,\n",
       " 16256.69139133128,\n",
       " 16256.441660515733,\n",
       " 16255.198554401417,\n",
       " 16254.04886779561,\n",
       " 16253.351422568498,\n",
       " 16252.496486938855,\n",
       " 16252.489000605638,\n",
       " 16251.764686475251,\n",
       " 16251.219431745325,\n",
       " 16251.1865165934,\n",
       " 16249.126642989875,\n",
       " 16248.466533639024,\n",
       " 16247.986160793307,\n",
       " 16246.504702788001,\n",
       " 16245.193895503942,\n",
       " 16240.904028688454,\n",
       " 16238.944735639763,\n",
       " 16238.923044427633,\n",
       " 16238.89939610753,\n",
       " 16238.6586716963,\n",
       " 16235.760210818788,\n",
       " 16235.6773625349,\n",
       " 16233.217584645483,\n",
       " 16233.137314883455,\n",
       " 16232.793427046681,\n",
       " 16232.587050873086,\n",
       " 16232.2942005714,\n",
       " 16231.555837217073,\n",
       " 16231.382301862774,\n",
       " 16231.2831607939,\n",
       " 16230.670861439989,\n",
       " 16230.497896664245,\n",
       " 16227.537385797461,\n",
       " 16226.95579378239,\n",
       " 16226.578424374107,\n",
       " 16225.421456836893,\n",
       " 16224.881982376979,\n",
       " 16223.310834905767,\n",
       " 16223.267033932592,\n",
       " 16222.362757732024,\n",
       " 16222.200258570467,\n",
       " 16222.025005435598,\n",
       " 16221.61233866092,\n",
       " 16221.53350756828,\n",
       " 16221.12787495074,\n",
       " 16221.06515646881,\n",
       " 16219.098767879215,\n",
       " 16217.105179877226,\n",
       " 16215.280205003268,\n",
       " 16214.876101439326,\n",
       " 16214.18490109694,\n",
       " 16212.943928680352,\n",
       " 16212.832955410298,\n",
       " 16210.908149328636,\n",
       " 16210.903906589221,\n",
       " 16210.472756022233,\n",
       " 16209.65618533929,\n",
       " 16208.832407234991,\n",
       " 16207.703737985621,\n",
       " 16206.016298158096,\n",
       " 16205.973080318405,\n",
       " 16205.203990685908,\n",
       " 16204.655026521634,\n",
       " 16202.717499965083,\n",
       " 16201.891249494534,\n",
       " 16199.327251775612,\n",
       " 16199.229843188137,\n",
       " 16197.276426494951,\n",
       " 16196.508251439549,\n",
       " 16195.232129643873,\n",
       " 16194.200396743972,\n",
       " 16191.92958474152,\n",
       " 16189.122130711432,\n",
       " 16186.866152351706,\n",
       " 16185.944936955157,\n",
       " 16185.053135278724,\n",
       " 16184.336503889395,\n",
       " 16183.707298385756,\n",
       " 16183.64422553871,\n",
       " 16183.047845228184,\n",
       " 16181.97364401191,\n",
       " 16177.49373459364,\n",
       " 16176.164043852461,\n",
       " 16176.021282196205,\n",
       " 16175.777979101607,\n",
       " 16175.433179307096,\n",
       " 16175.157102715688,\n",
       " 16174.8091264479,\n",
       " 16174.623128858168,\n",
       " 16172.74254369628,\n",
       " 16171.204821313142,\n",
       " 16168.430753703571,\n",
       " 16167.467626461803,\n",
       " 16165.710667693902,\n",
       " 16165.506163351041,\n",
       " 16165.339371898988,\n",
       " 16165.059772751518,\n",
       " 16164.222573534118,\n",
       " 16162.657458707594,\n",
       " 16160.385106789754,\n",
       " 16160.0976428897,\n",
       " 16159.921395191304,\n",
       " 16159.424383229014,\n",
       " 16157.784354542086,\n",
       " 16155.416622178158,\n",
       " 16154.985537101296,\n",
       " 16154.948342616526,\n",
       " 16153.427289543972,\n",
       " 16152.782221821652,\n",
       " 16152.125894955878,\n",
       " 16151.859060632085,\n",
       " 16150.705283837107,\n",
       " 16149.369318261639,\n",
       " 16147.391530672177,\n",
       " 16147.173569253158,\n",
       " 16146.874391344654,\n",
       " 16145.976854206327,\n",
       " 16144.913551557724,\n",
       " 16142.505632917399,\n",
       " 16142.0678551839,\n",
       " 16142.059925457737,\n",
       " 16142.010733720299,\n",
       " 16139.743320130277,\n",
       " 16139.521971476888,\n",
       " 16137.283520533529,\n",
       " 16135.617035998863,\n",
       " 16135.408474916729,\n",
       " 16135.280678612042,\n",
       " 16134.703513005717,\n",
       " 16133.896943258396,\n",
       " 16132.212933752831,\n",
       " 16129.567928498245,\n",
       " 16128.229004313245,\n",
       " 16127.81217595264,\n",
       " 16127.536006415196,\n",
       " 16126.723880555945,\n",
       " 16124.720748241247,\n",
       " 16121.535479808685,\n",
       " 16120.567029800151,\n",
       " 16119.204171303738,\n",
       " 16118.758768202648,\n",
       " 16117.72891595286,\n",
       " 16116.321512708164,\n",
       " 16115.763812171788,\n",
       " 16114.954966003634,\n",
       " 16113.65716756187,\n",
       " 16113.441136271438,\n",
       " 16113.315481281837,\n",
       " 16113.163635606752,\n",
       " 16110.56966283871,\n",
       " 16109.835161445308,\n",
       " 16107.825035563867,\n",
       " 16106.76522301222,\n",
       " 16106.56695345374,\n",
       " 16104.4232919965,\n",
       " 16104.071419909285,\n",
       " 16100.555090486067,\n",
       " 16100.2401906061,\n",
       " 16099.659058205982,\n",
       " 16099.569367360973,\n",
       " 16099.56239197555,\n",
       " 16099.461898763024,\n",
       " 16099.345093061309,\n",
       " 16098.282656841815,\n",
       " 16097.118797335266,\n",
       " 16096.623949538996,\n",
       " 16096.44551829976,\n",
       " 16096.29755361335,\n",
       " 16096.287303889745,\n",
       " 16094.453274638507,\n",
       " 16094.15312954903,\n",
       " 16093.946022001202,\n",
       " 16092.393260876159,\n",
       " 16091.004057019032,\n",
       " 16090.989168963302,\n",
       " 16090.184243430585,\n",
       " 16089.8085133384,\n",
       " 16089.215360828915,\n",
       " 16088.318108812122,\n",
       " 16087.53667665479,\n",
       " 16087.199879978798,\n",
       " 16083.129728240136,\n",
       " 16082.69405080933,\n",
       " 16081.632946528645,\n",
       " 16079.783770164417,\n",
       " 16079.413371706889,\n",
       " 16079.26494184624,\n",
       " 16077.2328066879,\n",
       " 16077.063167919505,\n",
       " 16073.743854738486,\n",
       " 16072.97927821686,\n",
       " 16072.55630487445,\n",
       " 16070.298542959672,\n",
       " 16069.334368128139,\n",
       " 16068.510019192923,\n",
       " 16066.793380013603,\n",
       " 16065.855585323203,\n",
       " 16064.68350352958,\n",
       " 16064.258970329169,\n",
       " 16061.678771435347,\n",
       " 16060.696646647988,\n",
       " 16059.502376224043,\n",
       " 16057.358035003499,\n",
       " 16056.955287811768,\n",
       " 16055.686212790359,\n",
       " 16055.212312456888,\n",
       " 16054.933596338517,\n",
       " 16054.387906137783,\n",
       " 16054.360064624174,\n",
       " 16052.802653154358,\n",
       " 16051.620373114094,\n",
       " 16051.440997040345,\n",
       " 16050.22471787656,\n",
       " 16049.714253478662,\n",
       " 16047.845929700079,\n",
       " 16047.256057116705,\n",
       " 16046.429809902278,\n",
       " 16045.01951459983,\n",
       " 16044.553846132041,\n",
       " 16044.542125986502,\n",
       " 16043.587273707,\n",
       " 16042.968566811289,\n",
       " 16041.568315745339,\n",
       " 16041.47921787582,\n",
       " 16041.309549459045,\n",
       " 16040.441750925049,\n",
       " 16039.236320923721,\n",
       " 16039.01709823153,\n",
       " 16035.713700317,\n",
       " 16035.339508304021,\n",
       " 16034.784778201165,\n",
       " 16033.882314971948,\n",
       " 16031.702206681759,\n",
       " 16031.408244012558,\n",
       " 16030.592902338884,\n",
       " 16030.575668010084,\n",
       " 16030.551924660109,\n",
       " 16030.438360563194,\n",
       " 16029.59520738197,\n",
       " 16025.891109123375,\n",
       " 16024.850419599306,\n",
       " 16024.75553645902,\n",
       " 16024.28731109345,\n",
       " 16023.746734998778,\n",
       " 16023.689413349157,\n",
       " 16023.576759741023,\n",
       " 16022.203086108106,\n",
       " 16021.888546887594,\n",
       " 16021.839710567054,\n",
       " 16021.701831014709,\n",
       " 16021.357276620794,\n",
       " 16020.155964141042,\n",
       " 16019.753693745259,\n",
       " 16017.753417019178,\n",
       " 16017.332772211572,\n",
       " 16017.039072269232,\n",
       " 16015.128695609454,\n",
       " 16014.242315218056,\n",
       " 16013.852930520983,\n",
       " 16011.819353839921,\n",
       " 16011.440168773255,\n",
       " 16009.534314388175,\n",
       " 16009.340101756281,\n",
       " 16008.48403189482,\n",
       " 16008.318715026277,\n",
       " 16005.84063738019,\n",
       " 16004.82583429254,\n",
       " 16004.022826908158,\n",
       " 16002.185022378872,\n",
       " 16001.995601870745,\n",
       " 16000.496192192231,\n",
       " 15998.93570412665,\n",
       " 15998.67891155567,\n",
       " 15997.2312360141,\n",
       " 15997.087037401305,\n",
       " 15996.8542572812,\n",
       " 15996.829338690864,\n",
       " 15994.0827350239,\n",
       " 15993.858631029521,\n",
       " 15993.010180166033,\n",
       " 15992.24453385306,\n",
       " 15990.612128602688,\n",
       " 15990.507138463747,\n",
       " 15990.047475219157,\n",
       " 15987.767421356866,\n",
       " 15986.032550400718,\n",
       " 15985.688775011979,\n",
       " 15985.264662536878,\n",
       " 15983.202869179653,\n",
       " 15981.406560696798,\n",
       " 15981.321324925977,\n",
       " 15980.937728003764,\n",
       " 15980.880505523433,\n",
       " 15980.591044881652,\n",
       " 15979.36647034577,\n",
       " 15979.023404693342,\n",
       " 15978.708146011015,\n",
       " 15978.665597362005,\n",
       " 15977.916980378397,\n",
       " 15977.266023011098,\n",
       " 15976.941810919821,\n",
       " 15974.258133336836,\n",
       " 15973.548084788425,\n",
       " 15972.78020749472,\n",
       " 15972.610533434707,\n",
       " 15970.917187127729,\n",
       " 15970.83594067984,\n",
       " 15970.229984308166,\n",
       " 15968.601842475031,\n",
       " 15967.347896749414,\n",
       " 15966.869600472304,\n",
       " 15964.958522096807,\n",
       " 15963.373648050889,\n",
       " 15962.771081111276,\n",
       " 15961.827962413838,\n",
       " 15961.647988552211,\n",
       " 15960.212924615844,\n",
       " 15957.528516927856,\n",
       " 15957.323178726472,\n",
       " 15957.091663990299,\n",
       " 15956.997160589495,\n",
       " 15952.244719460476,\n",
       " 15951.670373390732,\n",
       " 15951.18245415164,\n",
       " 15951.084864913797,\n",
       " 15949.646095921154,\n",
       " 15948.69231436219,\n",
       " 15948.616863194622,\n",
       " 15947.1191277075,\n",
       " 15946.810311348388,\n",
       " 15945.448461103939,\n",
       " 15945.143508846739,\n",
       " 15940.111505006776,\n",
       " 15939.66083761228,\n",
       " 15938.221709382355,\n",
       " 15934.306281318675,\n",
       " 15934.250295386279,\n",
       " 15933.55692143643,\n",
       " 15933.059136341622,\n",
       " 15932.94516186515,\n",
       " 15932.046565899474,\n",
       " 15932.038401635977,\n",
       " 15931.983173785222,\n",
       " 15930.800937843633,\n",
       " 15930.257497233486,\n",
       " 15928.698301778304,\n",
       " 15928.043926410146,\n",
       " 15925.148432412907,\n",
       " 15924.54704398219,\n",
       " 15922.786978803511,\n",
       " 15920.672305102305,\n",
       " 15920.654914673372,\n",
       " 15920.074355245526,\n",
       " 15918.587857817321,\n",
       " 15917.936103556116,\n",
       " 15914.978660465196,\n",
       " 15912.600766563395,\n",
       " 15912.25643436699,\n",
       " 15910.717077300847,\n",
       " 15908.338976653278,\n",
       " 15907.991581784156,\n",
       " 15907.111457243727,\n",
       " 15905.797548423065,\n",
       " 15904.1536562533,\n",
       " 15903.837700251896,\n",
       " 15902.976083092939,\n",
       " 15901.981429558065,\n",
       " 15901.510680807995,\n",
       " 15900.771735466069,\n",
       " 15900.419823373655,\n",
       " 15900.088050753155,\n",
       " 15899.936235560695,\n",
       " 15899.807467914616,\n",
       " 15899.742873383146,\n",
       " 15899.29680594836,\n",
       " 15896.25379060329,\n",
       " 15894.388114864138,\n",
       " 15893.78701668128,\n",
       " 15893.74610112077,\n",
       " 15892.93448401257,\n",
       " 15891.265975235867,\n",
       " 15890.319962424323,\n",
       " 15890.250502837456,\n",
       " 15889.893527483006,\n",
       " 15888.706424733055,\n",
       " 15887.769094150326,\n",
       " 15886.121576701136,\n",
       " 15886.07419062835,\n",
       " 15883.606008043336,\n",
       " 15883.288278579364,\n",
       " 15879.796085990389,\n",
       " 15878.79666747884,\n",
       " 15877.391221304608,\n",
       " 15876.215565747747,\n",
       " 15875.408104243907,\n",
       " 15873.483400106605,\n",
       " 15872.743805243046,\n",
       " 15872.06708859827,\n",
       " 15871.762723095626,\n",
       " 15871.549804029148,\n",
       " 15871.202488189238,\n",
       " 15870.95381678323,\n",
       " 15870.804370115826,\n",
       " 15870.575566165599,\n",
       " 15869.590533898066,\n",
       " 15869.348202990039,\n",
       " 15869.285260757651,\n",
       " 15868.699620127276,\n",
       " 15868.149324048607,\n",
       " 15867.630667156385,\n",
       " 15866.56638229887,\n",
       " 15865.170009125106,\n",
       " 15864.460060314106,\n",
       " 15863.824414957955,\n",
       " 15863.736878050187,\n",
       " 15862.846397321488,\n",
       " 15862.438907819016,\n",
       " 15862.217855442092,\n",
       " 15862.117662316123,\n",
       " 15861.337681015297,\n",
       " 15859.515805408011,\n",
       " 15858.824510486675,\n",
       " 15858.456356171706,\n",
       " 15858.412020173533,\n",
       " 15858.209885491337,\n",
       " 15857.733237267455,\n",
       " 15856.485411465159,\n",
       " 15856.050006042287,\n",
       " 15855.831647219638,\n",
       " 15855.52259110443,\n",
       " 15854.410567230263,\n",
       " 15854.347182808293,\n",
       " 15853.04611640861,\n",
       " 15851.5896484413,\n",
       " 15850.86820262659,\n",
       " 15850.321823526849,\n",
       " 15849.913391089036,\n",
       " 15845.062425528284,\n",
       " 15843.3555755215,\n",
       " 15843.007396324205,\n",
       " 15842.921705049208,\n",
       " 15841.419993374599,\n",
       " 15840.971699411939,\n",
       " 15839.599460256773,\n",
       " 15832.746898688005,\n",
       " 15832.38540400693,\n",
       " 15831.92057209521,\n",
       " 15831.619166879087,\n",
       " 15830.938001409684,\n",
       " ...]"
      ]
     },
     "execution_count": 284,
     "metadata": {},
     "output_type": "execute_result"
    }
   ],
   "source": [
    "# проверка сверху\n",
    "sorted(data['days_employed'].unique(), reverse=True)"
   ]
  },
  {
   "cell_type": "markdown",
   "metadata": {},
   "source": [
    "#### Конверсия в дни из часов удалась.\n",
    "Но что такое 16739 дней?"
   ]
  },
  {
   "cell_type": "code",
   "execution_count": 285,
   "metadata": {},
   "outputs": [
    {
     "name": "stdout",
     "output_type": "stream",
     "text": [
      "16739 дней это 46 лет\n"
     ]
    }
   ],
   "source": [
    "print('16739 дней это', round(16739/365), \"лет\" )"
   ]
  },
  {
   "cell_type": "markdown",
   "metadata": {},
   "source": [
    "46 лет трудового стажа - серьёзная цифра.\n",
    "Перед выходом на пенсию, у меня такой будет.\n",
    "Думаю, стоит проверить, нет ли ошибок здесь.\n",
    "\n",
    "Если разница между возрастом и стажем меньше, чем 18 лет, стоит внимательно посмотреть на такие строки.\n",
    "\n",
    "НО перед этим обращаю внимание на то, что в колонке со стажем есть пропуски.\n",
    "Надо с ними поработать и заменить на значение \"0\". Ведь если нет данных по стажу, значит трудового стажа просто нет.\n",
    "Или есть, но он не указан?\n"
   ]
  },
  {
   "cell_type": "markdown",
   "metadata": {},
   "source": [
    "#### Выведу все строки с пропущенным значением стажа."
   ]
  },
  {
   "cell_type": "code",
   "execution_count": 286,
   "metadata": {},
   "outputs": [
    {
     "data": {
      "text/html": [
       "<div>\n",
       "<style scoped>\n",
       "    .dataframe tbody tr th:only-of-type {\n",
       "        vertical-align: middle;\n",
       "    }\n",
       "\n",
       "    .dataframe tbody tr th {\n",
       "        vertical-align: top;\n",
       "    }\n",
       "\n",
       "    .dataframe thead th {\n",
       "        text-align: right;\n",
       "    }\n",
       "</style>\n",
       "<table border=\"1\" class=\"dataframe\">\n",
       "  <thead>\n",
       "    <tr style=\"text-align: right;\">\n",
       "      <th></th>\n",
       "      <th>children</th>\n",
       "      <th>days_employed</th>\n",
       "      <th>dob_years</th>\n",
       "      <th>education</th>\n",
       "      <th>education_id</th>\n",
       "      <th>family_status</th>\n",
       "      <th>family_status_id</th>\n",
       "      <th>gender</th>\n",
       "      <th>income_type</th>\n",
       "      <th>debt</th>\n",
       "      <th>total_income</th>\n",
       "      <th>purpose</th>\n",
       "    </tr>\n",
       "  </thead>\n",
       "  <tbody>\n",
       "    <tr>\n",
       "      <th>17437</th>\n",
       "      <td>1</td>\n",
       "      <td>1.01</td>\n",
       "      <td>31</td>\n",
       "      <td>среднее</td>\n",
       "      <td>1</td>\n",
       "      <td>женат / замужем</td>\n",
       "      <td>0</td>\n",
       "      <td>F</td>\n",
       "      <td>сотрудник</td>\n",
       "      <td>1</td>\n",
       "      <td>166,952.42</td>\n",
       "      <td>высшее образование</td>\n",
       "    </tr>\n",
       "    <tr>\n",
       "      <th>8336</th>\n",
       "      <td>0</td>\n",
       "      <td>1.01</td>\n",
       "      <td>32</td>\n",
       "      <td>высшее</td>\n",
       "      <td>0</td>\n",
       "      <td>Не женат / не замужем</td>\n",
       "      <td>4</td>\n",
       "      <td>M</td>\n",
       "      <td>сотрудник</td>\n",
       "      <td>0</td>\n",
       "      <td>124,115.37</td>\n",
       "      <td>получение дополнительного образования</td>\n",
       "    </tr>\n",
       "    <tr>\n",
       "      <th>6157</th>\n",
       "      <td>2</td>\n",
       "      <td>1.26</td>\n",
       "      <td>47</td>\n",
       "      <td>среднее</td>\n",
       "      <td>1</td>\n",
       "      <td>гражданский брак</td>\n",
       "      <td>1</td>\n",
       "      <td>M</td>\n",
       "      <td>компаньон</td>\n",
       "      <td>0</td>\n",
       "      <td>231,461.19</td>\n",
       "      <td>свадьба</td>\n",
       "    </tr>\n",
       "    <tr>\n",
       "      <th>9683</th>\n",
       "      <td>0</td>\n",
       "      <td>1.40</td>\n",
       "      <td>43</td>\n",
       "      <td>среднее</td>\n",
       "      <td>1</td>\n",
       "      <td>Не женат / не замужем</td>\n",
       "      <td>4</td>\n",
       "      <td>M</td>\n",
       "      <td>сотрудник</td>\n",
       "      <td>1</td>\n",
       "      <td>128,555.90</td>\n",
       "      <td>приобретение автомобиля</td>\n",
       "    </tr>\n",
       "    <tr>\n",
       "      <th>2127</th>\n",
       "      <td>1</td>\n",
       "      <td>1.45</td>\n",
       "      <td>31</td>\n",
       "      <td>высшее</td>\n",
       "      <td>0</td>\n",
       "      <td>женат / замужем</td>\n",
       "      <td>0</td>\n",
       "      <td>F</td>\n",
       "      <td>компаньон</td>\n",
       "      <td>0</td>\n",
       "      <td>90,557.99</td>\n",
       "      <td>получение образования</td>\n",
       "    </tr>\n",
       "    <tr>\n",
       "      <th>...</th>\n",
       "      <td>...</td>\n",
       "      <td>...</td>\n",
       "      <td>...</td>\n",
       "      <td>...</td>\n",
       "      <td>...</td>\n",
       "      <td>...</td>\n",
       "      <td>...</td>\n",
       "      <td>...</td>\n",
       "      <td>...</td>\n",
       "      <td>...</td>\n",
       "      <td>...</td>\n",
       "      <td>...</td>\n",
       "    </tr>\n",
       "    <tr>\n",
       "      <th>21489</th>\n",
       "      <td>2</td>\n",
       "      <td>nan</td>\n",
       "      <td>47</td>\n",
       "      <td>Среднее</td>\n",
       "      <td>1</td>\n",
       "      <td>женат / замужем</td>\n",
       "      <td>0</td>\n",
       "      <td>M</td>\n",
       "      <td>компаньон</td>\n",
       "      <td>0</td>\n",
       "      <td>nan</td>\n",
       "      <td>сделка с автомобилем</td>\n",
       "    </tr>\n",
       "    <tr>\n",
       "      <th>21495</th>\n",
       "      <td>1</td>\n",
       "      <td>nan</td>\n",
       "      <td>50</td>\n",
       "      <td>среднее</td>\n",
       "      <td>1</td>\n",
       "      <td>гражданский брак</td>\n",
       "      <td>1</td>\n",
       "      <td>F</td>\n",
       "      <td>сотрудник</td>\n",
       "      <td>0</td>\n",
       "      <td>nan</td>\n",
       "      <td>свадьба</td>\n",
       "    </tr>\n",
       "    <tr>\n",
       "      <th>21497</th>\n",
       "      <td>0</td>\n",
       "      <td>nan</td>\n",
       "      <td>48</td>\n",
       "      <td>ВЫСШЕЕ</td>\n",
       "      <td>0</td>\n",
       "      <td>женат / замужем</td>\n",
       "      <td>0</td>\n",
       "      <td>F</td>\n",
       "      <td>компаньон</td>\n",
       "      <td>0</td>\n",
       "      <td>nan</td>\n",
       "      <td>строительство недвижимости</td>\n",
       "    </tr>\n",
       "    <tr>\n",
       "      <th>21502</th>\n",
       "      <td>1</td>\n",
       "      <td>nan</td>\n",
       "      <td>42</td>\n",
       "      <td>среднее</td>\n",
       "      <td>1</td>\n",
       "      <td>женат / замужем</td>\n",
       "      <td>0</td>\n",
       "      <td>F</td>\n",
       "      <td>сотрудник</td>\n",
       "      <td>0</td>\n",
       "      <td>nan</td>\n",
       "      <td>строительство жилой недвижимости</td>\n",
       "    </tr>\n",
       "    <tr>\n",
       "      <th>21510</th>\n",
       "      <td>2</td>\n",
       "      <td>nan</td>\n",
       "      <td>28</td>\n",
       "      <td>среднее</td>\n",
       "      <td>1</td>\n",
       "      <td>женат / замужем</td>\n",
       "      <td>0</td>\n",
       "      <td>F</td>\n",
       "      <td>сотрудник</td>\n",
       "      <td>0</td>\n",
       "      <td>nan</td>\n",
       "      <td>приобретение автомобиля</td>\n",
       "    </tr>\n",
       "  </tbody>\n",
       "</table>\n",
       "<p>21525 rows × 12 columns</p>\n",
       "</div>"
      ],
      "text/plain": [
       "       children  days_employed  dob_years education  education_id  \\\n",
       "17437         1           1.01         31   среднее             1   \n",
       "8336          0           1.01         32    высшее             0   \n",
       "6157          2           1.26         47   среднее             1   \n",
       "9683          0           1.40         43   среднее             1   \n",
       "2127          1           1.45         31    высшее             0   \n",
       "...         ...            ...        ...       ...           ...   \n",
       "21489         2            nan         47   Среднее             1   \n",
       "21495         1            nan         50   среднее             1   \n",
       "21497         0            nan         48    ВЫСШЕЕ             0   \n",
       "21502         1            nan         42   среднее             1   \n",
       "21510         2            nan         28   среднее             1   \n",
       "\n",
       "               family_status  family_status_id gender income_type  debt  \\\n",
       "17437        женат / замужем                 0      F   сотрудник     1   \n",
       "8336   Не женат / не замужем                 4      M   сотрудник     0   \n",
       "6157        гражданский брак                 1      M   компаньон     0   \n",
       "9683   Не женат / не замужем                 4      M   сотрудник     1   \n",
       "2127         женат / замужем                 0      F   компаньон     0   \n",
       "...                      ...               ...    ...         ...   ...   \n",
       "21489        женат / замужем                 0      M   компаньон     0   \n",
       "21495       гражданский брак                 1      F   сотрудник     0   \n",
       "21497        женат / замужем                 0      F   компаньон     0   \n",
       "21502        женат / замужем                 0      F   сотрудник     0   \n",
       "21510        женат / замужем                 0      F   сотрудник     0   \n",
       "\n",
       "       total_income                                purpose  \n",
       "17437    166,952.42                     высшее образование  \n",
       "8336     124,115.37  получение дополнительного образования  \n",
       "6157     231,461.19                                свадьба  \n",
       "9683     128,555.90                приобретение автомобиля  \n",
       "2127      90,557.99                  получение образования  \n",
       "...             ...                                    ...  \n",
       "21489           nan                   сделка с автомобилем  \n",
       "21495           nan                                свадьба  \n",
       "21497           nan             строительство недвижимости  \n",
       "21502           nan       строительство жилой недвижимости  \n",
       "21510           nan                приобретение автомобиля  \n",
       "\n",
       "[21525 rows x 12 columns]"
      ]
     },
     "execution_count": 286,
     "metadata": {},
     "output_type": "execute_result"
    }
   ],
   "source": [
    "data.sort_values(by='days_employed')"
   ]
  },
  {
   "cell_type": "markdown",
   "metadata": {},
   "source": [
    "50 лет, среднее образование, женат и **нет стажа?** Не может такого быть.\n",
    "Вывод:\n",
    "данные о стаже в строках со значением Nan говорят о пропусках, а не отстутствии стажа.\n",
    "\n",
    "Сколько таких строк?\n",
    "2174 строки.\n",
    "Это 10% от общего  числа данных.\n",
    "\n",
    "Я пока что не имею опыта в банковской сфере и поэтому спрошу бизнес, заполнить ли эти данные \"0\" или высчитывать медианные значения в корреляции с возрастом (и образованием)."
   ]
  },
  {
   "cell_type": "markdown",
   "metadata": {},
   "source": [
    "#### **посоветовался с бизнесом**\n",
    "решено пропуски данных о стаже работы оставить **\"как есть\"**\n"
   ]
  },
  {
   "cell_type": "markdown",
   "metadata": {},
   "source": [
    "#### Проверка реальности больших сроков трудового стажа.\n",
    "Детство = Возраст - стаж (в годах)"
   ]
  },
  {
   "cell_type": "code",
   "execution_count": 287,
   "metadata": {},
   "outputs": [
    {
     "data": {
      "text/html": [
       "<div>\n",
       "<style scoped>\n",
       "    .dataframe tbody tr th:only-of-type {\n",
       "        vertical-align: middle;\n",
       "    }\n",
       "\n",
       "    .dataframe tbody tr th {\n",
       "        vertical-align: top;\n",
       "    }\n",
       "\n",
       "    .dataframe thead th {\n",
       "        text-align: right;\n",
       "    }\n",
       "</style>\n",
       "<table border=\"1\" class=\"dataframe\">\n",
       "  <thead>\n",
       "    <tr style=\"text-align: right;\">\n",
       "      <th></th>\n",
       "      <th>children</th>\n",
       "      <th>days_employed</th>\n",
       "      <th>dob_years</th>\n",
       "      <th>education</th>\n",
       "      <th>education_id</th>\n",
       "      <th>family_status</th>\n",
       "      <th>family_status_id</th>\n",
       "      <th>gender</th>\n",
       "      <th>income_type</th>\n",
       "      <th>debt</th>\n",
       "      <th>total_income</th>\n",
       "      <th>purpose</th>\n",
       "      <th>childhood</th>\n",
       "    </tr>\n",
       "  </thead>\n",
       "  <tbody>\n",
       "    <tr>\n",
       "      <th>14514</th>\n",
       "      <td>0</td>\n",
       "      <td>16,708.02</td>\n",
       "      <td>0</td>\n",
       "      <td>среднее</td>\n",
       "      <td>1</td>\n",
       "      <td>вдовец / вдова</td>\n",
       "      <td>2</td>\n",
       "      <td>F</td>\n",
       "      <td>пенсионер</td>\n",
       "      <td>0</td>\n",
       "      <td>87,215.41</td>\n",
       "      <td>заняться высшим образованием</td>\n",
       "      <td>-45.78</td>\n",
       "    </tr>\n",
       "    <tr>\n",
       "      <th>578</th>\n",
       "      <td>0</td>\n",
       "      <td>16,577.36</td>\n",
       "      <td>0</td>\n",
       "      <td>среднее</td>\n",
       "      <td>1</td>\n",
       "      <td>женат / замужем</td>\n",
       "      <td>0</td>\n",
       "      <td>F</td>\n",
       "      <td>пенсионер</td>\n",
       "      <td>0</td>\n",
       "      <td>97,620.69</td>\n",
       "      <td>строительство собственной недвижимости</td>\n",
       "      <td>-45.42</td>\n",
       "    </tr>\n",
       "    <tr>\n",
       "      <th>16861</th>\n",
       "      <td>0</td>\n",
       "      <td>16,495.58</td>\n",
       "      <td>0</td>\n",
       "      <td>среднее</td>\n",
       "      <td>1</td>\n",
       "      <td>в разводе</td>\n",
       "      <td>3</td>\n",
       "      <td>F</td>\n",
       "      <td>пенсионер</td>\n",
       "      <td>0</td>\n",
       "      <td>218,284.76</td>\n",
       "      <td>покупка жилья</td>\n",
       "      <td>-45.19</td>\n",
       "    </tr>\n",
       "    <tr>\n",
       "      <th>14659</th>\n",
       "      <td>0</td>\n",
       "      <td>16,456.22</td>\n",
       "      <td>0</td>\n",
       "      <td>среднее</td>\n",
       "      <td>1</td>\n",
       "      <td>Не женат / не замужем</td>\n",
       "      <td>4</td>\n",
       "      <td>F</td>\n",
       "      <td>пенсионер</td>\n",
       "      <td>0</td>\n",
       "      <td>34,974.45</td>\n",
       "      <td>жилье</td>\n",
       "      <td>-45.09</td>\n",
       "    </tr>\n",
       "    <tr>\n",
       "      <th>10188</th>\n",
       "      <td>0</td>\n",
       "      <td>15,486.05</td>\n",
       "      <td>0</td>\n",
       "      <td>среднее</td>\n",
       "      <td>1</td>\n",
       "      <td>женат / замужем</td>\n",
       "      <td>0</td>\n",
       "      <td>M</td>\n",
       "      <td>пенсионер</td>\n",
       "      <td>0</td>\n",
       "      <td>102,621.70</td>\n",
       "      <td>операции с недвижимостью</td>\n",
       "      <td>-42.43</td>\n",
       "    </tr>\n",
       "    <tr>\n",
       "      <th>...</th>\n",
       "      <td>...</td>\n",
       "      <td>...</td>\n",
       "      <td>...</td>\n",
       "      <td>...</td>\n",
       "      <td>...</td>\n",
       "      <td>...</td>\n",
       "      <td>...</td>\n",
       "      <td>...</td>\n",
       "      <td>...</td>\n",
       "      <td>...</td>\n",
       "      <td>...</td>\n",
       "      <td>...</td>\n",
       "      <td>...</td>\n",
       "    </tr>\n",
       "    <tr>\n",
       "      <th>21489</th>\n",
       "      <td>2</td>\n",
       "      <td>nan</td>\n",
       "      <td>47</td>\n",
       "      <td>Среднее</td>\n",
       "      <td>1</td>\n",
       "      <td>женат / замужем</td>\n",
       "      <td>0</td>\n",
       "      <td>M</td>\n",
       "      <td>компаньон</td>\n",
       "      <td>0</td>\n",
       "      <td>nan</td>\n",
       "      <td>сделка с автомобилем</td>\n",
       "      <td>nan</td>\n",
       "    </tr>\n",
       "    <tr>\n",
       "      <th>21495</th>\n",
       "      <td>1</td>\n",
       "      <td>nan</td>\n",
       "      <td>50</td>\n",
       "      <td>среднее</td>\n",
       "      <td>1</td>\n",
       "      <td>гражданский брак</td>\n",
       "      <td>1</td>\n",
       "      <td>F</td>\n",
       "      <td>сотрудник</td>\n",
       "      <td>0</td>\n",
       "      <td>nan</td>\n",
       "      <td>свадьба</td>\n",
       "      <td>nan</td>\n",
       "    </tr>\n",
       "    <tr>\n",
       "      <th>21497</th>\n",
       "      <td>0</td>\n",
       "      <td>nan</td>\n",
       "      <td>48</td>\n",
       "      <td>ВЫСШЕЕ</td>\n",
       "      <td>0</td>\n",
       "      <td>женат / замужем</td>\n",
       "      <td>0</td>\n",
       "      <td>F</td>\n",
       "      <td>компаньон</td>\n",
       "      <td>0</td>\n",
       "      <td>nan</td>\n",
       "      <td>строительство недвижимости</td>\n",
       "      <td>nan</td>\n",
       "    </tr>\n",
       "    <tr>\n",
       "      <th>21502</th>\n",
       "      <td>1</td>\n",
       "      <td>nan</td>\n",
       "      <td>42</td>\n",
       "      <td>среднее</td>\n",
       "      <td>1</td>\n",
       "      <td>женат / замужем</td>\n",
       "      <td>0</td>\n",
       "      <td>F</td>\n",
       "      <td>сотрудник</td>\n",
       "      <td>0</td>\n",
       "      <td>nan</td>\n",
       "      <td>строительство жилой недвижимости</td>\n",
       "      <td>nan</td>\n",
       "    </tr>\n",
       "    <tr>\n",
       "      <th>21510</th>\n",
       "      <td>2</td>\n",
       "      <td>nan</td>\n",
       "      <td>28</td>\n",
       "      <td>среднее</td>\n",
       "      <td>1</td>\n",
       "      <td>женат / замужем</td>\n",
       "      <td>0</td>\n",
       "      <td>F</td>\n",
       "      <td>сотрудник</td>\n",
       "      <td>0</td>\n",
       "      <td>nan</td>\n",
       "      <td>приобретение автомобиля</td>\n",
       "      <td>nan</td>\n",
       "    </tr>\n",
       "  </tbody>\n",
       "</table>\n",
       "<p>21525 rows × 13 columns</p>\n",
       "</div>"
      ],
      "text/plain": [
       "       children  days_employed  dob_years education  education_id  \\\n",
       "14514         0      16,708.02          0   среднее             1   \n",
       "578           0      16,577.36          0   среднее             1   \n",
       "16861         0      16,495.58          0   среднее             1   \n",
       "14659         0      16,456.22          0   среднее             1   \n",
       "10188         0      15,486.05          0   среднее             1   \n",
       "...         ...            ...        ...       ...           ...   \n",
       "21489         2            nan         47   Среднее             1   \n",
       "21495         1            nan         50   среднее             1   \n",
       "21497         0            nan         48    ВЫСШЕЕ             0   \n",
       "21502         1            nan         42   среднее             1   \n",
       "21510         2            nan         28   среднее             1   \n",
       "\n",
       "               family_status  family_status_id gender income_type  debt  \\\n",
       "14514         вдовец / вдова                 2      F   пенсионер     0   \n",
       "578          женат / замужем                 0      F   пенсионер     0   \n",
       "16861              в разводе                 3      F   пенсионер     0   \n",
       "14659  Не женат / не замужем                 4      F   пенсионер     0   \n",
       "10188        женат / замужем                 0      M   пенсионер     0   \n",
       "...                      ...               ...    ...         ...   ...   \n",
       "21489        женат / замужем                 0      M   компаньон     0   \n",
       "21495       гражданский брак                 1      F   сотрудник     0   \n",
       "21497        женат / замужем                 0      F   компаньон     0   \n",
       "21502        женат / замужем                 0      F   сотрудник     0   \n",
       "21510        женат / замужем                 0      F   сотрудник     0   \n",
       "\n",
       "       total_income                                 purpose  childhood  \n",
       "14514     87,215.41            заняться высшим образованием     -45.78  \n",
       "578       97,620.69  строительство собственной недвижимости     -45.42  \n",
       "16861    218,284.76                           покупка жилья     -45.19  \n",
       "14659     34,974.45                                   жилье     -45.09  \n",
       "10188    102,621.70                операции с недвижимостью     -42.43  \n",
       "...             ...                                     ...        ...  \n",
       "21489           nan                    сделка с автомобилем        nan  \n",
       "21495           nan                                 свадьба        nan  \n",
       "21497           nan              строительство недвижимости        nan  \n",
       "21502           nan        строительство жилой недвижимости        nan  \n",
       "21510           nan                 приобретение автомобиля        nan  \n",
       "\n",
       "[21525 rows x 13 columns]"
      ]
     },
     "execution_count": 287,
     "metadata": {},
     "output_type": "execute_result"
    }
   ],
   "source": [
    "data['childhood'] = data['dob_years'] - (data['days_employed'] / 365)\n",
    "data.sort_values(by='childhood')\n"
   ]
  },
  {
   "cell_type": "markdown",
   "metadata": {},
   "source": [
    "Вывод отсортированных по \"Детству\" данных показал, что есть отрицательные значения.\n",
    "Это в тех строках, где не указан возраст.\n",
    "Отберём такие строки в отдельную табличку"
   ]
  },
  {
   "cell_type": "code",
   "execution_count": 288,
   "metadata": {},
   "outputs": [
    {
     "data": {
      "text/html": [
       "<div>\n",
       "<style scoped>\n",
       "    .dataframe tbody tr th:only-of-type {\n",
       "        vertical-align: middle;\n",
       "    }\n",
       "\n",
       "    .dataframe tbody tr th {\n",
       "        vertical-align: top;\n",
       "    }\n",
       "\n",
       "    .dataframe thead th {\n",
       "        text-align: right;\n",
       "    }\n",
       "</style>\n",
       "<table border=\"1\" class=\"dataframe\">\n",
       "  <thead>\n",
       "    <tr style=\"text-align: right;\">\n",
       "      <th></th>\n",
       "      <th>children</th>\n",
       "      <th>days_employed</th>\n",
       "      <th>dob_years</th>\n",
       "      <th>education</th>\n",
       "      <th>education_id</th>\n",
       "      <th>family_status</th>\n",
       "      <th>family_status_id</th>\n",
       "      <th>gender</th>\n",
       "      <th>income_type</th>\n",
       "      <th>debt</th>\n",
       "      <th>total_income</th>\n",
       "      <th>purpose</th>\n",
       "      <th>childhood</th>\n",
       "    </tr>\n",
       "  </thead>\n",
       "  <tbody>\n",
       "    <tr>\n",
       "      <th>14514</th>\n",
       "      <td>0</td>\n",
       "      <td>16,708.02</td>\n",
       "      <td>0</td>\n",
       "      <td>среднее</td>\n",
       "      <td>1</td>\n",
       "      <td>вдовец / вдова</td>\n",
       "      <td>2</td>\n",
       "      <td>F</td>\n",
       "      <td>пенсионер</td>\n",
       "      <td>0</td>\n",
       "      <td>87,215.41</td>\n",
       "      <td>заняться высшим образованием</td>\n",
       "      <td>-45.78</td>\n",
       "    </tr>\n",
       "    <tr>\n",
       "      <th>578</th>\n",
       "      <td>0</td>\n",
       "      <td>16,577.36</td>\n",
       "      <td>0</td>\n",
       "      <td>среднее</td>\n",
       "      <td>1</td>\n",
       "      <td>женат / замужем</td>\n",
       "      <td>0</td>\n",
       "      <td>F</td>\n",
       "      <td>пенсионер</td>\n",
       "      <td>0</td>\n",
       "      <td>97,620.69</td>\n",
       "      <td>строительство собственной недвижимости</td>\n",
       "      <td>-45.42</td>\n",
       "    </tr>\n",
       "    <tr>\n",
       "      <th>16861</th>\n",
       "      <td>0</td>\n",
       "      <td>16,495.58</td>\n",
       "      <td>0</td>\n",
       "      <td>среднее</td>\n",
       "      <td>1</td>\n",
       "      <td>в разводе</td>\n",
       "      <td>3</td>\n",
       "      <td>F</td>\n",
       "      <td>пенсионер</td>\n",
       "      <td>0</td>\n",
       "      <td>218,284.76</td>\n",
       "      <td>покупка жилья</td>\n",
       "      <td>-45.19</td>\n",
       "    </tr>\n",
       "    <tr>\n",
       "      <th>14659</th>\n",
       "      <td>0</td>\n",
       "      <td>16,456.22</td>\n",
       "      <td>0</td>\n",
       "      <td>среднее</td>\n",
       "      <td>1</td>\n",
       "      <td>Не женат / не замужем</td>\n",
       "      <td>4</td>\n",
       "      <td>F</td>\n",
       "      <td>пенсионер</td>\n",
       "      <td>0</td>\n",
       "      <td>34,974.45</td>\n",
       "      <td>жилье</td>\n",
       "      <td>-45.09</td>\n",
       "    </tr>\n",
       "    <tr>\n",
       "      <th>10188</th>\n",
       "      <td>0</td>\n",
       "      <td>15,486.05</td>\n",
       "      <td>0</td>\n",
       "      <td>среднее</td>\n",
       "      <td>1</td>\n",
       "      <td>женат / замужем</td>\n",
       "      <td>0</td>\n",
       "      <td>M</td>\n",
       "      <td>пенсионер</td>\n",
       "      <td>0</td>\n",
       "      <td>102,621.70</td>\n",
       "      <td>операции с недвижимостью</td>\n",
       "      <td>-42.43</td>\n",
       "    </tr>\n",
       "    <tr>\n",
       "      <th>...</th>\n",
       "      <td>...</td>\n",
       "      <td>...</td>\n",
       "      <td>...</td>\n",
       "      <td>...</td>\n",
       "      <td>...</td>\n",
       "      <td>...</td>\n",
       "      <td>...</td>\n",
       "      <td>...</td>\n",
       "      <td>...</td>\n",
       "      <td>...</td>\n",
       "      <td>...</td>\n",
       "      <td>...</td>\n",
       "      <td>...</td>\n",
       "    </tr>\n",
       "    <tr>\n",
       "      <th>6670</th>\n",
       "      <td>0</td>\n",
       "      <td>nan</td>\n",
       "      <td>0</td>\n",
       "      <td>Высшее</td>\n",
       "      <td>0</td>\n",
       "      <td>в разводе</td>\n",
       "      <td>3</td>\n",
       "      <td>F</td>\n",
       "      <td>пенсионер</td>\n",
       "      <td>0</td>\n",
       "      <td>nan</td>\n",
       "      <td>покупка жилой недвижимости</td>\n",
       "      <td>nan</td>\n",
       "    </tr>\n",
       "    <tr>\n",
       "      <th>8574</th>\n",
       "      <td>0</td>\n",
       "      <td>nan</td>\n",
       "      <td>0</td>\n",
       "      <td>среднее</td>\n",
       "      <td>1</td>\n",
       "      <td>женат / замужем</td>\n",
       "      <td>0</td>\n",
       "      <td>F</td>\n",
       "      <td>сотрудник</td>\n",
       "      <td>0</td>\n",
       "      <td>nan</td>\n",
       "      <td>недвижимость</td>\n",
       "      <td>nan</td>\n",
       "    </tr>\n",
       "    <tr>\n",
       "      <th>12403</th>\n",
       "      <td>3</td>\n",
       "      <td>nan</td>\n",
       "      <td>0</td>\n",
       "      <td>среднее</td>\n",
       "      <td>1</td>\n",
       "      <td>женат / замужем</td>\n",
       "      <td>0</td>\n",
       "      <td>M</td>\n",
       "      <td>сотрудник</td>\n",
       "      <td>0</td>\n",
       "      <td>nan</td>\n",
       "      <td>операции с коммерческой недвижимостью</td>\n",
       "      <td>nan</td>\n",
       "    </tr>\n",
       "    <tr>\n",
       "      <th>13741</th>\n",
       "      <td>0</td>\n",
       "      <td>nan</td>\n",
       "      <td>0</td>\n",
       "      <td>среднее</td>\n",
       "      <td>1</td>\n",
       "      <td>гражданский брак</td>\n",
       "      <td>1</td>\n",
       "      <td>F</td>\n",
       "      <td>сотрудник</td>\n",
       "      <td>0</td>\n",
       "      <td>nan</td>\n",
       "      <td>на проведение свадьбы</td>\n",
       "      <td>nan</td>\n",
       "    </tr>\n",
       "    <tr>\n",
       "      <th>19829</th>\n",
       "      <td>0</td>\n",
       "      <td>nan</td>\n",
       "      <td>0</td>\n",
       "      <td>среднее</td>\n",
       "      <td>1</td>\n",
       "      <td>женат / замужем</td>\n",
       "      <td>0</td>\n",
       "      <td>F</td>\n",
       "      <td>сотрудник</td>\n",
       "      <td>0</td>\n",
       "      <td>nan</td>\n",
       "      <td>жилье</td>\n",
       "      <td>nan</td>\n",
       "    </tr>\n",
       "  </tbody>\n",
       "</table>\n",
       "<p>101 rows × 13 columns</p>\n",
       "</div>"
      ],
      "text/plain": [
       "       children  days_employed  dob_years education  education_id  \\\n",
       "14514         0      16,708.02          0   среднее             1   \n",
       "578           0      16,577.36          0   среднее             1   \n",
       "16861         0      16,495.58          0   среднее             1   \n",
       "14659         0      16,456.22          0   среднее             1   \n",
       "10188         0      15,486.05          0   среднее             1   \n",
       "...         ...            ...        ...       ...           ...   \n",
       "6670          0            nan          0    Высшее             0   \n",
       "8574          0            nan          0   среднее             1   \n",
       "12403         3            nan          0   среднее             1   \n",
       "13741         0            nan          0   среднее             1   \n",
       "19829         0            nan          0   среднее             1   \n",
       "\n",
       "               family_status  family_status_id gender income_type  debt  \\\n",
       "14514         вдовец / вдова                 2      F   пенсионер     0   \n",
       "578          женат / замужем                 0      F   пенсионер     0   \n",
       "16861              в разводе                 3      F   пенсионер     0   \n",
       "14659  Не женат / не замужем                 4      F   пенсионер     0   \n",
       "10188        женат / замужем                 0      M   пенсионер     0   \n",
       "...                      ...               ...    ...         ...   ...   \n",
       "6670               в разводе                 3      F   пенсионер     0   \n",
       "8574         женат / замужем                 0      F   сотрудник     0   \n",
       "12403        женат / замужем                 0      M   сотрудник     0   \n",
       "13741       гражданский брак                 1      F   сотрудник     0   \n",
       "19829        женат / замужем                 0      F   сотрудник     0   \n",
       "\n",
       "       total_income                                 purpose  childhood  \n",
       "14514     87,215.41            заняться высшим образованием     -45.78  \n",
       "578       97,620.69  строительство собственной недвижимости     -45.42  \n",
       "16861    218,284.76                           покупка жилья     -45.19  \n",
       "14659     34,974.45                                   жилье     -45.09  \n",
       "10188    102,621.70                операции с недвижимостью     -42.43  \n",
       "...             ...                                     ...        ...  \n",
       "6670            nan              покупка жилой недвижимости        nan  \n",
       "8574            nan                            недвижимость        nan  \n",
       "12403           nan   операции с коммерческой недвижимостью        nan  \n",
       "13741           nan                   на проведение свадьбы        nan  \n",
       "19829           nan                                   жилье        nan  \n",
       "\n",
       "[101 rows x 13 columns]"
      ]
     },
     "execution_count": 288,
     "metadata": {},
     "output_type": "execute_result"
    }
   ],
   "source": [
    "data_zero_dob_years = data.loc[data.loc[:,'dob_years'] == 0]\n",
    "\n",
    "data_zero_dob_years.sort_values('childhood')\n"
   ]
  },
  {
   "cell_type": "markdown",
   "metadata": {},
   "source": [
    "Что здесь получается?\n",
    "Похоже, что в основном это происходит с пенсионерами и тему, у кого нет данных в колонках возвраста и/или стажа\n"
   ]
  },
  {
   "cell_type": "markdown",
   "metadata": {},
   "source": [
    "#### Посмотрим графическое представление по трудовому стажу"
   ]
  },
  {
   "cell_type": "code",
   "execution_count": 289,
   "metadata": {},
   "outputs": [
    {
     "data": {
      "image/png": "[encoded data removed]",
      "text/plain": [
       "<Figure size 432x288 with 1 Axes>"
      ]
     },
     "metadata": {
      "needs_background": "light"
     },
     "output_type": "display_data"
    }
   ],
   "source": [
    "data.plot.scatter(x=['dob_years'], y=['days_employed']);"
   ]
  },
  {
   "cell_type": "markdown",
   "metadata": {},
   "source": [
    "Распределение значений по трудовому стажу от возраста.\n",
    "\n",
    "**гипотеза** строки со значениями days_employed меньше 2500 **удалить**"
   ]
  },
  {
   "cell_type": "markdown",
   "metadata": {},
   "source": [
    "### Несущественно для этого исследования\n",
    "Ходил в курилку, там повстречал заказчиков исследования.\n",
    "Они и говорят:\n",
    " - слушай, бро!\n",
    " чё ты паришься со стажем? у тебя какое задание? стаж в нём имеет место быть?\n",
    " - посмотрел ТЗ\n",
    " \" влияет ли семейное положение и количество детей\"\n",
    " -- блин. так ведь действительно, вроде не существенно.\n",
    " \n",
    " - ладно. в порядок данные привёл, и хорошо. не будут смущать в процессе тзысканий"
   ]
  },
  {
   "cell_type": "markdown",
   "metadata": {},
   "source": [
    "### 3. dob_years - возраст.\n"
   ]
  },
  {
   "cell_type": "code",
   "execution_count": 290,
   "metadata": {},
   "outputs": [
    {
     "data": {
      "text/plain": [
       "count   21,525.00\n",
       "mean        43.29\n",
       "std         12.57\n",
       "min          0.00\n",
       "25%         33.00\n",
       "50%         42.00\n",
       "75%         53.00\n",
       "max         75.00\n",
       "Name: dob_years, dtype: float64"
      ]
     },
     "execution_count": 290,
     "metadata": {},
     "output_type": "execute_result"
    }
   ],
   "source": [
    "data['dob_years'].describe()"
   ]
  },
  {
   "cell_type": "markdown",
   "metadata": {},
   "source": [
    "Из общих данных известно, что:\n",
    "- возвраст указан в годах\n",
    "- это целочисленное значение\n",
    "- среднее 43 года\n",
    "- есть значения \"0\"\n",
    "Значения \"0\" считаем ПРОПУСКОМ данных"
   ]
  },
  {
   "cell_type": "code",
   "execution_count": 291,
   "metadata": {},
   "outputs": [
    {
     "data": {
      "text/plain": [
       "children            101\n",
       "days_employed        91\n",
       "dob_years           101\n",
       "education           101\n",
       "education_id        101\n",
       "family_status       101\n",
       "family_status_id    101\n",
       "gender              101\n",
       "income_type         101\n",
       "debt                101\n",
       "total_income         91\n",
       "purpose             101\n",
       "childhood            91\n",
       "dtype: int64"
      ]
     },
     "execution_count": 291,
     "metadata": {},
     "output_type": "execute_result"
    }
   ],
   "source": [
    "data[data['dob_years'] == 0].count()"
   ]
  },
  {
   "cell_type": "markdown",
   "metadata": {},
   "source": [
    "Таких \"пропусков\" 101 строка, что составляет меньше одного процента от всех данных.\n",
    "\n",
    "**гипотеза** Этими строками можно пренебречь, однако!\n",
    "В ТЗ нет прямой отсылки к возрасту.\n",
    "На этом этапе ничего не делаем."
   ]
  },
  {
   "cell_type": "code",
   "execution_count": 292,
   "metadata": {},
   "outputs": [
    {
     "data": {
      "image/png": "[encoded data removed]",
      "text/plain": [
       "<Figure size 432x288 with 1 Axes>"
      ]
     },
     "metadata": {
      "needs_background": "light"
     },
     "output_type": "display_data"
    }
   ],
   "source": [
    "dob_year = data['dob_years']\n",
    "\n",
    "dob_year.plot(kind='hist');"
   ]
  },
  {
   "cell_type": "markdown",
   "metadata": {},
   "source": [
    "Замечательное распределение данных по возрасту.\n",
    "Смело считаем значения меньше 10 лет - пропусками дангных. Принеобходимости можно заменить на NaN"
   ]
  },
  {
   "cell_type": "markdown",
   "metadata": {},
   "source": [
    "### 4. education - образование.\n"
   ]
  },
  {
   "cell_type": "markdown",
   "metadata": {},
   "source": [
    "Из общих справочных данных, по колонке Образование, следующие сведения:\n",
    "- это строковое значение\n",
    "- нет пропусков строк\n",
    "- вероятно присутствие неявных дубликатов\n",
    "\n",
    "Проверяю неявные дубликаты выводом уникальных значений"
   ]
  },
  {
   "cell_type": "code",
   "execution_count": 293,
   "metadata": {},
   "outputs": [
    {
     "data": {
      "text/plain": [
       "array(['высшее', 'среднее', 'Среднее', 'СРЕДНЕЕ', 'ВЫСШЕЕ',\n",
       "       'неоконченное высшее', 'начальное', 'Высшее',\n",
       "       'НЕОКОНЧЕННОЕ ВЫСШЕЕ', 'Неоконченное высшее', 'НАЧАЛЬНОЕ',\n",
       "       'Начальное', 'Ученая степень', 'УЧЕНАЯ СТЕПЕНЬ', 'ученая степень'],\n",
       "      dtype=object)"
      ]
     },
     "execution_count": 293,
     "metadata": {},
     "output_type": "execute_result"
    }
   ],
   "source": [
    "data['education'].unique()"
   ]
  },
  {
   "cell_type": "markdown",
   "metadata": {},
   "source": [
    "Для удобного восприятия выведу отсортированный список в вертикальном расположении."
   ]
  },
  {
   "cell_type": "code",
   "execution_count": 294,
   "metadata": {},
   "outputs": [
    {
     "data": {
      "text/plain": [
       "['ВЫСШЕЕ',\n",
       " 'Высшее',\n",
       " 'НАЧАЛЬНОЕ',\n",
       " 'НЕОКОНЧЕННОЕ ВЫСШЕЕ',\n",
       " 'Начальное',\n",
       " 'Неоконченное высшее',\n",
       " 'СРЕДНЕЕ',\n",
       " 'Среднее',\n",
       " 'УЧЕНАЯ СТЕПЕНЬ',\n",
       " 'Ученая степень',\n",
       " 'высшее',\n",
       " 'начальное',\n",
       " 'неоконченное высшее',\n",
       " 'среднее',\n",
       " 'ученая степень']"
      ]
     },
     "execution_count": 294,
     "metadata": {},
     "output_type": "execute_result"
    }
   ],
   "source": [
    "sorted(data['education'].unique())"
   ]
  },
  {
   "cell_type": "markdown",
   "metadata": {},
   "source": [
    "Здесь видны неявные дубликаты\n",
    "\n",
    "* высшее - ВЫСШЕЕ, Высшее\n",
    "* начальное - НАЧАЛЬНОЕ, Начальное\n",
    "* неоконченное высшее - НЕОКОНЧЕННОЕ ВЫСШЕЕ, Неоконченное высшее\n",
    "* среднее - СРЕДНЕЕ, Среднее\n",
    "* ученая степень - УЧЕНАЯ СТЕПЕНЬ, Ученая степень\n",
    "\n",
    "Эти дубликаты поменяю на аналоги, написанные в нижнем регистре\n",
    "Попробую применить метод перевода в нижний регистр всех значений"
   ]
  },
  {
   "cell_type": "code",
   "execution_count": 295,
   "metadata": {},
   "outputs": [
    {
     "data": {
      "text/plain": [
       "['высшее', 'начальное', 'неоконченное высшее', 'среднее', 'ученая степень']"
      ]
     },
     "execution_count": 295,
     "metadata": {},
     "output_type": "execute_result"
    }
   ],
   "source": [
    "data['education'] = data['education'].str.lower()\n",
    "sorted(data['education'].unique())"
   ]
  },
  {
   "cell_type": "markdown",
   "metadata": {},
   "source": [
    "#### Успех!\n",
    "Посмотрим распределение уровня образования среди клиентов "
   ]
  },
  {
   "cell_type": "code",
   "execution_count": 296,
   "metadata": {},
   "outputs": [
    {
     "data": {
      "text/plain": [
       "['высшее', 'начальное', 'неоконченное высшее', 'среднее', 'ученая степень']"
      ]
     },
     "execution_count": 296,
     "metadata": {},
     "output_type": "execute_result"
    }
   ],
   "source": [
    "# data.plot(x='education', y='children',  kind='bar')\n",
    "# подсчитываю количество строковых значений\n",
    "unique_edu = sorted(data['education'].unique())\n",
    "unique_edu"
   ]
  },
  {
   "cell_type": "code",
   "execution_count": 297,
   "metadata": {},
   "outputs": [
    {
     "data": {
      "image/png": "[encoded data removed]",
      "text/plain": [
       "<Figure size 432x288 with 1 Axes>"
      ]
     },
     "metadata": {
      "needs_background": "light"
     },
     "output_type": "display_data"
    }
   ],
   "source": [
    "data['education'].value_counts().plot(kind='bar');"
   ]
  },
  {
   "cell_type": "code",
   "execution_count": 298,
   "metadata": {},
   "outputs": [
    {
     "data": {
      "text/plain": [
       "среднее                15233\n",
       "высшее                  5260\n",
       "неоконченное высшее      744\n",
       "начальное                282\n",
       "ученая степень             6\n",
       "Name: education, dtype: int64"
      ]
     },
     "execution_count": 298,
     "metadata": {},
     "output_type": "execute_result"
    }
   ],
   "source": [
    "data['education'].sort_values().value_counts()"
   ]
  },
  {
   "cell_type": "markdown",
   "metadata": {},
   "source": [
    "Эта информация в ТЗ не требуется. Но интересно же!"
   ]
  },
  {
   "cell_type": "markdown",
   "metadata": {},
   "source": [
    "### 5. education_id - идентификатор уровня образования.\n"
   ]
  },
  {
   "cell_type": "markdown",
   "metadata": {},
   "source": [
    "Задачи:\n",
    "Проверить, сколько уникальных значений\n",
    "Как они соотносятся со строковыми значениями уровня образования\n",
    "В случае ошибок - исправить\n"
   ]
  },
  {
   "cell_type": "code",
   "execution_count": 299,
   "metadata": {},
   "outputs": [
    {
     "data": {
      "text/plain": [
       "[0, 1, 2, 3, 4]"
      ]
     },
     "execution_count": 299,
     "metadata": {},
     "output_type": "execute_result"
    }
   ],
   "source": [
    "sorted(data['education_id'].unique())"
   ]
  },
  {
   "cell_type": "markdown",
   "metadata": {},
   "source": [
    "Прекрасно! Количество значений _id совпадает с количеством категорий в строковым формате\n",
    "Теперь хочу проверить соответствие строковых и численных категорий.\n",
    "Нет ли ошибок..."
   ]
  },
  {
   "cell_type": "code",
   "execution_count": 300,
   "metadata": {},
   "outputs": [
    {
     "data": {
      "text/plain": [
       "высшее    5260\n",
       "Name: education, dtype: int64"
      ]
     },
     "execution_count": 300,
     "metadata": {},
     "output_type": "execute_result"
    }
   ],
   "source": [
    "id_0 = data.loc[data.loc[:, 'education_id'] == 0]\n",
    "id_0['education'].sort_values().value_counts()"
   ]
  },
  {
   "cell_type": "code",
   "execution_count": 301,
   "metadata": {},
   "outputs": [
    {
     "data": {
      "text/plain": [
       "среднее    15233\n",
       "Name: education, dtype: int64"
      ]
     },
     "execution_count": 301,
     "metadata": {},
     "output_type": "execute_result"
    }
   ],
   "source": [
    "id_0 = data.loc[data.loc[:, 'education_id'] == 1]\n",
    "id_0['education'].sort_values().value_counts()"
   ]
  },
  {
   "cell_type": "code",
   "execution_count": 302,
   "metadata": {},
   "outputs": [
    {
     "data": {
      "text/plain": [
       "неоконченное высшее    744\n",
       "Name: education, dtype: int64"
      ]
     },
     "execution_count": 302,
     "metadata": {},
     "output_type": "execute_result"
    }
   ],
   "source": [
    "id_0 = data.loc[data.loc[:, 'education_id'] == 2]\n",
    "id_0['education'].sort_values().value_counts()"
   ]
  },
  {
   "cell_type": "code",
   "execution_count": 303,
   "metadata": {},
   "outputs": [
    {
     "data": {
      "text/plain": [
       "начальное    282\n",
       "Name: education, dtype: int64"
      ]
     },
     "execution_count": 303,
     "metadata": {},
     "output_type": "execute_result"
    }
   ],
   "source": [
    "id_0 = data.loc[data.loc[:, 'education_id'] == 3]\n",
    "id_0['education'].sort_values().value_counts()"
   ]
  },
  {
   "cell_type": "markdown",
   "metadata": {},
   "source": [
    "#### Прекрасно!\n",
    "Каждая числовая категория _id соответствует одному значению строковой категории\n"
   ]
  },
  {
   "cell_type": "markdown",
   "metadata": {},
   "source": [
    "### Можно сделать словарь категория уровня образования\n",
    "Из основной таблицы data убираем колонку education\n",
    "И Создаём табличку 'education_dict' с колонками education_id и education"
   ]
  },
  {
   "cell_type": "code",
   "execution_count": 304,
   "metadata": {},
   "outputs": [
    {
     "data": {
      "text/html": [
       "<div>\n",
       "<style scoped>\n",
       "    .dataframe tbody tr th:only-of-type {\n",
       "        vertical-align: middle;\n",
       "    }\n",
       "\n",
       "    .dataframe tbody tr th {\n",
       "        vertical-align: top;\n",
       "    }\n",
       "\n",
       "    .dataframe thead th {\n",
       "        text-align: right;\n",
       "    }\n",
       "</style>\n",
       "<table border=\"1\" class=\"dataframe\">\n",
       "  <thead>\n",
       "    <tr style=\"text-align: right;\">\n",
       "      <th></th>\n",
       "      <th>education_id</th>\n",
       "      <th>education</th>\n",
       "    </tr>\n",
       "  </thead>\n",
       "  <tbody>\n",
       "    <tr>\n",
       "      <th>0</th>\n",
       "      <td>0</td>\n",
       "      <td>высшее</td>\n",
       "    </tr>\n",
       "    <tr>\n",
       "      <th>1</th>\n",
       "      <td>1</td>\n",
       "      <td>среднее</td>\n",
       "    </tr>\n",
       "    <tr>\n",
       "      <th>2</th>\n",
       "      <td>1</td>\n",
       "      <td>среднее</td>\n",
       "    </tr>\n",
       "    <tr>\n",
       "      <th>3</th>\n",
       "      <td>1</td>\n",
       "      <td>среднее</td>\n",
       "    </tr>\n",
       "    <tr>\n",
       "      <th>4</th>\n",
       "      <td>1</td>\n",
       "      <td>среднее</td>\n",
       "    </tr>\n",
       "    <tr>\n",
       "      <th>...</th>\n",
       "      <td>...</td>\n",
       "      <td>...</td>\n",
       "    </tr>\n",
       "    <tr>\n",
       "      <th>21520</th>\n",
       "      <td>1</td>\n",
       "      <td>среднее</td>\n",
       "    </tr>\n",
       "    <tr>\n",
       "      <th>21521</th>\n",
       "      <td>1</td>\n",
       "      <td>среднее</td>\n",
       "    </tr>\n",
       "    <tr>\n",
       "      <th>21522</th>\n",
       "      <td>1</td>\n",
       "      <td>среднее</td>\n",
       "    </tr>\n",
       "    <tr>\n",
       "      <th>21523</th>\n",
       "      <td>1</td>\n",
       "      <td>среднее</td>\n",
       "    </tr>\n",
       "    <tr>\n",
       "      <th>21524</th>\n",
       "      <td>1</td>\n",
       "      <td>среднее</td>\n",
       "    </tr>\n",
       "  </tbody>\n",
       "</table>\n",
       "<p>21525 rows × 2 columns</p>\n",
       "</div>"
      ],
      "text/plain": [
       "       education_id education\n",
       "0                 0    высшее\n",
       "1                 1   среднее\n",
       "2                 1   среднее\n",
       "3                 1   среднее\n",
       "4                 1   среднее\n",
       "...             ...       ...\n",
       "21520             1   среднее\n",
       "21521             1   среднее\n",
       "21522             1   среднее\n",
       "21523             1   среднее\n",
       "21524             1   среднее\n",
       "\n",
       "[21525 rows x 2 columns]"
      ]
     },
     "execution_count": 304,
     "metadata": {},
     "output_type": "execute_result"
    }
   ],
   "source": [
    "# новая табличка\n",
    "education_dict = data[['education_id', 'education']]\n",
    "education_dict"
   ]
  },
  {
   "cell_type": "code",
   "execution_count": 305,
   "metadata": {},
   "outputs": [
    {
     "data": {
      "text/html": [
       "<div>\n",
       "<style scoped>\n",
       "    .dataframe tbody tr th:only-of-type {\n",
       "        vertical-align: middle;\n",
       "    }\n",
       "\n",
       "    .dataframe tbody tr th {\n",
       "        vertical-align: top;\n",
       "    }\n",
       "\n",
       "    .dataframe thead th {\n",
       "        text-align: right;\n",
       "    }\n",
       "</style>\n",
       "<table border=\"1\" class=\"dataframe\">\n",
       "  <thead>\n",
       "    <tr style=\"text-align: right;\">\n",
       "      <th></th>\n",
       "      <th>education_id</th>\n",
       "      <th>education</th>\n",
       "    </tr>\n",
       "  </thead>\n",
       "  <tbody>\n",
       "    <tr>\n",
       "      <th>0</th>\n",
       "      <td>0</td>\n",
       "      <td>высшее</td>\n",
       "    </tr>\n",
       "    <tr>\n",
       "      <th>1</th>\n",
       "      <td>1</td>\n",
       "      <td>среднее</td>\n",
       "    </tr>\n",
       "    <tr>\n",
       "      <th>2</th>\n",
       "      <td>2</td>\n",
       "      <td>неоконченное высшее</td>\n",
       "    </tr>\n",
       "    <tr>\n",
       "      <th>3</th>\n",
       "      <td>3</td>\n",
       "      <td>начальное</td>\n",
       "    </tr>\n",
       "    <tr>\n",
       "      <th>4</th>\n",
       "      <td>4</td>\n",
       "      <td>ученая степень</td>\n",
       "    </tr>\n",
       "  </tbody>\n",
       "</table>\n",
       "</div>"
      ],
      "text/plain": [
       "   education_id            education\n",
       "0             0               высшее\n",
       "1             1              среднее\n",
       "2             2  неоконченное высшее\n",
       "3             3            начальное\n",
       "4             4       ученая степень"
      ]
     },
     "execution_count": 305,
     "metadata": {},
     "output_type": "execute_result"
    }
   ],
   "source": [
    "# убираем дубликаты в словаре\n",
    "education_dict = education_dict.drop_duplicates().reset_index(drop=True)\n",
    "education_dict"
   ]
  },
  {
   "cell_type": "markdown",
   "metadata": {},
   "source": [
    "Словарь education_dict готов!"
   ]
  },
  {
   "cell_type": "markdown",
   "metadata": {},
   "source": [
    "Убираю лишнюю колонку из data"
   ]
  },
  {
   "cell_type": "code",
   "execution_count": 306,
   "metadata": {},
   "outputs": [
    {
     "data": {
      "text/html": [
       "<div>\n",
       "<style scoped>\n",
       "    .dataframe tbody tr th:only-of-type {\n",
       "        vertical-align: middle;\n",
       "    }\n",
       "\n",
       "    .dataframe tbody tr th {\n",
       "        vertical-align: top;\n",
       "    }\n",
       "\n",
       "    .dataframe thead th {\n",
       "        text-align: right;\n",
       "    }\n",
       "</style>\n",
       "<table border=\"1\" class=\"dataframe\">\n",
       "  <thead>\n",
       "    <tr style=\"text-align: right;\">\n",
       "      <th></th>\n",
       "      <th>children</th>\n",
       "      <th>days_employed</th>\n",
       "      <th>dob_years</th>\n",
       "      <th>education_id</th>\n",
       "      <th>family_status</th>\n",
       "      <th>family_status_id</th>\n",
       "      <th>gender</th>\n",
       "      <th>income_type</th>\n",
       "      <th>debt</th>\n",
       "      <th>total_income</th>\n",
       "      <th>purpose</th>\n",
       "      <th>childhood</th>\n",
       "    </tr>\n",
       "  </thead>\n",
       "  <tbody>\n",
       "    <tr>\n",
       "      <th>0</th>\n",
       "      <td>1</td>\n",
       "      <td>351.57</td>\n",
       "      <td>42</td>\n",
       "      <td>0</td>\n",
       "      <td>женат / замужем</td>\n",
       "      <td>0</td>\n",
       "      <td>F</td>\n",
       "      <td>сотрудник</td>\n",
       "      <td>0</td>\n",
       "      <td>253,875.64</td>\n",
       "      <td>покупка жилья</td>\n",
       "      <td>41.04</td>\n",
       "    </tr>\n",
       "    <tr>\n",
       "      <th>1</th>\n",
       "      <td>1</td>\n",
       "      <td>167.70</td>\n",
       "      <td>36</td>\n",
       "      <td>1</td>\n",
       "      <td>женат / замужем</td>\n",
       "      <td>0</td>\n",
       "      <td>F</td>\n",
       "      <td>сотрудник</td>\n",
       "      <td>0</td>\n",
       "      <td>112,080.01</td>\n",
       "      <td>приобретение автомобиля</td>\n",
       "      <td>35.54</td>\n",
       "    </tr>\n",
       "    <tr>\n",
       "      <th>2</th>\n",
       "      <td>0</td>\n",
       "      <td>234.31</td>\n",
       "      <td>33</td>\n",
       "      <td>1</td>\n",
       "      <td>женат / замужем</td>\n",
       "      <td>0</td>\n",
       "      <td>M</td>\n",
       "      <td>сотрудник</td>\n",
       "      <td>0</td>\n",
       "      <td>145,885.95</td>\n",
       "      <td>покупка жилья</td>\n",
       "      <td>32.36</td>\n",
       "    </tr>\n",
       "    <tr>\n",
       "      <th>3</th>\n",
       "      <td>3</td>\n",
       "      <td>171.86</td>\n",
       "      <td>32</td>\n",
       "      <td>1</td>\n",
       "      <td>женат / замужем</td>\n",
       "      <td>0</td>\n",
       "      <td>M</td>\n",
       "      <td>сотрудник</td>\n",
       "      <td>0</td>\n",
       "      <td>267,628.55</td>\n",
       "      <td>дополнительное образование</td>\n",
       "      <td>31.53</td>\n",
       "    </tr>\n",
       "    <tr>\n",
       "      <th>4</th>\n",
       "      <td>0</td>\n",
       "      <td>14,177.75</td>\n",
       "      <td>53</td>\n",
       "      <td>1</td>\n",
       "      <td>гражданский брак</td>\n",
       "      <td>1</td>\n",
       "      <td>F</td>\n",
       "      <td>пенсионер</td>\n",
       "      <td>0</td>\n",
       "      <td>158,616.08</td>\n",
       "      <td>сыграть свадьбу</td>\n",
       "      <td>14.16</td>\n",
       "    </tr>\n",
       "    <tr>\n",
       "      <th>...</th>\n",
       "      <td>...</td>\n",
       "      <td>...</td>\n",
       "      <td>...</td>\n",
       "      <td>...</td>\n",
       "      <td>...</td>\n",
       "      <td>...</td>\n",
       "      <td>...</td>\n",
       "      <td>...</td>\n",
       "      <td>...</td>\n",
       "      <td>...</td>\n",
       "      <td>...</td>\n",
       "      <td>...</td>\n",
       "    </tr>\n",
       "    <tr>\n",
       "      <th>21520</th>\n",
       "      <td>1</td>\n",
       "      <td>188.72</td>\n",
       "      <td>43</td>\n",
       "      <td>1</td>\n",
       "      <td>гражданский брак</td>\n",
       "      <td>1</td>\n",
       "      <td>F</td>\n",
       "      <td>компаньон</td>\n",
       "      <td>0</td>\n",
       "      <td>224,791.86</td>\n",
       "      <td>операции с жильем</td>\n",
       "      <td>42.48</td>\n",
       "    </tr>\n",
       "    <tr>\n",
       "      <th>21521</th>\n",
       "      <td>0</td>\n",
       "      <td>14,330.73</td>\n",
       "      <td>67</td>\n",
       "      <td>1</td>\n",
       "      <td>женат / замужем</td>\n",
       "      <td>0</td>\n",
       "      <td>F</td>\n",
       "      <td>пенсионер</td>\n",
       "      <td>0</td>\n",
       "      <td>155,999.81</td>\n",
       "      <td>сделка с автомобилем</td>\n",
       "      <td>27.74</td>\n",
       "    </tr>\n",
       "    <tr>\n",
       "      <th>21522</th>\n",
       "      <td>1</td>\n",
       "      <td>88.06</td>\n",
       "      <td>38</td>\n",
       "      <td>1</td>\n",
       "      <td>гражданский брак</td>\n",
       "      <td>1</td>\n",
       "      <td>M</td>\n",
       "      <td>сотрудник</td>\n",
       "      <td>1</td>\n",
       "      <td>89,672.56</td>\n",
       "      <td>недвижимость</td>\n",
       "      <td>37.76</td>\n",
       "    </tr>\n",
       "    <tr>\n",
       "      <th>21523</th>\n",
       "      <td>3</td>\n",
       "      <td>129.69</td>\n",
       "      <td>38</td>\n",
       "      <td>1</td>\n",
       "      <td>женат / замужем</td>\n",
       "      <td>0</td>\n",
       "      <td>M</td>\n",
       "      <td>сотрудник</td>\n",
       "      <td>1</td>\n",
       "      <td>244,093.05</td>\n",
       "      <td>на покупку своего автомобиля</td>\n",
       "      <td>37.64</td>\n",
       "    </tr>\n",
       "    <tr>\n",
       "      <th>21524</th>\n",
       "      <td>2</td>\n",
       "      <td>82.69</td>\n",
       "      <td>40</td>\n",
       "      <td>1</td>\n",
       "      <td>женат / замужем</td>\n",
       "      <td>0</td>\n",
       "      <td>F</td>\n",
       "      <td>сотрудник</td>\n",
       "      <td>0</td>\n",
       "      <td>82,047.42</td>\n",
       "      <td>на покупку автомобиля</td>\n",
       "      <td>39.77</td>\n",
       "    </tr>\n",
       "  </tbody>\n",
       "</table>\n",
       "<p>21525 rows × 12 columns</p>\n",
       "</div>"
      ],
      "text/plain": [
       "       children  days_employed  dob_years  education_id     family_status  \\\n",
       "0             1         351.57         42             0   женат / замужем   \n",
       "1             1         167.70         36             1   женат / замужем   \n",
       "2             0         234.31         33             1   женат / замужем   \n",
       "3             3         171.86         32             1   женат / замужем   \n",
       "4             0      14,177.75         53             1  гражданский брак   \n",
       "...         ...            ...        ...           ...               ...   \n",
       "21520         1         188.72         43             1  гражданский брак   \n",
       "21521         0      14,330.73         67             1   женат / замужем   \n",
       "21522         1          88.06         38             1  гражданский брак   \n",
       "21523         3         129.69         38             1   женат / замужем   \n",
       "21524         2          82.69         40             1   женат / замужем   \n",
       "\n",
       "       family_status_id gender income_type  debt  total_income  \\\n",
       "0                     0      F   сотрудник     0    253,875.64   \n",
       "1                     0      F   сотрудник     0    112,080.01   \n",
       "2                     0      M   сотрудник     0    145,885.95   \n",
       "3                     0      M   сотрудник     0    267,628.55   \n",
       "4                     1      F   пенсионер     0    158,616.08   \n",
       "...                 ...    ...         ...   ...           ...   \n",
       "21520                 1      F   компаньон     0    224,791.86   \n",
       "21521                 0      F   пенсионер     0    155,999.81   \n",
       "21522                 1      M   сотрудник     1     89,672.56   \n",
       "21523                 0      M   сотрудник     1    244,093.05   \n",
       "21524                 0      F   сотрудник     0     82,047.42   \n",
       "\n",
       "                            purpose  childhood  \n",
       "0                     покупка жилья      41.04  \n",
       "1           приобретение автомобиля      35.54  \n",
       "2                     покупка жилья      32.36  \n",
       "3        дополнительное образование      31.53  \n",
       "4                   сыграть свадьбу      14.16  \n",
       "...                             ...        ...  \n",
       "21520             операции с жильем      42.48  \n",
       "21521          сделка с автомобилем      27.74  \n",
       "21522                  недвижимость      37.76  \n",
       "21523  на покупку своего автомобиля      37.64  \n",
       "21524         на покупку автомобиля      39.77  \n",
       "\n",
       "[21525 rows x 12 columns]"
      ]
     },
     "execution_count": 306,
     "metadata": {},
     "output_type": "execute_result"
    }
   ],
   "source": [
    "del data['education']\n",
    "data"
   ]
  },
  {
   "cell_type": "markdown",
   "metadata": {},
   "source": [
    "### 6. family_status - семейное положение.\n"
   ]
  },
  {
   "cell_type": "markdown",
   "metadata": {},
   "source": [
    "#### Из общей справки по данным\n",
    "- строковое значение\n",
    "- пропусков нет\n"
   ]
  },
  {
   "cell_type": "markdown",
   "metadata": {},
   "source": [
    "#### Получаю список уникальных значений"
   ]
  },
  {
   "cell_type": "code",
   "execution_count": 307,
   "metadata": {},
   "outputs": [
    {
     "data": {
      "text/plain": [
       "array(['женат / замужем', 'гражданский брак', 'вдовец / вдова',\n",
       "       'в разводе', 'Не женат / не замужем'], dtype=object)"
      ]
     },
     "execution_count": 307,
     "metadata": {},
     "output_type": "execute_result"
    }
   ],
   "source": [
    "data['family_status'].unique()"
   ]
  },
  {
   "cell_type": "markdown",
   "metadata": {},
   "source": [
    "#### Прекрасные новости!\n",
    "Всего встречается 5 значений\n",
    "Неявных дубликатов нет"
   ]
  },
  {
   "cell_type": "code",
   "execution_count": 308,
   "metadata": {},
   "outputs": [
    {
     "data": {
      "image/png": "[encoded data removed]",
      "text/plain": [
       "<Figure size 432x288 with 1 Axes>"
      ]
     },
     "metadata": {
      "needs_background": "light"
     },
     "output_type": "display_data"
    }
   ],
   "source": [
    "data['family_status'].value_counts().plot(kind='bar');"
   ]
  },
  {
   "cell_type": "markdown",
   "metadata": {},
   "source": [
    "#### Можно переходить к следущей колонке"
   ]
  },
  {
   "cell_type": "markdown",
   "metadata": {},
   "source": [
    "### 7. family_status_id - идентификатор семейного положения.\n"
   ]
  },
  {
   "cell_type": "markdown",
   "metadata": {},
   "source": [
    "#### Из общей справки по данным\n",
    "- целочисленный идентификатор семейного положения. можно сделать словарь\n",
    "- пропусков нет\n"
   ]
  },
  {
   "cell_type": "markdown",
   "metadata": {},
   "source": [
    "#### Посмотрим данные в отсортированном виде"
   ]
  },
  {
   "cell_type": "code",
   "execution_count": 309,
   "metadata": {},
   "outputs": [
    {
     "data": {
      "text/plain": [
       "0    12380\n",
       "1     4177\n",
       "4     2813\n",
       "3     1195\n",
       "2      960\n",
       "Name: family_status_id, dtype: int64"
      ]
     },
     "execution_count": 309,
     "metadata": {},
     "output_type": "execute_result"
    }
   ],
   "source": [
    "data['family_status_id'].sort_values().value_counts()"
   ]
  },
  {
   "cell_type": "markdown",
   "metadata": {},
   "source": [
    "#### Распределение значений"
   ]
  },
  {
   "cell_type": "code",
   "execution_count": 310,
   "metadata": {},
   "outputs": [
    {
     "data": {
      "image/png": "[encoded data removed]",
      "text/plain": [
       "<Figure size 432x288 with 1 Axes>"
      ]
     },
     "metadata": {
      "needs_background": "light"
     },
     "output_type": "display_data"
    }
   ],
   "source": [
    "family_status_id = data['family_status_id']\n",
    "family_status_id.plot(kind='hist');"
   ]
  },
  {
   "cell_type": "markdown",
   "metadata": {},
   "source": [
    "### Для удобства оперирования данными, можно вывести колонку family_status в отдельный словарь"
   ]
  },
  {
   "cell_type": "markdown",
   "metadata": {},
   "source": [
    "Из основной таблицы data убираем колонку family_status\n",
    "И Создаём табличку 'family_status_dict' с колонками family_status_id и family_status"
   ]
  },
  {
   "cell_type": "code",
   "execution_count": 311,
   "metadata": {},
   "outputs": [
    {
     "data": {
      "text/html": [
       "<div>\n",
       "<style scoped>\n",
       "    .dataframe tbody tr th:only-of-type {\n",
       "        vertical-align: middle;\n",
       "    }\n",
       "\n",
       "    .dataframe tbody tr th {\n",
       "        vertical-align: top;\n",
       "    }\n",
       "\n",
       "    .dataframe thead th {\n",
       "        text-align: right;\n",
       "    }\n",
       "</style>\n",
       "<table border=\"1\" class=\"dataframe\">\n",
       "  <thead>\n",
       "    <tr style=\"text-align: right;\">\n",
       "      <th></th>\n",
       "      <th>family_status_id</th>\n",
       "      <th>family_status</th>\n",
       "    </tr>\n",
       "  </thead>\n",
       "  <tbody>\n",
       "    <tr>\n",
       "      <th>0</th>\n",
       "      <td>0</td>\n",
       "      <td>женат / замужем</td>\n",
       "    </tr>\n",
       "    <tr>\n",
       "      <th>1</th>\n",
       "      <td>0</td>\n",
       "      <td>женат / замужем</td>\n",
       "    </tr>\n",
       "    <tr>\n",
       "      <th>2</th>\n",
       "      <td>0</td>\n",
       "      <td>женат / замужем</td>\n",
       "    </tr>\n",
       "    <tr>\n",
       "      <th>3</th>\n",
       "      <td>0</td>\n",
       "      <td>женат / замужем</td>\n",
       "    </tr>\n",
       "    <tr>\n",
       "      <th>4</th>\n",
       "      <td>1</td>\n",
       "      <td>гражданский брак</td>\n",
       "    </tr>\n",
       "    <tr>\n",
       "      <th>...</th>\n",
       "      <td>...</td>\n",
       "      <td>...</td>\n",
       "    </tr>\n",
       "    <tr>\n",
       "      <th>21520</th>\n",
       "      <td>1</td>\n",
       "      <td>гражданский брак</td>\n",
       "    </tr>\n",
       "    <tr>\n",
       "      <th>21521</th>\n",
       "      <td>0</td>\n",
       "      <td>женат / замужем</td>\n",
       "    </tr>\n",
       "    <tr>\n",
       "      <th>21522</th>\n",
       "      <td>1</td>\n",
       "      <td>гражданский брак</td>\n",
       "    </tr>\n",
       "    <tr>\n",
       "      <th>21523</th>\n",
       "      <td>0</td>\n",
       "      <td>женат / замужем</td>\n",
       "    </tr>\n",
       "    <tr>\n",
       "      <th>21524</th>\n",
       "      <td>0</td>\n",
       "      <td>женат / замужем</td>\n",
       "    </tr>\n",
       "  </tbody>\n",
       "</table>\n",
       "<p>21525 rows × 2 columns</p>\n",
       "</div>"
      ],
      "text/plain": [
       "       family_status_id     family_status\n",
       "0                     0   женат / замужем\n",
       "1                     0   женат / замужем\n",
       "2                     0   женат / замужем\n",
       "3                     0   женат / замужем\n",
       "4                     1  гражданский брак\n",
       "...                 ...               ...\n",
       "21520                 1  гражданский брак\n",
       "21521                 0   женат / замужем\n",
       "21522                 1  гражданский брак\n",
       "21523                 0   женат / замужем\n",
       "21524                 0   женат / замужем\n",
       "\n",
       "[21525 rows x 2 columns]"
      ]
     },
     "execution_count": 311,
     "metadata": {},
     "output_type": "execute_result"
    }
   ],
   "source": [
    "# новая табличка\n",
    "family_status_dict = data[['family_status_id', 'family_status']]\n",
    "family_status_dict"
   ]
  },
  {
   "cell_type": "code",
   "execution_count": 312,
   "metadata": {},
   "outputs": [
    {
     "data": {
      "text/html": [
       "<div>\n",
       "<style scoped>\n",
       "    .dataframe tbody tr th:only-of-type {\n",
       "        vertical-align: middle;\n",
       "    }\n",
       "\n",
       "    .dataframe tbody tr th {\n",
       "        vertical-align: top;\n",
       "    }\n",
       "\n",
       "    .dataframe thead th {\n",
       "        text-align: right;\n",
       "    }\n",
       "</style>\n",
       "<table border=\"1\" class=\"dataframe\">\n",
       "  <thead>\n",
       "    <tr style=\"text-align: right;\">\n",
       "      <th></th>\n",
       "      <th>family_status_id</th>\n",
       "      <th>family_status</th>\n",
       "    </tr>\n",
       "  </thead>\n",
       "  <tbody>\n",
       "    <tr>\n",
       "      <th>0</th>\n",
       "      <td>0</td>\n",
       "      <td>женат / замужем</td>\n",
       "    </tr>\n",
       "    <tr>\n",
       "      <th>1</th>\n",
       "      <td>1</td>\n",
       "      <td>гражданский брак</td>\n",
       "    </tr>\n",
       "    <tr>\n",
       "      <th>2</th>\n",
       "      <td>2</td>\n",
       "      <td>вдовец / вдова</td>\n",
       "    </tr>\n",
       "    <tr>\n",
       "      <th>3</th>\n",
       "      <td>3</td>\n",
       "      <td>в разводе</td>\n",
       "    </tr>\n",
       "    <tr>\n",
       "      <th>4</th>\n",
       "      <td>4</td>\n",
       "      <td>Не женат / не замужем</td>\n",
       "    </tr>\n",
       "  </tbody>\n",
       "</table>\n",
       "</div>"
      ],
      "text/plain": [
       "   family_status_id          family_status\n",
       "0                 0        женат / замужем\n",
       "1                 1       гражданский брак\n",
       "2                 2         вдовец / вдова\n",
       "3                 3              в разводе\n",
       "4                 4  Не женат / не замужем"
      ]
     },
     "execution_count": 312,
     "metadata": {},
     "output_type": "execute_result"
    }
   ],
   "source": [
    "# убираем дубликаты в словаре\n",
    "family_status_dict = family_status_dict.drop_duplicates().reset_index(drop=True)\n",
    "family_status_dict"
   ]
  },
  {
   "cell_type": "markdown",
   "metadata": {},
   "source": [
    "Словарь family_status_dict готов!"
   ]
  },
  {
   "cell_type": "markdown",
   "metadata": {},
   "source": [
    "Убираю лишнюю колонку из data"
   ]
  },
  {
   "cell_type": "code",
   "execution_count": 313,
   "metadata": {},
   "outputs": [
    {
     "data": {
      "text/html": [
       "<div>\n",
       "<style scoped>\n",
       "    .dataframe tbody tr th:only-of-type {\n",
       "        vertical-align: middle;\n",
       "    }\n",
       "\n",
       "    .dataframe tbody tr th {\n",
       "        vertical-align: top;\n",
       "    }\n",
       "\n",
       "    .dataframe thead th {\n",
       "        text-align: right;\n",
       "    }\n",
       "</style>\n",
       "<table border=\"1\" class=\"dataframe\">\n",
       "  <thead>\n",
       "    <tr style=\"text-align: right;\">\n",
       "      <th></th>\n",
       "      <th>children</th>\n",
       "      <th>days_employed</th>\n",
       "      <th>dob_years</th>\n",
       "      <th>education_id</th>\n",
       "      <th>family_status_id</th>\n",
       "      <th>gender</th>\n",
       "      <th>income_type</th>\n",
       "      <th>debt</th>\n",
       "      <th>total_income</th>\n",
       "      <th>purpose</th>\n",
       "      <th>childhood</th>\n",
       "    </tr>\n",
       "  </thead>\n",
       "  <tbody>\n",
       "    <tr>\n",
       "      <th>0</th>\n",
       "      <td>1</td>\n",
       "      <td>351.57</td>\n",
       "      <td>42</td>\n",
       "      <td>0</td>\n",
       "      <td>0</td>\n",
       "      <td>F</td>\n",
       "      <td>сотрудник</td>\n",
       "      <td>0</td>\n",
       "      <td>253,875.64</td>\n",
       "      <td>покупка жилья</td>\n",
       "      <td>41.04</td>\n",
       "    </tr>\n",
       "    <tr>\n",
       "      <th>1</th>\n",
       "      <td>1</td>\n",
       "      <td>167.70</td>\n",
       "      <td>36</td>\n",
       "      <td>1</td>\n",
       "      <td>0</td>\n",
       "      <td>F</td>\n",
       "      <td>сотрудник</td>\n",
       "      <td>0</td>\n",
       "      <td>112,080.01</td>\n",
       "      <td>приобретение автомобиля</td>\n",
       "      <td>35.54</td>\n",
       "    </tr>\n",
       "    <tr>\n",
       "      <th>2</th>\n",
       "      <td>0</td>\n",
       "      <td>234.31</td>\n",
       "      <td>33</td>\n",
       "      <td>1</td>\n",
       "      <td>0</td>\n",
       "      <td>M</td>\n",
       "      <td>сотрудник</td>\n",
       "      <td>0</td>\n",
       "      <td>145,885.95</td>\n",
       "      <td>покупка жилья</td>\n",
       "      <td>32.36</td>\n",
       "    </tr>\n",
       "    <tr>\n",
       "      <th>3</th>\n",
       "      <td>3</td>\n",
       "      <td>171.86</td>\n",
       "      <td>32</td>\n",
       "      <td>1</td>\n",
       "      <td>0</td>\n",
       "      <td>M</td>\n",
       "      <td>сотрудник</td>\n",
       "      <td>0</td>\n",
       "      <td>267,628.55</td>\n",
       "      <td>дополнительное образование</td>\n",
       "      <td>31.53</td>\n",
       "    </tr>\n",
       "    <tr>\n",
       "      <th>4</th>\n",
       "      <td>0</td>\n",
       "      <td>14,177.75</td>\n",
       "      <td>53</td>\n",
       "      <td>1</td>\n",
       "      <td>1</td>\n",
       "      <td>F</td>\n",
       "      <td>пенсионер</td>\n",
       "      <td>0</td>\n",
       "      <td>158,616.08</td>\n",
       "      <td>сыграть свадьбу</td>\n",
       "      <td>14.16</td>\n",
       "    </tr>\n",
       "    <tr>\n",
       "      <th>...</th>\n",
       "      <td>...</td>\n",
       "      <td>...</td>\n",
       "      <td>...</td>\n",
       "      <td>...</td>\n",
       "      <td>...</td>\n",
       "      <td>...</td>\n",
       "      <td>...</td>\n",
       "      <td>...</td>\n",
       "      <td>...</td>\n",
       "      <td>...</td>\n",
       "      <td>...</td>\n",
       "    </tr>\n",
       "    <tr>\n",
       "      <th>21520</th>\n",
       "      <td>1</td>\n",
       "      <td>188.72</td>\n",
       "      <td>43</td>\n",
       "      <td>1</td>\n",
       "      <td>1</td>\n",
       "      <td>F</td>\n",
       "      <td>компаньон</td>\n",
       "      <td>0</td>\n",
       "      <td>224,791.86</td>\n",
       "      <td>операции с жильем</td>\n",
       "      <td>42.48</td>\n",
       "    </tr>\n",
       "    <tr>\n",
       "      <th>21521</th>\n",
       "      <td>0</td>\n",
       "      <td>14,330.73</td>\n",
       "      <td>67</td>\n",
       "      <td>1</td>\n",
       "      <td>0</td>\n",
       "      <td>F</td>\n",
       "      <td>пенсионер</td>\n",
       "      <td>0</td>\n",
       "      <td>155,999.81</td>\n",
       "      <td>сделка с автомобилем</td>\n",
       "      <td>27.74</td>\n",
       "    </tr>\n",
       "    <tr>\n",
       "      <th>21522</th>\n",
       "      <td>1</td>\n",
       "      <td>88.06</td>\n",
       "      <td>38</td>\n",
       "      <td>1</td>\n",
       "      <td>1</td>\n",
       "      <td>M</td>\n",
       "      <td>сотрудник</td>\n",
       "      <td>1</td>\n",
       "      <td>89,672.56</td>\n",
       "      <td>недвижимость</td>\n",
       "      <td>37.76</td>\n",
       "    </tr>\n",
       "    <tr>\n",
       "      <th>21523</th>\n",
       "      <td>3</td>\n",
       "      <td>129.69</td>\n",
       "      <td>38</td>\n",
       "      <td>1</td>\n",
       "      <td>0</td>\n",
       "      <td>M</td>\n",
       "      <td>сотрудник</td>\n",
       "      <td>1</td>\n",
       "      <td>244,093.05</td>\n",
       "      <td>на покупку своего автомобиля</td>\n",
       "      <td>37.64</td>\n",
       "    </tr>\n",
       "    <tr>\n",
       "      <th>21524</th>\n",
       "      <td>2</td>\n",
       "      <td>82.69</td>\n",
       "      <td>40</td>\n",
       "      <td>1</td>\n",
       "      <td>0</td>\n",
       "      <td>F</td>\n",
       "      <td>сотрудник</td>\n",
       "      <td>0</td>\n",
       "      <td>82,047.42</td>\n",
       "      <td>на покупку автомобиля</td>\n",
       "      <td>39.77</td>\n",
       "    </tr>\n",
       "  </tbody>\n",
       "</table>\n",
       "<p>21525 rows × 11 columns</p>\n",
       "</div>"
      ],
      "text/plain": [
       "       children  days_employed  dob_years  education_id  family_status_id  \\\n",
       "0             1         351.57         42             0                 0   \n",
       "1             1         167.70         36             1                 0   \n",
       "2             0         234.31         33             1                 0   \n",
       "3             3         171.86         32             1                 0   \n",
       "4             0      14,177.75         53             1                 1   \n",
       "...         ...            ...        ...           ...               ...   \n",
       "21520         1         188.72         43             1                 1   \n",
       "21521         0      14,330.73         67             1                 0   \n",
       "21522         1          88.06         38             1                 1   \n",
       "21523         3         129.69         38             1                 0   \n",
       "21524         2          82.69         40             1                 0   \n",
       "\n",
       "      gender income_type  debt  total_income                       purpose  \\\n",
       "0          F   сотрудник     0    253,875.64                 покупка жилья   \n",
       "1          F   сотрудник     0    112,080.01       приобретение автомобиля   \n",
       "2          M   сотрудник     0    145,885.95                 покупка жилья   \n",
       "3          M   сотрудник     0    267,628.55    дополнительное образование   \n",
       "4          F   пенсионер     0    158,616.08               сыграть свадьбу   \n",
       "...      ...         ...   ...           ...                           ...   \n",
       "21520      F   компаньон     0    224,791.86             операции с жильем   \n",
       "21521      F   пенсионер     0    155,999.81          сделка с автомобилем   \n",
       "21522      M   сотрудник     1     89,672.56                  недвижимость   \n",
       "21523      M   сотрудник     1    244,093.05  на покупку своего автомобиля   \n",
       "21524      F   сотрудник     0     82,047.42         на покупку автомобиля   \n",
       "\n",
       "       childhood  \n",
       "0          41.04  \n",
       "1          35.54  \n",
       "2          32.36  \n",
       "3          31.53  \n",
       "4          14.16  \n",
       "...          ...  \n",
       "21520      42.48  \n",
       "21521      27.74  \n",
       "21522      37.76  \n",
       "21523      37.64  \n",
       "21524      39.77  \n",
       "\n",
       "[21525 rows x 11 columns]"
      ]
     },
     "execution_count": 313,
     "metadata": {},
     "output_type": "execute_result"
    }
   ],
   "source": [
    "del data['family_status']\n",
    "data"
   ]
  },
  {
   "cell_type": "markdown",
   "metadata": {},
   "source": [
    "### 8. gender - пол"
   ]
  },
  {
   "cell_type": "markdown",
   "metadata": {},
   "source": [
    "#### Из общей справки по данным\n",
    "- текстовый формат\n",
    "- пропусков нет\n"
   ]
  },
  {
   "cell_type": "markdown",
   "metadata": {},
   "source": [
    "#### Смотрим уникальные значения"
   ]
  },
  {
   "cell_type": "code",
   "execution_count": 314,
   "metadata": {},
   "outputs": [
    {
     "data": {
      "text/plain": [
       "F      14236\n",
       "M       7288\n",
       "XNA        1\n",
       "Name: gender, dtype: int64"
      ]
     },
     "execution_count": 314,
     "metadata": {},
     "output_type": "execute_result"
    }
   ],
   "source": [
    "data['gender'].sort_values().value_counts()"
   ]
  },
  {
   "cell_type": "markdown",
   "metadata": {},
   "source": [
    "Женщины, женщины... Всё то они крутятся, вертятся...\n",
    "И ещё странная ХНА\n",
    "Пойду, проверю ЙЦУКЕН\n",
    "* проверка на ЙЦУКЕН не дала вменяемого результата\n",
    "Посмотрю всю строку с этим значением"
   ]
  },
  {
   "cell_type": "code",
   "execution_count": 315,
   "metadata": {},
   "outputs": [
    {
     "name": "stdout",
     "output_type": "stream",
     "text": [
      "       children  days_employed  dob_years  education_id  family_status_id  \\\n",
      "10701         0          98.28         24             2                 1   \n",
      "\n",
      "      gender income_type  debt  total_income               purpose  childhood  \n",
      "10701    XNA   компаньон     0    203,905.16  покупка недвижимости      23.73  \n"
     ]
    }
   ],
   "source": [
    "print(data.loc[data.loc[:,'gender'] == 'XNA'])  "
   ]
  },
  {
   "cell_type": "markdown",
   "metadata": {},
   "source": [
    "Я предложил заказчику **удалить** эту единственную странную строку.\n",
    "Заказчик согласился."
   ]
  },
  {
   "cell_type": "code",
   "execution_count": 316,
   "metadata": {
    "scrolled": true
   },
   "outputs": [],
   "source": [
    "data = data.loc[data['gender'] != 'XNA']\n",
    "\n",
    "#data.drop(data[data['gender'] == 'XNA'].index, inplace=True)"
   ]
  },
  {
   "cell_type": "code",
   "execution_count": 317,
   "metadata": {},
   "outputs": [
    {
     "data": {
      "text/plain": [
       "F    14236\n",
       "M     7288\n",
       "Name: gender, dtype: int64"
      ]
     },
     "execution_count": 317,
     "metadata": {},
     "output_type": "execute_result"
    }
   ],
   "source": [
    "# контроль\n",
    "data.reset_index(inplace=True)\n",
    "data['gender'].sort_values().value_counts()"
   ]
  },
  {
   "cell_type": "code",
   "execution_count": 318,
   "metadata": {},
   "outputs": [
    {
     "data": {
      "text/html": [
       "<div>\n",
       "<style scoped>\n",
       "    .dataframe tbody tr th:only-of-type {\n",
       "        vertical-align: middle;\n",
       "    }\n",
       "\n",
       "    .dataframe tbody tr th {\n",
       "        vertical-align: top;\n",
       "    }\n",
       "\n",
       "    .dataframe thead th {\n",
       "        text-align: right;\n",
       "    }\n",
       "</style>\n",
       "<table border=\"1\" class=\"dataframe\">\n",
       "  <thead>\n",
       "    <tr style=\"text-align: right;\">\n",
       "      <th></th>\n",
       "      <th>index</th>\n",
       "      <th>children</th>\n",
       "      <th>days_employed</th>\n",
       "      <th>dob_years</th>\n",
       "      <th>education_id</th>\n",
       "      <th>family_status_id</th>\n",
       "      <th>gender</th>\n",
       "      <th>income_type</th>\n",
       "      <th>debt</th>\n",
       "      <th>total_income</th>\n",
       "      <th>purpose</th>\n",
       "      <th>childhood</th>\n",
       "    </tr>\n",
       "  </thead>\n",
       "  <tbody>\n",
       "    <tr>\n",
       "      <th>10700</th>\n",
       "      <td>10700</td>\n",
       "      <td>1</td>\n",
       "      <td>21.37</td>\n",
       "      <td>37</td>\n",
       "      <td>0</td>\n",
       "      <td>0</td>\n",
       "      <td>F</td>\n",
       "      <td>компаньон</td>\n",
       "      <td>0</td>\n",
       "      <td>174,396.82</td>\n",
       "      <td>ремонт жилью</td>\n",
       "      <td>36.94</td>\n",
       "    </tr>\n",
       "    <tr>\n",
       "      <th>10701</th>\n",
       "      <td>10702</td>\n",
       "      <td>0</td>\n",
       "      <td>16,191.93</td>\n",
       "      <td>60</td>\n",
       "      <td>1</td>\n",
       "      <td>1</td>\n",
       "      <td>F</td>\n",
       "      <td>пенсионер</td>\n",
       "      <td>0</td>\n",
       "      <td>108,125.20</td>\n",
       "      <td>свадьба</td>\n",
       "      <td>15.64</td>\n",
       "    </tr>\n",
       "    <tr>\n",
       "      <th>10702</th>\n",
       "      <td>10703</td>\n",
       "      <td>0</td>\n",
       "      <td>150.83</td>\n",
       "      <td>35</td>\n",
       "      <td>1</td>\n",
       "      <td>0</td>\n",
       "      <td>F</td>\n",
       "      <td>сотрудник</td>\n",
       "      <td>0</td>\n",
       "      <td>89,817.94</td>\n",
       "      <td>получение образования</td>\n",
       "      <td>34.59</td>\n",
       "    </tr>\n",
       "  </tbody>\n",
       "</table>\n",
       "</div>"
      ],
      "text/plain": [
       "       index  children  days_employed  dob_years  education_id  \\\n",
       "10700  10700         1          21.37         37             0   \n",
       "10701  10702         0      16,191.93         60             1   \n",
       "10702  10703         0         150.83         35             1   \n",
       "\n",
       "       family_status_id gender income_type  debt  total_income  \\\n",
       "10700                 0      F   компаньон     0    174,396.82   \n",
       "10701                 1      F   пенсионер     0    108,125.20   \n",
       "10702                 0      F   сотрудник     0     89,817.94   \n",
       "\n",
       "                     purpose  childhood  \n",
       "10700           ремонт жилью      36.94  \n",
       "10701                свадьба      15.64  \n",
       "10702  получение образования      34.59  "
      ]
     },
     "execution_count": 318,
     "metadata": {},
     "output_type": "execute_result"
    }
   ],
   "source": [
    "data[10700:10703]"
   ]
  },
  {
   "cell_type": "code",
   "execution_count": null,
   "metadata": {},
   "outputs": [],
   "source": []
  },
  {
   "cell_type": "markdown",
   "metadata": {},
   "source": [
    "### Успешно удалена странная строка из dataframe"
   ]
  },
  {
   "cell_type": "markdown",
   "metadata": {},
   "source": [
    "### 9. income_type - тип занятости"
   ]
  },
  {
   "cell_type": "markdown",
   "metadata": {},
   "source": [
    "#### Из общей справки по данным\n",
    "- текстовый формат\n",
    "- пропусков нет"
   ]
  },
  {
   "cell_type": "markdown",
   "metadata": {},
   "source": [
    "#### Смотрим уникальные значения"
   ]
  },
  {
   "cell_type": "code",
   "execution_count": 319,
   "metadata": {},
   "outputs": [
    {
     "data": {
      "text/plain": [
       "сотрудник          11119\n",
       "компаньон           5084\n",
       "пенсионер           3856\n",
       "госслужащий         1459\n",
       "безработный            2\n",
       "предприниматель        2\n",
       "студент                1\n",
       "в декрете              1\n",
       "Name: income_type, dtype: int64"
      ]
     },
     "execution_count": 319,
     "metadata": {},
     "output_type": "execute_result"
    }
   ],
   "source": [
    "data['income_type'].sort_values().value_counts()"
   ]
  },
  {
   "cell_type": "markdown",
   "metadata": {},
   "source": [
    "##### у нас получается \"карманный банк\" для своих, для сотрудников и компаньонов ?\n",
    "нет. наверно всё-таки здесь ошибка в терминах"
   ]
  },
  {
   "cell_type": "markdown",
   "metadata": {},
   "source": [
    "#### Прекрасная колонка! Ничего не надо делать )))"
   ]
  },
  {
   "cell_type": "markdown",
   "metadata": {},
   "source": [
    "### 10. debt - имел ли задолженность по возврату. "
   ]
  },
  {
   "cell_type": "markdown",
   "metadata": {},
   "source": [
    "#### Из общей справки по данным\n",
    "- текстовое\n",
    "- пропусков нет"
   ]
  },
  {
   "cell_type": "markdown",
   "metadata": {},
   "source": [
    "#### Смотрим уникальные значения"
   ]
  },
  {
   "cell_type": "code",
   "execution_count": 320,
   "metadata": {},
   "outputs": [
    {
     "data": {
      "text/plain": [
       "0    19783\n",
       "1     1741\n",
       "Name: debt, dtype: int64"
      ]
     },
     "execution_count": 320,
     "metadata": {},
     "output_type": "execute_result"
    }
   ],
   "source": [
    "data['debt'].sort_values().value_counts()"
   ]
  },
  {
   "cell_type": "markdown",
   "metadata": {},
   "source": [
    "#### Вот, какие замечательные клиенты у банка!\n",
    "Задолженности имели лишь..."
   ]
  },
  {
   "cell_type": "code",
   "execution_count": 321,
   "metadata": {},
   "outputs": [
    {
     "name": "stdout",
     "output_type": "stream",
     "text": [
      "8.800485265126625 %\n"
     ]
    }
   ],
   "source": [
    "print((1741/19783)*100, '%')"
   ]
  },
  {
   "cell_type": "markdown",
   "metadata": {},
   "source": [
    "Много это или мало? Спрошу у бизнеса..."
   ]
  },
  {
   "cell_type": "markdown",
   "metadata": {},
   "source": [
    "### 11. total_income - ежемесячный доход - численное"
   ]
  },
  {
   "cell_type": "markdown",
   "metadata": {},
   "source": [
    "#### Из общей справки по данным\n",
    "- вещественное\n",
    "- есть пропуски. столько же ,сколько пропуков в колнке со стажем\n",
    "- отрицательные значения отсутствуют"
   ]
  },
  {
   "cell_type": "markdown",
   "metadata": {},
   "source": [
    "#### Смотрим в сортированном виде"
   ]
  },
  {
   "cell_type": "code",
   "execution_count": 322,
   "metadata": {},
   "outputs": [
    {
     "data": {
      "text/plain": [
       "14584   20,667.26\n",
       "13005   21,205.28\n",
       "16173   21,367.65\n",
       "1598    21,695.10\n",
       "14275   21,895.61\n",
       "           ...   \n",
       "21488         nan\n",
       "21494         nan\n",
       "21496         nan\n",
       "21501         nan\n",
       "21509         nan\n",
       "Name: total_income, Length: 21524, dtype: float64"
      ]
     },
     "execution_count": 322,
     "metadata": {},
     "output_type": "execute_result"
    }
   ],
   "source": [
    "data['total_income'].sort_values()"
   ]
  },
  {
   "cell_type": "markdown",
   "metadata": {},
   "source": [
    "#### Распределение возраст/доход"
   ]
  },
  {
   "cell_type": "code",
   "execution_count": 323,
   "metadata": {},
   "outputs": [
    {
     "data": {
      "image/png": "[encoded data removed]",
      "text/plain": [
       "<Figure size 432x288 with 1 Axes>"
      ]
     },
     "metadata": {
      "needs_background": "light"
     },
     "output_type": "display_data"
    }
   ],
   "source": [
    "data.plot.scatter(x=['dob_years'], y=['total_income']);"
   ]
  },
  {
   "cell_type": "markdown",
   "metadata": {},
   "source": [
    "#### Распределение стаж / доход"
   ]
  },
  {
   "cell_type": "code",
   "execution_count": 324,
   "metadata": {},
   "outputs": [
    {
     "data": {
      "image/png": "[encoded data removed]",
      "text/plain": [
       "<Figure size 432x288 with 1 Axes>"
      ]
     },
     "metadata": {
      "needs_background": "light"
     },
     "output_type": "display_data"
    }
   ],
   "source": [
    "data.plot.scatter(x=['days_employed'], y=['total_income']);"
   ]
  },
  {
   "cell_type": "markdown",
   "metadata": {},
   "source": [
    "Есть клиенты без указания стажа с высоким уровнем дохода.\n",
    "Интересно посмотреть их тип занятости..."
   ]
  },
  {
   "cell_type": "markdown",
   "metadata": {},
   "source": [
    "#### Соотношение образования и уровня дохода\n",
    "* высшее\n",
    "* среднее\n",
    "* неоконченное высшее\n",
    "* начальное\n",
    "* ученая степень"
   ]
  },
  {
   "cell_type": "code",
   "execution_count": 325,
   "metadata": {},
   "outputs": [
    {
     "data": {
      "image/png": "[encoded data removed]",
      "text/plain": [
       "<Figure size 432x288 with 1 Axes>"
      ]
     },
     "metadata": {
      "needs_background": "light"
     },
     "output_type": "display_data"
    }
   ],
   "source": [
    "data.plot.scatter(x=['education_id'], y=['total_income']);"
   ]
  },
  {
   "cell_type": "markdown",
   "metadata": {},
   "source": [
    "**Парадокс** - обладатели учёной степени заявляют самый низкий уровень дохода!"
   ]
  },
  {
   "cell_type": "markdown",
   "metadata": {},
   "source": [
    "#### Соотношение семейного статуса и уровня дохода\n",
    "* женат / замужем\n",
    "* гражданский брак\n",
    "* вдовец / вдова\n",
    "* в разводе\n",
    "* Не женат / не замужем"
   ]
  },
  {
   "cell_type": "code",
   "execution_count": 326,
   "metadata": {},
   "outputs": [
    {
     "data": {
      "image/png": "[encoded data removed]",
      "text/plain": [
       "<Figure size 432x288 with 1 Axes>"
      ]
     },
     "metadata": {
      "needs_background": "light"
     },
     "output_type": "display_data"
    }
   ],
   "source": [
    "data.plot.scatter(x=['family_status_id'], y=['total_income']);"
   ]
  },
  {
   "cell_type": "markdown",
   "metadata": {},
   "source": [
    "Интересная и совсем не однозначная картина."
   ]
  },
  {
   "cell_type": "markdown",
   "metadata": {},
   "source": [
    "#### Соотношение наличие задолженности и уровень дохода \n",
    "* нет задолженности\n",
    "* есть задолженность"
   ]
  },
  {
   "cell_type": "code",
   "execution_count": 327,
   "metadata": {},
   "outputs": [
    {
     "data": {
      "image/png": "[encoded data removed]",
      "text/plain": [
       "<Figure size 432x288 with 1 Axes>"
      ]
     },
     "metadata": {
      "needs_background": "light"
     },
     "output_type": "display_data"
    }
   ],
   "source": [
    "data.plot.scatter(x=['debt'], y=['total_income']);"
   ]
  },
  {
   "cell_type": "markdown",
   "metadata": {},
   "source": [
    "С более высоким уровнем дохода - меньше задолженностей."
   ]
  },
  {
   "cell_type": "markdown",
   "metadata": {},
   "source": [
    "### <font color='blue'>Начну восполнять пробелы в данных о доходах</font>"
   ]
  },
  {
   "cell_type": "markdown",
   "metadata": {},
   "source": [
    "На уровень дохода могут влиять\n",
    "    * стаж\n",
    "    * возраст\n",
    "    * образование\n",
    "    * пол\n",
    "    * тип занятости\n",
    "    \n",
    "В данных о стаже у неас пропуски в тех же строках, что и данных о доходе.\n",
    "Так что этот параметр в расчет точно не берём.\n",
    "\n",
    "Пол. Ну... Во-первых, у нас среди клиентов преобладание женщин.\n",
    "Во-вторых, в нашей стране уже значительно снизилась зависисимость заработка от пола \"в среднем по больнице\".\n",
    "Так что этот параметр тоже пока отложим.\n",
    "\n",
    "В сухом остатке\n",
    "    - возраст\n",
    "    - образование\n",
    "    - тип занятости"
   ]
  },
  {
   "cell_type": "markdown",
   "metadata": {},
   "source": [
    "Данные по образованию и типу занятости являются прямыми категориями.\n",
    "Но возраст - это набор цифр.\n",
    "Для анализа медианного значения дохода следует этот показатель свести к категориям.\n",
    "\n",
    "По исследованию данных в первой части работы:\n",
    " * медиана = 43 года\n",
    " * минимум ~ 18 лет\n"
   ]
  },
  {
   "cell_type": "markdown",
   "metadata": {},
   "source": [
    "Исследуем пропуски (згачение \"0\") в возрасте"
   ]
  },
  {
   "cell_type": "code",
   "execution_count": 328,
   "metadata": {},
   "outputs": [
    {
     "name": "stdout",
     "output_type": "stream",
     "text": [
      "<class 'pandas.core.frame.DataFrame'>\n",
      "Int64Index: 101 entries, 99 to 21312\n",
      "Data columns (total 12 columns):\n",
      " #   Column            Non-Null Count  Dtype  \n",
      "---  ------            --------------  -----  \n",
      " 0   index             101 non-null    int64  \n",
      " 1   children          101 non-null    int64  \n",
      " 2   days_employed     91 non-null     float64\n",
      " 3   dob_years         101 non-null    int64  \n",
      " 4   education_id      101 non-null    int64  \n",
      " 5   family_status_id  101 non-null    int64  \n",
      " 6   gender            101 non-null    object \n",
      " 7   income_type       101 non-null    object \n",
      " 8   debt              101 non-null    int64  \n",
      " 9   total_income      91 non-null     float64\n",
      " 10  purpose           101 non-null    object \n",
      " 11  childhood         91 non-null     float64\n",
      "dtypes: float64(3), int64(6), object(3)\n",
      "memory usage: 10.3+ KB\n"
     ]
    }
   ],
   "source": [
    "# табличка с возрастом \"0\"\n",
    "dob_years_0 = data[data['dob_years'] == 0]\n",
    "dob_years_0.info()"
   ]
  },
  {
   "cell_type": "code",
   "execution_count": 329,
   "metadata": {},
   "outputs": [
    {
     "data": {
      "text/html": [
       "<div>\n",
       "<style scoped>\n",
       "    .dataframe tbody tr th:only-of-type {\n",
       "        vertical-align: middle;\n",
       "    }\n",
       "\n",
       "    .dataframe tbody tr th {\n",
       "        vertical-align: top;\n",
       "    }\n",
       "\n",
       "    .dataframe thead th {\n",
       "        text-align: right;\n",
       "    }\n",
       "</style>\n",
       "<table border=\"1\" class=\"dataframe\">\n",
       "  <thead>\n",
       "    <tr style=\"text-align: right;\">\n",
       "      <th></th>\n",
       "      <th>index</th>\n",
       "      <th>children</th>\n",
       "      <th>days_employed</th>\n",
       "      <th>dob_years</th>\n",
       "      <th>education_id</th>\n",
       "      <th>family_status_id</th>\n",
       "      <th>debt</th>\n",
       "      <th>total_income</th>\n",
       "      <th>childhood</th>\n",
       "    </tr>\n",
       "  </thead>\n",
       "  <tbody>\n",
       "    <tr>\n",
       "      <th>count</th>\n",
       "      <td>101.00</td>\n",
       "      <td>101.00</td>\n",
       "      <td>91.00</td>\n",
       "      <td>101.00</td>\n",
       "      <td>101.00</td>\n",
       "      <td>101.00</td>\n",
       "      <td>101.00</td>\n",
       "      <td>91.00</td>\n",
       "      <td>91.00</td>\n",
       "    </tr>\n",
       "    <tr>\n",
       "      <th>mean</th>\n",
       "      <td>10,300.77</td>\n",
       "      <td>0.50</td>\n",
       "      <td>2,896.50</td>\n",
       "      <td>0.00</td>\n",
       "      <td>0.67</td>\n",
       "      <td>1.24</td>\n",
       "      <td>0.08</td>\n",
       "      <td>158,337.96</td>\n",
       "      <td>-7.94</td>\n",
       "    </tr>\n",
       "    <tr>\n",
       "      <th>std</th>\n",
       "      <td>5,826.99</td>\n",
       "      <td>0.81</td>\n",
       "      <td>5,900.53</td>\n",
       "      <td>0.00</td>\n",
       "      <td>0.51</td>\n",
       "      <td>1.52</td>\n",
       "      <td>0.27</td>\n",
       "      <td>74,381.85</td>\n",
       "      <td>16.17</td>\n",
       "    </tr>\n",
       "    <tr>\n",
       "      <th>min</th>\n",
       "      <td>99.00</td>\n",
       "      <td>0.00</td>\n",
       "      <td>4.54</td>\n",
       "      <td>0.00</td>\n",
       "      <td>0.00</td>\n",
       "      <td>0.00</td>\n",
       "      <td>0.00</td>\n",
       "      <td>34,974.45</td>\n",
       "      <td>-45.78</td>\n",
       "    </tr>\n",
       "    <tr>\n",
       "      <th>25%</th>\n",
       "      <td>6,407.00</td>\n",
       "      <td>0.00</td>\n",
       "      <td>40.29</td>\n",
       "      <td>0.00</td>\n",
       "      <td>0.00</td>\n",
       "      <td>0.00</td>\n",
       "      <td>0.00</td>\n",
       "      <td>99,582.87</td>\n",
       "      <td>-0.57</td>\n",
       "    </tr>\n",
       "    <tr>\n",
       "      <th>50%</th>\n",
       "      <td>10,545.00</td>\n",
       "      <td>0.00</td>\n",
       "      <td>73.29</td>\n",
       "      <td>0.00</td>\n",
       "      <td>1.00</td>\n",
       "      <td>1.00</td>\n",
       "      <td>0.00</td>\n",
       "      <td>152,419.18</td>\n",
       "      <td>-0.20</td>\n",
       "    </tr>\n",
       "    <tr>\n",
       "      <th>75%</th>\n",
       "      <td>14,608.00</td>\n",
       "      <td>1.00</td>\n",
       "      <td>209.25</td>\n",
       "      <td>0.00</td>\n",
       "      <td>1.00</td>\n",
       "      <td>3.00</td>\n",
       "      <td>0.00</td>\n",
       "      <td>212,549.42</td>\n",
       "      <td>-0.11</td>\n",
       "    </tr>\n",
       "    <tr>\n",
       "      <th>max</th>\n",
       "      <td>21,313.00</td>\n",
       "      <td>3.00</td>\n",
       "      <td>16,708.02</td>\n",
       "      <td>0.00</td>\n",
       "      <td>2.00</td>\n",
       "      <td>4.00</td>\n",
       "      <td>1.00</td>\n",
       "      <td>386,373.64</td>\n",
       "      <td>-0.01</td>\n",
       "    </tr>\n",
       "  </tbody>\n",
       "</table>\n",
       "</div>"
      ],
      "text/plain": [
       "          index  children  days_employed  dob_years  education_id  \\\n",
       "count    101.00    101.00          91.00     101.00        101.00   \n",
       "mean  10,300.77      0.50       2,896.50       0.00          0.67   \n",
       "std    5,826.99      0.81       5,900.53       0.00          0.51   \n",
       "min       99.00      0.00           4.54       0.00          0.00   \n",
       "25%    6,407.00      0.00          40.29       0.00          0.00   \n",
       "50%   10,545.00      0.00          73.29       0.00          1.00   \n",
       "75%   14,608.00      1.00         209.25       0.00          1.00   \n",
       "max   21,313.00      3.00      16,708.02       0.00          2.00   \n",
       "\n",
       "       family_status_id   debt  total_income  childhood  \n",
       "count            101.00 101.00         91.00      91.00  \n",
       "mean               1.24   0.08    158,337.96      -7.94  \n",
       "std                1.52   0.27     74,381.85      16.17  \n",
       "min                0.00   0.00     34,974.45     -45.78  \n",
       "25%                0.00   0.00     99,582.87      -0.57  \n",
       "50%                1.00   0.00    152,419.18      -0.20  \n",
       "75%                3.00   0.00    212,549.42      -0.11  \n",
       "max                4.00   1.00    386,373.64      -0.01  "
      ]
     },
     "execution_count": 329,
     "metadata": {},
     "output_type": "execute_result"
    }
   ],
   "source": [
    "dob_years_0.describe()"
   ]
  },
  {
   "cell_type": "markdown",
   "metadata": {},
   "source": [
    "Что ж... всё очень похоже на случайное значение \"0\" в данных по возрасту.\n",
    "\n",
    "Заполню медианными значениями по группам"
   ]
  },
  {
   "cell_type": "markdown",
   "metadata": {},
   "source": [
    "Сначала заменю \"0\" на np.NaN"
   ]
  },
  {
   "cell_type": "code",
   "execution_count": 330,
   "metadata": {},
   "outputs": [],
   "source": [
    "import numpy as np\n",
    "data['dob_years'].replace(0, np.NaN, inplace = True)"
   ]
  },
  {
   "cell_type": "code",
   "execution_count": 331,
   "metadata": {
    "scrolled": true
   },
   "outputs": [
    {
     "name": "stdout",
     "output_type": "stream",
     "text": [
      "<class 'pandas.core.frame.DataFrame'>\n",
      "RangeIndex: 21524 entries, 0 to 21523\n",
      "Data columns (total 12 columns):\n",
      " #   Column            Non-Null Count  Dtype  \n",
      "---  ------            --------------  -----  \n",
      " 0   index             21524 non-null  int64  \n",
      " 1   children          21524 non-null  int64  \n",
      " 2   days_employed     19350 non-null  float64\n",
      " 3   dob_years         21423 non-null  float64\n",
      " 4   education_id      21524 non-null  int64  \n",
      " 5   family_status_id  21524 non-null  int64  \n",
      " 6   gender            21524 non-null  object \n",
      " 7   income_type       21524 non-null  object \n",
      " 8   debt              21524 non-null  int64  \n",
      " 9   total_income      19350 non-null  float64\n",
      " 10  purpose           21524 non-null  object \n",
      " 11  childhood         19350 non-null  float64\n",
      "dtypes: float64(4), int64(5), object(3)\n",
      "memory usage: 2.0+ MB\n"
     ]
    }
   ],
   "source": [
    "# проверка\n",
    "data.info()"
   ]
  },
  {
   "cell_type": "code",
   "execution_count": 332,
   "metadata": {},
   "outputs": [
    {
     "data": {
      "text/html": [
       "<div>\n",
       "<style scoped>\n",
       "    .dataframe tbody tr th:only-of-type {\n",
       "        vertical-align: middle;\n",
       "    }\n",
       "\n",
       "    .dataframe tbody tr th {\n",
       "        vertical-align: top;\n",
       "    }\n",
       "\n",
       "    .dataframe thead th {\n",
       "        text-align: right;\n",
       "    }\n",
       "</style>\n",
       "<table border=\"1\" class=\"dataframe\">\n",
       "  <thead>\n",
       "    <tr style=\"text-align: right;\">\n",
       "      <th></th>\n",
       "      <th>index</th>\n",
       "      <th>children</th>\n",
       "      <th>days_employed</th>\n",
       "      <th>dob_years</th>\n",
       "      <th>education_id</th>\n",
       "      <th>family_status_id</th>\n",
       "      <th>gender</th>\n",
       "      <th>income_type</th>\n",
       "      <th>debt</th>\n",
       "      <th>total_income</th>\n",
       "      <th>purpose</th>\n",
       "      <th>childhood</th>\n",
       "    </tr>\n",
       "  </thead>\n",
       "  <tbody>\n",
       "    <tr>\n",
       "      <th>1981</th>\n",
       "      <td>1981</td>\n",
       "      <td>0</td>\n",
       "      <td>30.19</td>\n",
       "      <td>19.00</td>\n",
       "      <td>1</td>\n",
       "      <td>4</td>\n",
       "      <td>F</td>\n",
       "      <td>компаньон</td>\n",
       "      <td>0</td>\n",
       "      <td>59,124.07</td>\n",
       "      <td>свой автомобиль</td>\n",
       "      <td>18.92</td>\n",
       "    </tr>\n",
       "    <tr>\n",
       "      <th>15658</th>\n",
       "      <td>15659</td>\n",
       "      <td>0</td>\n",
       "      <td>39.51</td>\n",
       "      <td>19.00</td>\n",
       "      <td>2</td>\n",
       "      <td>1</td>\n",
       "      <td>F</td>\n",
       "      <td>компаньон</td>\n",
       "      <td>0</td>\n",
       "      <td>167,211.39</td>\n",
       "      <td>на покупку подержанного автомобиля</td>\n",
       "      <td>18.89</td>\n",
       "    </tr>\n",
       "    <tr>\n",
       "      <th>13020</th>\n",
       "      <td>13021</td>\n",
       "      <td>0</td>\n",
       "      <td>29.00</td>\n",
       "      <td>19.00</td>\n",
       "      <td>2</td>\n",
       "      <td>4</td>\n",
       "      <td>F</td>\n",
       "      <td>компаньон</td>\n",
       "      <td>0</td>\n",
       "      <td>165,269.03</td>\n",
       "      <td>автомобили</td>\n",
       "      <td>18.92</td>\n",
       "    </tr>\n",
       "    <tr>\n",
       "      <th>10235</th>\n",
       "      <td>10235</td>\n",
       "      <td>0</td>\n",
       "      <td>33.06</td>\n",
       "      <td>19.00</td>\n",
       "      <td>1</td>\n",
       "      <td>0</td>\n",
       "      <td>F</td>\n",
       "      <td>сотрудник</td>\n",
       "      <td>0</td>\n",
       "      <td>131,308.78</td>\n",
       "      <td>ремонт жилью</td>\n",
       "      <td>18.91</td>\n",
       "    </tr>\n",
       "    <tr>\n",
       "      <th>9218</th>\n",
       "      <td>9218</td>\n",
       "      <td>0</td>\n",
       "      <td>13.42</td>\n",
       "      <td>19.00</td>\n",
       "      <td>1</td>\n",
       "      <td>1</td>\n",
       "      <td>F</td>\n",
       "      <td>компаньон</td>\n",
       "      <td>0</td>\n",
       "      <td>103,676.48</td>\n",
       "      <td>сыграть свадьбу</td>\n",
       "      <td>18.96</td>\n",
       "    </tr>\n",
       "    <tr>\n",
       "      <th>...</th>\n",
       "      <td>...</td>\n",
       "      <td>...</td>\n",
       "      <td>...</td>\n",
       "      <td>...</td>\n",
       "      <td>...</td>\n",
       "      <td>...</td>\n",
       "      <td>...</td>\n",
       "      <td>...</td>\n",
       "      <td>...</td>\n",
       "      <td>...</td>\n",
       "      <td>...</td>\n",
       "      <td>...</td>\n",
       "    </tr>\n",
       "    <tr>\n",
       "      <th>19828</th>\n",
       "      <td>19829</td>\n",
       "      <td>0</td>\n",
       "      <td>nan</td>\n",
       "      <td>nan</td>\n",
       "      <td>1</td>\n",
       "      <td>0</td>\n",
       "      <td>F</td>\n",
       "      <td>сотрудник</td>\n",
       "      <td>0</td>\n",
       "      <td>nan</td>\n",
       "      <td>жилье</td>\n",
       "      <td>nan</td>\n",
       "    </tr>\n",
       "    <tr>\n",
       "      <th>20461</th>\n",
       "      <td>20462</td>\n",
       "      <td>0</td>\n",
       "      <td>14,113.95</td>\n",
       "      <td>nan</td>\n",
       "      <td>1</td>\n",
       "      <td>0</td>\n",
       "      <td>F</td>\n",
       "      <td>пенсионер</td>\n",
       "      <td>0</td>\n",
       "      <td>259,193.92</td>\n",
       "      <td>покупка своего жилья</td>\n",
       "      <td>-38.67</td>\n",
       "    </tr>\n",
       "    <tr>\n",
       "      <th>20576</th>\n",
       "      <td>20577</td>\n",
       "      <td>0</td>\n",
       "      <td>13,822.55</td>\n",
       "      <td>nan</td>\n",
       "      <td>1</td>\n",
       "      <td>4</td>\n",
       "      <td>F</td>\n",
       "      <td>пенсионер</td>\n",
       "      <td>0</td>\n",
       "      <td>129,788.76</td>\n",
       "      <td>недвижимость</td>\n",
       "      <td>-37.87</td>\n",
       "    </tr>\n",
       "    <tr>\n",
       "      <th>21178</th>\n",
       "      <td>21179</td>\n",
       "      <td>2</td>\n",
       "      <td>4.54</td>\n",
       "      <td>nan</td>\n",
       "      <td>0</td>\n",
       "      <td>0</td>\n",
       "      <td>M</td>\n",
       "      <td>компаньон</td>\n",
       "      <td>0</td>\n",
       "      <td>240,702.01</td>\n",
       "      <td>строительство жилой недвижимости</td>\n",
       "      <td>-0.01</td>\n",
       "    </tr>\n",
       "    <tr>\n",
       "      <th>21312</th>\n",
       "      <td>21313</td>\n",
       "      <td>0</td>\n",
       "      <td>52.85</td>\n",
       "      <td>nan</td>\n",
       "      <td>1</td>\n",
       "      <td>4</td>\n",
       "      <td>M</td>\n",
       "      <td>сотрудник</td>\n",
       "      <td>0</td>\n",
       "      <td>152,419.18</td>\n",
       "      <td>операции с жильем</td>\n",
       "      <td>-0.14</td>\n",
       "    </tr>\n",
       "  </tbody>\n",
       "</table>\n",
       "<p>21524 rows × 12 columns</p>\n",
       "</div>"
      ],
      "text/plain": [
       "       index  children  days_employed  dob_years  education_id  \\\n",
       "1981    1981         0          30.19      19.00             1   \n",
       "15658  15659         0          39.51      19.00             2   \n",
       "13020  13021         0          29.00      19.00             2   \n",
       "10235  10235         0          33.06      19.00             1   \n",
       "9218    9218         0          13.42      19.00             1   \n",
       "...      ...       ...            ...        ...           ...   \n",
       "19828  19829         0            nan        nan             1   \n",
       "20461  20462         0      14,113.95        nan             1   \n",
       "20576  20577         0      13,822.55        nan             1   \n",
       "21178  21179         2           4.54        nan             0   \n",
       "21312  21313         0          52.85        nan             1   \n",
       "\n",
       "       family_status_id gender income_type  debt  total_income  \\\n",
       "1981                  4      F   компаньон     0     59,124.07   \n",
       "15658                 1      F   компаньон     0    167,211.39   \n",
       "13020                 4      F   компаньон     0    165,269.03   \n",
       "10235                 0      F   сотрудник     0    131,308.78   \n",
       "9218                  1      F   компаньон     0    103,676.48   \n",
       "...                 ...    ...         ...   ...           ...   \n",
       "19828                 0      F   сотрудник     0           nan   \n",
       "20461                 0      F   пенсионер     0    259,193.92   \n",
       "20576                 4      F   пенсионер     0    129,788.76   \n",
       "21178                 0      M   компаньон     0    240,702.01   \n",
       "21312                 4      M   сотрудник     0    152,419.18   \n",
       "\n",
       "                                  purpose  childhood  \n",
       "1981                      свой автомобиль      18.92  \n",
       "15658  на покупку подержанного автомобиля      18.89  \n",
       "13020                          автомобили      18.92  \n",
       "10235                        ремонт жилью      18.91  \n",
       "9218                      сыграть свадьбу      18.96  \n",
       "...                                   ...        ...  \n",
       "19828                               жилье        nan  \n",
       "20461                покупка своего жилья     -38.67  \n",
       "20576                        недвижимость     -37.87  \n",
       "21178    строительство жилой недвижимости      -0.01  \n",
       "21312                   операции с жильем      -0.14  \n",
       "\n",
       "[21524 rows x 12 columns]"
      ]
     },
     "execution_count": 332,
     "metadata": {},
     "output_type": "execute_result"
    }
   ],
   "source": [
    "data.sort_values(['dob_years'])"
   ]
  },
  {
   "cell_type": "markdown",
   "metadata": {},
   "source": [
    "И меняем NaN на медианные значения по группам"
   ]
  },
  {
   "cell_type": "code",
   "execution_count": 333,
   "metadata": {},
   "outputs": [],
   "source": [
    "data['dob_years'] = data.loc[:, 'dob_years'].fillna(data.groupby('family_status_id')['dob_years'].transform('median'))"
   ]
  },
  {
   "cell_type": "code",
   "execution_count": 334,
   "metadata": {},
   "outputs": [
    {
     "name": "stdout",
     "output_type": "stream",
     "text": [
      "<class 'pandas.core.frame.DataFrame'>\n",
      "RangeIndex: 21524 entries, 0 to 21523\n",
      "Data columns (total 12 columns):\n",
      " #   Column            Non-Null Count  Dtype  \n",
      "---  ------            --------------  -----  \n",
      " 0   index             21524 non-null  int64  \n",
      " 1   children          21524 non-null  int64  \n",
      " 2   days_employed     19350 non-null  float64\n",
      " 3   dob_years         21524 non-null  float64\n",
      " 4   education_id      21524 non-null  int64  \n",
      " 5   family_status_id  21524 non-null  int64  \n",
      " 6   gender            21524 non-null  object \n",
      " 7   income_type       21524 non-null  object \n",
      " 8   debt              21524 non-null  int64  \n",
      " 9   total_income      19350 non-null  float64\n",
      " 10  purpose           21524 non-null  object \n",
      " 11  childhood         19350 non-null  float64\n",
      "dtypes: float64(4), int64(5), object(3)\n",
      "memory usage: 2.0+ MB\n"
     ]
    }
   ],
   "source": [
    "data.info()"
   ]
  },
  {
   "cell_type": "code",
   "execution_count": 335,
   "metadata": {},
   "outputs": [
    {
     "data": {
      "text/html": [
       "<div>\n",
       "<style scoped>\n",
       "    .dataframe tbody tr th:only-of-type {\n",
       "        vertical-align: middle;\n",
       "    }\n",
       "\n",
       "    .dataframe tbody tr th {\n",
       "        vertical-align: top;\n",
       "    }\n",
       "\n",
       "    .dataframe thead th {\n",
       "        text-align: right;\n",
       "    }\n",
       "</style>\n",
       "<table border=\"1\" class=\"dataframe\">\n",
       "  <thead>\n",
       "    <tr style=\"text-align: right;\">\n",
       "      <th></th>\n",
       "      <th>index</th>\n",
       "      <th>children</th>\n",
       "      <th>days_employed</th>\n",
       "      <th>dob_years</th>\n",
       "      <th>education_id</th>\n",
       "      <th>family_status_id</th>\n",
       "      <th>gender</th>\n",
       "      <th>income_type</th>\n",
       "      <th>debt</th>\n",
       "      <th>total_income</th>\n",
       "      <th>purpose</th>\n",
       "      <th>childhood</th>\n",
       "    </tr>\n",
       "  </thead>\n",
       "  <tbody>\n",
       "    <tr>\n",
       "      <th>5563</th>\n",
       "      <td>5563</td>\n",
       "      <td>0</td>\n",
       "      <td>36.89</td>\n",
       "      <td>19.00</td>\n",
       "      <td>2</td>\n",
       "      <td>4</td>\n",
       "      <td>M</td>\n",
       "      <td>сотрудник</td>\n",
       "      <td>0</td>\n",
       "      <td>91,098.23</td>\n",
       "      <td>покупка жилья для сдачи</td>\n",
       "      <td>18.90</td>\n",
       "    </tr>\n",
       "    <tr>\n",
       "      <th>4098</th>\n",
       "      <td>4098</td>\n",
       "      <td>0</td>\n",
       "      <td>4.66</td>\n",
       "      <td>19.00</td>\n",
       "      <td>1</td>\n",
       "      <td>1</td>\n",
       "      <td>M</td>\n",
       "      <td>компаньон</td>\n",
       "      <td>0</td>\n",
       "      <td>91,876.75</td>\n",
       "      <td>на проведение свадьбы</td>\n",
       "      <td>18.99</td>\n",
       "    </tr>\n",
       "    <tr>\n",
       "      <th>12046</th>\n",
       "      <td>12047</td>\n",
       "      <td>0</td>\n",
       "      <td>42.51</td>\n",
       "      <td>19.00</td>\n",
       "      <td>1</td>\n",
       "      <td>4</td>\n",
       "      <td>M</td>\n",
       "      <td>сотрудник</td>\n",
       "      <td>1</td>\n",
       "      <td>93,343.13</td>\n",
       "      <td>операции со своей недвижимостью</td>\n",
       "      <td>18.88</td>\n",
       "    </tr>\n",
       "    <tr>\n",
       "      <th>2725</th>\n",
       "      <td>2725</td>\n",
       "      <td>0</td>\n",
       "      <td>4.83</td>\n",
       "      <td>19.00</td>\n",
       "      <td>1</td>\n",
       "      <td>4</td>\n",
       "      <td>F</td>\n",
       "      <td>компаньон</td>\n",
       "      <td>0</td>\n",
       "      <td>131,967.26</td>\n",
       "      <td>операции с коммерческой недвижимостью</td>\n",
       "      <td>18.99</td>\n",
       "    </tr>\n",
       "    <tr>\n",
       "      <th>10235</th>\n",
       "      <td>10235</td>\n",
       "      <td>0</td>\n",
       "      <td>33.06</td>\n",
       "      <td>19.00</td>\n",
       "      <td>1</td>\n",
       "      <td>0</td>\n",
       "      <td>F</td>\n",
       "      <td>сотрудник</td>\n",
       "      <td>0</td>\n",
       "      <td>131,308.78</td>\n",
       "      <td>ремонт жилью</td>\n",
       "      <td>18.91</td>\n",
       "    </tr>\n",
       "    <tr>\n",
       "      <th>...</th>\n",
       "      <td>...</td>\n",
       "      <td>...</td>\n",
       "      <td>...</td>\n",
       "      <td>...</td>\n",
       "      <td>...</td>\n",
       "      <td>...</td>\n",
       "      <td>...</td>\n",
       "      <td>...</td>\n",
       "      <td>...</td>\n",
       "      <td>...</td>\n",
       "      <td>...</td>\n",
       "      <td>...</td>\n",
       "    </tr>\n",
       "    <tr>\n",
       "      <th>11531</th>\n",
       "      <td>11532</td>\n",
       "      <td>0</td>\n",
       "      <td>278.45</td>\n",
       "      <td>74.00</td>\n",
       "      <td>1</td>\n",
       "      <td>1</td>\n",
       "      <td>F</td>\n",
       "      <td>сотрудник</td>\n",
       "      <td>0</td>\n",
       "      <td>98,945.91</td>\n",
       "      <td>сыграть свадьбу</td>\n",
       "      <td>73.24</td>\n",
       "    </tr>\n",
       "    <tr>\n",
       "      <th>2557</th>\n",
       "      <td>2557</td>\n",
       "      <td>0</td>\n",
       "      <td>15,535.88</td>\n",
       "      <td>74.00</td>\n",
       "      <td>1</td>\n",
       "      <td>0</td>\n",
       "      <td>F</td>\n",
       "      <td>пенсионер</td>\n",
       "      <td>0</td>\n",
       "      <td>42,927.30</td>\n",
       "      <td>автомобили</td>\n",
       "      <td>31.44</td>\n",
       "    </tr>\n",
       "    <tr>\n",
       "      <th>3460</th>\n",
       "      <td>3460</td>\n",
       "      <td>0</td>\n",
       "      <td>14,359.33</td>\n",
       "      <td>74.00</td>\n",
       "      <td>1</td>\n",
       "      <td>0</td>\n",
       "      <td>M</td>\n",
       "      <td>пенсионер</td>\n",
       "      <td>0</td>\n",
       "      <td>54,754.75</td>\n",
       "      <td>операции со своей недвижимостью</td>\n",
       "      <td>34.66</td>\n",
       "    </tr>\n",
       "    <tr>\n",
       "      <th>4895</th>\n",
       "      <td>4895</td>\n",
       "      <td>0</td>\n",
       "      <td>14,230.34</td>\n",
       "      <td>74.00</td>\n",
       "      <td>0</td>\n",
       "      <td>0</td>\n",
       "      <td>F</td>\n",
       "      <td>пенсионер</td>\n",
       "      <td>0</td>\n",
       "      <td>134,935.35</td>\n",
       "      <td>покупка своего жилья</td>\n",
       "      <td>35.01</td>\n",
       "    </tr>\n",
       "    <tr>\n",
       "      <th>8880</th>\n",
       "      <td>8880</td>\n",
       "      <td>0</td>\n",
       "      <td>69.96</td>\n",
       "      <td>75.00</td>\n",
       "      <td>1</td>\n",
       "      <td>2</td>\n",
       "      <td>F</td>\n",
       "      <td>госслужащий</td>\n",
       "      <td>0</td>\n",
       "      <td>153,282.65</td>\n",
       "      <td>заняться образованием</td>\n",
       "      <td>74.81</td>\n",
       "    </tr>\n",
       "  </tbody>\n",
       "</table>\n",
       "<p>21524 rows × 12 columns</p>\n",
       "</div>"
      ],
      "text/plain": [
       "       index  children  days_employed  dob_years  education_id  \\\n",
       "5563    5563         0          36.89      19.00             2   \n",
       "4098    4098         0           4.66      19.00             1   \n",
       "12046  12047         0          42.51      19.00             1   \n",
       "2725    2725         0           4.83      19.00             1   \n",
       "10235  10235         0          33.06      19.00             1   \n",
       "...      ...       ...            ...        ...           ...   \n",
       "11531  11532         0         278.45      74.00             1   \n",
       "2557    2557         0      15,535.88      74.00             1   \n",
       "3460    3460         0      14,359.33      74.00             1   \n",
       "4895    4895         0      14,230.34      74.00             0   \n",
       "8880    8880         0          69.96      75.00             1   \n",
       "\n",
       "       family_status_id gender  income_type  debt  total_income  \\\n",
       "5563                  4      M    сотрудник     0     91,098.23   \n",
       "4098                  1      M    компаньон     0     91,876.75   \n",
       "12046                 4      M    сотрудник     1     93,343.13   \n",
       "2725                  4      F    компаньон     0    131,967.26   \n",
       "10235                 0      F    сотрудник     0    131,308.78   \n",
       "...                 ...    ...          ...   ...           ...   \n",
       "11531                 1      F    сотрудник     0     98,945.91   \n",
       "2557                  0      F    пенсионер     0     42,927.30   \n",
       "3460                  0      M    пенсионер     0     54,754.75   \n",
       "4895                  0      F    пенсионер     0    134,935.35   \n",
       "8880                  2      F  госслужащий     0    153,282.65   \n",
       "\n",
       "                                     purpose  childhood  \n",
       "5563                 покупка жилья для сдачи      18.90  \n",
       "4098                   на проведение свадьбы      18.99  \n",
       "12046        операции со своей недвижимостью      18.88  \n",
       "2725   операции с коммерческой недвижимостью      18.99  \n",
       "10235                           ремонт жилью      18.91  \n",
       "...                                      ...        ...  \n",
       "11531                        сыграть свадьбу      73.24  \n",
       "2557                              автомобили      31.44  \n",
       "3460         операции со своей недвижимостью      34.66  \n",
       "4895                    покупка своего жилья      35.01  \n",
       "8880                   заняться образованием      74.81  \n",
       "\n",
       "[21524 rows x 12 columns]"
      ]
     },
     "execution_count": 335,
     "metadata": {},
     "output_type": "execute_result"
    }
   ],
   "source": [
    "data.sort_values(['dob_years'])"
   ]
  },
  {
   "cell_type": "markdown",
   "metadata": {},
   "source": [
    "### <font color='blue'>Заполняем пропуски дохода</font>"
   ]
  },
  {
   "cell_type": "code",
   "execution_count": 336,
   "metadata": {
    "scrolled": true
   },
   "outputs": [],
   "source": [
    "data['total_income'] = data['total_income'].fillna(data.groupby(['income_type', 'family_status_id', 'education_id'])['total_income'].transform('median'))"
   ]
  },
  {
   "cell_type": "markdown",
   "metadata": {},
   "source": [
    "<font color='blue'>Спасибо. Учту.</font>"
   ]
  },
  {
   "cell_type": "markdown",
   "metadata": {},
   "source": [
    "#### <font color='blue'>Вот что получилось</font>"
   ]
  },
  {
   "cell_type": "markdown",
   "metadata": {},
   "source": [
    "#### Распределение возраст/доход\n"
   ]
  },
  {
   "cell_type": "markdown",
   "metadata": {},
   "source": [
    "Стало"
   ]
  },
  {
   "cell_type": "code",
   "execution_count": 337,
   "metadata": {},
   "outputs": [
    {
     "data": {
      "image/png": "[encoded data removed]",
      "text/plain": [
       "<Figure size 432x288 with 1 Axes>"
      ]
     },
     "metadata": {
      "needs_background": "light"
     },
     "output_type": "display_data"
    }
   ],
   "source": [
    "data.plot.scatter(x=['dob_years'], y=['total_income']);"
   ]
  },
  {
   "cell_type": "markdown",
   "metadata": {},
   "source": [
    "### 12. purpose - цель получения кредита"
   ]
  },
  {
   "cell_type": "markdown",
   "metadata": {},
   "source": [
    "#### Из общей справки по данным\n",
    "- текстовое\n",
    "- пропусков нет"
   ]
  },
  {
   "cell_type": "markdown",
   "metadata": {},
   "source": [
    "#### Смотрим уникальные значения"
   ]
  },
  {
   "cell_type": "code",
   "execution_count": 338,
   "metadata": {},
   "outputs": [
    {
     "data": {
      "text/plain": [
       "свадьба                                   797\n",
       "на проведение свадьбы                     777\n",
       "сыграть свадьбу                           774\n",
       "операции с недвижимостью                  676\n",
       "покупка коммерческой недвижимости         664\n",
       "покупка жилья для сдачи                   653\n",
       "операции с жильем                         653\n",
       "операции с коммерческой недвижимостью     651\n",
       "жилье                                     647\n",
       "покупка жилья                             647\n",
       "покупка жилья для семьи                   641\n",
       "строительство собственной недвижимости    635\n",
       "недвижимость                              634\n",
       "операции со своей недвижимостью           630\n",
       "строительство жилой недвижимости          626\n",
       "покупка недвижимости                      623\n",
       "строительство недвижимости                620\n",
       "покупка своего жилья                      620\n",
       "ремонт жилью                              612\n",
       "покупка жилой недвижимости                607\n",
       "на покупку своего автомобиля              505\n",
       "заняться высшим образованием              496\n",
       "автомобиль                                495\n",
       "сделка с подержанным автомобилем          489\n",
       "свой автомобиль                           480\n",
       "на покупку подержанного автомобиля        479\n",
       "автомобили                                478\n",
       "на покупку автомобиля                     472\n",
       "дополнительное образование                462\n",
       "приобретение автомобиля                   462\n",
       "сделка с автомобилем                      455\n",
       "высшее образование                        453\n",
       "получение дополнительного образования     447\n",
       "образование                               447\n",
       "получение образования                     443\n",
       "профильное образование                    436\n",
       "получение высшего образования             426\n",
       "заняться образованием                     412\n",
       "Name: purpose, dtype: int64"
      ]
     },
     "execution_count": 338,
     "metadata": {},
     "output_type": "execute_result"
    }
   ],
   "source": [
    "data['purpose'].sort_values().value_counts()"
   ]
  },
  {
   "cell_type": "markdown",
   "metadata": {},
   "source": [
    "Видим множество неявных дубликатов"
   ]
  },
  {
   "cell_type": "markdown",
   "metadata": {},
   "source": [
    "#### Создам список уникальных значений"
   ]
  },
  {
   "cell_type": "code",
   "execution_count": 339,
   "metadata": {},
   "outputs": [
    {
     "data": {
      "text/plain": [
       "array(['покупка жилья', 'приобретение автомобиля',\n",
       "       'дополнительное образование', 'сыграть свадьбу',\n",
       "       'операции с жильем', 'образование', 'на проведение свадьбы',\n",
       "       'покупка жилья для семьи', 'покупка недвижимости',\n",
       "       'покупка коммерческой недвижимости', 'покупка жилой недвижимости',\n",
       "       'строительство собственной недвижимости', 'недвижимость',\n",
       "       'строительство недвижимости', 'на покупку подержанного автомобиля',\n",
       "       'на покупку своего автомобиля',\n",
       "       'операции с коммерческой недвижимостью',\n",
       "       'строительство жилой недвижимости', 'жилье',\n",
       "       'операции со своей недвижимостью', 'автомобили',\n",
       "       'заняться образованием', 'сделка с подержанным автомобилем',\n",
       "       'получение образования', 'автомобиль', 'свадьба',\n",
       "       'получение дополнительного образования', 'покупка своего жилья',\n",
       "       'операции с недвижимостью', 'получение высшего образования',\n",
       "       'свой автомобиль', 'сделка с автомобилем',\n",
       "       'профильное образование', 'высшее образование',\n",
       "       'покупка жилья для сдачи', 'на покупку автомобиля', 'ремонт жилью',\n",
       "       'заняться высшим образованием'], dtype=object)"
      ]
     },
     "execution_count": 339,
     "metadata": {},
     "output_type": "execute_result"
    }
   ],
   "source": [
    "purpose_unique = data['purpose'].unique()\n",
    "purpose_unique"
   ]
  },
  {
   "cell_type": "markdown",
   "metadata": {},
   "source": [
    "# Предварительное знакомство с данными показало то, что кое-что в них было не так.\n"
   ]
  },
  {
   "cell_type": "markdown",
   "metadata": {},
   "source": [
    "## children"
   ]
  },
  {
   "cell_type": "markdown",
   "metadata": {},
   "source": [
    "### отрицательные значения\n",
    "исправлено"
   ]
  },
  {
   "cell_type": "markdown",
   "metadata": {},
   "source": [
    "### гигантское количество\n",
    "убран \"0\" в числе"
   ]
  },
  {
   "cell_type": "code",
   "execution_count": 340,
   "metadata": {},
   "outputs": [
    {
     "data": {
      "image/png": "[encoded data removed]",
      "text/plain": [
       "<Figure size 432x288 with 1 Axes>"
      ]
     },
     "metadata": {
      "needs_background": "light"
     },
     "output_type": "display_data"
    }
   ],
   "source": [
    "childrens.plot(kind='hist');"
   ]
  },
  {
   "cell_type": "markdown",
   "metadata": {},
   "source": [
    "Прав Владимр Владимирович. Мало детей у нас..."
   ]
  },
  {
   "cell_type": "markdown",
   "metadata": {},
   "source": [
    "## days_employed"
   ]
  },
  {
   "cell_type": "markdown",
   "metadata": {},
   "source": [
    "### странные числа\n",
    "методом сортировки вывлено минимальное количество, очень похожее на количество часов в сутках\n",
    "значения заменены делением на 24"
   ]
  },
  {
   "cell_type": "markdown",
   "metadata": {},
   "source": [
    "### отрицательные значения\n",
    "отрицательные значения заменены на положительные"
   ]
  },
  {
   "cell_type": "markdown",
   "metadata": {},
   "source": [
    "### пропущенные значения\n",
    "пока оставлено без изменений"
   ]
  },
  {
   "cell_type": "code",
   "execution_count": 341,
   "metadata": {},
   "outputs": [
    {
     "data": {
      "image/png": "[encoded data removed]",
      "text/plain": [
       "<Figure size 432x288 with 1 Axes>"
      ]
     },
     "metadata": {
      "needs_background": "light"
     },
     "output_type": "display_data"
    }
   ],
   "source": [
    "data.plot.scatter(x=['dob_years'], y=['days_employed']);"
   ]
  },
  {
   "cell_type": "markdown",
   "metadata": {},
   "source": [
    "Безвозрастные умудрились наработать трудовой стаж.\n",
    "<font color='blue'>Но мы уже избавились от безвозрастных - наградили их жизнью</font>"
   ]
  },
  {
   "cell_type": "markdown",
   "metadata": {},
   "source": [
    "## dob_years"
   ]
  },
  {
   "cell_type": "markdown",
   "metadata": {},
   "source": [
    "### пропущенные значения\n",
    "пока оставлено без изменений"
   ]
  },
  {
   "cell_type": "code",
   "execution_count": 342,
   "metadata": {},
   "outputs": [
    {
     "data": {
      "image/png": "[encoded data removed]",
      "text/plain": [
       "<Figure size 432x288 with 1 Axes>"
      ]
     },
     "metadata": {
      "needs_background": "light"
     },
     "output_type": "display_data"
    }
   ],
   "source": [
    "dob_year.plot(kind='hist');"
   ]
  },
  {
   "cell_type": "markdown",
   "metadata": {},
   "source": [
    "Безвозрастных мало, а основная возрастная группа - 30 - 50 лет."
   ]
  },
  {
   "cell_type": "markdown",
   "metadata": {},
   "source": [
    "## education\n",
    "только странно, что клиенты с учёной степенью имеют малый доход\n"
   ]
  },
  {
   "cell_type": "markdown",
   "metadata": {},
   "source": [
    "### неявные дубликаты\n",
    "из-за применения разного регистра\n",
    "исправлено"
   ]
  },
  {
   "cell_type": "markdown",
   "metadata": {},
   "source": [
    "### по сути, дублируется колонкой education_id\n",
    "столбец удалён\n",
    "сформирован словарь с education_id"
   ]
  },
  {
   "cell_type": "markdown",
   "metadata": {},
   "source": [
    "## education_id\n",
    "всё хорошо\n",
    "сформирован словарь для education"
   ]
  },
  {
   "cell_type": "markdown",
   "metadata": {},
   "source": [
    "## family_status  и family_status_id\n",
    "сформирован словарь\n",
    "излишний столбец family_status удалён"
   ]
  },
  {
   "cell_type": "markdown",
   "metadata": {},
   "source": [
    "## gender\n",
    "почти всё хорошо"
   ]
  },
  {
   "cell_type": "markdown",
   "metadata": {},
   "source": [
    "### Успешно удалена странная строка из dataframe"
   ]
  },
  {
   "cell_type": "code",
   "execution_count": 343,
   "metadata": {},
   "outputs": [
    {
     "data": {
      "text/plain": [
       "F    14236\n",
       "M     7288\n",
       "Name: gender, dtype: int64"
      ]
     },
     "execution_count": 343,
     "metadata": {},
     "output_type": "execute_result"
    }
   ],
   "source": [
    "data['gender'].sort_values().value_counts()"
   ]
  },
  {
   "cell_type": "markdown",
   "metadata": {},
   "source": [
    "## income_type\n",
    "всё прекрасно"
   ]
  },
  {
   "cell_type": "code",
   "execution_count": 344,
   "metadata": {},
   "outputs": [
    {
     "data": {
      "text/plain": [
       "сотрудник          11119\n",
       "компаньон           5084\n",
       "пенсионер           3856\n",
       "госслужащий         1459\n",
       "безработный            2\n",
       "предприниматель        2\n",
       "студент                1\n",
       "в декрете              1\n",
       "Name: income_type, dtype: int64"
      ]
     },
     "execution_count": 344,
     "metadata": {},
     "output_type": "execute_result"
    }
   ],
   "source": [
    "data['income_type'].sort_values().value_counts()"
   ]
  },
  {
   "cell_type": "markdown",
   "metadata": {},
   "source": [
    "## debt\n",
    "данные в отличном состоянии"
   ]
  },
  {
   "cell_type": "code",
   "execution_count": 345,
   "metadata": {},
   "outputs": [
    {
     "data": {
      "text/plain": [
       "0    19783\n",
       "1     1741\n",
       "Name: debt, dtype: int64"
      ]
     },
     "execution_count": 345,
     "metadata": {},
     "output_type": "execute_result"
    }
   ],
   "source": [
    "data['debt'].sort_values().value_counts()"
   ]
  },
  {
   "cell_type": "markdown",
   "metadata": {},
   "source": [
    "Вот, какие замечательные клиенты у банка!"
   ]
  },
  {
   "cell_type": "markdown",
   "metadata": {},
   "source": [
    "## total_income"
   ]
  },
  {
   "cell_type": "markdown",
   "metadata": {},
   "source": [
    "### есть незначительное (~10%) количество пропусков\n",
    "пока что пропуски оставил как есть"
   ]
  },
  {
   "cell_type": "markdown",
   "metadata": {},
   "source": [
    "Распределение возраст/доход"
   ]
  },
  {
   "cell_type": "code",
   "execution_count": 346,
   "metadata": {},
   "outputs": [
    {
     "data": {
      "image/png": "[encoded data removed]",
      "text/plain": [
       "<Figure size 432x288 with 1 Axes>"
      ]
     },
     "metadata": {
      "needs_background": "light"
     },
     "output_type": "display_data"
    }
   ],
   "source": [
    "data.plot.scatter(x=['dob_years'], y=['total_income']);"
   ]
  },
  {
   "cell_type": "markdown",
   "metadata": {},
   "source": [
    "## purpose\n",
    "нет пропусков\n",
    "есть неявные дубликаты"
   ]
  },
  {
   "cell_type": "markdown",
   "metadata": {},
   "source": [
    "## Шаг 2. Предобработка данных"
   ]
  },
  {
   "cell_type": "markdown",
   "metadata": {},
   "source": [
    "## Обработка пропусков"
   ]
  },
  {
   "cell_type": "markdown",
   "metadata": {},
   "source": [
    "\n",
    "Для обработки пропусков, обратим внимание на вопросы, поставленные в качестве целей исследования.\n",
    "\n",
    "Это\n",
    "- Есть ли зависимость между наличием детей и возвратом кредита в срок?\n",
    "- Есть ли зависимость между семейным положением и возвратом кредита в срок?\n",
    "- Есть ли зависимость между уровнем дохода и возвратом кредита в срок?\n",
    "- Как разные цели кредита влияют на его возврат в срок?\n",
    "\n",
    "Прорабатываем пропуски последовательно."
   ]
  },
  {
   "cell_type": "markdown",
   "metadata": {},
   "source": [
    "### ...детей ..."
   ]
  },
  {
   "cell_type": "markdown",
   "metadata": {},
   "source": [
    "#### есть ли пропуски в детях?\n",
    "из первого раздела известно, что данных о количестве детей, пропусков нет.\n",
    "а со странными значениями уже справились"
   ]
  },
  {
   "cell_type": "code",
   "execution_count": 347,
   "metadata": {},
   "outputs": [
    {
     "data": {
      "text/plain": [
       "0    14148\n",
       "1     4865\n",
       "2     2131\n",
       "3      330\n",
       "4       41\n",
       "5        9\n",
       "Name: children, dtype: int64"
      ]
     },
     "execution_count": 347,
     "metadata": {},
     "output_type": "execute_result"
    }
   ],
   "source": [
    "data['children'].value_counts()"
   ]
  },
  {
   "cell_type": "markdown",
   "metadata": {},
   "source": [
    "### ...семейное положение ..."
   ]
  },
  {
   "cell_type": "markdown",
   "metadata": {},
   "source": [
    "#### есть ли пропуски в данных о семейном положении?\n",
    "из первого раздела известно, что таких пропусков нет.\n",
    "а со странными значениями уже справились"
   ]
  },
  {
   "cell_type": "code",
   "execution_count": 348,
   "metadata": {
    "scrolled": false
   },
   "outputs": [
    {
     "data": {
      "text/plain": [
       "0    12380\n",
       "1     4176\n",
       "4     2813\n",
       "3     1195\n",
       "2      960\n",
       "Name: family_status_id, dtype: int64"
      ]
     },
     "execution_count": 348,
     "metadata": {},
     "output_type": "execute_result"
    }
   ],
   "source": [
    "data['family_status_id'].value_counts()"
   ]
  },
  {
   "cell_type": "markdown",
   "metadata": {},
   "source": [
    "### ...уровень дохода ..."
   ]
  },
  {
   "cell_type": "markdown",
   "metadata": {},
   "source": [
    "#### есть ли пропуски в данных об уровне дохода?\n",
    "из первого раздела известно, что такие пропуски есть.\n",
    "посмотрим на них более пристально"
   ]
  },
  {
   "cell_type": "code",
   "execution_count": 349,
   "metadata": {},
   "outputs": [
    {
     "data": {
      "text/plain": [
       "2"
      ]
     },
     "execution_count": 349,
     "metadata": {},
     "output_type": "execute_result"
    }
   ],
   "source": [
    "data['total_income'].isna().sum()"
   ]
  },
  {
   "cell_type": "markdown",
   "metadata": {},
   "source": [
    "2 строк пропуском значений"
   ]
  },
  {
   "cell_type": "markdown",
   "metadata": {},
   "source": [
    "<font color='blue'>ДВЕ строки можно удалить без последствий для результатов анализа</font>"
   ]
  },
  {
   "cell_type": "code",
   "execution_count": 350,
   "metadata": {
    "scrolled": true
   },
   "outputs": [
    {
     "data": {
      "text/html": [
       "<div>\n",
       "<style scoped>\n",
       "    .dataframe tbody tr th:only-of-type {\n",
       "        vertical-align: middle;\n",
       "    }\n",
       "\n",
       "    .dataframe tbody tr th {\n",
       "        vertical-align: top;\n",
       "    }\n",
       "\n",
       "    .dataframe thead th {\n",
       "        text-align: right;\n",
       "    }\n",
       "</style>\n",
       "<table border=\"1\" class=\"dataframe\">\n",
       "  <thead>\n",
       "    <tr style=\"text-align: right;\">\n",
       "      <th></th>\n",
       "      <th>index</th>\n",
       "      <th>children</th>\n",
       "      <th>days_employed</th>\n",
       "      <th>dob_years</th>\n",
       "      <th>education_id</th>\n",
       "      <th>family_status_id</th>\n",
       "      <th>gender</th>\n",
       "      <th>income_type</th>\n",
       "      <th>debt</th>\n",
       "      <th>total_income</th>\n",
       "      <th>purpose</th>\n",
       "      <th>childhood</th>\n",
       "    </tr>\n",
       "  </thead>\n",
       "  <tbody>\n",
       "    <tr>\n",
       "      <th>5936</th>\n",
       "      <td>5936</td>\n",
       "      <td>0</td>\n",
       "      <td>nan</td>\n",
       "      <td>58.00</td>\n",
       "      <td>0</td>\n",
       "      <td>0</td>\n",
       "      <td>M</td>\n",
       "      <td>предприниматель</td>\n",
       "      <td>0</td>\n",
       "      <td>nan</td>\n",
       "      <td>покупка жилой недвижимости</td>\n",
       "      <td>nan</td>\n",
       "    </tr>\n",
       "    <tr>\n",
       "      <th>12406</th>\n",
       "      <td>12407</td>\n",
       "      <td>0</td>\n",
       "      <td>nan</td>\n",
       "      <td>57.00</td>\n",
       "      <td>2</td>\n",
       "      <td>3</td>\n",
       "      <td>F</td>\n",
       "      <td>пенсионер</td>\n",
       "      <td>0</td>\n",
       "      <td>nan</td>\n",
       "      <td>получение высшего образования</td>\n",
       "      <td>nan</td>\n",
       "    </tr>\n",
       "  </tbody>\n",
       "</table>\n",
       "</div>"
      ],
      "text/plain": [
       "       index  children  days_employed  dob_years  education_id  \\\n",
       "5936    5936         0            nan      58.00             0   \n",
       "12406  12407         0            nan      57.00             2   \n",
       "\n",
       "       family_status_id gender      income_type  debt  total_income  \\\n",
       "5936                  0      M  предприниматель     0           nan   \n",
       "12406                 3      F        пенсионер     0           nan   \n",
       "\n",
       "                             purpose  childhood  \n",
       "5936      покупка жилой недвижимости        nan  \n",
       "12406  получение высшего образования        nan  "
      ]
     },
     "execution_count": 350,
     "metadata": {},
     "output_type": "execute_result"
    }
   ],
   "source": [
    "income_nan = data.loc[data['total_income'].isna()]\n",
    "income_nan"
   ]
  },
  {
   "cell_type": "markdown",
   "metadata": {},
   "source": [
    "Из принта видно, что Nan одновременно встречается в колонках days_employed и total_income (и вычесленном childhood)\n",
    "всего 2 строки\n",
    "\n",
    "<font color='blue'>Для предпринимателя и пенсионера не нашлось похожих )))</font>"
   ]
  },
  {
   "cell_type": "code",
   "execution_count": 351,
   "metadata": {},
   "outputs": [
    {
     "name": "stdout",
     "output_type": "stream",
     "text": [
      "5936     True\n",
      "12406    True\n",
      "Name: days_employed, dtype: bool\n"
     ]
    }
   ],
   "source": [
    "print(income_nan['days_employed'].isna().sort_values())"
   ]
  },
  {
   "cell_type": "markdown",
   "metadata": {},
   "source": [
    "В отсортированном принте отсутсвуют False.\n",
    "Это значит то, что во всех строках NaN для total_income также NaN и в days_employed"
   ]
  },
  {
   "cell_type": "markdown",
   "metadata": {},
   "source": [
    "Посмотрим, как распределяются строки NaN в разрезе других колонок"
   ]
  },
  {
   "cell_type": "code",
   "execution_count": 352,
   "metadata": {},
   "outputs": [
    {
     "data": {
      "text/plain": [
       "0    2\n",
       "Name: children, dtype: int64"
      ]
     },
     "execution_count": 352,
     "metadata": {},
     "output_type": "execute_result"
    }
   ],
   "source": [
    "# количество детей \n",
    "income_nan['children'].value_counts()"
   ]
  },
  {
   "cell_type": "code",
   "execution_count": 353,
   "metadata": {},
   "outputs": [
    {
     "data": {
      "image/png": "[encoded data removed]",
      "text/plain": [
       "<Figure size 432x288 with 1 Axes>"
      ]
     },
     "metadata": {
      "needs_background": "light"
     },
     "output_type": "display_data"
    }
   ],
   "source": [
    "# возраст\n",
    "income_nan['dob_years'].plot(kind='hist');"
   ]
  },
  {
   "cell_type": "code",
   "execution_count": 354,
   "metadata": {},
   "outputs": [
    {
     "data": {
      "text/plain": [
       "пенсионер          1\n",
       "предприниматель    1\n",
       "Name: income_type, dtype: int64"
      ]
     },
     "execution_count": 354,
     "metadata": {},
     "output_type": "execute_result"
    }
   ],
   "source": [
    "# тип занятости\n",
    "\n",
    "income_nan['income_type'].value_counts()"
   ]
  },
  {
   "cell_type": "markdown",
   "metadata": {},
   "source": [
    "Никаких аномалий не выявлено. Распределение примерно похоже на общее распределение данных по остальным показателям среди общей массы."
   ]
  },
  {
   "cell_type": "markdown",
   "metadata": {},
   "source": [
    "Для ответа на поставленный перед исследованием вопрос\n",
    "- Есть ли зависимость между уровнем дохода и возвратом кредита в срок?\n",
    "строки с пропущенными значениями в колонке total_income исключаем из анализа, принимая к сведению несущественное (<font color='blue'>ДВЕ</font>) их количество.\n",
    "Имеем в виду, что одновременно в такой выборке данных также будут отсутвовать пропуски в колонке days_employed\n",
    "\n",
    "(после создания колонки категорий целей кредитования)"
   ]
  },
  {
   "cell_type": "markdown",
   "metadata": {},
   "source": [
    "### ...цель получения кредита ..."
   ]
  },
  {
   "cell_type": "markdown",
   "metadata": {},
   "source": [
    "#### есть ли пропуски в данных о целях получения кредита?\n",
    "из первого раздела известно, что таких пропусков нет.\n",
    "также составлен словарь, в котором выделены категории целей\n"
   ]
  },
  {
   "cell_type": "markdown",
   "metadata": {},
   "source": [
    "**Вывод**"
   ]
  },
  {
   "cell_type": "markdown",
   "metadata": {},
   "source": [
    "Данные подготовлены для работы.\n",
    "\n",
    "Для ответа на вопросы\n",
    "* Есть ли зависимость между наличием детей и возвратом кредита в срок?\n",
    "* Есть ли зависимость между семейным положением и возвратом кредита в срок?\n",
    "* Как разные цели кредита влияют на его возврат в срок?\n",
    "исследуем данные в data\n",
    "\n",
    "Для ответа на вопрос \n",
    "* Есть ли зависимость между уровнем дохода и возвратом кредита в срок?\n",
    "исследуем data_not_na"
   ]
  },
  {
   "cell_type": "markdown",
   "metadata": {},
   "source": [
    "### Замена типа данных"
   ]
  },
  {
   "cell_type": "markdown",
   "metadata": {},
   "source": [
    "**Вывод**"
   ]
  },
  {
   "cell_type": "markdown",
   "metadata": {},
   "source": [
    "для ответа на поставленные вопросы ти пы данных менять не надо.\n",
    "для обработки целей кредитлования воспользуемся лемматизацией ниже"
   ]
  },
  {
   "cell_type": "markdown",
   "metadata": {},
   "source": [
    "### Обработка дубликатов"
   ]
  },
  {
   "cell_type": "markdown",
   "metadata": {},
   "source": [
    "Есть ли явные дубликаты в данных?"
   ]
  },
  {
   "cell_type": "code",
   "execution_count": 355,
   "metadata": {},
   "outputs": [
    {
     "name": "stdout",
     "output_type": "stream",
     "text": [
      "Количество явных дубликатов: 0\n"
     ]
    }
   ],
   "source": [
    "print('Количество явных дубликатов:', data.duplicated().sum())"
   ]
  },
  {
   "cell_type": "markdown",
   "metadata": {},
   "source": [
    "**Вывод**"
   ]
  },
  {
   "cell_type": "markdown",
   "metadata": {},
   "source": [
    "## ! Явных дубликатов нет !\n",
    "Неявные дубликаты обработаны ранее"
   ]
  },
  {
   "cell_type": "markdown",
   "metadata": {},
   "source": [
    "### Лемматизация"
   ]
  },
  {
   "cell_type": "code",
   "execution_count": 356,
   "metadata": {},
   "outputs": [
    {
     "data": {
      "text/plain": [
       "array(['покупка жилья', 'приобретение автомобиля',\n",
       "       'дополнительное образование', 'сыграть свадьбу',\n",
       "       'операции с жильем', 'образование', 'на проведение свадьбы',\n",
       "       'покупка жилья для семьи', 'покупка недвижимости',\n",
       "       'покупка коммерческой недвижимости', 'покупка жилой недвижимости',\n",
       "       'строительство собственной недвижимости', 'недвижимость',\n",
       "       'строительство недвижимости', 'на покупку подержанного автомобиля',\n",
       "       'на покупку своего автомобиля',\n",
       "       'операции с коммерческой недвижимостью',\n",
       "       'строительство жилой недвижимости', 'жилье',\n",
       "       'операции со своей недвижимостью', 'автомобили',\n",
       "       'заняться образованием', 'сделка с подержанным автомобилем',\n",
       "       'получение образования', 'автомобиль', 'свадьба',\n",
       "       'получение дополнительного образования', 'покупка своего жилья',\n",
       "       'операции с недвижимостью', 'получение высшего образования',\n",
       "       'свой автомобиль', 'сделка с автомобилем',\n",
       "       'профильное образование', 'высшее образование',\n",
       "       'покупка жилья для сдачи', 'на покупку автомобиля', 'ремонт жилью',\n",
       "       'заняться высшим образованием'], dtype=object)"
      ]
     },
     "execution_count": 356,
     "metadata": {},
     "output_type": "execute_result"
    }
   ],
   "source": [
    "\n",
    "from pymystem3 import Mystem\n",
    "m = Mystem()\n",
    "\n",
    "# проведём лемматизацию уникальных значений колонки purpose\n",
    "# соберём уникальные значения purpose\n",
    "purpose_unique = data['purpose'].unique()\n",
    "purpose_unique\n"
   ]
  },
  {
   "cell_type": "markdown",
   "metadata": {},
   "source": [
    "38 уникальных значений для лемматизации"
   ]
  },
  {
   "cell_type": "code",
   "execution_count": 357,
   "metadata": {},
   "outputs": [
    {
     "name": "stdout",
     "output_type": "stream",
     "text": [
      "[[['покупка', ' ', 'жилье', '\\n']], [['приобретение', ' ', 'автомобиль', '\\n']], [['дополнительный', ' ', 'образование', '\\n']], [['сыграть', ' ', 'свадьба', '\\n']], [['операция', ' ', 'с', ' ', 'жилье', '\\n']], [['образование', '\\n']], [['на', ' ', 'проведение', ' ', 'свадьба', '\\n']], [['покупка', ' ', 'жилье', ' ', 'для', ' ', 'семья', '\\n']], [['покупка', ' ', 'недвижимость', '\\n']], [['покупка', ' ', 'коммерческий', ' ', 'недвижимость', '\\n']], [['покупка', ' ', 'жилой', ' ', 'недвижимость', '\\n']], [['строительство', ' ', 'собственный', ' ', 'недвижимость', '\\n']], [['недвижимость', '\\n']], [['строительство', ' ', 'недвижимость', '\\n']], [['на', ' ', 'покупка', ' ', 'подержать', ' ', 'автомобиль', '\\n']], [['на', ' ', 'покупка', ' ', 'свой', ' ', 'автомобиль', '\\n']], [['операция', ' ', 'с', ' ', 'коммерческий', ' ', 'недвижимость', '\\n']], [['строительство', ' ', 'жилой', ' ', 'недвижимость', '\\n']], [['жилье', '\\n']], [['операция', ' ', 'со', ' ', 'свой', ' ', 'недвижимость', '\\n']], [['автомобиль', '\\n']], [['заниматься', ' ', 'образование', '\\n']], [['сделка', ' ', 'с', ' ', 'подержанный', ' ', 'автомобиль', '\\n']], [['получение', ' ', 'образование', '\\n']], [['автомобиль', '\\n']], [['свадьба', '\\n']], [['получение', ' ', 'дополнительный', ' ', 'образование', '\\n']], [['покупка', ' ', 'свой', ' ', 'жилье', '\\n']], [['операция', ' ', 'с', ' ', 'недвижимость', '\\n']], [['получение', ' ', 'высокий', ' ', 'образование', '\\n']], [['свой', ' ', 'автомобиль', '\\n']], [['сделка', ' ', 'с', ' ', 'автомобиль', '\\n']], [['профильный', ' ', 'образование', '\\n']], [['высокий', ' ', 'образование', '\\n']], [['покупка', ' ', 'жилье', ' ', 'для', ' ', 'сдача', '\\n']], [['на', ' ', 'покупка', ' ', 'автомобиль', '\\n']], [['ремонт', ' ', 'жилье', '\\n']], [['заниматься', ' ', 'высокий', ' ', 'образование', '\\n']]]\n"
     ]
    }
   ],
   "source": [
    "lemmas_series = []\n",
    "for i in range(len(purpose_unique)):\n",
    "    \n",
    "    lemmas = m.lemmatize(purpose_unique[i])\n",
    "    lemmas_series.append([lemmas])\n",
    "    # print(lemmas)\n",
    "    \n",
    "print(lemmas_series)"
   ]
  },
  {
   "cell_type": "markdown",
   "metadata": {},
   "source": [
    "### Сделаем отбор в отдельные таблицы строк из data, в которых в purpose встречаются ключевые слова"
   ]
  },
  {
   "cell_type": "code",
   "execution_count": 358,
   "metadata": {},
   "outputs": [
    {
     "data": {
      "text/html": [
       "<div>\n",
       "<style scoped>\n",
       "    .dataframe tbody tr th:only-of-type {\n",
       "        vertical-align: middle;\n",
       "    }\n",
       "\n",
       "    .dataframe tbody tr th {\n",
       "        vertical-align: top;\n",
       "    }\n",
       "\n",
       "    .dataframe thead th {\n",
       "        text-align: right;\n",
       "    }\n",
       "</style>\n",
       "<table border=\"1\" class=\"dataframe\">\n",
       "  <thead>\n",
       "    <tr style=\"text-align: right;\">\n",
       "      <th></th>\n",
       "      <th>index</th>\n",
       "      <th>children</th>\n",
       "      <th>days_employed</th>\n",
       "      <th>dob_years</th>\n",
       "      <th>education_id</th>\n",
       "      <th>family_status_id</th>\n",
       "      <th>gender</th>\n",
       "      <th>income_type</th>\n",
       "      <th>debt</th>\n",
       "      <th>total_income</th>\n",
       "      <th>purpose</th>\n",
       "      <th>childhood</th>\n",
       "    </tr>\n",
       "  </thead>\n",
       "  <tbody>\n",
       "  </tbody>\n",
       "</table>\n",
       "</div>"
      ],
      "text/plain": [
       "Empty DataFrame\n",
       "Columns: [index, children, days_employed, dob_years, education_id, family_status_id, gender, income_type, debt, total_income, purpose, childhood]\n",
       "Index: []"
      ]
     },
     "execution_count": 358,
     "metadata": {},
     "output_type": "execute_result"
    }
   ],
   "source": [
    "# готовлю таблички для наполнения данными\n",
    "data_1 = data # скопировал стркутуру и данные\n",
    "# удаляю все строки\n",
    "data_1 = data_1.loc[data_1['children'] < 0] # заведомо значение False\n",
    "data_1"
   ]
  },
  {
   "cell_type": "code",
   "execution_count": 359,
   "metadata": {},
   "outputs": [],
   "source": [
    "# дублирую dataframe без строк в заготовки для группировки по ключевым словам\n",
    "auto = data_1 # автомобиль\n",
    "education = data_1 # образование\n",
    "wedding = data_1 # свадьба\n",
    "commercial_real_estate = data_1 # коммерческая недвижимость\n",
    "real_estate_renovation = data_1 # ремонт жилья\n",
    "real_estate = data_1 # недвижимость (частная)\n",
    "no_label = data_1 # если не будет ключевых влов, включённых в отбор\n"
   ]
  },
  {
   "cell_type": "code",
   "execution_count": 360,
   "metadata": {},
   "outputs": [
    {
     "data": {
      "text/plain": [
       "21524"
      ]
     },
     "execution_count": 360,
     "metadata": {},
     "output_type": "execute_result"
    }
   ],
   "source": [
    "len(data)"
   ]
  },
  {
   "cell_type": "code",
   "execution_count": 361,
   "metadata": {},
   "outputs": [
    {
     "name": "stdout",
     "output_type": "stream",
     "text": [
      "CPU times: user 922 ms, sys: 359 ms, total: 1.28 s\n",
      "Wall time: 2.62 s\n"
     ]
    },
    {
     "data": {
      "text/plain": [
       "недвижимость                 8259\n",
       "автомобиль                   4315\n",
       "образование                  4022\n",
       "свадьба                      2348\n",
       "коммерческая недвижимость    1968\n",
       "ремонт недвижимости           612\n",
       "Name: purpose_category, dtype: int64"
      ]
     },
     "execution_count": 361,
     "metadata": {},
     "output_type": "execute_result"
    }
   ],
   "source": [
    "%%time\n",
    "def create_category_purpose(row):\n",
    "    lem_purpose = m.lemmatize(row['purpose'])\n",
    "    if 'автомобиль' in lem_purpose:\n",
    "        return 'автомобиль'\n",
    "    elif 'образование' in lem_purpose:\n",
    "        return 'образование'\n",
    "    elif 'свадьба'  in lem_purpose:\n",
    "        return 'свадьба' \n",
    "    elif 'сдача'  in lem_purpose and 'жилье'  in lem_purpose:\n",
    "        return 'коммерческая недвижимость'\n",
    "    elif 'коммерческий' in lem_purpose and  'недвижимость'  in lem_purpose:\n",
    "        return 'коммерческая недвижимость'\n",
    "    elif 'ремонт'  in lem_purpose and  'недвижимость'  in lem_purpose:\n",
    "        return 'ремонт недвижимости'\n",
    "    elif 'ремонт'  in lem_purpose and  'жилье'  in lem_purpose:\n",
    "        return 'ремонт недвижимости'\n",
    "    elif 'недвижимость'  in lem_purpose:\n",
    "        return 'недвижимость' \n",
    "    elif 'жилье'  in lem_purpose:\n",
    "        return 'недвижимость' \n",
    "    else:\n",
    "        return 'без группы'\n",
    "    \n",
    "\n",
    "# применяю функцию с созданием столбца purpose_category\n",
    "data['purpose_category'] = data.apply(create_category_purpose, axis=1)\n",
    "data['purpose_category'].sort_values().value_counts()\n"
   ]
  },
  {
   "cell_type": "markdown",
   "metadata": {},
   "source": [
    "## Готовы отдельные срезы данных по целям запроса кредитов."
   ]
  },
  {
   "cell_type": "markdown",
   "metadata": {},
   "source": [
    "### Категоризация данных"
   ]
  },
  {
   "cell_type": "markdown",
   "metadata": {},
   "source": [
    "в общем объёме исходных данных есть возможность выделения категорий в :\n",
    "    -  образование, семейный статус, пол, тип занятости, цель кредитования\n",
    "    \n",
    "    Трансформация текстовых значений этих колонок выгодна для дальнейшей передачи в подразделение машинного обучения.\n",
    "    (кроме цели кредитования)\n",
    "    В текущих задачах мне удобнее работать с текстовыми значениями, в которых неявные дубликаты обработаны.\n",
    "    Цель кредитования тоже удобно рассматривать в текстовом виде. Но сначала её проработал методами лемматизации и категоризации."
   ]
  },
  {
   "cell_type": "markdown",
   "metadata": {},
   "source": [
    "## Шаг 3. Ответьте на вопросы"
   ]
  },
  {
   "cell_type": "markdown",
   "metadata": {},
   "source": [
    "# Уровень дохода.\n",
    "Здесь для анализа влияния этого параметра на возвратность кредита следует выделить интервальные группы.\n",
    "Посмотрим на расперделение по сумме за отсечением строк с отсутствующими данными.\n",
    "это срез данных data_not_na"
   ]
  },
  {
   "cell_type": "markdown",
   "metadata": {},
   "source": [
    "- Есть ли зависимость между уровнем дохода и возвратом кредита в срок?"
   ]
  },
  {
   "cell_type": "code",
   "execution_count": 370,
   "metadata": {},
   "outputs": [],
   "source": [
    "pd.options.display.float_format = '{:,.2f}'.format # установка формата вывода на дисплей численных значений"
   ]
  },
  {
   "cell_type": "code",
   "execution_count": 371,
   "metadata": {},
   "outputs": [],
   "source": [
    "# сделал табличку без NaN в total_income\n",
    "data_not_na = data.dropna(subset=['total_income'])"
   ]
  },
  {
   "cell_type": "code",
   "execution_count": 372,
   "metadata": {},
   "outputs": [
    {
     "data": {
      "text/plain": [
       "count      19,781.00\n",
       "mean      165,762.10\n",
       "std        98,154.69\n",
       "min        21,205.28\n",
       "25%       107,659.93\n",
       "50%       143,855.21\n",
       "75%       197,783.26\n",
       "max     2,265,604.03\n",
       "Name: total_income, dtype: float64"
      ]
     },
     "execution_count": 372,
     "metadata": {},
     "output_type": "execute_result"
    }
   ],
   "source": [
    "dept_0 = data_not_na[data_not_na['debt'] == 0] # отобрал строки с возвратом кредита\n",
    "\n",
    "dept_1 = data_not_na[data_not_na['debt'] == 1] # отобрал строки без возврата кредита\n",
    "\n",
    "dept_0['total_income'].describe()"
   ]
  },
  {
   "cell_type": "code",
   "execution_count": 373,
   "metadata": {},
   "outputs": [
    {
     "data": {
      "image/png": "[encoded data removed]",
      "text/plain": [
       "<Figure size 432x288 with 1 Axes>"
      ]
     },
     "metadata": {
      "needs_background": "light"
     },
     "output_type": "display_data"
    }
   ],
   "source": [
    "dept_0['total_income'].plot(kind = 'hist');"
   ]
  },
  {
   "cell_type": "code",
   "execution_count": 374,
   "metadata": {},
   "outputs": [
    {
     "data": {
      "text/plain": [
       "count       1,741.00\n",
       "mean      161,042.93\n",
       "std        97,817.13\n",
       "min        20,667.26\n",
       "25%       108,252.81\n",
       "50%       140,638.62\n",
       "75%       189,395.52\n",
       "max     2,200,852.21\n",
       "Name: total_income, dtype: float64"
      ]
     },
     "execution_count": 374,
     "metadata": {},
     "output_type": "execute_result"
    }
   ],
   "source": [
    "dept_1['total_income'].describe()"
   ]
  },
  {
   "cell_type": "code",
   "execution_count": 375,
   "metadata": {
    "scrolled": true
   },
   "outputs": [
    {
     "data": {
      "image/png": "[encoded data removed]",
      "text/plain": [
       "<Figure size 432x288 with 1 Axes>"
      ]
     },
     "metadata": {
      "needs_background": "light"
     },
     "output_type": "display_data"
    }
   ],
   "source": [
    "dept_1['total_income'].plot(kind = 'hist');"
   ]
  },
  {
   "cell_type": "markdown",
   "metadata": {},
   "source": [
    "### Федеральная служба государственной статистики разделяет уровень жизни россиян в зависимости от доходов на следующие категории:\n",
    "крайняя нищета (доходы ниже прожиточного минимума — до 7-8 тыс.р.)\n",
    "\n",
    "нищета (доходы от одного до двух прожиточных минимума — от 8 до 12 тыс.р.)\n",
    "\n",
    "бедность (доходы от 12 до 20 тысяч рублей в месяц)\n",
    "\n",
    "выше бедности (доходы от 20 до 30 тысяч рублей в месяц)\n",
    "\n",
    "средний достаток — (доходы от 30 до 60 тысяч рублей в месяц)\n",
    "\n",
    "состоятельные — (доходы от 60 до 90 тысяч рублей в месяц)\n",
    "\n",
    "богатые — (доходы от 90 тысяч рублей в месяц)\n",
    "\n",
    "сверхбогатые — (доходы свыше 150 тысяч рублей в месяц)\n"
   ]
  },
  {
   "cell_type": "markdown",
   "metadata": {},
   "source": [
    "в наших исследуемых данных есть уровни дохода от <font color='red'>\"выше бедности\"</font> до <font color='green'>\"сверхбогатые\"</font>"
   ]
  },
  {
   "cell_type": "code",
   "execution_count": 376,
   "metadata": {},
   "outputs": [
    {
     "name": "stdout",
     "output_type": "stream",
     "text": [
      "В категории выше бедности задолженность у 2 клиентов\n",
      "9.09 % от общего числа клиентов этой категории\n",
      "\n",
      "В категории средний достаток задолженность у 47 клиентов\n",
      "5.99 % от общего числа клиентов этой категории\n",
      "\n",
      "В категории состоятельные задолженность у 213 клиентов\n",
      "8.38 % от общего числа клиентов этой категории\n",
      "\n",
      "В категории богатые задолженность у 707 клиентов\n",
      "8.66 % от общего числа клиентов этой категории\n",
      "\n",
      "В категории сверхбогатые задолженность у 772 клиентов\n",
      "7.71 % от общего числа клиентов этой категории\n"
     ]
    }
   ],
   "source": [
    "# выше бедности\n",
    "total_income_20 = data_not_na[data_not_na['total_income'] > 20000]\n",
    "total_income_20 = total_income_20[total_income_20['total_income'] <= 30000]\n",
    "\n",
    "count = total_income_20['index'][total_income_20['debt'] == 1].count()\n",
    "print('В категории выше бедности задолженность у', count, 'клиентов')\n",
    "print(round((count / total_income_20['index'].count()) * 100, 2), '% от общего числа клиентов этой категории'    )\n",
    "print()\n",
    "\n",
    "#  средний достаток\n",
    "total_income_30 = data_not_na[data_not_na['total_income'] > 30000]\n",
    "total_income_30 = total_income_30[total_income_30['total_income'] <= 60000]\n",
    "\n",
    "count = total_income_30['index'][total_income_30['debt'] == 1].count()\n",
    "print('В категории средний достаток задолженность у', count, 'клиентов')\n",
    "print(round((count / total_income_30['index'].count()) * 100, 2), '% от общего числа клиентов этой категории'    )\n",
    "print()\n",
    "\n",
    "# состоятельные\n",
    "total_income_60 = data_not_na[data_not_na['total_income'] > 60000]\n",
    "total_income_60 = total_income_60[total_income_60['total_income'] <= 90000]\n",
    "\n",
    "count = total_income_60['index'][total_income_60['debt'] == 1].count()\n",
    "print('В категории состоятельные задолженность у', count, 'клиентов')\n",
    "print(round((count / total_income_60['index'].count()) * 100, 2), '% от общего числа клиентов этой категории'    )\n",
    "print()\n",
    "\n",
    "#  богатые\n",
    "total_income_90 = data_not_na[data_not_na['total_income'] > 90000]\n",
    "total_income_90 = total_income_90[total_income_90['total_income'] <= 150000]\n",
    "\n",
    "count = total_income_90['index'][total_income_90['debt'] == 1].count()\n",
    "print('В категории богатые задолженность у', count, 'клиентов')\n",
    "print(round((count / total_income_90['index'].count()) * 100, 2), '% от общего числа клиентов этой категории'    )\n",
    "print()\n",
    "\n",
    "#  сверхбогатые\n",
    "total_income_150 = data_not_na[data_not_na['total_income'] > 150000]\n",
    "\n",
    "count = total_income_150['index'][total_income_150['debt'] == 1].count()\n",
    "print('В категории сверхбогатые задолженность у', count, 'клиентов')\n",
    "print(round((count / total_income_150['index'].count()) * 100, 2), '% от общего числа клиентов этой категории'    )\n"
   ]
  },
  {
   "cell_type": "markdown",
   "metadata": {},
   "source": [
    "### ВЫВОД. Уровень дохода тоже влияет на возвратность кредитов\n",
    "<font color='red'>Самый ненадёжный сегмент - малоимущие (выше бедности)</font>\n",
    "\n",
    "<font color='green'>Надёжный сегмент - средний достаток</font>\n",
    "\n",
    "<font color='blue'>Сверхбюогатые - редкий случай и обнадёживающий</font>"
   ]
  },
  {
   "cell_type": "markdown",
   "metadata": {},
   "source": [
    "# Количество детей\n",
    "Те же выборки:\n",
    "* dept_0\n",
    "* dept_1\n"
   ]
  },
  {
   "cell_type": "markdown",
   "metadata": {},
   "source": [
    "- Есть ли зависимость между наличием детей и возвратом кредита в срок?"
   ]
  },
  {
   "cell_type": "code",
   "execution_count": 377,
   "metadata": {},
   "outputs": [
    {
     "data": {
      "text/plain": [
       "count   19,781.00\n",
       "mean         0.47\n",
       "std          0.75\n",
       "min          0.00\n",
       "25%          0.00\n",
       "50%          0.00\n",
       "75%          1.00\n",
       "max          5.00\n",
       "Name: children, dtype: float64"
      ]
     },
     "execution_count": 377,
     "metadata": {},
     "output_type": "execute_result"
    }
   ],
   "source": [
    "dept_0['children'].describe()"
   ]
  },
  {
   "cell_type": "code",
   "execution_count": 378,
   "metadata": {},
   "outputs": [
    {
     "data": {
      "text/plain": [
       "count   1,741.00\n",
       "mean        0.54\n",
       "std         0.78\n",
       "min         0.00\n",
       "25%         0.00\n",
       "50%         0.00\n",
       "75%         1.00\n",
       "max         4.00\n",
       "Name: children, dtype: float64"
      ]
     },
     "execution_count": 378,
     "metadata": {},
     "output_type": "execute_result"
    }
   ],
   "source": [
    "dept_1['children'].describe()"
   ]
  },
  {
   "cell_type": "code",
   "execution_count": 379,
   "metadata": {},
   "outputs": [
    {
     "data": {
      "text/plain": [
       "0    13083\n",
       "1     4420\n",
       "2     1929\n",
       "3      303\n",
       "4       37\n",
       "5        9\n",
       "Name: children, dtype: int64"
      ]
     },
     "execution_count": 379,
     "metadata": {},
     "output_type": "execute_result"
    }
   ],
   "source": [
    "dept_0['children'].value_counts() # количества категорий"
   ]
  },
  {
   "cell_type": "code",
   "execution_count": 380,
   "metadata": {},
   "outputs": [
    {
     "data": {
      "text/plain": [
       "0    1063\n",
       "1     445\n",
       "2     202\n",
       "3      27\n",
       "4       4\n",
       "Name: children, dtype: int64"
      ]
     },
     "execution_count": 380,
     "metadata": {},
     "output_type": "execute_result"
    }
   ],
   "source": [
    "dept_1['children'].value_counts() # количества категорий"
   ]
  },
  {
   "cell_type": "code",
   "execution_count": 381,
   "metadata": {},
   "outputs": [
    {
     "data": {
      "text/plain": [
       "0    14146\n",
       "1     4865\n",
       "2     2131\n",
       "3      330\n",
       "4       41\n",
       "5        9\n",
       "Name: children, dtype: int64"
      ]
     },
     "execution_count": 381,
     "metadata": {},
     "output_type": "execute_result"
    }
   ],
   "source": [
    "data_not_na['children'].value_counts() # количества категорий всего"
   ]
  },
  {
   "cell_type": "code",
   "execution_count": 383,
   "metadata": {},
   "outputs": [
    {
     "name": "stdout",
     "output_type": "stream",
     "text": [
      "Имеют задолженности по количеству детей\n",
      "7.51 % в семье 0 реб.\n",
      "9.15 % в семье 1 реб.\n",
      "9.48 % в семье 2 реб.\n",
      "8.18 % в семье 3 реб.\n",
      "9.76 % в семье 4 реб.\n",
      "0.0 % в семье 5 реб.\n"
     ]
    }
   ],
   "source": [
    "print('Имеют задолженности по количеству детей')\n",
    "for i in range(len(data['children'].value_counts())):\n",
    "    \n",
    "    print(round(((dept_1['index'][dept_1['children'] == i].count())\n",
    "       / ((dept_0['index'][dept_0['children'] == i].count()) \n",
    "          + (dept_1['index'][dept_1['children'] == i].count()))) \n",
    "       * 100, 2), '% в семье', i, 'реб.')\n"
   ]
  },
  {
   "cell_type": "markdown",
   "metadata": {},
   "source": [
    "### ВЫВОД. Количество детей имеет некоторое влияние на возвратность кредитов\n",
    "<font color='red'>Самый ненадёжный сегмент - два ребенка</font>\n",
    "\n",
    "<font color='green'>Надёжный сегмент - трое детей и бездетные</font>\n",
    "\n",
    "<font color='blue'>Пятеро детей - редкий случай и надёжный</font>\n"
   ]
  },
  {
   "cell_type": "markdown",
   "metadata": {},
   "source": [
    "# Семейное положение\n",
    "Те же выборки:\n",
    "* dept_0\n",
    "* dept_1\n"
   ]
  },
  {
   "cell_type": "markdown",
   "metadata": {},
   "source": [
    "- Есть ли зависимость между семейным положением и возвратом кредита в срок?"
   ]
  },
  {
   "cell_type": "code",
   "execution_count": 384,
   "metadata": {},
   "outputs": [
    {
     "data": {
      "text/plain": [
       "0    11448\n",
       "1     3788\n",
       "4     2539\n",
       "3     1109\n",
       "2      897\n",
       "Name: family_status_id, dtype: int64"
      ]
     },
     "execution_count": 384,
     "metadata": {},
     "output_type": "execute_result"
    }
   ],
   "source": [
    "dept_0['family_status_id'].value_counts() # количества категорий"
   ]
  },
  {
   "cell_type": "code",
   "execution_count": 385,
   "metadata": {},
   "outputs": [
    {
     "data": {
      "text/plain": [
       "0    931\n",
       "1    388\n",
       "4    274\n",
       "3     85\n",
       "2     63\n",
       "Name: family_status_id, dtype: int64"
      ]
     },
     "execution_count": 385,
     "metadata": {},
     "output_type": "execute_result"
    }
   ],
   "source": [
    "dept_1['family_status_id'].value_counts() # количества категорий"
   ]
  },
  {
   "cell_type": "markdown",
   "metadata": {},
   "source": [
    "    А теперь возьму в долях от общего количества по каждой категории"
   ]
  },
  {
   "cell_type": "code",
   "execution_count": 386,
   "metadata": {},
   "outputs": [
    {
     "name": "stdout",
     "output_type": "stream",
     "text": [
      "Общее число клиентов по категориям\n"
     ]
    },
    {
     "data": {
      "text/plain": [
       "0    12379\n",
       "1     4176\n",
       "4     2813\n",
       "3     1194\n",
       "2      960\n",
       "Name: family_status_id, dtype: int64"
      ]
     },
     "execution_count": 386,
     "metadata": {},
     "output_type": "execute_result"
    }
   ],
   "source": [
    "\n",
    "print('Общее число клиентов по категориям')\n",
    "\n",
    "\n",
    "data_not_na['family_status_id'].value_counts()"
   ]
  },
  {
   "cell_type": "code",
   "execution_count": 388,
   "metadata": {},
   "outputs": [
    {
     "name": "stdout",
     "output_type": "stream",
     "text": [
      "Имеют задолженности по категориям\n",
      "клиенты разного семейного статуса:\n",
      "7.52 % женат / замужем\n",
      "9.29 % гражданский брак\n",
      "6.56 % вдовец / вдова\n",
      "7.12 % в разводе\n",
      "9.74 % Не женат / не замужем\n"
     ]
    }
   ],
   "source": [
    "print('Имеют задолженности по категориям')\n",
    "print('клиенты разного семейного статуса:')\n",
    "\n",
    "for i in range(len(family_status_dict)):\n",
    "    print(round(((dept_1['index'][dept_1['family_status_id'] == i].count())\n",
    "       / ((dept_0['index'][dept_0['family_status_id'] == i].count()) \n",
    "          + (dept_1['index'][dept_1['family_status_id'] == i].count()))) \n",
    "       * 100, 2), \"%\", family_status_dict['family_status'][i])"
   ]
  },
  {
   "cell_type": "markdown",
   "metadata": {},
   "source": [
    "**Вывод**"
   ]
  },
  {
   "cell_type": "markdown",
   "metadata": {},
   "source": [
    "Семейное положение имеет значение"
   ]
  },
  {
   "cell_type": "markdown",
   "metadata": {},
   "source": [
    "### ВЫВОД. Семейное положение имеет значение на возвратность кредитов\n",
    "<font color='red'>Самый ненадёжный сегмент - не женат / не замужем</font>\n",
    "\n",
    "<font color='green'>Самый надёжный сегмент - вдовец / вдова</font>\n",
    "\n",
    "<font color='blue'>Разведённые и семейные - примерно рядом</font>\n"
   ]
  },
  {
   "cell_type": "markdown",
   "metadata": {},
   "source": [
    "# Цели кредитования\n",
    "Те же выборки:\n",
    "* dept_0\n",
    "* dept_1\n"
   ]
  },
  {
   "cell_type": "markdown",
   "metadata": {},
   "source": [
    "- Как разные цели кредита влияют на его возврат в срок?"
   ]
  },
  {
   "cell_type": "code",
   "execution_count": 389,
   "metadata": {},
   "outputs": [
    {
     "data": {
      "text/plain": [
       "недвижимость                 7662\n",
       "автомобиль                   3912\n",
       "образование                  3651\n",
       "свадьба                      2162\n",
       "коммерческая недвижимость    1817\n",
       "ремонт недвижимости           577\n",
       "Name: purpose_category, dtype: int64"
      ]
     },
     "execution_count": 389,
     "metadata": {},
     "output_type": "execute_result"
    }
   ],
   "source": [
    "dept_0['purpose_category'].value_counts() # количества категорий"
   ]
  },
  {
   "cell_type": "code",
   "execution_count": 390,
   "metadata": {},
   "outputs": [
    {
     "data": {
      "text/plain": [
       "недвижимость                 596\n",
       "автомобиль                   403\n",
       "образование                  370\n",
       "свадьба                      186\n",
       "коммерческая недвижимость    151\n",
       "ремонт недвижимости           35\n",
       "Name: purpose_category, dtype: int64"
      ]
     },
     "execution_count": 390,
     "metadata": {},
     "output_type": "execute_result"
    }
   ],
   "source": [
    "dept_1['purpose_category'].value_counts() # количества категорий"
   ]
  },
  {
   "cell_type": "code",
   "execution_count": 391,
   "metadata": {},
   "outputs": [
    {
     "name": "stdout",
     "output_type": "stream",
     "text": [
      "Имеют задолженности по категориям\n",
      "7.22 % недвижимость\n",
      "9.34 % автомобиль\n",
      "9.2 % образование\n",
      "7.92 % свадьба\n",
      "7.67 % коммерческая недвижимость\n",
      "5.72 % ремонт недвижимости\n",
      "от общего числа клиентов этой категории\n"
     ]
    }
   ],
   "source": [
    "print('Имеют задолженности по категориям')\n",
    "print(round(((dept_1['index'][dept_1['purpose_category'] == 'недвижимость'].count())/\\\n",
    "    ((dept_0['index'][dept_0['purpose_category'] == 'недвижимость'].count())+\\\n",
    "        (dept_1['index'][dept_1['purpose_category'] == 'недвижимость'].count()))) * 100, 2), '% недвижимость')\n",
    "print(round(((dept_1['index'][dept_1['purpose_category'] == 'автомобиль'].count())/\\\n",
    "    ((dept_0['index'][dept_0['purpose_category'] == 'автомобиль'].count())+\\\n",
    "        (dept_1['index'][dept_1['purpose_category'] == 'автомобиль'].count()))) * 100, 2), '% автомобиль')\n",
    "print(round(((dept_1['index'][dept_1['purpose_category'] == 'образование'].count())/\\\n",
    "    ((dept_0['index'][dept_0['purpose_category'] == 'образование'].count())+\\\n",
    "        (dept_1['index'][dept_1['purpose_category'] == 'образование'].count()))) * 100, 2), '% образование')\n",
    "print(round(((dept_1['index'][dept_1['purpose_category'] == 'свадьба'].count())/\\\n",
    "    ((dept_0['index'][dept_0['purpose_category'] == 'свадьба'].count())+\\\n",
    "        (dept_1['index'][dept_1['purpose_category'] == 'свадьба'].count()))) * 100, 2), '% свадьба')\n",
    "print(round(((dept_1['index'][dept_1['purpose_category'] == 'коммерческая недвижимость'].count())/\\\n",
    "    ((dept_0['index'][dept_0['purpose_category'] == 'коммерческая недвижимость'].count())+\\\n",
    "        (dept_1['index'][dept_1['purpose_category'] == 'коммерческая недвижимость'].count())))\\\n",
    "             * 100, 2), '% коммерческая недвижимость')\n",
    "print(round(((dept_1['index'][dept_1['purpose_category'] == 'ремонт недвижимости'].count())/\\\n",
    "    ((dept_0['index'][dept_0['purpose_category'] == 'ремонт недвижимости'].count())+\\\n",
    "        (dept_1['index'][dept_1['purpose_category'] == 'ремонт недвижимости'].count())))\\\n",
    "             * 100, 2), '% ремонт недвижимости')\n",
    "\n",
    "print('от общего числа клиентов этой категории')\n",
    "\n"
   ]
  },
  {
   "cell_type": "markdown",
   "metadata": {},
   "source": [
    "### ВЫВОД. Цель кредитования имеет значение на возвратность кредитов\n",
    "<font color='red'>Самый ненадёжный сегмент - автомобиль</font>\n",
    "\n",
    "<font color='green'>Самый надёжный сегмент - недвижимость</font>\n",
    "\n",
    "<font color='blue'>Свадьба - тоже хорошая цель по возвратности</font>\n",
    "\n",
    "<font color='red'>А вот образование лишь ненамного надёжнее, чем автомобиль</font>"
   ]
  },
  {
   "cell_type": "markdown",
   "metadata": {},
   "source": [
    "## Шаг 4. Общий вывод"
   ]
  },
  {
   "cell_type": "markdown",
   "metadata": {},
   "source": [
    "По результатам исследования можно отметить влияние на возврастность кредитов всех рассматриваемых факторов"
   ]
  },
  {
   "cell_type": "markdown",
   "metadata": {},
   "source": [
    "## <font color='red'>Самый высокорисковый клиент:</font>\n",
    "С низким доходом, двумя детьми, с целью на автомобиль\n"
   ]
  },
  {
   "cell_type": "code",
   "execution_count": 392,
   "metadata": {},
   "outputs": [
    {
     "name": "stdout",
     "output_type": "stream",
     "text": [
      "Таких клиентов в банке .... 0 !!!\n"
     ]
    }
   ],
   "source": [
    "print('Таких клиентов в банке ....', data['index'][(data['debt'] == 0) &\\\n",
    "     (data['total_income'] <= 30000) & (data['children'] == 2) & \\\n",
    "        (data['purpose_category'] == 'автомобиль')].count(), '!!!')"
   ]
  },
  {
   "cell_type": "markdown",
   "metadata": {},
   "source": [
    "## <font color='blue'>Прекрасная работа отдела продаж!</font>\n",
    "Повысим ставки. Следующая \"вилка\" в доходах: до 60000 р"
   ]
  },
  {
   "cell_type": "code",
   "execution_count": 393,
   "metadata": {},
   "outputs": [
    {
     "name": "stdout",
     "output_type": "stream",
     "text": [
      "В банке 12 таких клиентов, а с проблемой по возврату из них - 4 то есть процент невозврата 33.33 %\n"
     ]
    }
   ],
   "source": [
    "print('В банке', data['index'][(data['total_income'] <= 60000) & (data['children'] == 2)\\\n",
    "     & (data['purpose_category'] == 'автомобиль')].count()\n",
    ", \"таких клиентов, а с проблемой по возврату из них -\", data['index'][(data['debt'] == 1)\\\n",
    "     & (data['total_income'] <= 60000) & (data['children'] == 2) & \\\n",
    "        (data['purpose_category'] == 'автомобиль')].count()\n",
    ", 'то есть процент невозврата', round((data['index'][(data['debt'] == 1) &\\\n",
    "     (data['total_income'] <= 60000) & (data['children'] == 2) &\\\n",
    "         (data['purpose_category'] == 'автомобиль')].count()*100)/data['index'][(data['total_income']\\\n",
    "             <= 60000) & (data['children'] == 2) & (data['purpose_category'] == \\\n",
    "                'автомобиль')].count(), 2), '%')"
   ]
  },
  {
   "cell_type": "markdown",
   "metadata": {},
   "source": [
    "## <font color='blue'>33 % огромная цифра!</font>"
   ]
  },
  {
   "cell_type": "markdown",
   "metadata": {},
   "source": [
    "## <font color='green'>Самый низкокорисковый клиент:</font>\n",
    "С более, чем средним достатком, с тремя детьми, семейные, с целью кредитования на недвижимость "
   ]
  },
  {
   "cell_type": "code",
   "execution_count": 394,
   "metadata": {},
   "outputs": [
    {
     "name": "stdout",
     "output_type": "stream",
     "text": [
      "В банке 123 таких клиентов, а с проблемой по возврату из них - 10 то есть процент невозврата 8.13 %\n"
     ]
    }
   ],
   "source": [
    "print('В банке', data['index'][(data['total_income'] >= 60000) & (data['children'] == 3) & \\\n",
    "    (data['purpose_category'] == 'недвижимость')].count()\n",
    ", \"таких клиентов, а с проблемой по возврату из них -\", data['index'][(data['debt'] == 1) & \\\n",
    "    (data['total_income'] >= 60000) & (data['children'] == 3) & (data['purpose_category'] == 'недвижимость')].count()\n",
    ", 'то есть процент невозврата', round((data['index'][(data['debt'] == 1) & \\\n",
    "    (data['total_income'] >= 60000) & (data['children'] == 3) & \\\n",
    "        (data['purpose_category'] == 'недвижимость')].count()*100)/data['index'][(data['total_income'] >= 60000) &\\\n",
    "             (data['children'] == 3) & (data['purpose_category'] == 'недвижимость')].count(), 2), '%')"
   ]
  }
 ],
 "metadata": {
  "ExecuteTimeLog": [
   {
    "duration": 615,
    "start_time": "2021-12-04T14:15:51.298Z"
   },
   {
    "duration": 10,
    "start_time": "2021-12-04T14:28:27.169Z"
   },
   {
    "duration": 227,
    "start_time": "2021-12-04T14:29:03.853Z"
   },
   {
    "duration": 622,
    "start_time": "2021-12-04T14:29:26.157Z"
   },
   {
    "duration": 174,
    "start_time": "2021-12-04T14:29:54.209Z"
   },
   {
    "duration": 171,
    "start_time": "2021-12-04T14:31:34.237Z"
   },
   {
    "duration": 4,
    "start_time": "2021-12-04T14:31:48.977Z"
   },
   {
    "duration": 58,
    "start_time": "2021-12-04T14:32:01.368Z"
   },
   {
    "duration": 4,
    "start_time": "2021-12-04T14:32:01.427Z"
   },
   {
    "duration": 203,
    "start_time": "2021-12-04T14:32:58.443Z"
   },
   {
    "duration": 5,
    "start_time": "2021-12-04T14:35:20.796Z"
   },
   {
    "duration": 4,
    "start_time": "2021-12-04T14:35:44.868Z"
   },
   {
    "duration": 3,
    "start_time": "2021-12-04T14:35:47.649Z"
   },
   {
    "duration": 4,
    "start_time": "2021-12-04T14:35:49.348Z"
   },
   {
    "duration": 174,
    "start_time": "2021-12-04T14:36:37.985Z"
   },
   {
    "duration": 5,
    "start_time": "2021-12-04T14:37:00.649Z"
   },
   {
    "duration": 16,
    "start_time": "2021-12-04T14:42:50.608Z"
   },
   {
    "duration": 9,
    "start_time": "2021-12-04T14:45:07.900Z"
   },
   {
    "duration": 24,
    "start_time": "2021-12-04T14:45:32.152Z"
   },
   {
    "duration": 60,
    "start_time": "2021-12-04T14:49:58.720Z"
   },
   {
    "duration": 4,
    "start_time": "2021-12-04T14:49:58.781Z"
   },
   {
    "duration": 23,
    "start_time": "2021-12-04T14:49:58.787Z"
   },
   {
    "duration": 56,
    "start_time": "2021-12-04T14:50:31.013Z"
   },
   {
    "duration": 4,
    "start_time": "2021-12-04T14:50:31.070Z"
   },
   {
    "duration": 7,
    "start_time": "2021-12-04T14:50:34.913Z"
   },
   {
    "duration": 8,
    "start_time": "2021-12-04T14:51:34.973Z"
   },
   {
    "duration": 5,
    "start_time": "2021-12-04T14:53:38.034Z"
   },
   {
    "duration": 60,
    "start_time": "2021-12-04T14:54:51.633Z"
   },
   {
    "duration": 4,
    "start_time": "2021-12-04T14:54:51.695Z"
   },
   {
    "duration": 18,
    "start_time": "2021-12-04T14:54:51.701Z"
   },
   {
    "duration": 14,
    "start_time": "2021-12-04T14:54:51.721Z"
   },
   {
    "duration": 6,
    "start_time": "2021-12-04T14:54:53.753Z"
   },
   {
    "duration": 58,
    "start_time": "2021-12-04T14:55:24.011Z"
   },
   {
    "duration": 4,
    "start_time": "2021-12-04T14:55:24.071Z"
   },
   {
    "duration": 7,
    "start_time": "2021-12-04T14:55:24.078Z"
   },
   {
    "duration": 7,
    "start_time": "2021-12-04T14:55:24.087Z"
   },
   {
    "duration": 5,
    "start_time": "2021-12-04T14:55:25.554Z"
   },
   {
    "duration": 5,
    "start_time": "2021-12-04T14:55:28.235Z"
   },
   {
    "duration": 5,
    "start_time": "2021-12-04T14:55:29.413Z"
   },
   {
    "duration": 5,
    "start_time": "2021-12-04T14:55:31.193Z"
   },
   {
    "duration": 57,
    "start_time": "2021-12-04T14:55:52.201Z"
   },
   {
    "duration": 4,
    "start_time": "2021-12-04T14:55:52.260Z"
   },
   {
    "duration": 13,
    "start_time": "2021-12-04T14:55:52.266Z"
   },
   {
    "duration": 7,
    "start_time": "2021-12-04T14:55:52.281Z"
   },
   {
    "duration": 19,
    "start_time": "2021-12-04T14:55:54.496Z"
   },
   {
    "duration": 5,
    "start_time": "2021-12-04T14:57:19.062Z"
   },
   {
    "duration": 183,
    "start_time": "2021-12-04T14:57:29.862Z"
   },
   {
    "duration": 167,
    "start_time": "2021-12-04T14:57:35.214Z"
   },
   {
    "duration": 175,
    "start_time": "2021-12-04T14:57:43.701Z"
   },
   {
    "duration": 6,
    "start_time": "2021-12-04T14:57:52.642Z"
   },
   {
    "duration": 170,
    "start_time": "2021-12-04T14:59:59.122Z"
   },
   {
    "duration": 22,
    "start_time": "2021-12-04T15:01:36.151Z"
   },
   {
    "duration": 195,
    "start_time": "2021-12-04T15:03:24.683Z"
   },
   {
    "duration": 187,
    "start_time": "2021-12-04T15:03:54.993Z"
   },
   {
    "duration": 23,
    "start_time": "2021-12-04T15:05:08.454Z"
   },
   {
    "duration": 23,
    "start_time": "2021-12-04T15:05:56.123Z"
   },
   {
    "duration": 23,
    "start_time": "2021-12-04T15:06:20.535Z"
   },
   {
    "duration": 27,
    "start_time": "2021-12-04T15:12:10.962Z"
   },
   {
    "duration": 58,
    "start_time": "2021-12-04T15:13:26.163Z"
   },
   {
    "duration": 5,
    "start_time": "2021-12-04T15:13:26.224Z"
   },
   {
    "duration": 28,
    "start_time": "2021-12-04T15:13:26.232Z"
   },
   {
    "duration": 30,
    "start_time": "2021-12-04T15:13:26.262Z"
   },
   {
    "duration": 49,
    "start_time": "2021-12-04T15:13:26.294Z"
   },
   {
    "duration": 25,
    "start_time": "2021-12-04T15:13:26.346Z"
   },
   {
    "duration": 27,
    "start_time": "2021-12-04T15:13:30.902Z"
   },
   {
    "duration": 56,
    "start_time": "2021-12-04T15:19:28.615Z"
   },
   {
    "duration": 4,
    "start_time": "2021-12-04T15:19:28.673Z"
   },
   {
    "duration": 9,
    "start_time": "2021-12-04T15:19:28.679Z"
   },
   {
    "duration": 7,
    "start_time": "2021-12-04T15:19:28.690Z"
   },
   {
    "duration": 25,
    "start_time": "2021-12-04T15:19:28.698Z"
   },
   {
    "duration": 23,
    "start_time": "2021-12-04T15:19:28.725Z"
   },
   {
    "duration": 49,
    "start_time": "2021-12-04T15:19:28.749Z"
   },
   {
    "duration": 2056,
    "start_time": "2021-12-04T15:19:31.734Z"
   },
   {
    "duration": 55,
    "start_time": "2021-12-04T15:22:49.844Z"
   },
   {
    "duration": 4,
    "start_time": "2021-12-04T15:22:49.900Z"
   },
   {
    "duration": 15,
    "start_time": "2021-12-04T15:22:49.906Z"
   },
   {
    "duration": 7,
    "start_time": "2021-12-04T15:22:49.923Z"
   },
   {
    "duration": 23,
    "start_time": "2021-12-04T15:22:49.931Z"
   },
   {
    "duration": 43,
    "start_time": "2021-12-04T15:22:49.955Z"
   },
   {
    "duration": 27,
    "start_time": "2021-12-04T15:22:50.000Z"
   },
   {
    "duration": 24,
    "start_time": "2021-12-04T15:22:52.215Z"
   },
   {
    "duration": 26,
    "start_time": "2021-12-04T15:24:22.536Z"
   },
   {
    "duration": 4,
    "start_time": "2021-12-04T15:27:09.883Z"
   },
   {
    "duration": 58,
    "start_time": "2021-12-04T15:36:04.735Z"
   },
   {
    "duration": 310,
    "start_time": "2021-12-04T15:36:15.895Z"
   },
   {
    "duration": 4332,
    "start_time": "2021-12-04T15:36:19.872Z"
   },
   {
    "duration": 4376,
    "start_time": "2021-12-04T15:36:54.824Z"
   },
   {
    "duration": 28,
    "start_time": "2021-12-04T15:42:47.956Z"
   },
   {
    "duration": 343,
    "start_time": "2021-12-05T10:19:11.236Z"
   },
   {
    "duration": 395,
    "start_time": "2021-12-05T10:19:19.203Z"
   },
   {
    "duration": 477,
    "start_time": "2021-12-05T10:20:29.383Z"
   },
   {
    "duration": 987,
    "start_time": "2021-12-05T10:20:46.826Z"
   },
   {
    "duration": 10,
    "start_time": "2021-12-05T10:20:47.815Z"
   },
   {
    "duration": 8,
    "start_time": "2021-12-05T10:20:47.827Z"
   },
   {
    "duration": 9,
    "start_time": "2021-12-05T10:20:47.845Z"
   },
   {
    "duration": 39,
    "start_time": "2021-12-05T10:20:47.856Z"
   },
   {
    "duration": 57,
    "start_time": "2021-12-05T10:20:47.897Z"
   },
   {
    "duration": 26,
    "start_time": "2021-12-05T10:20:47.956Z"
   },
   {
    "duration": 40,
    "start_time": "2021-12-05T10:20:47.984Z"
   },
   {
    "duration": 32,
    "start_time": "2021-12-05T10:20:48.026Z"
   },
   {
    "duration": 4,
    "start_time": "2021-12-05T10:20:48.059Z"
   },
   {
    "duration": 33,
    "start_time": "2021-12-05T10:20:48.065Z"
   },
   {
    "duration": 11216,
    "start_time": "2021-12-05T10:21:00.463Z"
   },
   {
    "duration": 3,
    "start_time": "2021-12-05T10:22:40.283Z"
   },
   {
    "duration": 4,
    "start_time": "2021-12-05T10:23:31.962Z"
   },
   {
    "duration": 3,
    "start_time": "2021-12-05T10:24:02.804Z"
   },
   {
    "duration": 293,
    "start_time": "2021-12-05T10:24:22.191Z"
   },
   {
    "duration": 4,
    "start_time": "2021-12-05T10:24:33.596Z"
   },
   {
    "duration": 4668,
    "start_time": "2021-12-05T10:27:22.531Z"
   },
   {
    "duration": 56,
    "start_time": "2021-12-05T10:28:12.491Z"
   },
   {
    "duration": 6,
    "start_time": "2021-12-05T10:28:12.550Z"
   },
   {
    "duration": 10,
    "start_time": "2021-12-05T10:28:12.558Z"
   },
   {
    "duration": 7,
    "start_time": "2021-12-05T10:28:12.570Z"
   },
   {
    "duration": 23,
    "start_time": "2021-12-05T10:28:12.579Z"
   },
   {
    "duration": 50,
    "start_time": "2021-12-05T10:28:12.604Z"
   },
   {
    "duration": 25,
    "start_time": "2021-12-05T10:28:12.656Z"
   },
   {
    "duration": 23,
    "start_time": "2021-12-05T10:28:12.683Z"
   },
   {
    "duration": 51,
    "start_time": "2021-12-05T10:28:12.707Z"
   },
   {
    "duration": 3,
    "start_time": "2021-12-05T10:28:12.760Z"
   },
   {
    "duration": 26,
    "start_time": "2021-12-05T10:28:12.764Z"
   },
   {
    "duration": 4,
    "start_time": "2021-12-05T10:28:12.791Z"
   },
   {
    "duration": 3393,
    "start_time": "2021-12-05T10:28:20.895Z"
   },
   {
    "duration": 4592,
    "start_time": "2021-12-05T10:29:51.443Z"
   },
   {
    "duration": 7,
    "start_time": "2021-12-05T10:35:54.120Z"
   },
   {
    "duration": 424,
    "start_time": "2021-12-05T10:36:43.526Z"
   },
   {
    "duration": 32,
    "start_time": "2021-12-05T10:37:33.303Z"
   },
   {
    "duration": 3,
    "start_time": "2021-12-05T10:46:12.244Z"
   },
   {
    "duration": 3,
    "start_time": "2021-12-05T10:46:16.744Z"
   },
   {
    "duration": 6,
    "start_time": "2021-12-05T10:46:25.356Z"
   },
   {
    "duration": 30,
    "start_time": "2021-12-05T10:50:13.555Z"
   },
   {
    "duration": 27,
    "start_time": "2021-12-05T10:50:57.555Z"
   },
   {
    "duration": 892,
    "start_time": "2021-12-06T08:05:23.508Z"
   },
   {
    "duration": 18,
    "start_time": "2021-12-06T08:05:24.403Z"
   },
   {
    "duration": 12,
    "start_time": "2021-12-06T08:05:24.425Z"
   },
   {
    "duration": 45,
    "start_time": "2021-12-06T08:05:24.439Z"
   },
   {
    "duration": 7,
    "start_time": "2021-12-06T08:05:28.418Z"
   },
   {
    "duration": 7,
    "start_time": "2021-12-06T08:05:57.999Z"
   },
   {
    "duration": 5,
    "start_time": "2021-12-06T08:06:28.237Z"
   },
   {
    "duration": 786,
    "start_time": "2021-12-06T08:08:02.149Z"
   },
   {
    "duration": 405,
    "start_time": "2021-12-06T08:09:10.809Z"
   },
   {
    "duration": 833,
    "start_time": "2021-12-06T08:09:49.478Z"
   },
   {
    "duration": 892,
    "start_time": "2021-12-11T12:12:03.112Z"
   },
   {
    "duration": 69,
    "start_time": "2021-12-11T12:12:04.007Z"
   },
   {
    "duration": 65,
    "start_time": "2021-12-11T12:12:04.079Z"
   },
   {
    "duration": 15,
    "start_time": "2021-12-11T12:12:04.148Z"
   },
   {
    "duration": 13,
    "start_time": "2021-12-11T12:12:04.166Z"
   },
   {
    "duration": 60,
    "start_time": "2021-12-11T12:12:04.182Z"
   },
   {
    "duration": 48,
    "start_time": "2021-12-11T12:12:04.245Z"
   },
   {
    "duration": 25,
    "start_time": "2021-12-11T12:12:04.298Z"
   },
   {
    "duration": 13,
    "start_time": "2021-12-11T12:12:04.328Z"
   },
   {
    "duration": 20,
    "start_time": "2021-12-11T12:12:04.345Z"
   },
   {
    "duration": 459,
    "start_time": "2021-12-11T12:12:04.368Z"
   },
   {
    "duration": 62,
    "start_time": "2021-12-11T12:12:04.830Z"
   },
   {
    "duration": 77,
    "start_time": "2021-12-11T12:12:04.896Z"
   },
   {
    "duration": 92,
    "start_time": "2021-12-11T12:12:04.976Z"
   },
   {
    "duration": 65,
    "start_time": "2021-12-11T12:12:05.072Z"
   },
   {
    "duration": 41,
    "start_time": "2021-12-11T12:12:05.140Z"
   },
   {
    "duration": 5,
    "start_time": "2021-12-11T12:12:05.184Z"
   },
   {
    "duration": 49,
    "start_time": "2021-12-11T12:12:05.225Z"
   },
   {
    "duration": 76,
    "start_time": "2021-12-11T12:12:05.277Z"
   },
   {
    "duration": 39,
    "start_time": "2021-12-11T12:12:05.355Z"
   },
   {
    "duration": 967,
    "start_time": "2021-12-11T12:12:05.396Z"
   },
   {
    "duration": 12,
    "start_time": "2021-12-11T12:12:06.366Z"
   },
   {
    "duration": 36,
    "start_time": "2021-12-11T12:12:06.386Z"
   },
   {
    "duration": 310,
    "start_time": "2021-12-11T12:12:06.433Z"
   },
   {
    "duration": 6,
    "start_time": "2021-12-11T12:12:06.746Z"
   },
   {
    "duration": 20,
    "start_time": "2021-12-11T12:12:06.755Z"
   },
   {
    "duration": 31,
    "start_time": "2021-12-11T12:12:06.777Z"
   },
   {
    "duration": 29,
    "start_time": "2021-12-11T12:12:06.811Z"
   },
   {
    "duration": 319,
    "start_time": "2021-12-11T12:12:06.843Z"
   },
   {
    "duration": 33,
    "start_time": "2021-12-11T12:12:07.165Z"
   },
   {
    "duration": 26,
    "start_time": "2021-12-11T12:12:07.201Z"
   },
   {
    "duration": 34,
    "start_time": "2021-12-11T12:12:07.229Z"
   },
   {
    "duration": 28,
    "start_time": "2021-12-11T12:12:07.266Z"
   },
   {
    "duration": 33,
    "start_time": "2021-12-11T12:12:07.296Z"
   },
   {
    "duration": 46,
    "start_time": "2021-12-11T12:12:07.331Z"
   },
   {
    "duration": 25,
    "start_time": "2021-12-11T12:12:07.380Z"
   },
   {
    "duration": 47,
    "start_time": "2021-12-11T12:12:07.407Z"
   },
   {
    "duration": 40,
    "start_time": "2021-12-11T12:12:07.456Z"
   },
   {
    "duration": 9,
    "start_time": "2021-12-11T12:12:07.499Z"
   },
   {
    "duration": 268,
    "start_time": "2021-12-11T12:12:07.511Z"
   },
   {
    "duration": 12,
    "start_time": "2021-12-11T12:12:07.782Z"
   },
   {
    "duration": 346,
    "start_time": "2021-12-11T12:12:07.797Z"
   },
   {
    "duration": 16,
    "start_time": "2021-12-11T12:12:08.145Z"
   },
   {
    "duration": 16,
    "start_time": "2021-12-11T12:12:08.164Z"
   },
   {
    "duration": 60,
    "start_time": "2021-12-11T12:12:08.183Z"
   },
   {
    "duration": 23,
    "start_time": "2021-12-11T12:12:08.245Z"
   },
   {
    "duration": 11,
    "start_time": "2021-12-11T12:12:08.270Z"
   },
   {
    "duration": 11,
    "start_time": "2021-12-11T12:12:08.283Z"
   },
   {
    "duration": 54,
    "start_time": "2021-12-11T12:12:08.297Z"
   },
   {
    "duration": 15,
    "start_time": "2021-12-11T12:12:08.354Z"
   },
   {
    "duration": 24,
    "start_time": "2021-12-11T12:12:08.372Z"
   },
   {
    "duration": 10,
    "start_time": "2021-12-11T12:12:08.432Z"
   },
   {
    "duration": 4,
    "start_time": "2021-12-11T12:12:08.445Z"
   },
   {
    "duration": 13,
    "start_time": "2021-12-11T12:12:08.451Z"
   },
   {
    "duration": 714,
    "start_time": "2021-12-11T12:12:08.467Z"
   },
   {
    "duration": 675,
    "start_time": "2021-12-11T12:12:09.183Z"
   },
   {
    "duration": 694,
    "start_time": "2021-12-11T12:12:09.861Z"
   },
   {
    "duration": 701,
    "start_time": "2021-12-11T12:12:10.558Z"
   },
   {
    "duration": 746,
    "start_time": "2021-12-11T12:12:11.261Z"
   },
   {
    "duration": 43,
    "start_time": "2021-12-11T12:12:12.010Z"
   },
   {
    "duration": 28,
    "start_time": "2021-12-11T12:12:12.056Z"
   },
   {
    "duration": 5432,
    "start_time": "2021-12-11T12:12:12.087Z"
   },
   {
    "duration": -1260,
    "start_time": "2021-12-11T12:12:18.786Z"
   },
   {
    "duration": -1260,
    "start_time": "2021-12-11T12:12:18.789Z"
   },
   {
    "duration": -1262,
    "start_time": "2021-12-11T12:12:18.792Z"
   },
   {
    "duration": -1263,
    "start_time": "2021-12-11T12:12:18.795Z"
   },
   {
    "duration": -1264,
    "start_time": "2021-12-11T12:12:18.798Z"
   },
   {
    "duration": -1265,
    "start_time": "2021-12-11T12:12:18.801Z"
   },
   {
    "duration": -1265,
    "start_time": "2021-12-11T12:12:18.803Z"
   },
   {
    "duration": -1267,
    "start_time": "2021-12-11T12:12:18.806Z"
   },
   {
    "duration": -1268,
    "start_time": "2021-12-11T12:12:18.809Z"
   },
   {
    "duration": -1270,
    "start_time": "2021-12-11T12:12:18.812Z"
   },
   {
    "duration": -1270,
    "start_time": "2021-12-11T12:12:18.814Z"
   },
   {
    "duration": -1272,
    "start_time": "2021-12-11T12:12:18.817Z"
   },
   {
    "duration": -1273,
    "start_time": "2021-12-11T12:12:18.820Z"
   },
   {
    "duration": -1275,
    "start_time": "2021-12-11T12:12:18.823Z"
   },
   {
    "duration": -1276,
    "start_time": "2021-12-11T12:12:18.825Z"
   },
   {
    "duration": -1277,
    "start_time": "2021-12-11T12:12:18.828Z"
   },
   {
    "duration": -1319,
    "start_time": "2021-12-11T12:12:18.871Z"
   },
   {
    "duration": -1321,
    "start_time": "2021-12-11T12:12:18.875Z"
   },
   {
    "duration": -1323,
    "start_time": "2021-12-11T12:12:18.878Z"
   },
   {
    "duration": -1326,
    "start_time": "2021-12-11T12:12:18.883Z"
   },
   {
    "duration": -1329,
    "start_time": "2021-12-11T12:12:18.887Z"
   },
   {
    "duration": -1330,
    "start_time": "2021-12-11T12:12:18.890Z"
   },
   {
    "duration": -1332,
    "start_time": "2021-12-11T12:12:18.893Z"
   },
   {
    "duration": -1336,
    "start_time": "2021-12-11T12:12:18.898Z"
   },
   {
    "duration": -1338,
    "start_time": "2021-12-11T12:12:18.902Z"
   },
   {
    "duration": -1341,
    "start_time": "2021-12-11T12:12:18.906Z"
   },
   {
    "duration": -1281,
    "start_time": "2021-12-11T12:12:18.909Z"
   },
   {
    "duration": -1282,
    "start_time": "2021-12-11T12:12:18.912Z"
   },
   {
    "duration": -1284,
    "start_time": "2021-12-11T12:12:18.916Z"
   },
   {
    "duration": -1331,
    "start_time": "2021-12-11T12:12:18.966Z"
   },
   {
    "duration": -1332,
    "start_time": "2021-12-11T12:12:18.970Z"
   },
   {
    "duration": -1338,
    "start_time": "2021-12-11T12:12:18.977Z"
   },
   {
    "duration": -1346,
    "start_time": "2021-12-11T12:12:18.987Z"
   },
   {
    "duration": -1348,
    "start_time": "2021-12-11T12:12:18.991Z"
   },
   {
    "duration": -1349,
    "start_time": "2021-12-11T12:12:18.994Z"
   },
   {
    "duration": -1351,
    "start_time": "2021-12-11T12:12:18.999Z"
   },
   {
    "duration": -1354,
    "start_time": "2021-12-11T12:12:19.004Z"
   },
   {
    "duration": -1356,
    "start_time": "2021-12-11T12:12:19.008Z"
   },
   {
    "duration": -1357,
    "start_time": "2021-12-11T12:12:19.011Z"
   },
   {
    "duration": -1360,
    "start_time": "2021-12-11T12:12:19.016Z"
   },
   {
    "duration": -1362,
    "start_time": "2021-12-11T12:12:19.020Z"
   },
   {
    "duration": -1363,
    "start_time": "2021-12-11T12:12:19.023Z"
   },
   {
    "duration": -1363,
    "start_time": "2021-12-11T12:12:19.026Z"
   },
   {
    "duration": -1307,
    "start_time": "2021-12-11T12:12:19.031Z"
   },
   {
    "duration": -1309,
    "start_time": "2021-12-11T12:12:19.035Z"
   },
   {
    "duration": -1310,
    "start_time": "2021-12-11T12:12:19.039Z"
   },
   {
    "duration": -1311,
    "start_time": "2021-12-11T12:12:19.042Z"
   },
   {
    "duration": -1312,
    "start_time": "2021-12-11T12:12:19.045Z"
   },
   {
    "duration": -1316,
    "start_time": "2021-12-11T12:12:19.050Z"
   },
   {
    "duration": -1330,
    "start_time": "2021-12-11T12:12:19.066Z"
   },
   {
    "duration": -1334,
    "start_time": "2021-12-11T12:12:19.072Z"
   },
   {
    "duration": -1335,
    "start_time": "2021-12-11T12:12:19.075Z"
   },
   {
    "duration": -1336,
    "start_time": "2021-12-11T12:12:19.077Z"
   },
   {
    "duration": -1338,
    "start_time": "2021-12-11T12:12:19.082Z"
   },
   {
    "duration": -1340,
    "start_time": "2021-12-11T12:12:19.086Z"
   },
   {
    "duration": -1342,
    "start_time": "2021-12-11T12:12:19.089Z"
   },
   {
    "duration": -1343,
    "start_time": "2021-12-11T12:12:19.092Z"
   },
   {
    "duration": -1345,
    "start_time": "2021-12-11T12:12:19.095Z"
   },
   {
    "duration": 25,
    "start_time": "2021-12-11T12:18:52.295Z"
   },
   {
    "duration": 121,
    "start_time": "2021-12-11T12:18:56.504Z"
   },
   {
    "duration": 11,
    "start_time": "2021-12-11T12:19:02.134Z"
   },
   {
    "duration": 412,
    "start_time": "2021-12-11T12:21:33.336Z"
   },
   {
    "duration": -1351,
    "start_time": "2021-12-11T12:21:35.105Z"
   },
   {
    "duration": -1356,
    "start_time": "2021-12-11T12:21:35.112Z"
   },
   {
    "duration": -1360,
    "start_time": "2021-12-11T12:21:35.118Z"
   },
   {
    "duration": -1363,
    "start_time": "2021-12-11T12:21:35.123Z"
   },
   {
    "duration": -1365,
    "start_time": "2021-12-11T12:21:35.127Z"
   },
   {
    "duration": -1366,
    "start_time": "2021-12-11T12:21:35.131Z"
   },
   {
    "duration": -1367,
    "start_time": "2021-12-11T12:21:35.134Z"
   },
   {
    "duration": -1369,
    "start_time": "2021-12-11T12:21:35.138Z"
   },
   {
    "duration": -1371,
    "start_time": "2021-12-11T12:21:35.142Z"
   },
   {
    "duration": -1373,
    "start_time": "2021-12-11T12:21:35.146Z"
   },
   {
    "duration": -1374,
    "start_time": "2021-12-11T12:21:35.149Z"
   },
   {
    "duration": -1376,
    "start_time": "2021-12-11T12:21:35.153Z"
   },
   {
    "duration": -1378,
    "start_time": "2021-12-11T12:21:35.157Z"
   },
   {
    "duration": -1384,
    "start_time": "2021-12-11T12:21:35.165Z"
   },
   {
    "duration": -1424,
    "start_time": "2021-12-11T12:21:35.207Z"
   },
   {
    "duration": -1429,
    "start_time": "2021-12-11T12:21:35.214Z"
   },
   {
    "duration": -1437,
    "start_time": "2021-12-11T12:21:35.224Z"
   },
   {
    "duration": -1439,
    "start_time": "2021-12-11T12:21:35.228Z"
   },
   {
    "duration": -1441,
    "start_time": "2021-12-11T12:21:35.232Z"
   },
   {
    "duration": -1444,
    "start_time": "2021-12-11T12:21:35.236Z"
   },
   {
    "duration": -1446,
    "start_time": "2021-12-11T12:21:35.239Z"
   },
   {
    "duration": -1448,
    "start_time": "2021-12-11T12:21:35.242Z"
   },
   {
    "duration": -1422,
    "start_time": "2021-12-11T12:21:35.246Z"
   },
   {
    "duration": -1423,
    "start_time": "2021-12-11T12:21:35.249Z"
   },
   {
    "duration": -1474,
    "start_time": "2021-12-11T12:21:35.302Z"
   },
   {
    "duration": -1489,
    "start_time": "2021-12-11T12:21:35.319Z"
   },
   {
    "duration": -1492,
    "start_time": "2021-12-11T12:21:35.324Z"
   },
   {
    "duration": -1496,
    "start_time": "2021-12-11T12:21:35.330Z"
   },
   {
    "duration": -1498,
    "start_time": "2021-12-11T12:21:35.334Z"
   },
   {
    "duration": -1500,
    "start_time": "2021-12-11T12:21:35.338Z"
   },
   {
    "duration": -1501,
    "start_time": "2021-12-11T12:21:35.341Z"
   },
   {
    "duration": -1503,
    "start_time": "2021-12-11T12:21:35.345Z"
   },
   {
    "duration": -1504,
    "start_time": "2021-12-11T12:21:35.348Z"
   },
   {
    "duration": -1506,
    "start_time": "2021-12-11T12:21:35.352Z"
   },
   {
    "duration": -1524,
    "start_time": "2021-12-11T12:21:35.373Z"
   },
   {
    "duration": -1526,
    "start_time": "2021-12-11T12:21:35.377Z"
   },
   {
    "duration": -1544,
    "start_time": "2021-12-11T12:21:35.397Z"
   },
   {
    "duration": -1545,
    "start_time": "2021-12-11T12:21:35.400Z"
   },
   {
    "duration": -1643,
    "start_time": "2021-12-11T12:21:35.500Z"
   },
   {
    "duration": -1721,
    "start_time": "2021-12-11T12:21:35.580Z"
   },
   {
    "duration": -1722,
    "start_time": "2021-12-11T12:21:35.583Z"
   },
   {
    "duration": -1664,
    "start_time": "2021-12-11T12:21:35.587Z"
   },
   {
    "duration": -1664,
    "start_time": "2021-12-11T12:21:35.590Z"
   },
   {
    "duration": -1666,
    "start_time": "2021-12-11T12:21:35.594Z"
   },
   {
    "duration": -1667,
    "start_time": "2021-12-11T12:21:35.597Z"
   },
   {
    "duration": -1667,
    "start_time": "2021-12-11T12:21:35.600Z"
   },
   {
    "duration": -1669,
    "start_time": "2021-12-11T12:21:35.603Z"
   },
   {
    "duration": -1671,
    "start_time": "2021-12-11T12:21:35.607Z"
   },
   {
    "duration": -1671,
    "start_time": "2021-12-11T12:21:35.610Z"
   },
   {
    "duration": -1672,
    "start_time": "2021-12-11T12:21:35.613Z"
   },
   {
    "duration": -1684,
    "start_time": "2021-12-11T12:21:35.628Z"
   },
   {
    "duration": -1686,
    "start_time": "2021-12-11T12:21:35.632Z"
   },
   {
    "duration": -1686,
    "start_time": "2021-12-11T12:21:35.635Z"
   },
   {
    "duration": -1694,
    "start_time": "2021-12-11T12:21:35.645Z"
   },
   {
    "duration": -1697,
    "start_time": "2021-12-11T12:21:35.649Z"
   },
   {
    "duration": -1698,
    "start_time": "2021-12-11T12:21:35.653Z"
   },
   {
    "duration": -1699,
    "start_time": "2021-12-11T12:21:35.657Z"
   },
   {
    "duration": 418,
    "start_time": "2021-12-11T12:21:48.170Z"
   },
   {
    "duration": -1303,
    "start_time": "2021-12-11T12:21:49.895Z"
   },
   {
    "duration": 9098,
    "start_time": "2021-12-11T12:21:49.263Z"
   },
   {
    "duration": 752,
    "start_time": "2021-12-11T12:22:34.994Z"
   },
   {
    "duration": 296,
    "start_time": "2021-12-11T12:22:35.748Z"
   },
   {
    "duration": 20,
    "start_time": "2021-12-11T12:22:36.047Z"
   },
   {
    "duration": 23,
    "start_time": "2021-12-11T12:22:36.070Z"
   },
   {
    "duration": 34,
    "start_time": "2021-12-11T12:22:36.096Z"
   },
   {
    "duration": 1097,
    "start_time": "2021-12-11T12:22:36.133Z"
   },
   {
    "duration": 10511,
    "start_time": "2021-12-11T12:22:37.233Z"
   },
   {
    "duration": -1314,
    "start_time": "2021-12-11T12:22:49.064Z"
   },
   {
    "duration": -1317,
    "start_time": "2021-12-11T12:22:49.069Z"
   },
   {
    "duration": -1319,
    "start_time": "2021-12-11T12:22:49.073Z"
   },
   {
    "duration": -1320,
    "start_time": "2021-12-11T12:22:49.076Z"
   },
   {
    "duration": -1322,
    "start_time": "2021-12-11T12:22:49.080Z"
   },
   {
    "duration": -1323,
    "start_time": "2021-12-11T12:22:49.083Z"
   },
   {
    "duration": -1324,
    "start_time": "2021-12-11T12:22:49.086Z"
   },
   {
    "duration": -1326,
    "start_time": "2021-12-11T12:22:49.090Z"
   },
   {
    "duration": -1327,
    "start_time": "2021-12-11T12:22:49.093Z"
   },
   {
    "duration": -1357,
    "start_time": "2021-12-11T12:22:49.125Z"
   },
   {
    "duration": -1264,
    "start_time": "2021-12-11T12:22:49.130Z"
   },
   {
    "duration": -1272,
    "start_time": "2021-12-11T12:22:49.140Z"
   },
   {
    "duration": -1486,
    "start_time": "2021-12-11T12:22:49.356Z"
   },
   {
    "duration": -1491,
    "start_time": "2021-12-11T12:22:49.363Z"
   },
   {
    "duration": -1760,
    "start_time": "2021-12-11T12:22:49.634Z"
   },
   {
    "duration": -1857,
    "start_time": "2021-12-11T12:22:49.734Z"
   },
   {
    "duration": -1880,
    "start_time": "2021-12-11T12:22:49.759Z"
   },
   {
    "duration": -1899,
    "start_time": "2021-12-11T12:22:49.780Z"
   },
   {
    "duration": -1922,
    "start_time": "2021-12-11T12:22:49.805Z"
   },
   {
    "duration": -1940,
    "start_time": "2021-12-11T12:22:49.825Z"
   },
   {
    "duration": -1958,
    "start_time": "2021-12-11T12:22:49.845Z"
   },
   {
    "duration": -1964,
    "start_time": "2021-12-11T12:22:49.852Z"
   },
   {
    "duration": -1967,
    "start_time": "2021-12-11T12:22:49.857Z"
   },
   {
    "duration": -1936,
    "start_time": "2021-12-11T12:22:49.860Z"
   },
   {
    "duration": -1939,
    "start_time": "2021-12-11T12:22:49.865Z"
   },
   {
    "duration": -1942,
    "start_time": "2021-12-11T12:22:49.871Z"
   },
   {
    "duration": -1944,
    "start_time": "2021-12-11T12:22:49.875Z"
   },
   {
    "duration": -1945,
    "start_time": "2021-12-11T12:22:49.878Z"
   },
   {
    "duration": -1949,
    "start_time": "2021-12-11T12:22:49.884Z"
   },
   {
    "duration": -1952,
    "start_time": "2021-12-11T12:22:49.889Z"
   },
   {
    "duration": -1954,
    "start_time": "2021-12-11T12:22:49.893Z"
   },
   {
    "duration": -1955,
    "start_time": "2021-12-11T12:22:49.896Z"
   },
   {
    "duration": -1959,
    "start_time": "2021-12-11T12:22:49.902Z"
   },
   {
    "duration": -1961,
    "start_time": "2021-12-11T12:22:49.906Z"
   },
   {
    "duration": -1963,
    "start_time": "2021-12-11T12:22:49.910Z"
   },
   {
    "duration": -1964,
    "start_time": "2021-12-11T12:22:49.913Z"
   },
   {
    "duration": -1970,
    "start_time": "2021-12-11T12:22:49.920Z"
   },
   {
    "duration": -1973,
    "start_time": "2021-12-11T12:22:49.924Z"
   },
   {
    "duration": -1975,
    "start_time": "2021-12-11T12:22:49.927Z"
   },
   {
    "duration": -1977,
    "start_time": "2021-12-11T12:22:49.931Z"
   },
   {
    "duration": -1981,
    "start_time": "2021-12-11T12:22:49.936Z"
   },
   {
    "duration": -1984,
    "start_time": "2021-12-11T12:22:49.940Z"
   },
   {
    "duration": -2003,
    "start_time": "2021-12-11T12:22:49.961Z"
   },
   {
    "duration": -1943,
    "start_time": "2021-12-11T12:22:49.966Z"
   },
   {
    "duration": -1947,
    "start_time": "2021-12-11T12:22:49.971Z"
   },
   {
    "duration": -1949,
    "start_time": "2021-12-11T12:22:49.975Z"
   },
   {
    "duration": -1951,
    "start_time": "2021-12-11T12:22:49.978Z"
   },
   {
    "duration": 8,
    "start_time": "2021-12-11T12:23:12.917Z"
   },
   {
    "duration": 10,
    "start_time": "2021-12-11T12:23:12.928Z"
   },
   {
    "duration": 9,
    "start_time": "2021-12-11T12:23:12.941Z"
   },
   {
    "duration": 73,
    "start_time": "2021-12-11T12:23:12.952Z"
   },
   {
    "duration": 7,
    "start_time": "2021-12-11T12:23:13.027Z"
   },
   {
    "duration": 11,
    "start_time": "2021-12-11T12:23:13.036Z"
   },
   {
    "duration": 338,
    "start_time": "2021-12-11T12:23:13.049Z"
   },
   {
    "duration": 8,
    "start_time": "2021-12-11T12:23:13.391Z"
   },
   {
    "duration": 36,
    "start_time": "2021-12-11T12:23:13.402Z"
   },
   {
    "duration": 28,
    "start_time": "2021-12-11T12:23:13.440Z"
   },
   {
    "duration": 22,
    "start_time": "2021-12-11T12:23:13.470Z"
   },
   {
    "duration": 9021,
    "start_time": "2021-12-11T12:23:13.495Z"
   },
   {
    "duration": -1293,
    "start_time": "2021-12-11T12:23:23.813Z"
   },
   {
    "duration": -1297,
    "start_time": "2021-12-11T12:23:23.819Z"
   },
   {
    "duration": -1301,
    "start_time": "2021-12-11T12:23:23.825Z"
   },
   {
    "duration": -1305,
    "start_time": "2021-12-11T12:23:23.830Z"
   },
   {
    "duration": -1308,
    "start_time": "2021-12-11T12:23:23.834Z"
   },
   {
    "duration": -1309,
    "start_time": "2021-12-11T12:23:23.837Z"
   },
   {
    "duration": -1312,
    "start_time": "2021-12-11T12:23:23.841Z"
   },
   {
    "duration": -1313,
    "start_time": "2021-12-11T12:23:23.844Z"
   },
   {
    "duration": -1315,
    "start_time": "2021-12-11T12:23:23.847Z"
   },
   {
    "duration": -1317,
    "start_time": "2021-12-11T12:23:23.850Z"
   },
   {
    "duration": -1319,
    "start_time": "2021-12-11T12:23:23.854Z"
   },
   {
    "duration": -1321,
    "start_time": "2021-12-11T12:23:23.857Z"
   },
   {
    "duration": -1323,
    "start_time": "2021-12-11T12:23:23.860Z"
   },
   {
    "duration": -1331,
    "start_time": "2021-12-11T12:23:23.870Z"
   },
   {
    "duration": -1336,
    "start_time": "2021-12-11T12:23:23.876Z"
   },
   {
    "duration": -1340,
    "start_time": "2021-12-11T12:23:23.882Z"
   },
   {
    "duration": -1343,
    "start_time": "2021-12-11T12:23:23.886Z"
   },
   {
    "duration": -1345,
    "start_time": "2021-12-11T12:23:23.889Z"
   },
   {
    "duration": -1348,
    "start_time": "2021-12-11T12:23:23.893Z"
   },
   {
    "duration": -1361,
    "start_time": "2021-12-11T12:23:23.908Z"
   },
   {
    "duration": -1368,
    "start_time": "2021-12-11T12:23:23.916Z"
   },
   {
    "duration": -1372,
    "start_time": "2021-12-11T12:23:23.922Z"
   },
   {
    "duration": -1376,
    "start_time": "2021-12-11T12:23:23.927Z"
   },
   {
    "duration": -1380,
    "start_time": "2021-12-11T12:23:23.932Z"
   },
   {
    "duration": -1383,
    "start_time": "2021-12-11T12:23:23.936Z"
   },
   {
    "duration": -1386,
    "start_time": "2021-12-11T12:23:23.941Z"
   },
   {
    "duration": -1390,
    "start_time": "2021-12-11T12:23:23.946Z"
   },
   {
    "duration": -1393,
    "start_time": "2021-12-11T12:23:23.950Z"
   },
   {
    "duration": -1396,
    "start_time": "2021-12-11T12:23:23.955Z"
   },
   {
    "duration": -1399,
    "start_time": "2021-12-11T12:23:23.959Z"
   },
   {
    "duration": -1401,
    "start_time": "2021-12-11T12:23:23.963Z"
   },
   {
    "duration": -1344,
    "start_time": "2021-12-11T12:23:23.967Z"
   },
   {
    "duration": -1345,
    "start_time": "2021-12-11T12:23:23.970Z"
   },
   {
    "duration": -1348,
    "start_time": "2021-12-11T12:23:23.974Z"
   },
   {
    "duration": -1366,
    "start_time": "2021-12-11T12:23:23.994Z"
   },
   {
    "duration": 25,
    "start_time": "2021-12-11T12:23:36.481Z"
   },
   {
    "duration": 15,
    "start_time": "2021-12-11T12:23:39.692Z"
   },
   {
    "duration": 889,
    "start_time": "2021-12-11T12:23:40.802Z"
   },
   {
    "duration": 17,
    "start_time": "2021-12-11T12:24:16.774Z"
   },
   {
    "duration": 7,
    "start_time": "2021-12-11T12:24:16.794Z"
   },
   {
    "duration": 207001,
    "start_time": "2021-12-11T12:24:16.804Z"
   },
   {
    "duration": 3826,
    "start_time": "2021-12-11T12:27:43.807Z"
   },
   {
    "duration": -1961,
    "start_time": "2021-12-11T12:27:49.600Z"
   },
   {
    "duration": -1973,
    "start_time": "2021-12-11T12:27:49.614Z"
   },
   {
    "duration": -1983,
    "start_time": "2021-12-11T12:27:49.627Z"
   },
   {
    "duration": -1995,
    "start_time": "2021-12-11T12:27:49.641Z"
   },
   {
    "duration": -2005,
    "start_time": "2021-12-11T12:27:49.653Z"
   },
   {
    "duration": -2014,
    "start_time": "2021-12-11T12:27:49.665Z"
   },
   {
    "duration": -3944,
    "start_time": "2021-12-11T12:27:51.597Z"
   },
   {
    "duration": -3947,
    "start_time": "2021-12-11T12:27:51.602Z"
   },
   {
    "duration": -3948,
    "start_time": "2021-12-11T12:27:51.606Z"
   },
   {
    "duration": -3950,
    "start_time": "2021-12-11T12:27:51.610Z"
   },
   {
    "duration": -3951,
    "start_time": "2021-12-11T12:27:51.613Z"
   },
   {
    "duration": -3962,
    "start_time": "2021-12-11T12:27:51.626Z"
   },
   {
    "duration": -3965,
    "start_time": "2021-12-11T12:27:51.632Z"
   },
   {
    "duration": -3968,
    "start_time": "2021-12-11T12:27:51.637Z"
   },
   {
    "duration": -3969,
    "start_time": "2021-12-11T12:27:51.641Z"
   },
   {
    "duration": -3970,
    "start_time": "2021-12-11T12:27:51.644Z"
   },
   {
    "duration": -3972,
    "start_time": "2021-12-11T12:27:51.648Z"
   },
   {
    "duration": -3973,
    "start_time": "2021-12-11T12:27:51.652Z"
   },
   {
    "duration": -3995,
    "start_time": "2021-12-11T12:27:51.676Z"
   },
   {
    "duration": -4012,
    "start_time": "2021-12-11T12:27:51.695Z"
   },
   {
    "duration": -4027,
    "start_time": "2021-12-11T12:27:51.712Z"
   },
   {
    "duration": -4040,
    "start_time": "2021-12-11T12:27:51.728Z"
   },
   {
    "duration": -4121,
    "start_time": "2021-12-11T12:27:51.811Z"
   },
   {
    "duration": -4122,
    "start_time": "2021-12-11T12:27:51.815Z"
   },
   {
    "duration": -4126,
    "start_time": "2021-12-11T12:27:51.821Z"
   },
   {
    "duration": -4128,
    "start_time": "2021-12-11T12:27:51.825Z"
   },
   {
    "duration": -4130,
    "start_time": "2021-12-11T12:27:51.829Z"
   },
   {
    "duration": -4131,
    "start_time": "2021-12-11T12:27:51.833Z"
   },
   {
    "duration": 102,
    "start_time": "2021-12-11T12:55:23.887Z"
   },
   {
    "duration": 470,
    "start_time": "2021-12-11T13:06:20.652Z"
   },
   {
    "duration": 837,
    "start_time": "2021-12-11T13:06:49.974Z"
   },
   {
    "duration": 67,
    "start_time": "2021-12-11T13:06:52.412Z"
   },
   {
    "duration": 20,
    "start_time": "2021-12-11T13:07:25.236Z"
   },
   {
    "duration": 11,
    "start_time": "2021-12-11T13:07:30.396Z"
   },
   {
    "duration": 40,
    "start_time": "2021-12-11T13:07:56.466Z"
   },
   {
    "duration": 43,
    "start_time": "2021-12-11T13:08:02.798Z"
   },
   {
    "duration": 22,
    "start_time": "2021-12-11T13:10:55.646Z"
   },
   {
    "duration": 10,
    "start_time": "2021-12-11T13:13:09.285Z"
   },
   {
    "duration": 27,
    "start_time": "2021-12-11T13:13:12.633Z"
   },
   {
    "duration": 22,
    "start_time": "2021-12-11T13:13:16.297Z"
   },
   {
    "duration": 339,
    "start_time": "2021-12-11T13:14:29.091Z"
   },
   {
    "duration": 418,
    "start_time": "2021-12-11T13:14:52.670Z"
   },
   {
    "duration": 18,
    "start_time": "2021-12-11T13:16:47.619Z"
   },
   {
    "duration": 376,
    "start_time": "2021-12-11T13:20:52.482Z"
   },
   {
    "duration": 13,
    "start_time": "2021-12-11T13:21:22.397Z"
   },
   {
    "duration": 643,
    "start_time": "2021-12-11T13:42:29.483Z"
   },
   {
    "duration": 7,
    "start_time": "2021-12-11T14:19:55.627Z"
   },
   {
    "duration": 293,
    "start_time": "2021-12-11T15:15:20.607Z"
   },
   {
    "duration": 631,
    "start_time": "2021-12-11T15:16:02.551Z"
   },
   {
    "duration": 21,
    "start_time": "2021-12-11T15:18:17.881Z"
   },
   {
    "duration": 22,
    "start_time": "2021-12-11T15:23:56.519Z"
   },
   {
    "duration": 128,
    "start_time": "2021-12-11T15:38:01.471Z"
   },
   {
    "duration": 12,
    "start_time": "2021-12-11T15:38:08.631Z"
   },
   {
    "duration": 34,
    "start_time": "2021-12-11T15:39:09.331Z"
   },
   {
    "duration": 57,
    "start_time": "2021-12-11T15:46:16.138Z"
   },
   {
    "duration": 97,
    "start_time": "2021-12-11T16:09:27.206Z"
   },
   {
    "duration": 101,
    "start_time": "2021-12-11T16:09:56.638Z"
   },
   {
    "duration": 100,
    "start_time": "2021-12-11T16:10:25.696Z"
   },
   {
    "duration": 99,
    "start_time": "2021-12-11T16:10:40.956Z"
   },
   {
    "duration": 296,
    "start_time": "2021-12-11T16:20:58.706Z"
   },
   {
    "duration": 550,
    "start_time": "2021-12-11T16:22:48.110Z"
   },
   {
    "duration": 10,
    "start_time": "2021-12-11T16:22:59.033Z"
   },
   {
    "duration": 315,
    "start_time": "2021-12-11T16:24:01.116Z"
   },
   {
    "duration": 24,
    "start_time": "2021-12-11T16:25:11.342Z"
   },
   {
    "duration": 46,
    "start_time": "2021-12-11T16:25:35.864Z"
   },
   {
    "duration": 67,
    "start_time": "2021-12-11T16:27:04.155Z"
   },
   {
    "duration": 38,
    "start_time": "2021-12-11T16:27:09.045Z"
   },
   {
    "duration": 15,
    "start_time": "2021-12-11T16:27:14.227Z"
   },
   {
    "duration": 12,
    "start_time": "2021-12-11T16:27:20.935Z"
   },
   {
    "duration": 47,
    "start_time": "2021-12-11T16:27:30.474Z"
   },
   {
    "duration": 12,
    "start_time": "2021-12-11T16:27:43.271Z"
   },
   {
    "duration": 15,
    "start_time": "2021-12-11T16:27:45.116Z"
   },
   {
    "duration": 11,
    "start_time": "2021-12-11T16:28:20.265Z"
   },
   {
    "duration": 3,
    "start_time": "2021-12-11T16:29:02.693Z"
   },
   {
    "duration": 68,
    "start_time": "2021-12-11T16:29:02.703Z"
   },
   {
    "duration": 35,
    "start_time": "2021-12-11T16:29:02.773Z"
   },
   {
    "duration": 15,
    "start_time": "2021-12-11T16:29:02.817Z"
   },
   {
    "duration": 12,
    "start_time": "2021-12-11T16:29:02.835Z"
   },
   {
    "duration": 16,
    "start_time": "2021-12-11T16:29:02.850Z"
   },
   {
    "duration": 45,
    "start_time": "2021-12-11T16:29:02.917Z"
   },
   {
    "duration": 5,
    "start_time": "2021-12-11T16:29:02.965Z"
   },
   {
    "duration": 48,
    "start_time": "2021-12-11T16:29:02.973Z"
   },
   {
    "duration": 16,
    "start_time": "2021-12-11T16:29:03.024Z"
   },
   {
    "duration": 323,
    "start_time": "2021-12-11T16:29:03.043Z"
   },
   {
    "duration": 75,
    "start_time": "2021-12-11T16:29:03.369Z"
   },
   {
    "duration": 71,
    "start_time": "2021-12-11T16:29:03.448Z"
   },
   {
    "duration": 69,
    "start_time": "2021-12-11T16:29:03.522Z"
   },
   {
    "duration": 60,
    "start_time": "2021-12-11T16:29:03.594Z"
   },
   {
    "duration": 63,
    "start_time": "2021-12-11T16:29:03.656Z"
   },
   {
    "duration": 5,
    "start_time": "2021-12-11T16:29:03.721Z"
   },
   {
    "duration": 115,
    "start_time": "2021-12-11T16:29:03.729Z"
   },
   {
    "duration": 44,
    "start_time": "2021-12-11T16:29:03.846Z"
   },
   {
    "duration": 60,
    "start_time": "2021-12-11T16:29:03.892Z"
   },
   {
    "duration": 697,
    "start_time": "2021-12-11T16:29:03.954Z"
   },
   {
    "duration": 11,
    "start_time": "2021-12-11T16:29:04.654Z"
   },
   {
    "duration": 38,
    "start_time": "2021-12-11T16:29:04.667Z"
   },
   {
    "duration": 320,
    "start_time": "2021-12-11T16:29:04.711Z"
   },
   {
    "duration": 10,
    "start_time": "2021-12-11T16:29:05.035Z"
   },
   {
    "duration": 17,
    "start_time": "2021-12-11T16:29:05.048Z"
   },
   {
    "duration": 60,
    "start_time": "2021-12-11T16:29:05.068Z"
   },
   {
    "duration": 10,
    "start_time": "2021-12-11T16:29:05.131Z"
   },
   {
    "duration": 281,
    "start_time": "2021-12-11T16:29:05.144Z"
   },
   {
    "duration": 33,
    "start_time": "2021-12-11T16:29:05.428Z"
   },
   {
    "duration": 14,
    "start_time": "2021-12-11T16:29:05.464Z"
   },
   {
    "duration": 42,
    "start_time": "2021-12-11T16:29:05.481Z"
   },
   {
    "duration": 39,
    "start_time": "2021-12-11T16:29:05.526Z"
   },
   {
    "duration": 16,
    "start_time": "2021-12-11T16:29:05.567Z"
   },
   {
    "duration": 43,
    "start_time": "2021-12-11T16:29:05.586Z"
   },
   {
    "duration": 20,
    "start_time": "2021-12-11T16:29:05.631Z"
   },
   {
    "duration": 37,
    "start_time": "2021-12-11T16:29:05.654Z"
   },
   {
    "duration": 61,
    "start_time": "2021-12-11T16:29:05.694Z"
   },
   {
    "duration": 10,
    "start_time": "2021-12-11T16:29:05.758Z"
   },
   {
    "duration": 430,
    "start_time": "2021-12-11T16:29:05.771Z"
   },
   {
    "duration": 23,
    "start_time": "2021-12-11T16:29:06.205Z"
   },
   {
    "duration": 525,
    "start_time": "2021-12-11T16:29:06.231Z"
   },
   {
    "duration": 22,
    "start_time": "2021-12-11T16:29:06.759Z"
   },
   {
    "duration": 41,
    "start_time": "2021-12-11T16:29:06.784Z"
   },
   {
    "duration": 48,
    "start_time": "2021-12-11T16:29:06.828Z"
   },
   {
    "duration": 54,
    "start_time": "2021-12-11T16:29:06.879Z"
   },
   {
    "duration": 12,
    "start_time": "2021-12-11T16:29:06.935Z"
   },
   {
    "duration": 10,
    "start_time": "2021-12-11T16:29:06.950Z"
   },
   {
    "duration": 55,
    "start_time": "2021-12-11T16:29:06.962Z"
   },
   {
    "duration": 18,
    "start_time": "2021-12-11T16:29:07.019Z"
   },
   {
    "duration": 29,
    "start_time": "2021-12-11T16:29:07.039Z"
   },
   {
    "duration": 10,
    "start_time": "2021-12-11T16:29:07.070Z"
   },
   {
    "duration": 5,
    "start_time": "2021-12-11T16:29:07.116Z"
   },
   {
    "duration": 15,
    "start_time": "2021-12-11T16:29:07.124Z"
   },
   {
    "duration": 685,
    "start_time": "2021-12-11T16:29:07.141Z"
   },
   {
    "duration": 673,
    "start_time": "2021-12-11T16:29:07.831Z"
   },
   {
    "duration": 790,
    "start_time": "2021-12-11T16:29:08.506Z"
   },
   {
    "duration": 655,
    "start_time": "2021-12-11T16:29:09.299Z"
   },
   {
    "duration": 644,
    "start_time": "2021-12-11T16:29:09.956Z"
   },
   {
    "duration": 8,
    "start_time": "2021-12-11T16:29:52.872Z"
   },
   {
    "duration": 47,
    "start_time": "2021-12-11T16:30:02.385Z"
   },
   {
    "duration": 11,
    "start_time": "2021-12-11T16:30:06.944Z"
   },
   {
    "duration": 6,
    "start_time": "2021-12-11T16:30:16.704Z"
   },
   {
    "duration": 73,
    "start_time": "2021-12-11T16:30:38.345Z"
   },
   {
    "duration": 11,
    "start_time": "2021-12-11T16:30:53.725Z"
   },
   {
    "duration": 54,
    "start_time": "2021-12-11T16:31:29.365Z"
   },
   {
    "duration": 55,
    "start_time": "2021-12-11T16:32:13.352Z"
   },
   {
    "duration": 11,
    "start_time": "2021-12-11T16:32:18.826Z"
   },
   {
    "duration": 51,
    "start_time": "2021-12-11T16:32:25.025Z"
   },
   {
    "duration": 46,
    "start_time": "2021-12-11T16:32:50.793Z"
   },
   {
    "duration": 26,
    "start_time": "2021-12-11T16:33:08.485Z"
   },
   {
    "duration": 10,
    "start_time": "2021-12-11T16:33:20.584Z"
   },
   {
    "duration": 12,
    "start_time": "2021-12-11T16:34:01.529Z"
   },
   {
    "duration": 50,
    "start_time": "2021-12-11T16:34:06.452Z"
   },
   {
    "duration": 299,
    "start_time": "2021-12-11T16:34:10.522Z"
   },
   {
    "duration": 12,
    "start_time": "2021-12-11T16:35:34.086Z"
   },
   {
    "duration": 52,
    "start_time": "2021-12-11T16:35:38.926Z"
   },
   {
    "duration": 428,
    "start_time": "2021-12-11T16:35:59.015Z"
   },
   {
    "duration": 404,
    "start_time": "2021-12-11T16:36:10.923Z"
   },
   {
    "duration": 460,
    "start_time": "2021-12-11T16:36:39.302Z"
   },
   {
    "duration": 8,
    "start_time": "2021-12-11T16:36:50.803Z"
   },
   {
    "duration": 8,
    "start_time": "2021-12-11T16:36:59.243Z"
   },
   {
    "duration": 29,
    "start_time": "2021-12-11T16:37:24.395Z"
   },
   {
    "duration": 301,
    "start_time": "2021-12-11T16:37:53.543Z"
   },
   {
    "duration": 5,
    "start_time": "2021-12-11T16:38:03.675Z"
   },
   {
    "duration": 9,
    "start_time": "2021-12-11T16:38:16.444Z"
   },
   {
    "duration": 30,
    "start_time": "2021-12-11T16:38:24.774Z"
   },
   {
    "duration": 11,
    "start_time": "2021-12-11T16:38:33.711Z"
   },
   {
    "duration": 6,
    "start_time": "2021-12-11T16:38:58.854Z"
   },
   {
    "duration": 11,
    "start_time": "2021-12-11T16:39:33.235Z"
   },
   {
    "duration": 8,
    "start_time": "2021-12-11T16:39:38.075Z"
   },
   {
    "duration": 5,
    "start_time": "2021-12-11T16:40:00.875Z"
   },
   {
    "duration": 10,
    "start_time": "2021-12-11T16:40:12.855Z"
   },
   {
    "duration": 31,
    "start_time": "2021-12-11T16:40:16.355Z"
   },
   {
    "duration": 6,
    "start_time": "2021-12-11T16:42:54.659Z"
   },
   {
    "duration": 14,
    "start_time": "2021-12-11T16:42:57.027Z"
   },
   {
    "duration": 31,
    "start_time": "2021-12-11T16:43:09.518Z"
   },
   {
    "duration": 5,
    "start_time": "2021-12-11T16:43:32.799Z"
   },
   {
    "duration": 3,
    "start_time": "2021-12-11T16:43:46.828Z"
   },
   {
    "duration": 59,
    "start_time": "2021-12-11T16:43:46.844Z"
   },
   {
    "duration": 33,
    "start_time": "2021-12-11T16:43:46.906Z"
   },
   {
    "duration": 14,
    "start_time": "2021-12-11T16:43:46.942Z"
   },
   {
    "duration": 12,
    "start_time": "2021-12-11T16:43:46.958Z"
   },
   {
    "duration": 51,
    "start_time": "2021-12-11T16:43:46.973Z"
   },
   {
    "duration": 46,
    "start_time": "2021-12-11T16:43:47.026Z"
   },
   {
    "duration": 5,
    "start_time": "2021-12-11T16:43:47.074Z"
   },
   {
    "duration": 45,
    "start_time": "2021-12-11T16:43:47.081Z"
   },
   {
    "duration": 10,
    "start_time": "2021-12-11T16:43:47.130Z"
   },
   {
    "duration": 354,
    "start_time": "2021-12-11T16:43:47.143Z"
   },
   {
    "duration": 47,
    "start_time": "2021-12-11T16:43:47.500Z"
   },
   {
    "duration": 36,
    "start_time": "2021-12-11T16:43:47.550Z"
   },
   {
    "duration": 63,
    "start_time": "2021-12-11T16:43:47.589Z"
   },
   {
    "duration": 36,
    "start_time": "2021-12-11T16:43:47.655Z"
   },
   {
    "duration": 35,
    "start_time": "2021-12-11T16:43:47.718Z"
   },
   {
    "duration": 5,
    "start_time": "2021-12-11T16:43:47.755Z"
   },
   {
    "duration": 63,
    "start_time": "2021-12-11T16:43:47.763Z"
   },
   {
    "duration": 126,
    "start_time": "2021-12-11T16:43:47.828Z"
   },
   {
    "duration": 36,
    "start_time": "2021-12-11T16:43:47.956Z"
   },
   {
    "duration": 689,
    "start_time": "2021-12-11T16:43:47.994Z"
   },
   {
    "duration": 30,
    "start_time": "2021-12-11T16:43:48.686Z"
   },
   {
    "duration": 12,
    "start_time": "2021-12-11T16:43:48.718Z"
   },
   {
    "duration": 300,
    "start_time": "2021-12-11T16:43:48.733Z"
   },
   {
    "duration": 8,
    "start_time": "2021-12-11T16:43:49.036Z"
   },
   {
    "duration": 7,
    "start_time": "2021-12-11T16:43:49.048Z"
   },
   {
    "duration": 64,
    "start_time": "2021-12-11T16:43:49.058Z"
   },
   {
    "duration": 7,
    "start_time": "2021-12-11T16:43:49.129Z"
   },
   {
    "duration": 275,
    "start_time": "2021-12-11T16:43:49.142Z"
   },
   {
    "duration": 33,
    "start_time": "2021-12-11T16:43:49.419Z"
   },
   {
    "duration": 6,
    "start_time": "2021-12-11T16:43:49.454Z"
   },
   {
    "duration": 16,
    "start_time": "2021-12-11T16:43:49.462Z"
   },
   {
    "duration": 63,
    "start_time": "2021-12-11T16:43:49.480Z"
   },
   {
    "duration": 12,
    "start_time": "2021-12-11T16:43:49.545Z"
   },
   {
    "duration": 10,
    "start_time": "2021-12-11T16:43:49.559Z"
   },
   {
    "duration": 47,
    "start_time": "2021-12-11T16:43:49.571Z"
   },
   {
    "duration": 15,
    "start_time": "2021-12-11T16:43:49.622Z"
   },
   {
    "duration": 33,
    "start_time": "2021-12-11T16:43:49.640Z"
   },
   {
    "duration": 43,
    "start_time": "2021-12-11T16:43:49.676Z"
   },
   {
    "duration": 269,
    "start_time": "2021-12-11T16:43:49.721Z"
   },
   {
    "duration": 25,
    "start_time": "2021-12-11T16:43:49.992Z"
   },
   {
    "duration": 310,
    "start_time": "2021-12-11T16:43:50.019Z"
   },
   {
    "duration": 14,
    "start_time": "2021-12-11T16:43:50.331Z"
   },
   {
    "duration": 17,
    "start_time": "2021-12-11T16:43:50.347Z"
   },
   {
    "duration": 58,
    "start_time": "2021-12-11T16:43:50.367Z"
   },
   {
    "duration": 24,
    "start_time": "2021-12-11T16:43:50.428Z"
   },
   {
    "duration": 12,
    "start_time": "2021-12-11T16:43:50.454Z"
   },
   {
    "duration": 12,
    "start_time": "2021-12-11T16:43:50.469Z"
   },
   {
    "duration": 27,
    "start_time": "2021-12-11T16:43:50.518Z"
   },
   {
    "duration": 18,
    "start_time": "2021-12-11T16:43:50.548Z"
   },
   {
    "duration": 60,
    "start_time": "2021-12-11T16:43:50.569Z"
   },
   {
    "duration": 12,
    "start_time": "2021-12-11T16:43:50.631Z"
   },
   {
    "duration": 5,
    "start_time": "2021-12-11T16:43:50.646Z"
   },
   {
    "duration": 13,
    "start_time": "2021-12-11T16:43:50.654Z"
   },
   {
    "duration": 733,
    "start_time": "2021-12-11T16:43:50.670Z"
   },
   {
    "duration": 661,
    "start_time": "2021-12-11T16:43:51.406Z"
   },
   {
    "duration": 660,
    "start_time": "2021-12-11T16:43:52.070Z"
   },
   {
    "duration": 686,
    "start_time": "2021-12-11T16:43:52.733Z"
   },
   {
    "duration": 710,
    "start_time": "2021-12-11T16:43:53.422Z"
   },
   {
    "duration": 11,
    "start_time": "2021-12-11T16:43:56.567Z"
   },
   {
    "duration": 50,
    "start_time": "2021-12-11T16:44:02.806Z"
   },
   {
    "duration": 6,
    "start_time": "2021-12-11T16:44:09.418Z"
   },
   {
    "duration": 15,
    "start_time": "2021-12-11T16:44:14.158Z"
   },
   {
    "duration": 32,
    "start_time": "2021-12-11T16:44:34.358Z"
   },
   {
    "duration": 396,
    "start_time": "2021-12-11T16:45:02.079Z"
   },
   {
    "duration": 311,
    "start_time": "2021-12-11T16:45:14.526Z"
   },
   {
    "duration": 35,
    "start_time": "2021-12-11T16:45:42.678Z"
   },
   {
    "duration": 303,
    "start_time": "2021-12-11T16:47:00.439Z"
   },
   {
    "duration": 15,
    "start_time": "2021-12-11T16:47:20.627Z"
   },
   {
    "duration": 4,
    "start_time": "2021-12-11T16:47:56.806Z"
   },
   {
    "duration": 61,
    "start_time": "2021-12-11T16:47:56.823Z"
   },
   {
    "duration": 44,
    "start_time": "2021-12-11T16:47:56.887Z"
   },
   {
    "duration": 22,
    "start_time": "2021-12-11T16:47:56.935Z"
   },
   {
    "duration": 12,
    "start_time": "2021-12-11T16:47:56.960Z"
   },
   {
    "duration": 48,
    "start_time": "2021-12-11T16:47:56.974Z"
   },
   {
    "duration": 47,
    "start_time": "2021-12-11T16:47:57.024Z"
   },
   {
    "duration": 6,
    "start_time": "2021-12-11T16:47:57.073Z"
   },
   {
    "duration": 44,
    "start_time": "2021-12-11T16:47:57.081Z"
   },
   {
    "duration": 13,
    "start_time": "2021-12-11T16:47:57.129Z"
   },
   {
    "duration": 339,
    "start_time": "2021-12-11T16:47:57.145Z"
   },
   {
    "duration": 48,
    "start_time": "2021-12-11T16:47:57.487Z"
   },
   {
    "duration": 37,
    "start_time": "2021-12-11T16:47:57.538Z"
   },
   {
    "duration": 69,
    "start_time": "2021-12-11T16:47:57.577Z"
   },
   {
    "duration": 38,
    "start_time": "2021-12-11T16:47:57.648Z"
   },
   {
    "duration": 56,
    "start_time": "2021-12-11T16:47:57.689Z"
   },
   {
    "duration": 4,
    "start_time": "2021-12-11T16:47:57.748Z"
   },
   {
    "duration": 63,
    "start_time": "2021-12-11T16:47:57.755Z"
   },
   {
    "duration": 152,
    "start_time": "2021-12-11T16:47:57.821Z"
   },
   {
    "duration": 55,
    "start_time": "2021-12-11T16:47:57.975Z"
   },
   {
    "duration": 716,
    "start_time": "2021-12-11T16:47:58.032Z"
   },
   {
    "duration": 11,
    "start_time": "2021-12-11T16:47:58.750Z"
   },
   {
    "duration": 10,
    "start_time": "2021-12-11T16:47:58.763Z"
   },
   {
    "duration": 314,
    "start_time": "2021-12-11T16:47:58.775Z"
   },
   {
    "duration": 8,
    "start_time": "2021-12-11T16:47:59.091Z"
   },
   {
    "duration": 22,
    "start_time": "2021-12-11T16:47:59.101Z"
   },
   {
    "duration": 25,
    "start_time": "2021-12-11T16:47:59.126Z"
   },
   {
    "duration": 7,
    "start_time": "2021-12-11T16:47:59.159Z"
   },
   {
    "duration": 322,
    "start_time": "2021-12-11T16:47:59.170Z"
   },
   {
    "duration": 45,
    "start_time": "2021-12-11T16:47:59.495Z"
   },
   {
    "duration": 6,
    "start_time": "2021-12-11T16:47:59.543Z"
   },
   {
    "duration": 20,
    "start_time": "2021-12-11T16:47:59.551Z"
   },
   {
    "duration": 65,
    "start_time": "2021-12-11T16:47:59.574Z"
   },
   {
    "duration": 14,
    "start_time": "2021-12-11T16:47:59.642Z"
   },
   {
    "duration": 13,
    "start_time": "2021-12-11T16:47:59.658Z"
   },
   {
    "duration": 53,
    "start_time": "2021-12-11T16:47:59.674Z"
   },
   {
    "duration": 13,
    "start_time": "2021-12-11T16:47:59.730Z"
   },
   {
    "duration": 33,
    "start_time": "2021-12-11T16:47:59.746Z"
   },
   {
    "duration": 38,
    "start_time": "2021-12-11T16:47:59.781Z"
   },
   {
    "duration": 291,
    "start_time": "2021-12-11T16:47:59.822Z"
   },
   {
    "duration": 13,
    "start_time": "2021-12-11T16:48:00.115Z"
   },
   {
    "duration": 331,
    "start_time": "2021-12-11T16:48:00.131Z"
   },
   {
    "duration": 14,
    "start_time": "2021-12-11T16:48:00.465Z"
   },
   {
    "duration": 34,
    "start_time": "2021-12-11T16:48:00.482Z"
   },
   {
    "duration": 29,
    "start_time": "2021-12-11T16:48:00.519Z"
   },
   {
    "duration": 31,
    "start_time": "2021-12-11T16:48:00.550Z"
   },
   {
    "duration": 38,
    "start_time": "2021-12-11T16:48:00.583Z"
   },
   {
    "duration": 15,
    "start_time": "2021-12-11T16:48:00.624Z"
   },
   {
    "duration": 35,
    "start_time": "2021-12-11T16:48:00.642Z"
   },
   {
    "duration": 39,
    "start_time": "2021-12-11T16:48:00.680Z"
   },
   {
    "duration": 27,
    "start_time": "2021-12-11T16:48:00.722Z"
   },
   {
    "duration": 11,
    "start_time": "2021-12-11T16:48:00.752Z"
   },
   {
    "duration": 15,
    "start_time": "2021-12-11T16:48:00.765Z"
   },
   {
    "duration": 43,
    "start_time": "2021-12-11T16:48:00.783Z"
   },
   {
    "duration": 687,
    "start_time": "2021-12-11T16:48:00.829Z"
   },
   {
    "duration": 798,
    "start_time": "2021-12-11T16:48:01.519Z"
   },
   {
    "duration": 685,
    "start_time": "2021-12-11T16:48:02.319Z"
   },
   {
    "duration": 698,
    "start_time": "2021-12-11T16:48:03.006Z"
   },
   {
    "duration": 666,
    "start_time": "2021-12-11T16:48:03.706Z"
   },
   {
    "duration": 12,
    "start_time": "2021-12-11T16:48:04.375Z"
   },
   {
    "duration": 71,
    "start_time": "2021-12-11T16:48:04.389Z"
   },
   {
    "duration": 6,
    "start_time": "2021-12-11T16:48:04.462Z"
   },
   {
    "duration": 13,
    "start_time": "2021-12-11T16:48:04.470Z"
   },
   {
    "duration": 63,
    "start_time": "2021-12-11T16:48:04.486Z"
   },
   {
    "duration": 37,
    "start_time": "2021-12-11T16:49:27.354Z"
   },
   {
    "duration": 13,
    "start_time": "2021-12-11T16:50:29.394Z"
   },
   {
    "duration": 3,
    "start_time": "2021-12-11T16:51:03.760Z"
   },
   {
    "duration": 66,
    "start_time": "2021-12-11T16:51:03.766Z"
   },
   {
    "duration": 33,
    "start_time": "2021-12-11T16:51:03.834Z"
   },
   {
    "duration": 16,
    "start_time": "2021-12-11T16:51:03.869Z"
   },
   {
    "duration": 38,
    "start_time": "2021-12-11T16:51:03.887Z"
   },
   {
    "duration": 13,
    "start_time": "2021-12-11T16:51:03.928Z"
   },
   {
    "duration": 73,
    "start_time": "2021-12-11T16:51:03.945Z"
   },
   {
    "duration": 7,
    "start_time": "2021-12-11T16:51:04.021Z"
   },
   {
    "duration": 12,
    "start_time": "2021-12-11T16:51:04.030Z"
   },
   {
    "duration": 10,
    "start_time": "2021-12-11T16:51:04.045Z"
   },
   {
    "duration": 374,
    "start_time": "2021-12-11T16:51:04.058Z"
   },
   {
    "duration": 35,
    "start_time": "2021-12-11T16:51:04.434Z"
   },
   {
    "duration": 57,
    "start_time": "2021-12-11T16:51:04.473Z"
   },
   {
    "duration": 40,
    "start_time": "2021-12-11T16:51:04.532Z"
   },
   {
    "duration": 61,
    "start_time": "2021-12-11T16:51:04.574Z"
   },
   {
    "duration": 37,
    "start_time": "2021-12-11T16:51:04.638Z"
   },
   {
    "duration": 6,
    "start_time": "2021-12-11T16:51:04.678Z"
   },
   {
    "duration": 40,
    "start_time": "2021-12-11T16:51:04.718Z"
   },
   {
    "duration": 75,
    "start_time": "2021-12-11T16:51:04.761Z"
   },
   {
    "duration": 39,
    "start_time": "2021-12-11T16:51:04.839Z"
   },
   {
    "duration": 744,
    "start_time": "2021-12-11T16:51:04.880Z"
   },
   {
    "duration": 11,
    "start_time": "2021-12-11T16:51:05.627Z"
   },
   {
    "duration": 9,
    "start_time": "2021-12-11T16:51:05.640Z"
   },
   {
    "duration": 316,
    "start_time": "2021-12-11T16:51:05.652Z"
   },
   {
    "duration": 6,
    "start_time": "2021-12-11T16:51:05.971Z"
   },
   {
    "duration": 9,
    "start_time": "2021-12-11T16:51:05.979Z"
   },
   {
    "duration": 42,
    "start_time": "2021-12-11T16:51:05.991Z"
   },
   {
    "duration": 8,
    "start_time": "2021-12-11T16:51:06.037Z"
   },
   {
    "duration": 290,
    "start_time": "2021-12-11T16:51:06.048Z"
   },
   {
    "duration": 35,
    "start_time": "2021-12-11T16:51:06.346Z"
   },
   {
    "duration": 7,
    "start_time": "2021-12-11T16:51:06.385Z"
   },
   {
    "duration": 21,
    "start_time": "2021-12-11T16:51:06.417Z"
   },
   {
    "duration": 31,
    "start_time": "2021-12-11T16:51:06.441Z"
   },
   {
    "duration": 50,
    "start_time": "2021-12-11T16:51:06.475Z"
   },
   {
    "duration": 12,
    "start_time": "2021-12-11T16:51:06.527Z"
   },
   {
    "duration": 17,
    "start_time": "2021-12-11T16:51:06.541Z"
   },
   {
    "duration": 16,
    "start_time": "2021-12-11T16:51:06.560Z"
   },
   {
    "duration": 184,
    "start_time": "2021-12-11T16:51:06.579Z"
   },
   {
    "duration": 7,
    "start_time": "2021-12-11T16:51:06.765Z"
   },
   {
    "duration": 283,
    "start_time": "2021-12-11T16:51:06.774Z"
   },
   {
    "duration": 10,
    "start_time": "2021-12-11T16:51:07.059Z"
   },
   {
    "duration": 322,
    "start_time": "2021-12-11T16:51:07.071Z"
   },
   {
    "duration": 22,
    "start_time": "2021-12-11T16:51:07.395Z"
   },
   {
    "duration": 13,
    "start_time": "2021-12-11T16:51:07.419Z"
   },
   {
    "duration": 29,
    "start_time": "2021-12-11T16:51:07.434Z"
   },
   {
    "duration": 56,
    "start_time": "2021-12-11T16:51:07.465Z"
   },
   {
    "duration": 12,
    "start_time": "2021-12-11T16:51:07.523Z"
   },
   {
    "duration": 10,
    "start_time": "2021-12-11T16:51:07.537Z"
   },
   {
    "duration": 27,
    "start_time": "2021-12-11T16:51:07.549Z"
   },
   {
    "duration": 48,
    "start_time": "2021-12-11T16:51:07.578Z"
   },
   {
    "duration": 24,
    "start_time": "2021-12-11T16:51:07.629Z"
   },
   {
    "duration": 10,
    "start_time": "2021-12-11T16:51:07.655Z"
   },
   {
    "duration": 5,
    "start_time": "2021-12-11T16:51:07.667Z"
   },
   {
    "duration": 50,
    "start_time": "2021-12-11T16:51:07.674Z"
   },
   {
    "duration": 692,
    "start_time": "2021-12-11T16:51:07.726Z"
   },
   {
    "duration": 689,
    "start_time": "2021-12-11T16:51:08.421Z"
   },
   {
    "duration": 716,
    "start_time": "2021-12-11T16:51:09.113Z"
   },
   {
    "duration": 700,
    "start_time": "2021-12-11T16:51:09.831Z"
   },
   {
    "duration": 659,
    "start_time": "2021-12-11T16:51:10.533Z"
   },
   {
    "duration": 11,
    "start_time": "2021-12-11T16:51:11.194Z"
   },
   {
    "duration": 50,
    "start_time": "2021-12-11T16:51:11.218Z"
   },
   {
    "duration": 5,
    "start_time": "2021-12-11T16:51:11.270Z"
   },
   {
    "duration": 47,
    "start_time": "2021-12-11T16:51:11.277Z"
   },
   {
    "duration": 35,
    "start_time": "2021-12-11T16:51:11.326Z"
   },
   {
    "duration": 3,
    "start_time": "2021-12-11T16:51:32.210Z"
   },
   {
    "duration": 68,
    "start_time": "2021-12-11T16:51:32.237Z"
   },
   {
    "duration": 37,
    "start_time": "2021-12-11T16:51:32.308Z"
   },
   {
    "duration": 16,
    "start_time": "2021-12-11T16:51:32.349Z"
   },
   {
    "duration": 12,
    "start_time": "2021-12-11T16:51:32.367Z"
   },
   {
    "duration": 43,
    "start_time": "2021-12-11T16:51:32.381Z"
   },
   {
    "duration": 47,
    "start_time": "2021-12-11T16:51:32.426Z"
   },
   {
    "duration": 41,
    "start_time": "2021-12-11T16:51:32.476Z"
   },
   {
    "duration": 10,
    "start_time": "2021-12-11T16:51:32.520Z"
   },
   {
    "duration": 10,
    "start_time": "2021-12-11T16:51:32.532Z"
   },
   {
    "duration": 321,
    "start_time": "2021-12-11T16:51:32.544Z"
   },
   {
    "duration": 49,
    "start_time": "2021-12-11T16:51:32.868Z"
   },
   {
    "duration": 36,
    "start_time": "2021-12-11T16:51:32.919Z"
   },
   {
    "duration": 66,
    "start_time": "2021-12-11T16:51:32.958Z"
   },
   {
    "duration": 36,
    "start_time": "2021-12-11T16:51:33.027Z"
   },
   {
    "duration": 56,
    "start_time": "2021-12-11T16:51:33.066Z"
   },
   {
    "duration": 5,
    "start_time": "2021-12-11T16:51:34.437Z"
   },
   {
    "duration": 38,
    "start_time": "2021-12-11T16:51:34.444Z"
   },
   {
    "duration": 47,
    "start_time": "2021-12-11T16:51:34.485Z"
   },
   {
    "duration": 37,
    "start_time": "2021-12-11T16:51:34.863Z"
   },
   {
    "duration": 683,
    "start_time": "2021-12-11T16:51:34.904Z"
   },
   {
    "duration": 11,
    "start_time": "2021-12-11T16:51:35.590Z"
   },
   {
    "duration": 11,
    "start_time": "2021-12-11T16:51:35.617Z"
   },
   {
    "duration": 311,
    "start_time": "2021-12-11T16:51:35.630Z"
   },
   {
    "duration": 7,
    "start_time": "2021-12-11T16:51:35.943Z"
   },
   {
    "duration": 7,
    "start_time": "2021-12-11T16:51:35.952Z"
   },
   {
    "duration": 56,
    "start_time": "2021-12-11T16:51:35.961Z"
   },
   {
    "duration": 7,
    "start_time": "2021-12-11T16:51:36.021Z"
   },
   {
    "duration": 304,
    "start_time": "2021-12-11T16:51:36.031Z"
   },
   {
    "duration": 40,
    "start_time": "2021-12-11T16:51:36.339Z"
   },
   {
    "duration": 35,
    "start_time": "2021-12-11T16:51:36.382Z"
   },
   {
    "duration": 20,
    "start_time": "2021-12-11T16:51:36.420Z"
   },
   {
    "duration": 30,
    "start_time": "2021-12-11T16:51:36.443Z"
   },
   {
    "duration": 49,
    "start_time": "2021-12-11T16:51:36.476Z"
   },
   {
    "duration": 11,
    "start_time": "2021-12-11T16:51:36.527Z"
   },
   {
    "duration": 20,
    "start_time": "2021-12-11T16:51:36.540Z"
   },
   {
    "duration": 14,
    "start_time": "2021-12-11T16:51:36.563Z"
   },
   {
    "duration": 73,
    "start_time": "2021-12-11T16:51:36.579Z"
   },
   {
    "duration": 10,
    "start_time": "2021-12-11T16:51:36.655Z"
   },
   {
    "duration": 289,
    "start_time": "2021-12-11T16:51:36.668Z"
   },
   {
    "duration": 9,
    "start_time": "2021-12-11T16:51:36.960Z"
   },
   {
    "duration": 329,
    "start_time": "2021-12-11T16:51:36.972Z"
   },
   {
    "duration": 23,
    "start_time": "2021-12-11T16:51:37.304Z"
   },
   {
    "duration": 16,
    "start_time": "2021-12-11T16:51:37.329Z"
   },
   {
    "duration": 30,
    "start_time": "2021-12-11T16:51:37.347Z"
   },
   {
    "duration": 51,
    "start_time": "2021-12-11T16:51:37.382Z"
   },
   {
    "duration": 12,
    "start_time": "2021-12-11T16:51:37.436Z"
   },
   {
    "duration": 10,
    "start_time": "2021-12-11T16:51:37.450Z"
   },
   {
    "duration": 56,
    "start_time": "2021-12-11T16:51:37.463Z"
   },
   {
    "duration": 16,
    "start_time": "2021-12-11T16:51:37.522Z"
   },
   {
    "duration": 31,
    "start_time": "2021-12-11T16:51:37.541Z"
   },
   {
    "duration": 8,
    "start_time": "2021-12-11T16:51:37.574Z"
   },
   {
    "duration": 32,
    "start_time": "2021-12-11T16:51:37.585Z"
   },
   {
    "duration": 11,
    "start_time": "2021-12-11T16:51:37.620Z"
   },
   {
    "duration": 686,
    "start_time": "2021-12-11T16:51:37.633Z"
   },
   {
    "duration": 674,
    "start_time": "2021-12-11T16:51:38.321Z"
   },
   {
    "duration": 703,
    "start_time": "2021-12-11T16:51:38.997Z"
   },
   {
    "duration": 677,
    "start_time": "2021-12-11T16:51:39.703Z"
   },
   {
    "duration": 810,
    "start_time": "2021-12-11T16:51:40.383Z"
   },
   {
    "duration": 12,
    "start_time": "2021-12-11T16:51:41.196Z"
   },
   {
    "duration": 49,
    "start_time": "2021-12-11T16:51:41.218Z"
   },
   {
    "duration": 5,
    "start_time": "2021-12-11T16:51:41.270Z"
   },
   {
    "duration": 47,
    "start_time": "2021-12-11T16:51:41.277Z"
   },
   {
    "duration": 35,
    "start_time": "2021-12-11T16:51:41.327Z"
   },
   {
    "duration": 3,
    "start_time": "2021-12-11T16:54:55.211Z"
   },
   {
    "duration": 61,
    "start_time": "2021-12-11T16:54:55.220Z"
   },
   {
    "duration": 46,
    "start_time": "2021-12-11T16:54:55.283Z"
   },
   {
    "duration": 14,
    "start_time": "2021-12-11T16:54:55.332Z"
   },
   {
    "duration": 13,
    "start_time": "2021-12-11T16:54:55.348Z"
   },
   {
    "duration": 55,
    "start_time": "2021-12-11T16:54:55.363Z"
   },
   {
    "duration": 46,
    "start_time": "2021-12-11T16:54:55.421Z"
   },
   {
    "duration": 5,
    "start_time": "2021-12-11T16:54:55.470Z"
   },
   {
    "duration": 47,
    "start_time": "2021-12-11T16:54:55.479Z"
   },
   {
    "duration": 10,
    "start_time": "2021-12-11T16:54:55.529Z"
   },
   {
    "duration": 322,
    "start_time": "2021-12-11T16:54:55.542Z"
   },
   {
    "duration": 35,
    "start_time": "2021-12-11T16:54:55.866Z"
   },
   {
    "duration": 36,
    "start_time": "2021-12-11T16:54:55.918Z"
   },
   {
    "duration": 62,
    "start_time": "2021-12-11T16:54:55.957Z"
   },
   {
    "duration": 51,
    "start_time": "2021-12-11T16:54:56.022Z"
   },
   {
    "duration": 60,
    "start_time": "2021-12-11T16:54:56.075Z"
   },
   {
    "duration": 6,
    "start_time": "2021-12-11T16:54:56.138Z"
   },
   {
    "duration": 40,
    "start_time": "2021-12-11T16:54:56.146Z"
   },
   {
    "duration": 74,
    "start_time": "2021-12-11T16:54:56.188Z"
   },
   {
    "duration": 59,
    "start_time": "2021-12-11T16:54:56.265Z"
   },
   {
    "duration": 703,
    "start_time": "2021-12-11T16:54:56.326Z"
   },
   {
    "duration": 12,
    "start_time": "2021-12-11T16:54:57.031Z"
   },
   {
    "duration": 10,
    "start_time": "2021-12-11T16:54:57.045Z"
   },
   {
    "duration": 312,
    "start_time": "2021-12-11T16:54:57.061Z"
   },
   {
    "duration": 7,
    "start_time": "2021-12-11T16:54:57.378Z"
   },
   {
    "duration": 33,
    "start_time": "2021-12-11T16:54:57.387Z"
   },
   {
    "duration": 20,
    "start_time": "2021-12-11T16:54:57.422Z"
   },
   {
    "duration": 7,
    "start_time": "2021-12-11T16:54:57.444Z"
   },
   {
    "duration": 271,
    "start_time": "2021-12-11T16:54:57.453Z"
   },
   {
    "duration": 33,
    "start_time": "2021-12-11T16:54:57.727Z"
   },
   {
    "duration": 6,
    "start_time": "2021-12-11T16:54:57.762Z"
   },
   {
    "duration": 48,
    "start_time": "2021-12-11T16:54:57.770Z"
   },
   {
    "duration": 31,
    "start_time": "2021-12-11T16:54:57.821Z"
   },
   {
    "duration": 12,
    "start_time": "2021-12-11T16:54:57.855Z"
   },
   {
    "duration": 12,
    "start_time": "2021-12-11T16:54:57.869Z"
   },
   {
    "duration": 48,
    "start_time": "2021-12-11T16:54:57.883Z"
   },
   {
    "duration": 17,
    "start_time": "2021-12-11T16:54:57.933Z"
   },
   {
    "duration": 70,
    "start_time": "2021-12-11T16:54:57.953Z"
   },
   {
    "duration": 7,
    "start_time": "2021-12-11T16:54:58.025Z"
   },
   {
    "duration": 272,
    "start_time": "2021-12-11T16:54:58.034Z"
   },
   {
    "duration": 10,
    "start_time": "2021-12-11T16:54:58.308Z"
   },
   {
    "duration": 321,
    "start_time": "2021-12-11T16:54:58.320Z"
   },
   {
    "duration": 14,
    "start_time": "2021-12-11T16:54:58.643Z"
   },
   {
    "duration": 14,
    "start_time": "2021-12-11T16:54:58.659Z"
   },
   {
    "duration": 63,
    "start_time": "2021-12-11T16:54:58.676Z"
   },
   {
    "duration": 25,
    "start_time": "2021-12-11T16:54:58.741Z"
   },
   {
    "duration": 12,
    "start_time": "2021-12-11T16:54:58.768Z"
   },
   {
    "duration": 38,
    "start_time": "2021-12-11T16:54:58.782Z"
   },
   {
    "duration": 24,
    "start_time": "2021-12-11T16:54:58.822Z"
   },
   {
    "duration": 17,
    "start_time": "2021-12-11T16:54:58.848Z"
   },
   {
    "duration": 52,
    "start_time": "2021-12-11T16:54:58.867Z"
   },
   {
    "duration": 9,
    "start_time": "2021-12-11T16:54:58.921Z"
   },
   {
    "duration": 6,
    "start_time": "2021-12-11T16:54:58.932Z"
   },
   {
    "duration": 11,
    "start_time": "2021-12-11T16:54:58.940Z"
   },
   {
    "duration": 677,
    "start_time": "2021-12-11T16:54:58.953Z"
   },
   {
    "duration": 685,
    "start_time": "2021-12-11T16:54:59.632Z"
   },
   {
    "duration": 690,
    "start_time": "2021-12-11T16:55:00.320Z"
   },
   {
    "duration": 704,
    "start_time": "2021-12-11T16:55:01.013Z"
   },
   {
    "duration": 678,
    "start_time": "2021-12-11T16:55:01.719Z"
   },
   {
    "duration": 19,
    "start_time": "2021-12-11T16:55:02.400Z"
   },
   {
    "duration": 54,
    "start_time": "2021-12-11T16:55:02.422Z"
   },
   {
    "duration": 5,
    "start_time": "2021-12-11T16:55:02.478Z"
   },
   {
    "duration": 40,
    "start_time": "2021-12-11T16:55:02.486Z"
   },
   {
    "duration": 41,
    "start_time": "2021-12-11T16:55:02.529Z"
   },
   {
    "duration": 9,
    "start_time": "2021-12-11T16:55:17.260Z"
   },
   {
    "duration": 13,
    "start_time": "2021-12-11T16:56:09.612Z"
   },
   {
    "duration": 35,
    "start_time": "2021-12-11T16:56:19.691Z"
   },
   {
    "duration": 303,
    "start_time": "2021-12-11T17:00:40.279Z"
   },
   {
    "duration": 15,
    "start_time": "2021-12-11T17:00:54.231Z"
   },
   {
    "duration": 648,
    "start_time": "2021-12-11T17:05:47.372Z"
   },
   {
    "duration": 11,
    "start_time": "2021-12-11T17:12:45.135Z"
   },
   {
    "duration": 13,
    "start_time": "2021-12-11T17:12:48.367Z"
   },
   {
    "duration": 12,
    "start_time": "2021-12-11T17:12:53.645Z"
   },
   {
    "duration": 149,
    "start_time": "2021-12-11T17:13:33.198Z"
   },
   {
    "duration": 12,
    "start_time": "2021-12-11T17:14:33.664Z"
   },
   {
    "duration": 270,
    "start_time": "2021-12-11T17:17:19.815Z"
   },
   {
    "duration": 4,
    "start_time": "2021-12-11T17:17:47.496Z"
   },
   {
    "duration": 63,
    "start_time": "2021-12-11T17:17:47.506Z"
   },
   {
    "duration": 50,
    "start_time": "2021-12-11T17:17:47.571Z"
   },
   {
    "duration": 14,
    "start_time": "2021-12-11T17:17:47.624Z"
   },
   {
    "duration": 12,
    "start_time": "2021-12-11T17:17:47.641Z"
   },
   {
    "duration": 14,
    "start_time": "2021-12-11T17:17:47.655Z"
   },
   {
    "duration": 95,
    "start_time": "2021-12-11T17:17:47.671Z"
   },
   {
    "duration": 6,
    "start_time": "2021-12-11T17:17:47.768Z"
   },
   {
    "duration": 49,
    "start_time": "2021-12-11T17:17:47.776Z"
   },
   {
    "duration": 10,
    "start_time": "2021-12-11T17:17:47.829Z"
   },
   {
    "duration": 353,
    "start_time": "2021-12-11T17:17:47.842Z"
   },
   {
    "duration": 47,
    "start_time": "2021-12-11T17:17:48.198Z"
   },
   {
    "duration": 1286,
    "start_time": "2021-12-11T17:17:48.247Z"
   },
   {
    "duration": 41,
    "start_time": "2021-12-11T17:17:49.535Z"
   },
   {
    "duration": 63,
    "start_time": "2021-12-11T17:17:49.578Z"
   },
   {
    "duration": 37,
    "start_time": "2021-12-11T17:17:49.644Z"
   },
   {
    "duration": 4,
    "start_time": "2021-12-11T17:17:49.684Z"
   },
   {
    "duration": 75,
    "start_time": "2021-12-11T17:17:49.691Z"
   },
   {
    "duration": 77,
    "start_time": "2021-12-11T17:17:49.769Z"
   },
   {
    "duration": 38,
    "start_time": "2021-12-11T17:17:49.848Z"
   },
   {
    "duration": 761,
    "start_time": "2021-12-11T17:17:49.889Z"
   },
   {
    "duration": 10,
    "start_time": "2021-12-11T17:17:50.652Z"
   },
   {
    "duration": 12,
    "start_time": "2021-12-11T17:17:50.665Z"
   },
   {
    "duration": 323,
    "start_time": "2021-12-11T17:17:50.680Z"
   },
   {
    "duration": 12,
    "start_time": "2021-12-11T17:17:51.006Z"
   },
   {
    "duration": 6,
    "start_time": "2021-12-11T17:17:51.022Z"
   },
   {
    "duration": 23,
    "start_time": "2021-12-11T17:17:51.030Z"
   },
   {
    "duration": 7,
    "start_time": "2021-12-11T17:17:51.060Z"
   },
   {
    "duration": 264,
    "start_time": "2021-12-11T17:17:51.122Z"
   },
   {
    "duration": 70,
    "start_time": "2021-12-11T17:17:51.389Z"
   },
   {
    "duration": 7,
    "start_time": "2021-12-11T17:17:51.462Z"
   },
   {
    "duration": 17,
    "start_time": "2021-12-11T17:17:51.471Z"
   },
   {
    "duration": 53,
    "start_time": "2021-12-11T17:17:51.491Z"
   },
   {
    "duration": 12,
    "start_time": "2021-12-11T17:17:51.546Z"
   },
   {
    "duration": 12,
    "start_time": "2021-12-11T17:17:51.561Z"
   },
   {
    "duration": 46,
    "start_time": "2021-12-11T17:17:51.576Z"
   },
   {
    "duration": 13,
    "start_time": "2021-12-11T17:17:51.624Z"
   },
   {
    "duration": 32,
    "start_time": "2021-12-11T17:17:51.639Z"
   },
   {
    "duration": 47,
    "start_time": "2021-12-11T17:17:51.673Z"
   },
   {
    "duration": 267,
    "start_time": "2021-12-11T17:17:51.723Z"
   },
   {
    "duration": 25,
    "start_time": "2021-12-11T17:17:51.992Z"
   },
   {
    "duration": 306,
    "start_time": "2021-12-11T17:17:52.019Z"
   },
   {
    "duration": 15,
    "start_time": "2021-12-11T17:17:52.328Z"
   },
   {
    "duration": 14,
    "start_time": "2021-12-11T17:17:52.345Z"
   },
   {
    "duration": 67,
    "start_time": "2021-12-11T17:17:52.361Z"
   },
   {
    "duration": 24,
    "start_time": "2021-12-11T17:17:52.430Z"
   },
   {
    "duration": 11,
    "start_time": "2021-12-11T17:17:52.456Z"
   },
   {
    "duration": 15,
    "start_time": "2021-12-11T17:17:52.470Z"
   },
   {
    "duration": 52,
    "start_time": "2021-12-11T17:17:52.487Z"
   },
   {
    "duration": 193,
    "start_time": "2021-12-11T17:17:52.541Z"
   },
   {
    "duration": 30,
    "start_time": "2021-12-11T17:17:52.737Z"
   },
   {
    "duration": 13,
    "start_time": "2021-12-11T17:17:52.769Z"
   },
   {
    "duration": 32,
    "start_time": "2021-12-11T17:17:52.785Z"
   },
   {
    "duration": 11,
    "start_time": "2021-12-11T17:17:52.820Z"
   },
   {
    "duration": 677,
    "start_time": "2021-12-11T17:17:52.833Z"
   },
   {
    "duration": 710,
    "start_time": "2021-12-11T17:17:53.513Z"
   },
   {
    "duration": 681,
    "start_time": "2021-12-11T17:17:54.226Z"
   },
   {
    "duration": 1003,
    "start_time": "2021-12-11T17:17:54.910Z"
   },
   {
    "duration": 964,
    "start_time": "2021-12-11T17:17:55.918Z"
   },
   {
    "duration": 12,
    "start_time": "2021-12-11T17:17:56.884Z"
   },
   {
    "duration": 65,
    "start_time": "2021-12-11T17:17:56.898Z"
   },
   {
    "duration": 5,
    "start_time": "2021-12-11T17:17:56.966Z"
   },
   {
    "duration": 46,
    "start_time": "2021-12-11T17:17:56.973Z"
   },
   {
    "duration": 34,
    "start_time": "2021-12-11T17:17:57.022Z"
   },
   {
    "duration": 9,
    "start_time": "2021-12-11T17:17:57.059Z"
   },
   {
    "duration": 49,
    "start_time": "2021-12-11T17:17:57.070Z"
   },
   {
    "duration": 36,
    "start_time": "2021-12-11T17:17:57.122Z"
   },
   {
    "duration": 13,
    "start_time": "2021-12-11T17:17:57.160Z"
   },
   {
    "duration": 701,
    "start_time": "2021-12-11T17:17:57.175Z"
   },
   {
    "duration": 40,
    "start_time": "2021-12-11T17:17:57.878Z"
   },
   {
    "duration": 9,
    "start_time": "2021-12-11T17:17:57.921Z"
   },
   {
    "duration": 2395,
    "start_time": "2021-12-11T17:17:57.933Z"
   },
   {
    "duration": 539,
    "start_time": "2021-12-11T17:17:59.793Z"
   },
   {
    "duration": 530,
    "start_time": "2021-12-11T17:17:59.803Z"
   },
   {
    "duration": 525,
    "start_time": "2021-12-11T17:17:59.810Z"
   },
   {
    "duration": 516,
    "start_time": "2021-12-11T17:17:59.820Z"
   },
   {
    "duration": 495,
    "start_time": "2021-12-11T17:17:59.842Z"
   },
   {
    "duration": 488,
    "start_time": "2021-12-11T17:17:59.851Z"
   },
   {
    "duration": 482,
    "start_time": "2021-12-11T17:17:59.859Z"
   },
   {
    "duration": 473,
    "start_time": "2021-12-11T17:17:59.869Z"
   },
   {
    "duration": 467,
    "start_time": "2021-12-11T17:17:59.876Z"
   },
   {
    "duration": 459,
    "start_time": "2021-12-11T17:17:59.886Z"
   },
   {
    "duration": 452,
    "start_time": "2021-12-11T17:17:59.894Z"
   },
   {
    "duration": 444,
    "start_time": "2021-12-11T17:17:59.903Z"
   },
   {
    "duration": 427,
    "start_time": "2021-12-11T17:17:59.922Z"
   },
   {
    "duration": 419,
    "start_time": "2021-12-11T17:17:59.931Z"
   },
   {
    "duration": 412,
    "start_time": "2021-12-11T17:17:59.940Z"
   },
   {
    "duration": 403,
    "start_time": "2021-12-11T17:17:59.950Z"
   },
   {
    "duration": 397,
    "start_time": "2021-12-11T17:17:59.958Z"
   },
   {
    "duration": 388,
    "start_time": "2021-12-11T17:17:59.968Z"
   },
   {
    "duration": 382,
    "start_time": "2021-12-11T17:17:59.975Z"
   },
   {
    "duration": 374,
    "start_time": "2021-12-11T17:17:59.985Z"
   },
   {
    "duration": 346,
    "start_time": "2021-12-11T17:18:00.014Z"
   },
   {
    "duration": 322,
    "start_time": "2021-12-11T17:18:00.040Z"
   },
   {
    "duration": 316,
    "start_time": "2021-12-11T17:18:00.047Z"
   },
   {
    "duration": 258,
    "start_time": "2021-12-11T17:18:00.109Z"
   },
   {
    "duration": 252,
    "start_time": "2021-12-11T17:18:00.117Z"
   },
   {
    "duration": 245,
    "start_time": "2021-12-11T17:18:00.125Z"
   },
   {
    "duration": 238,
    "start_time": "2021-12-11T17:18:00.133Z"
   },
   {
    "duration": 258,
    "start_time": "2021-12-11T17:18:00.159Z"
   },
   {
    "duration": 194,
    "start_time": "2021-12-11T17:18:06.434Z"
   },
   {
    "duration": 2529,
    "start_time": "2021-12-11T17:19:06.164Z"
   },
   {
    "duration": 4,
    "start_time": "2021-12-11T17:20:24.624Z"
   },
   {
    "duration": 65,
    "start_time": "2021-12-11T17:20:24.631Z"
   },
   {
    "duration": 48,
    "start_time": "2021-12-11T17:20:24.699Z"
   },
   {
    "duration": 14,
    "start_time": "2021-12-11T17:20:24.751Z"
   },
   {
    "duration": 51,
    "start_time": "2021-12-11T17:20:24.768Z"
   },
   {
    "duration": 14,
    "start_time": "2021-12-11T17:20:24.821Z"
   },
   {
    "duration": 79,
    "start_time": "2021-12-11T17:20:24.838Z"
   },
   {
    "duration": 7,
    "start_time": "2021-12-11T17:20:24.921Z"
   },
   {
    "duration": 10,
    "start_time": "2021-12-11T17:20:24.931Z"
   },
   {
    "duration": 10,
    "start_time": "2021-12-11T17:20:24.943Z"
   },
   {
    "duration": 347,
    "start_time": "2021-12-11T17:20:24.955Z"
   },
   {
    "duration": 40,
    "start_time": "2021-12-11T17:20:25.304Z"
   },
   {
    "duration": 35,
    "start_time": "2021-12-11T17:20:25.346Z"
   },
   {
    "duration": 66,
    "start_time": "2021-12-11T17:20:25.383Z"
   },
   {
    "duration": 36,
    "start_time": "2021-12-11T17:20:25.452Z"
   },
   {
    "duration": 52,
    "start_time": "2021-12-11T17:20:25.490Z"
   },
   {
    "duration": 5,
    "start_time": "2021-12-11T17:20:25.544Z"
   },
   {
    "duration": 72,
    "start_time": "2021-12-11T17:20:25.551Z"
   },
   {
    "duration": 47,
    "start_time": "2021-12-11T17:20:25.626Z"
   },
   {
    "duration": 60,
    "start_time": "2021-12-11T17:20:25.676Z"
   },
   {
    "duration": 691,
    "start_time": "2021-12-11T17:20:25.740Z"
   },
   {
    "duration": 10,
    "start_time": "2021-12-11T17:20:26.434Z"
   },
   {
    "duration": 9,
    "start_time": "2021-12-11T17:20:26.450Z"
   },
   {
    "duration": 313,
    "start_time": "2021-12-11T17:20:26.463Z"
   },
   {
    "duration": 7,
    "start_time": "2021-12-11T17:20:26.778Z"
   },
   {
    "duration": 31,
    "start_time": "2021-12-11T17:20:26.788Z"
   },
   {
    "duration": 22,
    "start_time": "2021-12-11T17:20:26.821Z"
   },
   {
    "duration": 7,
    "start_time": "2021-12-11T17:20:26.845Z"
   },
   {
    "duration": 284,
    "start_time": "2021-12-11T17:20:26.854Z"
   },
   {
    "duration": 34,
    "start_time": "2021-12-11T17:20:27.140Z"
   },
   {
    "duration": 6,
    "start_time": "2021-12-11T17:20:27.176Z"
   },
   {
    "duration": 46,
    "start_time": "2021-12-11T17:20:27.184Z"
   },
   {
    "duration": 30,
    "start_time": "2021-12-11T17:20:27.232Z"
   },
   {
    "duration": 13,
    "start_time": "2021-12-11T17:20:27.265Z"
   },
   {
    "duration": 45,
    "start_time": "2021-12-11T17:20:27.281Z"
   },
   {
    "duration": 15,
    "start_time": "2021-12-11T17:20:27.329Z"
   },
   {
    "duration": 15,
    "start_time": "2021-12-11T17:20:27.347Z"
   },
   {
    "duration": 77,
    "start_time": "2021-12-11T17:20:27.365Z"
   },
   {
    "duration": 9,
    "start_time": "2021-12-11T17:20:27.445Z"
   },
   {
    "duration": 287,
    "start_time": "2021-12-11T17:20:27.456Z"
   },
   {
    "duration": 10,
    "start_time": "2021-12-11T17:20:27.746Z"
   },
   {
    "duration": 315,
    "start_time": "2021-12-11T17:20:27.758Z"
   },
   {
    "duration": 17,
    "start_time": "2021-12-11T17:20:28.075Z"
   },
   {
    "duration": 31,
    "start_time": "2021-12-11T17:20:28.094Z"
   },
   {
    "duration": 29,
    "start_time": "2021-12-11T17:20:28.127Z"
   },
   {
    "duration": 22,
    "start_time": "2021-12-11T17:20:28.159Z"
   },
   {
    "duration": 45,
    "start_time": "2021-12-11T17:20:28.183Z"
   },
   {
    "duration": 10,
    "start_time": "2021-12-11T17:20:28.230Z"
   },
   {
    "duration": 25,
    "start_time": "2021-12-11T17:20:28.242Z"
   },
   {
    "duration": 50,
    "start_time": "2021-12-11T17:20:28.269Z"
   },
   {
    "duration": 25,
    "start_time": "2021-12-11T17:20:28.321Z"
   },
   {
    "duration": 10,
    "start_time": "2021-12-11T17:20:28.348Z"
   },
   {
    "duration": 46,
    "start_time": "2021-12-11T17:20:28.361Z"
   },
   {
    "duration": 20,
    "start_time": "2021-12-11T17:20:28.409Z"
   },
   {
    "duration": 675,
    "start_time": "2021-12-11T17:20:28.431Z"
   },
   {
    "duration": 666,
    "start_time": "2021-12-11T17:20:29.108Z"
   },
   {
    "duration": 650,
    "start_time": "2021-12-11T17:20:29.776Z"
   },
   {
    "duration": 698,
    "start_time": "2021-12-11T17:20:30.429Z"
   },
   {
    "duration": 679,
    "start_time": "2021-12-11T17:20:31.129Z"
   },
   {
    "duration": 17,
    "start_time": "2021-12-11T17:20:31.811Z"
   },
   {
    "duration": 50,
    "start_time": "2021-12-11T17:20:31.830Z"
   },
   {
    "duration": 35,
    "start_time": "2021-12-11T17:20:31.883Z"
   },
   {
    "duration": 14,
    "start_time": "2021-12-11T17:20:31.920Z"
   },
   {
    "duration": 35,
    "start_time": "2021-12-11T17:20:31.936Z"
   },
   {
    "duration": 10,
    "start_time": "2021-12-11T17:20:31.973Z"
   },
   {
    "duration": 13,
    "start_time": "2021-12-11T17:20:32.018Z"
   },
   {
    "duration": 36,
    "start_time": "2021-12-11T17:20:32.033Z"
   },
   {
    "duration": 42,
    "start_time": "2021-12-11T17:20:32.076Z"
   },
   {
    "duration": 697,
    "start_time": "2021-12-11T17:20:32.121Z"
   },
   {
    "duration": 30,
    "start_time": "2021-12-11T17:20:32.821Z"
   },
   {
    "duration": 7,
    "start_time": "2021-12-11T17:20:32.853Z"
   },
   {
    "duration": 306,
    "start_time": "2021-12-11T17:20:40.364Z"
   },
   {
    "duration": 312,
    "start_time": "2021-12-11T17:21:22.543Z"
   },
   {
    "duration": 695,
    "start_time": "2021-12-11T17:21:37.543Z"
   },
   {
    "duration": 275,
    "start_time": "2021-12-11T17:22:51.555Z"
   },
   {
    "duration": 23,
    "start_time": "2021-12-11T17:23:21.364Z"
   },
   {
    "duration": 24,
    "start_time": "2021-12-11T17:23:23.515Z"
   },
   {
    "duration": 12,
    "start_time": "2021-12-11T17:23:31.315Z"
   },
   {
    "duration": 659,
    "start_time": "2021-12-11T17:23:38.375Z"
   },
   {
    "duration": 8,
    "start_time": "2021-12-11T17:24:08.242Z"
   },
   {
    "duration": 8,
    "start_time": "2021-12-11T17:24:20.328Z"
   },
   {
    "duration": 6,
    "start_time": "2021-12-11T17:24:28.427Z"
   },
   {
    "duration": 22,
    "start_time": "2021-12-11T17:24:48.508Z"
   },
   {
    "duration": 7,
    "start_time": "2021-12-11T17:26:06.740Z"
   },
   {
    "duration": 7,
    "start_time": "2021-12-11T17:26:17.587Z"
   },
   {
    "duration": 337,
    "start_time": "2021-12-11T17:26:24.104Z"
   },
   {
    "duration": 8,
    "start_time": "2021-12-11T17:26:32.708Z"
   },
   {
    "duration": 97,
    "start_time": "2021-12-11T17:29:03.781Z"
   },
   {
    "duration": 24,
    "start_time": "2021-12-11T17:29:14.660Z"
   },
   {
    "duration": 7,
    "start_time": "2021-12-11T17:29:28.479Z"
   },
   {
    "duration": 13,
    "start_time": "2021-12-11T17:30:10.959Z"
   },
   {
    "duration": 15,
    "start_time": "2021-12-11T17:30:12.408Z"
   },
   {
    "duration": 15,
    "start_time": "2021-12-11T17:30:20.748Z"
   },
   {
    "duration": 8200,
    "start_time": "2021-12-11T17:30:37.368Z"
   },
   {
    "duration": 25,
    "start_time": "2021-12-11T17:31:00.280Z"
   },
   {
    "duration": 16,
    "start_time": "2021-12-11T17:31:13.507Z"
   },
   {
    "duration": 920,
    "start_time": "2021-12-11T17:31:25.559Z"
   },
   {
    "duration": 22,
    "start_time": "2021-12-11T17:31:35.080Z"
   },
   {
    "duration": 5,
    "start_time": "2021-12-11T17:31:38.529Z"
   },
   {
    "duration": 31,
    "start_time": "2021-12-11T17:33:00.500Z"
   },
   {
    "duration": 174153,
    "start_time": "2021-12-11T17:33:21.227Z"
   },
   {
    "duration": 16,
    "start_time": "2021-12-11T17:38:52.192Z"
   },
   {
    "duration": 12,
    "start_time": "2021-12-11T17:38:54.086Z"
   },
   {
    "duration": 10,
    "start_time": "2021-12-11T17:38:55.232Z"
   },
   {
    "duration": 310,
    "start_time": "2021-12-11T17:38:55.707Z"
   },
   {
    "duration": 10,
    "start_time": "2021-12-11T17:39:09.557Z"
   },
   {
    "duration": 10,
    "start_time": "2021-12-11T17:39:11.027Z"
   },
   {
    "duration": 12,
    "start_time": "2021-12-11T17:39:12.990Z"
   },
   {
    "duration": 18,
    "start_time": "2021-12-11T17:39:21.338Z"
   },
   {
    "duration": 6,
    "start_time": "2021-12-11T17:40:34.881Z"
   },
   {
    "duration": 14015,
    "start_time": "2021-12-11T17:41:10.042Z"
   },
   {
    "duration": 198,
    "start_time": "2021-12-11T17:42:12.148Z"
   },
   {
    "duration": 591,
    "start_time": "2021-12-11T17:42:13.902Z"
   },
   {
    "duration": 14,
    "start_time": "2021-12-11T17:42:24.446Z"
   },
   {
    "duration": 4,
    "start_time": "2021-12-11T17:42:26.859Z"
   },
   {
    "duration": 5,
    "start_time": "2021-12-11T17:42:28.696Z"
   },
   {
    "duration": 248,
    "start_time": "2021-12-11T17:42:30.841Z"
   },
   {
    "duration": 3,
    "start_time": "2021-12-11T17:43:19.265Z"
   },
   {
    "duration": 91,
    "start_time": "2021-12-11T17:43:19.277Z"
   },
   {
    "duration": 63,
    "start_time": "2021-12-11T17:43:19.372Z"
   },
   {
    "duration": 15,
    "start_time": "2021-12-11T17:43:19.438Z"
   },
   {
    "duration": 15,
    "start_time": "2021-12-11T17:43:19.457Z"
   },
   {
    "duration": 55,
    "start_time": "2021-12-11T17:43:19.475Z"
   },
   {
    "duration": 47,
    "start_time": "2021-12-11T17:43:19.533Z"
   },
   {
    "duration": 6,
    "start_time": "2021-12-11T17:43:19.618Z"
   },
   {
    "duration": 11,
    "start_time": "2021-12-11T17:43:19.627Z"
   },
   {
    "duration": 10,
    "start_time": "2021-12-11T17:43:19.642Z"
   },
   {
    "duration": 396,
    "start_time": "2021-12-11T17:43:19.655Z"
   },
   {
    "duration": 44,
    "start_time": "2021-12-11T17:43:20.054Z"
   },
   {
    "duration": 63,
    "start_time": "2021-12-11T17:43:20.118Z"
   },
   {
    "duration": 99,
    "start_time": "2021-12-11T17:43:20.185Z"
   },
   {
    "duration": 50,
    "start_time": "2021-12-11T17:43:20.286Z"
   },
   {
    "duration": 37,
    "start_time": "2021-12-11T17:43:20.340Z"
   },
   {
    "duration": 6,
    "start_time": "2021-12-11T17:43:20.381Z"
   },
   {
    "duration": 66,
    "start_time": "2021-12-11T17:43:20.390Z"
   },
   {
    "duration": 77,
    "start_time": "2021-12-11T17:43:20.459Z"
   },
   {
    "duration": 37,
    "start_time": "2021-12-11T17:43:20.540Z"
   },
   {
    "duration": 799,
    "start_time": "2021-12-11T17:43:20.580Z"
   },
   {
    "duration": 11,
    "start_time": "2021-12-11T17:43:21.381Z"
   },
   {
    "duration": 28,
    "start_time": "2021-12-11T17:43:21.394Z"
   },
   {
    "duration": 512,
    "start_time": "2021-12-11T17:43:21.424Z"
   },
   {
    "duration": 7,
    "start_time": "2021-12-11T17:43:21.938Z"
   },
   {
    "duration": 8,
    "start_time": "2021-12-11T17:43:21.947Z"
   },
   {
    "duration": 61,
    "start_time": "2021-12-11T17:43:21.957Z"
   },
   {
    "duration": 7,
    "start_time": "2021-12-11T17:43:22.025Z"
   },
   {
    "duration": 270,
    "start_time": "2021-12-11T17:43:22.036Z"
   },
   {
    "duration": 39,
    "start_time": "2021-12-11T17:43:22.308Z"
   },
   {
    "duration": 6,
    "start_time": "2021-12-11T17:43:22.349Z"
   },
   {
    "duration": 22,
    "start_time": "2021-12-11T17:43:22.357Z"
   },
   {
    "duration": 57,
    "start_time": "2021-12-11T17:43:22.381Z"
   },
   {
    "duration": 14,
    "start_time": "2021-12-11T17:43:22.440Z"
   },
   {
    "duration": 15,
    "start_time": "2021-12-11T17:43:22.457Z"
   },
   {
    "duration": 55,
    "start_time": "2021-12-11T17:43:22.475Z"
   },
   {
    "duration": 19,
    "start_time": "2021-12-11T17:43:22.533Z"
   },
   {
    "duration": 33,
    "start_time": "2021-12-11T17:43:22.555Z"
   },
   {
    "duration": 7,
    "start_time": "2021-12-11T17:43:22.618Z"
   },
   {
    "duration": 281,
    "start_time": "2021-12-11T17:43:22.628Z"
   },
   {
    "duration": 12,
    "start_time": "2021-12-11T17:43:22.916Z"
   },
   {
    "duration": 339,
    "start_time": "2021-12-11T17:43:22.931Z"
   },
   {
    "duration": 15,
    "start_time": "2021-12-11T17:43:23.273Z"
   },
   {
    "duration": 36,
    "start_time": "2021-12-11T17:43:23.291Z"
   },
   {
    "duration": 29,
    "start_time": "2021-12-11T17:43:23.331Z"
   },
   {
    "duration": 60,
    "start_time": "2021-12-11T17:43:23.362Z"
   },
   {
    "duration": 13,
    "start_time": "2021-12-11T17:43:23.424Z"
   },
   {
    "duration": 10,
    "start_time": "2021-12-11T17:43:23.440Z"
   },
   {
    "duration": 30,
    "start_time": "2021-12-11T17:43:23.452Z"
   },
   {
    "duration": 42,
    "start_time": "2021-12-11T17:43:23.484Z"
   },
   {
    "duration": 24,
    "start_time": "2021-12-11T17:43:23.529Z"
   },
   {
    "duration": 9,
    "start_time": "2021-12-11T17:43:23.555Z"
   },
   {
    "duration": 5,
    "start_time": "2021-12-11T17:43:23.567Z"
   },
   {
    "duration": 48,
    "start_time": "2021-12-11T17:43:23.574Z"
   },
   {
    "duration": 727,
    "start_time": "2021-12-11T17:43:23.624Z"
   },
   {
    "duration": 680,
    "start_time": "2021-12-11T17:43:24.354Z"
   },
   {
    "duration": 683,
    "start_time": "2021-12-11T17:43:25.037Z"
   },
   {
    "duration": 688,
    "start_time": "2021-12-11T17:43:25.723Z"
   },
   {
    "duration": 684,
    "start_time": "2021-12-11T17:43:26.417Z"
   },
   {
    "duration": 16,
    "start_time": "2021-12-11T17:43:27.104Z"
   },
   {
    "duration": 51,
    "start_time": "2021-12-11T17:43:27.122Z"
   },
   {
    "duration": 5,
    "start_time": "2021-12-11T17:43:27.175Z"
   },
   {
    "duration": 45,
    "start_time": "2021-12-11T17:43:27.184Z"
   },
   {
    "duration": 36,
    "start_time": "2021-12-11T17:43:27.232Z"
   },
   {
    "duration": 46,
    "start_time": "2021-12-11T17:43:27.271Z"
   },
   {
    "duration": 14,
    "start_time": "2021-12-11T17:43:27.320Z"
   },
   {
    "duration": 37,
    "start_time": "2021-12-11T17:43:27.336Z"
   },
   {
    "duration": 42,
    "start_time": "2021-12-11T17:43:27.376Z"
   },
   {
    "duration": 683,
    "start_time": "2021-12-11T17:43:27.420Z"
   },
   {
    "duration": 36,
    "start_time": "2021-12-11T17:43:28.105Z"
   },
   {
    "duration": 10,
    "start_time": "2021-12-11T17:43:28.144Z"
   },
   {
    "duration": 484,
    "start_time": "2021-12-11T17:43:28.157Z"
   },
   {
    "duration": 1001,
    "start_time": "2021-12-11T17:43:28.644Z"
   },
   {
    "duration": 295,
    "start_time": "2021-12-11T17:43:29.648Z"
   },
   {
    "duration": 27,
    "start_time": "2021-12-11T17:43:29.946Z"
   },
   {
    "duration": 47,
    "start_time": "2021-12-11T17:43:29.975Z"
   },
   {
    "duration": 10,
    "start_time": "2021-12-11T17:43:30.025Z"
   },
   {
    "duration": 1064,
    "start_time": "2021-12-11T17:43:30.037Z"
   },
   {
    "duration": 19,
    "start_time": "2021-12-11T17:43:31.105Z"
   },
   {
    "duration": 9,
    "start_time": "2021-12-11T17:43:31.127Z"
   },
   {
    "duration": 7,
    "start_time": "2021-12-11T17:43:31.138Z"
   },
   {
    "duration": 19,
    "start_time": "2021-12-11T17:43:31.154Z"
   },
   {
    "duration": 9,
    "start_time": "2021-12-11T17:43:31.218Z"
   },
   {
    "duration": 12,
    "start_time": "2021-12-11T17:43:31.229Z"
   },
   {
    "duration": 467,
    "start_time": "2021-12-11T17:43:31.244Z"
   },
   {
    "duration": 14,
    "start_time": "2021-12-11T17:43:31.714Z"
   },
   {
    "duration": 15,
    "start_time": "2021-12-11T17:43:31.731Z"
   },
   {
    "duration": 15,
    "start_time": "2021-12-11T17:43:31.749Z"
   },
   {
    "duration": 13,
    "start_time": "2021-12-11T17:43:31.766Z"
   },
   {
    "duration": 25,
    "start_time": "2021-12-11T17:43:31.817Z"
   },
   {
    "duration": 8,
    "start_time": "2021-12-11T17:43:31.844Z"
   },
   {
    "duration": 975,
    "start_time": "2021-12-11T17:43:31.854Z"
   },
   {
    "duration": 15,
    "start_time": "2021-12-11T17:43:32.832Z"
   },
   {
    "duration": 4,
    "start_time": "2021-12-11T17:43:32.850Z"
   },
   {
    "duration": 4,
    "start_time": "2021-12-11T17:43:38.241Z"
   },
   {
    "duration": 6,
    "start_time": "2021-12-11T17:43:39.532Z"
   },
   {
    "duration": 217580,
    "start_time": "2021-12-11T17:43:41.320Z"
   },
   {
    "duration": 13,
    "start_time": "2021-12-11T17:47:42.436Z"
   },
   {
    "duration": 12,
    "start_time": "2021-12-11T17:47:44.123Z"
   },
   {
    "duration": 12,
    "start_time": "2021-12-11T17:47:45.978Z"
   },
   {
    "duration": 13,
    "start_time": "2021-12-11T17:47:47.829Z"
   },
   {
    "duration": 12,
    "start_time": "2021-12-11T17:47:49.423Z"
   },
   {
    "duration": 12,
    "start_time": "2021-12-11T17:47:51.113Z"
   },
   {
    "duration": 6,
    "start_time": "2021-12-11T17:47:56.416Z"
   },
   {
    "duration": 5,
    "start_time": "2021-12-11T17:48:24.542Z"
   },
   {
    "duration": 1058,
    "start_time": "2021-12-12T13:00:29.942Z"
   },
   {
    "duration": 66,
    "start_time": "2021-12-12T13:00:31.003Z"
   },
   {
    "duration": 46,
    "start_time": "2021-12-12T13:00:31.072Z"
   },
   {
    "duration": 15,
    "start_time": "2021-12-12T13:00:31.121Z"
   },
   {
    "duration": 31,
    "start_time": "2021-12-12T13:00:31.139Z"
   },
   {
    "duration": 23,
    "start_time": "2021-12-12T13:00:31.173Z"
   },
   {
    "duration": 65,
    "start_time": "2021-12-12T13:00:31.199Z"
   },
   {
    "duration": 7,
    "start_time": "2021-12-12T13:00:31.266Z"
   },
   {
    "duration": 48,
    "start_time": "2021-12-12T13:00:31.279Z"
   },
   {
    "duration": 17,
    "start_time": "2021-12-12T13:00:31.331Z"
   },
   {
    "duration": 417,
    "start_time": "2021-12-12T13:00:31.351Z"
   },
   {
    "duration": 75,
    "start_time": "2021-12-12T13:00:31.771Z"
   },
   {
    "duration": 40,
    "start_time": "2021-12-12T13:00:31.849Z"
   },
   {
    "duration": 63,
    "start_time": "2021-12-12T13:00:31.891Z"
   },
   {
    "duration": 77,
    "start_time": "2021-12-12T13:00:31.957Z"
   },
   {
    "duration": 38,
    "start_time": "2021-12-12T13:00:32.037Z"
   },
   {
    "duration": 5,
    "start_time": "2021-12-12T13:00:32.078Z"
   },
   {
    "duration": 71,
    "start_time": "2021-12-12T13:00:32.085Z"
   },
   {
    "duration": 73,
    "start_time": "2021-12-12T13:00:32.158Z"
   },
   {
    "duration": 54,
    "start_time": "2021-12-12T13:00:32.233Z"
   },
   {
    "duration": 764,
    "start_time": "2021-12-12T13:00:32.290Z"
   },
   {
    "duration": 12,
    "start_time": "2021-12-12T13:00:33.056Z"
   },
   {
    "duration": 10,
    "start_time": "2021-12-12T13:00:33.070Z"
   },
   {
    "duration": 325,
    "start_time": "2021-12-12T13:00:33.083Z"
   },
   {
    "duration": 9,
    "start_time": "2021-12-12T13:00:33.418Z"
   },
   {
    "duration": 10,
    "start_time": "2021-12-12T13:00:33.431Z"
   },
   {
    "duration": 64,
    "start_time": "2021-12-12T13:00:33.453Z"
   },
   {
    "duration": 9,
    "start_time": "2021-12-12T13:00:33.522Z"
   },
   {
    "duration": 334,
    "start_time": "2021-12-12T13:00:33.533Z"
   },
   {
    "duration": 51,
    "start_time": "2021-12-12T13:00:33.870Z"
   },
   {
    "duration": 8,
    "start_time": "2021-12-12T13:00:33.924Z"
   },
   {
    "duration": 23,
    "start_time": "2021-12-12T13:00:33.935Z"
   },
   {
    "duration": 70,
    "start_time": "2021-12-12T13:00:33.961Z"
   },
   {
    "duration": 14,
    "start_time": "2021-12-12T13:00:34.034Z"
   },
   {
    "duration": 20,
    "start_time": "2021-12-12T13:00:34.051Z"
   },
   {
    "duration": 48,
    "start_time": "2021-12-12T13:00:34.074Z"
   },
   {
    "duration": 16,
    "start_time": "2021-12-12T13:00:34.125Z"
   },
   {
    "duration": 32,
    "start_time": "2021-12-12T13:00:34.143Z"
   },
   {
    "duration": 41,
    "start_time": "2021-12-12T13:00:34.178Z"
   },
   {
    "duration": 286,
    "start_time": "2021-12-12T13:00:34.222Z"
   },
   {
    "duration": 14,
    "start_time": "2021-12-12T13:00:34.511Z"
   },
   {
    "duration": 319,
    "start_time": "2021-12-12T13:00:34.528Z"
   },
   {
    "duration": 15,
    "start_time": "2021-12-12T13:00:34.850Z"
   },
   {
    "duration": 51,
    "start_time": "2021-12-12T13:00:34.868Z"
   },
   {
    "duration": 29,
    "start_time": "2021-12-12T13:00:34.921Z"
   },
   {
    "duration": 24,
    "start_time": "2021-12-12T13:00:34.952Z"
   },
   {
    "duration": 41,
    "start_time": "2021-12-12T13:00:34.978Z"
   },
   {
    "duration": 11,
    "start_time": "2021-12-12T13:00:35.022Z"
   },
   {
    "duration": 29,
    "start_time": "2021-12-12T13:00:35.036Z"
   },
   {
    "duration": 61,
    "start_time": "2021-12-12T13:00:35.068Z"
   },
   {
    "duration": 32,
    "start_time": "2021-12-12T13:00:35.132Z"
   },
   {
    "duration": 13,
    "start_time": "2021-12-12T13:00:35.166Z"
   },
   {
    "duration": 4,
    "start_time": "2021-12-12T13:00:35.182Z"
   },
   {
    "duration": 40,
    "start_time": "2021-12-12T13:00:35.188Z"
   },
   {
    "duration": 702,
    "start_time": "2021-12-12T13:00:35.230Z"
   },
   {
    "duration": 702,
    "start_time": "2021-12-12T13:00:35.935Z"
   },
   {
    "duration": 966,
    "start_time": "2021-12-12T13:00:36.640Z"
   },
   {
    "duration": 728,
    "start_time": "2021-12-12T13:00:37.608Z"
   },
   {
    "duration": 771,
    "start_time": "2021-12-12T13:00:38.339Z"
   },
   {
    "duration": 26,
    "start_time": "2021-12-12T13:00:39.113Z"
   },
   {
    "duration": 89,
    "start_time": "2021-12-12T13:00:39.143Z"
   },
   {
    "duration": 11,
    "start_time": "2021-12-12T13:00:39.236Z"
   },
   {
    "duration": 20,
    "start_time": "2021-12-12T13:00:39.251Z"
   },
   {
    "duration": 88,
    "start_time": "2021-12-12T13:00:39.275Z"
   },
   {
    "duration": 13,
    "start_time": "2021-12-12T13:00:39.366Z"
   },
   {
    "duration": 41,
    "start_time": "2021-12-12T13:00:39.382Z"
   },
   {
    "duration": 36,
    "start_time": "2021-12-12T13:00:39.426Z"
   },
   {
    "duration": 14,
    "start_time": "2021-12-12T13:00:39.465Z"
   },
   {
    "duration": 713,
    "start_time": "2021-12-12T13:00:39.518Z"
   },
   {
    "duration": 28,
    "start_time": "2021-12-12T13:00:40.233Z"
   },
   {
    "duration": 8,
    "start_time": "2021-12-12T13:00:40.263Z"
   },
   {
    "duration": 334,
    "start_time": "2021-12-12T13:00:40.274Z"
   },
   {
    "duration": 707,
    "start_time": "2021-12-12T13:00:40.611Z"
   },
   {
    "duration": 398,
    "start_time": "2021-12-12T13:00:41.321Z"
   },
   {
    "duration": 26,
    "start_time": "2021-12-12T13:00:41.721Z"
   },
   {
    "duration": 37,
    "start_time": "2021-12-12T13:00:41.750Z"
   },
   {
    "duration": 12,
    "start_time": "2021-12-12T13:00:41.818Z"
   },
   {
    "duration": 986,
    "start_time": "2021-12-12T13:00:41.833Z"
   },
   {
    "duration": 10,
    "start_time": "2021-12-12T13:00:42.822Z"
   },
   {
    "duration": 9,
    "start_time": "2021-12-12T13:00:42.834Z"
   },
   {
    "duration": 7,
    "start_time": "2021-12-12T13:00:42.853Z"
   },
   {
    "duration": 54,
    "start_time": "2021-12-12T13:00:42.865Z"
   },
   {
    "duration": 8,
    "start_time": "2021-12-12T13:00:42.923Z"
   },
   {
    "duration": 9,
    "start_time": "2021-12-12T13:00:42.934Z"
   },
   {
    "duration": 342,
    "start_time": "2021-12-12T13:00:42.946Z"
   },
   {
    "duration": 10,
    "start_time": "2021-12-12T13:00:43.291Z"
   },
   {
    "duration": 14,
    "start_time": "2021-12-12T13:00:43.317Z"
   },
   {
    "duration": 13,
    "start_time": "2021-12-12T13:00:43.333Z"
   },
   {
    "duration": 13,
    "start_time": "2021-12-12T13:00:43.348Z"
   },
   {
    "duration": 67,
    "start_time": "2021-12-12T13:00:43.363Z"
   },
   {
    "duration": 41,
    "start_time": "2021-12-12T13:00:43.432Z"
   },
   {
    "duration": 948,
    "start_time": "2021-12-12T13:00:43.476Z"
   },
   {
    "duration": 21,
    "start_time": "2021-12-12T13:00:44.427Z"
   },
   {
    "duration": 6,
    "start_time": "2021-12-12T13:00:44.451Z"
   },
   {
    "duration": 9,
    "start_time": "2021-12-12T13:00:44.460Z"
   },
   {
    "duration": 464,
    "start_time": "2021-12-12T13:00:44.472Z"
   },
   {
    "duration": 1062,
    "start_time": "2021-12-12T13:00:44.939Z"
   },
   {
    "duration": -541,
    "start_time": "2021-12-12T13:00:46.545Z"
   },
   {
    "duration": -542,
    "start_time": "2021-12-12T13:00:46.548Z"
   },
   {
    "duration": -571,
    "start_time": "2021-12-12T13:00:46.579Z"
   },
   {
    "duration": -575,
    "start_time": "2021-12-12T13:00:46.585Z"
   },
   {
    "duration": -579,
    "start_time": "2021-12-12T13:00:46.590Z"
   },
   {
    "duration": -580,
    "start_time": "2021-12-12T13:00:46.594Z"
   },
   {
    "duration": -584,
    "start_time": "2021-12-12T13:00:46.599Z"
   },
   {
    "duration": -585,
    "start_time": "2021-12-12T13:00:46.602Z"
   },
   {
    "duration": -587,
    "start_time": "2021-12-12T13:00:46.606Z"
   },
   {
    "duration": -588,
    "start_time": "2021-12-12T13:00:46.609Z"
   },
   {
    "duration": -589,
    "start_time": "2021-12-12T13:00:46.612Z"
   },
   {
    "duration": -590,
    "start_time": "2021-12-12T13:00:46.615Z"
   },
   {
    "duration": -592,
    "start_time": "2021-12-12T13:00:46.619Z"
   },
   {
    "duration": -593,
    "start_time": "2021-12-12T13:00:46.622Z"
   },
   {
    "duration": -594,
    "start_time": "2021-12-12T13:00:46.625Z"
   },
   {
    "duration": -596,
    "start_time": "2021-12-12T13:00:46.628Z"
   },
   {
    "duration": -596,
    "start_time": "2021-12-12T13:00:46.632Z"
   },
   {
    "duration": -597,
    "start_time": "2021-12-12T13:00:46.635Z"
   },
   {
    "duration": -599,
    "start_time": "2021-12-12T13:00:46.638Z"
   },
   {
    "duration": -600,
    "start_time": "2021-12-12T13:00:46.641Z"
   },
   {
    "duration": -603,
    "start_time": "2021-12-12T13:00:46.645Z"
   },
   {
    "duration": -605,
    "start_time": "2021-12-12T13:00:46.649Z"
   },
   {
    "duration": -606,
    "start_time": "2021-12-12T13:00:46.652Z"
   },
   {
    "duration": -608,
    "start_time": "2021-12-12T13:00:46.655Z"
   },
   {
    "duration": -634,
    "start_time": "2021-12-12T13:00:46.683Z"
   },
   {
    "duration": -636,
    "start_time": "2021-12-12T13:00:46.686Z"
   },
   {
    "duration": 409,
    "start_time": "2021-12-12T13:05:28.892Z"
   },
   {
    "duration": -593,
    "start_time": "2021-12-12T13:05:29.899Z"
   },
   {
    "duration": -597,
    "start_time": "2021-12-12T13:05:29.906Z"
   },
   {
    "duration": -599,
    "start_time": "2021-12-12T13:05:29.910Z"
   },
   {
    "duration": -600,
    "start_time": "2021-12-12T13:05:29.913Z"
   },
   {
    "duration": -602,
    "start_time": "2021-12-12T13:05:29.917Z"
   },
   {
    "duration": -602,
    "start_time": "2021-12-12T13:05:29.920Z"
   },
   {
    "duration": -604,
    "start_time": "2021-12-12T13:05:29.924Z"
   },
   {
    "duration": -605,
    "start_time": "2021-12-12T13:05:29.927Z"
   },
   {
    "duration": -611,
    "start_time": "2021-12-12T13:05:29.936Z"
   },
   {
    "duration": -614,
    "start_time": "2021-12-12T13:05:29.941Z"
   },
   {
    "duration": -616,
    "start_time": "2021-12-12T13:05:29.945Z"
   },
   {
    "duration": -617,
    "start_time": "2021-12-12T13:05:29.948Z"
   },
   {
    "duration": -619,
    "start_time": "2021-12-12T13:05:29.952Z"
   },
   {
    "duration": -619,
    "start_time": "2021-12-12T13:05:29.955Z"
   },
   {
    "duration": -621,
    "start_time": "2021-12-12T13:05:29.959Z"
   },
   {
    "duration": -630,
    "start_time": "2021-12-12T13:05:29.970Z"
   },
   {
    "duration": -635,
    "start_time": "2021-12-12T13:05:29.977Z"
   },
   {
    "duration": -637,
    "start_time": "2021-12-12T13:05:29.981Z"
   },
   {
    "duration": -639,
    "start_time": "2021-12-12T13:05:29.985Z"
   },
   {
    "duration": -641,
    "start_time": "2021-12-12T13:05:29.989Z"
   },
   {
    "duration": -642,
    "start_time": "2021-12-12T13:05:29.992Z"
   },
   {
    "duration": -643,
    "start_time": "2021-12-12T13:05:29.996Z"
   },
   {
    "duration": -650,
    "start_time": "2021-12-12T13:05:30.005Z"
   },
   {
    "duration": -652,
    "start_time": "2021-12-12T13:05:30.009Z"
   },
   {
    "duration": -654,
    "start_time": "2021-12-12T13:05:30.013Z"
   },
   {
    "duration": -655,
    "start_time": "2021-12-12T13:05:30.016Z"
   },
   {
    "duration": 412,
    "start_time": "2021-12-12T13:05:39.221Z"
   },
   {
    "duration": 382,
    "start_time": "2021-12-12T13:05:40.185Z"
   },
   {
    "duration": -549,
    "start_time": "2021-12-12T13:05:41.119Z"
   },
   {
    "duration": -551,
    "start_time": "2021-12-12T13:05:41.122Z"
   },
   {
    "duration": 395,
    "start_time": "2021-12-12T13:05:40.647Z"
   },
   {
    "duration": -586,
    "start_time": "2021-12-12T13:05:41.630Z"
   },
   {
    "duration": 454,
    "start_time": "2021-12-12T13:05:44.868Z"
   },
   {
    "duration": 91,
    "start_time": "2021-12-12T14:02:46.162Z"
   },
   {
    "duration": 562,
    "start_time": "2021-12-12T14:05:56.510Z"
   },
   {
    "duration": 53,
    "start_time": "2021-12-12T14:05:57.074Z"
   },
   {
    "duration": 24,
    "start_time": "2021-12-12T14:05:57.129Z"
   },
   {
    "duration": 20,
    "start_time": "2021-12-12T14:05:57.154Z"
   },
   {
    "duration": 19,
    "start_time": "2021-12-12T14:05:57.175Z"
   },
   {
    "duration": 24,
    "start_time": "2021-12-12T14:05:57.195Z"
   },
   {
    "duration": 34,
    "start_time": "2021-12-12T14:05:57.221Z"
   },
   {
    "duration": 6,
    "start_time": "2021-12-12T14:05:57.258Z"
   },
   {
    "duration": 22,
    "start_time": "2021-12-12T14:05:57.266Z"
   },
   {
    "duration": 8,
    "start_time": "2021-12-12T14:05:57.290Z"
   },
   {
    "duration": 254,
    "start_time": "2021-12-12T14:05:57.300Z"
   },
   {
    "duration": 29,
    "start_time": "2021-12-12T14:05:57.555Z"
   },
   {
    "duration": 22,
    "start_time": "2021-12-12T14:05:57.586Z"
   },
   {
    "duration": 27,
    "start_time": "2021-12-12T14:05:57.610Z"
   },
   {
    "duration": 48,
    "start_time": "2021-12-12T14:05:57.639Z"
   },
   {
    "duration": 23,
    "start_time": "2021-12-12T14:05:57.688Z"
   },
   {
    "duration": 4,
    "start_time": "2021-12-12T14:05:57.713Z"
   },
   {
    "duration": 51,
    "start_time": "2021-12-12T14:05:57.719Z"
   },
   {
    "duration": 29,
    "start_time": "2021-12-12T14:05:57.772Z"
   },
   {
    "duration": 22,
    "start_time": "2021-12-12T14:05:57.803Z"
   },
   {
    "duration": 480,
    "start_time": "2021-12-12T14:05:57.826Z"
   },
   {
    "duration": 7,
    "start_time": "2021-12-12T14:05:58.308Z"
   },
   {
    "duration": 7,
    "start_time": "2021-12-12T14:05:58.319Z"
   },
   {
    "duration": 187,
    "start_time": "2021-12-12T14:05:58.328Z"
   },
   {
    "duration": 5,
    "start_time": "2021-12-12T14:05:58.517Z"
   },
   {
    "duration": 6,
    "start_time": "2021-12-12T14:05:58.524Z"
   },
   {
    "duration": 32,
    "start_time": "2021-12-12T14:05:58.532Z"
   },
   {
    "duration": 5,
    "start_time": "2021-12-12T14:05:58.566Z"
   },
   {
    "duration": 219,
    "start_time": "2021-12-12T14:05:58.572Z"
   },
   {
    "duration": 25,
    "start_time": "2021-12-12T14:05:58.793Z"
   },
   {
    "duration": 4,
    "start_time": "2021-12-12T14:05:58.820Z"
   },
   {
    "duration": 15,
    "start_time": "2021-12-12T14:05:58.825Z"
   },
   {
    "duration": 44,
    "start_time": "2021-12-12T14:05:58.841Z"
   },
   {
    "duration": 9,
    "start_time": "2021-12-12T14:05:58.887Z"
   },
   {
    "duration": 9,
    "start_time": "2021-12-12T14:05:58.898Z"
   },
   {
    "duration": 11,
    "start_time": "2021-12-12T14:05:58.908Z"
   },
   {
    "duration": 12,
    "start_time": "2021-12-12T14:05:58.921Z"
   },
   {
    "duration": 46,
    "start_time": "2021-12-12T14:05:58.935Z"
   },
   {
    "duration": 7,
    "start_time": "2021-12-12T14:05:58.982Z"
   },
   {
    "duration": 167,
    "start_time": "2021-12-12T14:05:58.990Z"
   },
   {
    "duration": 7,
    "start_time": "2021-12-12T14:05:59.158Z"
   },
   {
    "duration": 205,
    "start_time": "2021-12-12T14:05:59.167Z"
   },
   {
    "duration": 10,
    "start_time": "2021-12-12T14:05:59.374Z"
   },
   {
    "duration": 11,
    "start_time": "2021-12-12T14:05:59.386Z"
   },
   {
    "duration": 17,
    "start_time": "2021-12-12T14:05:59.399Z"
   },
   {
    "duration": 46,
    "start_time": "2021-12-12T14:05:59.418Z"
   },
   {
    "duration": 9,
    "start_time": "2021-12-12T14:05:59.466Z"
   },
   {
    "duration": 8,
    "start_time": "2021-12-12T14:05:59.477Z"
   },
   {
    "duration": 17,
    "start_time": "2021-12-12T14:05:59.487Z"
   },
   {
    "duration": 10,
    "start_time": "2021-12-12T14:05:59.506Z"
   },
   {
    "duration": 18,
    "start_time": "2021-12-12T14:05:59.517Z"
   },
   {
    "duration": 7,
    "start_time": "2021-12-12T14:05:59.564Z"
   },
   {
    "duration": 4,
    "start_time": "2021-12-12T14:05:59.572Z"
   },
   {
    "duration": 12,
    "start_time": "2021-12-12T14:05:59.577Z"
   },
   {
    "duration": 497,
    "start_time": "2021-12-12T14:05:59.590Z"
   },
   {
    "duration": 475,
    "start_time": "2021-12-12T14:06:00.089Z"
   },
   {
    "duration": 436,
    "start_time": "2021-12-12T14:06:00.566Z"
   },
   {
    "duration": 484,
    "start_time": "2021-12-12T14:06:01.004Z"
   },
   {
    "duration": 454,
    "start_time": "2021-12-12T14:06:01.490Z"
   },
   {
    "duration": 17,
    "start_time": "2021-12-12T14:06:01.946Z"
   },
   {
    "duration": 32,
    "start_time": "2021-12-12T14:06:01.965Z"
   },
   {
    "duration": 6,
    "start_time": "2021-12-12T14:06:01.998Z"
   },
   {
    "duration": 18,
    "start_time": "2021-12-12T14:06:02.006Z"
   },
   {
    "duration": 47,
    "start_time": "2021-12-12T14:06:02.026Z"
   },
   {
    "duration": 7,
    "start_time": "2021-12-12T14:06:02.075Z"
   },
   {
    "duration": 18,
    "start_time": "2021-12-12T14:06:02.084Z"
   },
   {
    "duration": 23,
    "start_time": "2021-12-12T14:06:02.104Z"
   },
   {
    "duration": 30,
    "start_time": "2021-12-12T14:06:02.134Z"
   },
   {
    "duration": 449,
    "start_time": "2021-12-12T14:06:02.166Z"
   },
   {
    "duration": 21,
    "start_time": "2021-12-12T14:06:02.617Z"
   },
   {
    "duration": 5,
    "start_time": "2021-12-12T14:06:02.640Z"
   },
   {
    "duration": 180,
    "start_time": "2021-12-12T14:06:02.663Z"
   },
   {
    "duration": 454,
    "start_time": "2021-12-12T14:06:02.844Z"
   },
   {
    "duration": 255,
    "start_time": "2021-12-12T14:06:03.300Z"
   },
   {
    "duration": 21,
    "start_time": "2021-12-12T14:06:03.556Z"
   },
   {
    "duration": 17,
    "start_time": "2021-12-12T14:06:03.579Z"
   },
   {
    "duration": 6,
    "start_time": "2021-12-12T14:06:03.597Z"
   },
   {
    "duration": 502,
    "start_time": "2021-12-12T14:06:03.605Z"
   },
   {
    "duration": 6,
    "start_time": "2021-12-12T14:06:04.108Z"
   },
   {
    "duration": 17,
    "start_time": "2021-12-12T14:06:04.116Z"
   },
   {
    "duration": 28,
    "start_time": "2021-12-12T14:06:04.135Z"
   },
   {
    "duration": 16,
    "start_time": "2021-12-12T14:06:04.164Z"
   },
   {
    "duration": 25,
    "start_time": "2021-12-12T14:06:04.181Z"
   },
   {
    "duration": 31,
    "start_time": "2021-12-12T14:06:04.208Z"
   },
   {
    "duration": 185,
    "start_time": "2021-12-12T14:06:04.240Z"
   },
   {
    "duration": 5,
    "start_time": "2021-12-12T14:06:04.427Z"
   },
   {
    "duration": 28,
    "start_time": "2021-12-12T14:06:04.434Z"
   },
   {
    "duration": 21,
    "start_time": "2021-12-12T14:06:04.464Z"
   },
   {
    "duration": 30,
    "start_time": "2021-12-12T14:06:04.487Z"
   },
   {
    "duration": 45,
    "start_time": "2021-12-12T14:06:04.519Z"
   },
   {
    "duration": 17,
    "start_time": "2021-12-12T14:06:04.565Z"
   },
   {
    "duration": 690,
    "start_time": "2021-12-12T14:06:04.583Z"
   },
   {
    "duration": 10,
    "start_time": "2021-12-12T14:06:05.275Z"
   },
   {
    "duration": 9,
    "start_time": "2021-12-12T14:06:10.812Z"
   },
   {
    "duration": 4,
    "start_time": "2021-12-12T14:06:15.522Z"
   },
   {
    "duration": 4,
    "start_time": "2021-12-12T14:06:16.691Z"
   },
   {
    "duration": 120010,
    "start_time": "2021-12-12T14:06:21.704Z"
   },
   {
    "duration": 308,
    "start_time": "2021-12-12T14:27:36.734Z"
   },
   {
    "duration": 256,
    "start_time": "2021-12-12T14:27:51.762Z"
   },
   {
    "duration": 237,
    "start_time": "2021-12-12T14:27:58.963Z"
   },
   {
    "duration": 241,
    "start_time": "2021-12-12T14:28:14.074Z"
   },
   {
    "duration": 8,
    "start_time": "2021-12-12T14:29:46.575Z"
   },
   {
    "duration": 18,
    "start_time": "2021-12-12T14:30:09.587Z"
   },
   {
    "duration": 3395,
    "start_time": "2021-12-12T14:34:26.176Z"
   },
   {
    "duration": 8,
    "start_time": "2021-12-12T14:37:39.955Z"
   },
   {
    "duration": 8,
    "start_time": "2021-12-12T14:37:41.356Z"
   },
   {
    "duration": 8,
    "start_time": "2021-12-12T14:37:42.564Z"
   },
   {
    "duration": 9,
    "start_time": "2021-12-12T14:37:46.474Z"
   },
   {
    "duration": 8,
    "start_time": "2021-12-12T14:37:47.763Z"
   },
   {
    "duration": 7,
    "start_time": "2021-12-12T14:37:48.855Z"
   },
   {
    "duration": 5,
    "start_time": "2021-12-12T14:37:52.907Z"
   },
   {
    "duration": 3,
    "start_time": "2021-12-12T14:38:26.620Z"
   },
   {
    "duration": 19,
    "start_time": "2021-12-12T14:38:27.782Z"
   },
   {
    "duration": 13,
    "start_time": "2021-12-12T14:38:29.090Z"
   },
   {
    "duration": 179,
    "start_time": "2021-12-12T14:38:30.234Z"
   },
   {
    "duration": 8,
    "start_time": "2021-12-12T14:38:31.162Z"
   },
   {
    "duration": 164,
    "start_time": "2021-12-12T14:38:32.077Z"
   },
   {
    "duration": 31,
    "start_time": "2021-12-12T14:38:34.525Z"
   },
   {
    "duration": 8,
    "start_time": "2021-12-12T14:38:37.683Z"
   },
   {
    "duration": 8,
    "start_time": "2021-12-12T14:38:38.435Z"
   },
   {
    "duration": 6,
    "start_time": "2021-12-12T14:38:39.212Z"
   },
   {
    "duration": 6,
    "start_time": "2021-12-12T14:38:39.887Z"
   },
   {
    "duration": 6,
    "start_time": "2021-12-12T14:38:40.635Z"
   },
   {
    "duration": 6,
    "start_time": "2021-12-12T14:38:41.435Z"
   },
   {
    "duration": 6,
    "start_time": "2021-12-12T14:38:44.575Z"
   },
   {
    "duration": 6,
    "start_time": "2021-12-12T14:38:45.347Z"
   },
   {
    "duration": 6,
    "start_time": "2021-12-12T14:38:46.983Z"
   },
   {
    "duration": 6,
    "start_time": "2021-12-12T14:38:47.944Z"
   },
   {
    "duration": 8593,
    "start_time": "2021-12-12T14:38:54.802Z"
   },
   {
    "duration": -402,
    "start_time": "2021-12-12T14:39:03.799Z"
   },
   {
    "duration": -416,
    "start_time": "2021-12-12T14:39:03.814Z"
   },
   {
    "duration": 6,
    "start_time": "2021-12-12T14:39:17.384Z"
   },
   {
    "duration": 2,
    "start_time": "2021-12-12T14:41:46.563Z"
   },
   {
    "duration": 54,
    "start_time": "2021-12-12T14:41:46.567Z"
   },
   {
    "duration": 18,
    "start_time": "2021-12-12T14:41:46.623Z"
   },
   {
    "duration": 25,
    "start_time": "2021-12-12T14:41:46.642Z"
   },
   {
    "duration": 10,
    "start_time": "2021-12-12T14:41:46.669Z"
   },
   {
    "duration": 10,
    "start_time": "2021-12-12T14:41:46.680Z"
   },
   {
    "duration": 30,
    "start_time": "2021-12-12T14:41:46.692Z"
   },
   {
    "duration": 5,
    "start_time": "2021-12-12T14:41:46.724Z"
   },
   {
    "duration": 8,
    "start_time": "2021-12-12T14:41:46.763Z"
   },
   {
    "duration": 7,
    "start_time": "2021-12-12T14:41:46.773Z"
   },
   {
    "duration": 215,
    "start_time": "2021-12-12T14:41:46.782Z"
   },
   {
    "duration": 22,
    "start_time": "2021-12-12T14:41:46.999Z"
   },
   {
    "duration": 42,
    "start_time": "2021-12-12T14:41:47.023Z"
   },
   {
    "duration": 27,
    "start_time": "2021-12-12T14:41:47.067Z"
   },
   {
    "duration": 25,
    "start_time": "2021-12-12T14:41:47.096Z"
   },
   {
    "duration": 53,
    "start_time": "2021-12-12T14:41:47.123Z"
   },
   {
    "duration": 4,
    "start_time": "2021-12-12T14:41:47.178Z"
   },
   {
    "duration": 26,
    "start_time": "2021-12-12T14:41:47.183Z"
   },
   {
    "duration": 52,
    "start_time": "2021-12-12T14:41:47.212Z"
   },
   {
    "duration": 22,
    "start_time": "2021-12-12T14:41:47.267Z"
   },
   {
    "duration": 546,
    "start_time": "2021-12-12T14:41:47.291Z"
   },
   {
    "duration": 7,
    "start_time": "2021-12-12T14:41:47.839Z"
   },
   {
    "duration": 6,
    "start_time": "2021-12-12T14:41:47.847Z"
   },
   {
    "duration": 172,
    "start_time": "2021-12-12T14:41:47.863Z"
   },
   {
    "duration": 5,
    "start_time": "2021-12-12T14:41:48.037Z"
   },
   {
    "duration": 23,
    "start_time": "2021-12-12T14:41:48.043Z"
   },
   {
    "duration": 16,
    "start_time": "2021-12-12T14:41:48.068Z"
   },
   {
    "duration": 4,
    "start_time": "2021-12-12T14:41:48.086Z"
   },
   {
    "duration": 173,
    "start_time": "2021-12-12T14:41:48.092Z"
   },
   {
    "duration": 25,
    "start_time": "2021-12-12T14:41:48.266Z"
   },
   {
    "duration": 4,
    "start_time": "2021-12-12T14:41:48.293Z"
   },
   {
    "duration": 15,
    "start_time": "2021-12-12T14:41:48.298Z"
   },
   {
    "duration": 48,
    "start_time": "2021-12-12T14:41:48.315Z"
   },
   {
    "duration": 9,
    "start_time": "2021-12-12T14:41:48.365Z"
   },
   {
    "duration": 7,
    "start_time": "2021-12-12T14:41:48.376Z"
   },
   {
    "duration": 10,
    "start_time": "2021-12-12T14:41:48.385Z"
   },
   {
    "duration": 12,
    "start_time": "2021-12-12T14:41:48.397Z"
   },
   {
    "duration": 54,
    "start_time": "2021-12-12T14:41:48.411Z"
   },
   {
    "duration": 5,
    "start_time": "2021-12-12T14:41:48.467Z"
   },
   {
    "duration": 167,
    "start_time": "2021-12-12T14:41:48.474Z"
   },
   {
    "duration": 7,
    "start_time": "2021-12-12T14:41:48.642Z"
   },
   {
    "duration": 282,
    "start_time": "2021-12-12T14:41:48.650Z"
   },
   {
    "duration": 10,
    "start_time": "2021-12-12T14:41:48.934Z"
   },
   {
    "duration": 24,
    "start_time": "2021-12-12T14:41:48.945Z"
   },
   {
    "duration": 16,
    "start_time": "2021-12-12T14:41:48.971Z"
   },
   {
    "duration": 17,
    "start_time": "2021-12-12T14:41:48.988Z"
   },
   {
    "duration": 9,
    "start_time": "2021-12-12T14:41:49.006Z"
   },
   {
    "duration": 8,
    "start_time": "2021-12-12T14:41:49.017Z"
   },
   {
    "duration": 50,
    "start_time": "2021-12-12T14:41:49.027Z"
   },
   {
    "duration": 10,
    "start_time": "2021-12-12T14:41:49.079Z"
   },
   {
    "duration": 17,
    "start_time": "2021-12-12T14:41:49.091Z"
   },
   {
    "duration": 7,
    "start_time": "2021-12-12T14:41:49.109Z"
   },
   {
    "duration": 4,
    "start_time": "2021-12-12T14:41:49.118Z"
   },
   {
    "duration": 43,
    "start_time": "2021-12-12T14:41:49.123Z"
   },
   {
    "duration": 450,
    "start_time": "2021-12-12T14:41:49.171Z"
   },
   {
    "duration": 483,
    "start_time": "2021-12-12T14:41:49.623Z"
   },
   {
    "duration": 492,
    "start_time": "2021-12-12T14:41:50.108Z"
   },
   {
    "duration": 497,
    "start_time": "2021-12-12T14:41:50.601Z"
   },
   {
    "duration": 490,
    "start_time": "2021-12-12T14:41:51.100Z"
   },
   {
    "duration": 7,
    "start_time": "2021-12-12T14:41:51.592Z"
   },
   {
    "duration": 29,
    "start_time": "2021-12-12T14:41:51.601Z"
   },
   {
    "duration": 4,
    "start_time": "2021-12-12T14:41:51.631Z"
   },
   {
    "duration": 28,
    "start_time": "2021-12-12T14:41:51.636Z"
   },
   {
    "duration": 23,
    "start_time": "2021-12-12T14:41:51.666Z"
   },
   {
    "duration": 7,
    "start_time": "2021-12-12T14:41:51.690Z"
   },
   {
    "duration": 8,
    "start_time": "2021-12-12T14:41:51.699Z"
   },
   {
    "duration": 20,
    "start_time": "2021-12-12T14:41:51.709Z"
   },
   {
    "duration": 40,
    "start_time": "2021-12-12T14:41:51.731Z"
   },
   {
    "duration": 439,
    "start_time": "2021-12-12T14:41:51.773Z"
   },
   {
    "duration": 20,
    "start_time": "2021-12-12T14:41:52.213Z"
   },
   {
    "duration": 17,
    "start_time": "2021-12-12T14:41:52.234Z"
   },
   {
    "duration": 173,
    "start_time": "2021-12-12T14:41:52.252Z"
   },
   {
    "duration": 479,
    "start_time": "2021-12-12T14:41:52.428Z"
   },
   {
    "duration": 166,
    "start_time": "2021-12-12T14:41:52.908Z"
   },
   {
    "duration": 19,
    "start_time": "2021-12-12T14:41:53.075Z"
   },
   {
    "duration": 25,
    "start_time": "2021-12-12T14:41:53.095Z"
   },
   {
    "duration": 7,
    "start_time": "2021-12-12T14:41:53.121Z"
   },
   {
    "duration": 471,
    "start_time": "2021-12-12T14:41:53.129Z"
   },
   {
    "duration": 6,
    "start_time": "2021-12-12T14:41:53.601Z"
   },
   {
    "duration": 10,
    "start_time": "2021-12-12T14:41:53.609Z"
   },
   {
    "duration": 5,
    "start_time": "2021-12-12T14:41:53.620Z"
   },
   {
    "duration": 12,
    "start_time": "2021-12-12T14:41:53.626Z"
   },
   {
    "duration": 28,
    "start_time": "2021-12-12T14:41:53.639Z"
   },
   {
    "duration": 7,
    "start_time": "2021-12-12T14:41:53.669Z"
   },
   {
    "duration": 188,
    "start_time": "2021-12-12T14:41:53.677Z"
   },
   {
    "duration": 5,
    "start_time": "2021-12-12T14:41:53.866Z"
   },
   {
    "duration": 11,
    "start_time": "2021-12-12T14:41:53.873Z"
   },
   {
    "duration": 8,
    "start_time": "2021-12-12T14:41:53.885Z"
   },
   {
    "duration": 8,
    "start_time": "2021-12-12T14:41:53.895Z"
   },
   {
    "duration": 15,
    "start_time": "2021-12-12T14:41:53.904Z"
   },
   {
    "duration": 65,
    "start_time": "2021-12-12T14:41:53.920Z"
   },
   {
    "duration": 663,
    "start_time": "2021-12-12T14:41:53.987Z"
   },
   {
    "duration": 16,
    "start_time": "2021-12-12T14:41:54.652Z"
   },
   {
    "duration": 8,
    "start_time": "2021-12-12T14:41:54.670Z"
   },
   {
    "duration": 6,
    "start_time": "2021-12-12T14:41:54.679Z"
   },
   {
    "duration": 3573,
    "start_time": "2021-12-12T14:43:54.449Z"
   },
   {
    "duration": 3,
    "start_time": "2021-12-12T14:49:19.163Z"
   },
   {
    "duration": 53,
    "start_time": "2021-12-12T14:49:19.168Z"
   },
   {
    "duration": 21,
    "start_time": "2021-12-12T14:49:19.224Z"
   },
   {
    "duration": 25,
    "start_time": "2021-12-12T14:49:19.247Z"
   },
   {
    "duration": 8,
    "start_time": "2021-12-12T14:49:19.274Z"
   },
   {
    "duration": 11,
    "start_time": "2021-12-12T14:49:19.284Z"
   },
   {
    "duration": 31,
    "start_time": "2021-12-12T14:49:19.296Z"
   },
   {
    "duration": 37,
    "start_time": "2021-12-12T14:49:19.330Z"
   },
   {
    "duration": 9,
    "start_time": "2021-12-12T14:49:19.370Z"
   },
   {
    "duration": 9,
    "start_time": "2021-12-12T14:49:19.381Z"
   },
   {
    "duration": 231,
    "start_time": "2021-12-12T14:49:19.392Z"
   },
   {
    "duration": 23,
    "start_time": "2021-12-12T14:49:19.625Z"
   },
   {
    "duration": 32,
    "start_time": "2021-12-12T14:49:19.649Z"
   },
   {
    "duration": 28,
    "start_time": "2021-12-12T14:49:19.683Z"
   },
   {
    "duration": 57,
    "start_time": "2021-12-12T14:49:19.712Z"
   },
   {
    "duration": 23,
    "start_time": "2021-12-12T14:49:19.771Z"
   },
   {
    "duration": 4,
    "start_time": "2021-12-12T14:49:19.795Z"
   },
   {
    "duration": 29,
    "start_time": "2021-12-12T14:49:19.801Z"
   },
   {
    "duration": 60,
    "start_time": "2021-12-12T14:49:19.832Z"
   },
   {
    "duration": 22,
    "start_time": "2021-12-12T14:49:19.894Z"
   },
   {
    "duration": 626,
    "start_time": "2021-12-12T14:49:19.917Z"
   },
   {
    "duration": 8,
    "start_time": "2021-12-12T14:49:20.545Z"
   },
   {
    "duration": 8,
    "start_time": "2021-12-12T14:49:20.566Z"
   },
   {
    "duration": 311,
    "start_time": "2021-12-12T14:49:20.577Z"
   },
   {
    "duration": 5,
    "start_time": "2021-12-12T14:49:20.890Z"
   },
   {
    "duration": 8,
    "start_time": "2021-12-12T14:49:20.896Z"
   },
   {
    "duration": 19,
    "start_time": "2021-12-12T14:49:20.906Z"
   },
   {
    "duration": 35,
    "start_time": "2021-12-12T14:49:20.928Z"
   },
   {
    "duration": 169,
    "start_time": "2021-12-12T14:49:20.966Z"
   },
   {
    "duration": 37,
    "start_time": "2021-12-12T14:49:21.137Z"
   },
   {
    "duration": 4,
    "start_time": "2021-12-12T14:49:21.175Z"
   },
   {
    "duration": 16,
    "start_time": "2021-12-12T14:49:21.181Z"
   },
   {
    "duration": 23,
    "start_time": "2021-12-12T14:49:21.198Z"
   },
   {
    "duration": 9,
    "start_time": "2021-12-12T14:49:21.222Z"
   },
   {
    "duration": 10,
    "start_time": "2021-12-12T14:49:21.263Z"
   },
   {
    "duration": 15,
    "start_time": "2021-12-12T14:49:21.275Z"
   },
   {
    "duration": 11,
    "start_time": "2021-12-12T14:49:21.291Z"
   },
   {
    "duration": 20,
    "start_time": "2021-12-12T14:49:21.303Z"
   },
   {
    "duration": 5,
    "start_time": "2021-12-12T14:49:21.324Z"
   },
   {
    "duration": 185,
    "start_time": "2021-12-12T14:49:21.331Z"
   },
   {
    "duration": 8,
    "start_time": "2021-12-12T14:49:21.517Z"
   },
   {
    "duration": 197,
    "start_time": "2021-12-12T14:49:21.527Z"
   },
   {
    "duration": 12,
    "start_time": "2021-12-12T14:49:21.726Z"
   },
   {
    "duration": 24,
    "start_time": "2021-12-12T14:49:21.740Z"
   },
   {
    "duration": 22,
    "start_time": "2021-12-12T14:49:21.767Z"
   },
   {
    "duration": 19,
    "start_time": "2021-12-12T14:49:21.791Z"
   },
   {
    "duration": 9,
    "start_time": "2021-12-12T14:49:21.811Z"
   },
   {
    "duration": 42,
    "start_time": "2021-12-12T14:49:21.821Z"
   },
   {
    "duration": 19,
    "start_time": "2021-12-12T14:49:21.865Z"
   },
   {
    "duration": 10,
    "start_time": "2021-12-12T14:49:21.886Z"
   },
   {
    "duration": 19,
    "start_time": "2021-12-12T14:49:21.897Z"
   },
   {
    "duration": 11,
    "start_time": "2021-12-12T14:49:21.918Z"
   },
   {
    "duration": 34,
    "start_time": "2021-12-12T14:49:21.930Z"
   },
   {
    "duration": 7,
    "start_time": "2021-12-12T14:49:21.966Z"
   },
   {
    "duration": 472,
    "start_time": "2021-12-12T14:49:21.975Z"
   },
   {
    "duration": 446,
    "start_time": "2021-12-12T14:49:22.449Z"
   },
   {
    "duration": 468,
    "start_time": "2021-12-12T14:49:22.897Z"
   },
   {
    "duration": 446,
    "start_time": "2021-12-12T14:49:23.366Z"
   },
   {
    "duration": 458,
    "start_time": "2021-12-12T14:49:23.814Z"
   },
   {
    "duration": 8,
    "start_time": "2021-12-12T14:49:24.274Z"
   },
   {
    "duration": 29,
    "start_time": "2021-12-12T14:49:24.283Z"
   },
   {
    "duration": 6,
    "start_time": "2021-12-12T14:49:24.314Z"
   },
   {
    "duration": 11,
    "start_time": "2021-12-12T14:49:24.321Z"
   },
   {
    "duration": 22,
    "start_time": "2021-12-12T14:49:24.363Z"
   },
   {
    "duration": 8,
    "start_time": "2021-12-12T14:49:24.387Z"
   },
   {
    "duration": 9,
    "start_time": "2021-12-12T14:49:24.396Z"
   },
   {
    "duration": 21,
    "start_time": "2021-12-12T14:49:24.407Z"
   },
   {
    "duration": 12,
    "start_time": "2021-12-12T14:49:24.463Z"
   },
   {
    "duration": 448,
    "start_time": "2021-12-12T14:49:24.477Z"
   },
   {
    "duration": 20,
    "start_time": "2021-12-12T14:49:24.927Z"
   },
   {
    "duration": 18,
    "start_time": "2021-12-12T14:49:24.948Z"
   },
   {
    "duration": 185,
    "start_time": "2021-12-12T14:49:24.968Z"
   },
   {
    "duration": 444,
    "start_time": "2021-12-12T14:49:25.155Z"
   },
   {
    "duration": 185,
    "start_time": "2021-12-12T14:49:25.601Z"
   },
   {
    "duration": 16,
    "start_time": "2021-12-12T14:49:25.788Z"
   },
   {
    "duration": 18,
    "start_time": "2021-12-12T14:49:25.805Z"
   },
   {
    "duration": 8,
    "start_time": "2021-12-12T14:49:25.825Z"
   },
   {
    "duration": 474,
    "start_time": "2021-12-12T14:49:25.835Z"
   },
   {
    "duration": 6,
    "start_time": "2021-12-12T14:49:26.311Z"
   },
   {
    "duration": 8,
    "start_time": "2021-12-12T14:49:26.318Z"
   },
   {
    "duration": 8,
    "start_time": "2021-12-12T14:49:26.327Z"
   },
   {
    "duration": 31,
    "start_time": "2021-12-12T14:49:26.337Z"
   },
   {
    "duration": 6,
    "start_time": "2021-12-12T14:49:26.370Z"
   },
   {
    "duration": 8,
    "start_time": "2021-12-12T14:49:26.378Z"
   },
   {
    "duration": 282,
    "start_time": "2021-12-12T14:49:26.387Z"
   },
   {
    "duration": 6,
    "start_time": "2021-12-12T14:49:26.671Z"
   },
   {
    "duration": 12,
    "start_time": "2021-12-12T14:49:26.678Z"
   },
   {
    "duration": 9,
    "start_time": "2021-12-12T14:49:26.691Z"
   },
   {
    "duration": 8,
    "start_time": "2021-12-12T14:49:26.701Z"
   },
   {
    "duration": 15,
    "start_time": "2021-12-12T14:49:26.711Z"
   },
   {
    "duration": 59,
    "start_time": "2021-12-12T14:49:26.728Z"
   },
   {
    "duration": 702,
    "start_time": "2021-12-12T14:49:26.789Z"
   },
   {
    "duration": 10,
    "start_time": "2021-12-12T14:49:27.493Z"
   },
   {
    "duration": 12,
    "start_time": "2021-12-12T14:49:27.504Z"
   },
   {
    "duration": 6,
    "start_time": "2021-12-12T14:49:27.517Z"
   },
   {
    "duration": 121131,
    "start_time": "2021-12-12T14:49:27.525Z"
   },
   {
    "duration": 3509,
    "start_time": "2021-12-12T14:51:28.658Z"
   },
   {
    "duration": 8,
    "start_time": "2021-12-12T14:51:32.169Z"
   },
   {
    "duration": 8,
    "start_time": "2021-12-12T14:51:32.178Z"
   },
   {
    "duration": 8,
    "start_time": "2021-12-12T14:51:32.187Z"
   },
   {
    "duration": 8,
    "start_time": "2021-12-12T14:51:32.196Z"
   },
   {
    "duration": 7,
    "start_time": "2021-12-12T14:51:32.206Z"
   },
   {
    "duration": 7,
    "start_time": "2021-12-12T14:51:32.214Z"
   },
   {
    "duration": 44,
    "start_time": "2021-12-12T14:51:32.222Z"
   },
   {
    "duration": 7,
    "start_time": "2021-12-12T14:51:32.268Z"
   },
   {
    "duration": 24,
    "start_time": "2021-12-12T14:51:32.276Z"
   },
   {
    "duration": 16,
    "start_time": "2021-12-12T14:51:32.302Z"
   },
   {
    "duration": 201,
    "start_time": "2021-12-12T14:51:32.320Z"
   },
   {
    "duration": 8,
    "start_time": "2021-12-12T14:51:32.522Z"
   },
   {
    "duration": 325,
    "start_time": "2021-12-12T14:51:32.531Z"
   },
   {
    "duration": 31,
    "start_time": "2021-12-12T14:51:32.858Z"
   },
   {
    "duration": 7,
    "start_time": "2021-12-12T14:51:32.891Z"
   },
   {
    "duration": 20,
    "start_time": "2021-12-12T14:51:32.899Z"
   },
   {
    "duration": 17,
    "start_time": "2021-12-12T14:51:32.921Z"
   },
   {
    "duration": 15,
    "start_time": "2021-12-12T14:51:32.939Z"
   },
   {
    "duration": 13,
    "start_time": "2021-12-12T14:51:32.955Z"
   },
   {
    "duration": 23,
    "start_time": "2021-12-12T14:51:32.970Z"
   },
   {
    "duration": 19,
    "start_time": "2021-12-12T14:51:32.995Z"
   },
   {
    "duration": 12,
    "start_time": "2021-12-12T14:51:33.015Z"
   },
   {
    "duration": 19,
    "start_time": "2021-12-12T14:51:33.029Z"
   },
   {
    "duration": 9,
    "start_time": "2021-12-12T14:51:33.050Z"
   },
   {
    "duration": 5847,
    "start_time": "2021-12-12T14:51:33.061Z"
   },
   {
    "duration": -387,
    "start_time": "2021-12-12T14:51:39.296Z"
   },
   {
    "duration": -395,
    "start_time": "2021-12-12T14:51:39.305Z"
   },
   {
    "duration": 19,
    "start_time": "2021-12-12T14:54:46.722Z"
   },
   {
    "duration": 18,
    "start_time": "2021-12-12T14:54:50.030Z"
   },
   {
    "duration": 3,
    "start_time": "2021-12-12T14:55:03.339Z"
   },
   {
    "duration": 19,
    "start_time": "2021-12-12T14:55:05.308Z"
   },
   {
    "duration": 12,
    "start_time": "2021-12-12T14:57:31.568Z"
   },
   {
    "duration": 8,
    "start_time": "2021-12-12T14:58:14.031Z"
   },
   {
    "duration": 11,
    "start_time": "2021-12-12T14:58:16.108Z"
   },
   {
    "duration": 9,
    "start_time": "2021-12-12T14:59:19.680Z"
   },
   {
    "duration": 10,
    "start_time": "2021-12-12T14:59:21.204Z"
   },
   {
    "duration": 12,
    "start_time": "2021-12-12T14:59:24.448Z"
   },
   {
    "duration": 18,
    "start_time": "2021-12-12T14:59:35.123Z"
   },
   {
    "duration": 32,
    "start_time": "2021-12-12T14:59:47.547Z"
   },
   {
    "duration": 666,
    "start_time": "2021-12-12T14:59:51.200Z"
   },
   {
    "duration": 24,
    "start_time": "2021-12-12T15:02:33.361Z"
   },
   {
    "duration": 15,
    "start_time": "2021-12-12T15:02:46.488Z"
   },
   {
    "duration": 187,
    "start_time": "2021-12-12T15:02:55.020Z"
   },
   {
    "duration": 9,
    "start_time": "2021-12-12T15:04:02.435Z"
   },
   {
    "duration": 6,
    "start_time": "2021-12-12T15:04:09.868Z"
   },
   {
    "duration": 79,
    "start_time": "2021-12-12T15:08:27.927Z"
   },
   {
    "duration": 237,
    "start_time": "2021-12-12T15:09:31.428Z"
   },
   {
    "duration": 7,
    "start_time": "2021-12-12T15:09:40.767Z"
   },
   {
    "duration": 7,
    "start_time": "2021-12-12T15:09:46.955Z"
   },
   {
    "duration": 275,
    "start_time": "2021-12-12T15:10:27.165Z"
   },
   {
    "duration": 248,
    "start_time": "2021-12-12T15:11:14.267Z"
   },
   {
    "duration": 343,
    "start_time": "2021-12-12T15:11:41.155Z"
   },
   {
    "duration": 235,
    "start_time": "2021-12-12T15:11:54.482Z"
   },
   {
    "duration": 12,
    "start_time": "2021-12-12T15:12:53.919Z"
   },
   {
    "duration": 6,
    "start_time": "2021-12-12T15:13:29.392Z"
   },
   {
    "duration": 9,
    "start_time": "2021-12-12T15:15:38.919Z"
   },
   {
    "duration": 9,
    "start_time": "2021-12-12T15:15:55.649Z"
   },
   {
    "duration": 9,
    "start_time": "2021-12-12T15:16:48.562Z"
   },
   {
    "duration": 7,
    "start_time": "2021-12-12T15:16:51.841Z"
   },
   {
    "duration": 29,
    "start_time": "2021-12-12T15:21:03.622Z"
   },
   {
    "duration": 107,
    "start_time": "2021-12-12T15:31:38.179Z"
   },
   {
    "duration": 3,
    "start_time": "2021-12-12T15:32:42.227Z"
   },
   {
    "duration": 64,
    "start_time": "2021-12-12T15:32:42.232Z"
   },
   {
    "duration": 20,
    "start_time": "2021-12-12T15:32:42.298Z"
   },
   {
    "duration": 19,
    "start_time": "2021-12-12T15:32:42.319Z"
   },
   {
    "duration": 27,
    "start_time": "2021-12-12T15:32:42.340Z"
   },
   {
    "duration": 10,
    "start_time": "2021-12-12T15:32:42.369Z"
   },
   {
    "duration": 28,
    "start_time": "2021-12-12T15:32:42.382Z"
   },
   {
    "duration": 6,
    "start_time": "2021-12-12T15:32:42.413Z"
   },
   {
    "duration": 9,
    "start_time": "2021-12-12T15:32:42.420Z"
   },
   {
    "duration": 40,
    "start_time": "2021-12-12T15:32:42.430Z"
   },
   {
    "duration": 218,
    "start_time": "2021-12-12T15:32:42.472Z"
   },
   {
    "duration": 25,
    "start_time": "2021-12-12T15:32:42.692Z"
   },
   {
    "duration": 23,
    "start_time": "2021-12-12T15:32:42.718Z"
   },
   {
    "duration": 29,
    "start_time": "2021-12-12T15:32:42.764Z"
   },
   {
    "duration": 24,
    "start_time": "2021-12-12T15:32:42.795Z"
   },
   {
    "duration": 58,
    "start_time": "2021-12-12T15:32:42.821Z"
   },
   {
    "duration": 3,
    "start_time": "2021-12-12T15:32:42.881Z"
   },
   {
    "duration": 30,
    "start_time": "2021-12-12T15:32:42.886Z"
   },
   {
    "duration": 61,
    "start_time": "2021-12-12T15:32:42.919Z"
   },
   {
    "duration": 22,
    "start_time": "2021-12-12T15:32:42.983Z"
   },
   {
    "duration": 657,
    "start_time": "2021-12-12T15:32:43.007Z"
   },
   {
    "duration": 8,
    "start_time": "2021-12-12T15:32:43.666Z"
   },
   {
    "duration": 7,
    "start_time": "2021-12-12T15:32:43.676Z"
   },
   {
    "duration": 196,
    "start_time": "2021-12-12T15:32:43.685Z"
   },
   {
    "duration": 5,
    "start_time": "2021-12-12T15:32:43.882Z"
   },
   {
    "duration": 6,
    "start_time": "2021-12-12T15:32:43.889Z"
   },
   {
    "duration": 20,
    "start_time": "2021-12-12T15:32:43.897Z"
   },
   {
    "duration": 6,
    "start_time": "2021-12-12T15:32:43.918Z"
   },
   {
    "duration": 175,
    "start_time": "2021-12-12T15:32:43.926Z"
   },
   {
    "duration": 25,
    "start_time": "2021-12-12T15:32:44.103Z"
   },
   {
    "duration": 4,
    "start_time": "2021-12-12T15:32:44.130Z"
   },
   {
    "duration": 37,
    "start_time": "2021-12-12T15:32:44.135Z"
   },
   {
    "duration": 25,
    "start_time": "2021-12-12T15:32:44.174Z"
   },
   {
    "duration": 10,
    "start_time": "2021-12-12T15:32:44.201Z"
   },
   {
    "duration": 8,
    "start_time": "2021-12-12T15:32:44.213Z"
   },
   {
    "duration": 43,
    "start_time": "2021-12-12T15:32:44.222Z"
   },
   {
    "duration": 16,
    "start_time": "2021-12-12T15:32:44.267Z"
   },
   {
    "duration": 31,
    "start_time": "2021-12-12T15:32:44.285Z"
   },
   {
    "duration": 6,
    "start_time": "2021-12-12T15:32:44.319Z"
   },
   {
    "duration": 219,
    "start_time": "2021-12-12T15:32:44.327Z"
   },
   {
    "duration": 16,
    "start_time": "2021-12-12T15:32:44.548Z"
   },
   {
    "duration": 194,
    "start_time": "2021-12-12T15:32:44.566Z"
   },
   {
    "duration": 10,
    "start_time": "2021-12-12T15:32:44.763Z"
   },
   {
    "duration": 13,
    "start_time": "2021-12-12T15:32:44.774Z"
   },
   {
    "duration": 17,
    "start_time": "2021-12-12T15:32:44.788Z"
   },
   {
    "duration": 19,
    "start_time": "2021-12-12T15:32:44.807Z"
   },
   {
    "duration": 7,
    "start_time": "2021-12-12T15:32:44.827Z"
   },
   {
    "duration": 32,
    "start_time": "2021-12-12T15:32:44.836Z"
   },
   {
    "duration": 21,
    "start_time": "2021-12-12T15:32:44.869Z"
   },
   {
    "duration": 10,
    "start_time": "2021-12-12T15:32:44.891Z"
   },
   {
    "duration": 18,
    "start_time": "2021-12-12T15:32:44.902Z"
   },
   {
    "duration": 6,
    "start_time": "2021-12-12T15:32:44.922Z"
   },
   {
    "duration": 3,
    "start_time": "2021-12-12T15:32:44.930Z"
   },
   {
    "duration": 8,
    "start_time": "2021-12-12T15:32:44.964Z"
   },
   {
    "duration": 458,
    "start_time": "2021-12-12T15:32:44.978Z"
   },
   {
    "duration": 470,
    "start_time": "2021-12-12T15:32:45.439Z"
   },
   {
    "duration": 493,
    "start_time": "2021-12-12T15:32:45.911Z"
   },
   {
    "duration": 499,
    "start_time": "2021-12-12T15:32:46.406Z"
   },
   {
    "duration": 478,
    "start_time": "2021-12-12T15:32:46.907Z"
   },
   {
    "duration": 8,
    "start_time": "2021-12-12T15:32:47.387Z"
   },
   {
    "duration": 27,
    "start_time": "2021-12-12T15:32:47.397Z"
   },
   {
    "duration": 4,
    "start_time": "2021-12-12T15:32:47.426Z"
   },
   {
    "duration": 36,
    "start_time": "2021-12-12T15:32:47.431Z"
   },
   {
    "duration": 22,
    "start_time": "2021-12-12T15:32:47.469Z"
   },
   {
    "duration": 7,
    "start_time": "2021-12-12T15:32:47.493Z"
   },
   {
    "duration": 9,
    "start_time": "2021-12-12T15:32:47.502Z"
   },
   {
    "duration": 21,
    "start_time": "2021-12-12T15:32:47.513Z"
   },
   {
    "duration": 10,
    "start_time": "2021-12-12T15:32:47.564Z"
   },
   {
    "duration": 440,
    "start_time": "2021-12-12T15:32:47.576Z"
   },
   {
    "duration": 19,
    "start_time": "2021-12-12T15:32:48.017Z"
   },
   {
    "duration": 5,
    "start_time": "2021-12-12T15:32:48.038Z"
   },
   {
    "duration": 188,
    "start_time": "2021-12-12T15:32:48.044Z"
   },
   {
    "duration": 460,
    "start_time": "2021-12-12T15:32:48.233Z"
   },
   {
    "duration": 179,
    "start_time": "2021-12-12T15:32:48.695Z"
   },
   {
    "duration": 17,
    "start_time": "2021-12-12T15:32:48.877Z"
   },
   {
    "duration": 19,
    "start_time": "2021-12-12T15:32:48.896Z"
   },
   {
    "duration": 7,
    "start_time": "2021-12-12T15:32:48.917Z"
   },
   {
    "duration": 465,
    "start_time": "2021-12-12T15:32:48.926Z"
   },
   {
    "duration": 6,
    "start_time": "2021-12-12T15:32:49.392Z"
   },
   {
    "duration": 8,
    "start_time": "2021-12-12T15:32:49.399Z"
   },
   {
    "duration": 6,
    "start_time": "2021-12-12T15:32:49.408Z"
   },
   {
    "duration": 12,
    "start_time": "2021-12-12T15:32:49.415Z"
   },
   {
    "duration": 35,
    "start_time": "2021-12-12T15:32:49.429Z"
   },
   {
    "duration": 13,
    "start_time": "2021-12-12T15:32:49.466Z"
   },
   {
    "duration": 175,
    "start_time": "2021-12-12T15:32:49.481Z"
   },
   {
    "duration": 7,
    "start_time": "2021-12-12T15:32:49.658Z"
   },
   {
    "duration": 10,
    "start_time": "2021-12-12T15:32:49.667Z"
   },
   {
    "duration": 7,
    "start_time": "2021-12-12T15:32:49.679Z"
   },
   {
    "duration": 9,
    "start_time": "2021-12-12T15:32:49.687Z"
   },
   {
    "duration": 8,
    "start_time": "2021-12-12T15:32:49.698Z"
   },
   {
    "duration": 15,
    "start_time": "2021-12-12T15:32:49.708Z"
   },
   {
    "duration": 65,
    "start_time": "2021-12-12T15:32:49.725Z"
   },
   {
    "duration": 687,
    "start_time": "2021-12-12T15:32:49.792Z"
   },
   {
    "duration": 11,
    "start_time": "2021-12-12T15:32:50.482Z"
   },
   {
    "duration": 5,
    "start_time": "2021-12-12T15:32:50.495Z"
   },
   {
    "duration": 5,
    "start_time": "2021-12-12T15:32:50.502Z"
   },
   {
    "duration": 121321,
    "start_time": "2021-12-12T15:32:50.509Z"
   },
   {
    "duration": 3588,
    "start_time": "2021-12-12T15:34:51.832Z"
   },
   {
    "duration": 8,
    "start_time": "2021-12-12T15:34:55.422Z"
   },
   {
    "duration": 6,
    "start_time": "2021-12-12T15:34:55.432Z"
   },
   {
    "duration": 28,
    "start_time": "2021-12-12T15:34:55.440Z"
   },
   {
    "duration": 8,
    "start_time": "2021-12-12T15:34:55.470Z"
   },
   {
    "duration": 7,
    "start_time": "2021-12-12T15:34:55.480Z"
   },
   {
    "duration": 6,
    "start_time": "2021-12-12T15:34:55.488Z"
   },
   {
    "duration": 4,
    "start_time": "2021-12-12T15:34:55.496Z"
   },
   {
    "duration": 17,
    "start_time": "2021-12-12T15:34:55.502Z"
   },
   {
    "duration": 2,
    "start_time": "2021-12-12T15:34:55.521Z"
   },
   {
    "duration": 51,
    "start_time": "2021-12-12T15:34:55.524Z"
   },
   {
    "duration": 12,
    "start_time": "2021-12-12T15:34:55.577Z"
   },
   {
    "duration": 366,
    "start_time": "2021-12-12T15:34:55.591Z"
   },
   {
    "duration": 8,
    "start_time": "2021-12-12T15:34:55.963Z"
   },
   {
    "duration": 178,
    "start_time": "2021-12-12T15:34:55.972Z"
   },
   {
    "duration": 39,
    "start_time": "2021-12-12T15:34:56.152Z"
   },
   {
    "duration": 7,
    "start_time": "2021-12-12T15:34:56.193Z"
   },
   {
    "duration": 7,
    "start_time": "2021-12-12T15:34:56.201Z"
   },
   {
    "duration": 6,
    "start_time": "2021-12-12T15:34:56.210Z"
   },
   {
    "duration": 6,
    "start_time": "2021-12-12T15:34:56.217Z"
   },
   {
    "duration": 5,
    "start_time": "2021-12-12T15:34:56.225Z"
   },
   {
    "duration": 37,
    "start_time": "2021-12-12T15:34:56.232Z"
   },
   {
    "duration": 5,
    "start_time": "2021-12-12T15:34:56.271Z"
   },
   {
    "duration": 6,
    "start_time": "2021-12-12T15:34:56.277Z"
   },
   {
    "duration": 10,
    "start_time": "2021-12-12T15:34:56.284Z"
   },
   {
    "duration": 7,
    "start_time": "2021-12-12T15:34:56.295Z"
   },
   {
    "duration": 5904,
    "start_time": "2021-12-12T15:34:56.303Z"
   },
   {
    "duration": -425,
    "start_time": "2021-12-12T15:35:02.634Z"
   },
   {
    "duration": -432,
    "start_time": "2021-12-12T15:35:02.642Z"
   },
   {
    "duration": 8,
    "start_time": "2021-12-12T15:42:02.540Z"
   },
   {
    "duration": 13,
    "start_time": "2021-12-12T15:42:05.575Z"
   },
   {
    "duration": 2,
    "start_time": "2021-12-12T15:44:39.595Z"
   },
   {
    "duration": 70,
    "start_time": "2021-12-12T15:44:39.600Z"
   },
   {
    "duration": 33,
    "start_time": "2021-12-12T15:44:39.673Z"
   },
   {
    "duration": 16,
    "start_time": "2021-12-12T15:44:39.709Z"
   },
   {
    "duration": 13,
    "start_time": "2021-12-12T15:44:39.727Z"
   },
   {
    "duration": 16,
    "start_time": "2021-12-12T15:44:39.764Z"
   },
   {
    "duration": 46,
    "start_time": "2021-12-12T15:44:39.782Z"
   },
   {
    "duration": 32,
    "start_time": "2021-12-12T15:44:39.832Z"
   },
   {
    "duration": 11,
    "start_time": "2021-12-12T15:44:39.867Z"
   },
   {
    "duration": 10,
    "start_time": "2021-12-12T15:44:39.880Z"
   },
   {
    "duration": 333,
    "start_time": "2021-12-12T15:44:39.892Z"
   },
   {
    "duration": 44,
    "start_time": "2021-12-12T15:44:40.228Z"
   },
   {
    "duration": 38,
    "start_time": "2021-12-12T15:44:40.274Z"
   },
   {
    "duration": 59,
    "start_time": "2021-12-12T15:44:40.314Z"
   },
   {
    "duration": 37,
    "start_time": "2021-12-12T15:44:40.375Z"
   },
   {
    "duration": 57,
    "start_time": "2021-12-12T15:44:40.414Z"
   },
   {
    "duration": 4,
    "start_time": "2021-12-12T15:44:40.474Z"
   },
   {
    "duration": 46,
    "start_time": "2021-12-12T15:44:40.480Z"
   },
   {
    "duration": 67,
    "start_time": "2021-12-12T15:44:40.528Z"
   },
   {
    "duration": 35,
    "start_time": "2021-12-12T15:44:40.598Z"
   },
   {
    "duration": 792,
    "start_time": "2021-12-12T15:44:40.635Z"
   },
   {
    "duration": 9,
    "start_time": "2021-12-12T15:44:41.429Z"
   },
   {
    "duration": 21,
    "start_time": "2021-12-12T15:44:41.443Z"
   },
   {
    "duration": 284,
    "start_time": "2021-12-12T15:44:41.468Z"
   },
   {
    "duration": 10,
    "start_time": "2021-12-12T15:44:41.754Z"
   },
   {
    "duration": 5,
    "start_time": "2021-12-12T15:44:41.766Z"
   },
   {
    "duration": 15,
    "start_time": "2021-12-12T15:44:41.772Z"
   },
   {
    "duration": 6,
    "start_time": "2021-12-12T15:44:41.788Z"
   },
   {
    "duration": 182,
    "start_time": "2021-12-12T15:44:41.795Z"
   },
   {
    "duration": 25,
    "start_time": "2021-12-12T15:44:41.979Z"
   },
   {
    "duration": 4,
    "start_time": "2021-12-12T15:44:42.005Z"
   },
   {
    "duration": 13,
    "start_time": "2021-12-12T15:44:42.011Z"
   },
   {
    "duration": 55,
    "start_time": "2021-12-12T15:44:42.025Z"
   },
   {
    "duration": 9,
    "start_time": "2021-12-12T15:44:42.081Z"
   },
   {
    "duration": 8,
    "start_time": "2021-12-12T15:44:42.092Z"
   },
   {
    "duration": 11,
    "start_time": "2021-12-12T15:44:42.102Z"
   },
   {
    "duration": 10,
    "start_time": "2021-12-12T15:44:42.115Z"
   },
   {
    "duration": 48,
    "start_time": "2021-12-12T15:44:42.127Z"
   },
   {
    "duration": 7,
    "start_time": "2021-12-12T15:44:42.178Z"
   },
   {
    "duration": 171,
    "start_time": "2021-12-12T15:44:42.187Z"
   },
   {
    "duration": 8,
    "start_time": "2021-12-12T15:44:42.360Z"
   },
   {
    "duration": 199,
    "start_time": "2021-12-12T15:44:42.370Z"
   },
   {
    "duration": 11,
    "start_time": "2021-12-12T15:44:42.571Z"
   },
   {
    "duration": 14,
    "start_time": "2021-12-12T15:44:42.584Z"
   },
   {
    "duration": 18,
    "start_time": "2021-12-12T15:44:42.599Z"
   },
   {
    "duration": 16,
    "start_time": "2021-12-12T15:44:42.619Z"
   },
   {
    "duration": 33,
    "start_time": "2021-12-12T15:44:42.636Z"
   },
   {
    "duration": 6,
    "start_time": "2021-12-12T15:44:42.671Z"
   },
   {
    "duration": 19,
    "start_time": "2021-12-12T15:44:42.679Z"
   },
   {
    "duration": 12,
    "start_time": "2021-12-12T15:44:42.700Z"
   },
   {
    "duration": 50,
    "start_time": "2021-12-12T15:44:42.714Z"
   },
   {
    "duration": 6,
    "start_time": "2021-12-12T15:44:42.766Z"
   },
   {
    "duration": 4,
    "start_time": "2021-12-12T15:44:42.774Z"
   },
   {
    "duration": 9,
    "start_time": "2021-12-12T15:44:42.779Z"
   },
   {
    "duration": 523,
    "start_time": "2021-12-12T15:44:42.790Z"
   },
   {
    "duration": 502,
    "start_time": "2021-12-12T15:44:43.315Z"
   },
   {
    "duration": 500,
    "start_time": "2021-12-12T15:44:43.818Z"
   },
   {
    "duration": 469,
    "start_time": "2021-12-12T15:44:44.320Z"
   },
   {
    "duration": 436,
    "start_time": "2021-12-12T15:44:44.791Z"
   },
   {
    "duration": 10,
    "start_time": "2021-12-12T15:44:45.229Z"
   },
   {
    "duration": 42,
    "start_time": "2021-12-12T15:44:45.241Z"
   },
   {
    "duration": 6,
    "start_time": "2021-12-12T15:44:45.285Z"
   },
   {
    "duration": 11,
    "start_time": "2021-12-12T15:44:45.293Z"
   },
   {
    "duration": 22,
    "start_time": "2021-12-12T15:44:45.306Z"
   },
   {
    "duration": 37,
    "start_time": "2021-12-12T15:44:45.331Z"
   },
   {
    "duration": 9,
    "start_time": "2021-12-12T15:44:45.370Z"
   },
   {
    "duration": 24,
    "start_time": "2021-12-12T15:44:45.381Z"
   },
   {
    "duration": 10,
    "start_time": "2021-12-12T15:44:45.410Z"
   },
   {
    "duration": 466,
    "start_time": "2021-12-12T15:44:45.423Z"
   },
   {
    "duration": 23,
    "start_time": "2021-12-12T15:44:45.891Z"
   },
   {
    "duration": 5,
    "start_time": "2021-12-12T15:44:45.916Z"
   },
   {
    "duration": 192,
    "start_time": "2021-12-12T15:44:45.923Z"
   },
   {
    "duration": 491,
    "start_time": "2021-12-12T15:44:46.116Z"
   },
   {
    "duration": 179,
    "start_time": "2021-12-12T15:44:46.609Z"
   },
   {
    "duration": 17,
    "start_time": "2021-12-12T15:44:46.789Z"
   },
   {
    "duration": 16,
    "start_time": "2021-12-12T15:44:46.807Z"
   },
   {
    "duration": 6,
    "start_time": "2021-12-12T15:44:46.824Z"
   },
   {
    "duration": 484,
    "start_time": "2021-12-12T15:44:46.832Z"
   },
   {
    "duration": 6,
    "start_time": "2021-12-12T15:44:47.318Z"
   },
   {
    "duration": 8,
    "start_time": "2021-12-12T15:44:47.326Z"
   },
   {
    "duration": 7,
    "start_time": "2021-12-12T15:44:47.336Z"
   },
   {
    "duration": 11,
    "start_time": "2021-12-12T15:44:47.363Z"
   },
   {
    "duration": 8,
    "start_time": "2021-12-12T15:44:47.376Z"
   },
   {
    "duration": 8,
    "start_time": "2021-12-12T15:44:47.386Z"
   },
   {
    "duration": 178,
    "start_time": "2021-12-12T15:44:47.395Z"
   },
   {
    "duration": 6,
    "start_time": "2021-12-12T15:44:47.575Z"
   },
   {
    "duration": 18,
    "start_time": "2021-12-12T15:44:47.583Z"
   },
   {
    "duration": 31,
    "start_time": "2021-12-12T15:44:47.603Z"
   },
   {
    "duration": 706,
    "start_time": "2021-12-12T15:44:47.636Z"
   },
   {
    "duration": 11,
    "start_time": "2021-12-12T15:44:48.344Z"
   },
   {
    "duration": 4,
    "start_time": "2021-12-12T15:44:48.363Z"
   },
   {
    "duration": 8,
    "start_time": "2021-12-12T15:44:48.369Z"
   },
   {
    "duration": 124072,
    "start_time": "2021-12-12T15:44:48.379Z"
   },
   {
    "duration": 3590,
    "start_time": "2021-12-12T15:46:52.452Z"
   },
   {
    "duration": 22,
    "start_time": "2021-12-12T15:46:56.043Z"
   },
   {
    "duration": 8,
    "start_time": "2021-12-12T15:46:56.067Z"
   },
   {
    "duration": 17,
    "start_time": "2021-12-12T15:46:56.077Z"
   },
   {
    "duration": 27,
    "start_time": "2021-12-12T15:46:56.095Z"
   },
   {
    "duration": 13,
    "start_time": "2021-12-12T15:46:56.124Z"
   },
   {
    "duration": 33,
    "start_time": "2021-12-12T15:46:56.139Z"
   },
   {
    "duration": 16,
    "start_time": "2021-12-12T15:46:56.174Z"
   },
   {
    "duration": 49,
    "start_time": "2021-12-12T15:46:56.192Z"
   },
   {
    "duration": 6,
    "start_time": "2021-12-12T15:46:56.243Z"
   },
   {
    "duration": 41,
    "start_time": "2021-12-12T15:46:56.251Z"
   },
   {
    "duration": 33,
    "start_time": "2021-12-12T15:46:56.294Z"
   },
   {
    "duration": 38,
    "start_time": "2021-12-12T15:46:56.329Z"
   },
   {
    "duration": 195,
    "start_time": "2021-12-12T15:46:56.368Z"
   },
   {
    "duration": 8,
    "start_time": "2021-12-12T15:46:56.565Z"
   },
   {
    "duration": 191,
    "start_time": "2021-12-12T15:46:56.574Z"
   },
   {
    "duration": 35,
    "start_time": "2021-12-12T15:46:56.766Z"
   },
   {
    "duration": 8,
    "start_time": "2021-12-12T15:46:56.802Z"
   },
   {
    "duration": 10,
    "start_time": "2021-12-12T15:46:56.811Z"
   },
   {
    "duration": 24,
    "start_time": "2021-12-12T15:46:56.823Z"
   },
   {
    "duration": 16,
    "start_time": "2021-12-12T15:46:56.849Z"
   },
   {
    "duration": 31,
    "start_time": "2021-12-12T15:46:56.867Z"
   },
   {
    "duration": 22,
    "start_time": "2021-12-12T15:46:56.900Z"
   },
   {
    "duration": 21,
    "start_time": "2021-12-12T15:46:56.924Z"
   },
   {
    "duration": 34,
    "start_time": "2021-12-12T15:46:56.946Z"
   },
   {
    "duration": 19,
    "start_time": "2021-12-12T15:46:56.982Z"
   },
   {
    "duration": 33,
    "start_time": "2021-12-12T15:46:57.003Z"
   },
   {
    "duration": 31,
    "start_time": "2021-12-12T15:46:57.038Z"
   },
   {
    "duration": 21,
    "start_time": "2021-12-12T15:46:57.071Z"
   },
   {
    "duration": 59,
    "start_time": "2021-12-12T15:46:57.094Z"
   },
   {
    "duration": 797,
    "start_time": "2021-12-13T07:31:58.447Z"
   },
   {
    "duration": 67,
    "start_time": "2021-12-13T07:31:59.781Z"
   },
   {
    "duration": 21,
    "start_time": "2021-12-13T07:32:25.508Z"
   },
   {
    "duration": 11,
    "start_time": "2021-12-13T07:39:07.431Z"
   },
   {
    "duration": 18,
    "start_time": "2021-12-13T07:39:09.241Z"
   },
   {
    "duration": 18,
    "start_time": "2021-12-13T07:39:29.129Z"
   },
   {
    "duration": 448,
    "start_time": "2021-12-13T07:39:39.091Z"
   },
   {
    "duration": 12,
    "start_time": "2021-12-13T07:39:44.348Z"
   },
   {
    "duration": 582,
    "start_time": "2021-12-13T10:13:16.583Z"
   },
   {
    "duration": 52,
    "start_time": "2021-12-13T10:13:17.167Z"
   },
   {
    "duration": 28,
    "start_time": "2021-12-13T10:13:17.222Z"
   },
   {
    "duration": 11,
    "start_time": "2021-12-13T10:13:17.252Z"
   },
   {
    "duration": 34,
    "start_time": "2021-12-13T10:13:17.264Z"
   },
   {
    "duration": 11,
    "start_time": "2021-12-13T10:13:17.300Z"
   },
   {
    "duration": 32,
    "start_time": "2021-12-13T10:13:17.312Z"
   },
   {
    "duration": 3,
    "start_time": "2021-12-13T10:13:17.347Z"
   },
   {
    "duration": 40,
    "start_time": "2021-12-13T10:13:17.352Z"
   },
   {
    "duration": 7,
    "start_time": "2021-12-13T10:13:17.394Z"
   },
   {
    "duration": 279,
    "start_time": "2021-12-13T10:13:17.403Z"
   },
   {
    "duration": 29,
    "start_time": "2021-12-13T10:13:17.683Z"
   },
   {
    "duration": 22,
    "start_time": "2021-12-13T10:13:17.714Z"
   },
   {
    "duration": 26,
    "start_time": "2021-12-13T10:13:17.737Z"
   },
   {
    "duration": 23,
    "start_time": "2021-12-13T10:13:17.792Z"
   },
   {
    "duration": 23,
    "start_time": "2021-12-13T10:13:17.816Z"
   },
   {
    "duration": 4,
    "start_time": "2021-12-13T10:13:17.840Z"
   },
   {
    "duration": 55,
    "start_time": "2021-12-13T10:13:17.845Z"
   },
   {
    "duration": 28,
    "start_time": "2021-12-13T10:13:17.902Z"
   },
   {
    "duration": 32,
    "start_time": "2021-12-13T10:13:17.931Z"
   },
   {
    "duration": 519,
    "start_time": "2021-12-13T10:13:17.965Z"
   },
   {
    "duration": 10,
    "start_time": "2021-12-13T10:13:18.490Z"
   },
   {
    "duration": 20,
    "start_time": "2021-12-13T10:13:18.504Z"
   },
   {
    "duration": 199,
    "start_time": "2021-12-13T10:13:18.528Z"
   },
   {
    "duration": 6,
    "start_time": "2021-12-13T10:13:18.729Z"
   },
   {
    "duration": 28,
    "start_time": "2021-12-13T10:13:18.737Z"
   },
   {
    "duration": 19,
    "start_time": "2021-12-13T10:13:18.767Z"
   },
   {
    "duration": 5,
    "start_time": "2021-12-13T10:13:18.788Z"
   },
   {
    "duration": 224,
    "start_time": "2021-12-13T10:13:18.794Z"
   },
   {
    "duration": 25,
    "start_time": "2021-12-13T10:13:19.020Z"
   },
   {
    "duration": 3,
    "start_time": "2021-12-13T10:13:19.047Z"
   },
   {
    "duration": 14,
    "start_time": "2021-12-13T10:13:19.052Z"
   },
   {
    "duration": 43,
    "start_time": "2021-12-13T10:13:19.068Z"
   },
   {
    "duration": 8,
    "start_time": "2021-12-13T10:13:19.113Z"
   },
   {
    "duration": 8,
    "start_time": "2021-12-13T10:13:19.122Z"
   },
   {
    "duration": 13,
    "start_time": "2021-12-13T10:13:19.131Z"
   },
   {
    "duration": 11,
    "start_time": "2021-12-13T10:13:19.146Z"
   },
   {
    "duration": 51,
    "start_time": "2021-12-13T10:13:19.159Z"
   },
   {
    "duration": 5,
    "start_time": "2021-12-13T10:13:19.212Z"
   },
   {
    "duration": 200,
    "start_time": "2021-12-13T10:13:19.219Z"
   },
   {
    "duration": 7,
    "start_time": "2021-12-13T10:13:19.421Z"
   },
   {
    "duration": 225,
    "start_time": "2021-12-13T10:13:19.430Z"
   },
   {
    "duration": 11,
    "start_time": "2021-12-13T10:13:19.657Z"
   },
   {
    "duration": 22,
    "start_time": "2021-12-13T10:13:19.670Z"
   },
   {
    "duration": 18,
    "start_time": "2021-12-13T10:13:19.694Z"
   },
   {
    "duration": 17,
    "start_time": "2021-12-13T10:13:19.714Z"
   },
   {
    "duration": 8,
    "start_time": "2021-12-13T10:13:19.732Z"
   },
   {
    "duration": 8,
    "start_time": "2021-12-13T10:13:19.742Z"
   },
   {
    "duration": 49,
    "start_time": "2021-12-13T10:13:19.752Z"
   },
   {
    "duration": 11,
    "start_time": "2021-12-13T10:13:19.803Z"
   },
   {
    "duration": 33,
    "start_time": "2021-12-13T10:13:19.816Z"
   },
   {
    "duration": 6,
    "start_time": "2021-12-13T10:13:19.851Z"
   },
   {
    "duration": 3,
    "start_time": "2021-12-13T10:13:19.858Z"
   },
   {
    "duration": 34,
    "start_time": "2021-12-13T10:13:19.863Z"
   },
   {
    "duration": 482,
    "start_time": "2021-12-13T10:13:19.898Z"
   },
   {
    "duration": 481,
    "start_time": "2021-12-13T10:13:20.381Z"
   },
   {
    "duration": 488,
    "start_time": "2021-12-13T10:13:20.864Z"
   },
   {
    "duration": 509,
    "start_time": "2021-12-13T10:13:21.354Z"
   },
   {
    "duration": 468,
    "start_time": "2021-12-13T10:13:21.865Z"
   },
   {
    "duration": 7,
    "start_time": "2021-12-13T10:13:22.335Z"
   },
   {
    "duration": 53,
    "start_time": "2021-12-13T10:13:22.344Z"
   },
   {
    "duration": 6,
    "start_time": "2021-12-13T10:13:22.399Z"
   },
   {
    "duration": 10,
    "start_time": "2021-12-13T10:13:22.407Z"
   },
   {
    "duration": 23,
    "start_time": "2021-12-13T10:13:22.418Z"
   },
   {
    "duration": 7,
    "start_time": "2021-12-13T10:13:22.442Z"
   },
   {
    "duration": 41,
    "start_time": "2021-12-13T10:13:22.451Z"
   },
   {
    "duration": 25,
    "start_time": "2021-12-13T10:13:22.494Z"
   },
   {
    "duration": 14,
    "start_time": "2021-12-13T10:13:22.528Z"
   },
   {
    "duration": 511,
    "start_time": "2021-12-13T10:13:22.545Z"
   },
   {
    "duration": 21,
    "start_time": "2021-12-13T10:13:23.058Z"
   },
   {
    "duration": 15,
    "start_time": "2021-12-13T10:13:23.081Z"
   },
   {
    "duration": 200,
    "start_time": "2021-12-13T10:13:23.097Z"
   },
   {
    "duration": 458,
    "start_time": "2021-12-13T10:13:23.299Z"
   },
   {
    "duration": 257,
    "start_time": "2021-12-13T10:13:23.759Z"
   },
   {
    "duration": 18,
    "start_time": "2021-12-13T10:13:24.017Z"
   },
   {
    "duration": 19,
    "start_time": "2021-12-13T10:13:24.037Z"
   },
   {
    "duration": 33,
    "start_time": "2021-12-13T10:13:24.058Z"
   },
   {
    "duration": 465,
    "start_time": "2021-12-13T10:13:24.093Z"
   },
   {
    "duration": 6,
    "start_time": "2021-12-13T10:13:24.561Z"
   },
   {
    "duration": 7,
    "start_time": "2021-12-13T10:13:24.568Z"
   },
   {
    "duration": 5,
    "start_time": "2021-12-13T10:13:24.591Z"
   },
   {
    "duration": 12,
    "start_time": "2021-12-13T10:13:24.598Z"
   },
   {
    "duration": 5,
    "start_time": "2021-12-13T10:13:24.613Z"
   },
   {
    "duration": 6,
    "start_time": "2021-12-13T10:13:24.620Z"
   },
   {
    "duration": 225,
    "start_time": "2021-12-13T10:13:24.628Z"
   },
   {
    "duration": 6,
    "start_time": "2021-12-13T10:13:24.855Z"
   },
   {
    "duration": 41,
    "start_time": "2021-12-13T10:13:24.863Z"
   },
   {
    "duration": 8,
    "start_time": "2021-12-13T10:13:24.907Z"
   },
   {
    "duration": 682,
    "start_time": "2021-12-13T10:13:24.918Z"
   },
   {
    "duration": 11,
    "start_time": "2021-12-13T10:13:25.601Z"
   },
   {
    "duration": 6,
    "start_time": "2021-12-13T10:13:25.614Z"
   },
   {
    "duration": 6,
    "start_time": "2021-12-13T10:13:25.622Z"
   },
   {
    "duration": 121681,
    "start_time": "2021-12-13T10:13:25.629Z"
   },
   {
    "duration": 4248,
    "start_time": "2021-12-13T10:15:27.312Z"
   },
   {
    "duration": 7,
    "start_time": "2021-12-13T10:15:31.562Z"
   },
   {
    "duration": 24,
    "start_time": "2021-12-13T10:15:31.571Z"
   },
   {
    "duration": 10,
    "start_time": "2021-12-13T10:15:31.597Z"
   },
   {
    "duration": 24,
    "start_time": "2021-12-13T10:15:31.609Z"
   },
   {
    "duration": 7,
    "start_time": "2021-12-13T10:15:31.635Z"
   },
   {
    "duration": 18,
    "start_time": "2021-12-13T10:15:31.644Z"
   },
   {
    "duration": 8,
    "start_time": "2021-12-13T10:15:31.664Z"
   },
   {
    "duration": 28,
    "start_time": "2021-12-13T10:15:31.674Z"
   },
   {
    "duration": 5,
    "start_time": "2021-12-13T10:15:31.704Z"
   },
   {
    "duration": 279,
    "start_time": "2021-12-13T10:15:31.711Z"
   },
   {
    "duration": -2957,
    "start_time": "2021-12-13T10:15:34.948Z"
   },
   {
    "duration": -2976,
    "start_time": "2021-12-13T10:15:34.968Z"
   },
   {
    "duration": -2993,
    "start_time": "2021-12-13T10:15:34.986Z"
   },
   {
    "duration": -3011,
    "start_time": "2021-12-13T10:15:35.005Z"
   },
   {
    "duration": -3115,
    "start_time": "2021-12-13T10:15:35.110Z"
   },
   {
    "duration": -3134,
    "start_time": "2021-12-13T10:15:35.130Z"
   },
   {
    "duration": -3150,
    "start_time": "2021-12-13T10:15:35.147Z"
   },
   {
    "duration": -3171,
    "start_time": "2021-12-13T10:15:35.169Z"
   },
   {
    "duration": -3189,
    "start_time": "2021-12-13T10:15:35.188Z"
   },
   {
    "duration": -3207,
    "start_time": "2021-12-13T10:15:35.208Z"
   },
   {
    "duration": -3247,
    "start_time": "2021-12-13T10:15:35.249Z"
   },
   {
    "duration": -3267,
    "start_time": "2021-12-13T10:15:35.269Z"
   },
   {
    "duration": -3282,
    "start_time": "2021-12-13T10:15:35.286Z"
   },
   {
    "duration": -3300,
    "start_time": "2021-12-13T10:15:35.305Z"
   },
   {
    "duration": -3315,
    "start_time": "2021-12-13T10:15:35.321Z"
   },
   {
    "duration": -3332,
    "start_time": "2021-12-13T10:15:35.339Z"
   },
   {
    "duration": -3369,
    "start_time": "2021-12-13T10:15:35.376Z"
   },
   {
    "duration": -3390,
    "start_time": "2021-12-13T10:15:35.398Z"
   },
   {
    "duration": -3405,
    "start_time": "2021-12-13T10:15:35.414Z"
   },
   {
    "duration": 3,
    "start_time": "2021-12-13T10:20:50.492Z"
   },
   {
    "duration": 17,
    "start_time": "2021-12-13T10:20:50.497Z"
   },
   {
    "duration": 13,
    "start_time": "2021-12-13T10:20:50.516Z"
   },
   {
    "duration": 219,
    "start_time": "2021-12-13T10:20:50.530Z"
   },
   {
    "duration": 7,
    "start_time": "2021-12-13T10:20:50.751Z"
   },
   {
    "duration": 208,
    "start_time": "2021-12-13T10:20:50.760Z"
   },
   {
    "duration": 40,
    "start_time": "2021-12-13T10:20:50.971Z"
   },
   {
    "duration": 7,
    "start_time": "2021-12-13T10:20:51.013Z"
   },
   {
    "duration": 7,
    "start_time": "2021-12-13T10:20:51.022Z"
   },
   {
    "duration": 9,
    "start_time": "2021-12-13T10:20:51.030Z"
   },
   {
    "duration": 8,
    "start_time": "2021-12-13T10:20:51.041Z"
   },
   {
    "duration": 7,
    "start_time": "2021-12-13T10:20:51.051Z"
   },
   {
    "duration": 33,
    "start_time": "2021-12-13T10:20:51.061Z"
   },
   {
    "duration": 8,
    "start_time": "2021-12-13T10:20:51.096Z"
   },
   {
    "duration": 7,
    "start_time": "2021-12-13T10:20:51.106Z"
   },
   {
    "duration": 7,
    "start_time": "2021-12-13T10:20:51.114Z"
   },
   {
    "duration": 7,
    "start_time": "2021-12-13T10:20:51.123Z"
   },
   {
    "duration": 7,
    "start_time": "2021-12-13T10:20:51.132Z"
   },
   {
    "duration": 7,
    "start_time": "2021-12-13T10:20:51.141Z"
   },
   {
    "duration": 65,
    "start_time": "2021-12-13T10:20:51.149Z"
   },
   {
    "duration": 60,
    "start_time": "2021-12-13T10:24:38.217Z"
   },
   {
    "duration": 59,
    "start_time": "2021-12-13T10:26:24.361Z"
   },
   {
    "duration": 9,
    "start_time": "2021-12-13T11:13:11.763Z"
   },
   {
    "duration": 27,
    "start_time": "2021-12-13T11:19:00.732Z"
   },
   {
    "duration": 23,
    "start_time": "2021-12-13T11:19:09.171Z"
   },
   {
    "duration": 8,
    "start_time": "2021-12-13T11:20:51.043Z"
   },
   {
    "duration": 4,
    "start_time": "2021-12-13T11:27:21.875Z"
   },
   {
    "duration": 195,
    "start_time": "2021-12-13T11:27:38.476Z"
   },
   {
    "duration": 212,
    "start_time": "2021-12-13T11:27:53.355Z"
   },
   {
    "duration": 4924,
    "start_time": "2021-12-13T11:28:17.391Z"
   },
   {
    "duration": 4637,
    "start_time": "2021-12-13T11:30:02.955Z"
   },
   {
    "duration": 284,
    "start_time": "2021-12-13T11:30:32.682Z"
   },
   {
    "duration": 5667,
    "start_time": "2021-12-13T11:32:31.803Z"
   },
   {
    "duration": 6395,
    "start_time": "2021-12-13T11:33:44.116Z"
   },
   {
    "duration": 3,
    "start_time": "2021-12-13T11:34:22.297Z"
   },
   {
    "duration": 22698,
    "start_time": "2021-12-13T11:35:00.828Z"
   },
   {
    "duration": 7,
    "start_time": "2021-12-13T11:35:45.249Z"
   },
   {
    "duration": 7,
    "start_time": "2021-12-13T11:37:11.328Z"
   },
   {
    "duration": 900,
    "start_time": "2021-12-13T11:38:01.444Z"
   },
   {
    "duration": 16,
    "start_time": "2021-12-13T11:38:27.889Z"
   },
   {
    "duration": 18,
    "start_time": "2021-12-13T11:40:30.828Z"
   },
   {
    "duration": 6,
    "start_time": "2021-12-13T11:45:36.508Z"
   },
   {
    "duration": 216,
    "start_time": "2021-12-13T11:45:48.863Z"
   },
   {
    "duration": 7,
    "start_time": "2021-12-13T11:45:57.087Z"
   },
   {
    "duration": 6,
    "start_time": "2021-12-13T11:46:25.687Z"
   },
   {
    "duration": 6,
    "start_time": "2021-12-13T11:47:03.108Z"
   },
   {
    "duration": 60,
    "start_time": "2021-12-13T11:48:36.849Z"
   },
   {
    "duration": 19,
    "start_time": "2021-12-13T11:48:47.768Z"
   },
   {
    "duration": 25,
    "start_time": "2021-12-13T11:49:23.108Z"
   },
   {
    "duration": 23,
    "start_time": "2021-12-13T11:50:49.308Z"
   },
   {
    "duration": 81,
    "start_time": "2021-12-13T12:02:50.252Z"
   },
   {
    "duration": 73,
    "start_time": "2021-12-13T12:04:07.919Z"
   },
   {
    "duration": 70,
    "start_time": "2021-12-13T12:05:38.291Z"
   },
   {
    "duration": 66,
    "start_time": "2021-12-13T12:14:16.399Z"
   },
   {
    "duration": 66,
    "start_time": "2021-12-13T12:15:06.250Z"
   },
   {
    "duration": 62,
    "start_time": "2021-12-13T12:15:57.591Z"
   },
   {
    "duration": 61,
    "start_time": "2021-12-13T12:17:42.251Z"
   },
   {
    "duration": 337,
    "start_time": "2021-12-13T12:25:15.027Z"
   },
   {
    "duration": 224,
    "start_time": "2021-12-13T12:25:45.601Z"
   },
   {
    "duration": 188,
    "start_time": "2021-12-13T12:25:57.771Z"
   },
   {
    "duration": 191,
    "start_time": "2021-12-13T12:26:30.388Z"
   },
   {
    "duration": 6,
    "start_time": "2021-12-13T12:27:03.132Z"
   },
   {
    "duration": 9,
    "start_time": "2021-12-13T12:27:12.921Z"
   },
   {
    "duration": 7,
    "start_time": "2021-12-13T12:27:29.206Z"
   },
   {
    "duration": 7,
    "start_time": "2021-12-13T12:28:29.828Z"
   },
   {
    "duration": 7,
    "start_time": "2021-12-13T12:29:13.645Z"
   },
   {
    "duration": 185,
    "start_time": "2021-12-13T12:30:55.510Z"
   },
   {
    "duration": 180,
    "start_time": "2021-12-13T12:31:12.023Z"
   },
   {
    "duration": 8,
    "start_time": "2021-12-13T12:32:05.422Z"
   },
   {
    "duration": 10,
    "start_time": "2021-12-13T12:32:18.920Z"
   },
   {
    "duration": 9,
    "start_time": "2021-12-13T12:33:13.038Z"
   },
   {
    "duration": 9,
    "start_time": "2021-12-13T12:33:31.502Z"
   },
   {
    "duration": 9,
    "start_time": "2021-12-13T12:35:55.443Z"
   },
   {
    "duration": 11,
    "start_time": "2021-12-13T12:36:21.230Z"
   },
   {
    "duration": 9,
    "start_time": "2021-12-13T12:40:21.901Z"
   },
   {
    "duration": 8,
    "start_time": "2021-12-13T12:40:30.813Z"
   },
   {
    "duration": 177,
    "start_time": "2021-12-13T12:42:04.150Z"
   },
   {
    "duration": 11,
    "start_time": "2021-12-13T12:42:17.270Z"
   },
   {
    "duration": 61,
    "start_time": "2021-12-13T12:45:03.300Z"
   },
   {
    "duration": 93,
    "start_time": "2021-12-13T12:45:30.062Z"
   },
   {
    "duration": 66,
    "start_time": "2021-12-13T12:46:19.829Z"
   },
   {
    "duration": 67,
    "start_time": "2021-12-13T12:46:43.670Z"
   },
   {
    "duration": 67,
    "start_time": "2021-12-13T12:48:52.117Z"
   },
   {
    "duration": 23,
    "start_time": "2021-12-13T12:53:27.626Z"
   },
   {
    "duration": 386,
    "start_time": "2021-12-13T12:55:40.069Z"
   },
   {
    "duration": 24,
    "start_time": "2021-12-13T12:57:14.266Z"
   },
   {
    "duration": 61,
    "start_time": "2021-12-13T13:00:11.875Z"
   },
   {
    "duration": 64,
    "start_time": "2021-12-13T13:00:35.481Z"
   },
   {
    "duration": 18,
    "start_time": "2021-12-13T13:00:52.715Z"
   },
   {
    "duration": 19,
    "start_time": "2021-12-13T13:04:41.823Z"
   },
   {
    "duration": 2,
    "start_time": "2021-12-13T13:05:47.553Z"
   },
   {
    "duration": 55,
    "start_time": "2021-12-13T13:05:47.560Z"
   },
   {
    "duration": 19,
    "start_time": "2021-12-13T13:05:47.617Z"
   },
   {
    "duration": 9,
    "start_time": "2021-12-13T13:05:47.639Z"
   },
   {
    "duration": 11,
    "start_time": "2021-12-13T13:05:47.650Z"
   },
   {
    "duration": 35,
    "start_time": "2021-12-13T13:05:47.663Z"
   },
   {
    "duration": 30,
    "start_time": "2021-12-13T13:05:47.701Z"
   },
   {
    "duration": 4,
    "start_time": "2021-12-13T13:05:47.733Z"
   },
   {
    "duration": 7,
    "start_time": "2021-12-13T13:05:47.741Z"
   },
   {
    "duration": 8,
    "start_time": "2021-12-13T13:05:47.752Z"
   },
   {
    "duration": 247,
    "start_time": "2021-12-13T13:05:47.762Z"
   },
   {
    "duration": 23,
    "start_time": "2021-12-13T13:05:48.012Z"
   },
   {
    "duration": 22,
    "start_time": "2021-12-13T13:05:48.037Z"
   },
   {
    "duration": 52,
    "start_time": "2021-12-13T13:05:48.061Z"
   },
   {
    "duration": 26,
    "start_time": "2021-12-13T13:05:48.114Z"
   },
   {
    "duration": 51,
    "start_time": "2021-12-13T13:05:48.142Z"
   },
   {
    "duration": 3,
    "start_time": "2021-12-13T13:05:48.195Z"
   },
   {
    "duration": 33,
    "start_time": "2021-12-13T13:05:48.201Z"
   },
   {
    "duration": 57,
    "start_time": "2021-12-13T13:05:48.236Z"
   },
   {
    "duration": 24,
    "start_time": "2021-12-13T13:05:48.295Z"
   },
   {
    "duration": 594,
    "start_time": "2021-12-13T13:05:48.321Z"
   },
   {
    "duration": 9,
    "start_time": "2021-12-13T13:05:48.917Z"
   },
   {
    "duration": 24,
    "start_time": "2021-12-13T13:05:48.928Z"
   },
   {
    "duration": 209,
    "start_time": "2021-12-13T13:05:48.954Z"
   },
   {
    "duration": 6,
    "start_time": "2021-12-13T13:05:49.165Z"
   },
   {
    "duration": 5,
    "start_time": "2021-12-13T13:05:49.192Z"
   },
   {
    "duration": 15,
    "start_time": "2021-12-13T13:05:49.199Z"
   },
   {
    "duration": 8,
    "start_time": "2021-12-13T13:05:49.216Z"
   },
   {
    "duration": 206,
    "start_time": "2021-12-13T13:05:49.225Z"
   },
   {
    "duration": 26,
    "start_time": "2021-12-13T13:05:49.432Z"
   },
   {
    "duration": 5,
    "start_time": "2021-12-13T13:05:49.459Z"
   },
   {
    "duration": 34,
    "start_time": "2021-12-13T13:05:49.465Z"
   },
   {
    "duration": 23,
    "start_time": "2021-12-13T13:05:49.501Z"
   },
   {
    "duration": 10,
    "start_time": "2021-12-13T13:05:49.526Z"
   },
   {
    "duration": 8,
    "start_time": "2021-12-13T13:05:49.538Z"
   },
   {
    "duration": 48,
    "start_time": "2021-12-13T13:05:49.550Z"
   },
   {
    "duration": 10,
    "start_time": "2021-12-13T13:05:49.601Z"
   },
   {
    "duration": 19,
    "start_time": "2021-12-13T13:05:49.613Z"
   },
   {
    "duration": 5,
    "start_time": "2021-12-13T13:05:49.634Z"
   },
   {
    "duration": 205,
    "start_time": "2021-12-13T13:05:49.641Z"
   },
   {
    "duration": 7,
    "start_time": "2021-12-13T13:05:49.848Z"
   },
   {
    "duration": 305,
    "start_time": "2021-12-13T13:05:49.857Z"
   },
   {
    "duration": 9,
    "start_time": "2021-12-13T13:05:50.164Z"
   },
   {
    "duration": 26,
    "start_time": "2021-12-13T13:05:50.175Z"
   },
   {
    "duration": 17,
    "start_time": "2021-12-13T13:05:50.203Z"
   },
   {
    "duration": 16,
    "start_time": "2021-12-13T13:05:50.222Z"
   },
   {
    "duration": 7,
    "start_time": "2021-12-13T13:05:50.240Z"
   },
   {
    "duration": 45,
    "start_time": "2021-12-13T13:05:50.249Z"
   },
   {
    "duration": 17,
    "start_time": "2021-12-13T13:05:50.296Z"
   },
   {
    "duration": 10,
    "start_time": "2021-12-13T13:05:50.315Z"
   },
   {
    "duration": 16,
    "start_time": "2021-12-13T13:05:50.327Z"
   },
   {
    "duration": 5,
    "start_time": "2021-12-13T13:05:50.345Z"
   },
   {
    "duration": 3,
    "start_time": "2021-12-13T13:05:50.392Z"
   },
   {
    "duration": 10,
    "start_time": "2021-12-13T13:05:50.397Z"
   },
   {
    "duration": 453,
    "start_time": "2021-12-13T13:05:50.408Z"
   },
   {
    "duration": 497,
    "start_time": "2021-12-13T13:05:50.863Z"
   },
   {
    "duration": 496,
    "start_time": "2021-12-13T13:05:51.362Z"
   },
   {
    "duration": 479,
    "start_time": "2021-12-13T13:05:51.860Z"
   },
   {
    "duration": 482,
    "start_time": "2021-12-13T13:05:52.341Z"
   },
   {
    "duration": 8,
    "start_time": "2021-12-13T13:05:52.825Z"
   },
   {
    "duration": 32,
    "start_time": "2021-12-13T13:05:52.835Z"
   },
   {
    "duration": 4,
    "start_time": "2021-12-13T13:05:52.868Z"
   },
   {
    "duration": 26,
    "start_time": "2021-12-13T13:05:52.873Z"
   },
   {
    "duration": 19,
    "start_time": "2021-12-13T13:05:52.900Z"
   },
   {
    "duration": 6,
    "start_time": "2021-12-13T13:05:52.921Z"
   },
   {
    "duration": 10,
    "start_time": "2021-12-13T13:05:52.928Z"
   },
   {
    "duration": 53,
    "start_time": "2021-12-13T13:05:52.940Z"
   },
   {
    "duration": 9,
    "start_time": "2021-12-13T13:05:52.994Z"
   },
   {
    "duration": 478,
    "start_time": "2021-12-13T13:05:53.005Z"
   },
   {
    "duration": 19,
    "start_time": "2021-12-13T13:05:53.485Z"
   },
   {
    "duration": 9,
    "start_time": "2021-12-13T13:05:53.505Z"
   },
   {
    "duration": 201,
    "start_time": "2021-12-13T13:05:53.516Z"
   },
   {
    "duration": 519,
    "start_time": "2021-12-13T13:05:53.719Z"
   },
   {
    "duration": 184,
    "start_time": "2021-12-13T13:05:54.240Z"
   },
   {
    "duration": 18,
    "start_time": "2021-12-13T13:05:54.426Z"
   },
   {
    "duration": 16,
    "start_time": "2021-12-13T13:05:54.445Z"
   },
   {
    "duration": 6,
    "start_time": "2021-12-13T13:05:54.463Z"
   },
   {
    "duration": 443,
    "start_time": "2021-12-13T13:05:54.492Z"
   },
   {
    "duration": 6,
    "start_time": "2021-12-13T13:05:54.936Z"
   },
   {
    "duration": 9,
    "start_time": "2021-12-13T13:05:54.943Z"
   },
   {
    "duration": 4,
    "start_time": "2021-12-13T13:05:54.954Z"
   },
   {
    "duration": 33,
    "start_time": "2021-12-13T13:05:54.959Z"
   },
   {
    "duration": 4,
    "start_time": "2021-12-13T13:05:54.994Z"
   },
   {
    "duration": 6,
    "start_time": "2021-12-13T13:05:55.000Z"
   },
   {
    "duration": 211,
    "start_time": "2021-12-13T13:05:55.008Z"
   },
   {
    "duration": 6,
    "start_time": "2021-12-13T13:05:55.220Z"
   },
   {
    "duration": 28,
    "start_time": "2021-12-13T13:05:55.228Z"
   },
   {
    "duration": 24,
    "start_time": "2021-12-13T13:05:55.258Z"
   },
   {
    "duration": 646,
    "start_time": "2021-12-13T13:05:55.291Z"
   },
   {
    "duration": 10,
    "start_time": "2021-12-13T13:05:55.945Z"
   },
   {
    "duration": 14,
    "start_time": "2021-12-13T13:05:55.957Z"
   },
   {
    "duration": 19,
    "start_time": "2021-12-13T13:05:55.973Z"
   },
   {
    "duration": 119954,
    "start_time": "2021-12-13T13:05:55.993Z"
   },
   {
    "duration": 3854,
    "start_time": "2021-12-13T13:07:55.948Z"
   },
   {
    "duration": 10,
    "start_time": "2021-12-13T13:07:59.804Z"
   },
   {
    "duration": 9,
    "start_time": "2021-12-13T13:07:59.817Z"
   },
   {
    "duration": 8,
    "start_time": "2021-12-13T13:07:59.828Z"
   },
   {
    "duration": 8,
    "start_time": "2021-12-13T13:07:59.838Z"
   },
   {
    "duration": 45,
    "start_time": "2021-12-13T13:07:59.848Z"
   },
   {
    "duration": 9,
    "start_time": "2021-12-13T13:07:59.895Z"
   },
   {
    "duration": 4,
    "start_time": "2021-12-13T13:07:59.906Z"
   },
   {
    "duration": 20,
    "start_time": "2021-12-13T13:07:59.912Z"
   },
   {
    "duration": 2,
    "start_time": "2021-12-13T13:07:59.934Z"
   },
   {
    "duration": 19,
    "start_time": "2021-12-13T13:07:59.938Z"
   },
   {
    "duration": 22,
    "start_time": "2021-12-13T13:07:59.996Z"
   },
   {
    "duration": 227,
    "start_time": "2021-12-13T13:08:00.020Z"
   },
   {
    "duration": 8,
    "start_time": "2021-12-13T13:08:00.249Z"
   },
   {
    "duration": 212,
    "start_time": "2021-12-13T13:08:00.259Z"
   },
   {
    "duration": 43,
    "start_time": "2021-12-13T13:08:00.473Z"
   },
   {
    "duration": 8,
    "start_time": "2021-12-13T13:08:00.518Z"
   },
   {
    "duration": 21,
    "start_time": "2021-12-13T13:08:00.528Z"
   },
   {
    "duration": 20,
    "start_time": "2021-12-13T13:08:00.551Z"
   },
   {
    "duration": 19,
    "start_time": "2021-12-13T13:08:00.572Z"
   },
   {
    "duration": 12,
    "start_time": "2021-12-13T13:08:00.593Z"
   },
   {
    "duration": 10,
    "start_time": "2021-12-13T13:08:00.606Z"
   },
   {
    "duration": 28,
    "start_time": "2021-12-13T13:08:00.617Z"
   },
   {
    "duration": 7,
    "start_time": "2021-12-13T13:08:00.647Z"
   },
   {
    "duration": 28,
    "start_time": "2021-12-13T13:08:00.656Z"
   },
   {
    "duration": 30,
    "start_time": "2021-12-13T13:08:00.685Z"
   },
   {
    "duration": 114,
    "start_time": "2021-12-13T13:08:00.717Z"
   },
   {
    "duration": 32,
    "start_time": "2021-12-13T13:08:00.833Z"
   },
   {
    "duration": 14,
    "start_time": "2021-12-13T13:08:00.867Z"
   },
   {
    "duration": 27,
    "start_time": "2021-12-13T13:08:00.883Z"
   },
   {
    "duration": 39,
    "start_time": "2021-12-13T13:08:00.912Z"
   },
   {
    "duration": 28,
    "start_time": "2021-12-13T13:08:00.953Z"
   },
   {
    "duration": 27,
    "start_time": "2021-12-13T13:08:00.983Z"
   },
   {
    "duration": 21,
    "start_time": "2021-12-13T13:08:01.012Z"
   },
   {
    "duration": 790,
    "start_time": "2021-12-13T19:19:32.274Z"
   },
   {
    "duration": 64,
    "start_time": "2021-12-13T19:19:33.067Z"
   },
   {
    "duration": 11,
    "start_time": "2021-12-13T19:19:43.592Z"
   },
   {
    "duration": 26,
    "start_time": "2021-12-13T19:19:44.158Z"
   }
  ],
  "interpreter": {
   "hash": "a5ba9345dd27b28e49e620d75e4116b30c665aafb8243164622e55e3710e405d"
  },
  "kernelspec": {
   "display_name": "Python 3",
   "language": "python",
   "name": "python3"
  },
  "language_info": {
   "codemirror_mode": {
    "name": "ipython",
    "version": 3
   },
   "file_extension": ".py",
   "mimetype": "text/x-python",
   "name": "python",
   "nbconvert_exporter": "python",
   "pygments_lexer": "ipython3",
   "version": "3.6.9"
  },
  "toc": {
   "base_numbering": 1,
   "nav_menu": {},
   "number_sections": true,
   "sideBar": true,
   "skip_h1_title": true,
   "title_cell": "Table of Contents",
   "title_sidebar": "Contents",
   "toc_cell": false,
   "toc_position": {
    "height": "calc(100% - 180px)",
    "left": "10px",
    "top": "150px",
    "width": "351px"
   },
   "toc_section_display": true,
   "toc_window_display": false
  }
 },
 "nbformat": 4,
 "nbformat_minor": 2
}

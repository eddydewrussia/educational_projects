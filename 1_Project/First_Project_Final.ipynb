{
 "cells": [
  {
   "cell_type": "markdown",
   "metadata": {
    "id": "E0vqbgi9ay0H"
   },
   "source": [
    "# Яндекс.Музыка"
   ]
  },
  {
   "cell_type": "markdown",
   "metadata": {
    "id": "VUC88oWjTJw2"
   },
   "source": [
    "На данных Яндекс.Музыки сравним поведение пользователей двух столиц.\n",
    "\n",
    "**Цель исследования** — проверим три гипотезы:\n",
    "1. Активность пользователей зависит от дня недели. Причём в Москве и Петербурге это проявляется по-разному.\n",
    "2. В понедельник утром в Москве преобладают одни жанры, а в Петербурге — другие. Так же и вечером пятницы преобладают разные жанры — в зависимости от города. \n",
    "3. Москва и Петербург предпочитают разные жанры музыки. В Москве чаще слушают поп-музыку, в Петербурге — русский рэп.\n",
    "\n",
    "**Ход исследования**\n",
    "\n",
    "Данные о поведении пользователей находятся в файле `yandex_music_project.csv`. О качестве данных ничего не известно. Поэтому перед проверкой гипотез понадобится обзор данных. \n",
    "\n",
    "Проверим данные на ошибки и оценим их влияние на исследование. Затем, на этапе предобработки поищем возможность исправить самые критичные ошибки данных.\n",
    " \n",
    "Таким образом, исследование пройдёт в три этапа:\n",
    " 1. Обзор данных.\n",
    " 2. Предобработка данных.\n",
    " 3. Проверка гипотез.\n",
    "\n"
   ]
  },
  {
   "cell_type": "markdown",
   "metadata": {
    "id": "Ml1hmfXC_Zcs"
   },
   "source": [
    "## Обзор данных\n",
    "\n"
   ]
  },
  {
   "cell_type": "code",
   "execution_count": 1,
   "metadata": {
    "id": "AXN7PHPN_Zcs"
   },
   "outputs": [],
   "source": [
    "import pandas as pd # импорт библиотеки pandas"
   ]
  },
  {
   "cell_type": "markdown",
   "metadata": {
    "id": "SG23P8tt_Zcs"
   },
   "source": [
    "Прочитаем файл `yandex_music_project.csv` из папки `/datasets` и сохраним его в переменной `df`:"
   ]
  },
  {
   "cell_type": "code",
   "execution_count": 2,
   "metadata": {
    "id": "fFVu7vqh_Zct"
   },
   "outputs": [],
   "source": [
    "df = pd.read_csv('путь к файлу') # чтение файла с данными и сохранение в df"
   ]
  },
  {
   "cell_type": "markdown",
   "metadata": {
    "id": "rDoOMd3uTqnZ"
   },
   "source": [
    "Первые десять строк таблицы:"
   ]
  },
  {
   "cell_type": "code",
   "execution_count": null,
   "metadata": {
    "id": "oWTVX3gW_Zct"
   },
   "outputs": [],
   "source": [
    "df.head(10) # получение первых 10 строк таблицы df"
   ]
  },
  {
   "cell_type": "markdown",
   "metadata": {
    "id": "EO73Kwic_Zct"
   },
   "source": [
    "Одной командой получим общую информацию о таблице:"
   ]
  },
  {
   "cell_type": "code",
   "execution_count": null,
   "metadata": {
    "id": "DSf2kIb-_Zct"
   },
   "outputs": [],
   "source": [
    "df.info() # получение общей информации о данных в таблице df"
   ]
  },
  {
   "cell_type": "markdown",
   "metadata": {
    "id": "TaQ2Iwbr_Zct"
   },
   "source": [
    "Итак, в таблице семь столбцов. Тип данных во всех столбцах — `object`.\n",
    "\n",
    "Согласно документации к данным:\n",
    "* `userID` — идентификатор пользователя;\n",
    "* `Track` — название трека;  \n",
    "* `artist` — имя исполнителя;\n",
    "* `genre` — название жанра;\n",
    "* `City` — город пользователя;\n",
    "* `time` — время начала прослушивания;\n",
    "* `Day` — день недели.\n",
    "\n",
    "В названиях колонок видны три нарушения стиля:\n",
    "1. Строчные буквы сочетаются с прописными.\n",
    "2. Встречаются пробелы.\n",
    "3. Жирафная запись. То есть отклонение от змеиного_регистра.\n",
    "\n",
    "\n",
    "\n",
    "Количество значений в столбцах различается. Значит, в данных есть пропущенные значения.\n"
   ]
  },
  {
   "cell_type": "markdown",
   "metadata": {
    "id": "MCB6-dXG_Zct"
   },
   "source": [
    "**Выводы**\n",
    "\n",
    "В каждой строке таблицы — данные о прослушанном треке. Часть колонок описывает саму композицию: название, исполнителя и жанр. Остальные данные рассказывают о пользователе: из какого он города, когда он слушал музыку. \n",
    "\n",
    "Предварительно можно утверждать, что, данных достаточно для проверки гипотез. Но встречаются пропуски в данных, а в названиях колонок — расхождения с хорошим стилем.\n",
    "\n",
    "Чтобы двигаться дальше, нужно устранить проблемы в данных."
   ]
  },
  {
   "cell_type": "markdown",
   "metadata": {
    "id": "SjYF6Ub9_Zct"
   },
   "source": [
    "## Предобработка данных\n",
    "Исправим стиль в заголовках столбцов, исключим пропуски. Затем проверим данные на дубликаты."
   ]
  },
  {
   "cell_type": "markdown",
   "metadata": {
    "id": "dIaKXr29_Zct"
   },
   "source": [
    "### Стиль заголовков\n",
    "Выведем на экран названия столбцов:"
   ]
  },
  {
   "cell_type": "code",
   "execution_count": 5,
   "metadata": {
    "id": "oKOTdF_Q_Zct"
   },
   "outputs": [
    {
     "data": {
      "text/plain": [
       "Index(['  userID', 'Track', 'artist', 'genre', '  City  ', 'time', 'Day'], dtype='object')"
      ]
     },
     "execution_count": 5,
     "metadata": {},
     "output_type": "execute_result"
    }
   ],
   "source": [
    "df.columns # перечень названий столбцов таблицы df"
   ]
  },
  {
   "cell_type": "markdown",
   "metadata": {
    "id": "zj5534cv_Zct"
   },
   "source": [
    "Приведём названия в соответствие с хорошим стилем:\n",
    "* несколько слов в названии запишем в «змеином_регистре»,\n",
    "* все символы сделаем строчными,\n",
    "* устраним пробелы.\n",
    "\n",
    "Для этого переименуем колонки так:\n",
    "* `'  userID'` → `'user_id'`;\n",
    "* `'Track'` → `'track'`;\n",
    "* `'  City  '` → `'city'`;\n",
    "* `'Day'` → `'day'`."
   ]
  },
  {
   "cell_type": "code",
   "execution_count": 6,
   "metadata": {
    "id": "ISlFqs5y_Zct"
   },
   "outputs": [],
   "source": [
    "df = df.rename(columns={'  userID':'user_id', 'Track':'track',\\\n",
    "     '  City  ':'city', 'Day':'day'})   # переименование столбцов"
   ]
  },
  {
   "cell_type": "markdown",
   "metadata": {
    "id": "1dqbh00J_Zct"
   },
   "source": [
    "Проверим результат. Для этого ещё раз выведем на экран названия столбцов:"
   ]
  },
  {
   "cell_type": "code",
   "execution_count": 7,
   "metadata": {
    "id": "d4NOAmTW_Zct"
   },
   "outputs": [
    {
     "data": {
      "text/plain": [
       "Index(['user_id', 'track', 'artist', 'genre', 'city', 'time', 'day'], dtype='object')"
      ]
     },
     "execution_count": 7,
     "metadata": {},
     "output_type": "execute_result"
    }
   ],
   "source": [
    "df.columns # проверка результатов - перечень названий столбцов"
   ]
  },
  {
   "cell_type": "markdown",
   "metadata": {
    "id": "5ISfbcfY_Zct"
   },
   "source": [
    "### Пропуски значений\n",
    "Сначала посчитаем, сколько в таблице пропущенных значений. Для этого достаточно двух методов `pandas`:"
   ]
  },
  {
   "cell_type": "code",
   "execution_count": 8,
   "metadata": {
    "id": "RskX29qr_Zct"
   },
   "outputs": [
    {
     "data": {
      "text/plain": [
       "user_id       0\n",
       "track      1231\n",
       "artist     7203\n",
       "genre      1198\n",
       "city          0\n",
       "time          0\n",
       "day           0\n",
       "dtype: int64"
      ]
     },
     "execution_count": 8,
     "metadata": {},
     "output_type": "execute_result"
    }
   ],
   "source": [
    "df.isna().sum() # подсчёт пропусков"
   ]
  },
  {
   "cell_type": "markdown",
   "metadata": {
    "id": "qubhgnlO_Zct"
   },
   "source": [
    "Не все пропущенные значения влияют на исследование. Так в `track` и `artist` пропуски не важны для этой работы. Достаточно заменить их явными обозначениями.\n",
    "\n",
    "Но пропуски в `genre` могут помешать сравнению музыкальных вкусов в Москве и Санкт-Петербурге. На практике было бы правильно установить причину пропусков и восстановить данные. Такой возможности нет в учебном проекте. Придётся:\n",
    "* заполнить и эти пропуски явными обозначениями,\n",
    "* оценить, насколько они повредят расчётам. "
   ]
  },
  {
   "cell_type": "markdown",
   "metadata": {
    "id": "fSv2laPA_Zct"
   },
   "source": [
    "Заменим пропущенные значения в столбцах `track`, `artist` и `genre` на строку `'unknown'`. Для этого создадим список `columns_to_replace`, переберём его элементы циклом `for` и для каждого столбца выполним замену пропущенных значений:"
   ]
  },
  {
   "cell_type": "code",
   "execution_count": 9,
   "metadata": {
    "id": "KplB5qWs_Zct"
   },
   "outputs": [
    {
     "name": "stdout",
     "output_type": "stream",
     "text": [
      "<class 'pandas.core.frame.DataFrame'>\n",
      "RangeIndex: 65079 entries, 0 to 65078\n",
      "Data columns (total 7 columns):\n",
      " #   Column   Non-Null Count  Dtype \n",
      "---  ------   --------------  ----- \n",
      " 0   user_id  65079 non-null  object\n",
      " 1   track    65079 non-null  object\n",
      " 2   artist   65079 non-null  object\n",
      " 3   genre    65079 non-null  object\n",
      " 4   city     65079 non-null  object\n",
      " 5   time     65079 non-null  object\n",
      " 6   day      65079 non-null  object\n",
      "dtypes: object(7)\n",
      "memory usage: 3.5+ MB\n"
     ]
    }
   ],
   "source": [
    "# перебор названий столбцов в цикле и замена пропущенных значений на 'unknown'\n",
    "columns_to_replace = ['track', 'artist', 'genre'] # из этого списка в цикле будем брать названия колоонок для заолнения отсутствующих данных\n",
    "for col in columns_to_replace: # для колонки из списка колонок под замену\n",
    "    df[col] = df[col].fillna('unknown') # заменить отсутствующие значения в очередном столбце из списка на замену значением \"unknown\"\n",
    "df.info() # сведения о таблице"
   ]
  },
  {
   "cell_type": "markdown",
   "metadata": {
    "id": "Ilsm-MZo_Zct"
   },
   "source": [
    "Убедимся, что в таблице не осталось пропусков. Для этого ещё раз посчитаем пропущенные значения."
   ]
  },
  {
   "cell_type": "code",
   "execution_count": 10,
   "metadata": {
    "id": "Tq4nYRX4_Zct"
   },
   "outputs": [
    {
     "data": {
      "text/plain": [
       "user_id    0\n",
       "track      0\n",
       "artist     0\n",
       "genre      0\n",
       "city       0\n",
       "time       0\n",
       "day        0\n",
       "dtype: int64"
      ]
     },
     "execution_count": 10,
     "metadata": {},
     "output_type": "execute_result"
    }
   ],
   "source": [
    "df.isna().sum() # подсчёт пропусков"
   ]
  },
  {
   "cell_type": "markdown",
   "metadata": {
    "id": "BWKRtBJ3_Zct"
   },
   "source": [
    "### Дубликаты\n",
    "Посчитаем явные дубликаты в таблице одной командой:"
   ]
  },
  {
   "cell_type": "code",
   "execution_count": 11,
   "metadata": {
    "id": "36eES_S0_Zct"
   },
   "outputs": [
    {
     "data": {
      "text/plain": [
       "3826"
      ]
     },
     "execution_count": 11,
     "metadata": {},
     "output_type": "execute_result"
    }
   ],
   "source": [
    "df.duplicated().sum() # подсчёт явных дубликатов"
   ]
  },
  {
   "cell_type": "markdown",
   "metadata": {
    "id": "Ot25h6XR_Zct"
   },
   "source": [
    "Вызовем специальный метод `pandas`, чтобы удалить явные дубликаты:"
   ]
  },
  {
   "cell_type": "code",
   "execution_count": 12,
   "metadata": {
    "id": "exFHq6tt_Zct"
   },
   "outputs": [],
   "source": [
    "df = df.drop_duplicates().reset_index(drop=True) \n",
    "# удаление явных дубликатов (с удалением старых индексов и формированием новых)"
   ]
  },
  {
   "cell_type": "markdown",
   "metadata": {
    "id": "Im2YwBEG_Zct"
   },
   "source": [
    "Ещё раз посчитаем явные дубликаты в таблице — убедимся, что полностью от них избавились:"
   ]
  },
  {
   "cell_type": "code",
   "execution_count": 13,
   "metadata": {
    "id": "-8PuNWQ0_Zct"
   },
   "outputs": [
    {
     "data": {
      "text/plain": [
       "0"
      ]
     },
     "execution_count": 13,
     "metadata": {},
     "output_type": "execute_result"
    }
   ],
   "source": [
    "df.duplicated().sum() # проверка на отсутствие дубликатов"
   ]
  },
  {
   "cell_type": "markdown",
   "metadata": {
    "id": "QlFBsxAr_Zct"
   },
   "source": [
    "Теперь избавимся от неявных дубликатов в колонке `genre`. Например, название одного и того же жанра может быть записано немного по-разному. Такие ошибки тоже повлияют на результат исследования."
   ]
  },
  {
   "cell_type": "markdown",
   "metadata": {
    "id": "eSjWwsOh_Zct"
   },
   "source": [
    "Выведем на экран список уникальных названий жанров, отсортированный в алфавитном порядке. Для этого:\n",
    "* извлечём нужный столбец датафрейма, \n",
    "* применим к нему метод сортировки,\n",
    "* для отсортированного столбца вызовем метод, который вернёт уникальные значения из столбца."
   ]
  },
  {
   "cell_type": "code",
   "execution_count": null,
   "metadata": {
    "id": "JIUcqzZN_Zct",
    "scrolled": true
   },
   "outputs": [],
   "source": [
    "# sorted(df['genre'].unique()) # Просмотр уникальных названий жанров\n",
    "df['genre'].sort_values().unique()\n",
    "\n",
    "# africa afrikaans\n",
    "# folk folklore\n",
    "# deutschspr german\n",
    "# hip-hop hiphop hip hop\n",
    "# latin latino\n",
    "# neue new\n",
    "# türk türkçe\n",
    "# электроника electronic\n",
    "# вот неявные дубликаты на мой взгляд"
   ]
  },
  {
   "cell_type": "markdown",
   "metadata": {
    "id": "qej-Qmuo_Zct"
   },
   "source": [
    "Просмотрим список и найдём неявные дубликаты названия `hiphop`. Это могут быть названия с ошибками или альтернативные названия того же жанра.\n",
    "\n",
    "Видим следующие неявные дубликаты:\n",
    "* *hip*,\n",
    "* *hop*,\n",
    "* *hip-hop*.\n",
    "\n",
    "Чтобы очистить от них таблицу, напишем функцию `replace_wrong_genres()` с двумя параметрами: \n",
    "* `wrong_genres` — список дубликатов,\n",
    "* `correct_genre` — строка с правильным значением.\n",
    "\n",
    "Функция должна исправить колонку `genre` в таблице `df`: заменить каждое значение из списка `wrong_genres` на значение из `correct_genre`."
   ]
  },
  {
   "cell_type": "code",
   "execution_count": 15,
   "metadata": {
    "id": "ErNDkmns_Zct"
   },
   "outputs": [],
   "source": [
    "def replace_wrong_genres(wrong_genres, correct_genre):\n",
    "    # Функция для замены неявных дубликатов\n",
    "# список wrong_genres буду вводить явно при вызове функции. \n",
    "# по одному вызову функции для каждого подсписка дубликатов\n",
    "    for word in wrong_genres:\n",
    "        df['genre'] = df['genre'].replace(word, correct_genre)\n",
    "        \n"
   ]
  },
  {
   "cell_type": "markdown",
   "metadata": {
    "id": "aDoBJxbA_Zct"
   },
   "source": [
    "Вызовем `replace_wrong_genres()` и передадим ей такие аргументы, чтобы она устранила неявные дубликаты: вместо `hip`, `hop` и `hip-hop` в таблице должно быть значение `hiphop`:"
   ]
  },
  {
   "cell_type": "code",
   "execution_count": 16,
   "metadata": {
    "id": "YN5i2hpmSo09"
   },
   "outputs": [],
   "source": [
    "# Устранение неявных дубликатов\n",
    "replace_wrong_genres(['africa'], 'afrikaans')\n",
    "replace_wrong_genres(['folklore'], 'folk')\n",
    "replace_wrong_genres(['deutschspr'], 'german')\n",
    "replace_wrong_genres(['hip-hop', 'hip', 'hop'], 'hiphop')\n",
    "replace_wrong_genres(['latin'], 'latino')\n",
    "replace_wrong_genres(['neue'], 'new')\n",
    "replace_wrong_genres(['türkçe'], 'türk')\n",
    "replace_wrong_genres(['электроника'], 'electronic')"
   ]
  },
  {
   "cell_type": "markdown",
   "metadata": {},
   "source": [
    "Прим.: объёмный принт убрал, чтобы не мешал просмотру проекта"
   ]
  },
  {
   "cell_type": "markdown",
   "metadata": {
    "id": "zQKF16_RG15m"
   },
   "source": [
    "Проверим, что заменили неправильные названия:\n",
    "\n",
    "*   hip\n",
    "*   hop\n",
    "*   hip-hop\n",
    "\n",
    "Выведем отсортированный список уникальных значений столбца `genre`:"
   ]
  },
  {
   "cell_type": "code",
   "execution_count": null,
   "metadata": {
    "id": "wvixALnFG15m",
    "scrolled": true
   },
   "outputs": [],
   "source": [
    "sorted(df['genre'].unique()) # Проверка на неявные дубликаты"
   ]
  },
  {
   "cell_type": "markdown",
   "metadata": {},
   "source": [
    "Прим.: объёмный принт убрал, чтобы не мешал просмотру проекта"
   ]
  },
  {
   "cell_type": "markdown",
   "metadata": {
    "id": "jz6a9-7HQUDd"
   },
   "source": [
    "**Выводы**\n",
    "\n",
    "Предобработка обнаружила три проблемы в данных:\n",
    "\n",
    "- нарушения в стиле заголовков,\n",
    "- пропущенные значения,\n",
    "- дубликаты — явные и неявные.\n",
    "\n",
    "Мы исправили заголовки, чтобы упростить работу с таблицей. Без дубликатов исследование станет более точным.\n",
    "\n",
    "Пропущенные значения заменили на `'unknown'`. Ещё предстоит увидеть, не повредят ли исследованию пропуски в колонке `genre`.\n",
    "\n",
    "Теперь можно перейти к проверке гипотез. "
   ]
  },
  {
   "cell_type": "markdown",
   "metadata": {
    "id": "WttZHXH0SqKk"
   },
   "source": [
    "## Проверка гипотез"
   ]
  },
  {
   "cell_type": "markdown",
   "metadata": {
    "id": "Im936VVi_Zcu"
   },
   "source": [
    "### Сравнение поведения пользователей двух столиц"
   ]
  },
  {
   "cell_type": "markdown",
   "metadata": {
    "id": "nwt_MuaL_Zcu"
   },
   "source": [
    "Первая гипотеза утверждает, что пользователи по-разному слушают музыку в Москве и Санкт-Петербурге. Проверим это предположение по данным о трёх днях недели — понедельнике, среде и пятнице. Для этого:\n",
    "\n",
    "* Разделим пользователей Москвы и Санкт-Петербурга\n",
    "* Сравним, сколько треков послушала каждая группа пользователей в понедельник, среду и пятницу.\n"
   ]
  },
  {
   "cell_type": "markdown",
   "metadata": {
    "id": "8Dw_YMmT_Zcu"
   },
   "source": [
    "Для тренировки сначала выполним каждый из расчётов по отдельности. \n",
    "\n",
    "Оценим активность пользователей в каждом городе. Сгруппируем данные по городу и посчитаем прослушивания в каждой группе.\n",
    "\n"
   ]
  },
  {
   "cell_type": "code",
   "execution_count": 18,
   "metadata": {
    "id": "0_Qs96oh_Zcu"
   },
   "outputs": [
    {
     "data": {
      "text/html": [
       "<div>\n",
       "<style scoped>\n",
       "    .dataframe tbody tr th:only-of-type {\n",
       "        vertical-align: middle;\n",
       "    }\n",
       "\n",
       "    .dataframe tbody tr th {\n",
       "        vertical-align: top;\n",
       "    }\n",
       "\n",
       "    .dataframe thead th {\n",
       "        text-align: right;\n",
       "    }\n",
       "</style>\n",
       "<table border=\"1\" class=\"dataframe\">\n",
       "  <thead>\n",
       "    <tr style=\"text-align: right;\">\n",
       "      <th></th>\n",
       "      <th>user_id</th>\n",
       "      <th>track</th>\n",
       "      <th>artist</th>\n",
       "      <th>genre</th>\n",
       "      <th>city</th>\n",
       "      <th>time</th>\n",
       "      <th>day</th>\n",
       "    </tr>\n",
       "  </thead>\n",
       "  <tbody>\n",
       "    <tr>\n",
       "      <th>1</th>\n",
       "      <td>55204538</td>\n",
       "      <td>Delayed Because of Accident</td>\n",
       "      <td>Andreas Rönnberg</td>\n",
       "      <td>rock</td>\n",
       "      <td>Moscow</td>\n",
       "      <td>14:07:09</td>\n",
       "      <td>Friday</td>\n",
       "    </tr>\n",
       "    <tr>\n",
       "      <th>4</th>\n",
       "      <td>E2DC1FAE</td>\n",
       "      <td>Soul People</td>\n",
       "      <td>Space Echo</td>\n",
       "      <td>dance</td>\n",
       "      <td>Moscow</td>\n",
       "      <td>08:34:34</td>\n",
       "      <td>Monday</td>\n",
       "    </tr>\n",
       "    <tr>\n",
       "      <th>6</th>\n",
       "      <td>4CB90AA5</td>\n",
       "      <td>True</td>\n",
       "      <td>Roman Messer</td>\n",
       "      <td>dance</td>\n",
       "      <td>Moscow</td>\n",
       "      <td>13:00:07</td>\n",
       "      <td>Wednesday</td>\n",
       "    </tr>\n",
       "    <tr>\n",
       "      <th>7</th>\n",
       "      <td>F03E1C1F</td>\n",
       "      <td>Feeling This Way</td>\n",
       "      <td>Polina Griffith</td>\n",
       "      <td>dance</td>\n",
       "      <td>Moscow</td>\n",
       "      <td>20:47:49</td>\n",
       "      <td>Wednesday</td>\n",
       "    </tr>\n",
       "    <tr>\n",
       "      <th>8</th>\n",
       "      <td>8FA1D3BE</td>\n",
       "      <td>И вновь продолжается бой</td>\n",
       "      <td>unknown</td>\n",
       "      <td>ruspop</td>\n",
       "      <td>Moscow</td>\n",
       "      <td>09:17:40</td>\n",
       "      <td>Friday</td>\n",
       "    </tr>\n",
       "  </tbody>\n",
       "</table>\n",
       "</div>"
      ],
      "text/plain": [
       "    user_id                        track            artist   genre    city  \\\n",
       "1  55204538  Delayed Because of Accident  Andreas Rönnberg    rock  Moscow   \n",
       "4  E2DC1FAE                  Soul People        Space Echo   dance  Moscow   \n",
       "6  4CB90AA5                         True      Roman Messer   dance  Moscow   \n",
       "7  F03E1C1F             Feeling This Way   Polina Griffith   dance  Moscow   \n",
       "8  8FA1D3BE     И вновь продолжается бой           unknown  ruspop  Moscow   \n",
       "\n",
       "       time        day  \n",
       "1  14:07:09     Friday  \n",
       "4  08:34:34     Monday  \n",
       "6  13:00:07  Wednesday  \n",
       "7  20:47:49  Wednesday  \n",
       "8  09:17:40     Friday  "
      ]
     },
     "metadata": {},
     "output_type": "display_data"
    },
    {
     "data": {
      "text/html": [
       "<div>\n",
       "<style scoped>\n",
       "    .dataframe tbody tr th:only-of-type {\n",
       "        vertical-align: middle;\n",
       "    }\n",
       "\n",
       "    .dataframe tbody tr th {\n",
       "        vertical-align: top;\n",
       "    }\n",
       "\n",
       "    .dataframe thead th {\n",
       "        text-align: right;\n",
       "    }\n",
       "</style>\n",
       "<table border=\"1\" class=\"dataframe\">\n",
       "  <thead>\n",
       "    <tr style=\"text-align: right;\">\n",
       "      <th></th>\n",
       "      <th>user_id</th>\n",
       "      <th>track</th>\n",
       "      <th>artist</th>\n",
       "      <th>genre</th>\n",
       "      <th>city</th>\n",
       "      <th>time</th>\n",
       "      <th>day</th>\n",
       "    </tr>\n",
       "  </thead>\n",
       "  <tbody>\n",
       "    <tr>\n",
       "      <th>0</th>\n",
       "      <td>FFB692EC</td>\n",
       "      <td>Kamigata To Boots</td>\n",
       "      <td>The Mass Missile</td>\n",
       "      <td>rock</td>\n",
       "      <td>Saint-Petersburg</td>\n",
       "      <td>20:28:33</td>\n",
       "      <td>Wednesday</td>\n",
       "    </tr>\n",
       "    <tr>\n",
       "      <th>2</th>\n",
       "      <td>20EC38</td>\n",
       "      <td>Funiculì funiculà</td>\n",
       "      <td>Mario Lanza</td>\n",
       "      <td>pop</td>\n",
       "      <td>Saint-Petersburg</td>\n",
       "      <td>20:58:07</td>\n",
       "      <td>Wednesday</td>\n",
       "    </tr>\n",
       "    <tr>\n",
       "      <th>3</th>\n",
       "      <td>A3DD03C9</td>\n",
       "      <td>Dragons in the Sunset</td>\n",
       "      <td>Fire + Ice</td>\n",
       "      <td>folk</td>\n",
       "      <td>Saint-Petersburg</td>\n",
       "      <td>08:37:09</td>\n",
       "      <td>Monday</td>\n",
       "    </tr>\n",
       "    <tr>\n",
       "      <th>5</th>\n",
       "      <td>842029A1</td>\n",
       "      <td>Преданная</td>\n",
       "      <td>IMPERVTOR</td>\n",
       "      <td>rusrap</td>\n",
       "      <td>Saint-Petersburg</td>\n",
       "      <td>13:09:41</td>\n",
       "      <td>Friday</td>\n",
       "    </tr>\n",
       "    <tr>\n",
       "      <th>9</th>\n",
       "      <td>E772D5C0</td>\n",
       "      <td>Pessimist</td>\n",
       "      <td>unknown</td>\n",
       "      <td>dance</td>\n",
       "      <td>Saint-Petersburg</td>\n",
       "      <td>21:20:49</td>\n",
       "      <td>Wednesday</td>\n",
       "    </tr>\n",
       "  </tbody>\n",
       "</table>\n",
       "</div>"
      ],
      "text/plain": [
       "    user_id                  track            artist   genre  \\\n",
       "0  FFB692EC      Kamigata To Boots  The Mass Missile    rock   \n",
       "2    20EC38      Funiculì funiculà       Mario Lanza     pop   \n",
       "3  A3DD03C9  Dragons in the Sunset        Fire + Ice    folk   \n",
       "5  842029A1              Преданная         IMPERVTOR  rusrap   \n",
       "9  E772D5C0              Pessimist           unknown   dance   \n",
       "\n",
       "               city      time        day  \n",
       "0  Saint-Petersburg  20:28:33  Wednesday  \n",
       "2  Saint-Petersburg  20:58:07  Wednesday  \n",
       "3  Saint-Petersburg  08:37:09     Monday  \n",
       "5  Saint-Petersburg  13:09:41     Friday  \n",
       "9  Saint-Petersburg  21:20:49  Wednesday  "
      ]
     },
     "metadata": {},
     "output_type": "display_data"
    },
    {
     "name": "stdout",
     "output_type": "stream",
     "text": [
      "Всего прослушиваний в СПБ: 18512\n",
      "Всего прослушиваний в МСК: 42741\n"
     ]
    }
   ],
   "source": [
    "# Подсчёт прослушиваний в каждом городе\n",
    "\n",
    "# формирую таблички по городам\n",
    "\n",
    "df_msk = df[df['city'] == 'Moscow']\n",
    "display(df_msk.head()) # вывод 5 первых строк для проверки\n",
    "\n",
    "df_spb = df[df['city'] == 'Saint-Petersburg']\n",
    "display(df_spb.head()) # вывод 5 первых строк для проверки\n",
    "\n",
    "# в датасет НЕТ продолжительности звучания треков. \n",
    "# значит ,на вопрос \"Сколько слушают...\" ответ будет \n",
    "# не в днях/часах/минутах/сек\n",
    "# а в штуках\n",
    "\n",
    "all_tracks_spb = df_spb['time'].count() # подсчитываем Питер\n",
    "print(\"Всего прослушиваний в СПБ:\", all_tracks_spb) # выводим результат\n",
    "\n",
    "all_tracks_msk = df_msk['time'].count() # подсчитываем\n",
    "print(\"Всего прослушиваний в МСК:\", all_tracks_msk) # выводим результат\n"
   ]
  },
  {
   "cell_type": "markdown",
   "metadata": {
    "id": "dzli3w8o_Zcu"
   },
   "source": [
    "В Москве прослушиваний больше, чем в Петербурге. Из этого не следует, что московские пользователи чаще слушают музыку. Просто самих пользователей в Москве больше.\n",
    "\n",
    "Теперь сгруппируем данные по дню недели и подсчитаем прослушивания в понедельник, среду и пятницу. Учтём, что в данных есть информация только о прослушиваниях только за эти дни.\n"
   ]
  },
  {
   "cell_type": "code",
   "execution_count": 19,
   "metadata": {
    "id": "uZMKjiJz_Zcu"
   },
   "outputs": [
    {
     "name": "stdout",
     "output_type": "stream",
     "text": [
      "Прослушивания в Питере в понедельник: 5614\n",
      "Прослушивания в Питере в среду: 7003\n",
      "Прослушивания в Питере в пятницу: 5895\n",
      "Прослушивания в Москве в понедельник: 15740\n",
      "Прослушивания в Москве в среду: 11056\n",
      "Прослушивания в Москве в пятницу: 15945\n"
     ]
    }
   ],
   "source": [
    "# Подсчёт прослушиваний в каждый из трёх дней\n",
    "# надо добавить отбор по дню недели\n",
    "\n",
    "# Питер понедельник\n",
    "monday_tracks_spb = df_spb[df_spb['day'] == 'Monday']['time'].count() \n",
    "print('Прослушивания в Питере в понедельник:', monday_tracks_spb)\n",
    "\n",
    "# Питер среда\n",
    "wednesday_tracks_spb = df_spb[df_spb['day'] == 'Wednesday']['time'].count() \n",
    "print('Прослушивания в Питере в среду:', wednesday_tracks_spb)\n",
    "\n",
    "# Питер пятница\n",
    "friday_tracks_spb = df_spb[df_spb['day'] == 'Friday']['time'].count() \n",
    "print('Прослушивания в Питере в пятницу:', friday_tracks_spb)\n",
    "\n",
    "# и Москва:\n",
    "\n",
    "# Москва понедельник\n",
    "monday_tracks_msk = df_msk[df_msk['day'] == 'Monday']['time'].count() \n",
    "print('Прослушивания в Москве в понедельник:', monday_tracks_msk)\n",
    "\n",
    "# Москва среда\n",
    "wednesday_tracks_msk = df_msk[df_msk['day'] == 'Wednesday']['time'].count() \n",
    "print('Прослушивания в Москве в среду:', wednesday_tracks_msk)\n",
    "\n",
    "# Москва пятница\n",
    "friday_tracks_msk = df_msk[df_msk['day'] == 'Friday']['time'].count() \n",
    "print('Прослушивания в Москве в пятницу:', friday_tracks_msk)\n",
    "\n",
    "# много одинаковых конструкций. вероятно, фунуции вводить или упрощать как-то запись..."
   ]
  },
  {
   "cell_type": "markdown",
   "metadata": {
    "id": "cC2tNrlL_Zcu"
   },
   "source": [
    "В среднем пользователи из двух городов менее активны по средам. Но картина может измениться, если рассмотреть каждый город в отдельности.\n",
    "\n",
    "**Вот и получилось, что в Питере в среду - пик.**"
   ]
  },
  {
   "cell_type": "markdown",
   "metadata": {
    "id": "POzs8bGa_Zcu"
   },
   "source": [
    "Мы увидели, как работает группировка по городу и по дням недели. Теперь напишем функцию, которая объединит два эти расчёта.\n",
    "\n",
    "Создадим функцию `number_tracks()`, которая посчитает прослушивания для заданного дня и города. Ей понадобятся два параметра:\n",
    "* день недели,\n",
    "* название города.\n",
    "\n",
    "В функции сохраним в переменную строки исходной таблицы, у которых значение:\n",
    "  * в колонке `day` равно параметру `day`,\n",
    "  * в колонке `city` равно параметру `city`.\n",
    "\n",
    "Для этого применим последовательную фильтрацию с логической индексацией.\n",
    "\n",
    "Затем посчитаем значения в столбце `user_id` получившейся таблицы. Результат сохраним в новую переменную. Вернём эту переменную из функции."
   ]
  },
  {
   "cell_type": "code",
   "execution_count": 21,
   "metadata": {
    "id": "Nz3GdQB1_Zcu"
   },
   "outputs": [],
   "source": [
    "# <создание функции number_tracks()>\n",
    "\n",
    "def number_tracks(day, city):\n",
    "# Объявляется функция с двумя параметрами: day, city.\n",
    "\n",
    "# В переменной track_list сохраняются те строки таблицы df, для которых \n",
    "# значение в столбце 'day' равно параметру day и одновременно значение\n",
    "# в столбце 'city' равно параметру city (используйте последовательную фильтрацию\n",
    "# с помощью логической индексации).\n",
    "\n",
    "# не получается что-то у меня в одной строке всё сделать.\n",
    "# а если вот так, последовательно?\n",
    "    track_list = df[df['day'] == day]\n",
    "    track_list = track_list[track_list['city'] == city]\n",
    "\n",
    "# В переменной track_list_count сохраняется число значений столбца 'user_id',\n",
    "# рассчитанное методом count() для таблицы track_list.\n",
    "\n",
    "    track_list_count = track_list['time'].count()\n",
    "\n",
    "# Функция возвращает число - значение track_list_count.\n",
    "\n",
    "    return track_list_count\n",
    "# Функция для подсчёта прослушиваний для конкретного города и дня.\n",
    "# С помощью последовательной фильтрации с логической индексацией она \n",
    "# сначала получит из исходной таблицы строки с нужным днём,\n",
    "# затем из результата отфильтрует строки с нужным городом,\n",
    "# методом count() посчитает количество значений в колонке user_id. \n",
    "# Это количество функция вернёт в качестве результата"
   ]
  },
  {
   "cell_type": "markdown",
   "metadata": {
    "id": "ytf7xFrFJQ2r"
   },
   "source": [
    "Вызовем `number_tracks()` шесть раз, меняя значение параметров — так, чтобы получить данные для каждого города в каждый из трёх дней."
   ]
  },
  {
   "cell_type": "code",
   "execution_count": 22,
   "metadata": {
    "id": "rJcRATNQ_Zcu"
   },
   "outputs": [
    {
     "data": {
      "text/plain": [
       "15740"
      ]
     },
     "execution_count": 22,
     "metadata": {},
     "output_type": "execute_result"
    }
   ],
   "source": [
    "number_tracks('Monday', 'Moscow') # количество прослушиваний в Москве по понедельникам"
   ]
  },
  {
   "cell_type": "code",
   "execution_count": 23,
   "metadata": {
    "id": "hq_ncZ5T_Zcu"
   },
   "outputs": [
    {
     "data": {
      "text/plain": [
       "5614"
      ]
     },
     "execution_count": 23,
     "metadata": {},
     "output_type": "execute_result"
    }
   ],
   "source": [
    "number_tracks('Monday', 'Saint-Petersburg') # количество прослушиваний в Санкт-Петербурге по понедельникам"
   ]
  },
  {
   "cell_type": "code",
   "execution_count": 24,
   "metadata": {
    "id": "_NTy2VPU_Zcu"
   },
   "outputs": [
    {
     "data": {
      "text/plain": [
       "11056"
      ]
     },
     "execution_count": 24,
     "metadata": {},
     "output_type": "execute_result"
    }
   ],
   "source": [
    "number_tracks('Wednesday', 'Moscow') # количество прослушиваний в Москве по средам"
   ]
  },
  {
   "cell_type": "code",
   "execution_count": 25,
   "metadata": {
    "id": "j2y3TAwo_Zcu"
   },
   "outputs": [
    {
     "data": {
      "text/plain": [
       "7003"
      ]
     },
     "execution_count": 25,
     "metadata": {},
     "output_type": "execute_result"
    }
   ],
   "source": [
    "number_tracks('Wednesday', 'Saint-Petersburg') # количество прослушиваний в Санкт-Петербурге по средам"
   ]
  },
  {
   "cell_type": "code",
   "execution_count": 26,
   "metadata": {
    "id": "vYDw5u_K_Zcu"
   },
   "outputs": [
    {
     "data": {
      "text/plain": [
       "15945"
      ]
     },
     "execution_count": 26,
     "metadata": {},
     "output_type": "execute_result"
    }
   ],
   "source": [
    "number_tracks('Friday', 'Moscow') # количество прослушиваний в Москве по пятницам"
   ]
  },
  {
   "cell_type": "code",
   "execution_count": 27,
   "metadata": {
    "id": "8_yzFtW3_Zcu"
   },
   "outputs": [
    {
     "data": {
      "text/plain": [
       "5895"
      ]
     },
     "execution_count": 27,
     "metadata": {},
     "output_type": "execute_result"
    }
   ],
   "source": [
    "number_tracks('Friday', 'Saint-Petersburg') # количество прослушиваний в Санкт-Петербурге по пятницам"
   ]
  },
  {
   "cell_type": "markdown",
   "metadata": {
    "id": "7QXffbO-_Zcu"
   },
   "source": [
    "Создадим c помощью конструктора `pd.DataFrame` таблицу, где\n",
    "* названия колонок — `['city', 'monday', 'wednesday', 'friday']`;\n",
    "* данные — результаты, которые получили с помощью `number_tracks`."
   ]
  },
  {
   "cell_type": "code",
   "execution_count": 28,
   "metadata": {
    "id": "APAcLpOr_Zcu"
   },
   "outputs": [
    {
     "data": {
      "text/html": [
       "<div>\n",
       "<style scoped>\n",
       "    .dataframe tbody tr th:only-of-type {\n",
       "        vertical-align: middle;\n",
       "    }\n",
       "\n",
       "    .dataframe tbody tr th {\n",
       "        vertical-align: top;\n",
       "    }\n",
       "\n",
       "    .dataframe thead th {\n",
       "        text-align: right;\n",
       "    }\n",
       "</style>\n",
       "<table border=\"1\" class=\"dataframe\">\n",
       "  <thead>\n",
       "    <tr style=\"text-align: right;\">\n",
       "      <th></th>\n",
       "      <th>city</th>\n",
       "      <th>monday</th>\n",
       "      <th>wednesday</th>\n",
       "      <th>friday</th>\n",
       "    </tr>\n",
       "  </thead>\n",
       "  <tbody>\n",
       "    <tr>\n",
       "      <th>0</th>\n",
       "      <td>Moscow</td>\n",
       "      <td>15740</td>\n",
       "      <td>11056</td>\n",
       "      <td>15945</td>\n",
       "    </tr>\n",
       "    <tr>\n",
       "      <th>1</th>\n",
       "      <td>Saint-Petersburg</td>\n",
       "      <td>5614</td>\n",
       "      <td>7003</td>\n",
       "      <td>5895</td>\n",
       "    </tr>\n",
       "  </tbody>\n",
       "</table>\n",
       "</div>"
      ],
      "text/plain": [
       "               city  monday  wednesday  friday\n",
       "0            Moscow   15740      11056   15945\n",
       "1  Saint-Petersburg    5614       7003    5895"
      ]
     },
     "metadata": {},
     "output_type": "display_data"
    }
   ],
   "source": [
    "# Таблица с результатами\n",
    "\n",
    "# подготовлю списки\n",
    "# колонки\n",
    "names_columns = ['city', 'monday', 'wednesday', 'friday']\n",
    "\n",
    "# print(type(names_columns))\n",
    "# display(names_columns)\n",
    "# сработало. выводтся список\n",
    "\n",
    "# данные\n",
    "data_set = [\n",
    "    ['Moscow', number_tracks('Monday', 'Moscow'), number_tracks('Wednesday', 'Moscow'),\\\n",
    "         number_tracks('Friday', 'Moscow')],\n",
    "    ['Saint-Petersburg', number_tracks('Monday', 'Saint-Petersburg'), \\\n",
    "        number_tracks('Wednesday', 'Saint-Petersburg'), \\\n",
    "            number_tracks('Friday', 'Saint-Petersburg')]\n",
    "    ]\n",
    "\n",
    "# таблица\n",
    "table_counts_tracks_by_days_and_cities = pd.DataFrame(data=data_set, columns=names_columns)\n",
    "# печать\n",
    "display(table_counts_tracks_by_days_and_cities)"
   ]
  },
  {
   "cell_type": "markdown",
   "metadata": {
    "id": "atZAxtq4_Zcu"
   },
   "source": [
    "### Музыка в начале и в конце недели"
   ]
  },
  {
   "cell_type": "markdown",
   "metadata": {
    "id": "eXrQqXFH_Zcu"
   },
   "source": [
    "Согласно второй гипотезе, утром в понедельник в Москве преобладают одни жанры, а в Петербурге — другие. Так же и вечером пятницы преобладают разные жанры — в зависимости от города."
   ]
  },
  {
   "cell_type": "markdown",
   "metadata": {
    "id": "S8UcW6Hw_Zcu"
   },
   "source": [
    "Сохраним таблицы с данными в две переменные:\n",
    "* по Москве — в `moscow_general`;\n",
    "* по Санкт-Петербургу — в `spb_general`."
   ]
  },
  {
   "cell_type": "code",
   "execution_count": 29,
   "metadata": {
    "id": "qeaFfM_P_Zcu"
   },
   "outputs": [
    {
     "data": {
      "text/html": [
       "<div>\n",
       "<style scoped>\n",
       "    .dataframe tbody tr th:only-of-type {\n",
       "        vertical-align: middle;\n",
       "    }\n",
       "\n",
       "    .dataframe tbody tr th {\n",
       "        vertical-align: top;\n",
       "    }\n",
       "\n",
       "    .dataframe thead th {\n",
       "        text-align: right;\n",
       "    }\n",
       "</style>\n",
       "<table border=\"1\" class=\"dataframe\">\n",
       "  <thead>\n",
       "    <tr style=\"text-align: right;\">\n",
       "      <th></th>\n",
       "      <th>user_id</th>\n",
       "      <th>track</th>\n",
       "      <th>artist</th>\n",
       "      <th>genre</th>\n",
       "      <th>city</th>\n",
       "      <th>time</th>\n",
       "      <th>day</th>\n",
       "    </tr>\n",
       "  </thead>\n",
       "  <tbody>\n",
       "    <tr>\n",
       "      <th>1</th>\n",
       "      <td>55204538</td>\n",
       "      <td>Delayed Because of Accident</td>\n",
       "      <td>Andreas Rönnberg</td>\n",
       "      <td>rock</td>\n",
       "      <td>Moscow</td>\n",
       "      <td>14:07:09</td>\n",
       "      <td>Friday</td>\n",
       "    </tr>\n",
       "    <tr>\n",
       "      <th>4</th>\n",
       "      <td>E2DC1FAE</td>\n",
       "      <td>Soul People</td>\n",
       "      <td>Space Echo</td>\n",
       "      <td>dance</td>\n",
       "      <td>Moscow</td>\n",
       "      <td>08:34:34</td>\n",
       "      <td>Monday</td>\n",
       "    </tr>\n",
       "    <tr>\n",
       "      <th>6</th>\n",
       "      <td>4CB90AA5</td>\n",
       "      <td>True</td>\n",
       "      <td>Roman Messer</td>\n",
       "      <td>dance</td>\n",
       "      <td>Moscow</td>\n",
       "      <td>13:00:07</td>\n",
       "      <td>Wednesday</td>\n",
       "    </tr>\n",
       "    <tr>\n",
       "      <th>7</th>\n",
       "      <td>F03E1C1F</td>\n",
       "      <td>Feeling This Way</td>\n",
       "      <td>Polina Griffith</td>\n",
       "      <td>dance</td>\n",
       "      <td>Moscow</td>\n",
       "      <td>20:47:49</td>\n",
       "      <td>Wednesday</td>\n",
       "    </tr>\n",
       "    <tr>\n",
       "      <th>8</th>\n",
       "      <td>8FA1D3BE</td>\n",
       "      <td>И вновь продолжается бой</td>\n",
       "      <td>unknown</td>\n",
       "      <td>ruspop</td>\n",
       "      <td>Moscow</td>\n",
       "      <td>09:17:40</td>\n",
       "      <td>Friday</td>\n",
       "    </tr>\n",
       "    <tr>\n",
       "      <th>...</th>\n",
       "      <td>...</td>\n",
       "      <td>...</td>\n",
       "      <td>...</td>\n",
       "      <td>...</td>\n",
       "      <td>...</td>\n",
       "      <td>...</td>\n",
       "      <td>...</td>\n",
       "    </tr>\n",
       "    <tr>\n",
       "      <th>61247</th>\n",
       "      <td>83A474E7</td>\n",
       "      <td>I Worship Only What You Bleed</td>\n",
       "      <td>The Black Dahlia Murder</td>\n",
       "      <td>extrememetal</td>\n",
       "      <td>Moscow</td>\n",
       "      <td>21:07:12</td>\n",
       "      <td>Monday</td>\n",
       "    </tr>\n",
       "    <tr>\n",
       "      <th>61248</th>\n",
       "      <td>729CBB09</td>\n",
       "      <td>My Name</td>\n",
       "      <td>McLean</td>\n",
       "      <td>rnb</td>\n",
       "      <td>Moscow</td>\n",
       "      <td>13:32:28</td>\n",
       "      <td>Wednesday</td>\n",
       "    </tr>\n",
       "    <tr>\n",
       "      <th>61250</th>\n",
       "      <td>C5E3A0D5</td>\n",
       "      <td>Jalopiina</td>\n",
       "      <td>unknown</td>\n",
       "      <td>industrial</td>\n",
       "      <td>Moscow</td>\n",
       "      <td>20:09:26</td>\n",
       "      <td>Friday</td>\n",
       "    </tr>\n",
       "    <tr>\n",
       "      <th>61251</th>\n",
       "      <td>321D0506</td>\n",
       "      <td>Freight Train</td>\n",
       "      <td>Chas McDevitt</td>\n",
       "      <td>rock</td>\n",
       "      <td>Moscow</td>\n",
       "      <td>21:43:59</td>\n",
       "      <td>Friday</td>\n",
       "    </tr>\n",
       "    <tr>\n",
       "      <th>61252</th>\n",
       "      <td>3A64EF84</td>\n",
       "      <td>Tell Me Sweet Little Lies</td>\n",
       "      <td>Monica Lopez</td>\n",
       "      <td>country</td>\n",
       "      <td>Moscow</td>\n",
       "      <td>21:59:46</td>\n",
       "      <td>Friday</td>\n",
       "    </tr>\n",
       "  </tbody>\n",
       "</table>\n",
       "<p>42741 rows × 7 columns</p>\n",
       "</div>"
      ],
      "text/plain": [
       "        user_id                          track                   artist  \\\n",
       "1      55204538    Delayed Because of Accident         Andreas Rönnberg   \n",
       "4      E2DC1FAE                    Soul People               Space Echo   \n",
       "6      4CB90AA5                           True             Roman Messer   \n",
       "7      F03E1C1F               Feeling This Way          Polina Griffith   \n",
       "8      8FA1D3BE       И вновь продолжается бой                  unknown   \n",
       "...         ...                            ...                      ...   \n",
       "61247  83A474E7  I Worship Only What You Bleed  The Black Dahlia Murder   \n",
       "61248  729CBB09                        My Name                   McLean   \n",
       "61250  C5E3A0D5                      Jalopiina                  unknown   \n",
       "61251  321D0506                  Freight Train            Chas McDevitt   \n",
       "61252  3A64EF84      Tell Me Sweet Little Lies             Monica Lopez   \n",
       "\n",
       "              genre    city      time        day  \n",
       "1              rock  Moscow  14:07:09     Friday  \n",
       "4             dance  Moscow  08:34:34     Monday  \n",
       "6             dance  Moscow  13:00:07  Wednesday  \n",
       "7             dance  Moscow  20:47:49  Wednesday  \n",
       "8            ruspop  Moscow  09:17:40     Friday  \n",
       "...             ...     ...       ...        ...  \n",
       "61247  extrememetal  Moscow  21:07:12     Monday  \n",
       "61248           rnb  Moscow  13:32:28  Wednesday  \n",
       "61250    industrial  Moscow  20:09:26     Friday  \n",
       "61251          rock  Moscow  21:43:59     Friday  \n",
       "61252       country  Moscow  21:59:46     Friday  \n",
       "\n",
       "[42741 rows x 7 columns]"
      ]
     },
     "execution_count": 29,
     "metadata": {},
     "output_type": "execute_result"
    }
   ],
   "source": [
    "# получение таблицы moscow_general из тех строк таблицы df, \n",
    "# для которых значение в столбце 'city' равно 'Moscow'\n",
    "\n",
    "# а вот это я и делал\n",
    "# df_msk и df_spb\n",
    "# что ж. переименую готовые датасеты\n",
    "\n",
    "moscow_general = df_msk\n",
    "\n",
    "moscow_general\n"
   ]
  },
  {
   "cell_type": "code",
   "execution_count": 30,
   "metadata": {
    "id": "ORaVRKto_Zcu"
   },
   "outputs": [
    {
     "data": {
      "text/html": [
       "<div>\n",
       "<style scoped>\n",
       "    .dataframe tbody tr th:only-of-type {\n",
       "        vertical-align: middle;\n",
       "    }\n",
       "\n",
       "    .dataframe tbody tr th {\n",
       "        vertical-align: top;\n",
       "    }\n",
       "\n",
       "    .dataframe thead th {\n",
       "        text-align: right;\n",
       "    }\n",
       "</style>\n",
       "<table border=\"1\" class=\"dataframe\">\n",
       "  <thead>\n",
       "    <tr style=\"text-align: right;\">\n",
       "      <th></th>\n",
       "      <th>user_id</th>\n",
       "      <th>track</th>\n",
       "      <th>artist</th>\n",
       "      <th>genre</th>\n",
       "      <th>city</th>\n",
       "      <th>time</th>\n",
       "      <th>day</th>\n",
       "    </tr>\n",
       "  </thead>\n",
       "  <tbody>\n",
       "    <tr>\n",
       "      <th>0</th>\n",
       "      <td>FFB692EC</td>\n",
       "      <td>Kamigata To Boots</td>\n",
       "      <td>The Mass Missile</td>\n",
       "      <td>rock</td>\n",
       "      <td>Saint-Petersburg</td>\n",
       "      <td>20:28:33</td>\n",
       "      <td>Wednesday</td>\n",
       "    </tr>\n",
       "    <tr>\n",
       "      <th>2</th>\n",
       "      <td>20EC38</td>\n",
       "      <td>Funiculì funiculà</td>\n",
       "      <td>Mario Lanza</td>\n",
       "      <td>pop</td>\n",
       "      <td>Saint-Petersburg</td>\n",
       "      <td>20:58:07</td>\n",
       "      <td>Wednesday</td>\n",
       "    </tr>\n",
       "    <tr>\n",
       "      <th>3</th>\n",
       "      <td>A3DD03C9</td>\n",
       "      <td>Dragons in the Sunset</td>\n",
       "      <td>Fire + Ice</td>\n",
       "      <td>folk</td>\n",
       "      <td>Saint-Petersburg</td>\n",
       "      <td>08:37:09</td>\n",
       "      <td>Monday</td>\n",
       "    </tr>\n",
       "    <tr>\n",
       "      <th>5</th>\n",
       "      <td>842029A1</td>\n",
       "      <td>Преданная</td>\n",
       "      <td>IMPERVTOR</td>\n",
       "      <td>rusrap</td>\n",
       "      <td>Saint-Petersburg</td>\n",
       "      <td>13:09:41</td>\n",
       "      <td>Friday</td>\n",
       "    </tr>\n",
       "    <tr>\n",
       "      <th>9</th>\n",
       "      <td>E772D5C0</td>\n",
       "      <td>Pessimist</td>\n",
       "      <td>unknown</td>\n",
       "      <td>dance</td>\n",
       "      <td>Saint-Petersburg</td>\n",
       "      <td>21:20:49</td>\n",
       "      <td>Wednesday</td>\n",
       "    </tr>\n",
       "    <tr>\n",
       "      <th>...</th>\n",
       "      <td>...</td>\n",
       "      <td>...</td>\n",
       "      <td>...</td>\n",
       "      <td>...</td>\n",
       "      <td>...</td>\n",
       "      <td>...</td>\n",
       "      <td>...</td>\n",
       "    </tr>\n",
       "    <tr>\n",
       "      <th>61239</th>\n",
       "      <td>D94F810B</td>\n",
       "      <td>Theme from the Walking Dead</td>\n",
       "      <td>Proyecto Halloween</td>\n",
       "      <td>film</td>\n",
       "      <td>Saint-Petersburg</td>\n",
       "      <td>21:14:40</td>\n",
       "      <td>Monday</td>\n",
       "    </tr>\n",
       "    <tr>\n",
       "      <th>61240</th>\n",
       "      <td>BC8EC5CF</td>\n",
       "      <td>Red Lips: Gta (Rover Rework)</td>\n",
       "      <td>Rover</td>\n",
       "      <td>electronic</td>\n",
       "      <td>Saint-Petersburg</td>\n",
       "      <td>21:06:50</td>\n",
       "      <td>Monday</td>\n",
       "    </tr>\n",
       "    <tr>\n",
       "      <th>61241</th>\n",
       "      <td>29E04611</td>\n",
       "      <td>Bre Petrunko</td>\n",
       "      <td>Perunika Trio</td>\n",
       "      <td>world</td>\n",
       "      <td>Saint-Petersburg</td>\n",
       "      <td>13:56:00</td>\n",
       "      <td>Monday</td>\n",
       "    </tr>\n",
       "    <tr>\n",
       "      <th>61242</th>\n",
       "      <td>1B91C621</td>\n",
       "      <td>(Hello) Cloud Mountain</td>\n",
       "      <td>sleepmakeswaves</td>\n",
       "      <td>postrock</td>\n",
       "      <td>Saint-Petersburg</td>\n",
       "      <td>09:22:13</td>\n",
       "      <td>Monday</td>\n",
       "    </tr>\n",
       "    <tr>\n",
       "      <th>61249</th>\n",
       "      <td>D08D4A55</td>\n",
       "      <td>Maybe One Day (feat. Black Spade)</td>\n",
       "      <td>Blu &amp; Exile</td>\n",
       "      <td>hiphop</td>\n",
       "      <td>Saint-Petersburg</td>\n",
       "      <td>10:00:00</td>\n",
       "      <td>Monday</td>\n",
       "    </tr>\n",
       "  </tbody>\n",
       "</table>\n",
       "<p>18512 rows × 7 columns</p>\n",
       "</div>"
      ],
      "text/plain": [
       "        user_id                              track              artist  \\\n",
       "0      FFB692EC                  Kamigata To Boots    The Mass Missile   \n",
       "2        20EC38                  Funiculì funiculà         Mario Lanza   \n",
       "3      A3DD03C9              Dragons in the Sunset          Fire + Ice   \n",
       "5      842029A1                          Преданная           IMPERVTOR   \n",
       "9      E772D5C0                          Pessimist             unknown   \n",
       "...         ...                                ...                 ...   \n",
       "61239  D94F810B        Theme from the Walking Dead  Proyecto Halloween   \n",
       "61240  BC8EC5CF       Red Lips: Gta (Rover Rework)               Rover   \n",
       "61241  29E04611                       Bre Petrunko       Perunika Trio   \n",
       "61242  1B91C621             (Hello) Cloud Mountain     sleepmakeswaves   \n",
       "61249  D08D4A55  Maybe One Day (feat. Black Spade)         Blu & Exile   \n",
       "\n",
       "            genre              city      time        day  \n",
       "0            rock  Saint-Petersburg  20:28:33  Wednesday  \n",
       "2             pop  Saint-Petersburg  20:58:07  Wednesday  \n",
       "3            folk  Saint-Petersburg  08:37:09     Monday  \n",
       "5          rusrap  Saint-Petersburg  13:09:41     Friday  \n",
       "9           dance  Saint-Petersburg  21:20:49  Wednesday  \n",
       "...           ...               ...       ...        ...  \n",
       "61239        film  Saint-Petersburg  21:14:40     Monday  \n",
       "61240  electronic  Saint-Petersburg  21:06:50     Monday  \n",
       "61241       world  Saint-Petersburg  13:56:00     Monday  \n",
       "61242    postrock  Saint-Petersburg  09:22:13     Monday  \n",
       "61249      hiphop  Saint-Petersburg  10:00:00     Monday  \n",
       "\n",
       "[18512 rows x 7 columns]"
      ]
     },
     "execution_count": 30,
     "metadata": {},
     "output_type": "execute_result"
    }
   ],
   "source": [
    "# получение таблицы spb_general из тех строк таблицы df,\n",
    "# для которых значение в столбце 'city' равно 'Saint-Petersburg'\n",
    "spb_general = df_spb\n",
    "spb_general"
   ]
  },
  {
   "cell_type": "markdown",
   "metadata": {
    "id": "MEJV-CX2_Zcu"
   },
   "source": [
    "Создадим функцию `genre_weekday()` с четырьмя параметрами:\n",
    "* таблица (датафрейм) с данными,\n",
    "* день недели,\n",
    "* начальная временная метка в формате 'hh:mm', \n",
    "* последняя временная метка в формате 'hh:mm'.\n",
    "\n",
    "Функция должна вернуть информацию о топ-10 жанров тех треков, которые прослушивали в указанный день, в промежутке между двумя отметками времени."
   ]
  },
  {
   "cell_type": "code",
   "execution_count": 31,
   "metadata": {
    "id": "laJT9BYl_Zcu"
   },
   "outputs": [],
   "source": [
    "# Объявление функции genre_weekday() с параметрами table, day, time1, time2,\n",
    "# которая возвращает информацию о самых популярных жанрах в указанный день в\n",
    "# заданное время:\n",
    "def genre_weekday(table, day, time1, time2):\n",
    "    \n",
    "# 1) в переменную genre_df сохраняются те строки переданного датафрейма table, для\n",
    "#    которых одновременно:\n",
    "#    - значение в столбце day равно значению аргумента day\n",
    "#    - значение в столбце time больше значения аргумента time1\n",
    "#    - значение в столбце time меньше значения аргумента time2\n",
    "#    Используем последовательную фильтрацию с помощью логической индексации.\n",
    "    genre_df = table[table['day'] == day]\n",
    "    genre_df = genre_df[genre_df['time'] > time1]\n",
    "    genre_df = genre_df[genre_df['time'] < time2]\n",
    "    \n",
    "\n",
    "# 2) сгруппируем датафрейм genre_df по столбцу genre, взяв один из его\n",
    "#    столбцов и посчитаем методом count() количество записей для каждого из\n",
    "#    присутствующих жанров, получившийся Series запишем в переменную\n",
    "#    genre_df_count\n",
    "    genre_df_count = genre_df.groupby('genre')['time'].count()\n",
    "\n",
    "# 3) отсортируем genre_df_count по убыванию встречаемости и сохраним\n",
    "#    в переменную genre_df_sorted\n",
    "    genre_df_sorted = genre_df_count.sort_values(ascending=False)\n",
    "\n",
    "# 4) вернём Series из 10 первых значений genre_df_sorted, это будут топ-10\n",
    "#    популярных жанров (в указанный день, в заданное время)\n",
    "    return genre_df_sorted [:10]\n"
   ]
  },
  {
   "cell_type": "markdown",
   "metadata": {
    "id": "la2s2_PF_Zcu"
   },
   "source": [
    "Cравним результаты функции `genre_weekday()` для Москвы и Санкт-Петербурга в понедельник утром (с 7:00 до 11:00) и в пятницу вечером (с 17:00 до 23:00):"
   ]
  },
  {
   "cell_type": "code",
   "execution_count": 32,
   "metadata": {
    "id": "yz7itPUQ_Zcu"
   },
   "outputs": [
    {
     "data": {
      "text/plain": [
       "genre\n",
       "pop            781\n",
       "dance          549\n",
       "electronic     480\n",
       "rock           474\n",
       "hiphop         286\n",
       "ruspop         186\n",
       "world          181\n",
       "rusrap         175\n",
       "alternative    164\n",
       "unknown        161\n",
       "Name: time, dtype: int64"
      ]
     },
     "execution_count": 32,
     "metadata": {},
     "output_type": "execute_result"
    }
   ],
   "source": [
    "# вызов функции для утра понедельника в Москве (вместо df — таблица moscow_general)\n",
    "# объекты, хранящие время, являются строками и сравниваются как строки\n",
    "# пример вызова: genre_weekday(moscow_general, 'Monday', '07:00', '11:00')\n",
    "genre_weekday(moscow_general, 'Monday','07:00', '11:00')"
   ]
  },
  {
   "cell_type": "code",
   "execution_count": 33,
   "metadata": {
    "id": "kwUcHPdy_Zcu"
   },
   "outputs": [
    {
     "data": {
      "text/plain": [
       "genre\n",
       "pop            218\n",
       "dance          182\n",
       "rock           162\n",
       "electronic     147\n",
       "hiphop          80\n",
       "ruspop          64\n",
       "alternative     58\n",
       "rusrap          55\n",
       "jazz            44\n",
       "classical       40\n",
       "Name: time, dtype: int64"
      ]
     },
     "execution_count": 33,
     "metadata": {},
     "output_type": "execute_result"
    }
   ],
   "source": [
    "# вызов функции для утра понедельника в Петербурге (вместо df — таблица spb_general)\n",
    "genre_weekday(spb_general, 'Monday', '07:00', '11:00')"
   ]
  },
  {
   "cell_type": "code",
   "execution_count": 34,
   "metadata": {
    "id": "EzXVRE1o_Zcu"
   },
   "outputs": [
    {
     "data": {
      "text/plain": [
       "genre\n",
       "pop            713\n",
       "rock           517\n",
       "dance          495\n",
       "electronic     482\n",
       "hiphop         273\n",
       "world          208\n",
       "ruspop         170\n",
       "alternative    163\n",
       "classical      163\n",
       "rusrap         142\n",
       "Name: time, dtype: int64"
      ]
     },
     "execution_count": 34,
     "metadata": {},
     "output_type": "execute_result"
    }
   ],
   "source": [
    "# вызов функции для вечера пятницы в Москве\n",
    "genre_weekday(moscow_general, 'Friday', '17:00', '23:00')"
   ]
  },
  {
   "cell_type": "code",
   "execution_count": 35,
   "metadata": {
    "id": "JZaEKu5v_Zcu"
   },
   "outputs": [
    {
     "data": {
      "text/plain": [
       "genre\n",
       "pop            256\n",
       "electronic     216\n",
       "rock           216\n",
       "dance          210\n",
       "hiphop          97\n",
       "alternative     63\n",
       "jazz            61\n",
       "classical       60\n",
       "rusrap          59\n",
       "world           54\n",
       "Name: time, dtype: int64"
      ]
     },
     "execution_count": 35,
     "metadata": {},
     "output_type": "execute_result"
    }
   ],
   "source": [
    "# вызов функции для вечера пятницы в Петербурге\n",
    "genre_weekday(spb_general, 'Friday', '17:00', '23:00')"
   ]
  },
  {
   "cell_type": "markdown",
   "metadata": {
    "id": "wrCe4MNX_Zcu"
   },
   "source": [
    "**Выводы**\n",
    "\n",
    "Если сравнить топ-10 жанров в понедельник утром, можно сделать такие выводы:\n",
    "\n",
    "1. В Москве и Петербурге слушают похожую музыку. Единственное отличие — в московский рейтинг вошёл жанр “world”, а в петербургский — джаз и классика.\n",
    "\n",
    "2. В Москве пропущенных значений оказалось так много, что значение `'unknown'` заняло десятое место среди самых популярных жанров. Значит, пропущенные значения занимают существенную долю в данных и угрожают достоверности исследования.\n",
    "\n",
    "Вечер пятницы не меняет эту картину. Некоторые жанры поднимаются немного выше, другие спускаются, но в целом топ-10 остаётся тем же самым.\n",
    "\n",
    "Таким образом, вторая гипотеза подтвердилась лишь частично:\n",
    "* Пользователи слушают похожую музыку в начале недели и в конце.\n",
    "* Разница между Москвой и Петербургом не слишком выражена. В Москве чаще слушают русскую популярную музыку, в Петербурге — джаз.\n",
    "\n",
    "Однако пропуски в данных ставят под сомнение этот результат. В Москве их так много, что рейтинг топ-10 мог бы выглядеть иначе, если бы не утерянные  данные о жанрах."
   ]
  },
  {
   "cell_type": "markdown",
   "metadata": {
    "id": "JolODAqr_Zcu"
   },
   "source": [
    "### Жанровые предпочтения в Москве и Петербурге\n",
    "\n",
    "Гипотеза: Петербург — столица рэпа, музыку этого жанра там слушают чаще, чем в Москве.  \n",
    "А Москва — город контрастов, в котором, тем не менее, преобладает поп-музыка."
   ]
  },
  {
   "cell_type": "markdown",
   "metadata": {
    "id": "DlegSvaT_Zcu"
   },
   "source": [
    "Сгруппируем таблицу `moscow_general` по жанру и посчитаем прослушивания треков каждого жанра методом `count()`. Затем отсортируем результат в порядке убывания и сохраним его в таблице `moscow_genres`."
   ]
  },
  {
   "cell_type": "code",
   "execution_count": 36,
   "metadata": {
    "id": "r19lIPke_Zcu"
   },
   "outputs": [],
   "source": [
    "# одной строкой: группировка таблицы moscow_general по столбцу 'genre', \n",
    "\n",
    "# подсчёт числа значений 'genre' в этой группировке методом count(), \n",
    "moscow_genres = moscow_general.groupby('genre')['time'].count()\n",
    "\n",
    "# сортировка получившегося Series в порядке убывания и сохранение в moscow_genres\n",
    "moscow_genres = moscow_genres.sort_values(ascending=False)\n"
   ]
  },
  {
   "cell_type": "markdown",
   "metadata": {
    "id": "6kMuomxTiIr8"
   },
   "source": [
    "Выведем на экран первые десять строк `moscow_genres`:"
   ]
  },
  {
   "cell_type": "code",
   "execution_count": 37,
   "metadata": {
    "id": "WhCSooF8_Zcv"
   },
   "outputs": [
    {
     "data": {
      "text/plain": [
       "genre\n",
       "pop            5892\n",
       "dance          4435\n",
       "rock           3965\n",
       "electronic     3786\n",
       "hiphop         2096\n",
       "classical      1616\n",
       "world          1432\n",
       "alternative    1379\n",
       "ruspop         1372\n",
       "rusrap         1161\n",
       "Name: time, dtype: int64"
      ]
     },
     "execution_count": 37,
     "metadata": {},
     "output_type": "execute_result"
    }
   ],
   "source": [
    "# просмотр первых 10 строк moscow_genres\n",
    "moscow_genres[:10]"
   ]
  },
  {
   "cell_type": "markdown",
   "metadata": {
    "id": "cnPG2vnN_Zcv"
   },
   "source": [
    "Теперь повторим то же и для Петербурга.\n",
    "\n",
    "Сгруппируем таблицу `spb_general` по жанру. Посчитаем прослушивания треков каждого жанра. Результат отсортируем в порядке убывания и сохраним в таблице `spb_genres`:\n"
   ]
  },
  {
   "cell_type": "code",
   "execution_count": 38,
   "metadata": {
    "id": "gluLIpE7_Zcv"
   },
   "outputs": [],
   "source": [
    "# одной строкой: группировка таблицы spb_general по столбцу 'genre', \n",
    "# подсчёт числа значений 'genre' в этой группировке методом count(), \n",
    "spb_genres = spb_general.groupby('genre')['time'].count()\n",
    "\n",
    "# сортировка получившегося Series в порядке убывания и сохранение в spb_genres\n",
    "spb_genres = spb_genres.sort_values(ascending=False)"
   ]
  },
  {
   "cell_type": "markdown",
   "metadata": {
    "id": "5Doha_ODgyQ8"
   },
   "source": [
    "Выведем на экран первые десять строк `spb_genres`:"
   ]
  },
  {
   "cell_type": "code",
   "execution_count": 39,
   "metadata": {
    "id": "uaGJHjVU_Zcv"
   },
   "outputs": [
    {
     "data": {
      "text/plain": [
       "genre\n",
       "pop            2431\n",
       "dance          1932\n",
       "rock           1879\n",
       "electronic     1737\n",
       "hiphop          960\n",
       "alternative     649\n",
       "classical       646\n",
       "rusrap          564\n",
       "ruspop          538\n",
       "world           515\n",
       "Name: time, dtype: int64"
      ]
     },
     "execution_count": 39,
     "metadata": {},
     "output_type": "execute_result"
    }
   ],
   "source": [
    "# просмотр первых 10 строк spb_genres\n",
    "spb_genres[:10]"
   ]
  },
  {
   "cell_type": "markdown",
   "metadata": {
    "id": "RY51YJYu_Zcv"
   },
   "source": [
    "**Выводы**"
   ]
  },
  {
   "cell_type": "markdown",
   "metadata": {
    "id": "nVhnJEm__Zcv"
   },
   "source": [
    "Гипотеза частично подтвердилась:\n",
    "* Поп-музыка — самый популярный жанр в Москве, как и предполагала гипотеза. Более того, в топ-10 жанров встречается близкий жанр — русская популярная музыка.\n",
    "* Вопреки ожиданиям, рэп одинаково популярен в Москве и Петербурге. \n"
   ]
  },
  {
   "cell_type": "markdown",
   "metadata": {
    "id": "ykKQ0N65_Zcv"
   },
   "source": [
    "## Итоги исследования"
   ]
  },
  {
   "cell_type": "markdown",
   "metadata": {
    "id": "tjUwbHb3_Zcv"
   },
   "source": [
    "Вы проверили три гипотезы и установили:\n",
    "\n",
    "1. День недели по-разному влияет на активность пользователей в Москве и Петербурге. \n",
    "\n",
    "Первая гипотеза полностью подтвердилась.\n",
    "\n",
    "2. Музыкальные предпочтения не сильно меняются в течение недели — будь то Москва или Петербург. Небольшие различия заметны в начале недели, по понедельникам:\n",
    "* в Москве слушают музыку жанра “world”,\n",
    "* в Петербурге — джаз и классику.\n",
    "\n",
    "Таким образом, вторая гипотеза подтвердилась лишь отчасти. Этот результат мог оказаться иным, если бы не пропуски в данных.\n",
    "\n",
    "3. Во вкусах пользователей Москвы и Петербурга больше общего, чем различий. Вопреки ожиданиям, предпочтения жанров в Петербурге напоминают московские.\n",
    "\n",
    "Третья гипотеза не подтвердилась. Если различия в предпочтениях и существуют, на основной массе пользователей они незаметны.\n",
    "\n",
    "**На практике исследования содержат проверки статистических гипотез.**\n",
    "Из данных одного сервиса не всегда можно сделать вывод о всех жителях города.\n",
    "Проверки статистических гипотез покажут, насколько они достоверны, исходя из имеющихся данных. \n",
    "С методами проверок гипотез вы ещё познакомитесь в следующих темах."
   ]
  }
 ],
 "metadata": {
  "ExecuteTimeLog": [
   {
    "duration": 194,
    "start_time": "2021-11-24T13:48:22.714Z"
   },
   {
    "duration": 810,
    "start_time": "2021-11-24T13:48:40.333Z"
   },
   {
    "duration": 201,
    "start_time": "2021-11-24T13:49:35.332Z"
   },
   {
    "duration": 221,
    "start_time": "2021-11-24T13:49:39.441Z"
   },
   {
    "duration": 39,
    "start_time": "2021-11-24T13:50:19.946Z"
   },
   {
    "duration": 49,
    "start_time": "2021-11-24T13:51:52.952Z"
   },
   {
    "duration": 522,
    "start_time": "2021-11-24T13:58:58.312Z"
   },
   {
    "duration": 108,
    "start_time": "2021-11-24T13:59:25.745Z"
   },
   {
    "duration": 1127,
    "start_time": "2021-11-24T14:02:26.705Z"
   },
   {
    "duration": 6,
    "start_time": "2021-11-24T14:02:34.492Z"
   },
   {
    "duration": 114,
    "start_time": "2021-11-24T14:05:21.681Z"
   },
   {
    "duration": 30,
    "start_time": "2021-11-24T14:06:08.033Z"
   },
   {
    "duration": 7,
    "start_time": "2021-11-24T14:06:22.314Z"
   },
   {
    "duration": 378,
    "start_time": "2021-11-24T14:08:06.345Z"
   },
   {
    "duration": 509,
    "start_time": "2021-11-24T14:09:50.749Z"
   },
   {
    "duration": 34,
    "start_time": "2021-11-24T14:10:26.153Z"
   },
   {
    "duration": 59,
    "start_time": "2021-11-24T14:11:48.485Z"
   },
   {
    "duration": 120,
    "start_time": "2021-11-24T15:01:35.034Z"
   },
   {
    "duration": 24,
    "start_time": "2021-11-24T15:01:47.162Z"
   },
   {
    "duration": 91,
    "start_time": "2021-11-24T15:02:28.714Z"
   },
   {
    "duration": 51,
    "start_time": "2021-11-24T15:03:38.183Z"
   },
   {
    "duration": 129,
    "start_time": "2021-11-24T15:04:24.377Z"
   },
   {
    "duration": 102,
    "start_time": "2021-11-24T15:05:33.432Z"
   },
   {
    "duration": 91,
    "start_time": "2021-11-24T15:05:36.652Z"
   },
   {
    "duration": 78,
    "start_time": "2021-11-24T15:05:54.672Z"
   },
   {
    "duration": 14,
    "start_time": "2021-11-24T15:10:52.204Z"
   },
   {
    "duration": 133,
    "start_time": "2021-11-24T15:36:25.240Z"
   },
   {
    "duration": 4,
    "start_time": "2021-11-24T15:36:58.373Z"
   },
   {
    "duration": -1477,
    "start_time": "2021-11-24T15:39:54.666Z"
   },
   {
    "duration": 132,
    "start_time": "2021-11-24T15:39:57.312Z"
   },
   {
    "duration": 9073,
    "start_time": "2021-11-24T15:40:34.232Z"
   },
   {
    "duration": 5,
    "start_time": "2021-11-24T15:42:24.672Z"
   },
   {
    "duration": 710,
    "start_time": "2021-11-24T15:42:28.504Z"
   },
   {
    "duration": 4,
    "start_time": "2021-11-24T15:42:58.552Z"
   },
   {
    "duration": -1335,
    "start_time": "2021-11-24T15:43:12.679Z"
   },
   {
    "duration": 116,
    "start_time": "2021-11-24T15:45:05.980Z"
   },
   {
    "duration": 9498,
    "start_time": "2021-11-24T15:45:24.728Z"
   },
   {
    "duration": -1398,
    "start_time": "2021-11-24T15:45:49.746Z"
   },
   {
    "duration": 9656,
    "start_time": "2021-11-24T15:46:00.832Z"
   },
   {
    "duration": 9847,
    "start_time": "2021-11-24T15:47:32.412Z"
   },
   {
    "duration": 9479,
    "start_time": "2021-11-24T15:49:54.193Z"
   },
   {
    "duration": 7,
    "start_time": "2021-11-24T15:51:12.493Z"
   },
   {
    "duration": 8,
    "start_time": "2021-11-24T15:51:41.337Z"
   },
   {
    "duration": 19,
    "start_time": "2021-11-24T15:52:14.033Z"
   },
   {
    "duration": 4,
    "start_time": "2021-11-24T15:53:13.833Z"
   },
   {
    "duration": 4,
    "start_time": "2021-11-24T15:53:17.032Z"
   },
   {
    "duration": 10,
    "start_time": "2021-11-24T15:53:57.193Z"
   },
   {
    "duration": 10,
    "start_time": "2021-11-24T15:53:59.365Z"
   },
   {
    "duration": 387,
    "start_time": "2021-11-24T15:58:24.422Z"
   },
   {
    "duration": 37,
    "start_time": "2021-11-24T15:58:58.894Z"
   },
   {
    "duration": 15,
    "start_time": "2021-11-24T15:59:53.644Z"
   },
   {
    "duration": 9049,
    "start_time": "2021-11-24T16:17:54.412Z"
   },
   {
    "duration": 850,
    "start_time": "2021-11-24T16:21:56.072Z"
   },
   {
    "duration": 716,
    "start_time": "2021-11-24T16:22:04.393Z"
   },
   {
    "duration": 15,
    "start_time": "2021-11-24T16:26:00.053Z"
   },
   {
    "duration": 949,
    "start_time": "2021-11-24T16:30:26.785Z"
   },
   {
    "duration": 386,
    "start_time": "2021-11-24T16:32:32.413Z"
   },
   {
    "duration": 373,
    "start_time": "2021-11-24T16:32:34.801Z"
   },
   {
    "duration": 381,
    "start_time": "2021-11-24T16:37:17.592Z"
   },
   {
    "duration": 29,
    "start_time": "2021-11-24T16:46:42.812Z"
   },
   {
    "duration": 29,
    "start_time": "2021-11-24T16:46:45.672Z"
   },
   {
    "duration": 118,
    "start_time": "2021-11-24T16:47:09.032Z"
   },
   {
    "duration": 122,
    "start_time": "2021-11-24T16:47:27.593Z"
   },
   {
    "duration": 41,
    "start_time": "2021-11-24T16:48:10.173Z"
   },
   {
    "duration": 58,
    "start_time": "2021-11-24T16:50:06.553Z"
   },
   {
    "duration": 62,
    "start_time": "2021-11-24T16:52:42.473Z"
   },
   {
    "duration": 54,
    "start_time": "2021-11-24T16:55:32.801Z"
   },
   {
    "duration": 57,
    "start_time": "2021-11-24T16:57:15.960Z"
   },
   {
    "duration": 455,
    "start_time": "2021-11-24T16:58:55.673Z"
   },
   {
    "duration": 11,
    "start_time": "2021-11-24T16:59:14.500Z"
   },
   {
    "duration": 48,
    "start_time": "2021-11-24T17:06:59.441Z"
   },
   {
    "duration": 3,
    "start_time": "2021-11-24T17:24:55.785Z"
   },
   {
    "duration": 172,
    "start_time": "2021-11-24T17:29:43.203Z"
   },
   {
    "duration": 5,
    "start_time": "2021-11-24T17:31:35.752Z"
   },
   {
    "duration": 630,
    "start_time": "2021-11-24T17:32:27.143Z"
   },
   {
    "duration": 34,
    "start_time": "2021-11-24T17:36:33.389Z"
   },
   {
    "duration": 24,
    "start_time": "2021-11-24T17:40:31.144Z"
   },
   {
    "duration": 6,
    "start_time": "2021-11-24T17:41:10.416Z"
   },
   {
    "duration": 23,
    "start_time": "2021-11-24T17:41:57.352Z"
   },
   {
    "duration": 20,
    "start_time": "2021-11-24T17:43:05.504Z"
   },
   {
    "duration": 21,
    "start_time": "2021-11-24T17:43:52.752Z"
   },
   {
    "duration": 19,
    "start_time": "2021-11-24T17:44:29.772Z"
   },
   {
    "duration": 21,
    "start_time": "2021-11-24T17:45:22.704Z"
   },
   {
    "duration": 20,
    "start_time": "2021-11-24T17:45:47.171Z"
   },
   {
    "duration": 22,
    "start_time": "2021-11-24T17:45:47.392Z"
   },
   {
    "duration": 464,
    "start_time": "2021-11-24T17:55:00.441Z"
   },
   {
    "duration": 431,
    "start_time": "2021-11-24T17:55:42.712Z"
   },
   {
    "duration": 435,
    "start_time": "2021-11-24T17:56:56.013Z"
   },
   {
    "duration": 463,
    "start_time": "2021-11-24T17:57:49.360Z"
   },
   {
    "duration": 461,
    "start_time": "2021-11-24T17:59:03.332Z"
   },
   {
    "duration": 128,
    "start_time": "2021-11-24T18:05:36.160Z"
   },
   {
    "duration": 134,
    "start_time": "2021-11-24T18:05:56.313Z"
   },
   {
    "duration": 102,
    "start_time": "2021-11-24T18:06:45.660Z"
   },
   {
    "duration": 97,
    "start_time": "2021-11-24T18:07:25.672Z"
   },
   {
    "duration": 96,
    "start_time": "2021-11-24T18:07:48.841Z"
   },
   {
    "duration": 4,
    "start_time": "2021-11-24T18:25:42.153Z"
   },
   {
    "duration": 3,
    "start_time": "2021-11-24T18:25:44.554Z"
   },
   {
    "duration": 19,
    "start_time": "2021-11-24T18:25:51.305Z"
   },
   {
    "duration": 19,
    "start_time": "2021-11-24T18:26:04.405Z"
   },
   {
    "duration": 8,
    "start_time": "2021-11-24T18:40:29.742Z"
   },
   {
    "duration": 356,
    "start_time": "2021-11-24T18:49:11.292Z"
   },
   {
    "duration": 716,
    "start_time": "2021-11-24T18:51:05.553Z"
   },
   {
    "duration": 697,
    "start_time": "2021-11-24T18:53:40.473Z"
   },
   {
    "duration": 716,
    "start_time": "2021-11-24T18:54:19.132Z"
   },
   {
    "duration": 7,
    "start_time": "2021-11-24T18:54:46.741Z"
   },
   {
    "duration": 709,
    "start_time": "2021-11-24T18:54:51.751Z"
   },
   {
    "duration": 5,
    "start_time": "2021-11-24T18:57:55.220Z"
   },
   {
    "duration": 712,
    "start_time": "2021-11-24T18:57:59.300Z"
   },
   {
    "duration": 5,
    "start_time": "2021-11-24T18:58:54.482Z"
   },
   {
    "duration": 23,
    "start_time": "2021-11-24T18:58:58.251Z"
   },
   {
    "duration": 15,
    "start_time": "2021-11-24T18:59:05.643Z"
   },
   {
    "duration": 21,
    "start_time": "2021-11-24T18:59:09.349Z"
   },
   {
    "duration": 17,
    "start_time": "2021-11-24T18:59:12.752Z"
   },
   {
    "duration": 6,
    "start_time": "2021-11-24T18:59:56.813Z"
   },
   {
    "duration": 25,
    "start_time": "2021-11-24T19:00:01.624Z"
   },
   {
    "duration": 6,
    "start_time": "2021-11-24T19:01:06.714Z"
   },
   {
    "duration": 26,
    "start_time": "2021-11-24T19:01:09.831Z"
   },
   {
    "duration": 117,
    "start_time": "2021-11-24T19:06:34.476Z"
   },
   {
    "duration": 24,
    "start_time": "2021-11-24T19:06:38.328Z"
   },
   {
    "duration": 5,
    "start_time": "2021-11-24T19:07:08.035Z"
   },
   {
    "duration": 799,
    "start_time": "2021-11-24T19:07:13.267Z"
   },
   {
    "duration": 6,
    "start_time": "2021-11-24T19:08:26.596Z"
   },
   {
    "duration": 707,
    "start_time": "2021-11-24T19:08:32.131Z"
   },
   {
    "duration": 6,
    "start_time": "2021-11-24T19:09:45.564Z"
   },
   {
    "duration": 719,
    "start_time": "2021-11-24T19:09:49.794Z"
   },
   {
    "duration": 6,
    "start_time": "2021-11-24T19:10:48.447Z"
   },
   {
    "duration": 724,
    "start_time": "2021-11-24T19:10:56.247Z"
   },
   {
    "duration": 8,
    "start_time": "2021-11-24T19:14:33.196Z"
   },
   {
    "duration": 698,
    "start_time": "2021-11-24T19:14:36.913Z"
   },
   {
    "duration": 6,
    "start_time": "2021-11-24T19:19:40.135Z"
   },
   {
    "duration": 701,
    "start_time": "2021-11-24T19:19:43.812Z"
   },
   {
    "duration": 6,
    "start_time": "2021-11-24T19:23:49.362Z"
   },
   {
    "duration": 26,
    "start_time": "2021-11-24T19:23:52.432Z"
   },
   {
    "duration": 6,
    "start_time": "2021-11-24T19:25:57.503Z"
   },
   {
    "duration": 25,
    "start_time": "2021-11-24T19:26:01.640Z"
   },
   {
    "duration": 18,
    "start_time": "2021-11-24T19:26:06.312Z"
   },
   {
    "duration": 23,
    "start_time": "2021-11-24T19:26:10.513Z"
   },
   {
    "duration": 17,
    "start_time": "2021-11-24T19:26:14.080Z"
   },
   {
    "duration": 6,
    "start_time": "2021-11-24T19:30:44.691Z"
   },
   {
    "duration": 25,
    "start_time": "2021-11-24T19:30:48.873Z"
   },
   {
    "duration": 19,
    "start_time": "2021-11-24T19:30:53.500Z"
   },
   {
    "duration": 25,
    "start_time": "2021-11-24T19:30:57.104Z"
   },
   {
    "duration": 22,
    "start_time": "2021-11-24T19:31:01.121Z"
   },
   {
    "duration": 12,
    "start_time": "2021-11-24T19:43:27.836Z"
   },
   {
    "duration": 6,
    "start_time": "2021-11-24T19:43:30.692Z"
   },
   {
    "duration": 9,
    "start_time": "2021-11-24T19:44:37.452Z"
   },
   {
    "duration": 7,
    "start_time": "2021-11-24T19:44:49.643Z"
   },
   {
    "duration": 935,
    "start_time": "2021-11-25T05:14:11.096Z"
   },
   {
    "duration": 140,
    "start_time": "2021-11-25T05:14:12.033Z"
   },
   {
    "duration": 17,
    "start_time": "2021-11-25T05:14:12.177Z"
   },
   {
    "duration": 24,
    "start_time": "2021-11-25T05:14:12.207Z"
   },
   {
    "duration": 11,
    "start_time": "2021-11-25T05:14:12.232Z"
   },
   {
    "duration": 32,
    "start_time": "2021-11-25T05:14:12.244Z"
   },
   {
    "duration": 4,
    "start_time": "2021-11-25T05:14:12.279Z"
   },
   {
    "duration": 35,
    "start_time": "2021-11-25T05:14:12.286Z"
   },
   {
    "duration": 37,
    "start_time": "2021-11-25T05:14:12.323Z"
   },
   {
    "duration": 22,
    "start_time": "2021-11-25T05:14:12.361Z"
   },
   {
    "duration": 73,
    "start_time": "2021-11-25T05:14:12.385Z"
   },
   {
    "duration": 92,
    "start_time": "2021-11-25T05:14:12.460Z"
   },
   {
    "duration": 70,
    "start_time": "2021-11-25T05:14:12.554Z"
   },
   {
    "duration": 9,
    "start_time": "2021-11-25T05:14:12.626Z"
   },
   {
    "duration": 3,
    "start_time": "2021-11-25T05:14:12.637Z"
   },
   {
    "duration": 28,
    "start_time": "2021-11-25T05:14:12.641Z"
   },
   {
    "duration": 9,
    "start_time": "2021-11-25T05:14:12.670Z"
   },
   {
    "duration": 60,
    "start_time": "2021-11-25T05:14:12.681Z"
   },
   {
    "duration": 35,
    "start_time": "2021-11-25T05:14:12.742Z"
   },
   {
    "duration": 2,
    "start_time": "2021-11-25T05:14:12.779Z"
   },
   {
    "duration": 25,
    "start_time": "2021-11-25T05:14:12.782Z"
   },
   {
    "duration": 23,
    "start_time": "2021-11-25T05:14:12.810Z"
   },
   {
    "duration": 14,
    "start_time": "2021-11-25T05:14:12.835Z"
   },
   {
    "duration": 14,
    "start_time": "2021-11-25T05:14:12.850Z"
   },
   {
    "duration": 12,
    "start_time": "2021-11-25T05:14:12.865Z"
   },
   {
    "duration": 41,
    "start_time": "2021-11-25T05:14:12.879Z"
   },
   {
    "duration": 14,
    "start_time": "2021-11-25T05:14:12.921Z"
   },
   {
    "duration": 87,
    "start_time": "2021-11-25T05:14:12.937Z"
   },
   {
    "duration": 12,
    "start_time": "2021-11-25T05:14:13.025Z"
   },
   {
    "duration": 22,
    "start_time": "2021-11-25T05:14:13.038Z"
   },
   {
    "duration": 6,
    "start_time": "2021-11-25T05:14:13.063Z"
   },
   {
    "duration": 37,
    "start_time": "2021-11-25T05:14:13.070Z"
   },
   {
    "duration": 13,
    "start_time": "2021-11-25T05:14:13.109Z"
   },
   {
    "duration": 17,
    "start_time": "2021-11-25T05:14:13.124Z"
   },
   {
    "duration": 11,
    "start_time": "2021-11-25T05:14:13.142Z"
   },
   {
    "duration": 10,
    "start_time": "2021-11-25T05:14:13.154Z"
   },
   {
    "duration": 15,
    "start_time": "2021-11-25T05:14:13.165Z"
   },
   {
    "duration": 29,
    "start_time": "2021-11-25T05:14:13.181Z"
   },
   {
    "duration": 5,
    "start_time": "2021-11-25T05:14:13.212Z"
   },
   {
    "duration": 220,
    "start_time": "2021-11-25T07:12:59.799Z"
   },
   {
    "duration": 174,
    "start_time": "2021-11-25T07:13:35.739Z"
   },
   {
    "duration": 294,
    "start_time": "2021-11-25T07:14:02.343Z"
   },
   {
    "duration": 178,
    "start_time": "2021-11-25T07:14:05.119Z"
   },
   {
    "duration": 205,
    "start_time": "2021-11-25T07:14:10.411Z"
   },
   {
    "duration": 505,
    "start_time": "2021-11-25T07:14:31.947Z"
   },
   {
    "duration": 132,
    "start_time": "2021-11-25T07:14:32.454Z"
   },
   {
    "duration": 16,
    "start_time": "2021-11-25T07:14:32.588Z"
   },
   {
    "duration": 38,
    "start_time": "2021-11-25T07:14:32.606Z"
   },
   {
    "duration": 8,
    "start_time": "2021-11-25T07:14:32.646Z"
   },
   {
    "duration": 47,
    "start_time": "2021-11-25T07:14:32.655Z"
   },
   {
    "duration": 26,
    "start_time": "2021-11-25T07:14:32.704Z"
   },
   {
    "duration": 26,
    "start_time": "2021-11-25T07:14:32.731Z"
   },
   {
    "duration": 38,
    "start_time": "2021-11-25T07:14:32.760Z"
   },
   {
    "duration": 21,
    "start_time": "2021-11-25T07:14:32.800Z"
   },
   {
    "duration": 68,
    "start_time": "2021-11-25T07:14:32.823Z"
   },
   {
    "duration": 59,
    "start_time": "2021-11-25T07:14:32.893Z"
   },
   {
    "duration": 60,
    "start_time": "2021-11-25T07:14:32.954Z"
   },
   {
    "duration": 8,
    "start_time": "2021-11-25T07:14:33.016Z"
   },
   {
    "duration": 2,
    "start_time": "2021-11-25T07:14:33.026Z"
   },
   {
    "duration": 23,
    "start_time": "2021-11-25T07:14:33.030Z"
   },
   {
    "duration": 8,
    "start_time": "2021-11-25T07:14:33.054Z"
   },
   {
    "duration": 57,
    "start_time": "2021-11-25T07:14:33.063Z"
   },
   {
    "duration": 44,
    "start_time": "2021-11-25T07:14:33.122Z"
   },
   {
    "duration": 2,
    "start_time": "2021-11-25T07:14:33.167Z"
   },
   {
    "duration": 5,
    "start_time": "2021-11-25T07:14:33.192Z"
   },
   {
    "duration": 20,
    "start_time": "2021-11-25T07:14:33.198Z"
   },
   {
    "duration": 12,
    "start_time": "2021-11-25T07:14:33.219Z"
   },
   {
    "duration": 15,
    "start_time": "2021-11-25T07:14:33.232Z"
   },
   {
    "duration": 13,
    "start_time": "2021-11-25T07:14:33.248Z"
   },
   {
    "duration": 40,
    "start_time": "2021-11-25T07:14:33.262Z"
   },
   {
    "duration": 14,
    "start_time": "2021-11-25T07:14:33.304Z"
   },
   {
    "duration": 85,
    "start_time": "2021-11-25T07:14:33.320Z"
   },
   {
    "duration": 10,
    "start_time": "2021-11-25T07:14:33.407Z"
   },
   {
    "duration": 15,
    "start_time": "2021-11-25T07:14:33.419Z"
   },
   {
    "duration": 5,
    "start_time": "2021-11-25T07:14:33.435Z"
   },
   {
    "duration": 23,
    "start_time": "2021-11-25T07:14:33.441Z"
   },
   {
    "duration": 27,
    "start_time": "2021-11-25T07:14:33.465Z"
   },
   {
    "duration": 15,
    "start_time": "2021-11-25T07:14:33.494Z"
   },
   {
    "duration": 11,
    "start_time": "2021-11-25T07:14:33.510Z"
   },
   {
    "duration": 8,
    "start_time": "2021-11-25T07:14:33.522Z"
   },
   {
    "duration": 4,
    "start_time": "2021-11-25T07:14:33.532Z"
   },
   {
    "duration": 8,
    "start_time": "2021-11-25T07:14:33.537Z"
   },
   {
    "duration": 4,
    "start_time": "2021-11-25T07:14:33.546Z"
   },
   {
    "duration": 10,
    "start_time": "2021-11-25T07:15:15.858Z"
   },
   {
    "duration": 39,
    "start_time": "2021-11-25T07:19:52.480Z"
   },
   {
    "duration": 596,
    "start_time": "2021-11-25T17:58:45.669Z"
   },
   {
    "duration": 137,
    "start_time": "2021-11-25T17:58:46.267Z"
   },
   {
    "duration": 17,
    "start_time": "2021-11-25T17:58:46.407Z"
   },
   {
    "duration": 39,
    "start_time": "2021-11-25T17:58:46.426Z"
   },
   {
    "duration": 4,
    "start_time": "2021-11-25T17:58:46.467Z"
   },
   {
    "duration": 19,
    "start_time": "2021-11-25T17:58:46.473Z"
   },
   {
    "duration": 4,
    "start_time": "2021-11-25T17:58:46.493Z"
   },
   {
    "duration": 51,
    "start_time": "2021-11-25T17:58:46.498Z"
   },
   {
    "duration": 38,
    "start_time": "2021-11-25T17:58:46.552Z"
   },
   {
    "duration": 22,
    "start_time": "2021-11-25T17:58:46.592Z"
   },
   {
    "duration": 81,
    "start_time": "2021-11-25T17:58:46.615Z"
   },
   {
    "duration": 71,
    "start_time": "2021-11-25T17:58:46.698Z"
   },
   {
    "duration": 49,
    "start_time": "2021-11-25T17:58:46.771Z"
   },
   {
    "duration": 58,
    "start_time": "2021-11-25T17:58:46.822Z"
   },
   {
    "duration": 3,
    "start_time": "2021-11-25T17:58:46.881Z"
   },
   {
    "duration": 31,
    "start_time": "2021-11-25T17:58:46.886Z"
   },
   {
    "duration": 27,
    "start_time": "2021-11-25T17:58:46.919Z"
   },
   {
    "duration": 37,
    "start_time": "2021-11-25T17:58:46.948Z"
   },
   {
    "duration": 34,
    "start_time": "2021-11-25T17:58:46.987Z"
   },
   {
    "duration": 4,
    "start_time": "2021-11-25T17:58:47.044Z"
   },
   {
    "duration": 7,
    "start_time": "2021-11-25T17:58:47.050Z"
   },
   {
    "duration": 23,
    "start_time": "2021-11-25T17:58:47.059Z"
   },
   {
    "duration": 13,
    "start_time": "2021-11-25T17:58:47.083Z"
   },
   {
    "duration": 12,
    "start_time": "2021-11-25T17:58:47.098Z"
   },
   {
    "duration": 44,
    "start_time": "2021-11-25T17:58:47.112Z"
   },
   {
    "duration": 26,
    "start_time": "2021-11-25T17:58:47.158Z"
   },
   {
    "duration": 17,
    "start_time": "2021-11-25T17:58:47.188Z"
   },
   {
    "duration": 92,
    "start_time": "2021-11-25T17:58:47.207Z"
   },
   {
    "duration": 12,
    "start_time": "2021-11-25T17:58:47.300Z"
   },
   {
    "duration": 16,
    "start_time": "2021-11-25T17:58:47.313Z"
   },
   {
    "duration": 15,
    "start_time": "2021-11-25T17:58:47.331Z"
   },
   {
    "duration": 32,
    "start_time": "2021-11-25T17:58:47.348Z"
   },
   {
    "duration": 13,
    "start_time": "2021-11-25T17:58:47.382Z"
   },
   {
    "duration": 16,
    "start_time": "2021-11-25T17:58:47.397Z"
   },
   {
    "duration": 32,
    "start_time": "2021-11-25T17:58:47.415Z"
   },
   {
    "duration": 11,
    "start_time": "2021-11-25T17:58:47.452Z"
   },
   {
    "duration": 12,
    "start_time": "2021-11-25T17:58:47.465Z"
   },
   {
    "duration": 11,
    "start_time": "2021-11-25T17:58:47.479Z"
   },
   {
    "duration": 6,
    "start_time": "2021-11-25T17:58:47.492Z"
   }
  ],
  "colab": {
   "collapsed_sections": [
    "E0vqbgi9ay0H",
    "VUC88oWjTJw2"
   ],
   "name": "yandex_music_project_2021.2.ipynb",
   "provenance": []
  },
  "kernelspec": {
   "display_name": "Python 3 (ipykernel)",
   "language": "python",
   "name": "python3"
  },
  "language_info": {
   "codemirror_mode": {
    "name": "ipython",
    "version": 3
   },
   "file_extension": ".py",
   "mimetype": "text/x-python",
   "name": "python",
   "nbconvert_exporter": "python",
   "pygments_lexer": "ipython3",
   "version": "3.9.7"
  },
  "toc": {
   "base_numbering": 1,
   "nav_menu": {},
   "number_sections": true,
   "sideBar": true,
   "skip_h1_title": true,
   "title_cell": "Table of Contents",
   "title_sidebar": "Contents",
   "toc_cell": false,
   "toc_position": {
    "height": "calc(100% - 180px)",
    "left": "10px",
    "top": "150px",
    "width": "165px"
   },
   "toc_section_display": true,
   "toc_window_display": true
  }
 },
 "nbformat": 4,
 "nbformat_minor": 1
}
